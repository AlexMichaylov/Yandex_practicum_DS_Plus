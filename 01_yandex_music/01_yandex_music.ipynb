{
 "cells": [
  {
   "cell_type": "markdown",
   "metadata": {
    "deletable": false,
    "editable": false,
    "id": "E0vqbgi9ay0H",
    "pycharm": {
     "name": "#%% md\n"
    }
   },
   "source": [
    "# Яндекс Музыка"
   ]
  },
  {
   "cell_type": "markdown",
   "metadata": {
    "deletable": false,
    "editable": false,
    "id": "VUC88oWjTJw2",
    "pycharm": {
     "name": "#%% md\n"
    }
   },
   "source": [
    "Сравнение Москвы и Петербурга окружено мифами. Например:\n",
    " * Москва — мегаполис, подчинённый жёсткому ритму рабочей недели;\n",
    " * Петербург — культурная столица, со своими вкусами.\n",
    "\n",
    "На данных Яндекс Музыки вы сравните поведение пользователей двух столиц.\n",
    "\n",
    "**Цель исследования** — проверьте три гипотезы:\n",
    "1. Активность пользователей зависит от дня недели. Причём в Москве и Петербурге это проявляется по-разному.\n",
    "2. В понедельник утром в Москве преобладают одни жанры, а в Петербурге — другие. Так же и вечером пятницы преобладают разные жанры — в зависимости от города. \n",
    "3. Москва и Петербург предпочитают разные жанры музыки. В Москве чаще слушают поп-музыку, в Петербурге — русский рэп.\n",
    "\n",
    "**Ход исследования**\n",
    "\n",
    "Данные о поведении пользователей вы получите из файла `yandex_music_project.csv`. О качестве данных ничего не известно. Поэтому перед проверкой гипотез понадобится обзор данных. \n",
    "\n",
    "Вы проверите данные на ошибки и оцените их влияние на исследование. Затем, на этапе предобработки вы поищете возможность исправить самые критичные ошибки данных.\n",
    " \n",
    "Таким образом, исследование пройдёт в три этапа:\n",
    " 1. Обзор данных.\n",
    " 2. Предобработка данных.\n",
    " 3. Проверка гипотез.\n",
    "\n"
   ]
  },
  {
   "cell_type": "markdown",
   "metadata": {
    "deletable": false,
    "editable": false,
    "id": "Ml1hmfXC_Zcs",
    "pycharm": {
     "name": "#%% md\n"
    }
   },
   "source": [
    "## Обзор данных\n",
    "\n",
    "Составьте первое представление о данных Яндекс Музыки.\n",
    "\n",
    "\n"
   ]
  },
  {
   "cell_type": "markdown",
   "metadata": {
    "deletable": false,
    "editable": false,
    "id": "57eAOGIz_Zcs",
    "tags": [
     "start_task"
    ],
    "pycharm": {
     "name": "#%% md\n"
    }
   },
   "source": [
    "**Задание 1**\n",
    "\n",
    "Основной инструмент аналитика — `pandas`. Импортируйте эту библиотеку."
   ]
  },
  {
   "cell_type": "code",
   "execution_count": 1,
   "metadata": {
    "deletable": false,
    "id": "AXN7PHPN_Zcs",
    "pycharm": {
     "name": "#%%\n"
    }
   },
   "outputs": [],
   "source": [
    "import pandas as pd"
   ]
  },
  {
   "cell_type": "markdown",
   "metadata": {
    "deletable": false,
    "editable": false,
    "id": "SG23P8tt_Zcs",
    "tags": [
     "start_task"
    ],
    "pycharm": {
     "name": "#%% md\n"
    }
   },
   "source": [
    "**Задание 2**\n",
    "\n",
    "Прочитайте файл `yandex_music_project.csv` из папки `/datasets` и сохраните его в переменной `df`:"
   ]
  },
  {
   "cell_type": "code",
   "execution_count": 2,
   "metadata": {
    "deletable": false,
    "id": "fFVu7vqh_Zct",
    "pycharm": {
     "name": "#%%\n"
    }
   },
   "outputs": [],
   "source": [
    "df = pd.read_csv('/datasets/yandex_music_project.csv')"
   ]
  },
  {
   "cell_type": "markdown",
   "metadata": {
    "deletable": false,
    "editable": false,
    "id": "rDoOMd3uTqnZ",
    "tags": [
     "start_task"
    ],
    "pycharm": {
     "name": "#%% md\n"
    }
   },
   "source": [
    "**Задание 3**\n",
    "\n",
    "\n",
    "Выведите на экран первые десять строк таблицы:"
   ]
  },
  {
   "cell_type": "code",
   "execution_count": 3,
   "metadata": {
    "deletable": false,
    "id": "oWTVX3gW_Zct",
    "pycharm": {
     "name": "#%%\n"
    }
   },
   "outputs": [
    {
     "data": {
      "text/html": [
       "<div>\n",
       "<style scoped>\n",
       "    .dataframe tbody tr th:only-of-type {\n",
       "        vertical-align: middle;\n",
       "    }\n",
       "\n",
       "    .dataframe tbody tr th {\n",
       "        vertical-align: top;\n",
       "    }\n",
       "\n",
       "    .dataframe thead th {\n",
       "        text-align: right;\n",
       "    }\n",
       "</style>\n",
       "<table border=\"1\" class=\"dataframe\">\n",
       "  <thead>\n",
       "    <tr style=\"text-align: right;\">\n",
       "      <th></th>\n",
       "      <th>userID</th>\n",
       "      <th>Track</th>\n",
       "      <th>artist</th>\n",
       "      <th>genre</th>\n",
       "      <th>City</th>\n",
       "      <th>time</th>\n",
       "      <th>Day</th>\n",
       "    </tr>\n",
       "  </thead>\n",
       "  <tbody>\n",
       "    <tr>\n",
       "      <th>0</th>\n",
       "      <td>FFB692EC</td>\n",
       "      <td>Kamigata To Boots</td>\n",
       "      <td>The Mass Missile</td>\n",
       "      <td>rock</td>\n",
       "      <td>Saint-Petersburg</td>\n",
       "      <td>20:28:33</td>\n",
       "      <td>Wednesday</td>\n",
       "    </tr>\n",
       "    <tr>\n",
       "      <th>1</th>\n",
       "      <td>55204538</td>\n",
       "      <td>Delayed Because of Accident</td>\n",
       "      <td>Andreas Rönnberg</td>\n",
       "      <td>rock</td>\n",
       "      <td>Moscow</td>\n",
       "      <td>14:07:09</td>\n",
       "      <td>Friday</td>\n",
       "    </tr>\n",
       "    <tr>\n",
       "      <th>2</th>\n",
       "      <td>20EC38</td>\n",
       "      <td>Funiculì funiculà</td>\n",
       "      <td>Mario Lanza</td>\n",
       "      <td>pop</td>\n",
       "      <td>Saint-Petersburg</td>\n",
       "      <td>20:58:07</td>\n",
       "      <td>Wednesday</td>\n",
       "    </tr>\n",
       "    <tr>\n",
       "      <th>3</th>\n",
       "      <td>A3DD03C9</td>\n",
       "      <td>Dragons in the Sunset</td>\n",
       "      <td>Fire + Ice</td>\n",
       "      <td>folk</td>\n",
       "      <td>Saint-Petersburg</td>\n",
       "      <td>08:37:09</td>\n",
       "      <td>Monday</td>\n",
       "    </tr>\n",
       "    <tr>\n",
       "      <th>4</th>\n",
       "      <td>E2DC1FAE</td>\n",
       "      <td>Soul People</td>\n",
       "      <td>Space Echo</td>\n",
       "      <td>dance</td>\n",
       "      <td>Moscow</td>\n",
       "      <td>08:34:34</td>\n",
       "      <td>Monday</td>\n",
       "    </tr>\n",
       "    <tr>\n",
       "      <th>5</th>\n",
       "      <td>842029A1</td>\n",
       "      <td>Преданная</td>\n",
       "      <td>IMPERVTOR</td>\n",
       "      <td>rusrap</td>\n",
       "      <td>Saint-Petersburg</td>\n",
       "      <td>13:09:41</td>\n",
       "      <td>Friday</td>\n",
       "    </tr>\n",
       "    <tr>\n",
       "      <th>6</th>\n",
       "      <td>4CB90AA5</td>\n",
       "      <td>True</td>\n",
       "      <td>Roman Messer</td>\n",
       "      <td>dance</td>\n",
       "      <td>Moscow</td>\n",
       "      <td>13:00:07</td>\n",
       "      <td>Wednesday</td>\n",
       "    </tr>\n",
       "    <tr>\n",
       "      <th>7</th>\n",
       "      <td>F03E1C1F</td>\n",
       "      <td>Feeling This Way</td>\n",
       "      <td>Polina Griffith</td>\n",
       "      <td>dance</td>\n",
       "      <td>Moscow</td>\n",
       "      <td>20:47:49</td>\n",
       "      <td>Wednesday</td>\n",
       "    </tr>\n",
       "    <tr>\n",
       "      <th>8</th>\n",
       "      <td>8FA1D3BE</td>\n",
       "      <td>И вновь продолжается бой</td>\n",
       "      <td>NaN</td>\n",
       "      <td>ruspop</td>\n",
       "      <td>Moscow</td>\n",
       "      <td>09:17:40</td>\n",
       "      <td>Friday</td>\n",
       "    </tr>\n",
       "    <tr>\n",
       "      <th>9</th>\n",
       "      <td>E772D5C0</td>\n",
       "      <td>Pessimist</td>\n",
       "      <td>NaN</td>\n",
       "      <td>dance</td>\n",
       "      <td>Saint-Petersburg</td>\n",
       "      <td>21:20:49</td>\n",
       "      <td>Wednesday</td>\n",
       "    </tr>\n",
       "  </tbody>\n",
       "</table>\n",
       "</div>"
      ],
      "text/plain": [
       "     userID                        Track            artist   genre  \\\n",
       "0  FFB692EC            Kamigata To Boots  The Mass Missile    rock   \n",
       "1  55204538  Delayed Because of Accident  Andreas Rönnberg    rock   \n",
       "2    20EC38            Funiculì funiculà       Mario Lanza     pop   \n",
       "3  A3DD03C9        Dragons in the Sunset        Fire + Ice    folk   \n",
       "4  E2DC1FAE                  Soul People        Space Echo   dance   \n",
       "5  842029A1                    Преданная         IMPERVTOR  rusrap   \n",
       "6  4CB90AA5                         True      Roman Messer   dance   \n",
       "7  F03E1C1F             Feeling This Way   Polina Griffith   dance   \n",
       "8  8FA1D3BE     И вновь продолжается бой               NaN  ruspop   \n",
       "9  E772D5C0                    Pessimist               NaN   dance   \n",
       "\n",
       "             City        time        Day  \n",
       "0  Saint-Petersburg  20:28:33  Wednesday  \n",
       "1            Moscow  14:07:09     Friday  \n",
       "2  Saint-Petersburg  20:58:07  Wednesday  \n",
       "3  Saint-Petersburg  08:37:09     Monday  \n",
       "4            Moscow  08:34:34     Monday  \n",
       "5  Saint-Petersburg  13:09:41     Friday  \n",
       "6            Moscow  13:00:07  Wednesday  \n",
       "7            Moscow  20:47:49  Wednesday  \n",
       "8            Moscow  09:17:40     Friday  \n",
       "9  Saint-Petersburg  21:20:49  Wednesday  "
      ]
     },
     "metadata": {},
     "output_type": "display_data"
    }
   ],
   "source": [
    "df.head(10)"
   ]
  },
  {
   "cell_type": "markdown",
   "metadata": {
    "deletable": false,
    "editable": false,
    "id": "EO73Kwic_Zct",
    "tags": [
     "start_task"
    ],
    "pycharm": {
     "name": "#%% md\n"
    }
   },
   "source": [
    "**Задание 4**\n",
    "\n",
    "\n",
    "Одной командой получить общую информацию о таблице c помощью метода `info()`:"
   ]
  },
  {
   "cell_type": "code",
   "execution_count": 4,
   "metadata": {
    "deletable": false,
    "id": "DSf2kIb-_Zct",
    "pycharm": {
     "name": "#%%\n"
    }
   },
   "outputs": [
    {
     "data": {
      "text/plain": [
       "<bound method DataFrame.info of          userID                              Track            artist  \\\n",
       "0      FFB692EC                  Kamigata To Boots  The Mass Missile   \n",
       "1      55204538        Delayed Because of Accident  Andreas Rönnberg   \n",
       "2        20EC38                  Funiculì funiculà       Mario Lanza   \n",
       "3      A3DD03C9              Dragons in the Sunset        Fire + Ice   \n",
       "4      E2DC1FAE                        Soul People        Space Echo   \n",
       "...         ...                                ...               ...   \n",
       "65074  729CBB09                            My Name            McLean   \n",
       "65075  D08D4A55  Maybe One Day (feat. Black Spade)       Blu & Exile   \n",
       "65076  C5E3A0D5                          Jalopiina               NaN   \n",
       "65077  321D0506                      Freight Train     Chas McDevitt   \n",
       "65078  3A64EF84          Tell Me Sweet Little Lies      Monica Lopez   \n",
       "\n",
       "            genre            City        time        Day  \n",
       "0            rock  Saint-Petersburg  20:28:33  Wednesday  \n",
       "1            rock            Moscow  14:07:09     Friday  \n",
       "2             pop  Saint-Petersburg  20:58:07  Wednesday  \n",
       "3            folk  Saint-Petersburg  08:37:09     Monday  \n",
       "4           dance            Moscow  08:34:34     Monday  \n",
       "...           ...               ...       ...        ...  \n",
       "65074         rnb            Moscow  13:32:28  Wednesday  \n",
       "65075         hip  Saint-Petersburg  10:00:00     Monday  \n",
       "65076  industrial            Moscow  20:09:26     Friday  \n",
       "65077        rock            Moscow  21:43:59     Friday  \n",
       "65078     country            Moscow  21:59:46     Friday  \n",
       "\n",
       "[65079 rows x 7 columns]>"
      ]
     },
     "execution_count": 4,
     "metadata": {},
     "output_type": "execute_result"
    }
   ],
   "source": [
    "df.info()"
   ]
  },
  {
   "cell_type": "markdown",
   "metadata": {
    "deletable": false,
    "editable": false,
    "id": "TaQ2Iwbr_Zct",
    "pycharm": {
     "name": "#%% md\n"
    }
   },
   "source": [
    "Итак, в таблице семь столбцов. Тип данных во всех столбцах — `object`.\n",
    "\n",
    "Согласно документации к данным:\n",
    "* `userID` — идентификатор пользователя;\n",
    "* `Track` — название трека;  \n",
    "* `artist` — имя исполнителя;\n",
    "* `genre` — название жанра;\n",
    "* `City` — город пользователя;\n",
    "* `time` — время начала прослушивания;\n",
    "* `Day` — день недели.\n",
    "\n",
    "Количество значений в столбцах различается. Значит, в данных есть пропущенные значения."
   ]
  },
  {
   "cell_type": "markdown",
   "metadata": {
    "deletable": false,
    "editable": false,
    "id": "rAfziTBDmf2h",
    "tags": [
     "start_task"
    ],
    "pycharm": {
     "name": "#%% md\n"
    }
   },
   "source": [
    "**Задание 5**\n",
    "\n",
    "**Вопрос со свободной формой ответа**\n",
    "\n",
    "В названиях колонок видны нарушения стиля:\n",
    "* Строчные буквы сочетаются с прописными.\n",
    "* Встречаются пробелы.\n",
    "\n",
    "Какое третье нарушение?"
   ]
  },
  {
   "cell_type": "code",
   "execution_count": 48,
   "metadata": {
    "id": "jD8EXEIvmf2h",
    "pycharm": {
     "name": "#%%\n"
    }
   },
   "outputs": [
    {
     "ename": "SyntaxError",
     "evalue": "invalid syntax (2497770223.py, line 1)",
     "output_type": "error",
     "traceback": [
      "\u001B[0;36m  File \u001B[0;32m\"/tmp/ipykernel_31/2497770223.py\"\u001B[0;36m, line \u001B[0;32m1\u001B[0m\n\u001B[0;31m    отсутствует нижнее подчеркивание в user_id (д б змеиный регистр) # Напишите ваш ответ здесь комментарием. Не удаляйте символ #. Не меняйте тип этой ячейки на Markdown.\u001B[0m\n\u001B[0m                ^\u001B[0m\n\u001B[0;31mSyntaxError\u001B[0m\u001B[0;31m:\u001B[0m invalid syntax\n"
     ]
    }
   ],
   "source": []
  },
  {
   "cell_type": "markdown",
   "metadata": {
    "deletable": false,
    "editable": false,
    "id": "MCB6-dXG_Zct",
    "pycharm": {
     "name": "#%% md\n"
    }
   },
   "source": [
    "**Выводы**\n",
    "\n",
    "В каждой строке таблицы — данные о прослушанном треке. Часть колонок описывает саму композицию: название, исполнителя и жанр. Остальные данные рассказывают о пользователе: из какого он города, когда он слушал музыку. \n",
    "\n",
    "Предварительно можно утверждать, что данных достаточно для проверки гипотез. Но встречаются пропуски в данных, а в названиях колонок — расхождения с хорошим стилем.\n",
    "\n",
    "Чтобы двигаться дальше, нужно устранить проблемы в данных."
   ]
  },
  {
   "cell_type": "markdown",
   "metadata": {
    "deletable": false,
    "editable": false,
    "id": "SjYF6Ub9_Zct",
    "pycharm": {
     "name": "#%% md\n"
    }
   },
   "source": [
    "## Предобработка данных\n",
    "Исправьте стиль в заголовках столбцов, исключите пропуски. Затем проверьте данные на дубликаты."
   ]
  },
  {
   "cell_type": "markdown",
   "metadata": {
    "deletable": false,
    "editable": false,
    "id": "dIaKXr29_Zct",
    "tags": [
     "start_task"
    ],
    "pycharm": {
     "name": "#%% md\n"
    }
   },
   "source": [
    "### Стиль заголовков\n",
    "\n",
    "**Задание 6**\n",
    "\n",
    "Выведите на экран названия столбцов:"
   ]
  },
  {
   "cell_type": "code",
   "execution_count": 5,
   "metadata": {
    "deletable": false,
    "id": "oKOTdF_Q_Zct",
    "pycharm": {
     "name": "#%%\n"
    }
   },
   "outputs": [
    {
     "data": {
      "text/plain": [
       "Index(['  userID', 'Track', 'artist', 'genre', '  City  ', 'time', 'Day'], dtype='object')"
      ]
     },
     "execution_count": 5,
     "metadata": {},
     "output_type": "execute_result"
    }
   ],
   "source": [
    "df.columns"
   ]
  },
  {
   "cell_type": "markdown",
   "metadata": {
    "deletable": false,
    "editable": false,
    "id": "zj5534cv_Zct",
    "tags": [
     "start_task"
    ],
    "pycharm": {
     "name": "#%% md\n"
    }
   },
   "source": [
    "**Задание 7**\n",
    "\n",
    "\n",
    "Приведите названия в соответствие с хорошим стилем:\n",
    "* несколько слов в названии запишите в «змеином_регистре»,\n",
    "* все символы сделайте строчными,\n",
    "* устраните пробелы.\n",
    "\n",
    "Для этого переименуйте колонки так:\n",
    "* `'  userID'` → `'user_id'`;\n",
    "* `'Track'` → `'track'`;\n",
    "* `'  City  '` → `'city'`;\n",
    "* `'Day'` → `'day'`."
   ]
  },
  {
   "cell_type": "code",
   "execution_count": 6,
   "metadata": {
    "deletable": false,
    "id": "ISlFqs5y_Zct",
    "pycharm": {
     "name": "#%%\n"
    }
   },
   "outputs": [],
   "source": [
    "df = df.rename(columns = {'  userID':'user_id', 'Track':'track', '  City  ':'city', 'Day':'day'})"
   ]
  },
  {
   "cell_type": "markdown",
   "metadata": {
    "deletable": false,
    "editable": false,
    "id": "1dqbh00J_Zct",
    "tags": [
     "start_task"
    ],
    "pycharm": {
     "name": "#%% md\n"
    }
   },
   "source": [
    "**Задание 8**\n",
    "\n",
    "\n",
    "Проверьте результат. Для этого ещё раз выведите на экран названия столбцов:"
   ]
  },
  {
   "cell_type": "code",
   "execution_count": 7,
   "metadata": {
    "deletable": false,
    "id": "d4NOAmTW_Zct",
    "pycharm": {
     "name": "#%%\n"
    }
   },
   "outputs": [
    {
     "data": {
      "text/plain": [
       "Index(['user_id', 'track', 'artist', 'genre', 'city', 'time', 'day'], dtype='object')"
      ]
     },
     "execution_count": 7,
     "metadata": {},
     "output_type": "execute_result"
    }
   ],
   "source": [
    "df.columns"
   ]
  },
  {
   "cell_type": "markdown",
   "metadata": {
    "deletable": false,
    "editable": false,
    "id": "5ISfbcfY_Zct",
    "tags": [
     "start_task"
    ],
    "pycharm": {
     "name": "#%% md\n"
    }
   },
   "source": [
    "### Пропуски значений\n",
    "\n",
    "**Задание 9**\n",
    "\n",
    "Сначала посчитайте, сколько в таблице пропущенных значений. Для этого достаточно двух методов `pandas`:"
   ]
  },
  {
   "cell_type": "code",
   "execution_count": 8,
   "metadata": {
    "deletable": false,
    "id": "RskX29qr_Zct",
    "pycharm": {
     "name": "#%%\n"
    }
   },
   "outputs": [
    {
     "data": {
      "text/plain": [
       "user_id       0\n",
       "track      1231\n",
       "artist     7203\n",
       "genre      1198\n",
       "city          0\n",
       "time          0\n",
       "day           0\n",
       "dtype: int64"
      ]
     },
     "execution_count": 8,
     "metadata": {},
     "output_type": "execute_result"
    }
   ],
   "source": [
    "df.isna().sum()"
   ]
  },
  {
   "cell_type": "markdown",
   "metadata": {
    "deletable": false,
    "editable": false,
    "id": "qubhgnlO_Zct",
    "pycharm": {
     "name": "#%% md\n"
    }
   },
   "source": [
    "Не все пропущенные значения влияют на исследование. Так в `track` и `artist` пропуски не важны для вашей работы. Достаточно заменить их явными обозначениями.\n",
    "\n",
    "Но пропуски в `genre` могут помешать сравнению музыкальных вкусов в Москве и Санкт-Петербурге. На практике было бы правильно установить причину пропусков и восстановить данные. Такой возможности нет в учебном проекте. Придётся:\n",
    "* заполнить и эти пропуски явными обозначениями;\n",
    "* оценить, насколько они повредят расчётам. "
   ]
  },
  {
   "cell_type": "markdown",
   "metadata": {
    "deletable": false,
    "editable": false,
    "id": "fSv2laPA_Zct",
    "tags": [
     "start_task"
    ],
    "pycharm": {
     "name": "#%% md\n"
    }
   },
   "source": [
    "**Задание 10**\n",
    "\n",
    "Замените пропущенные значения в столбцах `track`, `artist` и `genre` на строку `'unknown'`. Для этого создайте список `columns_to_replace`, переберите его элементы циклом `for` и для каждого столбца выполните замену пропущенных значений:"
   ]
  },
  {
   "cell_type": "code",
   "execution_count": 9,
   "metadata": {
    "deletable": false,
    "id": "KplB5qWs_Zct",
    "scrolled": true,
    "pycharm": {
     "name": "#%%\n"
    }
   },
   "outputs": [],
   "source": [
    "columns_to_replace = ['track', 'artist','genre']\n",
    "for column in columns_to_replace:\n",
    "    df[column] = df[column].fillna('unknown')"
   ]
  },
  {
   "cell_type": "markdown",
   "metadata": {
    "deletable": false,
    "editable": false,
    "id": "Ilsm-MZo_Zct",
    "tags": [
     "start_task"
    ],
    "pycharm": {
     "name": "#%% md\n"
    }
   },
   "source": [
    "**Задание 11**\n",
    "\n",
    "Убедитесь, что в таблице не осталось пропусков. Для этого ещё раз посчитайте пропущенные значения."
   ]
  },
  {
   "cell_type": "code",
   "execution_count": 10,
   "metadata": {
    "deletable": false,
    "id": "Tq4nYRX4_Zct",
    "pycharm": {
     "name": "#%%\n"
    }
   },
   "outputs": [
    {
     "data": {
      "text/plain": [
       "user_id    0\n",
       "track      0\n",
       "artist     0\n",
       "genre      0\n",
       "city       0\n",
       "time       0\n",
       "day        0\n",
       "dtype: int64"
      ]
     },
     "execution_count": 10,
     "metadata": {},
     "output_type": "execute_result"
    }
   ],
   "source": [
    "df.isna().sum()"
   ]
  },
  {
   "cell_type": "markdown",
   "metadata": {
    "deletable": false,
    "editable": false,
    "id": "BWKRtBJ3_Zct",
    "tags": [
     "start_task"
    ],
    "pycharm": {
     "name": "#%% md\n"
    }
   },
   "source": [
    "### Дубликаты\n",
    "\n",
    "**Задание 12**\n",
    "\n",
    "Посчитайте явные дубликаты в таблице одной командой:"
   ]
  },
  {
   "cell_type": "code",
   "execution_count": 11,
   "metadata": {
    "deletable": false,
    "id": "36eES_S0_Zct",
    "pycharm": {
     "name": "#%%\n"
    }
   },
   "outputs": [
    {
     "data": {
      "text/plain": [
       "3826"
      ]
     },
     "execution_count": 11,
     "metadata": {},
     "output_type": "execute_result"
    }
   ],
   "source": [
    "df.duplicated().sum()"
   ]
  },
  {
   "cell_type": "markdown",
   "metadata": {
    "deletable": false,
    "editable": false,
    "id": "Ot25h6XR_Zct",
    "tags": [
     "start_task"
    ],
    "pycharm": {
     "name": "#%% md\n"
    }
   },
   "source": [
    "**Задание 13**\n",
    "\n",
    "Вызовите специальный метод `pandas`, чтобы удалить явные дубликаты:"
   ]
  },
  {
   "cell_type": "code",
   "execution_count": 12,
   "metadata": {
    "deletable": false,
    "id": "exFHq6tt_Zct",
    "pycharm": {
     "name": "#%%\n"
    }
   },
   "outputs": [],
   "source": [
    "df = df.drop_duplicates().reset_index(drop = True)"
   ]
  },
  {
   "cell_type": "markdown",
   "metadata": {
    "deletable": false,
    "editable": false,
    "id": "Im2YwBEG_Zct",
    "tags": [
     "start_task"
    ],
    "pycharm": {
     "name": "#%% md\n"
    }
   },
   "source": [
    "**Задание 14**\n",
    "\n",
    "Ещё раз посчитайте явные дубликаты в таблице — убедитесь, что полностью от них избавились:"
   ]
  },
  {
   "cell_type": "code",
   "execution_count": 13,
   "metadata": {
    "deletable": false,
    "id": "-8PuNWQ0_Zct",
    "pycharm": {
     "name": "#%%\n"
    }
   },
   "outputs": [
    {
     "data": {
      "text/plain": [
       "0"
      ]
     },
     "execution_count": 13,
     "metadata": {},
     "output_type": "execute_result"
    }
   ],
   "source": [
    "df.duplicated().sum()"
   ]
  },
  {
   "cell_type": "markdown",
   "metadata": {
    "deletable": false,
    "editable": false,
    "id": "QlFBsxAr_Zct",
    "pycharm": {
     "name": "#%% md\n"
    }
   },
   "source": [
    "Теперь избавьтесь от неявных дубликатов в колонке `genre`. Например, название одного и того же жанра может быть записано немного по-разному. Такие ошибки тоже повлияют на результат исследования."
   ]
  },
  {
   "cell_type": "markdown",
   "metadata": {
    "deletable": false,
    "editable": false,
    "id": "eSjWwsOh_Zct",
    "tags": [
     "start_task"
    ],
    "pycharm": {
     "name": "#%% md\n"
    }
   },
   "source": [
    "**Задание 15**\n",
    "\n",
    "Выведите на экран список уникальных названий жанров, отсортированный в алфавитном порядке. Для этого:\n",
    "1. извлеките нужный столбец датафрейма; \n",
    "2. примените к нему метод сортировки;\n",
    "3. для отсортированного столбца вызовите метод, который вернёт уникальные значения из столбца."
   ]
  },
  {
   "cell_type": "code",
   "execution_count": 14,
   "metadata": {
    "deletable": false,
    "id": "JIUcqzZN_Zct",
    "scrolled": true,
    "pycharm": {
     "name": "#%%\n"
    }
   },
   "outputs": [
    {
     "data": {
      "text/plain": [
       "array(['acid', 'acoustic', 'action', 'adult', 'africa', 'afrikaans',\n",
       "       'alternative', 'alternativepunk', 'ambient', 'americana',\n",
       "       'animated', 'anime', 'arabesk', 'arabic', 'arena',\n",
       "       'argentinetango', 'art', 'audiobook', 'author', 'avantgarde',\n",
       "       'axé', 'baile', 'balkan', 'beats', 'bigroom', 'black', 'bluegrass',\n",
       "       'blues', 'bollywood', 'bossa', 'brazilian', 'breakbeat', 'breaks',\n",
       "       'broadway', 'cantautori', 'cantopop', 'canzone', 'caribbean',\n",
       "       'caucasian', 'celtic', 'chamber', 'chanson', 'children', 'chill',\n",
       "       'chinese', 'choral', 'christian', 'christmas', 'classical',\n",
       "       'classicmetal', 'club', 'colombian', 'comedy', 'conjazz',\n",
       "       'contemporary', 'country', 'cuban', 'dance', 'dancehall',\n",
       "       'dancepop', 'dark', 'death', 'deep', 'deutschrock', 'deutschspr',\n",
       "       'dirty', 'disco', 'dnb', 'documentary', 'downbeat', 'downtempo',\n",
       "       'drum', 'dub', 'dubstep', 'eastern', 'easy', 'electronic',\n",
       "       'electropop', 'emo', 'entehno', 'epicmetal', 'estrada', 'ethnic',\n",
       "       'eurofolk', 'european', 'experimental', 'extrememetal', 'fado',\n",
       "       'fairytail', 'film', 'fitness', 'flamenco', 'folk', 'folklore',\n",
       "       'folkmetal', 'folkrock', 'folktronica', 'forró', 'frankreich',\n",
       "       'französisch', 'french', 'funk', 'future', 'gangsta', 'garage',\n",
       "       'german', 'ghazal', 'gitarre', 'glitch', 'gospel', 'gothic',\n",
       "       'grime', 'grunge', 'gypsy', 'handsup', \"hard'n'heavy\", 'hardcore',\n",
       "       'hardstyle', 'hardtechno', 'hip', 'hip-hop', 'hiphop',\n",
       "       'historisch', 'holiday', 'hop', 'horror', 'house', 'hymn', 'idm',\n",
       "       'independent', 'indian', 'indie', 'indipop', 'industrial',\n",
       "       'inspirational', 'instrumental', 'international', 'irish', 'jam',\n",
       "       'japanese', 'jazz', 'jewish', 'jpop', 'jungle', 'k-pop',\n",
       "       'karadeniz', 'karaoke', 'kayokyoku', 'korean', 'laiko', 'latin',\n",
       "       'latino', 'leftfield', 'local', 'lounge', 'loungeelectronic',\n",
       "       'lovers', 'malaysian', 'mandopop', 'marschmusik', 'meditative',\n",
       "       'mediterranean', 'melodic', 'metal', 'metalcore', 'mexican',\n",
       "       'middle', 'minimal', 'miscellaneous', 'modern', 'mood', 'mpb',\n",
       "       'muslim', 'native', 'neoklassik', 'neue', 'new', 'newage',\n",
       "       'newwave', 'nu', 'nujazz', 'numetal', 'oceania', 'old', 'opera',\n",
       "       'orchestral', 'other', 'piano', 'podcasts', 'pop', 'popdance',\n",
       "       'popelectronic', 'popeurodance', 'poprussian', 'post',\n",
       "       'posthardcore', 'postrock', 'power', 'progmetal', 'progressive',\n",
       "       'psychedelic', 'punjabi', 'punk', 'quebecois', 'ragga', 'ram',\n",
       "       'rancheras', 'rap', 'rave', 'reggae', 'reggaeton', 'regional',\n",
       "       'relax', 'religious', 'retro', 'rhythm', 'rnb', 'rnr', 'rock',\n",
       "       'rockabilly', 'rockalternative', 'rockindie', 'rockother',\n",
       "       'romance', 'roots', 'ruspop', 'rusrap', 'rusrock', 'russian',\n",
       "       'salsa', 'samba', 'scenic', 'schlager', 'self', 'sertanejo',\n",
       "       'shanson', 'shoegazing', 'showtunes', 'singer', 'ska', 'skarock',\n",
       "       'slow', 'smooth', 'soft', 'soul', 'soulful', 'sound', 'soundtrack',\n",
       "       'southern', 'specialty', 'speech', 'spiritual', 'sport',\n",
       "       'stonerrock', 'surf', 'swing', 'synthpop', 'synthrock',\n",
       "       'sängerportrait', 'tango', 'tanzorchester', 'taraftar', 'tatar',\n",
       "       'tech', 'techno', 'teen', 'thrash', 'top', 'traditional',\n",
       "       'tradjazz', 'trance', 'tribal', 'trip', 'triphop', 'tropical',\n",
       "       'türk', 'türkçe', 'ukrrock', 'unknown', 'urban', 'uzbek',\n",
       "       'variété', 'vi', 'videogame', 'vocal', 'western', 'world',\n",
       "       'worldbeat', 'ïîï', 'электроника'], dtype=object)"
      ]
     },
     "execution_count": 14,
     "metadata": {},
     "output_type": "execute_result"
    }
   ],
   "source": [
    "\n",
    "part_df = df['genre']\n",
    "part_df = part_df.sort_values()\n",
    "part_df.unique()\n"
   ]
  },
  {
   "cell_type": "markdown",
   "metadata": {
    "deletable": false,
    "editable": false,
    "id": "qej-Qmuo_Zct",
    "tags": [
     "start_task"
    ],
    "pycharm": {
     "name": "#%% md\n"
    }
   },
   "source": [
    "**Задание 16**\n",
    "\n",
    "Просмотрите список и найдите неявные дубликаты названия `hiphop`. Это могут быть названия с ошибками или альтернативные названия того же жанра.\n",
    "\n",
    "Вы увидите следующие неявные дубликаты:\n",
    "* *hip*,\n",
    "* *hop*,\n",
    "* *hip-hop*.\n",
    "\n",
    "Чтобы очистить от них таблицу используйте метод `replace()` с двумя аргументами: списком строк-дубликатов (включащий *hip*, *hop* и *hip-hop*) и строкой с правильным значением. Вам нужно исправить колонку `genre` в таблице `df`: заменить каждое значение из списка дубликатов на верное. Вместо `hip`, `hop` и `hip-hop` в таблице должно быть значение `hiphop`:"
   ]
  },
  {
   "cell_type": "code",
   "execution_count": 15,
   "metadata": {
    "deletable": false,
    "id": "ErNDkmns_Zct",
    "pycharm": {
     "name": "#%%\n"
    }
   },
   "outputs": [],
   "source": [
    "duplicates = ['hip', 'hop', 'hip-hop']\n",
    "name = 'hiphop'\n",
    "df['genre'] = df['genre'].replace(duplicates, name)"
   ]
  },
  {
   "cell_type": "markdown",
   "metadata": {
    "deletable": false,
    "editable": false,
    "id": "zQKF16_RG15m",
    "tags": [
     "start_task"
    ],
    "pycharm": {
     "name": "#%% md\n"
    }
   },
   "source": [
    "**Задание 17**\n",
    "\n",
    "Проверьте, что заменили неправильные названия:\n",
    "\n",
    "*   hip,\n",
    "*   hop,\n",
    "*   hip-hop.\n",
    "\n",
    "Выведите отсортированный список уникальных значений столбца `genre`:"
   ]
  },
  {
   "cell_type": "code",
   "execution_count": 16,
   "metadata": {
    "deletable": false,
    "id": "wvixALnFG15m",
    "pycharm": {
     "name": "#%%\n"
    }
   },
   "outputs": [
    {
     "data": {
      "text/plain": [
       "array(['rock', 'pop', 'folk', 'dance', 'rusrap', 'ruspop', 'world',\n",
       "       'electronic', 'unknown', 'alternative', 'children', 'rnb',\n",
       "       'hiphop', 'jazz', 'postrock', 'latin', 'classical', 'metal',\n",
       "       'reggae', 'tatar', 'blues', 'instrumental', 'rusrock', 'dnb',\n",
       "       'türk', 'post', 'country', 'psychedelic', 'conjazz', 'indie',\n",
       "       'posthardcore', 'local', 'avantgarde', 'punk', 'videogame',\n",
       "       'techno', 'house', 'christmas', 'melodic', 'caucasian',\n",
       "       'reggaeton', 'soundtrack', 'singer', 'ska', 'shanson', 'ambient',\n",
       "       'film', 'western', 'rap', 'beats', \"hard'n'heavy\", 'progmetal',\n",
       "       'minimal', 'contemporary', 'new', 'soul', 'holiday', 'german',\n",
       "       'tropical', 'fairytail', 'spiritual', 'urban', 'gospel', 'nujazz',\n",
       "       'folkmetal', 'trance', 'miscellaneous', 'anime', 'hardcore',\n",
       "       'progressive', 'chanson', 'numetal', 'vocal', 'estrada', 'russian',\n",
       "       'classicmetal', 'dubstep', 'club', 'deep', 'southern', 'black',\n",
       "       'folkrock', 'fitness', 'french', 'disco', 'religious', 'drum',\n",
       "       'extrememetal', 'türkçe', 'experimental', 'easy', 'metalcore',\n",
       "       'modern', 'argentinetango', 'old', 'breaks', 'eurofolk',\n",
       "       'stonerrock', 'industrial', 'funk', 'jpop', 'middle', 'variété',\n",
       "       'other', 'adult', 'christian', 'gothic', 'international', 'muslim',\n",
       "       'relax', 'schlager', 'caribbean', 'ukrrock', 'nu', 'breakbeat',\n",
       "       'comedy', 'chill', 'newage', 'specialty', 'uzbek', 'k-pop',\n",
       "       'balkan', 'chinese', 'meditative', 'dub', 'power', 'death',\n",
       "       'grime', 'arabesk', 'romance', 'flamenco', 'leftfield', 'european',\n",
       "       'tech', 'newwave', 'dancehall', 'mpb', 'piano', 'top', 'bigroom',\n",
       "       'opera', 'celtic', 'tradjazz', 'acoustic', 'epicmetal',\n",
       "       'historisch', 'downbeat', 'downtempo', 'africa', 'audiobook',\n",
       "       'jewish', 'sängerportrait', 'deutschrock', 'eastern', 'action',\n",
       "       'future', 'electropop', 'folklore', 'bollywood', 'marschmusik',\n",
       "       'rnr', 'karaoke', 'indian', 'rancheras', 'электроника',\n",
       "       'afrikaans', 'tango', 'rhythm', 'sound', 'deutschspr', 'trip',\n",
       "       'lovers', 'choral', 'dancepop', 'podcasts', 'retro', 'smooth',\n",
       "       'mexican', 'brazilian', 'ïîï', 'mood', 'surf', 'author', 'gangsta',\n",
       "       'triphop', 'inspirational', 'idm', 'ethnic', 'bluegrass',\n",
       "       'broadway', 'animated', 'americana', 'karadeniz', 'rockabilly',\n",
       "       'colombian', 'self', 'synthrock', 'sertanejo', 'japanese',\n",
       "       'canzone', 'swing', 'lounge', 'sport', 'korean', 'ragga',\n",
       "       'traditional', 'gitarre', 'frankreich', 'alternativepunk', 'emo',\n",
       "       'laiko', 'cantopop', 'glitch', 'documentary', 'rockalternative',\n",
       "       'thrash', 'hymn', 'oceania', 'rockother', 'popeurodance', 'dark',\n",
       "       'vi', 'grunge', 'hardstyle', 'samba', 'garage', 'soft', 'art',\n",
       "       'folktronica', 'entehno', 'mediterranean', 'chamber', 'cuban',\n",
       "       'taraftar', 'rockindie', 'gypsy', 'hardtechno', 'shoegazing',\n",
       "       'skarock', 'bossa', 'salsa', 'latino', 'worldbeat', 'malaysian',\n",
       "       'baile', 'ghazal', 'loungeelectronic', 'arabic', 'popelectronic',\n",
       "       'acid', 'kayokyoku', 'neoklassik', 'tribal', 'tanzorchester',\n",
       "       'native', 'independent', 'cantautori', 'handsup', 'poprussian',\n",
       "       'punjabi', 'synthpop', 'rave', 'französisch', 'quebecois',\n",
       "       'speech', 'soulful', 'teen', 'jam', 'ram', 'horror', 'scenic',\n",
       "       'orchestral', 'neue', 'roots', 'slow', 'jungle', 'indipop', 'axé',\n",
       "       'fado', 'showtunes', 'arena', 'irish', 'mandopop', 'forró',\n",
       "       'popdance', 'dirty', 'regional'], dtype=object)"
      ]
     },
     "execution_count": 16,
     "metadata": {},
     "output_type": "execute_result"
    }
   ],
   "source": [
    "\n",
    "part_df = df['genre']\n",
    "part_df = part_df.sort_values()\n",
    "part_df.unique()"
   ]
  },
  {
   "cell_type": "markdown",
   "metadata": {
    "deletable": false,
    "editable": false,
    "id": "jz6a9-7HQUDd",
    "pycharm": {
     "name": "#%% md\n"
    }
   },
   "source": [
    "**Выводы**\n",
    "\n",
    "Предобработка обнаружила три проблемы в данных:\n",
    "\n",
    "- нарушения в стиле заголовков,\n",
    "- пропущенные значения,\n",
    "- дубликаты — явные и неявные.\n",
    "\n",
    "Вы исправили заголовки, чтобы упростить работу с таблицей. Без дубликатов исследование станет более точным.\n",
    "\n",
    "Пропущенные значения вы заменили на `'unknown'`. Ещё предстоит увидеть, не повредят ли исследованию пропуски в колонке `genre`.\n",
    "\n",
    "Теперь можно перейти к проверке гипотез. "
   ]
  },
  {
   "cell_type": "markdown",
   "metadata": {
    "deletable": false,
    "editable": false,
    "id": "WttZHXH0SqKk",
    "pycharm": {
     "name": "#%% md\n"
    }
   },
   "source": [
    "## Проверка гипотез"
   ]
  },
  {
   "cell_type": "markdown",
   "metadata": {
    "deletable": false,
    "editable": false,
    "id": "Im936VVi_Zcu",
    "pycharm": {
     "name": "#%% md\n"
    }
   },
   "source": [
    "### Сравнение поведения пользователей двух столиц"
   ]
  },
  {
   "cell_type": "markdown",
   "metadata": {
    "deletable": false,
    "editable": false,
    "id": "nwt_MuaL_Zcu",
    "pycharm": {
     "name": "#%% md\n"
    }
   },
   "source": [
    "Первая гипотеза утверждает, что пользователи по-разному слушают музыку в Москве и Санкт-Петербурге. Проверьте это предположение по данным о трёх днях недели — понедельнике, среде и пятнице. Для этого:\n",
    "\n",
    "* Разделите пользователей Москвы и Санкт-Петербурга.\n",
    "* Сравните, сколько треков послушала каждая группа пользователей в понедельник, среду и пятницу.\n"
   ]
  },
  {
   "cell_type": "markdown",
   "metadata": {
    "deletable": false,
    "editable": false,
    "id": "8Dw_YMmT_Zcu",
    "tags": [
     "start_task"
    ],
    "pycharm": {
     "name": "#%% md\n"
    }
   },
   "source": [
    "**Задание 18**\n",
    "\n",
    "Для тренировки сначала выполните каждый из расчётов по отдельности. \n",
    "\n",
    "Оцените активность пользователей в каждом городе. Сгруппируйте данные по городу и посчитайте прослушивания в каждой группе.\n",
    "\n"
   ]
  },
  {
   "cell_type": "code",
   "execution_count": 17,
   "metadata": {
    "deletable": false,
    "id": "0_Qs96oh_Zcu",
    "pycharm": {
     "name": "#%%\n"
    }
   },
   "outputs": [
    {
     "data": {
      "text/html": [
       "<div>\n",
       "<style scoped>\n",
       "    .dataframe tbody tr th:only-of-type {\n",
       "        vertical-align: middle;\n",
       "    }\n",
       "\n",
       "    .dataframe tbody tr th {\n",
       "        vertical-align: top;\n",
       "    }\n",
       "\n",
       "    .dataframe thead th {\n",
       "        text-align: right;\n",
       "    }\n",
       "</style>\n",
       "<table border=\"1\" class=\"dataframe\">\n",
       "  <thead>\n",
       "    <tr style=\"text-align: right;\">\n",
       "      <th></th>\n",
       "      <th>user_id</th>\n",
       "      <th>track</th>\n",
       "      <th>artist</th>\n",
       "      <th>genre</th>\n",
       "      <th>time</th>\n",
       "      <th>day</th>\n",
       "    </tr>\n",
       "    <tr>\n",
       "      <th>city</th>\n",
       "      <th></th>\n",
       "      <th></th>\n",
       "      <th></th>\n",
       "      <th></th>\n",
       "      <th></th>\n",
       "      <th></th>\n",
       "    </tr>\n",
       "  </thead>\n",
       "  <tbody>\n",
       "    <tr>\n",
       "      <th>Moscow</th>\n",
       "      <td>42741</td>\n",
       "      <td>42741</td>\n",
       "      <td>42741</td>\n",
       "      <td>42741</td>\n",
       "      <td>42741</td>\n",
       "      <td>42741</td>\n",
       "    </tr>\n",
       "    <tr>\n",
       "      <th>Saint-Petersburg</th>\n",
       "      <td>18512</td>\n",
       "      <td>18512</td>\n",
       "      <td>18512</td>\n",
       "      <td>18512</td>\n",
       "      <td>18512</td>\n",
       "      <td>18512</td>\n",
       "    </tr>\n",
       "  </tbody>\n",
       "</table>\n",
       "</div>"
      ],
      "text/plain": [
       "                  user_id  track  artist  genre   time    day\n",
       "city                                                         \n",
       "Moscow              42741  42741   42741  42741  42741  42741\n",
       "Saint-Petersburg    18512  18512   18512  18512  18512  18512"
      ]
     },
     "execution_count": 17,
     "metadata": {},
     "output_type": "execute_result"
    }
   ],
   "source": [
    "df.groupby('city')['city'].count()"
   ]
  },
  {
   "cell_type": "markdown",
   "metadata": {
    "deletable": false,
    "editable": false,
    "id": "dzli3w8o_Zcu",
    "tags": [
     "start_task"
    ],
    "pycharm": {
     "name": "#%% md\n"
    }
   },
   "source": [
    "В Москве прослушиваний больше, чем в Петербурге. Из этого не следует, что московские пользователи чаще слушают музыку. Просто самих пользователей в Москве больше.\n",
    "\n",
    "**Задание 19**\n",
    "\n",
    "Теперь сгруппируйте данные по дню недели и посчитайте прослушивания в понедельник, среду и пятницу. Учтите, что в данных есть информация о прослушиваниях только за эти дни.\n"
   ]
  },
  {
   "cell_type": "code",
   "execution_count": 18,
   "metadata": {
    "deletable": false,
    "id": "uZMKjiJz_Zcu",
    "pycharm": {
     "name": "#%%\n"
    }
   },
   "outputs": [
    {
     "data": {
      "text/html": [
       "<div>\n",
       "<style scoped>\n",
       "    .dataframe tbody tr th:only-of-type {\n",
       "        vertical-align: middle;\n",
       "    }\n",
       "\n",
       "    .dataframe tbody tr th {\n",
       "        vertical-align: top;\n",
       "    }\n",
       "\n",
       "    .dataframe thead th {\n",
       "        text-align: right;\n",
       "    }\n",
       "</style>\n",
       "<table border=\"1\" class=\"dataframe\">\n",
       "  <thead>\n",
       "    <tr style=\"text-align: right;\">\n",
       "      <th></th>\n",
       "      <th>user_id</th>\n",
       "      <th>track</th>\n",
       "      <th>artist</th>\n",
       "      <th>genre</th>\n",
       "      <th>city</th>\n",
       "      <th>time</th>\n",
       "    </tr>\n",
       "    <tr>\n",
       "      <th>day</th>\n",
       "      <th></th>\n",
       "      <th></th>\n",
       "      <th></th>\n",
       "      <th></th>\n",
       "      <th></th>\n",
       "      <th></th>\n",
       "    </tr>\n",
       "  </thead>\n",
       "  <tbody>\n",
       "    <tr>\n",
       "      <th>Friday</th>\n",
       "      <td>21840</td>\n",
       "      <td>21840</td>\n",
       "      <td>21840</td>\n",
       "      <td>21840</td>\n",
       "      <td>21840</td>\n",
       "      <td>21840</td>\n",
       "    </tr>\n",
       "    <tr>\n",
       "      <th>Monday</th>\n",
       "      <td>21354</td>\n",
       "      <td>21354</td>\n",
       "      <td>21354</td>\n",
       "      <td>21354</td>\n",
       "      <td>21354</td>\n",
       "      <td>21354</td>\n",
       "    </tr>\n",
       "    <tr>\n",
       "      <th>Wednesday</th>\n",
       "      <td>18059</td>\n",
       "      <td>18059</td>\n",
       "      <td>18059</td>\n",
       "      <td>18059</td>\n",
       "      <td>18059</td>\n",
       "      <td>18059</td>\n",
       "    </tr>\n",
       "  </tbody>\n",
       "</table>\n",
       "</div>"
      ],
      "text/plain": [
       "           user_id  track  artist  genre   city   time\n",
       "day                                                   \n",
       "Friday       21840  21840   21840  21840  21840  21840\n",
       "Monday       21354  21354   21354  21354  21354  21354\n",
       "Wednesday    18059  18059   18059  18059  18059  18059"
      ]
     },
     "execution_count": 18,
     "metadata": {},
     "output_type": "execute_result"
    }
   ],
   "source": [
    "df.groupby('day')['day'].count()"
   ]
  },
  {
   "cell_type": "markdown",
   "metadata": {
    "deletable": false,
    "editable": false,
    "id": "cC2tNrlL_Zcu",
    "pycharm": {
     "name": "#%% md\n"
    }
   },
   "source": [
    "В среднем пользователи из двух городов менее активны по средам. Но картина может измениться, если рассмотреть каждый город в отдельности."
   ]
  },
  {
   "cell_type": "markdown",
   "metadata": {
    "deletable": false,
    "editable": false,
    "id": "POzs8bGa_Zcu",
    "tags": [
     "start_task"
    ],
    "pycharm": {
     "name": "#%% md\n"
    }
   },
   "source": [
    "**Задание 20**\n",
    "\n",
    "\n",
    "Вы видели, как работает группировка по городу и по дням недели. Теперь напишите функцию, которая объединит два эти расчёта.\n",
    "\n",
    "Создайте функцию `number_tracks()`, которая посчитает прослушивания для заданного дня и города. Ей понадобятся два параметра:\n",
    "* день недели,\n",
    "* название города.\n",
    "\n",
    "В функции сохраните в переменную строки исходной таблицы, у которых значение:\n",
    "  * в колонке `day` равно параметру `day`,\n",
    "  * в колонке `city` равно параметру `city`.\n",
    "\n",
    "Для этого примените последовательную фильтрацию с логической индексацией (или сложные логические выражения в одну строку, если вы уже знакомы с ними).\n",
    "\n",
    "Затем посчитайте значения в столбце `user_id` получившейся таблицы. Результат сохраните в новую переменную. Верните эту переменную из функции."
   ]
  },
  {
   "cell_type": "code",
   "execution_count": 19,
   "metadata": {
    "deletable": false,
    "id": "Nz3GdQB1_Zcu",
    "pycharm": {
     "name": "#%%\n"
    }
   },
   "outputs": [],
   "source": [
    "def number_tracks(day, city):\n",
    "    track_list = df[(df['day']== day) & (df['city']== city)]\n",
    "    track_list_count = track_list['user_id'].count()\n",
    "    return track_list_count"
   ]
  },
  {
   "cell_type": "markdown",
   "metadata": {
    "deletable": false,
    "editable": false,
    "id": "ytf7xFrFJQ2r",
    "tags": [
     "start_task"
    ],
    "pycharm": {
     "name": "#%% md\n"
    }
   },
   "source": [
    "**Задание 21**\n",
    "\n",
    "Вызовите `number_tracks()` шесть раз, меняя значение параметров — так, чтобы получить данные для каждого города в каждый из трёх дней."
   ]
  },
  {
   "cell_type": "code",
   "execution_count": 20,
   "metadata": {
    "deletable": false,
    "id": "rJcRATNQ_Zcu",
    "pycharm": {
     "name": "#%%\n"
    }
   },
   "outputs": [
    {
     "data": {
      "text/plain": [
       "15740"
      ]
     },
     "execution_count": 20,
     "metadata": {},
     "output_type": "execute_result"
    }
   ],
   "source": [
    "number_tracks('Monday', 'Moscow')"
   ]
  },
  {
   "cell_type": "code",
   "execution_count": 21,
   "metadata": {
    "deletable": false,
    "id": "hq_ncZ5T_Zcu",
    "pycharm": {
     "name": "#%%\n"
    }
   },
   "outputs": [
    {
     "data": {
      "text/plain": [
       "5614"
      ]
     },
     "execution_count": 21,
     "metadata": {},
     "output_type": "execute_result"
    }
   ],
   "source": [
    "number_tracks('Monday', 'Saint-Petersburg')"
   ]
  },
  {
   "cell_type": "code",
   "execution_count": 22,
   "metadata": {
    "deletable": false,
    "id": "_NTy2VPU_Zcu",
    "pycharm": {
     "name": "#%%\n"
    }
   },
   "outputs": [
    {
     "data": {
      "text/plain": [
       "11056"
      ]
     },
     "execution_count": 22,
     "metadata": {},
     "output_type": "execute_result"
    }
   ],
   "source": [
    "number_tracks('Wednesday', 'Moscow')"
   ]
  },
  {
   "cell_type": "code",
   "execution_count": 23,
   "metadata": {
    "deletable": false,
    "id": "j2y3TAwo_Zcu",
    "pycharm": {
     "name": "#%%\n"
    }
   },
   "outputs": [
    {
     "data": {
      "text/plain": [
       "7003"
      ]
     },
     "execution_count": 23,
     "metadata": {},
     "output_type": "execute_result"
    }
   ],
   "source": [
    "number_tracks('Wednesday', 'Saint-Petersburg')"
   ]
  },
  {
   "cell_type": "code",
   "execution_count": 24,
   "metadata": {
    "deletable": false,
    "id": "vYDw5u_K_Zcu",
    "pycharm": {
     "name": "#%%\n"
    }
   },
   "outputs": [
    {
     "data": {
      "text/plain": [
       "15945"
      ]
     },
     "execution_count": 24,
     "metadata": {},
     "output_type": "execute_result"
    }
   ],
   "source": [
    "number_tracks('Friday', 'Moscow')"
   ]
  },
  {
   "cell_type": "code",
   "execution_count": 25,
   "metadata": {
    "deletable": false,
    "id": "8_yzFtW3_Zcu",
    "pycharm": {
     "name": "#%%\n"
    }
   },
   "outputs": [
    {
     "data": {
      "text/plain": [
       "5895"
      ]
     },
     "execution_count": 25,
     "metadata": {},
     "output_type": "execute_result"
    }
   ],
   "source": [
    "number_tracks('Friday', 'Saint-Petersburg')"
   ]
  },
  {
   "cell_type": "markdown",
   "metadata": {
    "deletable": false,
    "editable": false,
    "id": "7QXffbO-_Zcu",
    "tags": [
     "start_task"
    ],
    "pycharm": {
     "name": "#%% md\n"
    }
   },
   "source": [
    "**Задание 22**\n",
    "\n",
    "Создайте c помощью конструктора `pd.DataFrame` таблицу, где\n",
    "* названия колонок — `['city', 'monday', 'wednesday', 'friday']`;\n",
    "* данные — результаты, которые вы получили с помощью `number_tracks`."
   ]
  },
  {
   "cell_type": "code",
   "execution_count": 26,
   "metadata": {
    "deletable": false,
    "id": "APAcLpOr_Zcu",
    "pycharm": {
     "name": "#%%\n"
    }
   },
   "outputs": [
    {
     "data": {
      "text/html": [
       "<div>\n",
       "<style scoped>\n",
       "    .dataframe tbody tr th:only-of-type {\n",
       "        vertical-align: middle;\n",
       "    }\n",
       "\n",
       "    .dataframe tbody tr th {\n",
       "        vertical-align: top;\n",
       "    }\n",
       "\n",
       "    .dataframe thead th {\n",
       "        text-align: right;\n",
       "    }\n",
       "</style>\n",
       "<table border=\"1\" class=\"dataframe\">\n",
       "  <thead>\n",
       "    <tr style=\"text-align: right;\">\n",
       "      <th></th>\n",
       "      <th>city</th>\n",
       "      <th>monday</th>\n",
       "      <th>wednesday</th>\n",
       "      <th>friday</th>\n",
       "    </tr>\n",
       "  </thead>\n",
       "  <tbody>\n",
       "    <tr>\n",
       "      <th>0</th>\n",
       "      <td>Moscow</td>\n",
       "      <td>15740</td>\n",
       "      <td>11056</td>\n",
       "      <td>15945</td>\n",
       "    </tr>\n",
       "    <tr>\n",
       "      <th>1</th>\n",
       "      <td>Saint-Petersburg</td>\n",
       "      <td>5614</td>\n",
       "      <td>7003</td>\n",
       "      <td>5895</td>\n",
       "    </tr>\n",
       "  </tbody>\n",
       "</table>\n",
       "</div>"
      ],
      "text/plain": [
       "               city  monday  wednesday  friday\n",
       "0            Moscow   15740      11056   15945\n",
       "1  Saint-Petersburg    5614       7003    5895"
      ]
     },
     "metadata": {},
     "output_type": "display_data"
    }
   ],
   "source": [
    "columns = ['city', 'monday', 'wednesday', 'friday']\n",
    "data = [['Moscow', 15740, 11056, 15945],\n",
    "       ['Saint-Petersburg', 5614, 7003, 5895]]\n",
    "music_city = pd.DataFrame(data = data, columns = columns)\n"
   ]
  },
  {
   "cell_type": "markdown",
   "metadata": {
    "deletable": false,
    "editable": false,
    "id": "-EgPIHYu_Zcu",
    "pycharm": {
     "name": "#%% md\n"
    }
   },
   "source": [
    "**Выводы**\n",
    "\n",
    "Данные показывают разницу поведения пользователей:\n",
    "\n",
    "- В Москве пик прослушиваний приходится на понедельник и пятницу, а в среду заметен спад.\n",
    "- В Петербурге, наоборот, больше слушают музыку по средам. Активность в понедельник и пятницу здесь почти в равной мере уступает среде.\n",
    "\n",
    "Значит, данные говорят в пользу первой гипотезы."
   ]
  },
  {
   "cell_type": "markdown",
   "metadata": {
    "deletable": false,
    "editable": false,
    "id": "atZAxtq4_Zcu",
    "pycharm": {
     "name": "#%% md\n"
    }
   },
   "source": [
    "### Музыка в начале и в конце недели"
   ]
  },
  {
   "cell_type": "markdown",
   "metadata": {
    "deletable": false,
    "editable": false,
    "id": "eXrQqXFH_Zcu",
    "pycharm": {
     "name": "#%% md\n"
    }
   },
   "source": [
    "Согласно второй гипотезе, утром в понедельник в Москве преобладают одни жанры, а в Петербурге — другие. Так же и вечером пятницы преобладают разные жанры — в зависимости от города."
   ]
  },
  {
   "cell_type": "markdown",
   "metadata": {
    "deletable": false,
    "editable": false,
    "id": "S8UcW6Hw_Zcu",
    "tags": [
     "start_task"
    ],
    "pycharm": {
     "name": "#%% md\n"
    }
   },
   "source": [
    "**Задание 23**\n",
    "\n",
    "Сохраните таблицы с данными в две переменные:\n",
    "* по Москве — в `moscow_general`;\n",
    "* по Санкт-Петербургу — в `spb_general`."
   ]
  },
  {
   "cell_type": "code",
   "execution_count": 27,
   "metadata": {
    "deletable": false,
    "id": "qeaFfM_P_Zcu",
    "scrolled": true,
    "pycharm": {
     "name": "#%%\n"
    }
   },
   "outputs": [],
   "source": [
    "moscow_general = df[df['city'] == 'Moscow']\n",
    "\n"
   ]
  },
  {
   "cell_type": "code",
   "execution_count": 28,
   "metadata": {
    "deletable": false,
    "id": "ORaVRKto_Zcu",
    "pycharm": {
     "name": "#%%\n"
    }
   },
   "outputs": [],
   "source": [
    "spb_general = df[df['city'] == 'Saint-Petersburg']\n",
    "\n"
   ]
  },
  {
   "cell_type": "markdown",
   "metadata": {
    "deletable": false,
    "editable": false,
    "id": "MEJV-CX2_Zcu",
    "tags": [
     "start_task"
    ],
    "pycharm": {
     "name": "#%% md\n"
    }
   },
   "source": [
    "**Задание 24**\n",
    "\n",
    "Создайте функцию `genre_weekday()` с четырьмя параметрами:\n",
    "* таблица (датафрейм) с данными,\n",
    "* день недели,\n",
    "* начальная временная метка в формате 'hh:mm', \n",
    "* последняя временная метка в формате 'hh:mm'.\n",
    "\n",
    "Функция должна вернуть информацию о топ-10 жанров тех треков, которые прослушивали в указанный день, в промежутке между двумя отметками времени."
   ]
  },
  {
   "cell_type": "code",
   "execution_count": 29,
   "metadata": {
    "deletable": false,
    "id": "laJT9BYl_Zcu",
    "pycharm": {
     "name": "#%%\n"
    }
   },
   "outputs": [],
   "source": [
    "def genre_weekday(table, day, time1, time2):\n",
    "    genre_df = df[(df['day'] == day) & (df['time'] > time1) & (df['time'] < time2)]\n",
    "\n",
    "    genre_df_count = genre_df.groupby('genre')['genre'].count()\n",
    "\n",
    "    genre_df_sorted = genre_df_count.sort_values(ascending = False)\n",
    "\n",
    "\n",
    "    return genre_df_sorted[:10]\n",
    "\n",
    "\n",
    "def genre_weekday(df, day, time1, time2):\n",
    "\n",
    "    genre_df = df[df['day'] == day]\n",
    "\n",
    "    genre_df =  genre_df[genre_df['time'] < time2]\n",
    "\n",
    "    genre_df = genre_df[genre_df['time'] > time1]\n",
    "\n",
    "    genre_df_grouped = genre_df.groupby('genre')['genre'].count()\n",
    "\n",
    "    genre_df_sorted = genre_df_grouped.sort_values(ascending = False)\n",
    "\n",
    "    return genre_df_sorted[:10]"
   ]
  },
  {
   "cell_type": "markdown",
   "metadata": {
    "deletable": false,
    "editable": false,
    "id": "la2s2_PF_Zcu",
    "tags": [
     "start_task"
    ],
    "pycharm": {
     "name": "#%% md\n"
    }
   },
   "source": [
    "**Задание 25**\n",
    "\n",
    "\n",
    "Cравните результаты функции `genre_weekday()` для Москвы и Санкт-Петербурга в понедельник утром (с 7:00 до 11:00) и в пятницу вечером (с 17:00 до 23:00):"
   ]
  },
  {
   "cell_type": "code",
   "execution_count": 30,
   "metadata": {
    "deletable": false,
    "id": "yz7itPUQ_Zcu",
    "scrolled": true,
    "pycharm": {
     "name": "#%%\n"
    }
   },
   "outputs": [
    {
     "data": {
      "text/plain": [
       "genre\n",
       "pop            781\n",
       "dance          549\n",
       "electronic     480\n",
       "rock           474\n",
       "hiphop         286\n",
       "ruspop         186\n",
       "world          181\n",
       "rusrap         175\n",
       "alternative    164\n",
       "unknown        161\n",
       "Name: genre, dtype: int64"
      ]
     },
     "execution_count": 30,
     "metadata": {},
     "output_type": "execute_result"
    }
   ],
   "source": [
    "\n",
    "genre_weekday(moscow_general, 'Monday', '07:00', '11:00')\n"
   ]
  },
  {
   "cell_type": "code",
   "execution_count": 31,
   "metadata": {
    "deletable": false,
    "id": "kwUcHPdy_Zcu",
    "pycharm": {
     "name": "#%%\n"
    }
   },
   "outputs": [
    {
     "data": {
      "text/plain": [
       "genre\n",
       "pop            218\n",
       "dance          182\n",
       "rock           162\n",
       "electronic     147\n",
       "hiphop          80\n",
       "ruspop          64\n",
       "alternative     58\n",
       "rusrap          55\n",
       "jazz            44\n",
       "classical       40\n",
       "Name: genre, dtype: int64"
      ]
     },
     "execution_count": 31,
     "metadata": {},
     "output_type": "execute_result"
    }
   ],
   "source": [
    "genre_weekday(spb_general, 'Monday', '07:00', '11:00')"
   ]
  },
  {
   "cell_type": "code",
   "execution_count": 32,
   "metadata": {
    "deletable": false,
    "id": "EzXVRE1o_Zcu",
    "pycharm": {
     "name": "#%%\n"
    }
   },
   "outputs": [
    {
     "data": {
      "text/plain": [
       "genre\n",
       "pop            717\n",
       "dance          524\n",
       "rock           518\n",
       "electronic     485\n",
       "hiphop         238\n",
       "alternative    182\n",
       "classical      172\n",
       "world          172\n",
       "ruspop         149\n",
       "rusrap         133\n",
       "Name: genre, dtype: int64"
      ]
     },
     "execution_count": 32,
     "metadata": {},
     "output_type": "execute_result"
    }
   ],
   "source": [
    "genre_weekday(moscow_general, 'Friday', '17:00', '23:00')"
   ]
  },
  {
   "cell_type": "code",
   "execution_count": 33,
   "metadata": {
    "deletable": false,
    "id": "JZaEKu5v_Zcu",
    "pycharm": {
     "name": "#%%\n"
    }
   },
   "outputs": [
    {
     "data": {
      "text/plain": [
       "genre\n",
       "pop            263\n",
       "rock           208\n",
       "electronic     192\n",
       "dance          191\n",
       "hiphop         104\n",
       "alternative     72\n",
       "classical       71\n",
       "jazz            57\n",
       "rusrap          54\n",
       "ruspop          53\n",
       "Name: genre, dtype: int64"
      ]
     },
     "execution_count": 33,
     "metadata": {},
     "output_type": "execute_result"
    }
   ],
   "source": [
    "genre_weekday(spb_general, 'Friday', '17:00', '23:00')"
   ]
  },
  {
   "cell_type": "markdown",
   "metadata": {
    "deletable": false,
    "editable": false,
    "id": "wrCe4MNX_Zcu",
    "pycharm": {
     "name": "#%% md\n"
    }
   },
   "source": [
    "**Выводы**\n",
    "\n",
    "Если сравнить топ-10 жанров в понедельник утром, можно сделать такие выводы:\n",
    "\n",
    "1. В Москве и Петербурге слушают похожую музыку. Единственное отличие — в московский рейтинг вошёл жанр “world”, а в петербургский — джаз и классика.\n",
    "\n",
    "2. В Москве пропущенных значений оказалось так много, что значение `'unknown'` заняло десятое место среди самых популярных жанров. Значит, пропущенные значения занимают существенную долю в данных и угрожают достоверности исследования.\n",
    "\n",
    "Вечер пятницы не меняет эту картину. Некоторые жанры поднимаются немного выше, другие спускаются, но в целом топ-10 остаётся тем же самым.\n",
    "\n",
    "Таким образом, вторая гипотеза подтвердилась лишь частично:\n",
    "* Пользователи слушают похожую музыку в начале недели и в конце.\n",
    "* Разница между Москвой и Петербургом не слишком выражена. В Москве чаще слушают русскую популярную музыку, в Петербурге — джаз.\n",
    "\n",
    "Однако пропуски в данных ставят под сомнение этот результат. В Москве их так много, что рейтинг топ-10 мог бы выглядеть иначе, если бы не утерянные  данные о жанрах."
   ]
  },
  {
   "cell_type": "markdown",
   "metadata": {
    "deletable": false,
    "editable": false,
    "id": "JolODAqr_Zcu",
    "pycharm": {
     "name": "#%% md\n"
    }
   },
   "source": [
    "### Жанровые предпочтения в Москве и Петербурге\n",
    "\n",
    "Гипотеза: Петербург — столица рэпа, музыку этого жанра там слушают чаще, чем в Москве.  А Москва — город контрастов, в котором, тем не менее, преобладает поп-музыка."
   ]
  },
  {
   "cell_type": "markdown",
   "metadata": {
    "deletable": false,
    "editable": false,
    "id": "DlegSvaT_Zcu",
    "tags": [
     "start_task"
    ],
    "pycharm": {
     "name": "#%% md\n"
    }
   },
   "source": [
    "**Задание 26**\n",
    "\n",
    "Сгруппируйте таблицу `moscow_general` по жанру и посчитайте прослушивания треков каждого жанра методом `count()`. Затем отсортируйте результат в порядке убывания и сохраните его в таблице `moscow_genres`."
   ]
  },
  {
   "cell_type": "code",
   "execution_count": 34,
   "metadata": {
    "deletable": false,
    "id": "r19lIPke_Zcu",
    "pycharm": {
     "name": "#%%\n"
    }
   },
   "outputs": [],
   "source": [
    "moscow_genral = moscow_general.groupby('genre')['genre'].count()\n",
    "moscow_genres = moscow_genral.sort_values(ascending = False)\n"
   ]
  },
  {
   "cell_type": "markdown",
   "metadata": {
    "deletable": false,
    "editable": false,
    "id": "6kMuomxTiIr8",
    "tags": [
     "start_task"
    ],
    "pycharm": {
     "name": "#%% md\n"
    }
   },
   "source": [
    "**Задание 27**\n",
    "\n",
    "Выведите на экран первые десять строк `moscow_genres`:"
   ]
  },
  {
   "cell_type": "code",
   "execution_count": 35,
   "metadata": {
    "deletable": false,
    "id": "WhCSooF8_Zcv",
    "pycharm": {
     "name": "#%%\n"
    }
   },
   "outputs": [
    {
     "data": {
      "text/plain": [
       "genre\n",
       "pop            5892\n",
       "dance          4435\n",
       "rock           3965\n",
       "electronic     3786\n",
       "hiphop         2096\n",
       "classical      1616\n",
       "world          1432\n",
       "alternative    1379\n",
       "ruspop         1372\n",
       "rusrap         1161\n",
       "Name: genre, dtype: int64"
      ]
     },
     "metadata": {},
     "output_type": "display_data"
    }
   ],
   "source": [
    "moscow_genres.head(10)"
   ]
  },
  {
   "cell_type": "markdown",
   "metadata": {
    "deletable": false,
    "editable": false,
    "id": "cnPG2vnN_Zcv",
    "tags": [
     "start_task"
    ],
    "pycharm": {
     "name": "#%% md\n"
    }
   },
   "source": [
    "**Задание 28**\n",
    "\n",
    "\n",
    "Теперь повторите то же и для Петербурга.\n",
    "\n",
    "Сгруппируйте таблицу `spb_general` по жанру. Посчитайте прослушивания треков каждого жанра. Результат отсортируйте в порядке убывания и сохраните в таблице `spb_genres`:\n"
   ]
  },
  {
   "cell_type": "code",
   "execution_count": 39,
   "metadata": {
    "deletable": false,
    "id": "gluLIpE7_Zcv",
    "pycharm": {
     "name": "#%%\n"
    }
   },
   "outputs": [],
   "source": [
    "spb_genral = spb_general.groupby('genre')['genre'].count()\n",
    "spb_genres = spb_genral.sort_values(ascending = False)\n"
   ]
  },
  {
   "cell_type": "markdown",
   "metadata": {
    "deletable": false,
    "editable": false,
    "id": "5Doha_ODgyQ8",
    "tags": [
     "start_task"
    ],
    "pycharm": {
     "name": "#%% md\n"
    }
   },
   "source": [
    "**Задание 29**\n",
    "\n",
    "Выведите на экран первые десять строк `spb_genres`:"
   ]
  },
  {
   "cell_type": "code",
   "execution_count": 41,
   "metadata": {
    "deletable": false,
    "id": "uaGJHjVU_Zcv",
    "pycharm": {
     "name": "#%%\n"
    }
   },
   "outputs": [
    {
     "data": {
      "text/plain": [
       "genre\n",
       "pop            2431\n",
       "dance          1932\n",
       "rock           1879\n",
       "electronic     1736\n",
       "hiphop          960\n",
       "alternative     649\n",
       "classical       646\n",
       "rusrap          564\n",
       "ruspop          538\n",
       "world           515\n",
       "Name: genre, dtype: int64"
      ]
     },
     "metadata": {},
     "output_type": "display_data"
    }
   ],
   "source": [
    "spb_genres.head(10)"
   ]
  },
  {
   "cell_type": "markdown",
   "metadata": {
    "deletable": false,
    "editable": false,
    "id": "RY51YJYu_Zcv",
    "pycharm": {
     "name": "#%% md\n"
    }
   },
   "source": [
    "**Выводы**"
   ]
  },
  {
   "cell_type": "markdown",
   "metadata": {
    "deletable": false,
    "editable": false,
    "id": "nVhnJEm__Zcv",
    "pycharm": {
     "name": "#%% md\n"
    }
   },
   "source": [
    "Гипотеза частично подтвердилась:\n",
    "* Поп-музыка — самый популярный жанр в Москве, как и предполагала гипотеза. Более того, в топ-10 жанров встречается близкий жанр — русская популярная музыка.\n",
    "* Вопреки ожиданиям, рэп одинаково популярен в Москве и Петербурге. \n"
   ]
  },
  {
   "cell_type": "markdown",
   "metadata": {
    "deletable": false,
    "editable": false,
    "id": "ykKQ0N65_Zcv",
    "pycharm": {
     "name": "#%% md\n"
    }
   },
   "source": [
    "## Итоги исследования"
   ]
  },
  {
   "cell_type": "markdown",
   "metadata": {
    "deletable": false,
    "editable": false,
    "id": "tjUwbHb3_Zcv",
    "pycharm": {
     "name": "#%% md\n"
    }
   },
   "source": [
    "Вы проверили три гипотезы и установили:\n",
    "\n",
    "1. День недели по-разному влияет на активность пользователей в Москве и Петербурге. \n",
    "\n",
    "Первая гипотеза полностью подтвердилась.\n",
    "\n",
    "2. Музыкальные предпочтения не сильно меняются в течение недели — будь то Москва или Петербург. Небольшие различия заметны в начале недели, по понедельникам:\n",
    "* в Москве слушают музыку жанра “world”,\n",
    "* в Петербурге — джаз и классику.\n",
    "\n",
    "Таким образом, вторая гипотеза подтвердилась лишь отчасти. Этот результат мог оказаться иным, если бы не пропуски в данных.\n",
    "\n",
    "3. Во вкусах пользователей Москвы и Петербурга больше общего чем различий. Вопреки ожиданиям, предпочтения жанров в Петербурге напоминают московские.\n",
    "\n",
    "Третья гипотеза не подтвердилась. Если различия в предпочтениях и существуют, на основной массе пользователей они незаметны.\n",
    "\n",
    "**На практике исследования содержат проверки статистических гипотез.**\n",
    "Из данных одного сервиса не всегда можно сделать вывод о всех жителях города.\n",
    "Проверки статистических гипотез покажут, насколько они достоверны, исходя из имеющихся данных. \n",
    "С методами проверок гипотез вы ещё познакомитесь в следующих темах."
   ]
  }
 ],
 "metadata": {
  "ExecuteTimeLog": [
   {
    "duration": 441,
    "start_time": "2022-07-10T07:14:08.795Z"
   },
   {
    "duration": 201,
    "start_time": "2022-07-10T07:15:44.085Z"
   },
   {
    "duration": 172,
    "start_time": "2022-07-10T07:15:50.287Z"
   },
   {
    "duration": 11,
    "start_time": "2022-07-10T07:16:22.159Z"
   },
   {
    "duration": 79,
    "start_time": "2022-07-10T07:16:45.306Z"
   },
   {
    "duration": 10,
    "start_time": "2022-07-10T07:17:06.326Z"
   },
   {
    "duration": 16,
    "start_time": "2022-07-10T07:17:23.414Z"
   },
   {
    "duration": 11,
    "start_time": "2022-07-10T07:18:43.113Z"
   },
   {
    "duration": 3,
    "start_time": "2022-07-10T07:21:47.950Z"
   },
   {
    "duration": 54,
    "start_time": "2022-07-11T02:46:49.853Z"
   },
   {
    "duration": 40,
    "start_time": "2022-07-11T02:48:32.679Z"
   },
   {
    "duration": 396,
    "start_time": "2022-07-11T02:49:01.241Z"
   },
   {
    "duration": 207,
    "start_time": "2022-07-11T02:49:01.639Z"
   },
   {
    "duration": 16,
    "start_time": "2022-07-11T02:49:01.848Z"
   },
   {
    "duration": 9,
    "start_time": "2022-07-11T02:49:01.866Z"
   },
   {
    "duration": 65,
    "start_time": "2022-07-11T02:49:01.877Z"
   },
   {
    "duration": 3,
    "start_time": "2022-07-11T02:49:10.061Z"
   },
   {
    "duration": 141,
    "start_time": "2022-07-11T02:49:12.770Z"
   },
   {
    "duration": 10,
    "start_time": "2022-07-11T02:49:16.422Z"
   },
   {
    "duration": 8,
    "start_time": "2022-07-11T02:49:21.062Z"
   },
   {
    "duration": 4,
    "start_time": "2022-07-11T02:49:27.817Z"
   },
   {
    "duration": 12,
    "start_time": "2022-07-11T02:53:19.664Z"
   },
   {
    "duration": 13,
    "start_time": "2022-07-11T02:53:24.122Z"
   },
   {
    "duration": 4,
    "start_time": "2022-07-11T02:53:41.673Z"
   },
   {
    "duration": 28,
    "start_time": "2022-07-11T03:20:22.159Z"
   },
   {
    "duration": 26,
    "start_time": "2022-07-11T03:20:40.005Z"
   },
   {
    "duration": 26,
    "start_time": "2022-07-11T04:05:49.368Z"
   },
   {
    "duration": 2,
    "start_time": "2022-07-11T04:13:21.404Z"
   },
   {
    "duration": 46,
    "start_time": "2022-07-11T04:22:18.205Z"
   },
   {
    "duration": 57,
    "start_time": "2022-07-11T04:22:47.790Z"
   },
   {
    "duration": 47,
    "start_time": "2022-07-11T04:22:51.663Z"
   },
   {
    "duration": 17,
    "start_time": "2022-07-11T04:23:36.814Z"
   },
   {
    "duration": 25,
    "start_time": "2022-07-11T04:24:15.578Z"
   },
   {
    "duration": 30,
    "start_time": "2022-07-11T04:26:02.926Z"
   },
   {
    "duration": 27,
    "start_time": "2022-07-11T04:26:12.054Z"
   },
   {
    "duration": 61,
    "start_time": "2022-07-11T04:26:52.144Z"
   },
   {
    "duration": 8,
    "start_time": "2022-07-11T04:30:58.389Z"
   },
   {
    "duration": 7,
    "start_time": "2022-07-11T04:31:12.224Z"
   },
   {
    "duration": 71,
    "start_time": "2022-07-11T04:31:25.484Z"
   },
   {
    "duration": 55,
    "start_time": "2022-07-11T04:31:43.304Z"
   },
   {
    "duration": 10,
    "start_time": "2022-07-11T04:38:15.093Z"
   },
   {
    "duration": 10,
    "start_time": "2022-07-11T04:40:10.782Z"
   },
   {
    "duration": 8,
    "start_time": "2022-07-11T04:40:31.443Z"
   },
   {
    "duration": 10,
    "start_time": "2022-07-11T04:40:40.033Z"
   },
   {
    "duration": 7,
    "start_time": "2022-07-11T04:41:02.036Z"
   },
   {
    "duration": 7,
    "start_time": "2022-07-11T04:47:49.840Z"
   },
   {
    "duration": 6,
    "start_time": "2022-07-11T04:47:52.980Z"
   },
   {
    "duration": 7,
    "start_time": "2022-07-11T04:49:19.004Z"
   },
   {
    "duration": 11,
    "start_time": "2022-07-11T04:49:37.514Z"
   },
   {
    "duration": 9,
    "start_time": "2022-07-11T04:50:00.150Z"
   },
   {
    "duration": 3,
    "start_time": "2022-07-11T04:52:12.045Z"
   },
   {
    "duration": 7,
    "start_time": "2022-07-11T04:57:09.101Z"
   },
   {
    "duration": 10,
    "start_time": "2022-07-11T04:57:19.062Z"
   },
   {
    "duration": 7,
    "start_time": "2022-07-11T05:07:16.484Z"
   },
   {
    "duration": 7,
    "start_time": "2022-07-11T05:07:30.689Z"
   },
   {
    "duration": 4,
    "start_time": "2022-07-11T05:07:56.878Z"
   },
   {
    "duration": 9,
    "start_time": "2022-07-11T05:08:01.561Z"
   },
   {
    "duration": 11,
    "start_time": "2022-07-11T05:08:04.370Z"
   },
   {
    "duration": 10,
    "start_time": "2022-07-11T05:08:59.033Z"
   },
   {
    "duration": 10,
    "start_time": "2022-07-11T05:12:02.115Z"
   },
   {
    "duration": 11,
    "start_time": "2022-07-11T05:15:07.205Z"
   },
   {
    "duration": 9,
    "start_time": "2022-07-11T06:19:44.938Z"
   },
   {
    "duration": 8,
    "start_time": "2022-07-11T06:19:58.858Z"
   },
   {
    "duration": 9,
    "start_time": "2022-07-11T06:20:11.329Z"
   },
   {
    "duration": 15,
    "start_time": "2022-07-11T06:22:01.818Z"
   },
   {
    "duration": 9,
    "start_time": "2022-07-11T06:22:55.220Z"
   },
   {
    "duration": 10,
    "start_time": "2022-07-11T06:32:22.625Z"
   },
   {
    "duration": 9,
    "start_time": "2022-07-11T06:33:13.434Z"
   },
   {
    "duration": 10,
    "start_time": "2022-07-11T06:33:45.993Z"
   },
   {
    "duration": 11,
    "start_time": "2022-07-11T06:56:55.052Z"
   },
   {
    "duration": 48,
    "start_time": "2022-07-11T10:16:36.705Z"
   },
   {
    "duration": 6,
    "start_time": "2022-07-11T10:16:57.916Z"
   },
   {
    "duration": 7,
    "start_time": "2022-07-11T10:17:44.261Z"
   },
   {
    "duration": 9,
    "start_time": "2022-07-11T10:17:54.964Z"
   },
   {
    "duration": 8,
    "start_time": "2022-07-11T10:18:40.565Z"
   },
   {
    "duration": 6,
    "start_time": "2022-07-11T10:18:46.485Z"
   },
   {
    "duration": 7,
    "start_time": "2022-07-11T10:19:01.939Z"
   },
   {
    "duration": 7,
    "start_time": "2022-07-11T10:19:17.548Z"
   },
   {
    "duration": 8,
    "start_time": "2022-07-11T10:19:45.886Z"
   },
   {
    "duration": 6,
    "start_time": "2022-07-11T10:19:55.961Z"
   },
   {
    "duration": 6,
    "start_time": "2022-07-11T10:20:00.567Z"
   },
   {
    "duration": 8,
    "start_time": "2022-07-11T10:20:05.109Z"
   },
   {
    "duration": 445,
    "start_time": "2022-07-11T10:20:17.462Z"
   },
   {
    "duration": 240,
    "start_time": "2022-07-11T10:20:20.797Z"
   },
   {
    "duration": 19,
    "start_time": "2022-07-11T10:20:23.319Z"
   },
   {
    "duration": 10,
    "start_time": "2022-07-11T10:20:27.179Z"
   },
   {
    "duration": 8,
    "start_time": "2022-07-11T10:20:42.951Z"
   },
   {
    "duration": 12,
    "start_time": "2022-07-11T10:21:14.904Z"
   },
   {
    "duration": 4,
    "start_time": "2022-07-11T10:21:20.563Z"
   },
   {
    "duration": 26,
    "start_time": "2022-07-11T10:21:28.562Z"
   },
   {
    "duration": 33,
    "start_time": "2022-07-11T10:21:36.642Z"
   },
   {
    "duration": 26,
    "start_time": "2022-07-11T10:21:56.698Z"
   },
   {
    "duration": 67,
    "start_time": "2022-07-11T10:22:02.772Z"
   },
   {
    "duration": 141,
    "start_time": "2022-07-11T10:22:09.431Z"
   },
   {
    "duration": 75,
    "start_time": "2022-07-11T10:22:13.036Z"
   },
   {
    "duration": 59,
    "start_time": "2022-07-11T10:22:17.007Z"
   },
   {
    "duration": 12,
    "start_time": "2022-07-11T10:22:27.369Z"
   },
   {
    "duration": 10,
    "start_time": "2022-07-11T10:24:29.682Z"
   },
   {
    "duration": 30,
    "start_time": "2022-07-11T10:28:04.270Z"
   },
   {
    "duration": 9,
    "start_time": "2022-07-11T10:29:01.354Z"
   },
   {
    "duration": 16,
    "start_time": "2022-07-11T10:31:38.363Z"
   },
   {
    "duration": 52,
    "start_time": "2022-07-11T10:51:18.927Z"
   },
   {
    "duration": 40,
    "start_time": "2022-07-11T10:53:14.335Z"
   },
   {
    "duration": 86,
    "start_time": "2022-07-11T11:09:54.413Z"
   },
   {
    "duration": 79,
    "start_time": "2022-07-11T11:20:08.122Z"
   },
   {
    "duration": 162,
    "start_time": "2022-07-11T11:20:55.633Z"
   },
   {
    "duration": 189,
    "start_time": "2022-07-11T11:22:52.426Z"
   },
   {
    "duration": 51,
    "start_time": "2022-07-11T13:58:51.883Z"
   },
   {
    "duration": 413,
    "start_time": "2022-07-11T13:59:06.354Z"
   },
   {
    "duration": 786,
    "start_time": "2022-07-11T13:59:06.770Z"
   },
   {
    "duration": 19,
    "start_time": "2022-07-11T13:59:07.558Z"
   },
   {
    "duration": 14,
    "start_time": "2022-07-11T13:59:07.579Z"
   },
   {
    "duration": 90,
    "start_time": "2022-07-11T13:59:07.595Z"
   },
   {
    "duration": 0,
    "start_time": "2022-07-11T13:59:07.689Z"
   },
   {
    "duration": 1,
    "start_time": "2022-07-11T13:59:07.690Z"
   },
   {
    "duration": 0,
    "start_time": "2022-07-11T13:59:07.692Z"
   },
   {
    "duration": 0,
    "start_time": "2022-07-11T13:59:07.693Z"
   },
   {
    "duration": 0,
    "start_time": "2022-07-11T13:59:07.695Z"
   },
   {
    "duration": 0,
    "start_time": "2022-07-11T13:59:07.696Z"
   },
   {
    "duration": 0,
    "start_time": "2022-07-11T13:59:07.698Z"
   },
   {
    "duration": 0,
    "start_time": "2022-07-11T13:59:07.699Z"
   },
   {
    "duration": 0,
    "start_time": "2022-07-11T13:59:07.700Z"
   },
   {
    "duration": 0,
    "start_time": "2022-07-11T13:59:07.702Z"
   },
   {
    "duration": 0,
    "start_time": "2022-07-11T13:59:07.702Z"
   },
   {
    "duration": 0,
    "start_time": "2022-07-11T13:59:07.703Z"
   },
   {
    "duration": 0,
    "start_time": "2022-07-11T13:59:07.705Z"
   },
   {
    "duration": 0,
    "start_time": "2022-07-11T13:59:07.707Z"
   },
   {
    "duration": 0,
    "start_time": "2022-07-11T13:59:07.708Z"
   },
   {
    "duration": 0,
    "start_time": "2022-07-11T13:59:07.709Z"
   },
   {
    "duration": 0,
    "start_time": "2022-07-11T13:59:07.711Z"
   },
   {
    "duration": 0,
    "start_time": "2022-07-11T13:59:07.712Z"
   },
   {
    "duration": 0,
    "start_time": "2022-07-11T13:59:07.713Z"
   },
   {
    "duration": 0,
    "start_time": "2022-07-11T13:59:07.715Z"
   },
   {
    "duration": 0,
    "start_time": "2022-07-11T13:59:07.716Z"
   },
   {
    "duration": 0,
    "start_time": "2022-07-11T13:59:07.719Z"
   },
   {
    "duration": 0,
    "start_time": "2022-07-11T13:59:07.720Z"
   },
   {
    "duration": 0,
    "start_time": "2022-07-11T13:59:07.721Z"
   },
   {
    "duration": 0,
    "start_time": "2022-07-11T13:59:07.723Z"
   },
   {
    "duration": 0,
    "start_time": "2022-07-11T13:59:07.724Z"
   },
   {
    "duration": 0,
    "start_time": "2022-07-11T13:59:07.725Z"
   },
   {
    "duration": 0,
    "start_time": "2022-07-11T13:59:07.726Z"
   },
   {
    "duration": 0,
    "start_time": "2022-07-11T13:59:07.727Z"
   },
   {
    "duration": 0,
    "start_time": "2022-07-11T13:59:07.728Z"
   },
   {
    "duration": 0,
    "start_time": "2022-07-11T13:59:07.730Z"
   },
   {
    "duration": 0,
    "start_time": "2022-07-11T13:59:07.731Z"
   },
   {
    "duration": 0,
    "start_time": "2022-07-11T13:59:07.732Z"
   },
   {
    "duration": 5,
    "start_time": "2022-07-11T13:59:35.839Z"
   },
   {
    "duration": 1315,
    "start_time": "2022-07-11T13:59:45.688Z"
   },
   {
    "duration": 3,
    "start_time": "2022-07-11T13:59:53.913Z"
   },
   {
    "duration": 178,
    "start_time": "2022-07-11T13:59:57.609Z"
   },
   {
    "duration": 12,
    "start_time": "2022-07-11T14:00:01.077Z"
   },
   {
    "duration": 9,
    "start_time": "2022-07-11T14:00:05.875Z"
   },
   {
    "duration": 76,
    "start_time": "2022-07-11T14:00:11.585Z"
   },
   {
    "duration": 4,
    "start_time": "2022-07-11T14:00:20.067Z"
   },
   {
    "duration": 12,
    "start_time": "2022-07-11T14:00:23.861Z"
   },
   {
    "duration": 4,
    "start_time": "2022-07-11T14:00:28.629Z"
   },
   {
    "duration": 25,
    "start_time": "2022-07-11T14:00:32.647Z"
   },
   {
    "duration": 31,
    "start_time": "2022-07-11T14:00:36.618Z"
   },
   {
    "duration": 24,
    "start_time": "2022-07-11T14:00:55.968Z"
   },
   {
    "duration": 73,
    "start_time": "2022-07-11T14:01:01.461Z"
   },
   {
    "duration": 87,
    "start_time": "2022-07-11T14:01:05.015Z"
   },
   {
    "duration": 77,
    "start_time": "2022-07-11T14:01:09.038Z"
   },
   {
    "duration": 37,
    "start_time": "2022-07-11T14:01:13.282Z"
   },
   {
    "duration": 12,
    "start_time": "2022-07-11T14:01:18.209Z"
   },
   {
    "duration": 8,
    "start_time": "2022-07-11T14:01:23.365Z"
   },
   {
    "duration": 43,
    "start_time": "2022-07-11T14:01:38.826Z"
   },
   {
    "duration": 40,
    "start_time": "2022-07-11T14:01:43.267Z"
   },
   {
    "duration": 112,
    "start_time": "2022-07-11T14:21:43.062Z"
   },
   {
    "duration": 83,
    "start_time": "2022-07-11T14:22:02.922Z"
   },
   {
    "duration": 89,
    "start_time": "2022-07-11T14:22:21.542Z"
   },
   {
    "duration": 78,
    "start_time": "2022-07-11T14:22:32.829Z"
   },
   {
    "duration": 77,
    "start_time": "2022-07-11T14:27:03.003Z"
   },
   {
    "duration": 84,
    "start_time": "2022-07-11T14:34:01.905Z"
   },
   {
    "duration": 4,
    "start_time": "2022-07-11T14:34:04.806Z"
   },
   {
    "duration": 111,
    "start_time": "2022-07-11T14:34:08.703Z"
   },
   {
    "duration": 4,
    "start_time": "2022-07-11T14:35:22.944Z"
   },
   {
    "duration": 7,
    "start_time": "2022-07-11T15:10:17.066Z"
   },
   {
    "duration": 20,
    "start_time": "2022-07-11T15:13:29.697Z"
   },
   {
    "duration": 17,
    "start_time": "2022-07-11T15:14:21.169Z"
   },
   {
    "duration": 17,
    "start_time": "2022-07-11T15:14:24.631Z"
   },
   {
    "duration": 16,
    "start_time": "2022-07-11T15:14:33.114Z"
   },
   {
    "duration": 18,
    "start_time": "2022-07-11T15:15:01.822Z"
   },
   {
    "duration": 16,
    "start_time": "2022-07-11T15:15:20.004Z"
   },
   {
    "duration": 9,
    "start_time": "2022-07-11T15:25:07.442Z"
   },
   {
    "duration": 21,
    "start_time": "2022-07-11T15:33:49.650Z"
   },
   {
    "duration": 15,
    "start_time": "2022-07-11T15:38:50.728Z"
   },
   {
    "duration": 9,
    "start_time": "2022-07-11T15:39:13.739Z"
   },
   {
    "duration": 79,
    "start_time": "2022-07-11T15:55:42.318Z"
   },
   {
    "duration": 11,
    "start_time": "2022-07-11T15:56:04.098Z"
   },
   {
    "duration": 74,
    "start_time": "2022-07-12T06:30:29.005Z"
   },
   {
    "duration": 45,
    "start_time": "2022-07-12T06:30:46.524Z"
   },
   {
    "duration": 6,
    "start_time": "2022-07-12T06:31:28.812Z"
   },
   {
    "duration": 2,
    "start_time": "2022-07-12T06:31:29.885Z"
   },
   {
    "duration": 6,
    "start_time": "2022-07-12T06:31:35.572Z"
   },
   {
    "duration": 8,
    "start_time": "2022-07-12T06:35:23.213Z"
   },
   {
    "duration": 7,
    "start_time": "2022-07-12T06:35:25.525Z"
   },
   {
    "duration": 7,
    "start_time": "2022-07-12T06:41:02.165Z"
   },
   {
    "duration": 2,
    "start_time": "2022-07-12T06:41:04.167Z"
   },
   {
    "duration": 6,
    "start_time": "2022-07-12T06:41:11.254Z"
   },
   {
    "duration": 7,
    "start_time": "2022-07-12T06:41:58.406Z"
   },
   {
    "duration": 6,
    "start_time": "2022-07-12T06:42:00.926Z"
   },
   {
    "duration": 471,
    "start_time": "2022-07-12T06:42:18.031Z"
   },
   {
    "duration": 212,
    "start_time": "2022-07-12T06:42:21.174Z"
   },
   {
    "duration": 18,
    "start_time": "2022-07-12T06:42:24.765Z"
   },
   {
    "duration": 12,
    "start_time": "2022-07-12T06:42:28.851Z"
   },
   {
    "duration": 4,
    "start_time": "2022-07-12T06:42:37.645Z"
   },
   {
    "duration": 13,
    "start_time": "2022-07-12T06:42:43.034Z"
   },
   {
    "duration": 6,
    "start_time": "2022-07-12T06:42:45.726Z"
   },
   {
    "duration": 45,
    "start_time": "2022-07-12T06:42:49.413Z"
   },
   {
    "duration": 22,
    "start_time": "2022-07-12T06:42:52.885Z"
   },
   {
    "duration": 27,
    "start_time": "2022-07-12T06:42:57.046Z"
   },
   {
    "duration": 81,
    "start_time": "2022-07-12T06:43:00.125Z"
   },
   {
    "duration": 75,
    "start_time": "2022-07-12T06:43:02.965Z"
   },
   {
    "duration": 52,
    "start_time": "2022-07-12T06:43:06.224Z"
   },
   {
    "duration": 12,
    "start_time": "2022-07-12T06:43:10.174Z"
   },
   {
    "duration": 10,
    "start_time": "2022-07-12T06:43:13.934Z"
   },
   {
    "duration": 41,
    "start_time": "2022-07-12T06:43:19.325Z"
   },
   {
    "duration": 41,
    "start_time": "2022-07-12T06:43:22.914Z"
   },
   {
    "duration": 3,
    "start_time": "2022-07-12T06:43:27.086Z"
   },
   {
    "duration": 19,
    "start_time": "2022-07-12T06:43:30.846Z"
   },
   {
    "duration": 17,
    "start_time": "2022-07-12T06:43:33.486Z"
   },
   {
    "duration": 17,
    "start_time": "2022-07-12T06:43:34.045Z"
   },
   {
    "duration": 16,
    "start_time": "2022-07-12T06:43:34.773Z"
   },
   {
    "duration": 20,
    "start_time": "2022-07-12T06:43:35.622Z"
   },
   {
    "duration": 18,
    "start_time": "2022-07-12T06:43:36.611Z"
   },
   {
    "duration": 9,
    "start_time": "2022-07-12T06:43:39.846Z"
   },
   {
    "duration": 34,
    "start_time": "2022-07-12T06:43:43.734Z"
   },
   {
    "duration": 9,
    "start_time": "2022-07-12T06:45:47.614Z"
   },
   {
    "duration": 11,
    "start_time": "2022-07-12T06:45:51.374Z"
   },
   {
    "duration": 37,
    "start_time": "2022-07-12T06:46:16.526Z"
   },
   {
    "duration": 19,
    "start_time": "2022-07-12T06:46:21.085Z"
   },
   {
    "duration": 15,
    "start_time": "2022-07-12T06:46:23.465Z"
   },
   {
    "duration": 20,
    "start_time": "2022-07-12T06:46:38.727Z"
   },
   {
    "duration": 11,
    "start_time": "2022-07-12T06:48:47.464Z"
   },
   {
    "duration": 16,
    "start_time": "2022-07-12T06:48:57.494Z"
   },
   {
    "duration": 4,
    "start_time": "2022-07-12T06:55:15.686Z"
   },
   {
    "duration": 4,
    "start_time": "2022-07-12T06:55:40.727Z"
   },
   {
    "duration": 52,
    "start_time": "2022-07-12T07:37:00.860Z"
   },
   {
    "duration": 5,
    "start_time": "2022-07-12T07:50:40.981Z"
   },
   {
    "duration": 6,
    "start_time": "2022-07-12T07:50:53.224Z"
   },
   {
    "duration": 26,
    "start_time": "2022-07-12T07:54:32.932Z"
   },
   {
    "duration": 6,
    "start_time": "2022-07-12T08:02:52.869Z"
   },
   {
    "duration": 17,
    "start_time": "2022-07-12T08:22:12.929Z"
   },
   {
    "duration": 15,
    "start_time": "2022-07-12T08:24:04.296Z"
   },
   {
    "duration": 66,
    "start_time": "2022-07-12T11:07:56.357Z"
   },
   {
    "duration": 6,
    "start_time": "2022-07-12T11:07:59.757Z"
   },
   {
    "duration": 6,
    "start_time": "2022-07-12T11:08:03.019Z"
   },
   {
    "duration": 6,
    "start_time": "2022-07-12T11:08:06.997Z"
   },
   {
    "duration": 6,
    "start_time": "2022-07-12T11:08:09.517Z"
   },
   {
    "duration": 6,
    "start_time": "2022-07-12T11:08:47.957Z"
   },
   {
    "duration": 3,
    "start_time": "2022-07-12T11:08:49.437Z"
   },
   {
    "duration": 7,
    "start_time": "2022-07-12T11:08:56.886Z"
   },
   {
    "duration": 388,
    "start_time": "2022-07-12T11:09:23.485Z"
   },
   {
    "duration": 254,
    "start_time": "2022-07-12T11:09:26.204Z"
   },
   {
    "duration": 13,
    "start_time": "2022-07-12T11:09:34.757Z"
   },
   {
    "duration": 4,
    "start_time": "2022-07-12T11:09:43.678Z"
   },
   {
    "duration": 12,
    "start_time": "2022-07-12T11:09:48.327Z"
   },
   {
    "duration": 4,
    "start_time": "2022-07-12T11:09:53.197Z"
   },
   {
    "duration": 26,
    "start_time": "2022-07-12T11:09:56.157Z"
   },
   {
    "duration": 19,
    "start_time": "2022-07-12T11:09:59.957Z"
   },
   {
    "duration": 24,
    "start_time": "2022-07-12T11:10:03.357Z"
   },
   {
    "duration": 63,
    "start_time": "2022-07-12T11:10:07.277Z"
   },
   {
    "duration": 76,
    "start_time": "2022-07-12T11:10:10.317Z"
   },
   {
    "duration": 61,
    "start_time": "2022-07-12T11:10:13.125Z"
   },
   {
    "duration": 54,
    "start_time": "2022-07-12T11:10:16.477Z"
   },
   {
    "duration": 13,
    "start_time": "2022-07-12T11:10:21.877Z"
   },
   {
    "duration": 9,
    "start_time": "2022-07-12T11:10:26.887Z"
   },
   {
    "duration": 35,
    "start_time": "2022-07-12T11:10:35.598Z"
   },
   {
    "duration": 31,
    "start_time": "2022-07-12T11:10:39.819Z"
   },
   {
    "duration": 3,
    "start_time": "2022-07-12T11:10:44.108Z"
   },
   {
    "duration": 15,
    "start_time": "2022-07-12T11:10:47.318Z"
   },
   {
    "duration": 14,
    "start_time": "2022-07-12T11:10:48.478Z"
   },
   {
    "duration": 16,
    "start_time": "2022-07-12T11:10:49.397Z"
   },
   {
    "duration": 13,
    "start_time": "2022-07-12T11:10:50.237Z"
   },
   {
    "duration": 15,
    "start_time": "2022-07-12T11:10:51.328Z"
   },
   {
    "duration": 14,
    "start_time": "2022-07-12T11:10:52.477Z"
   },
   {
    "duration": 9,
    "start_time": "2022-07-12T11:10:56.997Z"
   },
   {
    "duration": 11,
    "start_time": "2022-07-12T11:11:01.805Z"
   },
   {
    "duration": 9,
    "start_time": "2022-07-12T11:11:03.438Z"
   },
   {
    "duration": 8,
    "start_time": "2022-07-12T11:11:07.204Z"
   },
   {
    "duration": 18,
    "start_time": "2022-07-12T11:11:10.997Z"
   },
   {
    "duration": 13,
    "start_time": "2022-07-12T11:11:14.717Z"
   },
   {
    "duration": 18,
    "start_time": "2022-07-12T11:11:18.597Z"
   },
   {
    "duration": 14,
    "start_time": "2022-07-12T11:11:49.196Z"
   },
   {
    "duration": 10,
    "start_time": "2022-07-12T11:18:44.174Z"
   },
   {
    "duration": 31,
    "start_time": "2022-07-12T11:18:47.801Z"
   },
   {
    "duration": 11,
    "start_time": "2022-07-12T11:18:50.175Z"
   },
   {
    "duration": 3,
    "start_time": "2022-07-12T11:18:58.560Z"
   },
   {
    "duration": 159,
    "start_time": "2022-07-12T11:19:00.520Z"
   },
   {
    "duration": 12,
    "start_time": "2022-07-12T11:19:03.362Z"
   },
   {
    "duration": 10,
    "start_time": "2022-07-12T11:19:08.520Z"
   },
   {
    "duration": 81,
    "start_time": "2022-07-12T11:19:14.160Z"
   },
   {
    "duration": 7,
    "start_time": "2022-07-12T11:19:20.163Z"
   },
   {
    "duration": 14,
    "start_time": "2022-07-12T11:19:24.761Z"
   },
   {
    "duration": 9,
    "start_time": "2022-07-12T11:19:27.361Z"
   },
   {
    "duration": 26,
    "start_time": "2022-07-12T11:19:31.021Z"
   },
   {
    "duration": 18,
    "start_time": "2022-07-12T11:19:34.890Z"
   },
   {
    "duration": 30,
    "start_time": "2022-07-12T11:19:37.764Z"
   },
   {
    "duration": 68,
    "start_time": "2022-07-12T11:19:40.960Z"
   },
   {
    "duration": 80,
    "start_time": "2022-07-12T11:19:43.601Z"
   },
   {
    "duration": 79,
    "start_time": "2022-07-12T11:19:46.561Z"
   },
   {
    "duration": 47,
    "start_time": "2022-07-12T11:19:53.653Z"
   },
   {
    "duration": 15,
    "start_time": "2022-07-12T11:19:59.365Z"
   },
   {
    "duration": 12,
    "start_time": "2022-07-12T11:20:02.969Z"
   },
   {
    "duration": 41,
    "start_time": "2022-07-12T11:20:10.760Z"
   },
   {
    "duration": 39,
    "start_time": "2022-07-12T11:20:15.960Z"
   },
   {
    "duration": 4,
    "start_time": "2022-07-12T11:20:21.283Z"
   },
   {
    "duration": 24,
    "start_time": "2022-07-12T11:20:26.681Z"
   },
   {
    "duration": 14,
    "start_time": "2022-07-12T11:20:27.481Z"
   },
   {
    "duration": 15,
    "start_time": "2022-07-12T11:20:28.601Z"
   },
   {
    "duration": 14,
    "start_time": "2022-07-12T11:20:29.419Z"
   },
   {
    "duration": 27,
    "start_time": "2022-07-12T11:20:31.565Z"
   },
   {
    "duration": 13,
    "start_time": "2022-07-12T11:20:32.401Z"
   },
   {
    "duration": 11,
    "start_time": "2022-07-12T11:20:36.482Z"
   },
   {
    "duration": 12,
    "start_time": "2022-07-12T11:20:42.369Z"
   },
   {
    "duration": 20,
    "start_time": "2022-07-12T11:20:43.360Z"
   },
   {
    "duration": 6,
    "start_time": "2022-07-12T11:20:47.377Z"
   },
   {
    "duration": 18,
    "start_time": "2022-07-12T11:20:50.682Z"
   },
   {
    "duration": 15,
    "start_time": "2022-07-12T11:20:54.041Z"
   },
   {
    "duration": 25,
    "start_time": "2022-07-12T11:20:54.841Z"
   },
   {
    "duration": 20,
    "start_time": "2022-07-12T11:20:55.961Z"
   },
   {
    "duration": 11,
    "start_time": "2022-07-12T11:21:01.571Z"
   },
   {
    "duration": 5,
    "start_time": "2022-07-12T11:21:33.600Z"
   },
   {
    "duration": 388,
    "start_time": "2022-07-12T14:59:27.298Z"
   },
   {
    "duration": 253,
    "start_time": "2022-07-12T14:59:30.508Z"
   },
   {
    "duration": 16,
    "start_time": "2022-07-12T14:59:33.578Z"
   },
   {
    "duration": 9,
    "start_time": "2022-07-12T14:59:37.548Z"
   },
   {
    "duration": 4,
    "start_time": "2022-07-12T14:59:48.518Z"
   },
   {
    "duration": 12,
    "start_time": "2022-07-12T14:59:53.418Z"
   },
   {
    "duration": 4,
    "start_time": "2022-07-12T14:59:56.898Z"
   },
   {
    "duration": 27,
    "start_time": "2022-07-12T15:00:01.808Z"
   },
   {
    "duration": 22,
    "start_time": "2022-07-12T15:00:05.598Z"
   },
   {
    "duration": 31,
    "start_time": "2022-07-12T15:00:08.968Z"
   },
   {
    "duration": 87,
    "start_time": "2022-07-12T15:00:12.668Z"
   },
   {
    "duration": 87,
    "start_time": "2022-07-12T15:00:15.818Z"
   },
   {
    "duration": 66,
    "start_time": "2022-07-12T15:00:18.848Z"
   },
   {
    "duration": 42,
    "start_time": "2022-07-12T15:00:22.388Z"
   },
   {
    "duration": 11,
    "start_time": "2022-07-12T15:00:27.278Z"
   },
   {
    "duration": 9,
    "start_time": "2022-07-12T15:00:31.737Z"
   },
   {
    "duration": 55,
    "start_time": "2022-07-12T15:00:39.858Z"
   },
   {
    "duration": 35,
    "start_time": "2022-07-12T15:00:45.879Z"
   },
   {
    "duration": 3,
    "start_time": "2022-07-12T15:00:50.579Z"
   },
   {
    "duration": 25,
    "start_time": "2022-07-12T15:00:53.885Z"
   },
   {
    "duration": 23,
    "start_time": "2022-07-12T15:00:54.532Z"
   },
   {
    "duration": 23,
    "start_time": "2022-07-12T15:00:55.552Z"
   },
   {
    "duration": 16,
    "start_time": "2022-07-12T15:00:56.340Z"
   },
   {
    "duration": 18,
    "start_time": "2022-07-12T15:00:57.467Z"
   },
   {
    "duration": 17,
    "start_time": "2022-07-12T15:00:58.337Z"
   },
   {
    "duration": 12,
    "start_time": "2022-07-12T15:01:02.650Z"
   },
   {
    "duration": 11,
    "start_time": "2022-07-12T15:01:07.549Z"
   },
   {
    "duration": 13,
    "start_time": "2022-07-12T15:01:08.768Z"
   },
   {
    "duration": 6,
    "start_time": "2022-07-12T15:01:13.878Z"
   },
   {
    "duration": 18,
    "start_time": "2022-07-12T15:01:17.888Z"
   },
   {
    "duration": 12,
    "start_time": "2022-07-12T15:01:21.457Z"
   },
   {
    "duration": 19,
    "start_time": "2022-07-12T15:01:24.868Z"
   },
   {
    "duration": 13,
    "start_time": "2022-07-12T15:01:27.688Z"
   },
   {
    "duration": 15,
    "start_time": "2022-07-12T15:01:38.181Z"
   },
   {
    "duration": 10,
    "start_time": "2022-07-12T15:01:40.481Z"
   },
   {
    "duration": 61,
    "start_time": "2022-07-12T15:01:44.519Z"
   },
   {
    "duration": 9,
    "start_time": "2022-07-12T15:01:49.228Z"
   },
   {
    "duration": 9,
    "start_time": "2022-07-12T15:01:59.468Z"
   },
   {
    "duration": 7,
    "start_time": "2022-07-12T15:02:55.518Z"
   },
   {
    "duration": 7,
    "start_time": "2022-07-12T15:03:47.250Z"
   },
   {
    "duration": 5,
    "start_time": "2022-07-12T15:04:06.217Z"
   }
  ],
  "colab": {
   "collapsed_sections": [
    "E0vqbgi9ay0H",
    "VUC88oWjTJw2"
   ],
   "name": "automatization_template_upd4.ipynb",
   "provenance": []
  },
  "kernelspec": {
   "display_name": "Python 3 (ipykernel)",
   "language": "python",
   "name": "python3"
  },
  "language_info": {
   "codemirror_mode": {
    "name": "ipython",
    "version": 3
   },
   "file_extension": ".py",
   "mimetype": "text/x-python",
   "name": "python",
   "nbconvert_exporter": "python",
   "pygments_lexer": "ipython3",
   "version": "3.9.5"
  },
  "toc": {
   "base_numbering": 1,
   "nav_menu": {
    "height": "215px",
    "width": "403px"
   },
   "number_sections": true,
   "sideBar": true,
   "skip_h1_title": true,
   "title_cell": "Table of Contents",
   "title_sidebar": "Contents",
   "toc_cell": false,
   "toc_position": {
    "height": "calc(100% - 180px)",
    "left": "10px",
    "top": "150px",
    "width": "285.825px"
   },
   "toc_section_display": true,
   "toc_window_display": false
  }
 },
 "nbformat": 4,
 "nbformat_minor": 1
}