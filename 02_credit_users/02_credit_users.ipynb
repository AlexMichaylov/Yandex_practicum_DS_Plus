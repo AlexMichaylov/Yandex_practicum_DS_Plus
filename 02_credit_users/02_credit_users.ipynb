{
 "cells": [
  {
   "cell_type": "markdown",
   "id": "c81daeeb",
   "metadata": {
    "deletable": false,
    "id": "c81daeeb",
    "pycharm": {
     "name": "#%% md\n"
    }
   },
   "source": [
    "# Исследование надежности заемщиков\n"
   ]
  },
  {
   "cell_type": "markdown",
   "id": "827c20bf",
   "metadata": {
    "id": "827c20bf",
    "pycharm": {
     "name": "#%% md\n"
    }
   },
   "source": [
    "Во второй части проекта вы выполните шаги 3 и 4. Их вручную проверит ревьюер.\n",
    "Чтобы вам не пришлось писать код заново для шагов 1 и 2, мы добавили авторские решения в ячейки с кодом. \n",
    "\n"
   ]
  },
  {
   "cell_type": "markdown",
   "id": "744d7639",
   "metadata": {
    "deletable": false,
    "id": "744d7639",
    "pycharm": {
     "name": "#%% md\n"
    }
   },
   "source": [
    "## Откройте таблицу и изучите общую информацию о данных"
   ]
  },
  {
   "cell_type": "markdown",
   "id": "e7a14c31",
   "metadata": {
    "deletable": false,
    "id": "e7a14c31",
    "pycharm": {
     "name": "#%% md\n"
    }
   },
   "source": [
    "**Задание 1. Импортируйте библиотеку pandas. Считайте данные из csv-файла в датафрейм и сохраните в переменную `data`.**\n",
    "\n"
   ]
  },
  {
   "cell_type": "code",
   "execution_count": 61,
   "id": "7bcf75c9",
   "metadata": {
    "deletable": false,
    "id": "7bcf75c9",
    "pycharm": {
     "name": "#%%\n"
    }
   },
   "outputs": [],
   "source": [
    "import pandas as pd\n",
    "import seaborn\n",
    "\n",
    "try:\n",
    "    data = pd.read_csv('/datasets/data.csv')\n",
    "except:\n",
    "    data = pd.read_csv('https://code.s3.yandex.net/datasets/data.csv')"
   ]
  },
  {
   "cell_type": "markdown",
   "id": "b8038fe3",
   "metadata": {
    "deletable": false,
    "id": "b8038fe3",
    "pycharm": {
     "name": "#%% md\n"
    }
   },
   "source": [
    "**Задание 2. Выведите первые 20 строчек датафрейма `data` на экран.**"
   ]
  },
  {
   "cell_type": "code",
   "execution_count": 62,
   "id": "2a7cab99",
   "metadata": {
    "deletable": false,
    "id": "2a7cab99",
    "outputId": "1a8f3ef2-d323-4ec2-ddf7-89670b5944c4",
    "pycharm": {
     "name": "#%%\n"
    }
   },
   "outputs": [
    {
     "data": {
      "text/html": [
       "<div>\n",
       "<style scoped>\n",
       "    .dataframe tbody tr th:only-of-type {\n",
       "        vertical-align: middle;\n",
       "    }\n",
       "\n",
       "    .dataframe tbody tr th {\n",
       "        vertical-align: top;\n",
       "    }\n",
       "\n",
       "    .dataframe thead th {\n",
       "        text-align: right;\n",
       "    }\n",
       "</style>\n",
       "<table border=\"1\" class=\"dataframe\">\n",
       "  <thead>\n",
       "    <tr style=\"text-align: right;\">\n",
       "      <th></th>\n",
       "      <th>children</th>\n",
       "      <th>days_employed</th>\n",
       "      <th>dob_years</th>\n",
       "      <th>education</th>\n",
       "      <th>education_id</th>\n",
       "      <th>family_status</th>\n",
       "      <th>family_status_id</th>\n",
       "      <th>gender</th>\n",
       "      <th>income_type</th>\n",
       "      <th>debt</th>\n",
       "      <th>total_income</th>\n",
       "      <th>purpose</th>\n",
       "    </tr>\n",
       "  </thead>\n",
       "  <tbody>\n",
       "    <tr>\n",
       "      <th>0</th>\n",
       "      <td>1</td>\n",
       "      <td>-8437.673028</td>\n",
       "      <td>42</td>\n",
       "      <td>высшее</td>\n",
       "      <td>0</td>\n",
       "      <td>женат / замужем</td>\n",
       "      <td>0</td>\n",
       "      <td>F</td>\n",
       "      <td>сотрудник</td>\n",
       "      <td>0</td>\n",
       "      <td>253875.639453</td>\n",
       "      <td>покупка жилья</td>\n",
       "    </tr>\n",
       "    <tr>\n",
       "      <th>1</th>\n",
       "      <td>1</td>\n",
       "      <td>-4024.803754</td>\n",
       "      <td>36</td>\n",
       "      <td>среднее</td>\n",
       "      <td>1</td>\n",
       "      <td>женат / замужем</td>\n",
       "      <td>0</td>\n",
       "      <td>F</td>\n",
       "      <td>сотрудник</td>\n",
       "      <td>0</td>\n",
       "      <td>112080.014102</td>\n",
       "      <td>приобретение автомобиля</td>\n",
       "    </tr>\n",
       "    <tr>\n",
       "      <th>2</th>\n",
       "      <td>0</td>\n",
       "      <td>-5623.422610</td>\n",
       "      <td>33</td>\n",
       "      <td>Среднее</td>\n",
       "      <td>1</td>\n",
       "      <td>женат / замужем</td>\n",
       "      <td>0</td>\n",
       "      <td>M</td>\n",
       "      <td>сотрудник</td>\n",
       "      <td>0</td>\n",
       "      <td>145885.952297</td>\n",
       "      <td>покупка жилья</td>\n",
       "    </tr>\n",
       "    <tr>\n",
       "      <th>3</th>\n",
       "      <td>3</td>\n",
       "      <td>-4124.747207</td>\n",
       "      <td>32</td>\n",
       "      <td>среднее</td>\n",
       "      <td>1</td>\n",
       "      <td>женат / замужем</td>\n",
       "      <td>0</td>\n",
       "      <td>M</td>\n",
       "      <td>сотрудник</td>\n",
       "      <td>0</td>\n",
       "      <td>267628.550329</td>\n",
       "      <td>дополнительное образование</td>\n",
       "    </tr>\n",
       "    <tr>\n",
       "      <th>4</th>\n",
       "      <td>0</td>\n",
       "      <td>340266.072047</td>\n",
       "      <td>53</td>\n",
       "      <td>среднее</td>\n",
       "      <td>1</td>\n",
       "      <td>гражданский брак</td>\n",
       "      <td>1</td>\n",
       "      <td>F</td>\n",
       "      <td>пенсионер</td>\n",
       "      <td>0</td>\n",
       "      <td>158616.077870</td>\n",
       "      <td>сыграть свадьбу</td>\n",
       "    </tr>\n",
       "    <tr>\n",
       "      <th>5</th>\n",
       "      <td>0</td>\n",
       "      <td>-926.185831</td>\n",
       "      <td>27</td>\n",
       "      <td>высшее</td>\n",
       "      <td>0</td>\n",
       "      <td>гражданский брак</td>\n",
       "      <td>1</td>\n",
       "      <td>M</td>\n",
       "      <td>компаньон</td>\n",
       "      <td>0</td>\n",
       "      <td>255763.565419</td>\n",
       "      <td>покупка жилья</td>\n",
       "    </tr>\n",
       "    <tr>\n",
       "      <th>6</th>\n",
       "      <td>0</td>\n",
       "      <td>-2879.202052</td>\n",
       "      <td>43</td>\n",
       "      <td>высшее</td>\n",
       "      <td>0</td>\n",
       "      <td>женат / замужем</td>\n",
       "      <td>0</td>\n",
       "      <td>F</td>\n",
       "      <td>компаньон</td>\n",
       "      <td>0</td>\n",
       "      <td>240525.971920</td>\n",
       "      <td>операции с жильем</td>\n",
       "    </tr>\n",
       "    <tr>\n",
       "      <th>7</th>\n",
       "      <td>0</td>\n",
       "      <td>-152.779569</td>\n",
       "      <td>50</td>\n",
       "      <td>СРЕДНЕЕ</td>\n",
       "      <td>1</td>\n",
       "      <td>женат / замужем</td>\n",
       "      <td>0</td>\n",
       "      <td>M</td>\n",
       "      <td>сотрудник</td>\n",
       "      <td>0</td>\n",
       "      <td>135823.934197</td>\n",
       "      <td>образование</td>\n",
       "    </tr>\n",
       "    <tr>\n",
       "      <th>8</th>\n",
       "      <td>2</td>\n",
       "      <td>-6929.865299</td>\n",
       "      <td>35</td>\n",
       "      <td>ВЫСШЕЕ</td>\n",
       "      <td>0</td>\n",
       "      <td>гражданский брак</td>\n",
       "      <td>1</td>\n",
       "      <td>F</td>\n",
       "      <td>сотрудник</td>\n",
       "      <td>0</td>\n",
       "      <td>95856.832424</td>\n",
       "      <td>на проведение свадьбы</td>\n",
       "    </tr>\n",
       "    <tr>\n",
       "      <th>9</th>\n",
       "      <td>0</td>\n",
       "      <td>-2188.756445</td>\n",
       "      <td>41</td>\n",
       "      <td>среднее</td>\n",
       "      <td>1</td>\n",
       "      <td>женат / замужем</td>\n",
       "      <td>0</td>\n",
       "      <td>M</td>\n",
       "      <td>сотрудник</td>\n",
       "      <td>0</td>\n",
       "      <td>144425.938277</td>\n",
       "      <td>покупка жилья для семьи</td>\n",
       "    </tr>\n",
       "    <tr>\n",
       "      <th>10</th>\n",
       "      <td>2</td>\n",
       "      <td>-4171.483647</td>\n",
       "      <td>36</td>\n",
       "      <td>высшее</td>\n",
       "      <td>0</td>\n",
       "      <td>женат / замужем</td>\n",
       "      <td>0</td>\n",
       "      <td>M</td>\n",
       "      <td>компаньон</td>\n",
       "      <td>0</td>\n",
       "      <td>113943.491460</td>\n",
       "      <td>покупка недвижимости</td>\n",
       "    </tr>\n",
       "    <tr>\n",
       "      <th>11</th>\n",
       "      <td>0</td>\n",
       "      <td>-792.701887</td>\n",
       "      <td>40</td>\n",
       "      <td>среднее</td>\n",
       "      <td>1</td>\n",
       "      <td>женат / замужем</td>\n",
       "      <td>0</td>\n",
       "      <td>F</td>\n",
       "      <td>сотрудник</td>\n",
       "      <td>0</td>\n",
       "      <td>77069.234271</td>\n",
       "      <td>покупка коммерческой недвижимости</td>\n",
       "    </tr>\n",
       "    <tr>\n",
       "      <th>12</th>\n",
       "      <td>0</td>\n",
       "      <td>NaN</td>\n",
       "      <td>65</td>\n",
       "      <td>среднее</td>\n",
       "      <td>1</td>\n",
       "      <td>гражданский брак</td>\n",
       "      <td>1</td>\n",
       "      <td>M</td>\n",
       "      <td>пенсионер</td>\n",
       "      <td>0</td>\n",
       "      <td>NaN</td>\n",
       "      <td>сыграть свадьбу</td>\n",
       "    </tr>\n",
       "    <tr>\n",
       "      <th>13</th>\n",
       "      <td>0</td>\n",
       "      <td>-1846.641941</td>\n",
       "      <td>54</td>\n",
       "      <td>неоконченное высшее</td>\n",
       "      <td>2</td>\n",
       "      <td>женат / замужем</td>\n",
       "      <td>0</td>\n",
       "      <td>F</td>\n",
       "      <td>сотрудник</td>\n",
       "      <td>0</td>\n",
       "      <td>130458.228857</td>\n",
       "      <td>приобретение автомобиля</td>\n",
       "    </tr>\n",
       "    <tr>\n",
       "      <th>14</th>\n",
       "      <td>0</td>\n",
       "      <td>-1844.956182</td>\n",
       "      <td>56</td>\n",
       "      <td>высшее</td>\n",
       "      <td>0</td>\n",
       "      <td>гражданский брак</td>\n",
       "      <td>1</td>\n",
       "      <td>F</td>\n",
       "      <td>компаньон</td>\n",
       "      <td>1</td>\n",
       "      <td>165127.911772</td>\n",
       "      <td>покупка жилой недвижимости</td>\n",
       "    </tr>\n",
       "    <tr>\n",
       "      <th>15</th>\n",
       "      <td>1</td>\n",
       "      <td>-972.364419</td>\n",
       "      <td>26</td>\n",
       "      <td>среднее</td>\n",
       "      <td>1</td>\n",
       "      <td>женат / замужем</td>\n",
       "      <td>0</td>\n",
       "      <td>F</td>\n",
       "      <td>сотрудник</td>\n",
       "      <td>0</td>\n",
       "      <td>116820.904450</td>\n",
       "      <td>строительство собственной недвижимости</td>\n",
       "    </tr>\n",
       "    <tr>\n",
       "      <th>16</th>\n",
       "      <td>0</td>\n",
       "      <td>-1719.934226</td>\n",
       "      <td>35</td>\n",
       "      <td>среднее</td>\n",
       "      <td>1</td>\n",
       "      <td>женат / замужем</td>\n",
       "      <td>0</td>\n",
       "      <td>F</td>\n",
       "      <td>сотрудник</td>\n",
       "      <td>0</td>\n",
       "      <td>289202.704229</td>\n",
       "      <td>недвижимость</td>\n",
       "    </tr>\n",
       "    <tr>\n",
       "      <th>17</th>\n",
       "      <td>0</td>\n",
       "      <td>-2369.999720</td>\n",
       "      <td>33</td>\n",
       "      <td>высшее</td>\n",
       "      <td>0</td>\n",
       "      <td>гражданский брак</td>\n",
       "      <td>1</td>\n",
       "      <td>M</td>\n",
       "      <td>сотрудник</td>\n",
       "      <td>0</td>\n",
       "      <td>90410.586745</td>\n",
       "      <td>строительство недвижимости</td>\n",
       "    </tr>\n",
       "    <tr>\n",
       "      <th>18</th>\n",
       "      <td>0</td>\n",
       "      <td>400281.136913</td>\n",
       "      <td>53</td>\n",
       "      <td>среднее</td>\n",
       "      <td>1</td>\n",
       "      <td>вдовец / вдова</td>\n",
       "      <td>2</td>\n",
       "      <td>F</td>\n",
       "      <td>пенсионер</td>\n",
       "      <td>0</td>\n",
       "      <td>56823.777243</td>\n",
       "      <td>на покупку подержанного автомобиля</td>\n",
       "    </tr>\n",
       "    <tr>\n",
       "      <th>19</th>\n",
       "      <td>0</td>\n",
       "      <td>-10038.818549</td>\n",
       "      <td>48</td>\n",
       "      <td>СРЕДНЕЕ</td>\n",
       "      <td>1</td>\n",
       "      <td>в разводе</td>\n",
       "      <td>3</td>\n",
       "      <td>F</td>\n",
       "      <td>сотрудник</td>\n",
       "      <td>0</td>\n",
       "      <td>242831.107982</td>\n",
       "      <td>на покупку своего автомобиля</td>\n",
       "    </tr>\n",
       "  </tbody>\n",
       "</table>\n",
       "</div>"
      ],
      "text/plain": [
       "    children  days_employed  dob_years            education  education_id  \\\n",
       "0          1   -8437.673028         42               высшее             0   \n",
       "1          1   -4024.803754         36              среднее             1   \n",
       "2          0   -5623.422610         33              Среднее             1   \n",
       "3          3   -4124.747207         32              среднее             1   \n",
       "4          0  340266.072047         53              среднее             1   \n",
       "5          0    -926.185831         27               высшее             0   \n",
       "6          0   -2879.202052         43               высшее             0   \n",
       "7          0    -152.779569         50              СРЕДНЕЕ             1   \n",
       "8          2   -6929.865299         35               ВЫСШЕЕ             0   \n",
       "9          0   -2188.756445         41              среднее             1   \n",
       "10         2   -4171.483647         36               высшее             0   \n",
       "11         0    -792.701887         40              среднее             1   \n",
       "12         0            NaN         65              среднее             1   \n",
       "13         0   -1846.641941         54  неоконченное высшее             2   \n",
       "14         0   -1844.956182         56               высшее             0   \n",
       "15         1    -972.364419         26              среднее             1   \n",
       "16         0   -1719.934226         35              среднее             1   \n",
       "17         0   -2369.999720         33               высшее             0   \n",
       "18         0  400281.136913         53              среднее             1   \n",
       "19         0  -10038.818549         48              СРЕДНЕЕ             1   \n",
       "\n",
       "       family_status  family_status_id gender income_type  debt  \\\n",
       "0    женат / замужем                 0      F   сотрудник     0   \n",
       "1    женат / замужем                 0      F   сотрудник     0   \n",
       "2    женат / замужем                 0      M   сотрудник     0   \n",
       "3    женат / замужем                 0      M   сотрудник     0   \n",
       "4   гражданский брак                 1      F   пенсионер     0   \n",
       "5   гражданский брак                 1      M   компаньон     0   \n",
       "6    женат / замужем                 0      F   компаньон     0   \n",
       "7    женат / замужем                 0      M   сотрудник     0   \n",
       "8   гражданский брак                 1      F   сотрудник     0   \n",
       "9    женат / замужем                 0      M   сотрудник     0   \n",
       "10   женат / замужем                 0      M   компаньон     0   \n",
       "11   женат / замужем                 0      F   сотрудник     0   \n",
       "12  гражданский брак                 1      M   пенсионер     0   \n",
       "13   женат / замужем                 0      F   сотрудник     0   \n",
       "14  гражданский брак                 1      F   компаньон     1   \n",
       "15   женат / замужем                 0      F   сотрудник     0   \n",
       "16   женат / замужем                 0      F   сотрудник     0   \n",
       "17  гражданский брак                 1      M   сотрудник     0   \n",
       "18    вдовец / вдова                 2      F   пенсионер     0   \n",
       "19         в разводе                 3      F   сотрудник     0   \n",
       "\n",
       "     total_income                                 purpose  \n",
       "0   253875.639453                           покупка жилья  \n",
       "1   112080.014102                 приобретение автомобиля  \n",
       "2   145885.952297                           покупка жилья  \n",
       "3   267628.550329              дополнительное образование  \n",
       "4   158616.077870                         сыграть свадьбу  \n",
       "5   255763.565419                           покупка жилья  \n",
       "6   240525.971920                       операции с жильем  \n",
       "7   135823.934197                             образование  \n",
       "8    95856.832424                   на проведение свадьбы  \n",
       "9   144425.938277                 покупка жилья для семьи  \n",
       "10  113943.491460                    покупка недвижимости  \n",
       "11   77069.234271       покупка коммерческой недвижимости  \n",
       "12            NaN                         сыграть свадьбу  \n",
       "13  130458.228857                 приобретение автомобиля  \n",
       "14  165127.911772              покупка жилой недвижимости  \n",
       "15  116820.904450  строительство собственной недвижимости  \n",
       "16  289202.704229                            недвижимость  \n",
       "17   90410.586745              строительство недвижимости  \n",
       "18   56823.777243      на покупку подержанного автомобиля  \n",
       "19  242831.107982            на покупку своего автомобиля  "
      ]
     },
     "execution_count": 62,
     "metadata": {},
     "output_type": "execute_result"
    }
   ],
   "source": [
    "data.head(20)"
   ]
  },
  {
   "cell_type": "markdown",
   "id": "1c12e233",
   "metadata": {
    "deletable": false,
    "id": "1c12e233",
    "pycharm": {
     "name": "#%% md\n"
    }
   },
   "source": [
    "**Задание 3. Выведите основную информацию о датафрейме с помощью метода `info()`.**"
   ]
  },
  {
   "cell_type": "code",
   "execution_count": 63,
   "id": "2b757bca",
   "metadata": {
    "deletable": false,
    "id": "2b757bca",
    "outputId": "15376089-8dad-46c9-b520-c05248d43158",
    "pycharm": {
     "name": "#%%\n"
    }
   },
   "outputs": [
    {
     "name": "stdout",
     "output_type": "stream",
     "text": [
      "<class 'pandas.core.frame.DataFrame'>\n",
      "RangeIndex: 21525 entries, 0 to 21524\n",
      "Data columns (total 12 columns):\n",
      " #   Column            Non-Null Count  Dtype  \n",
      "---  ------            --------------  -----  \n",
      " 0   children          21525 non-null  int64  \n",
      " 1   days_employed     19351 non-null  float64\n",
      " 2   dob_years         21525 non-null  int64  \n",
      " 3   education         21525 non-null  object \n",
      " 4   education_id      21525 non-null  int64  \n",
      " 5   family_status     21525 non-null  object \n",
      " 6   family_status_id  21525 non-null  int64  \n",
      " 7   gender            21525 non-null  object \n",
      " 8   income_type       21525 non-null  object \n",
      " 9   debt              21525 non-null  int64  \n",
      " 10  total_income      19351 non-null  float64\n",
      " 11  purpose           21525 non-null  object \n",
      "dtypes: float64(2), int64(5), object(5)\n",
      "memory usage: 2.0+ MB\n"
     ]
    }
   ],
   "source": [
    "data.info()"
   ]
  },
  {
   "cell_type": "markdown",
   "id": "333ec665",
   "metadata": {
    "deletable": false,
    "id": "333ec665",
    "pycharm": {
     "name": "#%% md\n"
    }
   },
   "source": [
    "## Предобработка данных"
   ]
  },
  {
   "cell_type": "markdown",
   "id": "02d92d53",
   "metadata": {
    "deletable": false,
    "id": "02d92d53",
    "pycharm": {
     "name": "#%% md\n"
    }
   },
   "source": [
    "### Удаление пропусков"
   ]
  },
  {
   "cell_type": "markdown",
   "id": "cd84967c",
   "metadata": {
    "deletable": false,
    "id": "cd84967c",
    "pycharm": {
     "name": "#%% md\n"
    }
   },
   "source": [
    "**Задание 4. Выведите количество пропущенных значений для каждого столбца. Используйте комбинацию двух методов.**"
   ]
  },
  {
   "cell_type": "code",
   "execution_count": 64,
   "id": "7f9b2309",
   "metadata": {
    "deletable": false,
    "id": "7f9b2309",
    "outputId": "81f4d817-781c-465c-ed15-91ce4446810d",
    "pycharm": {
     "name": "#%%\n"
    }
   },
   "outputs": [
    {
     "data": {
      "text/plain": [
       "children               0\n",
       "days_employed       2174\n",
       "dob_years              0\n",
       "education              0\n",
       "education_id           0\n",
       "family_status          0\n",
       "family_status_id       0\n",
       "gender                 0\n",
       "income_type            0\n",
       "debt                   0\n",
       "total_income        2174\n",
       "purpose                0\n",
       "dtype: int64"
      ]
     },
     "execution_count": 64,
     "metadata": {},
     "output_type": "execute_result"
    }
   ],
   "source": [
    "data.isna().sum()"
   ]
  },
  {
   "cell_type": "markdown",
   "id": "db86e27b",
   "metadata": {
    "deletable": false,
    "id": "db86e27b",
    "pycharm": {
     "name": "#%% md\n"
    }
   },
   "source": [
    "**Задание 5. В двух столбцах есть пропущенные значения. Один из них — `days_employed`. Пропуски в этом столбце вы обработаете на следующем этапе. Другой столбец с пропущенными значениями — `total_income` — хранит данные о доходах. На сумму дохода сильнее всего влияет тип занятости, поэтому заполнить пропуски в этом столбце нужно медианным значением по каждому типу из столбца `income_type`. Например, у человека с типом занятости `сотрудник` пропуск в столбце `total_income` должен быть заполнен медианным доходом среди всех записей с тем же типом.**"
   ]
  },
  {
   "cell_type": "code",
   "execution_count": 65,
   "id": "42006a93",
   "metadata": {
    "deletable": false,
    "id": "42006a93",
    "pycharm": {
     "name": "#%%\n"
    }
   },
   "outputs": [],
   "source": [
    "for t in data['income_type'].unique():\n",
    "    data.loc[(data['income_type'] == t) & (data['total_income'].isna()), 'total_income'] = \\\n",
    "    data.loc[(data['income_type'] == t), 'total_income'].median()"
   ]
  },
  {
   "cell_type": "markdown",
   "id": "89da5ece",
   "metadata": {
    "deletable": false,
    "id": "89da5ece",
    "pycharm": {
     "name": "#%% md\n"
    }
   },
   "source": [
    "### Обработка аномальных значений"
   ]
  },
  {
   "cell_type": "markdown",
   "id": "57964554",
   "metadata": {
    "deletable": false,
    "id": "57964554",
    "pycharm": {
     "name": "#%% md\n"
    }
   },
   "source": [
    "**Задание 6. В данных могут встречаться артефакты (аномалии) — значения, которые не отражают действительность и появились по какой-то ошибке. таким артефактом будет отрицательное количество дней трудового стажа в столбце `days_employed`. Для реальных данных это нормально. Обработайте значения в этом столбце: замените все отрицательные значения положительными с помощью метода `abs()`.**"
   ]
  },
  {
   "cell_type": "code",
   "execution_count": 66,
   "id": "f6f055bf",
   "metadata": {
    "deletable": false,
    "id": "f6f055bf",
    "pycharm": {
     "name": "#%%\n"
    }
   },
   "outputs": [],
   "source": [
    "data['days_employed'] = data['days_employed'].abs()"
   ]
  },
  {
   "cell_type": "markdown",
   "id": "6107dd2f",
   "metadata": {
    "deletable": false,
    "id": "6107dd2f",
    "pycharm": {
     "name": "#%% md\n"
    }
   },
   "source": [
    "**Задание 7. Для каждого типа занятости выведите медианное значение трудового стажа `days_employed` в днях.**"
   ]
  },
  {
   "cell_type": "code",
   "execution_count": 67,
   "id": "85a5faf6",
   "metadata": {
    "deletable": false,
    "id": "85a5faf6",
    "outputId": "801ef80e-522b-4668-f34e-565af7432bcf",
    "pycharm": {
     "name": "#%%\n"
    }
   },
   "outputs": [
    {
     "data": {
      "text/plain": [
       "income_type\n",
       "безработный        366413.652744\n",
       "в декрете            3296.759962\n",
       "госслужащий          2689.368353\n",
       "компаньон            1547.382223\n",
       "пенсионер          365213.306266\n",
       "предприниматель       520.848083\n",
       "сотрудник            1574.202821\n",
       "студент               578.751554\n",
       "Name: days_employed, dtype: float64"
      ]
     },
     "execution_count": 67,
     "metadata": {},
     "output_type": "execute_result"
    }
   ],
   "source": [
    "data.groupby('income_type')['days_employed'].agg('median')"
   ]
  },
  {
   "cell_type": "markdown",
   "id": "38d1a030",
   "metadata": {
    "deletable": false,
    "id": "38d1a030",
    "pycharm": {
     "name": "#%% md\n"
    }
   },
   "source": [
    "У двух типов (безработные и пенсионеры) получатся аномально большие значения. Исправить такие значения сложно, поэтому оставьте их как есть. Тем более этот столбец не понадобится вам для исследования."
   ]
  },
  {
   "cell_type": "markdown",
   "id": "d8a9f147",
   "metadata": {
    "deletable": false,
    "id": "d8a9f147",
    "pycharm": {
     "name": "#%% md\n"
    }
   },
   "source": [
    "**Задание 8. Выведите перечень уникальных значений столбца `children`.**"
   ]
  },
  {
   "cell_type": "code",
   "execution_count": 68,
   "id": "ef5056eb",
   "metadata": {
    "deletable": false,
    "id": "ef5056eb",
    "outputId": "6975b15c-7f95-4697-d16d-a0c79b657b03",
    "pycharm": {
     "name": "#%%\n"
    }
   },
   "outputs": [
    {
     "data": {
      "text/plain": [
       "array([ 1,  0,  3,  2, -1,  4, 20,  5])"
      ]
     },
     "execution_count": 68,
     "metadata": {},
     "output_type": "execute_result"
    }
   ],
   "source": [
    "data['children'].unique()"
   ]
  },
  {
   "cell_type": "markdown",
   "id": "40b9ebf2",
   "metadata": {
    "deletable": false,
    "id": "40b9ebf2",
    "pycharm": {
     "name": "#%% md\n"
    }
   },
   "source": [
    "**Задание 9. В столбце `children` есть два аномальных значения. Удалите строки, в которых встречаются такие аномальные значения из датафрейма `data`.**"
   ]
  },
  {
   "cell_type": "code",
   "execution_count": 69,
   "id": "3ff9801d",
   "metadata": {
    "deletable": false,
    "id": "3ff9801d",
    "pycharm": {
     "name": "#%%\n"
    }
   },
   "outputs": [],
   "source": [
    "data = data[(data['children'] != -1) & (data['children'] != 20)]"
   ]
  },
  {
   "cell_type": "markdown",
   "id": "bbc4d0ce",
   "metadata": {
    "deletable": false,
    "id": "bbc4d0ce",
    "pycharm": {
     "name": "#%% md\n"
    }
   },
   "source": [
    "**Задание 10. Ещё раз выведите перечень уникальных значений столбца `children`, чтобы убедиться, что артефакты удалены.**"
   ]
  },
  {
   "cell_type": "code",
   "execution_count": 70,
   "id": "ad4fa8b7",
   "metadata": {
    "deletable": false,
    "id": "ad4fa8b7",
    "outputId": "b2097101-d49d-44d9-901b-32a65c9463d1",
    "pycharm": {
     "name": "#%%\n"
    }
   },
   "outputs": [
    {
     "data": {
      "text/plain": [
       "array([1, 0, 3, 2, 4, 5])"
      ]
     },
     "execution_count": 70,
     "metadata": {},
     "output_type": "execute_result"
    }
   ],
   "source": [
    "data['children'].unique()"
   ]
  },
  {
   "cell_type": "markdown",
   "id": "75440b63",
   "metadata": {
    "deletable": false,
    "id": "75440b63",
    "pycharm": {
     "name": "#%% md\n"
    }
   },
   "source": [
    "### Удаление пропусков (продолжение)"
   ]
  },
  {
   "cell_type": "markdown",
   "id": "f4ea573f",
   "metadata": {
    "deletable": false,
    "id": "f4ea573f",
    "pycharm": {
     "name": "#%% md\n"
    }
   },
   "source": [
    "**Задание 11. Заполните пропуски в столбце `days_employed` медианными значениями по каждого типа занятости `income_type`.**"
   ]
  },
  {
   "cell_type": "code",
   "execution_count": 71,
   "id": "af6b1a7e",
   "metadata": {
    "deletable": false,
    "id": "af6b1a7e",
    "pycharm": {
     "name": "#%%\n"
    }
   },
   "outputs": [],
   "source": [
    "for t in data['income_type'].unique():\n",
    "    data.loc[(data['income_type'] == t) & (data['days_employed'].isna()), 'days_employed'] = \\\n",
    "    data.loc[(data['income_type'] == t), 'days_employed'].median()"
   ]
  },
  {
   "cell_type": "markdown",
   "id": "2753f40d",
   "metadata": {
    "deletable": false,
    "id": "2753f40d",
    "pycharm": {
     "name": "#%% md\n"
    }
   },
   "source": [
    "**Задание 12. Убедитесь, что все пропуски заполнены. Проверьте себя и ещё раз выведите количество пропущенных значений для каждого столбца с помощью двух методов.**"
   ]
  },
  {
   "cell_type": "code",
   "execution_count": 72,
   "id": "55f78bc2",
   "metadata": {
    "deletable": false,
    "id": "55f78bc2",
    "outputId": "8da1e4e1-358e-4e87-98c9-f261bce0a7b2",
    "pycharm": {
     "name": "#%%\n"
    }
   },
   "outputs": [
    {
     "data": {
      "text/plain": [
       "children            0\n",
       "days_employed       0\n",
       "dob_years           0\n",
       "education           0\n",
       "education_id        0\n",
       "family_status       0\n",
       "family_status_id    0\n",
       "gender              0\n",
       "income_type         0\n",
       "debt                0\n",
       "total_income        0\n",
       "purpose             0\n",
       "dtype: int64"
      ]
     },
     "execution_count": 72,
     "metadata": {},
     "output_type": "execute_result"
    }
   ],
   "source": [
    "data.isna().sum()"
   ]
  },
  {
   "cell_type": "markdown",
   "id": "ddc81e43",
   "metadata": {
    "deletable": false,
    "id": "ddc81e43",
    "pycharm": {
     "name": "#%% md\n"
    }
   },
   "source": [
    "### Изменение типов данных"
   ]
  },
  {
   "cell_type": "markdown",
   "id": "42d19d24",
   "metadata": {
    "deletable": false,
    "id": "42d19d24",
    "pycharm": {
     "name": "#%% md\n"
    }
   },
   "source": [
    "**Задание 13. Замените вещественный тип данных в столбце `total_income` на целочисленный с помощью метода `astype()`.**"
   ]
  },
  {
   "cell_type": "code",
   "execution_count": 73,
   "id": "920b65ad",
   "metadata": {
    "deletable": false,
    "id": "920b65ad",
    "pycharm": {
     "name": "#%%\n"
    }
   },
   "outputs": [],
   "source": [
    "data['total_income'] = data['total_income'].astype(int)"
   ]
  },
  {
   "cell_type": "markdown",
   "id": "80c420ba",
   "metadata": {
    "deletable": false,
    "id": "80c420ba",
    "pycharm": {
     "name": "#%% md\n"
    }
   },
   "source": [
    "### Обработка дубликатов"
   ]
  },
  {
   "cell_type": "markdown",
   "id": "dc587695",
   "metadata": {
    "deletable": false,
    "id": "dc587695",
    "pycharm": {
     "name": "#%% md\n"
    }
   },
   "source": [
    "**Задание 14. Выведите на экран количество строк-дубликатов в данных. Если такие строки присутствуют, удалите их.**"
   ]
  },
  {
   "cell_type": "code",
   "execution_count": 74,
   "id": "3ee445e4",
   "metadata": {
    "deletable": false,
    "id": "3ee445e4",
    "outputId": "9684deba-1934-42d1-99e1-cda61740f822",
    "pycharm": {
     "name": "#%%\n"
    }
   },
   "outputs": [
    {
     "data": {
      "text/plain": [
       "54"
      ]
     },
     "execution_count": 74,
     "metadata": {},
     "output_type": "execute_result"
    }
   ],
   "source": [
    "data.duplicated().sum()"
   ]
  },
  {
   "cell_type": "code",
   "execution_count": 75,
   "id": "8575fe05",
   "metadata": {
    "deletable": false,
    "id": "8575fe05",
    "pycharm": {
     "name": "#%%\n"
    }
   },
   "outputs": [],
   "source": [
    "data = data.drop_duplicates()"
   ]
  },
  {
   "cell_type": "markdown",
   "id": "9771a76c",
   "metadata": {
    "deletable": false,
    "id": "9771a76c",
    "pycharm": {
     "name": "#%% md\n"
    }
   },
   "source": [
    "**Задание 15. Обработайте неявные дубликаты в столбце `education`. В этом столбце есть одни и те же значения, но записанные по-разному: с использованием заглавных и строчных букв. Приведите их к нижнему регистру. Проверьте остальные столбцы.**"
   ]
  },
  {
   "cell_type": "code",
   "execution_count": 76,
   "id": "a9f8e2bf",
   "metadata": {
    "deletable": false,
    "id": "a9f8e2bf",
    "pycharm": {
     "name": "#%%\n"
    }
   },
   "outputs": [],
   "source": [
    "data['education'] = data['education'].str.lower()"
   ]
  },
  {
   "cell_type": "markdown",
   "id": "9904cf55",
   "metadata": {
    "deletable": false,
    "id": "9904cf55",
    "pycharm": {
     "name": "#%% md\n"
    }
   },
   "source": [
    "### Категоризация данных"
   ]
  },
  {
   "cell_type": "markdown",
   "id": "72fcc8a2",
   "metadata": {
    "deletable": false,
    "id": "72fcc8a2",
    "pycharm": {
     "name": "#%% md\n"
    }
   },
   "source": [
    "**Задание 16. На основании диапазонов, указанных ниже, создайте в датафрейме `data` столбец `total_income_category` с категориями:**\n",
    "\n",
    "- 0–30000 — `'E'`;\n",
    "- 30001–50000 — `'D'`;\n",
    "- 50001–200000 — `'C'`;\n",
    "- 200001–1000000 — `'B'`;\n",
    "- 1000001 и выше — `'A'`.\n",
    "\n",
    "\n",
    "**Например, кредитополучателю с доходом 25000 нужно назначить категорию `'E'`, а клиенту, получающему 235000, — `'B'`. Используйте собственную функцию с именем `categorize_income()` и метод `apply()`.**"
   ]
  },
  {
   "cell_type": "code",
   "execution_count": 77,
   "id": "e1771346",
   "metadata": {
    "deletable": false,
    "id": "e1771346",
    "pycharm": {
     "name": "#%%\n"
    }
   },
   "outputs": [],
   "source": [
    "def categorize_income(income):\n",
    "    try:\n",
    "        if 0 <= income <= 30000:\n",
    "            return 'E'\n",
    "        elif 30001 <= income <= 50000:\n",
    "            return 'D'\n",
    "        elif 50001 <= income <= 200000:\n",
    "            return 'C'\n",
    "        elif 200001 <= income <= 1000000:\n",
    "            return 'B'\n",
    "        elif income >= 1000001:\n",
    "            return 'A'\n",
    "    except:\n",
    "        pass"
   ]
  },
  {
   "cell_type": "code",
   "execution_count": 78,
   "id": "d5f3586d",
   "metadata": {
    "deletable": false,
    "id": "d5f3586d",
    "pycharm": {
     "name": "#%%\n"
    }
   },
   "outputs": [],
   "source": [
    "data['total_income_category'] = data['total_income'].apply(categorize_income)"
   ]
  },
  {
   "cell_type": "markdown",
   "id": "dde49b5c",
   "metadata": {
    "deletable": false,
    "id": "dde49b5c",
    "pycharm": {
     "name": "#%% md\n"
    }
   },
   "source": [
    "**Задание 17. Выведите на экран перечень уникальных целей взятия кредита из столбца `purpose`.**"
   ]
  },
  {
   "cell_type": "code",
   "execution_count": 79,
   "id": "f67ce9b3",
   "metadata": {
    "deletable": false,
    "id": "f67ce9b3",
    "outputId": "673c12d9-7d7e-4ae0-9812-c622c89dd244",
    "pycharm": {
     "name": "#%%\n"
    }
   },
   "outputs": [
    {
     "data": {
      "text/plain": [
       "array(['покупка жилья', 'приобретение автомобиля',\n",
       "       'дополнительное образование', 'сыграть свадьбу',\n",
       "       'операции с жильем', 'образование', 'на проведение свадьбы',\n",
       "       'покупка жилья для семьи', 'покупка недвижимости',\n",
       "       'покупка коммерческой недвижимости', 'покупка жилой недвижимости',\n",
       "       'строительство собственной недвижимости', 'недвижимость',\n",
       "       'строительство недвижимости', 'на покупку подержанного автомобиля',\n",
       "       'на покупку своего автомобиля',\n",
       "       'операции с коммерческой недвижимостью',\n",
       "       'строительство жилой недвижимости', 'жилье',\n",
       "       'операции со своей недвижимостью', 'автомобили',\n",
       "       'заняться образованием', 'сделка с подержанным автомобилем',\n",
       "       'получение образования', 'автомобиль', 'свадьба',\n",
       "       'получение дополнительного образования', 'покупка своего жилья',\n",
       "       'операции с недвижимостью', 'получение высшего образования',\n",
       "       'свой автомобиль', 'сделка с автомобилем',\n",
       "       'профильное образование', 'высшее образование',\n",
       "       'покупка жилья для сдачи', 'на покупку автомобиля', 'ремонт жилью',\n",
       "       'заняться высшим образованием'], dtype=object)"
      ]
     },
     "execution_count": 79,
     "metadata": {},
     "output_type": "execute_result"
    }
   ],
   "source": [
    "data['purpose'].unique()"
   ]
  },
  {
   "cell_type": "markdown",
   "id": "85d0aef0",
   "metadata": {
    "deletable": false,
    "id": "85d0aef0",
    "pycharm": {
     "name": "#%% md\n"
    }
   },
   "source": [
    "**Задание 18. Создайте функцию, которая на основании данных из столбца `purpose` сформирует новый столбец `purpose_category`, в который войдут следующие категории:**\n",
    "\n",
    "- `'операции с автомобилем'`,\n",
    "- `'операции с недвижимостью'`,\n",
    "- `'проведение свадьбы'`,\n",
    "- `'получение образования'`.\n",
    "\n",
    "**Например, если в столбце `purpose` находится подстрока `'на покупку автомобиля'`, то в столбце `purpose_category` должна появиться строка `'операции с автомобилем'`.**\n",
    "\n",
    "**Используйте собственную функцию с именем `categorize_purpose()` и метод `apply()`. Изучите данные в столбце `purpose` и определите, какие подстроки помогут вам правильно определить категорию.**"
   ]
  },
  {
   "cell_type": "code",
   "execution_count": 80,
   "id": "e149fab4",
   "metadata": {
    "deletable": false,
    "id": "e149fab4",
    "pycharm": {
     "name": "#%%\n"
    }
   },
   "outputs": [],
   "source": [
    "def categorize_purpose(row):\n",
    "    try:\n",
    "        if 'автом' in row:\n",
    "            return 'операции с автомобилем'\n",
    "        elif 'жил' in row or 'недвиж' in row:\n",
    "            return 'операции с недвижимостью'\n",
    "        elif 'свад' in row:\n",
    "            return 'проведение свадьбы'\n",
    "        elif 'образов' in row:\n",
    "            return 'получение образования'\n",
    "    except:\n",
    "        return 'нет категории'"
   ]
  },
  {
   "cell_type": "code",
   "execution_count": 81,
   "id": "bf36e69b",
   "metadata": {
    "deletable": false,
    "id": "bf36e69b",
    "pycharm": {
     "name": "#%%\n"
    }
   },
   "outputs": [],
   "source": [
    "data['purpose_category'] = data['purpose'].apply(categorize_purpose)"
   ]
  },
  {
   "cell_type": "markdown",
   "id": "09b242bf",
   "metadata": {
    "deletable": false,
    "editable": false,
    "id": "09b242bf",
    "pycharm": {
     "name": "#%% md\n"
    }
   },
   "source": [
    "## Исследуйте данные и ответьте на вопросы"
   ]
  },
  {
   "cell_type": "markdown",
   "id": "c5d66278",
   "metadata": {
    "deletable": false,
    "editable": false,
    "id": "c5d66278",
    "pycharm": {
     "name": "#%% md\n"
    }
   },
   "source": [
    "**Задание 19. Есть ли зависимость между количеством детей и возвратом кредита в срок?**"
   ]
  },
  {
   "cell_type": "markdown",
   "id": "424b64e7",
   "metadata": {
    "pycharm": {
     "name": "#%% md\n"
    }
   },
   "source": [
    "Обсудим эволюцию в решении задачи, по мере работы над заданием. Сгруппируем значения по столбцу 'debt'"
   ]
  },
  {
   "cell_type": "code",
   "execution_count": 82,
   "id": "1ad2e66c",
   "metadata": {
    "scrolled": true,
    "pycharm": {
     "name": "#%%\n"
    }
   },
   "outputs": [
    {
     "name": "stdout",
     "output_type": "stream",
     "text": [
      "children\n",
      "0    14107\n",
      "1     4809\n",
      "2     2052\n",
      "3      330\n",
      "4       41\n",
      "5        9\n",
      "Name: debt, dtype: int64\n"
     ]
    }
   ],
   "source": [
    "count_children = data.groupby('children')['debt'].count()\n",
    "print(count_children)\n",
    "\n"
   ]
  },
  {
   "cell_type": "markdown",
   "id": "f02b5c70",
   "metadata": {
    "pycharm": {
     "name": "#%% md\n"
    }
   },
   "source": [
    "сгруппируем таблицу, отображающую взаимосвязь между количеством детей в семье и количеству неотданных кредитов"
   ]
  },
  {
   "cell_type": "code",
   "execution_count": 83,
   "id": "a55b38d1",
   "metadata": {
    "scrolled": false,
    "pycharm": {
     "name": "#%%\n"
    }
   },
   "outputs": [
    {
     "data": {
      "text/plain": [
       "children\n",
       "0    1063\n",
       "1     444\n",
       "2     194\n",
       "3      27\n",
       "4       4\n",
       "5       0\n",
       "Name: debt, dtype: int64"
      ]
     },
     "metadata": {},
     "output_type": "display_data"
    }
   ],
   "source": [
    "sum_children = data.groupby('children')['debt'].sum()\n",
    "display(sum_children)"
   ]
  },
  {
   "cell_type": "markdown",
   "id": "5964d7d6",
   "metadata": {
    "pycharm": {
     "name": "#%% md\n"
    }
   },
   "source": [
    "рассчитаем результат, отражающий процент кредитов, относительно суммы выданных кредитов итого"
   ]
  },
  {
   "cell_type": "code",
   "execution_count": 84,
   "id": "69b9029f",
   "metadata": {
    "pycharm": {
     "name": "#%%\n"
    }
   },
   "outputs": [
    {
     "data": {
      "text/plain": [
       "children\n",
       "0    7.535266\n",
       "1    9.232689\n",
       "2    9.454191\n",
       "3    8.181818\n",
       "4    9.756098\n",
       "5    0.000000\n",
       "Name: debt, dtype: float64"
      ]
     },
     "metadata": {},
     "output_type": "display_data"
    }
   ],
   "source": [
    "result = (sum_children/count_children) * 100\n",
    "display(result)"
   ]
  },
  {
   "cell_type": "markdown",
   "id": "82c20820",
   "metadata": {
    "pycharm": {
     "name": "#%% md\n"
    }
   },
   "source": [
    "Решим задачу альтернативным способом"
   ]
  },
  {
   "cell_type": "code",
   "execution_count": 85,
   "id": "ebe0e436",
   "metadata": {
    "pycharm": {
     "name": "#%%\n"
    }
   },
   "outputs": [
    {
     "data": {
      "text/html": [
       "<style  type=\"text/css\" >\n",
       "#T_584f5_row0_col0{\n",
       "            background-color:  yellow;\n",
       "        }#T_584f5_row5_col0{\n",
       "            background-color:  lightblue;\n",
       "        }</style><table id=\"T_584f5_\" ><thead>    <tr>        <th class=\"blank level0\" ></th>        <th class=\"col_heading level0 col0\" >debt</th>    </tr>    <tr>        <th class=\"index_name level0\" >children</th>        <th class=\"blank\" ></th>    </tr></thead><tbody>\n",
       "                <tr>\n",
       "                        <th id=\"T_584f5_level0_row0\" class=\"row_heading level0 row0\" >0</th>\n",
       "                        <td id=\"T_584f5_row0_col0\" class=\"data row0 col0\" >14107</td>\n",
       "            </tr>\n",
       "            <tr>\n",
       "                        <th id=\"T_584f5_level0_row1\" class=\"row_heading level0 row1\" >1</th>\n",
       "                        <td id=\"T_584f5_row1_col0\" class=\"data row1 col0\" >4809</td>\n",
       "            </tr>\n",
       "            <tr>\n",
       "                        <th id=\"T_584f5_level0_row2\" class=\"row_heading level0 row2\" >2</th>\n",
       "                        <td id=\"T_584f5_row2_col0\" class=\"data row2 col0\" >2052</td>\n",
       "            </tr>\n",
       "            <tr>\n",
       "                        <th id=\"T_584f5_level0_row3\" class=\"row_heading level0 row3\" >3</th>\n",
       "                        <td id=\"T_584f5_row3_col0\" class=\"data row3 col0\" >330</td>\n",
       "            </tr>\n",
       "            <tr>\n",
       "                        <th id=\"T_584f5_level0_row4\" class=\"row_heading level0 row4\" >4</th>\n",
       "                        <td id=\"T_584f5_row4_col0\" class=\"data row4 col0\" >41</td>\n",
       "            </tr>\n",
       "            <tr>\n",
       "                        <th id=\"T_584f5_level0_row5\" class=\"row_heading level0 row5\" >5</th>\n",
       "                        <td id=\"T_584f5_row5_col0\" class=\"data row5 col0\" >9</td>\n",
       "            </tr>\n",
       "    </tbody></table>"
      ],
      "text/plain": [
       "<pandas.io.formats.style.Styler at 0x7f65fbd8cc40>"
      ]
     },
     "execution_count": 85,
     "metadata": {},
     "output_type": "execute_result"
    }
   ],
   "source": [
    "table_1 = pd.pivot_table(data, index = 'children', values = 'debt', aggfunc = 'count')\n",
    "dept_by_purpose = table_1\n",
    "table_1.style.highlight_max(color = 'yellow').highlight_min(color = 'lightblue')"
   ]
  },
  {
   "cell_type": "code",
   "execution_count": 86,
   "id": "584660ec",
   "metadata": {
    "pycharm": {
     "name": "#%%\n"
    }
   },
   "outputs": [],
   "source": [
    "table_2 = pd.pivot_table(data, index = 'children', values = 'debt', aggfunc = 'sum')\n",
    "dept_by_purpose['non_returned_debt'] = table_2['debt']"
   ]
  },
  {
   "cell_type": "code",
   "execution_count": 87,
   "id": "4dd24aee",
   "metadata": {
    "pycharm": {
     "name": "#%%\n"
    }
   },
   "outputs": [
    {
     "data": {
      "text/html": [
       "<div>\n",
       "<style scoped>\n",
       "    .dataframe tbody tr th:only-of-type {\n",
       "        vertical-align: middle;\n",
       "    }\n",
       "\n",
       "    .dataframe tbody tr th {\n",
       "        vertical-align: top;\n",
       "    }\n",
       "\n",
       "    .dataframe thead th {\n",
       "        text-align: right;\n",
       "    }\n",
       "</style>\n",
       "<table border=\"1\" class=\"dataframe\">\n",
       "  <thead>\n",
       "    <tr style=\"text-align: right;\">\n",
       "      <th></th>\n",
       "      <th>debt</th>\n",
       "      <th>non_returned_debt</th>\n",
       "      <th>return_ratio</th>\n",
       "    </tr>\n",
       "    <tr>\n",
       "      <th>children</th>\n",
       "      <th></th>\n",
       "      <th></th>\n",
       "      <th></th>\n",
       "    </tr>\n",
       "  </thead>\n",
       "  <tbody>\n",
       "    <tr>\n",
       "      <th>0</th>\n",
       "      <td>14107</td>\n",
       "      <td>1063</td>\n",
       "      <td>0.075353</td>\n",
       "    </tr>\n",
       "    <tr>\n",
       "      <th>1</th>\n",
       "      <td>4809</td>\n",
       "      <td>444</td>\n",
       "      <td>0.092327</td>\n",
       "    </tr>\n",
       "    <tr>\n",
       "      <th>2</th>\n",
       "      <td>2052</td>\n",
       "      <td>194</td>\n",
       "      <td>0.094542</td>\n",
       "    </tr>\n",
       "    <tr>\n",
       "      <th>3</th>\n",
       "      <td>330</td>\n",
       "      <td>27</td>\n",
       "      <td>0.081818</td>\n",
       "    </tr>\n",
       "    <tr>\n",
       "      <th>4</th>\n",
       "      <td>41</td>\n",
       "      <td>4</td>\n",
       "      <td>0.097561</td>\n",
       "    </tr>\n",
       "    <tr>\n",
       "      <th>5</th>\n",
       "      <td>9</td>\n",
       "      <td>0</td>\n",
       "      <td>0.000000</td>\n",
       "    </tr>\n",
       "  </tbody>\n",
       "</table>\n",
       "</div>"
      ],
      "text/plain": [
       "           debt  non_returned_debt  return_ratio\n",
       "children                                        \n",
       "0         14107               1063      0.075353\n",
       "1          4809                444      0.092327\n",
       "2          2052                194      0.094542\n",
       "3           330                 27      0.081818\n",
       "4            41                  4      0.097561\n",
       "5             9                  0      0.000000"
      ]
     },
     "metadata": {},
     "output_type": "display_data"
    },
    {
     "data": {
      "text/html": [
       "<style  type=\"text/css\" >\n",
       "#T_6e995_row0_col0,#T_6e995_row0_col1,#T_6e995_row4_col2{\n",
       "            background-color:  yellow;\n",
       "        }#T_6e995_row5_col0,#T_6e995_row5_col1,#T_6e995_row5_col2{\n",
       "            background-color:  lightblue;\n",
       "        }</style><table id=\"T_6e995_\" ><thead>    <tr>        <th class=\"blank level0\" ></th>        <th class=\"col_heading level0 col0\" >debt</th>        <th class=\"col_heading level0 col1\" >non_returned_debt</th>        <th class=\"col_heading level0 col2\" >return_ratio</th>    </tr>    <tr>        <th class=\"index_name level0\" >children</th>        <th class=\"blank\" ></th>        <th class=\"blank\" ></th>        <th class=\"blank\" ></th>    </tr></thead><tbody>\n",
       "                <tr>\n",
       "                        <th id=\"T_6e995_level0_row0\" class=\"row_heading level0 row0\" >0</th>\n",
       "                        <td id=\"T_6e995_row0_col0\" class=\"data row0 col0\" >14107</td>\n",
       "                        <td id=\"T_6e995_row0_col1\" class=\"data row0 col1\" >1063</td>\n",
       "                        <td id=\"T_6e995_row0_col2\" class=\"data row0 col2\" >0.075353</td>\n",
       "            </tr>\n",
       "            <tr>\n",
       "                        <th id=\"T_6e995_level0_row1\" class=\"row_heading level0 row1\" >1</th>\n",
       "                        <td id=\"T_6e995_row1_col0\" class=\"data row1 col0\" >4809</td>\n",
       "                        <td id=\"T_6e995_row1_col1\" class=\"data row1 col1\" >444</td>\n",
       "                        <td id=\"T_6e995_row1_col2\" class=\"data row1 col2\" >0.092327</td>\n",
       "            </tr>\n",
       "            <tr>\n",
       "                        <th id=\"T_6e995_level0_row2\" class=\"row_heading level0 row2\" >2</th>\n",
       "                        <td id=\"T_6e995_row2_col0\" class=\"data row2 col0\" >2052</td>\n",
       "                        <td id=\"T_6e995_row2_col1\" class=\"data row2 col1\" >194</td>\n",
       "                        <td id=\"T_6e995_row2_col2\" class=\"data row2 col2\" >0.094542</td>\n",
       "            </tr>\n",
       "            <tr>\n",
       "                        <th id=\"T_6e995_level0_row3\" class=\"row_heading level0 row3\" >3</th>\n",
       "                        <td id=\"T_6e995_row3_col0\" class=\"data row3 col0\" >330</td>\n",
       "                        <td id=\"T_6e995_row3_col1\" class=\"data row3 col1\" >27</td>\n",
       "                        <td id=\"T_6e995_row3_col2\" class=\"data row3 col2\" >0.081818</td>\n",
       "            </tr>\n",
       "            <tr>\n",
       "                        <th id=\"T_6e995_level0_row4\" class=\"row_heading level0 row4\" >4</th>\n",
       "                        <td id=\"T_6e995_row4_col0\" class=\"data row4 col0\" >41</td>\n",
       "                        <td id=\"T_6e995_row4_col1\" class=\"data row4 col1\" >4</td>\n",
       "                        <td id=\"T_6e995_row4_col2\" class=\"data row4 col2\" >0.097561</td>\n",
       "            </tr>\n",
       "            <tr>\n",
       "                        <th id=\"T_6e995_level0_row5\" class=\"row_heading level0 row5\" >5</th>\n",
       "                        <td id=\"T_6e995_row5_col0\" class=\"data row5 col0\" >9</td>\n",
       "                        <td id=\"T_6e995_row5_col1\" class=\"data row5 col1\" >0</td>\n",
       "                        <td id=\"T_6e995_row5_col2\" class=\"data row5 col2\" >0.000000</td>\n",
       "            </tr>\n",
       "    </tbody></table>"
      ],
      "text/plain": [
       "<pandas.io.formats.style.Styler at 0x7f65fbb587f0>"
      ]
     },
     "execution_count": 87,
     "metadata": {},
     "output_type": "execute_result"
    }
   ],
   "source": [
    "dept_by_purpose['return_ratio'] = dept_by_purpose['non_returned_debt']/dept_by_purpose['debt']\n",
    "display(dept_by_purpose)\n",
    "table_1.style.highlight_max(color = 'yellow').highlight_min(color = 'lightblue')"
   ]
  },
  {
   "cell_type": "code",
   "execution_count": 88,
   "id": "bc7abde5",
   "metadata": {
    "pycharm": {
     "name": "#%%\n"
    }
   },
   "outputs": [
    {
     "data": {
      "text/html": [
       "<style  type=\"text/css\" >\n",
       "#T_5c925_row0_col0,#T_5c925_row0_col1,#T_5c925_row4_col2{\n",
       "            background-color:  yellow;\n",
       "        }#T_5c925_row5_col0,#T_5c925_row5_col1,#T_5c925_row5_col2{\n",
       "            background-color:  lightblue;\n",
       "        }</style><table id=\"T_5c925_\" ><thead>    <tr>        <th class=\"blank level0\" ></th>        <th class=\"col_heading level0 col0\" >всего кредитов</th>        <th class=\"col_heading level0 col1\" >всего долгов</th>        <th class=\"col_heading level0 col2\" >% задолженности</th>    </tr>    <tr>        <th class=\"index_name level0\" >children</th>        <th class=\"blank\" ></th>        <th class=\"blank\" ></th>        <th class=\"blank\" ></th>    </tr></thead><tbody>\n",
       "                <tr>\n",
       "                        <th id=\"T_5c925_level0_row0\" class=\"row_heading level0 row0\" >0</th>\n",
       "                        <td id=\"T_5c925_row0_col0\" class=\"data row0 col0\" >14107</td>\n",
       "                        <td id=\"T_5c925_row0_col1\" class=\"data row0 col1\" >1063</td>\n",
       "                        <td id=\"T_5c925_row0_col2\" class=\"data row0 col2\" >0.075353</td>\n",
       "            </tr>\n",
       "            <tr>\n",
       "                        <th id=\"T_5c925_level0_row1\" class=\"row_heading level0 row1\" >1</th>\n",
       "                        <td id=\"T_5c925_row1_col0\" class=\"data row1 col0\" >4809</td>\n",
       "                        <td id=\"T_5c925_row1_col1\" class=\"data row1 col1\" >444</td>\n",
       "                        <td id=\"T_5c925_row1_col2\" class=\"data row1 col2\" >0.092327</td>\n",
       "            </tr>\n",
       "            <tr>\n",
       "                        <th id=\"T_5c925_level0_row2\" class=\"row_heading level0 row2\" >2</th>\n",
       "                        <td id=\"T_5c925_row2_col0\" class=\"data row2 col0\" >2052</td>\n",
       "                        <td id=\"T_5c925_row2_col1\" class=\"data row2 col1\" >194</td>\n",
       "                        <td id=\"T_5c925_row2_col2\" class=\"data row2 col2\" >0.094542</td>\n",
       "            </tr>\n",
       "            <tr>\n",
       "                        <th id=\"T_5c925_level0_row3\" class=\"row_heading level0 row3\" >3</th>\n",
       "                        <td id=\"T_5c925_row3_col0\" class=\"data row3 col0\" >330</td>\n",
       "                        <td id=\"T_5c925_row3_col1\" class=\"data row3 col1\" >27</td>\n",
       "                        <td id=\"T_5c925_row3_col2\" class=\"data row3 col2\" >0.081818</td>\n",
       "            </tr>\n",
       "            <tr>\n",
       "                        <th id=\"T_5c925_level0_row4\" class=\"row_heading level0 row4\" >4</th>\n",
       "                        <td id=\"T_5c925_row4_col0\" class=\"data row4 col0\" >41</td>\n",
       "                        <td id=\"T_5c925_row4_col1\" class=\"data row4 col1\" >4</td>\n",
       "                        <td id=\"T_5c925_row4_col2\" class=\"data row4 col2\" >0.097561</td>\n",
       "            </tr>\n",
       "            <tr>\n",
       "                        <th id=\"T_5c925_level0_row5\" class=\"row_heading level0 row5\" >5</th>\n",
       "                        <td id=\"T_5c925_row5_col0\" class=\"data row5 col0\" >9</td>\n",
       "                        <td id=\"T_5c925_row5_col1\" class=\"data row5 col1\" >0</td>\n",
       "                        <td id=\"T_5c925_row5_col2\" class=\"data row5 col2\" >0.000000</td>\n",
       "            </tr>\n",
       "    </tbody></table>"
      ],
      "text/plain": [
       "<pandas.io.formats.style.Styler at 0x7f65fba08a90>"
      ]
     },
     "execution_count": 88,
     "metadata": {},
     "output_type": "execute_result"
    }
   ],
   "source": [
    "table_1 = pd.pivot_table(data, index = 'children', values = 'debt', aggfunc = ['count', 'sum', 'mean'] )\n",
    "table_1.columns = ['всего кредитов', 'всего долгов', '% задолженности']\n",
    "table_1.style.highlight_max(color = 'yellow').highlight_min(color = 'lightblue')"
   ]
  },
  {
   "cell_type": "markdown",
   "id": "de2f0815",
   "metadata": {
    "pycharm": {
     "name": "#%% md\n"
    }
   },
   "source": [
    "Решим задачу альтернативным способом, с использованием функции pivot_table библиотеки Pandas"
   ]
  },
  {
   "cell_type": "code",
   "execution_count": 89,
   "id": "449bb353",
   "metadata": {
    "scrolled": true,
    "pycharm": {
     "name": "#%%\n"
    }
   },
   "outputs": [
    {
     "data": {
      "text/html": [
       "<div>\n",
       "<style scoped>\n",
       "    .dataframe tbody tr th:only-of-type {\n",
       "        vertical-align: middle;\n",
       "    }\n",
       "\n",
       "    .dataframe tbody tr th {\n",
       "        vertical-align: top;\n",
       "    }\n",
       "\n",
       "    .dataframe thead th {\n",
       "        text-align: right;\n",
       "    }\n",
       "</style>\n",
       "<table border=\"1\" class=\"dataframe\">\n",
       "  <thead>\n",
       "    <tr style=\"text-align: right;\">\n",
       "      <th></th>\n",
       "      <th>debt</th>\n",
       "    </tr>\n",
       "    <tr>\n",
       "      <th>children</th>\n",
       "      <th></th>\n",
       "    </tr>\n",
       "  </thead>\n",
       "  <tbody>\n",
       "    <tr>\n",
       "      <th>0</th>\n",
       "      <td>0.075353</td>\n",
       "    </tr>\n",
       "    <tr>\n",
       "      <th>1</th>\n",
       "      <td>0.092327</td>\n",
       "    </tr>\n",
       "    <tr>\n",
       "      <th>2</th>\n",
       "      <td>0.094542</td>\n",
       "    </tr>\n",
       "    <tr>\n",
       "      <th>3</th>\n",
       "      <td>0.081818</td>\n",
       "    </tr>\n",
       "    <tr>\n",
       "      <th>4</th>\n",
       "      <td>0.097561</td>\n",
       "    </tr>\n",
       "    <tr>\n",
       "      <th>5</th>\n",
       "      <td>0.000000</td>\n",
       "    </tr>\n",
       "  </tbody>\n",
       "</table>\n",
       "</div>"
      ],
      "text/plain": [
       "              debt\n",
       "children          \n",
       "0         0.075353\n",
       "1         0.092327\n",
       "2         0.094542\n",
       "3         0.081818\n",
       "4         0.097561\n",
       "5         0.000000"
      ]
     },
     "execution_count": 89,
     "metadata": {},
     "output_type": "execute_result"
    }
   ],
   "source": [
    "pd.pivot_table(data, index= 'children', values = 'debt')\n"
   ]
  },
  {
   "cell_type": "markdown",
   "id": "3a6b99ec",
   "metadata": {
    "deletable": false,
    "id": "3a6b99ec",
    "pycharm": {
     "name": "#%% md\n"
    }
   },
   "source": [
    "**Вывод: \n",
    "Высказаться однозначно о том, что увеличенние количества детей в семье приводит к ухудшению платежеспособности нельзя, т к разница между просрочками в семьях с детьми и без детей минимальна. \n",
    "Высокая доля просрочек в семьях с 4 детьми. \n",
    "Низкая доля просрочек в семьях, где нет детей. \n",
    "По семьях с 5 детьми однозначно высказаться, на основании данных из датасета не представляется возможным, т к собранной информации явно недосточно для однозначного вывода.**"
   ]
  },
  {
   "cell_type": "markdown",
   "id": "97be82ca",
   "metadata": {
    "deletable": false,
    "editable": false,
    "id": "97be82ca",
    "pycharm": {
     "name": "#%% md\n"
    }
   },
   "source": [
    "**Задание 20. Есть ли зависимость между семейным положением и возвратом кредита в срок?**"
   ]
  },
  {
   "cell_type": "markdown",
   "id": "6bc62686",
   "metadata": {
    "pycharm": {
     "name": "#%% md\n"
    }
   },
   "source": [
    "Семейного положения касаются два столбца: непосредственно family_status и его цифровое выражение family_status_id. \n",
    "Выделим их в отдельный датафрейм и удалим в нем дубликаты."
   ]
  },
  {
   "cell_type": "code",
   "execution_count": 90,
   "id": "dc3f7ee8",
   "metadata": {
    "id": "dc3f7ee8",
    "scrolled": true,
    "pycharm": {
     "name": "#%%\n"
    }
   },
   "outputs": [
    {
     "name": "stdout",
     "output_type": "stream",
     "text": [
      "   family_status_id          family_status\n",
      "0                 0        женат / замужем\n",
      "1                 1       гражданский брак\n",
      "2                 2         вдовец / вдова\n",
      "3                 3              в разводе\n",
      "4                 4  Не женат / не замужем\n"
     ]
    }
   ],
   "source": [
    "family_dict = data[['family_status_id','family_status']]\n",
    "family_dict = family_dict.drop_duplicates().reset_index(drop=True)\n",
    "print(family_dict) "
   ]
  },
  {
   "cell_type": "markdown",
   "id": "cfb70ef2",
   "metadata": {
    "pycharm": {
     "name": "#%% md\n"
    }
   },
   "source": [
    "сосчитаем в исходном датафрейме количество кредитов для каждого семейного статуса"
   ]
  },
  {
   "cell_type": "code",
   "execution_count": 91,
   "id": "7f6e2768",
   "metadata": {
    "scrolled": true,
    "pycharm": {
     "name": "#%%\n"
    }
   },
   "outputs": [
    {
     "name": "stdout",
     "output_type": "stream",
     "text": [
      "0    12266\n",
      "1     4146\n",
      "4     2796\n",
      "3     1189\n",
      "2      951\n",
      "Name: family_status_id, dtype: int64\n"
     ]
    }
   ],
   "source": [
    "family_statuses = data['family_status_id'].value_counts()\n",
    "\n",
    "print(family_statuses)"
   ]
  },
  {
   "cell_type": "markdown",
   "id": "4d75a4b5",
   "metadata": {
    "pycharm": {
     "name": "#%% md\n"
    }
   },
   "source": [
    "исследуем взаимосвязь между семейным статусом и невозвратным долгом"
   ]
  },
  {
   "cell_type": "code",
   "execution_count": 92,
   "id": "fe7b217c",
   "metadata": {
    "pycharm": {
     "name": "#%%\n"
    }
   },
   "outputs": [
    {
     "name": "stdout",
     "output_type": "stream",
     "text": [
      "0    7.557476\n",
      "1    9.286059\n",
      "2    6.624606\n",
      "3    7.064760\n",
      "4    9.763948\n",
      "Name: debt, dtype: float64\n"
     ]
    }
   ],
   "source": [
    "grouped_by_family = data.groupby('family_status_id')['debt'].mean().reset_index()\n",
    "\n",
    "grouped_by_family = grouped_by_family['debt']*100\n",
    "\n",
    "print(grouped_by_family)"
   ]
  },
  {
   "cell_type": "markdown",
   "id": "94f30aa3",
   "metadata": {
    "pycharm": {
     "name": "#%% md\n"
    }
   },
   "source": [
    "#соберем новую таблицу с общим количеством кредитов каждого семейного статуса и должников, после чего подсчитаем долю должников в каждом статусе"
   ]
  },
  {
   "cell_type": "code",
   "execution_count": 93,
   "id": "08de3c42",
   "metadata": {
    "pycharm": {
     "name": "#%%\n"
    }
   },
   "outputs": [
    {
     "name": "stdout",
     "output_type": "stream",
     "text": [
      "           family_status  family_status_id      debt  debt_percentage\n",
      "0        женат / замужем             12266  7.557476         0.061613\n",
      "1       гражданский брак              4146  9.286059         0.223976\n",
      "2         вдовец / вдова               951  6.624606         0.696594\n",
      "3              в разводе              1189  7.064760         0.594177\n",
      "4  Не женат / не замужем              2796  9.763948         0.349211\n"
     ]
    }
   ],
   "source": [
    "family_status = ['женат / замужем', 'гражданский брак', 'вдовец / вдова', 'в разводе', 'Не женат / не замужем']\n",
    "family_and_debt = pd.DataFrame({'family_status' : family_status, 'family_status_id': family_statuses,\n",
    "                   'debt': grouped_by_family})\n",
    "family_and_debt['debt_percentage'] = (grouped_by_family / family_statuses) * 100\n",
    "\n",
    "print(family_and_debt)"
   ]
  },
  {
   "cell_type": "code",
   "execution_count": 103,
   "id": "7579a6de",
   "metadata": {
    "pycharm": {
     "name": "#%%\n"
    }
   },
   "outputs": [
    {
     "data": {
      "text/html": [
       "<div>\n",
       "<style scoped>\n",
       "    .dataframe tbody tr th:only-of-type {\n",
       "        vertical-align: middle;\n",
       "    }\n",
       "\n",
       "    .dataframe tbody tr th {\n",
       "        vertical-align: top;\n",
       "    }\n",
       "\n",
       "    .dataframe thead th {\n",
       "        text-align: right;\n",
       "    }\n",
       "</style>\n",
       "<table border=\"1\" class=\"dataframe\">\n",
       "  <thead>\n",
       "    <tr style=\"text-align: right;\">\n",
       "      <th></th>\n",
       "      <th>всего кредитов</th>\n",
       "      <th>всего долгов</th>\n",
       "      <th>% задолженности</th>\n",
       "    </tr>\n",
       "    <tr>\n",
       "      <th>family_status</th>\n",
       "      <th></th>\n",
       "      <th></th>\n",
       "      <th></th>\n",
       "    </tr>\n",
       "  </thead>\n",
       "  <tbody>\n",
       "    <tr>\n",
       "      <th>Не женат / не замужем</th>\n",
       "      <td>2796</td>\n",
       "      <td>273</td>\n",
       "      <td>9.76%</td>\n",
       "    </tr>\n",
       "    <tr>\n",
       "      <th>гражданский брак</th>\n",
       "      <td>4146</td>\n",
       "      <td>385</td>\n",
       "      <td>9.29%</td>\n",
       "    </tr>\n",
       "    <tr>\n",
       "      <th>женат / замужем</th>\n",
       "      <td>12266</td>\n",
       "      <td>927</td>\n",
       "      <td>7.56%</td>\n",
       "    </tr>\n",
       "    <tr>\n",
       "      <th>в разводе</th>\n",
       "      <td>1189</td>\n",
       "      <td>84</td>\n",
       "      <td>7.06%</td>\n",
       "    </tr>\n",
       "    <tr>\n",
       "      <th>вдовец / вдова</th>\n",
       "      <td>951</td>\n",
       "      <td>63</td>\n",
       "      <td>6.62%</td>\n",
       "    </tr>\n",
       "  </tbody>\n",
       "</table>\n",
       "</div>"
      ],
      "text/plain": [
       "                       всего кредитов  всего долгов % задолженности\n",
       "family_status                                                      \n",
       "Не женат / не замужем            2796           273           9.76%\n",
       "гражданский брак                 4146           385           9.29%\n",
       "женат / замужем                 12266           927           7.56%\n",
       "в разводе                        1189            84           7.06%\n",
       "вдовец / вдова                    951            63           6.62%"
      ]
     },
     "metadata": {},
     "output_type": "display_data"
    },
    {
     "data": {
      "text/html": [
       "<style  type=\"text/css\" >\n",
       "#T_05308_row2_col0,#T_05308_row2_col1{\n",
       "            background-color:  lightblue;\n",
       "        }#T_05308_row4_col0,#T_05308_row4_col1{\n",
       "            background-color:  yellow;\n",
       "        }</style><table id=\"T_05308_\" ><thead>    <tr>        <th class=\"blank level0\" ></th>        <th class=\"col_heading level0 col0\" >всего кредитов</th>        <th class=\"col_heading level0 col1\" >всего долгов</th>        <th class=\"col_heading level0 col2\" >% задолженности</th>    </tr>    <tr>        <th class=\"index_name level0\" >family_status</th>        <th class=\"blank\" ></th>        <th class=\"blank\" ></th>        <th class=\"blank\" ></th>    </tr></thead><tbody>\n",
       "                <tr>\n",
       "                        <th id=\"T_05308_level0_row0\" class=\"row_heading level0 row0\" >Не женат / не замужем</th>\n",
       "                        <td id=\"T_05308_row0_col0\" class=\"data row0 col0\" >2796</td>\n",
       "                        <td id=\"T_05308_row0_col1\" class=\"data row0 col1\" >273</td>\n",
       "                        <td id=\"T_05308_row0_col2\" class=\"data row0 col2\" >9.76%</td>\n",
       "            </tr>\n",
       "            <tr>\n",
       "                        <th id=\"T_05308_level0_row1\" class=\"row_heading level0 row1\" >в разводе</th>\n",
       "                        <td id=\"T_05308_row1_col0\" class=\"data row1 col0\" >1189</td>\n",
       "                        <td id=\"T_05308_row1_col1\" class=\"data row1 col1\" >84</td>\n",
       "                        <td id=\"T_05308_row1_col2\" class=\"data row1 col2\" >7.06%</td>\n",
       "            </tr>\n",
       "            <tr>\n",
       "                        <th id=\"T_05308_level0_row2\" class=\"row_heading level0 row2\" >вдовец / вдова</th>\n",
       "                        <td id=\"T_05308_row2_col0\" class=\"data row2 col0\" >951</td>\n",
       "                        <td id=\"T_05308_row2_col1\" class=\"data row2 col1\" >63</td>\n",
       "                        <td id=\"T_05308_row2_col2\" class=\"data row2 col2\" >6.62%</td>\n",
       "            </tr>\n",
       "            <tr>\n",
       "                        <th id=\"T_05308_level0_row3\" class=\"row_heading level0 row3\" >гражданский брак</th>\n",
       "                        <td id=\"T_05308_row3_col0\" class=\"data row3 col0\" >4146</td>\n",
       "                        <td id=\"T_05308_row3_col1\" class=\"data row3 col1\" >385</td>\n",
       "                        <td id=\"T_05308_row3_col2\" class=\"data row3 col2\" >9.29%</td>\n",
       "            </tr>\n",
       "            <tr>\n",
       "                        <th id=\"T_05308_level0_row4\" class=\"row_heading level0 row4\" >женат / замужем</th>\n",
       "                        <td id=\"T_05308_row4_col0\" class=\"data row4 col0\" >12266</td>\n",
       "                        <td id=\"T_05308_row4_col1\" class=\"data row4 col1\" >927</td>\n",
       "                        <td id=\"T_05308_row4_col2\" class=\"data row4 col2\" >7.56%</td>\n",
       "            </tr>\n",
       "    </tbody></table>"
      ],
      "text/plain": [
       "<pandas.io.formats.style.Styler at 0x7f65fbd1e880>"
      ]
     },
     "execution_count": 103,
     "metadata": {},
     "output_type": "execute_result"
    }
   ],
   "source": [
    "table_1 = pd.pivot_table(data, index = 'family_status', values = 'debt', aggfunc = ['count', 'sum', 'mean'] )\n",
    "table_1.columns = ['всего кредитов', 'всего долгов', '% задолженности']\n",
    "table_1['% задолженности'] = table_1['% задолженности'].apply('{:.2%}'.format)\n",
    "display(table_1.sort_values('% задолженности', ascending = False))\n",
    "table_1.style.highlight_max(color = 'yellow').highlight_min(color = 'lightblue')"
   ]
  },
  {
   "cell_type": "markdown",
   "id": "23c8099d",
   "metadata": {
    "pycharm": {
     "name": "#%% md\n"
    }
   },
   "source": [
    "Решим задачу альтернативным способом, с использованием функции pivot_table библиотеки Pandas"
   ]
  },
  {
   "cell_type": "code",
   "execution_count": 95,
   "id": "b71d2b4c",
   "metadata": {
    "pycharm": {
     "name": "#%%\n"
    }
   },
   "outputs": [
    {
     "data": {
      "text/html": [
       "<div>\n",
       "<style scoped>\n",
       "    .dataframe tbody tr th:only-of-type {\n",
       "        vertical-align: middle;\n",
       "    }\n",
       "\n",
       "    .dataframe tbody tr th {\n",
       "        vertical-align: top;\n",
       "    }\n",
       "\n",
       "    .dataframe thead th {\n",
       "        text-align: right;\n",
       "    }\n",
       "</style>\n",
       "<table border=\"1\" class=\"dataframe\">\n",
       "  <thead>\n",
       "    <tr style=\"text-align: right;\">\n",
       "      <th></th>\n",
       "      <th>debt</th>\n",
       "    </tr>\n",
       "    <tr>\n",
       "      <th>family_status</th>\n",
       "      <th></th>\n",
       "    </tr>\n",
       "  </thead>\n",
       "  <tbody>\n",
       "    <tr>\n",
       "      <th>Не женат / не замужем</th>\n",
       "      <td>0.097639</td>\n",
       "    </tr>\n",
       "    <tr>\n",
       "      <th>в разводе</th>\n",
       "      <td>0.070648</td>\n",
       "    </tr>\n",
       "    <tr>\n",
       "      <th>вдовец / вдова</th>\n",
       "      <td>0.066246</td>\n",
       "    </tr>\n",
       "    <tr>\n",
       "      <th>гражданский брак</th>\n",
       "      <td>0.092861</td>\n",
       "    </tr>\n",
       "    <tr>\n",
       "      <th>женат / замужем</th>\n",
       "      <td>0.075575</td>\n",
       "    </tr>\n",
       "  </tbody>\n",
       "</table>\n",
       "</div>"
      ],
      "text/plain": [
       "                           debt\n",
       "family_status                  \n",
       "Не женат / не замужем  0.097639\n",
       "в разводе              0.070648\n",
       "вдовец / вдова         0.066246\n",
       "гражданский брак       0.092861\n",
       "женат / замужем        0.075575"
      ]
     },
     "execution_count": 95,
     "metadata": {},
     "output_type": "execute_result"
    }
   ],
   "source": [
    "pd.pivot_table(data, index= 'family_status', values = 'debt')\n"
   ]
  },
  {
   "cell_type": "markdown",
   "id": "1cef7837",
   "metadata": {
    "deletable": false,
    "id": "1cef7837",
    "pycharm": {
     "name": "#%% md\n"
    }
   },
   "source": [
    "**Вывод: 1) наименьший риск невозврата в категории \"вдовец / вдова\" 2) наибольший риск невозврата у людей в категориях: \"не женат / не замужем\", \"гражданский брак\". В целом, в категории женатых/замужних, в отличие от категории неженатых/незамужних, разница в невозврате долга составляет: 7.5 % vs 9.7%, т е практически на 22%. Даннкую зависимости имеет смысл использовать при построении скоринговой модели оценки платежеспособности заемщика.**"
   ]
  },
  {
   "cell_type": "markdown",
   "id": "1e8b2fca",
   "metadata": {
    "deletable": false,
    "editable": false,
    "id": "1e8b2fca",
    "pycharm": {
     "name": "#%% md\n"
    }
   },
   "source": [
    "**Задание 21. Есть ли зависимость между уровнем дохода и возвратом кредита в срок?**"
   ]
  },
  {
   "cell_type": "code",
   "execution_count": 96,
   "id": "cd7e3720",
   "metadata": {
    "id": "cd7e3720",
    "pycharm": {
     "name": "#%%\n"
    }
   },
   "outputs": [],
   "source": [
    "total_income_debt = data[['total_income','debt']]\n",
    "# Ваш код будет здесь. Вы можете создавать новые ячейки."
   ]
  },
  {
   "cell_type": "code",
   "execution_count": 97,
   "id": "26b6eb73",
   "metadata": {
    "scrolled": false,
    "pycharm": {
     "name": "#%%\n"
    }
   },
   "outputs": [
    {
     "data": {
      "text/html": [
       "<div>\n",
       "<style scoped>\n",
       "    .dataframe tbody tr th:only-of-type {\n",
       "        vertical-align: middle;\n",
       "    }\n",
       "\n",
       "    .dataframe tbody tr th {\n",
       "        vertical-align: top;\n",
       "    }\n",
       "\n",
       "    .dataframe thead th {\n",
       "        text-align: right;\n",
       "    }\n",
       "</style>\n",
       "<table border=\"1\" class=\"dataframe\">\n",
       "  <thead>\n",
       "    <tr style=\"text-align: right;\">\n",
       "      <th></th>\n",
       "      <th>debt</th>\n",
       "    </tr>\n",
       "    <tr>\n",
       "      <th>debt_income</th>\n",
       "      <th></th>\n",
       "    </tr>\n",
       "  </thead>\n",
       "  <tbody>\n",
       "    <tr>\n",
       "      <th>A</th>\n",
       "      <td>2</td>\n",
       "    </tr>\n",
       "    <tr>\n",
       "      <th>B</th>\n",
       "      <td>354</td>\n",
       "    </tr>\n",
       "    <tr>\n",
       "      <th>C</th>\n",
       "      <td>1353</td>\n",
       "    </tr>\n",
       "    <tr>\n",
       "      <th>D</th>\n",
       "      <td>21</td>\n",
       "    </tr>\n",
       "    <tr>\n",
       "      <th>E</th>\n",
       "      <td>2</td>\n",
       "    </tr>\n",
       "  </tbody>\n",
       "</table>\n",
       "</div>"
      ],
      "text/plain": [
       "             debt\n",
       "debt_income      \n",
       "A               2\n",
       "B             354\n",
       "C            1353\n",
       "D              21\n",
       "E               2"
      ]
     },
     "execution_count": 97,
     "metadata": {},
     "output_type": "execute_result"
    }
   ],
   "source": [
    "\n",
    "total_income_debt = total_income_debt.loc[total_income_debt ['debt'] == 1]\n",
    "total_income_debt['debt_income'] = total_income_debt['total_income'].apply(categorize_income)\n",
    "total_income_debt[['debt_income', 'debt']].groupby('debt_income').sum().sort_values('debt_income', ascending = True)\n",
    "\n",
    "\n",
    "\n",
    "\n",
    "\n"
   ]
  },
  {
   "cell_type": "markdown",
   "id": "f1337479",
   "metadata": {
    "pycharm": {
     "name": "#%% md\n"
    }
   },
   "source": [
    "Решим задачу альтернативным способом, с использованием функции pivot_table библиотеки Pandas"
   ]
  },
  {
   "cell_type": "code",
   "execution_count": 98,
   "id": "06146e11",
   "metadata": {
    "pycharm": {
     "name": "#%%\n"
    }
   },
   "outputs": [
    {
     "data": {
      "text/html": [
       "<div>\n",
       "<style scoped>\n",
       "    .dataframe tbody tr th:only-of-type {\n",
       "        vertical-align: middle;\n",
       "    }\n",
       "\n",
       "    .dataframe tbody tr th {\n",
       "        vertical-align: top;\n",
       "    }\n",
       "\n",
       "    .dataframe thead th {\n",
       "        text-align: right;\n",
       "    }\n",
       "</style>\n",
       "<table border=\"1\" class=\"dataframe\">\n",
       "  <thead>\n",
       "    <tr style=\"text-align: right;\">\n",
       "      <th></th>\n",
       "      <th>debt</th>\n",
       "    </tr>\n",
       "    <tr>\n",
       "      <th>total_income_category</th>\n",
       "      <th></th>\n",
       "    </tr>\n",
       "  </thead>\n",
       "  <tbody>\n",
       "    <tr>\n",
       "      <th>A</th>\n",
       "      <td>0.080000</td>\n",
       "    </tr>\n",
       "    <tr>\n",
       "      <th>B</th>\n",
       "      <td>0.070602</td>\n",
       "    </tr>\n",
       "    <tr>\n",
       "      <th>C</th>\n",
       "      <td>0.084891</td>\n",
       "    </tr>\n",
       "    <tr>\n",
       "      <th>D</th>\n",
       "      <td>0.060172</td>\n",
       "    </tr>\n",
       "    <tr>\n",
       "      <th>E</th>\n",
       "      <td>0.090909</td>\n",
       "    </tr>\n",
       "  </tbody>\n",
       "</table>\n",
       "</div>"
      ],
      "text/plain": [
       "                           debt\n",
       "total_income_category          \n",
       "A                      0.080000\n",
       "B                      0.070602\n",
       "C                      0.084891\n",
       "D                      0.060172\n",
       "E                      0.090909"
      ]
     },
     "execution_count": 98,
     "metadata": {},
     "output_type": "execute_result"
    }
   ],
   "source": [
    "pd.pivot_table(data, index='total_income_category', values = 'debt')"
   ]
  },
  {
   "cell_type": "markdown",
   "id": "317b22ae",
   "metadata": {
    "pycharm": {
     "name": "#%% md\n"
    }
   },
   "source": [
    "Используя данные, полученные при делении клиентов на категории (Задание 16), в результате исследования, мы получили информацию о том, что больше всего должников в категории Е, с уровенем дохода 0 - 30 000."
   ]
  },
  {
   "cell_type": "code",
   "execution_count": 106,
   "id": "59af8a39",
   "metadata": {
    "pycharm": {
     "name": "#%%\n"
    }
   },
   "outputs": [
    {
     "data": {
      "text/html": [
       "<style  type=\"text/css\" >\n",
       "#T_dc7d0_row0_col1,#T_dc7d0_row4_col0,#T_dc7d0_row4_col1{\n",
       "            background-color:  lightblue;\n",
       "        }#T_dc7d0_row2_col0,#T_dc7d0_row2_col1{\n",
       "            background-color:  yellow;\n",
       "        }</style><table id=\"T_dc7d0_\" ><thead>    <tr>        <th class=\"blank level0\" ></th>        <th class=\"col_heading level0 col0\" >число заемщиков</th>        <th class=\"col_heading level0 col1\" >число должников</th>        <th class=\"col_heading level0 col2\" >% задолженности</th>    </tr>    <tr>        <th class=\"index_name level0\" >total_income_category</th>        <th class=\"blank\" ></th>        <th class=\"blank\" ></th>        <th class=\"blank\" ></th>    </tr></thead><tbody>\n",
       "                <tr>\n",
       "                        <th id=\"T_dc7d0_level0_row0\" class=\"row_heading level0 row0\" >A</th>\n",
       "                        <td id=\"T_dc7d0_row0_col0\" class=\"data row0 col0\" >25</td>\n",
       "                        <td id=\"T_dc7d0_row0_col1\" class=\"data row0 col1\" >2</td>\n",
       "                        <td id=\"T_dc7d0_row0_col2\" class=\"data row0 col2\" >8.00%</td>\n",
       "            </tr>\n",
       "            <tr>\n",
       "                        <th id=\"T_dc7d0_level0_row1\" class=\"row_heading level0 row1\" >B</th>\n",
       "                        <td id=\"T_dc7d0_row1_col0\" class=\"data row1 col0\" >5014</td>\n",
       "                        <td id=\"T_dc7d0_row1_col1\" class=\"data row1 col1\" >354</td>\n",
       "                        <td id=\"T_dc7d0_row1_col2\" class=\"data row1 col2\" >7.06%</td>\n",
       "            </tr>\n",
       "            <tr>\n",
       "                        <th id=\"T_dc7d0_level0_row2\" class=\"row_heading level0 row2\" >C</th>\n",
       "                        <td id=\"T_dc7d0_row2_col0\" class=\"data row2 col0\" >15938</td>\n",
       "                        <td id=\"T_dc7d0_row2_col1\" class=\"data row2 col1\" >1353</td>\n",
       "                        <td id=\"T_dc7d0_row2_col2\" class=\"data row2 col2\" >8.49%</td>\n",
       "            </tr>\n",
       "            <tr>\n",
       "                        <th id=\"T_dc7d0_level0_row3\" class=\"row_heading level0 row3\" >D</th>\n",
       "                        <td id=\"T_dc7d0_row3_col0\" class=\"data row3 col0\" >349</td>\n",
       "                        <td id=\"T_dc7d0_row3_col1\" class=\"data row3 col1\" >21</td>\n",
       "                        <td id=\"T_dc7d0_row3_col2\" class=\"data row3 col2\" >6.02%</td>\n",
       "            </tr>\n",
       "            <tr>\n",
       "                        <th id=\"T_dc7d0_level0_row4\" class=\"row_heading level0 row4\" >E</th>\n",
       "                        <td id=\"T_dc7d0_row4_col0\" class=\"data row4 col0\" >22</td>\n",
       "                        <td id=\"T_dc7d0_row4_col1\" class=\"data row4 col1\" >2</td>\n",
       "                        <td id=\"T_dc7d0_row4_col2\" class=\"data row4 col2\" >9.09%</td>\n",
       "            </tr>\n",
       "    </tbody></table>"
      ],
      "text/plain": [
       "<pandas.io.formats.style.Styler at 0x7f65fb9050d0>"
      ]
     },
     "execution_count": 106,
     "metadata": {},
     "output_type": "execute_result"
    }
   ],
   "source": [
    "table_1 = pd.pivot_table(data, index = 'total_income_category', values = 'debt', aggfunc = ['count', 'sum', 'mean'] )\n",
    "table_1.columns = ['число заемщиков', 'число должников', '% задолженности']\n",
    "table_1['% задолженности'] =  table_1['% задолженности'].apply('{:.2%}'.format)\n",
    "table_1.style.highlight_max(color = 'yellow').highlight_min(color = 'lightblue')"
   ]
  },
  {
   "cell_type": "markdown",
   "id": "e8593def",
   "metadata": {
    "deletable": false,
    "id": "e8593def",
    "pycharm": {
     "name": "#%% md\n"
    }
   },
   "source": [
    "**Вывод: В результате исследования данных, мы приходим к выводу, что чем больше уровень дохода, тем меньшее количество задолженностей по кредитам. Для более детального исследования, требуется углубленная категоризация интересующей группы**"
   ]
  },
  {
   "cell_type": "code",
   "execution_count": 100,
   "id": "bbb59203",
   "metadata": {
    "scrolled": true,
    "pycharm": {
     "name": "#%%\n"
    }
   },
   "outputs": [
    {
     "data": {
      "text/plain": [
       "<AxesSubplot:xlabel='число заемщиков', ylabel='доля невозврата'>"
      ]
     },
     "execution_count": 100,
     "metadata": {},
     "output_type": "execute_result"
    },
    {
     "data": {
      "image/png": "[encoded data removed]",
      "text/plain": [
       "<Figure size 432x288 with 1 Axes>"
      ]
     },
     "metadata": {
      "needs_background": "light"
     },
     "output_type": "display_data"
    }
   ],
   "source": [
    "seaborn.barplot(x = table_1['число заемщиков'], y = table_1['доля невозврата'])"
   ]
  },
  {
   "cell_type": "markdown",
   "id": "99ecbd1f",
   "metadata": {
    "deletable": false,
    "editable": false,
    "id": "99ecbd1f",
    "pycharm": {
     "name": "#%% md\n"
    }
   },
   "source": [
    "**Задание 22. Как разные цели кредита влияют на его возврат в срок?**"
   ]
  },
  {
   "cell_type": "markdown",
   "id": "b8dd9ce3",
   "metadata": {
    "pycharm": {
     "name": "#%% md\n"
    }
   },
   "source": [
    "используя аналогию с предыдущими задачами, решим данную задачу по обсужденной выше схеме"
   ]
  },
  {
   "cell_type": "code",
   "execution_count": 101,
   "id": "bbe45de5",
   "metadata": {
    "pycharm": {
     "name": "#%%\n"
    }
   },
   "outputs": [
    {
     "data": {
      "text/html": [
       "<div>\n",
       "<style scoped>\n",
       "    .dataframe tbody tr th:only-of-type {\n",
       "        vertical-align: middle;\n",
       "    }\n",
       "\n",
       "    .dataframe tbody tr th {\n",
       "        vertical-align: top;\n",
       "    }\n",
       "\n",
       "    .dataframe thead th {\n",
       "        text-align: right;\n",
       "    }\n",
       "</style>\n",
       "<table border=\"1\" class=\"dataframe\">\n",
       "  <thead>\n",
       "    <tr style=\"text-align: right;\">\n",
       "      <th></th>\n",
       "      <th>mean, %</th>\n",
       "    </tr>\n",
       "    <tr>\n",
       "      <th>purpose_category</th>\n",
       "      <th></th>\n",
       "    </tr>\n",
       "  </thead>\n",
       "  <tbody>\n",
       "    <tr>\n",
       "      <th>операции с автомобилем</th>\n",
       "      <td>9.343611</td>\n",
       "    </tr>\n",
       "    <tr>\n",
       "      <th>получение образования</th>\n",
       "      <td>9.250439</td>\n",
       "    </tr>\n",
       "    <tr>\n",
       "      <th>проведение свадьбы</th>\n",
       "      <td>7.874355</td>\n",
       "    </tr>\n",
       "    <tr>\n",
       "      <th>операции с недвижимостью</th>\n",
       "      <td>7.253115</td>\n",
       "    </tr>\n",
       "  </tbody>\n",
       "</table>\n",
       "</div>"
      ],
      "text/plain": [
       "                           mean, %\n",
       "purpose_category                  \n",
       "операции с автомобилем    9.343611\n",
       "получение образования     9.250439\n",
       "проведение свадьбы        7.874355\n",
       "операции с недвижимостью  7.253115"
      ]
     },
     "execution_count": 101,
     "metadata": {},
     "output_type": "execute_result"
    }
   ],
   "source": [
    "debtors_purpose = data[['purpose_category', 'purpose', 'debt']]\n",
    "debtors_purpose_grouped = debtors_purpose.groupby('purpose_category').count()\n",
    "debtors_purpose_grouped['number'] = debtors_purpose.loc[debtors_purpose['debt'] == 1].groupby('purpose_category').sum()\n",
    "debtors_purpose_grouped['mean, %'] = (debtors_purpose_grouped['number'] / debtors_purpose_grouped['debt']) * 100\n",
    "debtors_purpose_grouped[['mean, %']].sort_values('mean, %', ascending=False)"
   ]
  },
  {
   "cell_type": "markdown",
   "id": "6303294e",
   "metadata": {
    "pycharm": {
     "name": "#%% md\n"
    }
   },
   "source": [
    "Решим задачу альтернативным способом, с использованием функции pivot_table библиотеки Pandas"
   ]
  },
  {
   "cell_type": "code",
   "execution_count": 102,
   "id": "9b4992cd",
   "metadata": {
    "pycharm": {
     "name": "#%%\n"
    }
   },
   "outputs": [
    {
     "data": {
      "text/html": [
       "<div>\n",
       "<style scoped>\n",
       "    .dataframe tbody tr th:only-of-type {\n",
       "        vertical-align: middle;\n",
       "    }\n",
       "\n",
       "    .dataframe tbody tr th {\n",
       "        vertical-align: top;\n",
       "    }\n",
       "\n",
       "    .dataframe thead th {\n",
       "        text-align: right;\n",
       "    }\n",
       "</style>\n",
       "<table border=\"1\" class=\"dataframe\">\n",
       "  <thead>\n",
       "    <tr style=\"text-align: right;\">\n",
       "      <th></th>\n",
       "      <th>debt</th>\n",
       "    </tr>\n",
       "    <tr>\n",
       "      <th>purpose_category</th>\n",
       "      <th></th>\n",
       "    </tr>\n",
       "  </thead>\n",
       "  <tbody>\n",
       "    <tr>\n",
       "      <th>операции с автомобилем</th>\n",
       "      <td>0.093436</td>\n",
       "    </tr>\n",
       "    <tr>\n",
       "      <th>операции с недвижимостью</th>\n",
       "      <td>0.072531</td>\n",
       "    </tr>\n",
       "    <tr>\n",
       "      <th>получение образования</th>\n",
       "      <td>0.092504</td>\n",
       "    </tr>\n",
       "    <tr>\n",
       "      <th>проведение свадьбы</th>\n",
       "      <td>0.078744</td>\n",
       "    </tr>\n",
       "  </tbody>\n",
       "</table>\n",
       "</div>"
      ],
      "text/plain": [
       "                              debt\n",
       "purpose_category                  \n",
       "операции с автомобилем    0.093436\n",
       "операции с недвижимостью  0.072531\n",
       "получение образования     0.092504\n",
       "проведение свадьбы        0.078744"
      ]
     },
     "execution_count": 102,
     "metadata": {},
     "output_type": "execute_result"
    }
   ],
   "source": [
    "pd.pivot_table(data, index='purpose_category', values='debt')"
   ]
  },
  {
   "cell_type": "markdown",
   "id": "b4bb2ce6",
   "metadata": {
    "deletable": false,
    "id": "b4bb2ce6",
    "pycharm": {
     "name": "#%% md\n"
    }
   },
   "source": [
    "**Вывод: автокредитование и получение образования чаще всего приводят к проблеме невыплаты долга**"
   ]
  },
  {
   "cell_type": "markdown",
   "id": "09c3ac4c",
   "metadata": {
    "deletable": false,
    "editable": false,
    "id": "09c3ac4c",
    "pycharm": {
     "name": "#%% md\n"
    }
   },
   "source": [
    "**Задание 23. Приведите возможные причины появления пропусков в исходных данных.**"
   ]
  },
  {
   "cell_type": "markdown",
   "id": "9da2ceda",
   "metadata": {
    "deletable": false,
    "id": "9da2ceda",
    "pycharm": {
     "name": "#%% md\n"
    }
   },
   "source": [
    "*Ответ: к возможным причинам относятся: человеческий фактор, нежелание раскрывать свои доходы, технические неисправности*"
   ]
  },
  {
   "cell_type": "markdown",
   "id": "7b0487d6",
   "metadata": {
    "deletable": false,
    "editable": false,
    "id": "7b0487d6",
    "pycharm": {
     "name": "#%% md\n"
    }
   },
   "source": [
    "**Задание 24. Объясните, почему заполнить пропуски медианным значением — лучшее решение для количественных переменных.**"
   ]
  },
  {
   "cell_type": "markdown",
   "id": "7ecf2b8e",
   "metadata": {
    "deletable": false,
    "id": "7ecf2b8e",
    "pycharm": {
     "name": "#%% md\n"
    }
   },
   "source": [
    "**Ответ: Медиана - это репрезентативное значение показателя, позволяющее не искажать результаты исследования, на фоне потери части данных. В данном случае ее совершенно логично использовать, т к данные категоризированы и каждой категории соответствует своя медиана.**"
   ]
  },
  {
   "cell_type": "markdown",
   "id": "6db5255a",
   "metadata": {
    "deletable": false,
    "editable": false,
    "id": "6db5255a",
    "pycharm": {
     "name": "#%% md\n"
    }
   },
   "source": [
    "## Общий вывод."
   ]
  },
  {
   "cell_type": "markdown",
   "id": "bad65432",
   "metadata": {
    "id": "bad65432",
    "pycharm": {
     "name": "#%% md\n"
    }
   },
   "source": []
  },
  {
   "cell_type": "markdown",
   "id": "e0db9749",
   "metadata": {
    "pycharm": {
     "name": "#%% md\n"
    }
   },
   "source": [
    "Портрет заёмщика-должника это: Многодетные, состоящие в гражданском браке люди, берущие займ на операции с автомобилем или получение образования.\n",
    "Портрет заёмщика с наименьшей долговой нагрузкой это: бездетные состоящие в официальном браке, вдовы либо вдовцы берущие займ на недвижимость.\n"
   ]
  }
 ],
 "metadata": {
  "ExecuteTimeLog": [
   {
    "duration": 44,
    "start_time": "2022-08-03T12:54:04.681Z"
   },
   {
    "duration": 498,
    "start_time": "2022-08-03T12:54:37.490Z"
   },
   {
    "duration": 22,
    "start_time": "2022-08-03T12:54:37.990Z"
   },
   {
    "duration": 13,
    "start_time": "2022-08-03T12:54:38.013Z"
   },
   {
    "duration": 8,
    "start_time": "2022-08-03T12:54:38.028Z"
   },
   {
    "duration": 34,
    "start_time": "2022-08-03T12:54:38.037Z"
   },
   {
    "duration": 4,
    "start_time": "2022-08-03T12:54:38.072Z"
   },
   {
    "duration": 9,
    "start_time": "2022-08-03T12:54:38.077Z"
   },
   {
    "duration": 4,
    "start_time": "2022-08-03T12:54:38.087Z"
   },
   {
    "duration": 8,
    "start_time": "2022-08-03T12:54:38.093Z"
   },
   {
    "duration": 29,
    "start_time": "2022-08-03T12:54:38.103Z"
   },
   {
    "duration": 31,
    "start_time": "2022-08-03T12:54:38.133Z"
   },
   {
    "duration": 9,
    "start_time": "2022-08-03T12:54:38.165Z"
   },
   {
    "duration": 4,
    "start_time": "2022-08-03T12:54:38.175Z"
   },
   {
    "duration": 19,
    "start_time": "2022-08-03T12:54:38.181Z"
   },
   {
    "duration": 42,
    "start_time": "2022-08-03T12:54:38.201Z"
   },
   {
    "duration": 11,
    "start_time": "2022-08-03T12:54:38.244Z"
   },
   {
    "duration": 4,
    "start_time": "2022-08-03T12:54:38.256Z"
   },
   {
    "duration": 10,
    "start_time": "2022-08-03T12:54:38.262Z"
   },
   {
    "duration": 8,
    "start_time": "2022-08-03T12:54:38.274Z"
   },
   {
    "duration": 3,
    "start_time": "2022-08-03T12:54:38.283Z"
   },
   {
    "duration": 11,
    "start_time": "2022-08-03T12:54:38.287Z"
   },
   {
    "duration": 53,
    "start_time": "2022-08-03T12:54:38.299Z"
   },
   {
    "duration": 0,
    "start_time": "2022-08-03T12:54:38.353Z"
   },
   {
    "duration": 0,
    "start_time": "2022-08-03T12:54:38.354Z"
   },
   {
    "duration": 0,
    "start_time": "2022-08-03T12:54:38.355Z"
   },
   {
    "duration": 5,
    "start_time": "2022-08-03T12:57:00.618Z"
   },
   {
    "duration": 12,
    "start_time": "2022-08-03T13:20:39.597Z"
   },
   {
    "duration": 5,
    "start_time": "2022-08-03T13:21:45.477Z"
   },
   {
    "duration": 5,
    "start_time": "2022-08-03T13:34:47.797Z"
   },
   {
    "duration": 7,
    "start_time": "2022-08-03T13:35:11.034Z"
   },
   {
    "duration": 3,
    "start_time": "2022-08-03T13:42:46.731Z"
   },
   {
    "duration": 4,
    "start_time": "2022-08-03T13:42:55.023Z"
   },
   {
    "duration": 873,
    "start_time": "2022-08-04T00:07:50.656Z"
   },
   {
    "duration": 24,
    "start_time": "2022-08-04T00:07:51.531Z"
   },
   {
    "duration": 23,
    "start_time": "2022-08-04T00:07:51.556Z"
   },
   {
    "duration": 13,
    "start_time": "2022-08-04T00:07:51.580Z"
   },
   {
    "duration": 55,
    "start_time": "2022-08-04T00:07:51.595Z"
   },
   {
    "duration": 4,
    "start_time": "2022-08-04T00:07:51.651Z"
   },
   {
    "duration": 23,
    "start_time": "2022-08-04T00:07:51.657Z"
   },
   {
    "duration": 15,
    "start_time": "2022-08-04T00:07:51.682Z"
   },
   {
    "duration": 30,
    "start_time": "2022-08-04T00:07:51.699Z"
   },
   {
    "duration": 8,
    "start_time": "2022-08-04T00:07:51.730Z"
   },
   {
    "duration": 39,
    "start_time": "2022-08-04T00:07:51.739Z"
   },
   {
    "duration": 10,
    "start_time": "2022-08-04T00:07:51.779Z"
   },
   {
    "duration": 8,
    "start_time": "2022-08-04T00:07:51.790Z"
   },
   {
    "duration": 23,
    "start_time": "2022-08-04T00:07:51.800Z"
   },
   {
    "duration": 16,
    "start_time": "2022-08-04T00:07:51.824Z"
   },
   {
    "duration": 11,
    "start_time": "2022-08-04T00:07:51.842Z"
   },
   {
    "duration": 8,
    "start_time": "2022-08-04T00:07:51.854Z"
   },
   {
    "duration": 11,
    "start_time": "2022-08-04T00:07:51.864Z"
   },
   {
    "duration": 30,
    "start_time": "2022-08-04T00:07:51.877Z"
   },
   {
    "duration": 6,
    "start_time": "2022-08-04T00:07:51.909Z"
   },
   {
    "duration": 22,
    "start_time": "2022-08-04T00:07:51.917Z"
   },
   {
    "duration": 12,
    "start_time": "2022-08-04T00:07:51.941Z"
   },
   {
    "duration": 21,
    "start_time": "2022-08-04T00:07:51.954Z"
   },
   {
    "duration": 6,
    "start_time": "2022-08-04T00:07:51.977Z"
   },
   {
    "duration": 14,
    "start_time": "2022-08-04T00:07:51.984Z"
   },
   {
    "duration": 4,
    "start_time": "2022-08-04T01:51:11.837Z"
   },
   {
    "duration": 76,
    "start_time": "2022-08-04T01:51:18.250Z"
   },
   {
    "duration": 63,
    "start_time": "2022-08-04T01:51:41.064Z"
   },
   {
    "duration": 52,
    "start_time": "2022-08-04T01:51:50.149Z"
   },
   {
    "duration": 4,
    "start_time": "2022-08-04T01:52:58.837Z"
   },
   {
    "duration": 4,
    "start_time": "2022-08-04T01:53:02.149Z"
   },
   {
    "duration": 19,
    "start_time": "2022-08-04T01:53:17.299Z"
   },
   {
    "duration": 9,
    "start_time": "2022-08-04T02:01:54.639Z"
   },
   {
    "duration": 49,
    "start_time": "2022-08-04T02:45:55.301Z"
   },
   {
    "duration": 9,
    "start_time": "2022-08-04T02:46:05.926Z"
   },
   {
    "duration": 6,
    "start_time": "2022-08-04T02:46:48.392Z"
   },
   {
    "duration": 84,
    "start_time": "2022-08-04T02:47:04.313Z"
   },
   {
    "duration": 8,
    "start_time": "2022-08-04T02:47:20.932Z"
   },
   {
    "duration": 10,
    "start_time": "2022-08-04T02:48:26.511Z"
   },
   {
    "duration": 49,
    "start_time": "2022-08-04T03:10:57.296Z"
   },
   {
    "duration": 48,
    "start_time": "2022-08-04T03:11:24.236Z"
   },
   {
    "duration": 51,
    "start_time": "2022-08-04T03:12:16.429Z"
   },
   {
    "duration": 45,
    "start_time": "2022-08-04T03:33:16.194Z"
   },
   {
    "duration": 10,
    "start_time": "2022-08-04T05:01:21.389Z"
   },
   {
    "duration": 7,
    "start_time": "2022-08-04T05:21:28.795Z"
   },
   {
    "duration": 6,
    "start_time": "2022-08-04T05:23:01.732Z"
   },
   {
    "duration": 8,
    "start_time": "2022-08-04T05:23:15.703Z"
   },
   {
    "duration": 6,
    "start_time": "2022-08-04T05:28:01.788Z"
   },
   {
    "duration": 7,
    "start_time": "2022-08-04T05:28:06.917Z"
   },
   {
    "duration": 51,
    "start_time": "2022-08-04T05:28:14.797Z"
   },
   {
    "duration": 9,
    "start_time": "2022-08-04T05:28:43.047Z"
   },
   {
    "duration": 7,
    "start_time": "2022-08-04T05:28:47.636Z"
   },
   {
    "duration": 5,
    "start_time": "2022-08-04T05:32:17.882Z"
   },
   {
    "duration": 4,
    "start_time": "2022-08-04T05:56:41.985Z"
   },
   {
    "duration": 4,
    "start_time": "2022-08-04T05:56:50.726Z"
   },
   {
    "duration": 5,
    "start_time": "2022-08-04T05:57:14.074Z"
   },
   {
    "duration": 12,
    "start_time": "2022-08-04T06:02:54.254Z"
   },
   {
    "duration": 9,
    "start_time": "2022-08-04T06:09:10.404Z"
   },
   {
    "duration": 11,
    "start_time": "2022-08-04T06:09:19.203Z"
   },
   {
    "duration": 10,
    "start_time": "2022-08-04T06:11:52.631Z"
   },
   {
    "duration": 7,
    "start_time": "2022-08-04T06:15:21.253Z"
   },
   {
    "duration": 15,
    "start_time": "2022-08-04T06:18:28.287Z"
   },
   {
    "duration": 12,
    "start_time": "2022-08-04T06:20:16.625Z"
   },
   {
    "duration": 8,
    "start_time": "2022-08-04T06:23:03.619Z"
   },
   {
    "duration": 12,
    "start_time": "2022-08-04T06:23:16.962Z"
   },
   {
    "duration": 6,
    "start_time": "2022-08-04T06:23:42.773Z"
   },
   {
    "duration": 7,
    "start_time": "2022-08-04T06:24:17.023Z"
   },
   {
    "duration": 55,
    "start_time": "2022-08-04T06:25:19.160Z"
   },
   {
    "duration": 13,
    "start_time": "2022-08-04T06:25:24.602Z"
   },
   {
    "duration": 10,
    "start_time": "2022-08-04T06:26:04.842Z"
   },
   {
    "duration": 922,
    "start_time": "2022-08-04T06:26:57.623Z"
   },
   {
    "duration": 864,
    "start_time": "2022-08-04T06:27:07.158Z"
   },
   {
    "duration": 8,
    "start_time": "2022-08-04T06:27:32.339Z"
   },
   {
    "duration": 8,
    "start_time": "2022-08-04T07:28:47.196Z"
   },
   {
    "duration": 5,
    "start_time": "2022-08-04T07:28:59.834Z"
   },
   {
    "duration": 3,
    "start_time": "2022-08-04T07:29:02.871Z"
   },
   {
    "duration": 7,
    "start_time": "2022-08-04T07:29:17.566Z"
   },
   {
    "duration": 5,
    "start_time": "2022-08-04T07:29:34.773Z"
   },
   {
    "duration": 4,
    "start_time": "2022-08-04T07:33:43.733Z"
   },
   {
    "duration": 43,
    "start_time": "2022-08-05T01:49:10.762Z"
   },
   {
    "duration": 451,
    "start_time": "2022-08-05T01:49:13.996Z"
   },
   {
    "duration": 21,
    "start_time": "2022-08-05T01:49:14.449Z"
   },
   {
    "duration": 14,
    "start_time": "2022-08-05T01:49:14.472Z"
   },
   {
    "duration": 9,
    "start_time": "2022-08-05T01:49:14.487Z"
   },
   {
    "duration": 29,
    "start_time": "2022-08-05T01:49:14.499Z"
   },
   {
    "duration": 27,
    "start_time": "2022-08-05T01:49:14.529Z"
   },
   {
    "duration": 9,
    "start_time": "2022-08-05T01:49:14.558Z"
   },
   {
    "duration": 3,
    "start_time": "2022-08-05T01:49:14.569Z"
   },
   {
    "duration": 21,
    "start_time": "2022-08-05T01:49:14.574Z"
   },
   {
    "duration": 4,
    "start_time": "2022-08-05T01:49:14.597Z"
   },
   {
    "duration": 34,
    "start_time": "2022-08-05T01:49:14.602Z"
   },
   {
    "duration": 18,
    "start_time": "2022-08-05T01:49:14.637Z"
   },
   {
    "duration": 4,
    "start_time": "2022-08-05T01:49:14.657Z"
   },
   {
    "duration": 17,
    "start_time": "2022-08-05T01:49:14.663Z"
   },
   {
    "duration": 13,
    "start_time": "2022-08-05T01:49:14.681Z"
   },
   {
    "duration": 9,
    "start_time": "2022-08-05T01:49:14.695Z"
   },
   {
    "duration": 5,
    "start_time": "2022-08-05T01:49:14.705Z"
   },
   {
    "duration": 12,
    "start_time": "2022-08-05T01:49:14.711Z"
   },
   {
    "duration": 7,
    "start_time": "2022-08-05T01:49:14.724Z"
   },
   {
    "duration": 16,
    "start_time": "2022-08-05T01:49:14.742Z"
   },
   {
    "duration": 11,
    "start_time": "2022-08-05T01:49:14.759Z"
   },
   {
    "duration": 6,
    "start_time": "2022-08-05T01:49:14.771Z"
   },
   {
    "duration": 26,
    "start_time": "2022-08-05T01:49:14.778Z"
   },
   {
    "duration": 0,
    "start_time": "2022-08-05T01:49:14.806Z"
   },
   {
    "duration": 0,
    "start_time": "2022-08-05T01:49:14.807Z"
   },
   {
    "duration": 0,
    "start_time": "2022-08-05T01:49:14.808Z"
   },
   {
    "duration": 0,
    "start_time": "2022-08-05T01:49:14.809Z"
   },
   {
    "duration": 0,
    "start_time": "2022-08-05T01:49:14.810Z"
   },
   {
    "duration": 0,
    "start_time": "2022-08-05T01:49:14.811Z"
   },
   {
    "duration": 0,
    "start_time": "2022-08-05T01:49:14.812Z"
   },
   {
    "duration": 0,
    "start_time": "2022-08-05T01:49:14.813Z"
   },
   {
    "duration": 0,
    "start_time": "2022-08-05T01:49:14.814Z"
   },
   {
    "duration": 0,
    "start_time": "2022-08-05T01:49:14.815Z"
   },
   {
    "duration": 0,
    "start_time": "2022-08-05T01:49:14.816Z"
   },
   {
    "duration": 9,
    "start_time": "2022-08-05T01:49:20.903Z"
   },
   {
    "duration": 11,
    "start_time": "2022-08-05T01:49:26.151Z"
   },
   {
    "duration": 8,
    "start_time": "2022-08-05T01:49:33.817Z"
   },
   {
    "duration": 4,
    "start_time": "2022-08-05T01:49:42.053Z"
   },
   {
    "duration": 8,
    "start_time": "2022-08-05T01:50:08.168Z"
   },
   {
    "duration": 919,
    "start_time": "2022-08-05T01:50:52.294Z"
   },
   {
    "duration": 9,
    "start_time": "2022-08-05T01:51:18.743Z"
   },
   {
    "duration": 8,
    "start_time": "2022-08-05T01:51:27.357Z"
   },
   {
    "duration": 7,
    "start_time": "2022-08-05T01:51:55.970Z"
   },
   {
    "duration": 11,
    "start_time": "2022-08-05T01:53:25.916Z"
   },
   {
    "duration": 19,
    "start_time": "2022-08-05T02:03:31.270Z"
   },
   {
    "duration": 8,
    "start_time": "2022-08-05T02:04:16.875Z"
   },
   {
    "duration": 15,
    "start_time": "2022-08-05T02:05:34.430Z"
   },
   {
    "duration": 8,
    "start_time": "2022-08-05T02:06:35.575Z"
   },
   {
    "duration": 9,
    "start_time": "2022-08-05T02:07:03.134Z"
   },
   {
    "duration": 10,
    "start_time": "2022-08-05T02:07:25.421Z"
   },
   {
    "duration": 6,
    "start_time": "2022-08-05T02:13:48.236Z"
   },
   {
    "duration": 8,
    "start_time": "2022-08-05T02:13:55.004Z"
   },
   {
    "duration": 8,
    "start_time": "2022-08-05T02:14:02.310Z"
   },
   {
    "duration": 8,
    "start_time": "2022-08-05T02:14:10.002Z"
   },
   {
    "duration": 7,
    "start_time": "2022-08-05T02:18:38.479Z"
   },
   {
    "duration": 72,
    "start_time": "2022-08-05T02:19:36.558Z"
   },
   {
    "duration": 77,
    "start_time": "2022-08-05T02:21:32.876Z"
   },
   {
    "duration": 76,
    "start_time": "2022-08-05T02:22:13.752Z"
   },
   {
    "duration": 8,
    "start_time": "2022-08-05T02:22:36.145Z"
   },
   {
    "duration": 8,
    "start_time": "2022-08-05T02:22:59.470Z"
   },
   {
    "duration": 8,
    "start_time": "2022-08-05T02:23:24.253Z"
   },
   {
    "duration": 13,
    "start_time": "2022-08-05T02:27:43.081Z"
   },
   {
    "duration": 14,
    "start_time": "2022-08-05T02:28:24.031Z"
   },
   {
    "duration": 6,
    "start_time": "2022-08-05T02:29:28.541Z"
   },
   {
    "duration": 5,
    "start_time": "2022-08-05T02:29:53.432Z"
   },
   {
    "duration": 6,
    "start_time": "2022-08-05T02:30:58.558Z"
   },
   {
    "duration": 7,
    "start_time": "2022-08-05T02:31:50.465Z"
   },
   {
    "duration": 7,
    "start_time": "2022-08-05T02:32:00.637Z"
   },
   {
    "duration": 8,
    "start_time": "2022-08-05T02:32:05.028Z"
   },
   {
    "duration": 7,
    "start_time": "2022-08-05T02:32:46.320Z"
   },
   {
    "duration": 7,
    "start_time": "2022-08-05T02:33:09.958Z"
   },
   {
    "duration": 13,
    "start_time": "2022-08-05T02:33:17.010Z"
   },
   {
    "duration": 4,
    "start_time": "2022-08-05T02:33:51.656Z"
   },
   {
    "duration": 7,
    "start_time": "2022-08-05T02:34:02.536Z"
   },
   {
    "duration": 11,
    "start_time": "2022-08-05T02:34:07.616Z"
   },
   {
    "duration": 7,
    "start_time": "2022-08-05T02:35:24.516Z"
   },
   {
    "duration": 12,
    "start_time": "2022-08-05T02:35:30.130Z"
   },
   {
    "duration": 8,
    "start_time": "2022-08-05T02:52:13.569Z"
   },
   {
    "duration": 6,
    "start_time": "2022-08-05T02:53:10.307Z"
   },
   {
    "duration": 5,
    "start_time": "2022-08-05T02:53:31.587Z"
   },
   {
    "duration": 5,
    "start_time": "2022-08-05T02:53:50.758Z"
   },
   {
    "duration": 5,
    "start_time": "2022-08-05T02:54:36.127Z"
   },
   {
    "duration": 8,
    "start_time": "2022-08-05T03:04:26.218Z"
   },
   {
    "duration": 8,
    "start_time": "2022-08-05T03:09:39.778Z"
   },
   {
    "duration": 11,
    "start_time": "2022-08-05T03:11:24.828Z"
   },
   {
    "duration": 45,
    "start_time": "2022-08-05T09:20:16.148Z"
   },
   {
    "duration": 447,
    "start_time": "2022-08-05T09:20:28.546Z"
   },
   {
    "duration": 27,
    "start_time": "2022-08-05T09:20:28.995Z"
   },
   {
    "duration": 19,
    "start_time": "2022-08-05T09:20:29.023Z"
   },
   {
    "duration": 14,
    "start_time": "2022-08-05T09:20:29.044Z"
   },
   {
    "duration": 31,
    "start_time": "2022-08-05T09:20:29.060Z"
   },
   {
    "duration": 3,
    "start_time": "2022-08-05T09:20:29.092Z"
   },
   {
    "duration": 10,
    "start_time": "2022-08-05T09:20:29.096Z"
   },
   {
    "duration": 4,
    "start_time": "2022-08-05T09:20:29.107Z"
   },
   {
    "duration": 8,
    "start_time": "2022-08-05T09:20:29.112Z"
   },
   {
    "duration": 6,
    "start_time": "2022-08-05T09:20:29.122Z"
   },
   {
    "duration": 48,
    "start_time": "2022-08-05T09:20:29.129Z"
   },
   {
    "duration": 8,
    "start_time": "2022-08-05T09:20:29.178Z"
   },
   {
    "duration": 4,
    "start_time": "2022-08-05T09:20:29.188Z"
   },
   {
    "duration": 17,
    "start_time": "2022-08-05T09:20:29.194Z"
   },
   {
    "duration": 15,
    "start_time": "2022-08-05T09:20:29.212Z"
   },
   {
    "duration": 35,
    "start_time": "2022-08-05T09:20:29.228Z"
   },
   {
    "duration": 5,
    "start_time": "2022-08-05T09:20:29.264Z"
   },
   {
    "duration": 10,
    "start_time": "2022-08-05T09:20:29.271Z"
   },
   {
    "duration": 9,
    "start_time": "2022-08-05T09:20:29.282Z"
   },
   {
    "duration": 3,
    "start_time": "2022-08-05T09:20:29.292Z"
   },
   {
    "duration": 10,
    "start_time": "2022-08-05T09:20:29.296Z"
   },
   {
    "duration": 4,
    "start_time": "2022-08-05T09:20:29.307Z"
   },
   {
    "duration": 6,
    "start_time": "2022-08-05T09:20:29.312Z"
   },
   {
    "duration": 4,
    "start_time": "2022-08-05T09:20:29.319Z"
   },
   {
    "duration": 32,
    "start_time": "2022-08-05T09:20:29.324Z"
   },
   {
    "duration": 86,
    "start_time": "2022-08-05T09:20:29.357Z"
   },
   {
    "duration": 0,
    "start_time": "2022-08-05T09:20:29.445Z"
   },
   {
    "duration": 0,
    "start_time": "2022-08-05T09:20:29.446Z"
   },
   {
    "duration": 0,
    "start_time": "2022-08-05T09:20:29.447Z"
   },
   {
    "duration": 0,
    "start_time": "2022-08-05T09:20:29.448Z"
   },
   {
    "duration": 0,
    "start_time": "2022-08-05T09:20:29.449Z"
   },
   {
    "duration": 0,
    "start_time": "2022-08-05T09:20:29.450Z"
   },
   {
    "duration": 0,
    "start_time": "2022-08-05T09:20:29.451Z"
   },
   {
    "duration": 0,
    "start_time": "2022-08-05T09:20:29.452Z"
   },
   {
    "duration": 0,
    "start_time": "2022-08-05T09:20:29.453Z"
   },
   {
    "duration": 0,
    "start_time": "2022-08-05T09:20:29.454Z"
   },
   {
    "duration": 0,
    "start_time": "2022-08-05T09:20:29.455Z"
   },
   {
    "duration": 0,
    "start_time": "2022-08-05T09:20:29.456Z"
   },
   {
    "duration": 27,
    "start_time": "2022-08-05T09:20:30.768Z"
   },
   {
    "duration": 6,
    "start_time": "2022-08-05T09:20:33.006Z"
   },
   {
    "duration": 14,
    "start_time": "2022-08-05T09:20:34.803Z"
   },
   {
    "duration": 10,
    "start_time": "2022-08-05T09:20:52.790Z"
   },
   {
    "duration": 8,
    "start_time": "2022-08-05T09:20:55.918Z"
   },
   {
    "duration": 5,
    "start_time": "2022-08-05T09:20:57.957Z"
   },
   {
    "duration": 7,
    "start_time": "2022-08-05T09:21:00.151Z"
   },
   {
    "duration": 8,
    "start_time": "2022-08-05T09:21:02.931Z"
   },
   {
    "duration": 15,
    "start_time": "2022-08-05T09:21:05.654Z"
   },
   {
    "duration": 3,
    "start_time": "2022-08-05T09:21:12.356Z"
   },
   {
    "duration": 12,
    "start_time": "2022-08-05T09:21:13.715Z"
   },
   {
    "duration": 16,
    "start_time": "2022-08-05T09:36:27.329Z"
   },
   {
    "duration": 13,
    "start_time": "2022-08-05T09:37:35.070Z"
   },
   {
    "duration": 8,
    "start_time": "2022-08-05T09:54:47.922Z"
   },
   {
    "duration": 11,
    "start_time": "2022-08-05T10:44:09.500Z"
   },
   {
    "duration": 19,
    "start_time": "2022-08-05T10:46:52.925Z"
   },
   {
    "duration": 4,
    "start_time": "2022-08-05T10:47:33.841Z"
   },
   {
    "duration": 29,
    "start_time": "2022-08-05T10:50:04.854Z"
   },
   {
    "duration": 14,
    "start_time": "2022-08-05T10:57:21.450Z"
   },
   {
    "duration": 12,
    "start_time": "2022-08-05T10:59:32.800Z"
   },
   {
    "duration": 4,
    "start_time": "2022-08-05T10:59:35.304Z"
   },
   {
    "duration": 13,
    "start_time": "2022-08-05T10:59:36.847Z"
   },
   {
    "duration": 64,
    "start_time": "2022-08-05T10:59:39.342Z"
   },
   {
    "duration": 15,
    "start_time": "2022-08-05T10:59:39.408Z"
   },
   {
    "duration": 16,
    "start_time": "2022-08-05T10:59:39.425Z"
   },
   {
    "duration": 20,
    "start_time": "2022-08-05T10:59:39.442Z"
   },
   {
    "duration": 40,
    "start_time": "2022-08-05T10:59:39.463Z"
   },
   {
    "duration": 3,
    "start_time": "2022-08-05T10:59:39.504Z"
   },
   {
    "duration": 14,
    "start_time": "2022-08-05T10:59:39.508Z"
   },
   {
    "duration": 5,
    "start_time": "2022-08-05T10:59:39.523Z"
   },
   {
    "duration": 7,
    "start_time": "2022-08-05T10:59:39.529Z"
   },
   {
    "duration": 18,
    "start_time": "2022-08-05T10:59:39.538Z"
   },
   {
    "duration": 29,
    "start_time": "2022-08-05T10:59:39.557Z"
   },
   {
    "duration": 8,
    "start_time": "2022-08-05T10:59:39.587Z"
   },
   {
    "duration": 3,
    "start_time": "2022-08-05T10:59:39.597Z"
   },
   {
    "duration": 17,
    "start_time": "2022-08-05T10:59:39.602Z"
   },
   {
    "duration": 38,
    "start_time": "2022-08-05T10:59:39.621Z"
   },
   {
    "duration": 15,
    "start_time": "2022-08-05T10:59:39.661Z"
   },
   {
    "duration": 5,
    "start_time": "2022-08-05T10:59:39.678Z"
   },
   {
    "duration": 12,
    "start_time": "2022-08-05T10:59:39.685Z"
   },
   {
    "duration": 7,
    "start_time": "2022-08-05T10:59:39.698Z"
   },
   {
    "duration": 3,
    "start_time": "2022-08-05T10:59:39.707Z"
   },
   {
    "duration": 10,
    "start_time": "2022-08-05T10:59:39.712Z"
   },
   {
    "duration": 4,
    "start_time": "2022-08-05T10:59:39.723Z"
   },
   {
    "duration": 31,
    "start_time": "2022-08-05T10:59:39.728Z"
   },
   {
    "duration": 5,
    "start_time": "2022-08-05T10:59:39.761Z"
   },
   {
    "duration": 5,
    "start_time": "2022-08-05T10:59:39.767Z"
   },
   {
    "duration": 81,
    "start_time": "2022-08-05T10:59:39.774Z"
   },
   {
    "duration": 0,
    "start_time": "2022-08-05T10:59:39.857Z"
   },
   {
    "duration": 0,
    "start_time": "2022-08-05T10:59:39.858Z"
   },
   {
    "duration": 0,
    "start_time": "2022-08-05T10:59:39.859Z"
   },
   {
    "duration": 0,
    "start_time": "2022-08-05T10:59:39.861Z"
   },
   {
    "duration": 0,
    "start_time": "2022-08-05T10:59:39.862Z"
   },
   {
    "duration": 0,
    "start_time": "2022-08-05T10:59:39.863Z"
   },
   {
    "duration": 0,
    "start_time": "2022-08-05T10:59:39.865Z"
   },
   {
    "duration": 0,
    "start_time": "2022-08-05T10:59:39.866Z"
   },
   {
    "duration": 1,
    "start_time": "2022-08-05T10:59:39.867Z"
   },
   {
    "duration": 0,
    "start_time": "2022-08-05T10:59:39.869Z"
   },
   {
    "duration": 0,
    "start_time": "2022-08-05T10:59:39.870Z"
   },
   {
    "duration": 0,
    "start_time": "2022-08-05T10:59:39.871Z"
   },
   {
    "duration": 6,
    "start_time": "2022-08-05T10:59:43.385Z"
   },
   {
    "duration": 11,
    "start_time": "2022-08-05T10:59:44.440Z"
   },
   {
    "duration": 13,
    "start_time": "2022-08-05T11:00:13.777Z"
   },
   {
    "duration": 15,
    "start_time": "2022-08-05T11:01:55.777Z"
   },
   {
    "duration": 8,
    "start_time": "2022-08-05T11:07:06.291Z"
   },
   {
    "duration": 12,
    "start_time": "2022-08-05T11:08:28.340Z"
   },
   {
    "duration": 9,
    "start_time": "2022-08-05T11:16:52.951Z"
   },
   {
    "duration": 14,
    "start_time": "2022-08-05T11:17:03.901Z"
   },
   {
    "duration": 15,
    "start_time": "2022-08-05T11:17:14.279Z"
   },
   {
    "duration": 16,
    "start_time": "2022-08-05T11:17:20.321Z"
   },
   {
    "duration": 17,
    "start_time": "2022-08-05T11:18:52.102Z"
   },
   {
    "duration": 19,
    "start_time": "2022-08-05T11:19:10.820Z"
   },
   {
    "duration": 19,
    "start_time": "2022-08-05T11:19:13.584Z"
   },
   {
    "duration": 24,
    "start_time": "2022-08-05T11:19:16.260Z"
   },
   {
    "duration": 32,
    "start_time": "2022-08-05T11:23:34.105Z"
   },
   {
    "duration": 31,
    "start_time": "2022-08-05T11:23:40.322Z"
   },
   {
    "duration": 33,
    "start_time": "2022-08-05T11:24:28.434Z"
   },
   {
    "duration": 34,
    "start_time": "2022-08-05T11:24:40.231Z"
   },
   {
    "duration": 30,
    "start_time": "2022-08-05T11:25:05.396Z"
   },
   {
    "duration": 25,
    "start_time": "2022-08-05T11:25:11.474Z"
   },
   {
    "duration": 25,
    "start_time": "2022-08-05T11:25:46.896Z"
   },
   {
    "duration": 25,
    "start_time": "2022-08-05T11:26:29.558Z"
   },
   {
    "duration": 26,
    "start_time": "2022-08-05T11:26:41.828Z"
   },
   {
    "duration": 14,
    "start_time": "2022-08-05T11:30:10.371Z"
   },
   {
    "duration": 421,
    "start_time": "2022-08-05T11:35:45.713Z"
   },
   {
    "duration": 135,
    "start_time": "2022-08-05T11:35:54.636Z"
   },
   {
    "duration": 4,
    "start_time": "2022-08-05T13:39:37.924Z"
   },
   {
    "duration": 24,
    "start_time": "2022-08-05T13:39:39.612Z"
   },
   {
    "duration": 36,
    "start_time": "2022-08-05T13:40:07.516Z"
   },
   {
    "duration": 26,
    "start_time": "2022-08-05T13:42:56.537Z"
   },
   {
    "duration": 4,
    "start_time": "2022-08-05T13:45:55.429Z"
   },
   {
    "duration": 23,
    "start_time": "2022-08-05T13:46:26.751Z"
   },
   {
    "duration": 23,
    "start_time": "2022-08-05T13:46:40.229Z"
   },
   {
    "duration": 4,
    "start_time": "2022-08-05T13:47:10.559Z"
   },
   {
    "duration": 747,
    "start_time": "2022-08-05T21:37:38.809Z"
   },
   {
    "duration": 21,
    "start_time": "2022-08-05T21:37:39.558Z"
   },
   {
    "duration": 16,
    "start_time": "2022-08-05T21:37:39.580Z"
   },
   {
    "duration": 9,
    "start_time": "2022-08-05T21:37:39.597Z"
   },
   {
    "duration": 37,
    "start_time": "2022-08-05T21:37:39.608Z"
   },
   {
    "duration": 3,
    "start_time": "2022-08-05T21:37:39.647Z"
   },
   {
    "duration": 23,
    "start_time": "2022-08-05T21:37:39.652Z"
   },
   {
    "duration": 24,
    "start_time": "2022-08-05T21:37:39.676Z"
   },
   {
    "duration": 20,
    "start_time": "2022-08-05T21:37:39.701Z"
   },
   {
    "duration": 21,
    "start_time": "2022-08-05T21:37:39.723Z"
   },
   {
    "duration": 57,
    "start_time": "2022-08-05T21:37:39.746Z"
   },
   {
    "duration": 11,
    "start_time": "2022-08-05T21:37:39.805Z"
   },
   {
    "duration": 13,
    "start_time": "2022-08-05T21:37:39.817Z"
   },
   {
    "duration": 25,
    "start_time": "2022-08-05T21:37:39.834Z"
   },
   {
    "duration": 16,
    "start_time": "2022-08-05T21:37:39.860Z"
   },
   {
    "duration": 12,
    "start_time": "2022-08-05T21:37:39.878Z"
   },
   {
    "duration": 21,
    "start_time": "2022-08-05T21:37:39.891Z"
   },
   {
    "duration": 23,
    "start_time": "2022-08-05T21:37:39.913Z"
   },
   {
    "duration": 24,
    "start_time": "2022-08-05T21:37:39.939Z"
   },
   {
    "duration": 12,
    "start_time": "2022-08-05T21:37:39.965Z"
   },
   {
    "duration": 42,
    "start_time": "2022-08-05T21:37:39.979Z"
   },
   {
    "duration": 26,
    "start_time": "2022-08-05T21:37:40.022Z"
   },
   {
    "duration": 20,
    "start_time": "2022-08-05T21:37:40.050Z"
   },
   {
    "duration": 29,
    "start_time": "2022-08-05T21:37:40.072Z"
   },
   {
    "duration": 25,
    "start_time": "2022-08-05T21:37:40.102Z"
   },
   {
    "duration": 45,
    "start_time": "2022-08-05T21:37:40.128Z"
   },
   {
    "duration": 0,
    "start_time": "2022-08-05T21:37:40.175Z"
   },
   {
    "duration": 0,
    "start_time": "2022-08-05T21:37:40.175Z"
   },
   {
    "duration": 0,
    "start_time": "2022-08-05T21:37:40.177Z"
   },
   {
    "duration": 0,
    "start_time": "2022-08-05T21:37:40.178Z"
   },
   {
    "duration": 0,
    "start_time": "2022-08-05T21:37:40.179Z"
   },
   {
    "duration": 0,
    "start_time": "2022-08-05T21:37:40.181Z"
   },
   {
    "duration": 0,
    "start_time": "2022-08-05T21:37:40.182Z"
   },
   {
    "duration": 0,
    "start_time": "2022-08-05T21:37:40.183Z"
   },
   {
    "duration": 0,
    "start_time": "2022-08-05T21:37:40.185Z"
   },
   {
    "duration": 0,
    "start_time": "2022-08-05T21:37:40.186Z"
   },
   {
    "duration": 0,
    "start_time": "2022-08-05T21:37:40.187Z"
   },
   {
    "duration": 0,
    "start_time": "2022-08-05T21:37:40.188Z"
   },
   {
    "duration": 0,
    "start_time": "2022-08-05T21:37:40.190Z"
   },
   {
    "duration": 0,
    "start_time": "2022-08-05T21:37:40.191Z"
   },
   {
    "duration": 16,
    "start_time": "2022-08-05T21:38:01.919Z"
   },
   {
    "duration": 11,
    "start_time": "2022-08-05T21:38:55.757Z"
   },
   {
    "duration": 69,
    "start_time": "2022-08-05T21:39:13.127Z"
   },
   {
    "duration": 53,
    "start_time": "2022-08-05T21:39:29.460Z"
   },
   {
    "duration": 11,
    "start_time": "2022-08-05T21:39:36.945Z"
   },
   {
    "duration": 12,
    "start_time": "2022-08-05T21:41:20.468Z"
   },
   {
    "duration": 59,
    "start_time": "2022-08-05T21:42:35.734Z"
   },
   {
    "duration": 8,
    "start_time": "2022-08-05T21:43:02.028Z"
   },
   {
    "duration": 8,
    "start_time": "2022-08-05T21:43:11.957Z"
   },
   {
    "duration": 4,
    "start_time": "2022-08-05T21:44:54.467Z"
   },
   {
    "duration": 3,
    "start_time": "2022-08-05T21:44:57.569Z"
   },
   {
    "duration": 8,
    "start_time": "2022-08-05T21:45:00.994Z"
   },
   {
    "duration": 8,
    "start_time": "2022-08-05T21:45:11.077Z"
   },
   {
    "duration": 9,
    "start_time": "2022-08-05T21:45:12.857Z"
   },
   {
    "duration": 4,
    "start_time": "2022-08-05T21:45:13.678Z"
   },
   {
    "duration": 5,
    "start_time": "2022-08-05T21:45:17.286Z"
   },
   {
    "duration": 4,
    "start_time": "2022-08-05T21:45:19.686Z"
   },
   {
    "duration": 9,
    "start_time": "2022-08-05T21:45:23.709Z"
   },
   {
    "duration": 9,
    "start_time": "2022-08-05T21:45:29.710Z"
   },
   {
    "duration": 9,
    "start_time": "2022-08-05T21:45:41.999Z"
   },
   {
    "duration": 415,
    "start_time": "2022-08-05T21:46:09.691Z"
   },
   {
    "duration": 21,
    "start_time": "2022-08-05T21:46:10.108Z"
   },
   {
    "duration": 14,
    "start_time": "2022-08-05T21:46:10.130Z"
   },
   {
    "duration": 10,
    "start_time": "2022-08-05T21:46:10.146Z"
   },
   {
    "duration": 39,
    "start_time": "2022-08-05T21:46:10.159Z"
   },
   {
    "duration": 4,
    "start_time": "2022-08-05T21:46:10.200Z"
   },
   {
    "duration": 15,
    "start_time": "2022-08-05T21:46:10.206Z"
   },
   {
    "duration": 5,
    "start_time": "2022-08-05T21:46:10.238Z"
   },
   {
    "duration": 13,
    "start_time": "2022-08-05T21:46:10.244Z"
   },
   {
    "duration": 12,
    "start_time": "2022-08-05T21:46:10.258Z"
   },
   {
    "duration": 41,
    "start_time": "2022-08-05T21:46:10.272Z"
   },
   {
    "duration": 10,
    "start_time": "2022-08-05T21:46:10.315Z"
   },
   {
    "duration": 14,
    "start_time": "2022-08-05T21:46:10.326Z"
   },
   {
    "duration": 24,
    "start_time": "2022-08-05T21:46:10.343Z"
   },
   {
    "duration": 16,
    "start_time": "2022-08-05T21:46:10.369Z"
   },
   {
    "duration": 11,
    "start_time": "2022-08-05T21:46:10.386Z"
   },
   {
    "duration": 12,
    "start_time": "2022-08-05T21:46:10.398Z"
   },
   {
    "duration": 14,
    "start_time": "2022-08-05T21:46:10.411Z"
   },
   {
    "duration": 15,
    "start_time": "2022-08-05T21:46:10.427Z"
   },
   {
    "duration": 3,
    "start_time": "2022-08-05T21:46:10.444Z"
   },
   {
    "duration": 10,
    "start_time": "2022-08-05T21:46:10.448Z"
   },
   {
    "duration": 4,
    "start_time": "2022-08-05T21:46:10.460Z"
   },
   {
    "duration": 40,
    "start_time": "2022-08-05T21:46:10.466Z"
   },
   {
    "duration": 5,
    "start_time": "2022-08-05T21:46:10.507Z"
   },
   {
    "duration": 6,
    "start_time": "2022-08-05T21:46:10.514Z"
   },
   {
    "duration": 24,
    "start_time": "2022-08-05T21:46:10.522Z"
   },
   {
    "duration": 13,
    "start_time": "2022-08-05T21:46:10.547Z"
   },
   {
    "duration": 3,
    "start_time": "2022-08-05T21:46:10.561Z"
   },
   {
    "duration": 13,
    "start_time": "2022-08-05T21:46:10.566Z"
   },
   {
    "duration": 10,
    "start_time": "2022-08-05T21:46:10.580Z"
   },
   {
    "duration": 51,
    "start_time": "2022-08-05T21:46:10.591Z"
   },
   {
    "duration": 0,
    "start_time": "2022-08-05T21:46:10.644Z"
   },
   {
    "duration": 0,
    "start_time": "2022-08-05T21:46:10.645Z"
   },
   {
    "duration": 0,
    "start_time": "2022-08-05T21:46:10.645Z"
   },
   {
    "duration": 0,
    "start_time": "2022-08-05T21:46:10.646Z"
   },
   {
    "duration": 0,
    "start_time": "2022-08-05T21:46:10.647Z"
   },
   {
    "duration": 0,
    "start_time": "2022-08-05T21:46:10.648Z"
   },
   {
    "duration": 0,
    "start_time": "2022-08-05T21:46:10.649Z"
   },
   {
    "duration": 0,
    "start_time": "2022-08-05T21:46:10.650Z"
   },
   {
    "duration": 0,
    "start_time": "2022-08-05T21:46:10.651Z"
   },
   {
    "duration": 0,
    "start_time": "2022-08-05T21:46:10.652Z"
   },
   {
    "duration": 8,
    "start_time": "2022-08-05T21:46:31.228Z"
   },
   {
    "duration": 10,
    "start_time": "2022-08-05T21:46:32.405Z"
   },
   {
    "duration": 3,
    "start_time": "2022-08-05T21:46:32.992Z"
   },
   {
    "duration": 8,
    "start_time": "2022-08-05T21:47:29.197Z"
   },
   {
    "duration": 740,
    "start_time": "2022-08-06T01:52:06.940Z"
   },
   {
    "duration": 27,
    "start_time": "2022-08-06T01:52:07.683Z"
   },
   {
    "duration": 15,
    "start_time": "2022-08-06T01:52:07.711Z"
   },
   {
    "duration": 9,
    "start_time": "2022-08-06T01:52:07.728Z"
   },
   {
    "duration": 36,
    "start_time": "2022-08-06T01:52:07.738Z"
   },
   {
    "duration": 5,
    "start_time": "2022-08-06T01:52:07.775Z"
   },
   {
    "duration": 16,
    "start_time": "2022-08-06T01:52:07.781Z"
   },
   {
    "duration": 15,
    "start_time": "2022-08-06T01:52:07.798Z"
   },
   {
    "duration": 16,
    "start_time": "2022-08-06T01:52:07.815Z"
   },
   {
    "duration": 7,
    "start_time": "2022-08-06T01:52:07.834Z"
   },
   {
    "duration": 43,
    "start_time": "2022-08-06T01:52:07.842Z"
   },
   {
    "duration": 9,
    "start_time": "2022-08-06T01:52:07.886Z"
   },
   {
    "duration": 19,
    "start_time": "2022-08-06T01:52:07.896Z"
   },
   {
    "duration": 32,
    "start_time": "2022-08-06T01:52:07.916Z"
   },
   {
    "duration": 22,
    "start_time": "2022-08-06T01:52:07.949Z"
   },
   {
    "duration": 17,
    "start_time": "2022-08-06T01:52:07.972Z"
   },
   {
    "duration": 7,
    "start_time": "2022-08-06T01:52:07.991Z"
   },
   {
    "duration": 54,
    "start_time": "2022-08-06T01:52:07.999Z"
   },
   {
    "duration": 11,
    "start_time": "2022-08-06T01:52:08.054Z"
   },
   {
    "duration": 34,
    "start_time": "2022-08-06T01:52:08.066Z"
   },
   {
    "duration": 32,
    "start_time": "2022-08-06T01:52:08.102Z"
   },
   {
    "duration": 14,
    "start_time": "2022-08-06T01:52:08.135Z"
   },
   {
    "duration": 33,
    "start_time": "2022-08-06T01:52:08.151Z"
   },
   {
    "duration": 7,
    "start_time": "2022-08-06T01:52:08.186Z"
   },
   {
    "duration": 20,
    "start_time": "2022-08-06T01:52:08.194Z"
   },
   {
    "duration": 42,
    "start_time": "2022-08-06T01:52:08.216Z"
   },
   {
    "duration": 8,
    "start_time": "2022-08-06T01:52:08.260Z"
   },
   {
    "duration": 14,
    "start_time": "2022-08-06T01:52:08.271Z"
   },
   {
    "duration": 18,
    "start_time": "2022-08-06T01:52:08.286Z"
   },
   {
    "duration": 10,
    "start_time": "2022-08-06T01:52:08.305Z"
   },
   {
    "duration": 9,
    "start_time": "2022-08-06T01:52:08.317Z"
   },
   {
    "duration": 11,
    "start_time": "2022-08-06T01:52:08.328Z"
   },
   {
    "duration": 22,
    "start_time": "2022-08-06T01:52:08.340Z"
   },
   {
    "duration": 52,
    "start_time": "2022-08-06T01:52:08.364Z"
   },
   {
    "duration": 0,
    "start_time": "2022-08-06T01:52:08.417Z"
   },
   {
    "duration": 0,
    "start_time": "2022-08-06T01:52:08.418Z"
   },
   {
    "duration": 0,
    "start_time": "2022-08-06T01:52:08.419Z"
   },
   {
    "duration": 0,
    "start_time": "2022-08-06T01:52:08.420Z"
   },
   {
    "duration": 0,
    "start_time": "2022-08-06T01:52:08.421Z"
   },
   {
    "duration": 0,
    "start_time": "2022-08-06T01:52:08.422Z"
   },
   {
    "duration": 47,
    "start_time": "2022-08-06T02:23:37.418Z"
   },
   {
    "duration": 47,
    "start_time": "2022-08-06T02:23:57.620Z"
   },
   {
    "duration": 48,
    "start_time": "2022-08-06T02:24:59.645Z"
   },
   {
    "duration": 77,
    "start_time": "2022-08-06T02:25:07.627Z"
   },
   {
    "duration": 46,
    "start_time": "2022-08-06T02:25:22.857Z"
   },
   {
    "duration": 45,
    "start_time": "2022-08-06T02:25:36.226Z"
   },
   {
    "duration": 67,
    "start_time": "2022-08-06T02:29:39.246Z"
   },
   {
    "duration": 54,
    "start_time": "2022-08-06T02:29:48.583Z"
   },
   {
    "duration": 73,
    "start_time": "2022-08-06T02:30:26.075Z"
   },
   {
    "duration": 8,
    "start_time": "2022-08-06T02:30:55.158Z"
   },
   {
    "duration": 14,
    "start_time": "2022-08-06T02:33:32.892Z"
   },
   {
    "duration": 8,
    "start_time": "2022-08-06T02:34:42.927Z"
   },
   {
    "duration": 10,
    "start_time": "2022-08-06T02:34:50.160Z"
   },
   {
    "duration": 8,
    "start_time": "2022-08-06T02:37:00.404Z"
   },
   {
    "duration": 15,
    "start_time": "2022-08-06T02:41:43.579Z"
   },
   {
    "duration": 87,
    "start_time": "2022-08-06T02:42:20.362Z"
   },
   {
    "duration": 8,
    "start_time": "2022-08-06T02:44:00.805Z"
   },
   {
    "duration": 10,
    "start_time": "2022-08-06T02:44:05.952Z"
   },
   {
    "duration": 70,
    "start_time": "2022-08-06T02:44:12.555Z"
   },
   {
    "duration": 17,
    "start_time": "2022-08-06T02:44:12.627Z"
   },
   {
    "duration": 22,
    "start_time": "2022-08-06T02:44:12.645Z"
   },
   {
    "duration": 10,
    "start_time": "2022-08-06T02:44:12.668Z"
   },
   {
    "duration": 31,
    "start_time": "2022-08-06T02:44:12.681Z"
   },
   {
    "duration": 27,
    "start_time": "2022-08-06T02:44:12.713Z"
   },
   {
    "duration": 12,
    "start_time": "2022-08-06T02:44:12.741Z"
   },
   {
    "duration": 5,
    "start_time": "2022-08-06T02:44:12.755Z"
   },
   {
    "duration": 10,
    "start_time": "2022-08-06T02:44:12.761Z"
   },
   {
    "duration": 6,
    "start_time": "2022-08-06T02:44:12.773Z"
   },
   {
    "duration": 59,
    "start_time": "2022-08-06T02:44:12.781Z"
   },
   {
    "duration": 9,
    "start_time": "2022-08-06T02:44:12.842Z"
   },
   {
    "duration": 6,
    "start_time": "2022-08-06T02:44:12.853Z"
   },
   {
    "duration": 19,
    "start_time": "2022-08-06T02:44:12.862Z"
   },
   {
    "duration": 16,
    "start_time": "2022-08-06T02:44:12.882Z"
   },
   {
    "duration": 41,
    "start_time": "2022-08-06T02:44:12.900Z"
   },
   {
    "duration": 6,
    "start_time": "2022-08-06T02:44:12.943Z"
   },
   {
    "duration": 15,
    "start_time": "2022-08-06T02:44:12.950Z"
   },
   {
    "duration": 6,
    "start_time": "2022-08-06T02:44:12.966Z"
   },
   {
    "duration": 5,
    "start_time": "2022-08-06T02:44:12.974Z"
   },
   {
    "duration": 13,
    "start_time": "2022-08-06T02:44:12.980Z"
   },
   {
    "duration": 5,
    "start_time": "2022-08-06T02:44:12.994Z"
   },
   {
    "duration": 39,
    "start_time": "2022-08-06T02:44:13.000Z"
   },
   {
    "duration": 5,
    "start_time": "2022-08-06T02:44:13.041Z"
   },
   {
    "duration": 5,
    "start_time": "2022-08-06T02:44:13.048Z"
   },
   {
    "duration": 12,
    "start_time": "2022-08-06T02:44:13.055Z"
   },
   {
    "duration": 9,
    "start_time": "2022-08-06T02:44:13.069Z"
   },
   {
    "duration": 8,
    "start_time": "2022-08-06T02:44:13.079Z"
   },
   {
    "duration": 7,
    "start_time": "2022-08-06T02:44:13.089Z"
   },
   {
    "duration": 0,
    "start_time": "2022-08-06T02:44:13.098Z"
   },
   {
    "duration": 0,
    "start_time": "2022-08-06T02:44:13.099Z"
   },
   {
    "duration": 0,
    "start_time": "2022-08-06T02:44:13.100Z"
   },
   {
    "duration": 0,
    "start_time": "2022-08-06T02:44:13.139Z"
   },
   {
    "duration": 0,
    "start_time": "2022-08-06T02:44:13.140Z"
   },
   {
    "duration": 0,
    "start_time": "2022-08-06T02:44:13.142Z"
   },
   {
    "duration": 0,
    "start_time": "2022-08-06T02:44:13.143Z"
   },
   {
    "duration": 0,
    "start_time": "2022-08-06T02:44:13.145Z"
   },
   {
    "duration": 0,
    "start_time": "2022-08-06T02:44:13.146Z"
   },
   {
    "duration": 0,
    "start_time": "2022-08-06T02:44:13.147Z"
   },
   {
    "duration": 0,
    "start_time": "2022-08-06T02:44:13.149Z"
   },
   {
    "duration": 26,
    "start_time": "2022-08-06T02:44:18.520Z"
   },
   {
    "duration": 15,
    "start_time": "2022-08-06T02:44:24.108Z"
   },
   {
    "duration": 4,
    "start_time": "2022-08-06T02:45:07.207Z"
   },
   {
    "duration": 14,
    "start_time": "2022-08-06T02:45:08.840Z"
   },
   {
    "duration": 15,
    "start_time": "2022-08-06T02:45:11.762Z"
   },
   {
    "duration": 76,
    "start_time": "2022-08-06T02:46:14.106Z"
   },
   {
    "duration": 32,
    "start_time": "2022-08-06T02:46:29.131Z"
   },
   {
    "duration": 9,
    "start_time": "2022-08-06T02:47:29.811Z"
   },
   {
    "duration": 19,
    "start_time": "2022-08-06T02:49:19.909Z"
   },
   {
    "duration": 31,
    "start_time": "2022-08-06T02:51:04.021Z"
   },
   {
    "duration": 18,
    "start_time": "2022-08-06T02:54:06.249Z"
   },
   {
    "duration": 14,
    "start_time": "2022-08-06T02:54:19.292Z"
   },
   {
    "duration": 14,
    "start_time": "2022-08-06T02:54:31.857Z"
   },
   {
    "duration": 17,
    "start_time": "2022-08-06T02:54:41.949Z"
   },
   {
    "duration": 17,
    "start_time": "2022-08-06T02:56:36.110Z"
   },
   {
    "duration": 54,
    "start_time": "2022-08-07T02:05:41.474Z"
   },
   {
    "duration": 7,
    "start_time": "2022-08-07T02:06:05.576Z"
   },
   {
    "duration": 660,
    "start_time": "2022-08-07T02:06:11.260Z"
   },
   {
    "duration": 31,
    "start_time": "2022-08-07T02:06:11.923Z"
   },
   {
    "duration": 33,
    "start_time": "2022-08-07T02:06:11.956Z"
   },
   {
    "duration": 19,
    "start_time": "2022-08-07T02:06:11.992Z"
   },
   {
    "duration": 52,
    "start_time": "2022-08-07T02:06:12.013Z"
   },
   {
    "duration": 4,
    "start_time": "2022-08-07T02:06:12.067Z"
   },
   {
    "duration": 25,
    "start_time": "2022-08-07T02:06:12.072Z"
   },
   {
    "duration": 5,
    "start_time": "2022-08-07T02:06:12.099Z"
   },
   {
    "duration": 12,
    "start_time": "2022-08-07T02:06:12.105Z"
   },
   {
    "duration": 5,
    "start_time": "2022-08-07T02:06:12.120Z"
   },
   {
    "duration": 65,
    "start_time": "2022-08-07T02:06:12.127Z"
   },
   {
    "duration": 12,
    "start_time": "2022-08-07T02:06:12.194Z"
   },
   {
    "duration": 41,
    "start_time": "2022-08-07T02:06:12.208Z"
   },
   {
    "duration": 54,
    "start_time": "2022-08-07T02:06:12.251Z"
   },
   {
    "duration": 19,
    "start_time": "2022-08-07T02:06:12.308Z"
   },
   {
    "duration": 15,
    "start_time": "2022-08-07T02:06:12.329Z"
   },
   {
    "duration": 11,
    "start_time": "2022-08-07T02:06:12.346Z"
   },
   {
    "duration": 17,
    "start_time": "2022-08-07T02:06:12.359Z"
   },
   {
    "duration": 17,
    "start_time": "2022-08-07T02:06:12.378Z"
   },
   {
    "duration": 8,
    "start_time": "2022-08-07T02:06:12.397Z"
   },
   {
    "duration": 16,
    "start_time": "2022-08-07T02:06:12.407Z"
   },
   {
    "duration": 7,
    "start_time": "2022-08-07T02:06:12.424Z"
   },
   {
    "duration": 8,
    "start_time": "2022-08-07T02:06:12.433Z"
   },
   {
    "duration": 8,
    "start_time": "2022-08-07T02:06:12.442Z"
   },
   {
    "duration": 48,
    "start_time": "2022-08-07T02:06:12.451Z"
   },
   {
    "duration": 12,
    "start_time": "2022-08-07T02:06:12.501Z"
   },
   {
    "duration": 13,
    "start_time": "2022-08-07T02:06:12.515Z"
   },
   {
    "duration": 18,
    "start_time": "2022-08-07T02:06:12.531Z"
   },
   {
    "duration": 77,
    "start_time": "2022-08-07T02:06:12.550Z"
   },
   {
    "duration": 0,
    "start_time": "2022-08-07T02:06:12.628Z"
   },
   {
    "duration": 0,
    "start_time": "2022-08-07T02:06:12.630Z"
   },
   {
    "duration": 0,
    "start_time": "2022-08-07T02:06:12.631Z"
   },
   {
    "duration": 0,
    "start_time": "2022-08-07T02:06:12.632Z"
   },
   {
    "duration": 0,
    "start_time": "2022-08-07T02:06:12.634Z"
   },
   {
    "duration": 0,
    "start_time": "2022-08-07T02:06:12.635Z"
   },
   {
    "duration": 0,
    "start_time": "2022-08-07T02:06:12.635Z"
   },
   {
    "duration": 0,
    "start_time": "2022-08-07T02:06:12.636Z"
   },
   {
    "duration": 0,
    "start_time": "2022-08-07T02:06:12.638Z"
   },
   {
    "duration": 0,
    "start_time": "2022-08-07T02:06:12.638Z"
   },
   {
    "duration": 0,
    "start_time": "2022-08-07T02:06:12.639Z"
   },
   {
    "duration": 21,
    "start_time": "2022-08-07T02:08:05.209Z"
   },
   {
    "duration": 30,
    "start_time": "2022-08-07T02:08:53.751Z"
   },
   {
    "duration": 1064,
    "start_time": "2022-08-07T02:11:34.002Z"
   },
   {
    "duration": 632,
    "start_time": "2022-08-07T02:12:11.349Z"
   },
   {
    "duration": 77,
    "start_time": "2022-08-07T02:13:30.245Z"
   },
   {
    "duration": 63,
    "start_time": "2022-08-07T02:15:01.536Z"
   },
   {
    "duration": 56,
    "start_time": "2022-08-07T02:20:12.970Z"
   },
   {
    "duration": 61,
    "start_time": "2022-08-07T02:21:10.666Z"
   },
   {
    "duration": 57,
    "start_time": "2022-08-07T02:21:38.194Z"
   },
   {
    "duration": 15,
    "start_time": "2022-08-07T02:23:17.378Z"
   },
   {
    "duration": 36,
    "start_time": "2022-08-07T02:25:43.554Z"
   },
   {
    "duration": 85,
    "start_time": "2022-08-07T02:32:09.542Z"
   },
   {
    "duration": 91,
    "start_time": "2022-08-07T02:32:11.954Z"
   },
   {
    "duration": 165,
    "start_time": "2022-08-07T02:32:25.014Z"
   },
   {
    "duration": 83,
    "start_time": "2022-08-07T02:32:42.990Z"
   },
   {
    "duration": 73,
    "start_time": "2022-08-07T02:32:49.707Z"
   },
   {
    "duration": 77,
    "start_time": "2022-08-07T02:33:06.043Z"
   },
   {
    "duration": 76,
    "start_time": "2022-08-07T02:33:59.568Z"
   },
   {
    "duration": 74,
    "start_time": "2022-08-07T02:34:06.381Z"
   },
   {
    "duration": 79,
    "start_time": "2022-08-07T02:34:15.514Z"
   },
   {
    "duration": 351,
    "start_time": "2022-08-07T02:35:18.935Z"
   },
   {
    "duration": 290,
    "start_time": "2022-08-07T02:35:38.480Z"
   },
   {
    "duration": 227,
    "start_time": "2022-08-07T02:35:44.288Z"
   },
   {
    "duration": 9,
    "start_time": "2022-08-07T02:36:49.943Z"
   },
   {
    "duration": 11,
    "start_time": "2022-08-07T02:37:01.590Z"
   },
   {
    "duration": 5,
    "start_time": "2022-08-07T02:37:03.865Z"
   },
   {
    "duration": 9,
    "start_time": "2022-08-07T02:37:05.992Z"
   },
   {
    "duration": 12,
    "start_time": "2022-08-07T02:37:08.135Z"
   },
   {
    "duration": 41,
    "start_time": "2022-08-07T02:38:42.178Z"
   },
   {
    "duration": 16,
    "start_time": "2022-08-07T02:41:55.663Z"
   },
   {
    "duration": 3,
    "start_time": "2022-08-07T02:50:58.079Z"
   },
   {
    "duration": 15,
    "start_time": "2022-08-07T02:50:59.456Z"
   },
   {
    "duration": 15,
    "start_time": "2022-08-07T02:51:02.455Z"
   },
   {
    "duration": 3561,
    "start_time": "2022-08-07T02:51:26.858Z"
   },
   {
    "duration": 3240,
    "start_time": "2022-08-07T02:51:36.363Z"
   },
   {
    "duration": 74,
    "start_time": "2022-08-07T02:57:53.280Z"
   },
   {
    "duration": 15,
    "start_time": "2022-08-07T02:57:53.356Z"
   },
   {
    "duration": 18,
    "start_time": "2022-08-07T02:57:53.373Z"
   },
   {
    "duration": 10,
    "start_time": "2022-08-07T02:57:53.394Z"
   },
   {
    "duration": 39,
    "start_time": "2022-08-07T02:57:53.406Z"
   },
   {
    "duration": 4,
    "start_time": "2022-08-07T02:57:53.447Z"
   },
   {
    "duration": 11,
    "start_time": "2022-08-07T02:57:53.452Z"
   },
   {
    "duration": 30,
    "start_time": "2022-08-07T02:57:53.465Z"
   },
   {
    "duration": 9,
    "start_time": "2022-08-07T02:57:53.497Z"
   },
   {
    "duration": 8,
    "start_time": "2022-08-07T02:57:53.509Z"
   },
   {
    "duration": 40,
    "start_time": "2022-08-07T02:57:53.518Z"
   },
   {
    "duration": 33,
    "start_time": "2022-08-07T02:57:53.560Z"
   },
   {
    "duration": 5,
    "start_time": "2022-08-07T02:57:53.595Z"
   },
   {
    "duration": 28,
    "start_time": "2022-08-07T02:57:53.602Z"
   },
   {
    "duration": 20,
    "start_time": "2022-08-07T02:57:53.633Z"
   },
   {
    "duration": 38,
    "start_time": "2022-08-07T02:57:53.655Z"
   },
   {
    "duration": 6,
    "start_time": "2022-08-07T02:57:53.695Z"
   },
   {
    "duration": 15,
    "start_time": "2022-08-07T02:57:53.703Z"
   },
   {
    "duration": 8,
    "start_time": "2022-08-07T02:57:53.720Z"
   },
   {
    "duration": 8,
    "start_time": "2022-08-07T02:57:53.730Z"
   },
   {
    "duration": 20,
    "start_time": "2022-08-07T02:57:53.740Z"
   },
   {
    "duration": 30,
    "start_time": "2022-08-07T02:57:53.762Z"
   },
   {
    "duration": 10,
    "start_time": "2022-08-07T02:57:53.795Z"
   },
   {
    "duration": 7,
    "start_time": "2022-08-07T02:57:53.807Z"
   },
   {
    "duration": 14,
    "start_time": "2022-08-07T02:57:53.815Z"
   },
   {
    "duration": 11,
    "start_time": "2022-08-07T02:57:53.831Z"
   },
   {
    "duration": 9,
    "start_time": "2022-08-07T02:57:53.844Z"
   },
   {
    "duration": 77,
    "start_time": "2022-08-07T02:57:53.891Z"
   },
   {
    "duration": 0,
    "start_time": "2022-08-07T02:57:53.970Z"
   },
   {
    "duration": 0,
    "start_time": "2022-08-07T02:57:53.973Z"
   },
   {
    "duration": 0,
    "start_time": "2022-08-07T02:57:53.974Z"
   },
   {
    "duration": 0,
    "start_time": "2022-08-07T02:57:53.975Z"
   },
   {
    "duration": 0,
    "start_time": "2022-08-07T02:57:53.977Z"
   },
   {
    "duration": 0,
    "start_time": "2022-08-07T02:57:53.978Z"
   },
   {
    "duration": 0,
    "start_time": "2022-08-07T02:57:53.979Z"
   },
   {
    "duration": 0,
    "start_time": "2022-08-07T02:57:53.980Z"
   },
   {
    "duration": 0,
    "start_time": "2022-08-07T02:57:53.982Z"
   },
   {
    "duration": 0,
    "start_time": "2022-08-07T02:57:53.983Z"
   },
   {
    "duration": 0,
    "start_time": "2022-08-07T02:57:53.984Z"
   },
   {
    "duration": 0,
    "start_time": "2022-08-07T02:57:53.986Z"
   },
   {
    "duration": 0,
    "start_time": "2022-08-07T02:57:53.987Z"
   },
   {
    "duration": 3210,
    "start_time": "2022-08-07T02:57:54.247Z"
   },
   {
    "duration": 43,
    "start_time": "2022-08-07T02:57:57.460Z"
   },
   {
    "duration": 16,
    "start_time": "2022-08-07T02:57:57.505Z"
   },
   {
    "duration": 40,
    "start_time": "2022-08-07T02:59:09.620Z"
   },
   {
    "duration": 38,
    "start_time": "2022-08-07T02:59:56.199Z"
   },
   {
    "duration": 78,
    "start_time": "2022-08-07T03:07:00.944Z"
   },
   {
    "duration": 574,
    "start_time": "2022-08-07T03:19:21.784Z"
   },
   {
    "duration": 63,
    "start_time": "2022-08-07T03:20:21.795Z"
   },
   {
    "duration": 123,
    "start_time": "2022-08-07T03:21:13.983Z"
   },
   {
    "duration": 1269,
    "start_time": "2022-08-07T03:24:30.329Z"
   },
   {
    "duration": 1251,
    "start_time": "2022-08-07T03:24:34.247Z"
   },
   {
    "duration": 147,
    "start_time": "2022-08-07T03:25:41.023Z"
   },
   {
    "duration": 159,
    "start_time": "2022-08-07T03:26:29.472Z"
   },
   {
    "duration": 10,
    "start_time": "2022-08-07T03:31:08.192Z"
   },
   {
    "duration": 147,
    "start_time": "2022-08-07T03:31:13.099Z"
   },
   {
    "duration": 1260,
    "start_time": "2022-08-07T03:33:31.519Z"
   },
   {
    "duration": 1178,
    "start_time": "2022-08-07T03:33:47.183Z"
   },
   {
    "duration": 125,
    "start_time": "2022-08-07T03:34:03.025Z"
   },
   {
    "duration": 37,
    "start_time": "2022-08-07T03:38:03.170Z"
   },
   {
    "duration": 15,
    "start_time": "2022-08-07T03:38:06.242Z"
   },
   {
    "duration": 15,
    "start_time": "2022-08-07T03:38:16.398Z"
   },
   {
    "duration": 5,
    "start_time": "2022-08-07T03:38:18.437Z"
   },
   {
    "duration": 9,
    "start_time": "2022-08-07T03:38:20.886Z"
   },
   {
    "duration": 11,
    "start_time": "2022-08-07T03:38:32.044Z"
   },
   {
    "duration": 44,
    "start_time": "2022-08-07T03:38:42.693Z"
   },
   {
    "duration": 16,
    "start_time": "2022-08-07T03:38:45.936Z"
   },
   {
    "duration": 4,
    "start_time": "2022-08-07T03:38:49.498Z"
   },
   {
    "duration": 17,
    "start_time": "2022-08-07T03:38:50.766Z"
   },
   {
    "duration": 16,
    "start_time": "2022-08-07T03:38:53.630Z"
   },
   {
    "duration": 14,
    "start_time": "2022-08-07T03:38:56.774Z"
   },
   {
    "duration": 4,
    "start_time": "2022-08-07T03:39:00.533Z"
   },
   {
    "duration": 18,
    "start_time": "2022-08-07T03:39:01.955Z"
   },
   {
    "duration": 14,
    "start_time": "2022-08-07T03:39:04.831Z"
   },
   {
    "duration": 17,
    "start_time": "2022-08-07T03:39:08.931Z"
   },
   {
    "duration": 78,
    "start_time": "2022-08-07T03:39:17.146Z"
   },
   {
    "duration": 20,
    "start_time": "2022-08-07T03:39:17.227Z"
   },
   {
    "duration": 44,
    "start_time": "2022-08-07T03:39:17.249Z"
   },
   {
    "duration": 12,
    "start_time": "2022-08-07T03:39:17.295Z"
   },
   {
    "duration": 62,
    "start_time": "2022-08-07T03:39:17.309Z"
   },
   {
    "duration": 21,
    "start_time": "2022-08-07T03:39:17.373Z"
   },
   {
    "duration": 14,
    "start_time": "2022-08-07T03:39:17.396Z"
   },
   {
    "duration": 14,
    "start_time": "2022-08-07T03:39:17.413Z"
   },
   {
    "duration": 15,
    "start_time": "2022-08-07T03:39:17.429Z"
   },
   {
    "duration": 9,
    "start_time": "2022-08-07T03:39:17.447Z"
   },
   {
    "duration": 58,
    "start_time": "2022-08-07T03:39:17.458Z"
   },
   {
    "duration": 11,
    "start_time": "2022-08-07T03:39:17.518Z"
   },
   {
    "duration": 4,
    "start_time": "2022-08-07T03:39:17.530Z"
   },
   {
    "duration": 28,
    "start_time": "2022-08-07T03:39:17.536Z"
   },
   {
    "duration": 35,
    "start_time": "2022-08-07T03:39:17.565Z"
   },
   {
    "duration": 19,
    "start_time": "2022-08-07T03:39:17.603Z"
   },
   {
    "duration": 8,
    "start_time": "2022-08-07T03:39:17.625Z"
   },
   {
    "duration": 22,
    "start_time": "2022-08-07T03:39:17.635Z"
   },
   {
    "duration": 7,
    "start_time": "2022-08-07T03:39:17.660Z"
   },
   {
    "duration": 5,
    "start_time": "2022-08-07T03:39:17.669Z"
   },
   {
    "duration": 16,
    "start_time": "2022-08-07T03:39:17.692Z"
   },
   {
    "duration": 8,
    "start_time": "2022-08-07T03:39:17.710Z"
   },
   {
    "duration": 12,
    "start_time": "2022-08-07T03:39:17.719Z"
   },
   {
    "duration": 6,
    "start_time": "2022-08-07T03:39:17.733Z"
   },
   {
    "duration": 12,
    "start_time": "2022-08-07T03:39:17.741Z"
   },
   {
    "duration": 41,
    "start_time": "2022-08-07T03:39:17.755Z"
   },
   {
    "duration": 9,
    "start_time": "2022-08-07T03:39:17.798Z"
   },
   {
    "duration": 43,
    "start_time": "2022-08-07T03:39:17.811Z"
   },
   {
    "duration": 41,
    "start_time": "2022-08-07T03:39:17.857Z"
   },
   {
    "duration": 12,
    "start_time": "2022-08-07T03:39:17.900Z"
   },
   {
    "duration": 5,
    "start_time": "2022-08-07T03:39:17.914Z"
   },
   {
    "duration": 14,
    "start_time": "2022-08-07T03:39:17.921Z"
   },
   {
    "duration": 12,
    "start_time": "2022-08-07T03:39:17.936Z"
   },
   {
    "duration": 80,
    "start_time": "2022-08-07T03:39:17.951Z"
   },
   {
    "duration": 16,
    "start_time": "2022-08-07T03:39:18.033Z"
   },
   {
    "duration": 3,
    "start_time": "2022-08-07T03:39:18.051Z"
   },
   {
    "duration": 19,
    "start_time": "2022-08-07T03:39:18.056Z"
   },
   {
    "duration": 17,
    "start_time": "2022-08-07T03:39:18.091Z"
   },
   {
    "duration": 39,
    "start_time": "2022-08-07T03:39:18.110Z"
   },
   {
    "duration": 166,
    "start_time": "2022-08-07T03:39:18.151Z"
   },
   {
    "duration": 23,
    "start_time": "2022-08-07T03:39:18.319Z"
   },
   {
    "duration": 17,
    "start_time": "2022-08-07T03:39:18.344Z"
   },
   {
    "duration": 1623,
    "start_time": "2022-08-08T01:10:20.517Z"
   },
   {
    "duration": 19,
    "start_time": "2022-08-08T01:10:22.149Z"
   },
   {
    "duration": 15,
    "start_time": "2022-08-08T01:10:22.169Z"
   },
   {
    "duration": 9,
    "start_time": "2022-08-08T01:10:22.186Z"
   },
   {
    "duration": 55,
    "start_time": "2022-08-08T01:10:22.197Z"
   },
   {
    "duration": 4,
    "start_time": "2022-08-08T01:10:22.254Z"
   },
   {
    "duration": 10,
    "start_time": "2022-08-08T01:10:22.259Z"
   },
   {
    "duration": 4,
    "start_time": "2022-08-08T01:10:22.271Z"
   },
   {
    "duration": 8,
    "start_time": "2022-08-08T01:10:22.277Z"
   },
   {
    "duration": 4,
    "start_time": "2022-08-08T01:10:22.287Z"
   },
   {
    "duration": 66,
    "start_time": "2022-08-08T01:10:22.292Z"
   },
   {
    "duration": 11,
    "start_time": "2022-08-08T01:10:22.360Z"
   },
   {
    "duration": 4,
    "start_time": "2022-08-08T01:10:22.372Z"
   },
   {
    "duration": 18,
    "start_time": "2022-08-08T01:10:22.379Z"
   },
   {
    "duration": 17,
    "start_time": "2022-08-08T01:10:22.398Z"
   },
   {
    "duration": 38,
    "start_time": "2022-08-08T01:10:22.416Z"
   },
   {
    "duration": 3,
    "start_time": "2022-08-08T01:10:22.456Z"
   },
   {
    "duration": 12,
    "start_time": "2022-08-08T01:10:22.460Z"
   },
   {
    "duration": 11,
    "start_time": "2022-08-08T01:10:22.473Z"
   },
   {
    "duration": 7,
    "start_time": "2022-08-08T01:10:22.486Z"
   },
   {
    "duration": 16,
    "start_time": "2022-08-08T01:10:22.495Z"
   },
   {
    "duration": 5,
    "start_time": "2022-08-08T01:10:22.512Z"
   },
   {
    "duration": 31,
    "start_time": "2022-08-08T01:10:22.518Z"
   },
   {
    "duration": 5,
    "start_time": "2022-08-08T01:10:22.551Z"
   },
   {
    "duration": 14,
    "start_time": "2022-08-08T01:10:22.559Z"
   },
   {
    "duration": 8,
    "start_time": "2022-08-08T01:10:22.574Z"
   },
   {
    "duration": 7,
    "start_time": "2022-08-08T01:10:22.584Z"
   },
   {
    "duration": 83,
    "start_time": "2022-08-08T01:10:22.593Z"
   },
   {
    "duration": 12,
    "start_time": "2022-08-08T01:10:22.677Z"
   },
   {
    "duration": 10,
    "start_time": "2022-08-08T01:10:22.691Z"
   },
   {
    "duration": 6,
    "start_time": "2022-08-08T01:10:22.703Z"
   },
   {
    "duration": 12,
    "start_time": "2022-08-08T01:10:22.711Z"
   },
   {
    "duration": 11,
    "start_time": "2022-08-08T01:10:22.743Z"
   },
   {
    "duration": 43,
    "start_time": "2022-08-08T01:10:22.755Z"
   },
   {
    "duration": 14,
    "start_time": "2022-08-08T01:10:22.800Z"
   },
   {
    "duration": 3,
    "start_time": "2022-08-08T01:10:22.815Z"
   },
   {
    "duration": 27,
    "start_time": "2022-08-08T01:10:22.820Z"
   },
   {
    "duration": 13,
    "start_time": "2022-08-08T01:10:22.848Z"
   },
   {
    "duration": 32,
    "start_time": "2022-08-08T01:10:22.863Z"
   },
   {
    "duration": 154,
    "start_time": "2022-08-08T01:10:22.896Z"
   },
   {
    "duration": 18,
    "start_time": "2022-08-08T01:10:23.053Z"
   },
   {
    "duration": 19,
    "start_time": "2022-08-08T01:10:23.073Z"
   },
   {
    "duration": 107,
    "start_time": "2022-08-08T01:12:16.087Z"
   },
   {
    "duration": 10,
    "start_time": "2022-08-08T01:12:26.255Z"
   },
   {
    "duration": 9,
    "start_time": "2022-08-08T01:13:10.956Z"
   },
   {
    "duration": 10,
    "start_time": "2022-08-08T01:13:11.520Z"
   },
   {
    "duration": 8,
    "start_time": "2022-08-08T01:13:12.149Z"
   },
   {
    "duration": 17,
    "start_time": "2022-08-08T01:13:48.109Z"
   },
   {
    "duration": 8,
    "start_time": "2022-08-08T01:13:54.974Z"
   },
   {
    "duration": 7,
    "start_time": "2022-08-08T01:13:55.924Z"
   },
   {
    "duration": 21,
    "start_time": "2022-08-08T01:14:30.504Z"
   },
   {
    "duration": 1025,
    "start_time": "2022-08-08T01:20:09.838Z"
   },
   {
    "duration": 56,
    "start_time": "2022-08-08T01:23:33.176Z"
   },
   {
    "duration": 28,
    "start_time": "2022-08-08T01:23:57.874Z"
   },
   {
    "duration": 41,
    "start_time": "2022-08-08T01:24:42.833Z"
   },
   {
    "duration": 30,
    "start_time": "2022-08-08T01:25:31.250Z"
   },
   {
    "duration": 56,
    "start_time": "2022-08-08T01:29:32.374Z"
   },
   {
    "duration": 40,
    "start_time": "2022-08-08T01:29:46.996Z"
   },
   {
    "duration": 42,
    "start_time": "2022-08-08T01:30:05.405Z"
   },
   {
    "duration": 44,
    "start_time": "2022-08-08T01:30:25.222Z"
   },
   {
    "duration": 98,
    "start_time": "2022-08-08T07:38:41.434Z"
   },
   {
    "duration": 24,
    "start_time": "2022-08-08T07:38:41.535Z"
   },
   {
    "duration": 23,
    "start_time": "2022-08-08T07:38:41.561Z"
   },
   {
    "duration": 12,
    "start_time": "2022-08-08T07:38:41.587Z"
   },
   {
    "duration": 59,
    "start_time": "2022-08-08T07:38:41.601Z"
   },
   {
    "duration": 4,
    "start_time": "2022-08-08T07:38:41.661Z"
   },
   {
    "duration": 11,
    "start_time": "2022-08-08T07:38:41.666Z"
   },
   {
    "duration": 18,
    "start_time": "2022-08-08T07:38:41.678Z"
   },
   {
    "duration": 11,
    "start_time": "2022-08-08T07:38:41.698Z"
   },
   {
    "duration": 5,
    "start_time": "2022-08-08T07:38:41.714Z"
   },
   {
    "duration": 44,
    "start_time": "2022-08-08T07:38:41.737Z"
   },
   {
    "duration": 9,
    "start_time": "2022-08-08T07:38:41.783Z"
   },
   {
    "duration": 8,
    "start_time": "2022-08-08T07:38:41.794Z"
   },
   {
    "duration": 18,
    "start_time": "2022-08-08T07:38:41.804Z"
   },
   {
    "duration": 30,
    "start_time": "2022-08-08T07:38:41.823Z"
   },
   {
    "duration": 12,
    "start_time": "2022-08-08T07:38:41.854Z"
   },
   {
    "duration": 8,
    "start_time": "2022-08-08T07:38:41.867Z"
   },
   {
    "duration": 12,
    "start_time": "2022-08-08T07:38:41.876Z"
   },
   {
    "duration": 5,
    "start_time": "2022-08-08T07:38:41.890Z"
   },
   {
    "duration": 3,
    "start_time": "2022-08-08T07:38:41.897Z"
   },
   {
    "duration": 36,
    "start_time": "2022-08-08T07:38:41.902Z"
   },
   {
    "duration": 5,
    "start_time": "2022-08-08T07:38:41.940Z"
   },
   {
    "duration": 8,
    "start_time": "2022-08-08T07:38:41.947Z"
   },
   {
    "duration": 6,
    "start_time": "2022-08-08T07:38:41.956Z"
   },
   {
    "duration": 22,
    "start_time": "2022-08-08T07:38:41.964Z"
   },
   {
    "duration": 10,
    "start_time": "2022-08-08T07:38:41.988Z"
   },
   {
    "duration": 56,
    "start_time": "2022-08-08T07:38:42.000Z"
   },
   {
    "duration": 34,
    "start_time": "2022-08-08T07:38:42.059Z"
   },
   {
    "duration": 13,
    "start_time": "2022-08-08T07:38:42.094Z"
   },
   {
    "duration": 37,
    "start_time": "2022-08-08T07:38:42.109Z"
   },
   {
    "duration": 4,
    "start_time": "2022-08-08T07:38:42.148Z"
   },
   {
    "duration": 11,
    "start_time": "2022-08-08T07:38:42.154Z"
   },
   {
    "duration": 11,
    "start_time": "2022-08-08T07:38:42.167Z"
   },
   {
    "duration": 79,
    "start_time": "2022-08-08T07:38:42.181Z"
   },
   {
    "duration": 16,
    "start_time": "2022-08-08T07:38:42.261Z"
   },
   {
    "duration": 3,
    "start_time": "2022-08-08T07:38:42.279Z"
   },
   {
    "duration": 16,
    "start_time": "2022-08-08T07:38:42.283Z"
   },
   {
    "duration": 23,
    "start_time": "2022-08-08T07:38:42.301Z"
   },
   {
    "duration": 36,
    "start_time": "2022-08-08T07:38:42.338Z"
   },
   {
    "duration": 129,
    "start_time": "2022-08-08T07:38:42.376Z"
   },
   {
    "duration": 32,
    "start_time": "2022-08-08T07:38:42.507Z"
   },
   {
    "duration": 14,
    "start_time": "2022-08-08T07:38:42.541Z"
   },
   {
    "duration": 45,
    "start_time": "2022-08-08T07:39:45.086Z"
   },
   {
    "duration": 38,
    "start_time": "2022-08-08T07:40:28.062Z"
   },
   {
    "duration": 32,
    "start_time": "2022-08-08T07:48:39.067Z"
   },
   {
    "duration": 39,
    "start_time": "2022-08-08T07:48:53.745Z"
   }
  ],
  "celltoolbar": "Edit Metadata",
  "colab": {
   "name": "dpp_template_part2.ipynb",
   "provenance": []
  },
  "kernelspec": {
   "display_name": "Python 3 (ipykernel)",
   "language": "python",
   "name": "python3"
  },
  "language_info": {
   "codemirror_mode": {
    "name": "ipython",
    "version": 3
   },
   "file_extension": ".py",
   "mimetype": "text/x-python",
   "name": "python",
   "nbconvert_exporter": "python",
   "pygments_lexer": "ipython3",
   "version": "3.9.5"
  },
  "toc": {
   "base_numbering": 1,
   "nav_menu": {},
   "number_sections": true,
   "sideBar": true,
   "skip_h1_title": true,
   "title_cell": "Table of Contents",
   "title_sidebar": "Contents",
   "toc_cell": false,
   "toc_position": {},
   "toc_section_display": true,
   "toc_window_display": false
  }
 },
 "nbformat": 4,
 "nbformat_minor": 5
}