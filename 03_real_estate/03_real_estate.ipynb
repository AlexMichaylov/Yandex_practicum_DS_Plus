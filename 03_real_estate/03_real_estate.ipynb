{
 "cells": [
  {
   "cell_type": "markdown",
   "metadata": {
    "pycharm": {
     "name": "#%% md\n"
    }
   },
   "source": [
    "# Исследование объявлений о продаже квартир\n",
    "\n",
    "В вашем распоряжении данные сервиса Яндекс.Недвижимость — архив объявлений о продаже квартир в Санкт-Петербурге и соседних населённых пунктов за несколько лет. Нужно научиться определять рыночную стоимость объектов недвижимости. Ваша задача — установить параметры. Это позволит построить автоматизированную систему: она отследит аномалии и мошенническую деятельность. \n",
    "\n",
    "По каждой квартире на продажу доступны два вида данных. Первые вписаны пользователем, вторые — получены автоматически на основе картографических данных. Например, расстояние до центра, аэропорта, ближайшего парка и водоёма. "
   ]
  },
  {
   "cell_type": "markdown",
   "metadata": {
    "pycharm": {
     "name": "#%% md\n"
    }
   },
   "source": [
    "Цель этого проекта, выявить от чего зависит цена недвижимости в Санкт-Петербурге и Ленинградской области.\n",
    "Мы собираемся проверить, от каких факторов зависит стоимость квадратного метра и помочь бизнесу с выводами и принять верные решения."
   ]
  },
  {
   "cell_type": "markdown",
   "metadata": {
    "pycharm": {
     "name": "#%% md\n"
    }
   },
   "source": [
    "### Откройте файл с данными и изучите общую информацию. "
   ]
  },
  {
   "cell_type": "code",
   "execution_count": 1,
   "metadata": {
    "pycharm": {
     "name": "#%%\n"
    }
   },
   "outputs": [],
   "source": [
    "import pandas as pd\n",
    "import matplotlib.pyplot as plt\n",
    "\n",
    "\n",
    "\n",
    "import seaborn as sns\n",
    "import matplotlib as plt\n",
    "import matplotlib.pyplot as plt"
   ]
  },
  {
   "cell_type": "code",
   "execution_count": 2,
   "metadata": {
    "collapsed": false,
    "pycharm": {
     "name": "#%%\n"
    }
   },
   "outputs": [
    {
     "data": {
      "text/html": [
       "<div>\n",
       "<style scoped>\n",
       "    .dataframe tbody tr th:only-of-type {\n",
       "        vertical-align: middle;\n",
       "    }\n",
       "\n",
       "    .dataframe tbody tr th {\n",
       "        vertical-align: top;\n",
       "    }\n",
       "\n",
       "    .dataframe thead th {\n",
       "        text-align: right;\n",
       "    }\n",
       "</style>\n",
       "<table border=\"1\" class=\"dataframe\">\n",
       "  <thead>\n",
       "    <tr style=\"text-align: right;\">\n",
       "      <th></th>\n",
       "      <th>Unnamed: 0</th>\n",
       "      <th>total_images</th>\n",
       "      <th>last_price</th>\n",
       "      <th>total_area</th>\n",
       "      <th>first_day_exposition</th>\n",
       "      <th>rooms</th>\n",
       "      <th>ceiling_height</th>\n",
       "      <th>floors_total</th>\n",
       "      <th>living_area</th>\n",
       "      <th>floor</th>\n",
       "      <th>...</th>\n",
       "      <th>kitchen_area</th>\n",
       "      <th>balcony</th>\n",
       "      <th>locality_name</th>\n",
       "      <th>airports_nearest</th>\n",
       "      <th>cityCenters_nearest</th>\n",
       "      <th>parks_around3000</th>\n",
       "      <th>parks_nearest</th>\n",
       "      <th>ponds_around3000</th>\n",
       "      <th>ponds_nearest</th>\n",
       "      <th>days_exposition</th>\n",
       "    </tr>\n",
       "  </thead>\n",
       "  <tbody>\n",
       "    <tr>\n",
       "      <th>0</th>\n",
       "      <td>0</td>\n",
       "      <td>20</td>\n",
       "      <td>13000000</td>\n",
       "      <td>108.0</td>\n",
       "      <td>2019-03-07T00:00:00</td>\n",
       "      <td>3</td>\n",
       "      <td>2.70</td>\n",
       "      <td>16.0</td>\n",
       "      <td>51.0</td>\n",
       "      <td>8</td>\n",
       "      <td>...</td>\n",
       "      <td>25.0</td>\n",
       "      <td>NaN</td>\n",
       "      <td>Санкт-Петербург</td>\n",
       "      <td>18863.0</td>\n",
       "      <td>16028.0</td>\n",
       "      <td>1.0</td>\n",
       "      <td>482.0</td>\n",
       "      <td>2.0</td>\n",
       "      <td>755.0</td>\n",
       "      <td>NaN</td>\n",
       "    </tr>\n",
       "    <tr>\n",
       "      <th>1</th>\n",
       "      <td>1</td>\n",
       "      <td>7</td>\n",
       "      <td>3350000</td>\n",
       "      <td>40.4</td>\n",
       "      <td>2018-12-04T00:00:00</td>\n",
       "      <td>1</td>\n",
       "      <td>NaN</td>\n",
       "      <td>11.0</td>\n",
       "      <td>18.6</td>\n",
       "      <td>1</td>\n",
       "      <td>...</td>\n",
       "      <td>11.0</td>\n",
       "      <td>2.0</td>\n",
       "      <td>посёлок Шушары</td>\n",
       "      <td>12817.0</td>\n",
       "      <td>18603.0</td>\n",
       "      <td>0.0</td>\n",
       "      <td>NaN</td>\n",
       "      <td>0.0</td>\n",
       "      <td>NaN</td>\n",
       "      <td>81.0</td>\n",
       "    </tr>\n",
       "    <tr>\n",
       "      <th>2</th>\n",
       "      <td>2</td>\n",
       "      <td>10</td>\n",
       "      <td>5196000</td>\n",
       "      <td>56.0</td>\n",
       "      <td>2015-08-20T00:00:00</td>\n",
       "      <td>2</td>\n",
       "      <td>NaN</td>\n",
       "      <td>5.0</td>\n",
       "      <td>34.3</td>\n",
       "      <td>4</td>\n",
       "      <td>...</td>\n",
       "      <td>8.3</td>\n",
       "      <td>0.0</td>\n",
       "      <td>Санкт-Петербург</td>\n",
       "      <td>21741.0</td>\n",
       "      <td>13933.0</td>\n",
       "      <td>1.0</td>\n",
       "      <td>90.0</td>\n",
       "      <td>2.0</td>\n",
       "      <td>574.0</td>\n",
       "      <td>558.0</td>\n",
       "    </tr>\n",
       "    <tr>\n",
       "      <th>3</th>\n",
       "      <td>3</td>\n",
       "      <td>0</td>\n",
       "      <td>64900000</td>\n",
       "      <td>159.0</td>\n",
       "      <td>2015-07-24T00:00:00</td>\n",
       "      <td>3</td>\n",
       "      <td>NaN</td>\n",
       "      <td>14.0</td>\n",
       "      <td>NaN</td>\n",
       "      <td>9</td>\n",
       "      <td>...</td>\n",
       "      <td>NaN</td>\n",
       "      <td>0.0</td>\n",
       "      <td>Санкт-Петербург</td>\n",
       "      <td>28098.0</td>\n",
       "      <td>6800.0</td>\n",
       "      <td>2.0</td>\n",
       "      <td>84.0</td>\n",
       "      <td>3.0</td>\n",
       "      <td>234.0</td>\n",
       "      <td>424.0</td>\n",
       "    </tr>\n",
       "    <tr>\n",
       "      <th>4</th>\n",
       "      <td>4</td>\n",
       "      <td>2</td>\n",
       "      <td>10000000</td>\n",
       "      <td>100.0</td>\n",
       "      <td>2018-06-19T00:00:00</td>\n",
       "      <td>2</td>\n",
       "      <td>3.03</td>\n",
       "      <td>14.0</td>\n",
       "      <td>32.0</td>\n",
       "      <td>13</td>\n",
       "      <td>...</td>\n",
       "      <td>41.0</td>\n",
       "      <td>NaN</td>\n",
       "      <td>Санкт-Петербург</td>\n",
       "      <td>31856.0</td>\n",
       "      <td>8098.0</td>\n",
       "      <td>2.0</td>\n",
       "      <td>112.0</td>\n",
       "      <td>1.0</td>\n",
       "      <td>48.0</td>\n",
       "      <td>121.0</td>\n",
       "    </tr>\n",
       "  </tbody>\n",
       "</table>\n",
       "<p>5 rows × 23 columns</p>\n",
       "</div>"
      ],
      "text/plain": [
       "   Unnamed: 0  total_images  last_price  total_area first_day_exposition  \\\n",
       "0           0            20    13000000       108.0  2019-03-07T00:00:00   \n",
       "1           1             7     3350000        40.4  2018-12-04T00:00:00   \n",
       "2           2            10     5196000        56.0  2015-08-20T00:00:00   \n",
       "3           3             0    64900000       159.0  2015-07-24T00:00:00   \n",
       "4           4             2    10000000       100.0  2018-06-19T00:00:00   \n",
       "\n",
       "   rooms  ceiling_height  floors_total  living_area  floor  ...  kitchen_area  \\\n",
       "0      3            2.70          16.0         51.0      8  ...          25.0   \n",
       "1      1             NaN          11.0         18.6      1  ...          11.0   \n",
       "2      2             NaN           5.0         34.3      4  ...           8.3   \n",
       "3      3             NaN          14.0          NaN      9  ...           NaN   \n",
       "4      2            3.03          14.0         32.0     13  ...          41.0   \n",
       "\n",
       "   balcony    locality_name  airports_nearest  cityCenters_nearest  \\\n",
       "0      NaN  Санкт-Петербург           18863.0              16028.0   \n",
       "1      2.0   посёлок Шушары           12817.0              18603.0   \n",
       "2      0.0  Санкт-Петербург           21741.0              13933.0   \n",
       "3      0.0  Санкт-Петербург           28098.0               6800.0   \n",
       "4      NaN  Санкт-Петербург           31856.0               8098.0   \n",
       "\n",
       "  parks_around3000  parks_nearest  ponds_around3000  ponds_nearest  \\\n",
       "0              1.0          482.0               2.0          755.0   \n",
       "1              0.0            NaN               0.0            NaN   \n",
       "2              1.0           90.0               2.0          574.0   \n",
       "3              2.0           84.0               3.0          234.0   \n",
       "4              2.0          112.0               1.0           48.0   \n",
       "\n",
       "   days_exposition  \n",
       "0              NaN  \n",
       "1             81.0  \n",
       "2            558.0  \n",
       "3            424.0  \n",
       "4            121.0  \n",
       "\n",
       "[5 rows x 23 columns]"
      ]
     },
     "metadata": {},
     "output_type": "display_data"
    }
   ],
   "source": [
    " df = pd.read_excel('real_estate_data_norm.xlsx')\n",
    "display(df.head(5))"
   ]
  },
  {
   "cell_type": "markdown",
   "metadata": {
    "pycharm": {
     "name": "#%% md\n"
    }
   },
   "source": [
    "<div class=\"alert alert-success\">\n",
    "<font size=\"4\", color= \"seagreen\"><b>✔️ Комментарий ревьюера</b></font>\n",
    "    <br /> \n",
    "    <font size=\"3\", color = \"black\">\n",
    "<br />молодец, что делишь блоки загрузки библиотек и датасета, в случае необходимости добавления новых библиотек не придется загружать весь датасет заново и перезапускать проект целиком"
   ]
  },
  {
   "cell_type": "code",
   "execution_count": 2,
   "metadata": {
    "pycharm": {
     "name": "#%%\n"
    }
   },
   "outputs": [],
   "source": []
  },
  {
   "cell_type": "markdown",
   "metadata": {
    "pycharm": {
     "name": "#%% md\n"
    }
   },
   "source": [
    "Получаем общую информацию про датасет. Изучаем представленные типы данных и сравниваем их с аннотированными. Выявляем \"проблемыне\" места. "
   ]
  },
  {
   "cell_type": "code",
   "execution_count": 61,
   "metadata": {
    "pycharm": {
     "name": "#%%\n"
    }
   },
   "outputs": [
    {
     "name": "stdout",
     "output_type": "stream",
     "text": [
      "<class 'pandas.core.frame.DataFrame'>\n",
      "Int64Index: 21556 entries, 0 to 23577\n",
      "Data columns (total 23 columns):\n",
      " #   Column                Non-Null Count  Dtype         \n",
      "---  ------                --------------  -----         \n",
      " 0   Unnamed: 0            21556 non-null  int64         \n",
      " 1   total_images          21556 non-null  int64         \n",
      " 2   last_price            21556 non-null  int32         \n",
      " 3   total_area            21556 non-null  float64       \n",
      " 4   first_day_exposition  21556 non-null  datetime64[ns]\n",
      " 5   rooms                 21556 non-null  int64         \n",
      " 6   ceiling_height        21556 non-null  float64       \n",
      " 7   floors_total          21556 non-null  int32         \n",
      " 8   living_area           21556 non-null  float64       \n",
      " 9   floor                 21556 non-null  int64         \n",
      " 10  is_apartment          2644 non-null   float64       \n",
      " 11  studio                21556 non-null  bool          \n",
      " 12  open_plan             21556 non-null  bool          \n",
      " 13  kitchen_area          20780 non-null  float64       \n",
      " 14  balcony               11564 non-null  float64       \n",
      " 15  locality_name         21513 non-null  object        \n",
      " 16  airports_nearest      16664 non-null  float64       \n",
      " 17  cityCenters_nearest   16682 non-null  float64       \n",
      " 18  parks_around3000      16683 non-null  float64       \n",
      " 19  parks_nearest         7369 non-null   float64       \n",
      " 20  ponds_around3000      16683 non-null  float64       \n",
      " 21  ponds_nearest         8275 non-null   float64       \n",
      " 22  days_exposition       18604 non-null  float64       \n",
      "dtypes: bool(2), datetime64[ns](1), float64(13), int32(2), int64(4), object(1)\n",
      "memory usage: 3.5+ MB\n"
     ]
    }
   ],
   "source": [
    "df.info()\n"
   ]
  },
  {
   "cell_type": "markdown",
   "metadata": {
    "pycharm": {
     "name": "#%% md\n"
    }
   },
   "source": [
    "в процессе изучения приходим к выводу, что типы данных столбцов:\n",
    "\n",
    "-  first_day_exposition  23699 non-null  object неверен, т к здесь, согласно описанию датафрейма, должен быть тип данных datetime;\n",
    "- is_apartment          2775 non-null   object неверен, т к здесь, согласно описанию датафрейма, должен быть булев тип данных;\n",
    "Исправим выяленные проблемы в процессе предобработки.\n",
    "\n",
    "Кроме того, в таблице 23699 строк и таким образом, выявлены пропуски в столбцах: \n",
    "\n",
    "ceiling_height        14504 строк высота потолков можно заменить на медианное значение\n",
    "floors_total          23613 строк всего этажей в доме нецелесообразно дополнять, т к пропусков немного\n",
    "living_area           21796 строк жилая площадь в квадратных метрах (м²) можно заменить на медианное значение для данной квартиры\n",
    "is_apartment          2775  строк апартаменты (булев тип) дозаполнить возможно, если принять во внимание, что апартаменты начинаются от пределенной площади\n",
    "\n",
    "kitchen_area          21421 строк площадь кухни в квадратных метрах (м²) можно заменить на медианное значение для данной квартиры\n",
    "balcony               12180 строк число балконов отсутствие данных заменим на 0, т к скорее всего, в квартире балкона нет\n",
    "airports_nearest      18157 строк расстояние до ближайшего аэропорта в метрах - скорее всего, рядом нет аэропорта\n",
    "cityCenters_nearest   18180 строк расстояние до центра города - пропуски целесообразно заменить на медианное значение\n",
    "parks_around3000      18181 строк число парков в радиусе 3 км - отсутствие скорее всего, говорит о том, что рядом парка нет\n",
    "parks_nearest         8079  строк расстояние до ближайшего парка м - если парк есть на расстоянии 3 км, а данных о расстоянии нет - имеет смысл заменить на медианное значение\n",
    "ponds_around3000      18181 строк число водоёмов в радиусе 3 км - отсутствие скорее всего, говорит о том, что рядом водоема нет\n",
    "ponds_nearest         9110  строк если водоём есть на расстоянии 3 км, а данных о расстоянии нет - имеет смысл заменить на медианное значение\n",
    "days_exposition       20518 строк сколько дней было размещено объявление  - учитывая небольшое число пропусков, относительно общего кол-ва строчек, имеет смысл заменить на медианное значение"
   ]
  },
  {
   "cell_type": "markdown",
   "metadata": {
    "pycharm": {
     "name": "#%% md\n"
    }
   },
   "source": [
    "исследуем кол-во пропущенных значений для каждого столбца"
   ]
  },
  {
   "cell_type": "code",
   "execution_count": 3,
   "metadata": {
    "collapsed": false,
    "pycharm": {
     "name": "#%%\n"
    }
   },
   "outputs": [],
   "source": []
  },
  {
   "cell_type": "code",
   "execution_count": 4,
   "metadata": {
    "collapsed": false,
    "pycharm": {
     "name": "#%%\n"
    }
   },
   "outputs": [
    {
     "data": {
      "text/html": [
       "<div>\n",
       "<style scoped>\n",
       "    .dataframe tbody tr th:only-of-type {\n",
       "        vertical-align: middle;\n",
       "    }\n",
       "\n",
       "    .dataframe tbody tr th {\n",
       "        vertical-align: top;\n",
       "    }\n",
       "\n",
       "    .dataframe thead th {\n",
       "        text-align: right;\n",
       "    }\n",
       "</style>\n",
       "<table border=\"1\" class=\"dataframe\">\n",
       "  <thead>\n",
       "    <tr style=\"text-align: right;\">\n",
       "      <th></th>\n",
       "      <th>Unnamed: 0</th>\n",
       "      <th>total_images</th>\n",
       "      <th>last_price</th>\n",
       "      <th>total_area</th>\n",
       "      <th>first_day_exposition</th>\n",
       "      <th>rooms</th>\n",
       "      <th>ceiling_height</th>\n",
       "      <th>floors_total</th>\n",
       "      <th>living_area</th>\n",
       "      <th>floor</th>\n",
       "      <th>...</th>\n",
       "      <th>kitchen_area</th>\n",
       "      <th>balcony</th>\n",
       "      <th>locality_name</th>\n",
       "      <th>airports_nearest</th>\n",
       "      <th>cityCenters_nearest</th>\n",
       "      <th>parks_around3000</th>\n",
       "      <th>parks_nearest</th>\n",
       "      <th>ponds_around3000</th>\n",
       "      <th>ponds_nearest</th>\n",
       "      <th>days_exposition</th>\n",
       "    </tr>\n",
       "  </thead>\n",
       "  <tbody>\n",
       "    <tr>\n",
       "      <th>0</th>\n",
       "      <td>0</td>\n",
       "      <td>20</td>\n",
       "      <td>13000000</td>\n",
       "      <td>108.0</td>\n",
       "      <td>2019-03-07T00:00:00</td>\n",
       "      <td>3</td>\n",
       "      <td>2.70</td>\n",
       "      <td>16.0</td>\n",
       "      <td>51.0</td>\n",
       "      <td>8</td>\n",
       "      <td>...</td>\n",
       "      <td>25.0</td>\n",
       "      <td>NaN</td>\n",
       "      <td>Санкт-Петербург</td>\n",
       "      <td>18863.0</td>\n",
       "      <td>16028.0</td>\n",
       "      <td>1.0</td>\n",
       "      <td>482.0</td>\n",
       "      <td>2.0</td>\n",
       "      <td>755.0</td>\n",
       "      <td>NaN</td>\n",
       "    </tr>\n",
       "    <tr>\n",
       "      <th>1</th>\n",
       "      <td>1</td>\n",
       "      <td>7</td>\n",
       "      <td>3350000</td>\n",
       "      <td>40.4</td>\n",
       "      <td>2018-12-04T00:00:00</td>\n",
       "      <td>1</td>\n",
       "      <td>NaN</td>\n",
       "      <td>11.0</td>\n",
       "      <td>18.6</td>\n",
       "      <td>1</td>\n",
       "      <td>...</td>\n",
       "      <td>11.0</td>\n",
       "      <td>2.0</td>\n",
       "      <td>посёлок Шушары</td>\n",
       "      <td>12817.0</td>\n",
       "      <td>18603.0</td>\n",
       "      <td>0.0</td>\n",
       "      <td>NaN</td>\n",
       "      <td>0.0</td>\n",
       "      <td>NaN</td>\n",
       "      <td>81.0</td>\n",
       "    </tr>\n",
       "    <tr>\n",
       "      <th>2</th>\n",
       "      <td>2</td>\n",
       "      <td>10</td>\n",
       "      <td>5196000</td>\n",
       "      <td>56.0</td>\n",
       "      <td>2015-08-20T00:00:00</td>\n",
       "      <td>2</td>\n",
       "      <td>NaN</td>\n",
       "      <td>5.0</td>\n",
       "      <td>34.3</td>\n",
       "      <td>4</td>\n",
       "      <td>...</td>\n",
       "      <td>8.3</td>\n",
       "      <td>0.0</td>\n",
       "      <td>Санкт-Петербург</td>\n",
       "      <td>21741.0</td>\n",
       "      <td>13933.0</td>\n",
       "      <td>1.0</td>\n",
       "      <td>90.0</td>\n",
       "      <td>2.0</td>\n",
       "      <td>574.0</td>\n",
       "      <td>558.0</td>\n",
       "    </tr>\n",
       "    <tr>\n",
       "      <th>3</th>\n",
       "      <td>3</td>\n",
       "      <td>0</td>\n",
       "      <td>64900000</td>\n",
       "      <td>159.0</td>\n",
       "      <td>2015-07-24T00:00:00</td>\n",
       "      <td>3</td>\n",
       "      <td>NaN</td>\n",
       "      <td>14.0</td>\n",
       "      <td>NaN</td>\n",
       "      <td>9</td>\n",
       "      <td>...</td>\n",
       "      <td>NaN</td>\n",
       "      <td>0.0</td>\n",
       "      <td>Санкт-Петербург</td>\n",
       "      <td>28098.0</td>\n",
       "      <td>6800.0</td>\n",
       "      <td>2.0</td>\n",
       "      <td>84.0</td>\n",
       "      <td>3.0</td>\n",
       "      <td>234.0</td>\n",
       "      <td>424.0</td>\n",
       "    </tr>\n",
       "    <tr>\n",
       "      <th>4</th>\n",
       "      <td>4</td>\n",
       "      <td>2</td>\n",
       "      <td>10000000</td>\n",
       "      <td>100.0</td>\n",
       "      <td>2018-06-19T00:00:00</td>\n",
       "      <td>2</td>\n",
       "      <td>3.03</td>\n",
       "      <td>14.0</td>\n",
       "      <td>32.0</td>\n",
       "      <td>13</td>\n",
       "      <td>...</td>\n",
       "      <td>41.0</td>\n",
       "      <td>NaN</td>\n",
       "      <td>Санкт-Петербург</td>\n",
       "      <td>31856.0</td>\n",
       "      <td>8098.0</td>\n",
       "      <td>2.0</td>\n",
       "      <td>112.0</td>\n",
       "      <td>1.0</td>\n",
       "      <td>48.0</td>\n",
       "      <td>121.0</td>\n",
       "    </tr>\n",
       "  </tbody>\n",
       "</table>\n",
       "<p>5 rows × 23 columns</p>\n",
       "</div>"
      ],
      "text/plain": [
       "   Unnamed: 0  total_images  last_price  total_area first_day_exposition  \\\n",
       "0           0            20    13000000       108.0  2019-03-07T00:00:00   \n",
       "1           1             7     3350000        40.4  2018-12-04T00:00:00   \n",
       "2           2            10     5196000        56.0  2015-08-20T00:00:00   \n",
       "3           3             0    64900000       159.0  2015-07-24T00:00:00   \n",
       "4           4             2    10000000       100.0  2018-06-19T00:00:00   \n",
       "\n",
       "   rooms  ceiling_height  floors_total  living_area  floor  ...  kitchen_area  \\\n",
       "0      3            2.70          16.0         51.0      8  ...          25.0   \n",
       "1      1             NaN          11.0         18.6      1  ...          11.0   \n",
       "2      2             NaN           5.0         34.3      4  ...           8.3   \n",
       "3      3             NaN          14.0          NaN      9  ...           NaN   \n",
       "4      2            3.03          14.0         32.0     13  ...          41.0   \n",
       "\n",
       "   balcony    locality_name  airports_nearest  cityCenters_nearest  \\\n",
       "0      NaN  Санкт-Петербург           18863.0              16028.0   \n",
       "1      2.0   посёлок Шушары           12817.0              18603.0   \n",
       "2      0.0  Санкт-Петербург           21741.0              13933.0   \n",
       "3      0.0  Санкт-Петербург           28098.0               6800.0   \n",
       "4      NaN  Санкт-Петербург           31856.0               8098.0   \n",
       "\n",
       "  parks_around3000  parks_nearest  ponds_around3000  ponds_nearest  \\\n",
       "0              1.0          482.0               2.0          755.0   \n",
       "1              0.0            NaN               0.0            NaN   \n",
       "2              1.0           90.0               2.0          574.0   \n",
       "3              2.0           84.0               3.0          234.0   \n",
       "4              2.0          112.0               1.0           48.0   \n",
       "\n",
       "   days_exposition  \n",
       "0              NaN  \n",
       "1             81.0  \n",
       "2            558.0  \n",
       "3            424.0  \n",
       "4            121.0  \n",
       "\n",
       "[5 rows x 23 columns]"
      ]
     },
     "metadata": {},
     "output_type": "display_data"
    }
   ],
   "source": [
    "display(df.head(5))"
   ]
  },
  {
   "cell_type": "code",
   "execution_count": 5,
   "metadata": {
    "pycharm": {
     "name": "#%%\n"
    }
   },
   "outputs": [
    {
     "data": {
      "text/plain": [
       "Unnamed: 0                  0\n",
       "total_images                0\n",
       "last_price                  0\n",
       "total_area                  0\n",
       "first_day_exposition        0\n",
       "rooms                       0\n",
       "ceiling_height           9195\n",
       "floors_total               86\n",
       "living_area              1903\n",
       "floor                       0\n",
       "is_apartment            20924\n",
       "studio                      0\n",
       "open_plan                   0\n",
       "kitchen_area             2278\n",
       "balcony                 11519\n",
       "locality_name              49\n",
       "airports_nearest         5542\n",
       "cityCenters_nearest      5519\n",
       "parks_around3000         5518\n",
       "parks_nearest           15620\n",
       "ponds_around3000         5518\n",
       "ponds_nearest           14589\n",
       "days_exposition          3181\n",
       "dtype: int64"
      ]
     },
     "execution_count": 5,
     "metadata": {},
     "output_type": "execute_result"
    }
   ],
   "source": [
    "df.isna().sum()"
   ]
  },
  {
   "cell_type": "markdown",
   "metadata": {
    "pycharm": {
     "name": "#%% md\n"
    }
   },
   "source": [
    "\n",
    "**Уже по первым колонкам мы видим что присутствуют как количественные так и качественные пропуски в колонках ниже** \n",
    "\n",
    "**Количественные:** \n",
    "ceiling_height, \n",
    "living_area, \n",
    "parks_nearest, \n",
    "ponds_nearest, \n",
    "days_exposition. \n",
    "\n",
    "**Качественные:** is_apartment"
   ]
  },
  {
   "cell_type": "code",
   "execution_count": 6,
   "metadata": {
    "pycharm": {
     "name": "#%%\n"
    }
   },
   "outputs": [],
   "source": [
    "# check\n",
    "# пропущенные значения бары\n",
    "\n",
    "def pass_value_barh(df):\n",
    "    try:\n",
    "        (\n",
    "            (df.isna().mean()*100)\n",
    "            .to_frame()\n",
    "            .rename(columns = {0:'space'})\n",
    "            .query('space > 0')\n",
    "            .sort_values(by = 'space', ascending = True)\n",
    "            .plot(kind= 'barh', figsize=(19,6), rot = -5, legend = False, fontsize = 16)\n",
    "            .set_title('Пример' + \"\\n\", fontsize = 22, color = 'SteelBlue')    \n",
    "        );    \n",
    "    except:\n",
    "        print('пропусков не осталось :) ')"
   ]
  },
  {
   "cell_type": "code",
   "execution_count": 7,
   "metadata": {
    "pycharm": {
     "name": "#%%\n"
    }
   },
   "outputs": [
    {
     "data": {
      "image/png": "[encoded data removed]",
      "text/plain": [
       "<Figure size 1368x432 with 1 Axes>"
      ]
     },
     "metadata": {},
     "output_type": "display_data"
    }
   ],
   "source": [
    "pass_value_barh(df)"
   ]
  },
  {
   "cell_type": "code",
   "execution_count": 8,
   "metadata": {
    "pycharm": {
     "name": "#%%\n"
    }
   },
   "outputs": [
    {
     "data": {
      "text/html": [
       "<style type=\"text/css\">\n",
       "#T_e28fb_row0_col0, #T_e28fb_row1_col0, #T_e28fb_row2_col0, #T_e28fb_row3_col0, #T_e28fb_row4_col0, #T_e28fb_row5_col0, #T_e28fb_row7_col0, #T_e28fb_row9_col0, #T_e28fb_row11_col0, #T_e28fb_row12_col0, #T_e28fb_row15_col0 {\n",
       "  background-color: #3b4cc0;\n",
       "  color: #f1f1f1;\n",
       "}\n",
       "#T_e28fb_row6_col0 {\n",
       "  background-color: #cdd9ec;\n",
       "  color: #000000;\n",
       "}\n",
       "#T_e28fb_row8_col0 {\n",
       "  background-color: #5673e0;\n",
       "  color: #f1f1f1;\n",
       "}\n",
       "#T_e28fb_row10_col0 {\n",
       "  background-color: #b40426;\n",
       "  color: #f1f1f1;\n",
       "}\n",
       "#T_e28fb_row13_col0 {\n",
       "  background-color: #5e7de7;\n",
       "  color: #f1f1f1;\n",
       "}\n",
       "#T_e28fb_row14_col0 {\n",
       "  background-color: #ead4c8;\n",
       "  color: #000000;\n",
       "}\n",
       "#T_e28fb_row16_col0, #T_e28fb_row17_col0, #T_e28fb_row18_col0, #T_e28fb_row20_col0 {\n",
       "  background-color: #90b2fe;\n",
       "  color: #000000;\n",
       "}\n",
       "#T_e28fb_row19_col0 {\n",
       "  background-color: #f4987a;\n",
       "  color: #000000;\n",
       "}\n",
       "#T_e28fb_row21_col0 {\n",
       "  background-color: #f7aa8c;\n",
       "  color: #000000;\n",
       "}\n",
       "#T_e28fb_row22_col0 {\n",
       "  background-color: #688aef;\n",
       "  color: #f1f1f1;\n",
       "}\n",
       "</style>\n",
       "<table id=\"T_e28fb\">\n",
       "  <thead>\n",
       "    <tr>\n",
       "      <th class=\"blank level0\" >&nbsp;</th>\n",
       "      <th id=\"T_e28fb_level0_col0\" class=\"col_heading level0 col0\" >0</th>\n",
       "    </tr>\n",
       "  </thead>\n",
       "  <tbody>\n",
       "    <tr>\n",
       "      <th id=\"T_e28fb_level0_row0\" class=\"row_heading level0 row0\" >Unnamed: 0</th>\n",
       "      <td id=\"T_e28fb_row0_col0\" class=\"data row0 col0\" >0.00</td>\n",
       "    </tr>\n",
       "    <tr>\n",
       "      <th id=\"T_e28fb_level0_row1\" class=\"row_heading level0 row1\" >total_images</th>\n",
       "      <td id=\"T_e28fb_row1_col0\" class=\"data row1 col0\" >0.00</td>\n",
       "    </tr>\n",
       "    <tr>\n",
       "      <th id=\"T_e28fb_level0_row2\" class=\"row_heading level0 row2\" >last_price</th>\n",
       "      <td id=\"T_e28fb_row2_col0\" class=\"data row2 col0\" >0.00</td>\n",
       "    </tr>\n",
       "    <tr>\n",
       "      <th id=\"T_e28fb_level0_row3\" class=\"row_heading level0 row3\" >total_area</th>\n",
       "      <td id=\"T_e28fb_row3_col0\" class=\"data row3 col0\" >0.00</td>\n",
       "    </tr>\n",
       "    <tr>\n",
       "      <th id=\"T_e28fb_level0_row4\" class=\"row_heading level0 row4\" >first_day_exposition</th>\n",
       "      <td id=\"T_e28fb_row4_col0\" class=\"data row4 col0\" >0.00</td>\n",
       "    </tr>\n",
       "    <tr>\n",
       "      <th id=\"T_e28fb_level0_row5\" class=\"row_heading level0 row5\" >rooms</th>\n",
       "      <td id=\"T_e28fb_row5_col0\" class=\"data row5 col0\" >0.00</td>\n",
       "    </tr>\n",
       "    <tr>\n",
       "      <th id=\"T_e28fb_level0_row6\" class=\"row_heading level0 row6\" >ceiling_height</th>\n",
       "      <td id=\"T_e28fb_row6_col0\" class=\"data row6 col0\" >39.00</td>\n",
       "    </tr>\n",
       "    <tr>\n",
       "      <th id=\"T_e28fb_level0_row7\" class=\"row_heading level0 row7\" >floors_total</th>\n",
       "      <td id=\"T_e28fb_row7_col0\" class=\"data row7 col0\" >0.00</td>\n",
       "    </tr>\n",
       "    <tr>\n",
       "      <th id=\"T_e28fb_level0_row8\" class=\"row_heading level0 row8\" >living_area</th>\n",
       "      <td id=\"T_e28fb_row8_col0\" class=\"data row8 col0\" >8.00</td>\n",
       "    </tr>\n",
       "    <tr>\n",
       "      <th id=\"T_e28fb_level0_row9\" class=\"row_heading level0 row9\" >floor</th>\n",
       "      <td id=\"T_e28fb_row9_col0\" class=\"data row9 col0\" >0.00</td>\n",
       "    </tr>\n",
       "    <tr>\n",
       "      <th id=\"T_e28fb_level0_row10\" class=\"row_heading level0 row10\" >is_apartment</th>\n",
       "      <td id=\"T_e28fb_row10_col0\" class=\"data row10 col0\" >88.00</td>\n",
       "    </tr>\n",
       "    <tr>\n",
       "      <th id=\"T_e28fb_level0_row11\" class=\"row_heading level0 row11\" >studio</th>\n",
       "      <td id=\"T_e28fb_row11_col0\" class=\"data row11 col0\" >0.00</td>\n",
       "    </tr>\n",
       "    <tr>\n",
       "      <th id=\"T_e28fb_level0_row12\" class=\"row_heading level0 row12\" >open_plan</th>\n",
       "      <td id=\"T_e28fb_row12_col0\" class=\"data row12 col0\" >0.00</td>\n",
       "    </tr>\n",
       "    <tr>\n",
       "      <th id=\"T_e28fb_level0_row13\" class=\"row_heading level0 row13\" >kitchen_area</th>\n",
       "      <td id=\"T_e28fb_row13_col0\" class=\"data row13 col0\" >10.00</td>\n",
       "    </tr>\n",
       "    <tr>\n",
       "      <th id=\"T_e28fb_level0_row14\" class=\"row_heading level0 row14\" >balcony</th>\n",
       "      <td id=\"T_e28fb_row14_col0\" class=\"data row14 col0\" >49.00</td>\n",
       "    </tr>\n",
       "    <tr>\n",
       "      <th id=\"T_e28fb_level0_row15\" class=\"row_heading level0 row15\" >locality_name</th>\n",
       "      <td id=\"T_e28fb_row15_col0\" class=\"data row15 col0\" >0.00</td>\n",
       "    </tr>\n",
       "    <tr>\n",
       "      <th id=\"T_e28fb_level0_row16\" class=\"row_heading level0 row16\" >airports_nearest</th>\n",
       "      <td id=\"T_e28fb_row16_col0\" class=\"data row16 col0\" >23.00</td>\n",
       "    </tr>\n",
       "    <tr>\n",
       "      <th id=\"T_e28fb_level0_row17\" class=\"row_heading level0 row17\" >cityCenters_nearest</th>\n",
       "      <td id=\"T_e28fb_row17_col0\" class=\"data row17 col0\" >23.00</td>\n",
       "    </tr>\n",
       "    <tr>\n",
       "      <th id=\"T_e28fb_level0_row18\" class=\"row_heading level0 row18\" >parks_around3000</th>\n",
       "      <td id=\"T_e28fb_row18_col0\" class=\"data row18 col0\" >23.00</td>\n",
       "    </tr>\n",
       "    <tr>\n",
       "      <th id=\"T_e28fb_level0_row19\" class=\"row_heading level0 row19\" >parks_nearest</th>\n",
       "      <td id=\"T_e28fb_row19_col0\" class=\"data row19 col0\" >66.00</td>\n",
       "    </tr>\n",
       "    <tr>\n",
       "      <th id=\"T_e28fb_level0_row20\" class=\"row_heading level0 row20\" >ponds_around3000</th>\n",
       "      <td id=\"T_e28fb_row20_col0\" class=\"data row20 col0\" >23.00</td>\n",
       "    </tr>\n",
       "    <tr>\n",
       "      <th id=\"T_e28fb_level0_row21\" class=\"row_heading level0 row21\" >ponds_nearest</th>\n",
       "      <td id=\"T_e28fb_row21_col0\" class=\"data row21 col0\" >62.00</td>\n",
       "    </tr>\n",
       "    <tr>\n",
       "      <th id=\"T_e28fb_level0_row22\" class=\"row_heading level0 row22\" >days_exposition</th>\n",
       "      <td id=\"T_e28fb_row22_col0\" class=\"data row22 col0\" >13.00</td>\n",
       "    </tr>\n",
       "  </tbody>\n",
       "</table>\n"
      ],
      "text/plain": [
       "<pandas.io.formats.style.Styler at 0x1e911fe2730>"
      ]
     },
     "execution_count": 8,
     "metadata": {},
     "output_type": "execute_result"
    }
   ],
   "source": [
    " pd.DataFrame(round(df.isna().mean()*100,)).style.background_gradient('coolwarm').format(\"{:.2f}\")"
   ]
  },
  {
   "cell_type": "markdown",
   "metadata": {
    "pycharm": {
     "name": "#%% md\n"
    }
   },
   "source": [
    "приступаем к обработке пропущенных значений таблицы"
   ]
  },
  {
   "cell_type": "markdown",
   "metadata": {
    "pycharm": {
     "name": "#%% md\n"
    }
   },
   "source": [
    "df['balcony'] = df['balcony'].fillna(0)"
   ]
  },
  {
   "cell_type": "markdown",
   "metadata": {
    "pycharm": {
     "name": "#%% md\n"
    }
   },
   "source": [
    "df_median = df.groupby('cityCenters_nearest')['cityCenters_nearest'].median()\n",
    "df['cityCenters_nearest'] = df['cityCenters_nearest'].fillna(df_median)\n",
    "df.info()"
   ]
  },
  {
   "cell_type": "markdown",
   "metadata": {
    "pycharm": {
     "name": "#%% md\n"
    }
   },
   "source": [
    "для ознакомления со структурой данных, представленных в датафрейме, выведем на экран гистограммы отдельно  по каждому столбцу таблицы"
   ]
  },
  {
   "cell_type": "markdown",
   "metadata": {
    "pycharm": {
     "name": "#%% md\n"
    }
   },
   "source": [
    "### Предобработка данных"
   ]
  },
  {
   "cell_type": "markdown",
   "metadata": {
    "pycharm": {
     "name": "#%% md\n"
    }
   },
   "source": [
    "Начинаем работу с пропущенными значениями. Прежде всего, причины их появления могут быть различными:\n",
    "- человеческий фактор\n",
    "- отсутствие балкона в квартире, как такового\n",
    "- отсутствие поблизости аэропорта, парка, водоёма\n",
    "- технические проблемы сбора информации"
   ]
  },
  {
   "cell_type": "markdown",
   "metadata": {
    "pycharm": {
     "name": "#%% md\n"
    }
   },
   "source": [
    "для логичного представления информации в рамках проекта, представляется правильным последовательно обарботать каждый столбец, с оценкойй информации:\n",
    "- изучать гистограммы и боксплот\n",
    "- менять тип данных\n",
    "- решать вопрос с пропусками"
   ]
  },
  {
   "cell_type": "markdown",
   "metadata": {
    "pycharm": {
     "name": "#%% md\n"
    }
   },
   "source": [
    "#### Столбец \"total_images\""
   ]
  },
  {
   "cell_type": "markdown",
   "metadata": {
    "pycharm": {
     "name": "#%% md\n"
    }
   },
   "source": [
    "с учетом принятой концепции, напишем функцию, которая будет выводить нам блок информации и будем вызывать данную функцию для оценки каждого числового столбца по параметрам:\n",
    "- описательные статистики\n",
    "- график боксплот\n",
    "- гистограмму\n"
   ]
  },
  {
   "cell_type": "code",
   "execution_count": 9,
   "metadata": {
    "pycharm": {
     "name": "#%%\n"
    }
   },
   "outputs": [
    {
     "data": {
      "text/plain": [
       "count    23699.000000\n",
       "mean         9.858475\n",
       "std          5.682529\n",
       "min          0.000000\n",
       "25%          6.000000\n",
       "50%          9.000000\n",
       "75%         14.000000\n",
       "max         50.000000\n",
       "Name: total_images, dtype: float64"
      ]
     },
     "metadata": {},
     "output_type": "display_data"
    },
    {
     "data": {
      "image/png": "[encoded data removed]",
      "text/plain": [
       "<Figure size 288x576 with 1 Axes>"
      ]
     },
     "metadata": {},
     "output_type": "display_data"
    },
    {
     "data": {
      "image/png": "[encoded data removed]",
      "text/plain": [
       "<Figure size 432x288 with 1 Axes>"
      ]
     },
     "metadata": {},
     "output_type": "display_data"
    }
   ],
   "source": [
    "def basis_stat_f(target_column):\n",
    "    display(df[target_column].describe())\n",
    "    df.boxplot(column = target_column, figsize = (4,8))\n",
    "    plt.show()\n",
    "    df[target_column].hist(bins = 100)\n",
    "    \n",
    "basis_stat_f('total_images')"
   ]
  },
  {
   "cell_type": "code",
   "execution_count": 10,
   "metadata": {
    "pycharm": {
     "name": "#%%\n"
    }
   },
   "outputs": [
    {
     "data": {
      "text/plain": [
       "(23699, 23)"
      ]
     },
     "execution_count": 10,
     "metadata": {},
     "output_type": "execute_result"
    }
   ],
   "source": [
    "df.shape"
   ]
  },
  {
   "cell_type": "code",
   "execution_count": 11,
   "metadata": {
    "pycharm": {
     "name": "#%%\n"
    }
   },
   "outputs": [],
   "source": [
    "#df = df.loc[(df['total_images'] < 27)]\n",
    "df = df.query('total_images < 27')"
   ]
  },
  {
   "cell_type": "code",
   "execution_count": 12,
   "metadata": {
    "pycharm": {
     "name": "#%%\n"
    }
   },
   "outputs": [
    {
     "data": {
      "text/plain": [
       "(23674, 23)"
      ]
     },
     "execution_count": 12,
     "metadata": {},
     "output_type": "execute_result"
    }
   ],
   "source": [
    "df.shape"
   ]
  },
  {
   "cell_type": "markdown",
   "metadata": {
    "pycharm": {
     "name": "#%% md\n"
    }
   },
   "source": [
    "тип данных соответствует заявленному"
   ]
  },
  {
   "cell_type": "code",
   "execution_count": 13,
   "metadata": {
    "pycharm": {
     "name": "#%%\n"
    }
   },
   "outputs": [
    {
     "data": {
      "image/png": "[encoded data removed]",
      "text/plain": [
       "<Figure size 1224x144 with 1 Axes>"
      ]
     },
     "metadata": {},
     "output_type": "display_data"
    }
   ],
   "source": [
    "# check\n",
    "# для примера горизонтальный вид диаграммы размаха\n",
    "\n",
    "fig, ax = plt.subplots(figsize = (17,2))\n",
    "ax = df[['total_images']].boxplot(vert = False, ax =ax)\n",
    "ax.set_title('Диаграмма размаха значений ...')\n",
    "ax.set_xlim(0, 50);"
   ]
  },
  {
   "cell_type": "markdown",
   "metadata": {
    "pycharm": {
     "name": "#%% md\n"
    }
   },
   "source": [
    "#### Столбец \"last_price\""
   ]
  },
  {
   "cell_type": "markdown",
   "metadata": {
    "pycharm": {
     "name": "#%% md\n"
    }
   },
   "source": [
    "изменяем тип данных на int, согласно заявленному в описании"
   ]
  },
  {
   "cell_type": "code",
   "execution_count": 14,
   "metadata": {
    "pycharm": {
     "name": "#%%\n"
    }
   },
   "outputs": [],
   "source": [
    "df['last_price'] = df['last_price'].astype(int)"
   ]
  },
  {
   "cell_type": "markdown",
   "metadata": {
    "pycharm": {
     "name": "#%% md\n"
    }
   },
   "source": [
    "применяем функцию для выведения описательной статистики и графиков"
   ]
  },
  {
   "cell_type": "code",
   "execution_count": 15,
   "metadata": {
    "pycharm": {
     "name": "#%%\n"
    }
   },
   "outputs": [
    {
     "data": {
      "text/plain": [
       "count    2.367400e+04\n",
       "mean     6.536793e+06\n",
       "std      1.088963e+07\n",
       "min      1.219000e+04\n",
       "25%      3.400000e+06\n",
       "50%      4.650000e+06\n",
       "75%      6.790000e+06\n",
       "max      7.630000e+08\n",
       "Name: last_price, dtype: float64"
      ]
     },
     "metadata": {},
     "output_type": "display_data"
    },
    {
     "data": {
      "image/png": "[encoded data removed]",
      "text/plain": [
       "<Figure size 288x576 with 1 Axes>"
      ]
     },
     "metadata": {},
     "output_type": "display_data"
    },
    {
     "data": {
      "image/png": "[encoded data removed]",
      "text/plain": [
       "<Figure size 432x288 with 1 Axes>"
      ]
     },
     "metadata": {},
     "output_type": "display_data"
    }
   ],
   "source": [
    "\n",
    "basis_stat_f('last_price')"
   ]
  },
  {
   "cell_type": "markdown",
   "metadata": {
    "pycharm": {
     "name": "#%% md\n"
    }
   },
   "source": [
    "last_price цена на момент снятия с публикации имеет довольно выраженный разброс: это отражает значительная разница между средним 6.54 и медианой 4.65, не смотря на то, что стандартное отклонение от среднего 1.0, разница среднее vs медиана довольно высока. Это говорит об широком диапазоне данного признака. От чего зависит цена на квартиры постараемся выяснить в рамках данного исследования. В тоже самое время, построенная гистограмма ничего нам не сказала про распределение признака, т к масштаб ее довольно маленький.\n",
    "Из некорректного - мы видим,что есть случаи \"около нуля\", которых быть не может, т к цена квартиры не может стоить \"ноль\". Необходимо создать более детальную гистограмму, дабы разобраться с этими случаями. "
   ]
  },
  {
   "cell_type": "markdown",
   "metadata": {
    "pycharm": {
     "name": "#%% md\n"
    }
   },
   "source": [
    "На гистограмме выше не большое кол-во значений расположено около нуля, т к масштаб не позволяет изучить детаоли. Изучим интересущие нас значения под масштабом"
   ]
  },
  {
   "cell_type": "code",
   "execution_count": 16,
   "metadata": {
    "pycharm": {
     "name": "#%%\n"
    }
   },
   "outputs": [
    {
     "data": {
      "text/plain": [
       "array([[<AxesSubplot:title={'center':'last_price'}>]], dtype=object)"
      ]
     },
     "execution_count": 16,
     "metadata": {},
     "output_type": "execute_result"
    },
    {
     "data": {
      "image/png": "[encoded data removed]",
      "text/plain": [
       "<Figure size 432x288 with 1 Axes>"
      ]
     },
     "metadata": {},
     "output_type": "display_data"
    },
    {
     "data": {
      "image/png": "[encoded data removed]",
      "text/plain": [
       "<Figure size 432x288 with 1 Axes>"
      ]
     },
     "metadata": {},
     "output_type": "display_data"
    }
   ],
   "source": [
    "df.hist('last_price', bins = 100, range=(0, 1000000))\n",
    "df.hist('last_price', bins = 100, range=(50000000, 800000000))"
   ]
  },
  {
   "cell_type": "markdown",
   "metadata": {
    "pycharm": {
     "name": "#%% md\n"
    }
   },
   "source": [
    "Мы видим, что есть \"выбросы\", от которых надо избавиться, чтобы данные были более равномерными. Для начала, избавимся от всего, что больше 200 000 000 и меньше 400 000."
   ]
  },
  {
   "cell_type": "code",
   "execution_count": 17,
   "metadata": {
    "pycharm": {
     "name": "#%%\n"
    }
   },
   "outputs": [
    {
     "data": {
      "text/plain": [
       "(23674, 23)"
      ]
     },
     "execution_count": 17,
     "metadata": {},
     "output_type": "execute_result"
    }
   ],
   "source": [
    "df.shape\n"
   ]
  },
  {
   "cell_type": "code",
   "execution_count": 18,
   "metadata": {
    "pycharm": {
     "name": "#%%\n"
    }
   },
   "outputs": [],
   "source": [
    "\n",
    "df = df.loc[(df['last_price'] > 400000)& (df['last_price'] < 200000000)]\n",
    "#df = df.query('400000<last_price<100000000')\n",
    "df = df.reset_index(drop = True)\n",
    "\n",
    "#display(df.index)\n",
    "#df['last_price'].describe()\n",
    " "
   ]
  },
  {
   "cell_type": "code",
   "execution_count": 19,
   "metadata": {
    "pycharm": {
     "name": "#%%\n"
    }
   },
   "outputs": [
    {
     "data": {
      "text/plain": [
       "(23664, 23)"
      ]
     },
     "execution_count": 19,
     "metadata": {},
     "output_type": "execute_result"
    }
   ],
   "source": [
    "df.shape"
   ]
  },
  {
   "cell_type": "markdown",
   "metadata": {
    "pycharm": {
     "name": "#%% md\n"
    }
   },
   "source": [
    "##### Итог обработки столбца: убрали 10 строк с выбросами"
   ]
  },
  {
   "cell_type": "markdown",
   "metadata": {
    "pycharm": {
     "name": "#%% md\n"
    }
   },
   "source": [
    "#### Столбец \"total_area\""
   ]
  },
  {
   "cell_type": "code",
   "execution_count": 20,
   "metadata": {
    "pycharm": {
     "name": "#%%\n"
    }
   },
   "outputs": [
    {
     "data": {
      "text/plain": [
       "count    23664.000000\n",
       "mean        60.171771\n",
       "std         34.657135\n",
       "min         12.000000\n",
       "25%         40.000000\n",
       "50%         52.000000\n",
       "75%         69.700000\n",
       "max        631.200000\n",
       "Name: total_area, dtype: float64"
      ]
     },
     "metadata": {},
     "output_type": "display_data"
    },
    {
     "data": {
      "image/png": "[encoded data removed]",
      "text/plain": [
       "<Figure size 288x576 with 1 Axes>"
      ]
     },
     "metadata": {},
     "output_type": "display_data"
    },
    {
     "data": {
      "image/png": "[encoded data removed]",
      "text/plain": [
       "<Figure size 432x288 with 1 Axes>"
      ]
     },
     "metadata": {},
     "output_type": "display_data"
    }
   ],
   "source": [
    "basis_stat_f('total_area')"
   ]
  },
  {
   "cell_type": "markdown",
   "metadata": {
    "pycharm": {
     "name": "#%% md\n"
    }
   },
   "source": [
    "##### в деталях изучим распределение данных в диапазоне 200-600 кв м"
   ]
  },
  {
   "cell_type": "code",
   "execution_count": 21,
   "metadata": {
    "pycharm": {
     "name": "#%%\n"
    }
   },
   "outputs": [
    {
     "data": {
      "text/plain": [
       "array([[<AxesSubplot:title={'center':'total_area'}>]], dtype=object)"
      ]
     },
     "execution_count": 21,
     "metadata": {},
     "output_type": "execute_result"
    },
    {
     "data": {
      "image/png": "[encoded data removed]",
      "text/plain": [
       "<Figure size 1008x216 with 1 Axes>"
      ]
     },
     "metadata": {},
     "output_type": "display_data"
    }
   ],
   "source": [
    "df.hist('total_area', bins=100, figsize=(14,3), range=(200, 600))"
   ]
  },
  {
   "cell_type": "markdown",
   "metadata": {
    "pycharm": {
     "name": "#%% md\n"
    }
   },
   "source": [
    "##### Из описательной статистики следует, что большая часть объектов недвижимости (75%) имеет площадь 70 кв метров. А т к масимальное значение объекта, представленного в датасете до 631 кв м, мы видим довольно значительные выбросы. Однако в целом, значения в выбросах распределены равномерно - это видно на пследней гистограмме, в которой мы предметно изучали распределение значение в диапазоне 200 - 600 кв метров.  На этой гистограмме видно, что минимальное кол-во объектов имеет площадь от 300 до 600 кв метров. Пока рабочая гипотеза такая: можно подумать об удалении выбросов свыше 300 кв м. Реализуем на практике."
   ]
  },
  {
   "cell_type": "code",
   "execution_count": 22,
   "metadata": {
    "pycharm": {
     "name": "#%%\n"
    }
   },
   "outputs": [
    {
     "data": {
      "text/plain": [
       "(23664, 23)"
      ]
     },
     "execution_count": 22,
     "metadata": {},
     "output_type": "execute_result"
    }
   ],
   "source": [
    "df.shape"
   ]
  },
  {
   "cell_type": "code",
   "execution_count": 23,
   "metadata": {
    "pycharm": {
     "name": "#%%\n"
    }
   },
   "outputs": [],
   "source": [
    "df = df.loc[(df['total_area'] < 300)]\n",
    "#df = df.query('total_area<400')\n",
    "\n",
    "#df = df.loc['total_area'] < 550\n",
    "df = df.reset_index(drop = True)"
   ]
  },
  {
   "cell_type": "code",
   "execution_count": 24,
   "metadata": {
    "pycharm": {
     "name": "#%%\n"
    }
   },
   "outputs": [],
   "source": [
    "df = df. loc[df['total_area'] < 500]"
   ]
  },
  {
   "cell_type": "code",
   "execution_count": 25,
   "metadata": {
    "pycharm": {
     "name": "#%%\n"
    }
   },
   "outputs": [
    {
     "data": {
      "text/plain": [
       "(23607, 23)"
      ]
     },
     "execution_count": 25,
     "metadata": {},
     "output_type": "execute_result"
    }
   ],
   "source": [
    "df.shape"
   ]
  },
  {
   "cell_type": "markdown",
   "metadata": {
    "pycharm": {
     "name": "#%% md\n"
    }
   },
   "source": [
    "##### Вывод: удалили по данной колонке 57 строк"
   ]
  },
  {
   "cell_type": "markdown",
   "metadata": {
    "pycharm": {
     "name": "#%% md\n"
    }
   },
   "source": [
    "#### Столбец \"first_day_exposition\""
   ]
  },
  {
   "cell_type": "markdown",
   "metadata": {
    "pycharm": {
     "name": "#%% md\n"
    }
   },
   "source": [
    "##### данный столбец имеет тип данных object, однако должен иметь тип данных datetime. Исправим данную ситуацию. Соответственно, применить к нему нашу функцию с описательной статистикой и графиками мы не можем. "
   ]
  },
  {
   "cell_type": "code",
   "execution_count": 26,
   "metadata": {
    "pycharm": {
     "name": "#%%\n"
    }
   },
   "outputs": [],
   "source": [
    "df['first_day_exposition'] = pd.to_datetime(df['first_day_exposition'], format='%Y-%m-%dT%H:%M:%S')"
   ]
  },
  {
   "cell_type": "markdown",
   "metadata": {
    "pycharm": {
     "name": "#%% md\n"
    }
   },
   "source": [
    "удостоверяемся, что тип данных изменен на нужный нам"
   ]
  },
  {
   "cell_type": "code",
   "execution_count": 27,
   "metadata": {
    "pycharm": {
     "name": "#%%\n"
    }
   },
   "outputs": [
    {
     "name": "stdout",
     "output_type": "stream",
     "text": [
      "0   2019-03-07\n",
      "1   2018-12-04\n",
      "2   2015-08-20\n",
      "3   2015-07-24\n",
      "4   2018-06-19\n",
      "Name: first_day_exposition, dtype: datetime64[ns]\n",
      "<class 'pandas.core.frame.DataFrame'>\n",
      "Int64Index: 23607 entries, 0 to 23606\n",
      "Data columns (total 23 columns):\n",
      " #   Column                Non-Null Count  Dtype         \n",
      "---  ------                --------------  -----         \n",
      " 0   Unnamed: 0            23607 non-null  int64         \n",
      " 1   total_images          23607 non-null  int64         \n",
      " 2   last_price            23607 non-null  int32         \n",
      " 3   total_area            23607 non-null  float64       \n",
      " 4   first_day_exposition  23607 non-null  datetime64[ns]\n",
      " 5   rooms                 23607 non-null  int64         \n",
      " 6   ceiling_height        14453 non-null  float64       \n",
      " 7   floors_total          23521 non-null  float64       \n",
      " 8   living_area           21717 non-null  float64       \n",
      " 9   floor                 23607 non-null  int64         \n",
      " 10  is_apartment          2769 non-null   float64       \n",
      " 11  studio                23607 non-null  bool          \n",
      " 12  open_plan             23607 non-null  bool          \n",
      " 13  kitchen_area          21342 non-null  float64       \n",
      " 14  balcony               12137 non-null  float64       \n",
      " 15  locality_name         23558 non-null  object        \n",
      " 16  airports_nearest      18073 non-null  float64       \n",
      " 17  cityCenters_nearest   18094 non-null  float64       \n",
      " 18  parks_around3000      18095 non-null  float64       \n",
      " 19  parks_nearest         8029 non-null   float64       \n",
      " 20  ponds_around3000      18095 non-null  float64       \n",
      " 21  ponds_nearest         9056 non-null   float64       \n",
      " 22  days_exposition       20441 non-null  float64       \n",
      "dtypes: bool(2), datetime64[ns](1), float64(14), int32(1), int64(4), object(1)\n",
      "memory usage: 3.9+ MB\n"
     ]
    }
   ],
   "source": [
    "print(df['first_day_exposition'].head(5))\n",
    "\n",
    "df.info()"
   ]
  },
  {
   "cell_type": "markdown",
   "metadata": {
    "pycharm": {
     "name": "#%% md\n"
    }
   },
   "source": [
    "все в порядке: тип данных соответствует содержанию"
   ]
  },
  {
   "cell_type": "markdown",
   "metadata": {
    "pycharm": {
     "name": "#%% md\n"
    }
   },
   "source": [
    "#### Столбец \"rooms\""
   ]
  },
  {
   "cell_type": "markdown",
   "metadata": {
    "pycharm": {
     "name": "#%% md\n"
    }
   },
   "source": [
    "данный столбец является критически важным для изучения стоимости квартиры, т к число комнат напрямую влияет на цену объекта. Изучим описательные статистики и построим диаграммы распределения данных, используя нашу функцию."
   ]
  },
  {
   "cell_type": "code",
   "execution_count": 28,
   "metadata": {
    "pycharm": {
     "name": "#%%\n"
    }
   },
   "outputs": [
    {
     "data": {
      "text/plain": [
       "count    23607.000000\n",
       "mean         2.057695\n",
       "std          1.044576\n",
       "min          0.000000\n",
       "25%          1.000000\n",
       "50%          2.000000\n",
       "75%          3.000000\n",
       "max         16.000000\n",
       "Name: rooms, dtype: float64"
      ]
     },
     "metadata": {},
     "output_type": "display_data"
    },
    {
     "data": {
      "image/png": "[encoded data removed]",
      "text/plain": [
       "<Figure size 288x576 with 1 Axes>"
      ]
     },
     "metadata": {},
     "output_type": "display_data"
    },
    {
     "data": {
      "text/plain": [
       "1     8044\n",
       "2     7935\n",
       "3     5797\n",
       "4     1170\n",
       "5      310\n",
       "0      196\n",
       "6       93\n",
       "7       43\n",
       "8        8\n",
       "9        4\n",
       "10       3\n",
       "11       2\n",
       "16       1\n",
       "14       1\n",
       "Name: rooms, dtype: int64"
      ]
     },
     "execution_count": 28,
     "metadata": {},
     "output_type": "execute_result"
    },
    {
     "data": {
      "image/png": "[encoded data removed]",
      "text/plain": [
       "<Figure size 432x288 with 1 Axes>"
      ]
     },
     "metadata": {},
     "output_type": "display_data"
    }
   ],
   "source": [
    "basis_stat_f('rooms')\n",
    "df['rooms'].value_counts()"
   ]
  },
  {
   "cell_type": "markdown",
   "metadata": {
    "pycharm": {
     "name": "#%% md\n"
    }
   },
   "source": [
    "в целом данные распределны корректно, но внимание на себя обращает наличие объектов с 0 комнат - такого не может быть.  Большая же часть объектов (75%) имеет до 3 комнат. Выбросы начинаются от 8 комнат, т к там объектов всего 8, а 7 комнат - 43 объекта. Объектов с 0 комнат 196 штук. Таким образом, принимаем решение: удалить объекты с 0 комнат и более 7 комнат."
   ]
  },
  {
   "cell_type": "code",
   "execution_count": 29,
   "metadata": {
    "pycharm": {
     "name": "#%%\n"
    }
   },
   "outputs": [
    {
     "data": {
      "text/plain": [
       "0        3\n",
       "1        1\n",
       "2        2\n",
       "3        3\n",
       "4        2\n",
       "        ..\n",
       "23602    3\n",
       "23603    3\n",
       "23604    2\n",
       "23605    2\n",
       "23606    1\n",
       "Name: rooms, Length: 23607, dtype: int64"
      ]
     },
     "execution_count": 29,
     "metadata": {},
     "output_type": "execute_result"
    }
   ],
   "source": [
    "df['rooms']"
   ]
  },
  {
   "cell_type": "code",
   "execution_count": 30,
   "metadata": {
    "pycharm": {
     "name": "#%%\n"
    }
   },
   "outputs": [],
   "source": [
    "df = df.loc[df['rooms'] < 8]"
   ]
  },
  {
   "cell_type": "markdown",
   "metadata": {
    "pycharm": {
     "name": "#%% md\n"
    }
   },
   "source": [
    "на этом этапе нам необходимо категоризировать квартиры по площади, т е принять условно какой площади, сколько комнат соответствует."
   ]
  },
  {
   "cell_type": "markdown",
   "metadata": {
    "pycharm": {
     "name": "#%% md\n"
    }
   },
   "source": [
    "для начала разберемся с 0 комнат - смотрим какая площадь соотетствует этим данным."
   ]
  },
  {
   "cell_type": "code",
   "execution_count": 31,
   "metadata": {
    "pycharm": {
     "name": "#%%\n"
    }
   },
   "outputs": [
    {
     "data": {
      "text/plain": [
       "count    196.000000\n",
       "mean      27.536276\n",
       "std        8.368574\n",
       "min       15.500000\n",
       "25%       24.037500\n",
       "50%       26.025000\n",
       "75%       28.325000\n",
       "max       98.400000\n",
       "Name: total_area, dtype: float64"
      ]
     },
     "execution_count": 31,
     "metadata": {},
     "output_type": "execute_result"
    }
   ],
   "source": [
    "df.query('rooms == 0')['total_area'].describe()"
   ]
  },
  {
   "cell_type": "markdown",
   "metadata": {
    "pycharm": {
     "name": "#%% md\n"
    }
   },
   "source": [
    "для анализа распределения площади внутри группы с нулевыми значениями, выведем площади на экран"
   ]
  },
  {
   "cell_type": "code",
   "execution_count": 32,
   "metadata": {
    "pycharm": {
     "name": "#%%\n"
    }
   },
   "outputs": [
    {
     "data": {
      "text/plain": [
       "21213    28.50\n",
       "2976     28.90\n",
       "12937    29.00\n",
       "19800    29.00\n",
       "3418     29.00\n",
       "2042     29.00\n",
       "23500    29.00\n",
       "15645    29.00\n",
       "1163     29.00\n",
       "18478    29.00\n",
       "10371    29.10\n",
       "7226     29.20\n",
       "4949     29.30\n",
       "7256     30.00\n",
       "22775    30.00\n",
       "1587     30.00\n",
       "21965    30.10\n",
       "5931     30.30\n",
       "19659    30.50\n",
       "13813    31.00\n",
       "17883    31.00\n",
       "6775     31.00\n",
       "3131     31.00\n",
       "1515     31.00\n",
       "17957    31.00\n",
       "15689    31.00\n",
       "17734    31.10\n",
       "6192     32.00\n",
       "1164     32.00\n",
       "15647    32.03\n",
       "15637    32.20\n",
       "6978     32.30\n",
       "12178    32.40\n",
       "18061    32.50\n",
       "16452    32.80\n",
       "21542    34.00\n",
       "505      34.40\n",
       "4662     35.00\n",
       "833      35.00\n",
       "9011     38.30\n",
       "16063    42.10\n",
       "7207     42.63\n",
       "15254    43.30\n",
       "9963     44.20\n",
       "13557    58.40\n",
       "21141    71.00\n",
       "3440     73.60\n",
       "20004    98.40\n",
       "Name: total_area, dtype: float64"
      ]
     },
     "execution_count": 32,
     "metadata": {},
     "output_type": "execute_result"
    }
   ],
   "source": [
    "df.query('rooms==0 and total_area>28.4')['total_area'].sort_values()"
   ]
  },
  {
   "cell_type": "markdown",
   "metadata": {
    "pycharm": {
     "name": "#%% md\n"
    }
   },
   "source": [
    "мы видим, что средняя площадь такой квартиры до 30 кв м, отклонение относительно среднего 8 кв м. Т е квартира до 30 кв = однокомнатная квартира. Сопоставим кол-во комнат и площадь квартиры, для чего воспользуемся циклом. Максимальный размер площади - 98.4 кв м - соответствует 4 комнатной квартире."
   ]
  },
  {
   "cell_type": "code",
   "execution_count": 33,
   "metadata": {
    "pycharm": {
     "name": "#%%\n"
    }
   },
   "outputs": [
    {
     "name": "stdout",
     "output_type": "stream",
     "text": [
      "1 комнатная квартира: count    8044.000000\n",
      "mean       37.588047\n",
      "std         7.831294\n",
      "min        12.000000\n",
      "25%        32.500000\n",
      "50%        36.530000\n",
      "75%        41.000000\n",
      "max       190.000000\n",
      "Name: total_area, dtype: float64\n",
      "\n",
      "2 комнатная квартира: count    7935.000000\n",
      "mean       55.826239\n",
      "std        13.098713\n",
      "min        20.000000\n",
      "25%        46.000000\n",
      "50%        53.000000\n",
      "75%        62.000000\n",
      "max       196.000000\n",
      "Name: total_area, dtype: float64\n",
      "\n",
      "3 комнатная квартира: count    5797.000000\n",
      "mean       77.653091\n",
      "std        22.878113\n",
      "min        40.100000\n",
      "25%        62.000000\n",
      "50%        72.900000\n",
      "75%        86.900000\n",
      "max       280.000000\n",
      "Name: total_area, dtype: float64\n",
      "\n",
      "4 комнатная квартира: count    1170.000000\n",
      "mean      106.278564\n",
      "std        39.785195\n",
      "min        42.000000\n",
      "25%        77.625000\n",
      "50%        98.950000\n",
      "75%       125.000000\n",
      "max       295.000000\n",
      "Name: total_area, dtype: float64\n",
      "\n"
     ]
    }
   ],
   "source": [
    "for n in range(1,5):\n",
    "    print(f'{n} комнатная квартира:',df.query('rooms == @n')['total_area'].describe())\n",
    "    print()"
   ]
  },
  {
   "cell_type": "markdown",
   "metadata": {
    "pycharm": {
     "name": "#%% md\n"
    }
   },
   "source": [
    "Пришло время категоризировать данные \"нулевых\" комнат, с учетом средней и стандартного отклонения:\n",
    "\n",
    "Все что ниже 40 кв.м - сделаем 1 комнатными\n",
    "от 40 до 60 кв.м - сделаем 2 комнатной\n",
    "от 60 до 80 кв.м сделаем 3 комнатными\n",
    "от 80 кв.м сделаем 4 комнатной\n",
    "371 кв.м удалим, так как сложно понять сколько здесь комнат\n",
    "\n",
    "за верхнюю границу примем площадь 125 кв метров (3 прецентиль 4-х комн квартир). Все, что выше этой площади - уберем, т к не понятно, сколько там комнат."
   ]
  },
  {
   "cell_type": "code",
   "execution_count": 34,
   "metadata": {
    "pycharm": {
     "name": "#%%\n"
    },
    "scrolled": true
   },
   "outputs": [
    {
     "data": {
      "text/html": [
       "<div>\n",
       "<style scoped>\n",
       "    .dataframe tbody tr th:only-of-type {\n",
       "        vertical-align: middle;\n",
       "    }\n",
       "\n",
       "    .dataframe tbody tr th {\n",
       "        vertical-align: top;\n",
       "    }\n",
       "\n",
       "    .dataframe thead th {\n",
       "        text-align: right;\n",
       "    }\n",
       "</style>\n",
       "<table border=\"1\" class=\"dataframe\">\n",
       "  <thead>\n",
       "    <tr style=\"text-align: right;\">\n",
       "      <th></th>\n",
       "      <th>Unnamed: 0</th>\n",
       "      <th>total_images</th>\n",
       "      <th>last_price</th>\n",
       "      <th>total_area</th>\n",
       "      <th>first_day_exposition</th>\n",
       "      <th>rooms</th>\n",
       "      <th>ceiling_height</th>\n",
       "      <th>floors_total</th>\n",
       "      <th>living_area</th>\n",
       "      <th>floor</th>\n",
       "      <th>...</th>\n",
       "      <th>kitchen_area</th>\n",
       "      <th>balcony</th>\n",
       "      <th>locality_name</th>\n",
       "      <th>airports_nearest</th>\n",
       "      <th>cityCenters_nearest</th>\n",
       "      <th>parks_around3000</th>\n",
       "      <th>parks_nearest</th>\n",
       "      <th>ponds_around3000</th>\n",
       "      <th>ponds_nearest</th>\n",
       "      <th>days_exposition</th>\n",
       "    </tr>\n",
       "  </thead>\n",
       "  <tbody>\n",
       "    <tr>\n",
       "      <th>20004</th>\n",
       "      <td>False</td>\n",
       "      <td>False</td>\n",
       "      <td>False</td>\n",
       "      <td>False</td>\n",
       "      <td>False</td>\n",
       "      <td>False</td>\n",
       "      <td>False</td>\n",
       "      <td>False</td>\n",
       "      <td>False</td>\n",
       "      <td>False</td>\n",
       "      <td>...</td>\n",
       "      <td>False</td>\n",
       "      <td>False</td>\n",
       "      <td>False</td>\n",
       "      <td>False</td>\n",
       "      <td>False</td>\n",
       "      <td>False</td>\n",
       "      <td>False</td>\n",
       "      <td>False</td>\n",
       "      <td>False</td>\n",
       "      <td>False</td>\n",
       "    </tr>\n",
       "  </tbody>\n",
       "</table>\n",
       "<p>1 rows × 23 columns</p>\n",
       "</div>"
      ],
      "text/plain": [
       "       Unnamed: 0  total_images  last_price  total_area  first_day_exposition  \\\n",
       "20004       False         False       False       False                 False   \n",
       "\n",
       "       rooms  ceiling_height  floors_total  living_area  floor  ...  \\\n",
       "20004  False           False         False        False  False  ...   \n",
       "\n",
       "       kitchen_area  balcony  locality_name  airports_nearest  \\\n",
       "20004         False    False          False             False   \n",
       "\n",
       "       cityCenters_nearest  parks_around3000  parks_nearest  ponds_around3000  \\\n",
       "20004                False             False          False             False   \n",
       "\n",
       "       ponds_nearest  days_exposition  \n",
       "20004          False            False  \n",
       "\n",
       "[1 rows x 23 columns]"
      ]
     },
     "execution_count": 34,
     "metadata": {},
     "output_type": "execute_result"
    }
   ],
   "source": [
    "df.loc[(df['rooms'] == 0) & (df['total_area'] < 40)]== 1\n",
    "df.loc[(df['rooms'] == 0) & (df['total_area'] > 40) & (df['total_area'] < 60)]== 2\n",
    "df.loc[(df['rooms'] == 0) & (df['total_area'] > 60) & (df['total_area'] < 80)]== 3\n",
    "df.loc[(df['rooms'] == 0) & (df['total_area'] > 80) & (df['total_area'] < 125)]== 4"
   ]
  },
  {
   "cell_type": "code",
   "execution_count": 35,
   "metadata": {
    "pycharm": {
     "name": "#%%\n"
    }
   },
   "outputs": [],
   "source": [
    "#df['rooms'] = df.query('rooms < 8')"
   ]
  },
  {
   "cell_type": "markdown",
   "metadata": {
    "pycharm": {
     "name": "#%% md\n"
    }
   },
   "source": [
    "##### Вывод: Итак, мы не удаляли строки, по-этому, переиндексировать ничего не надо. По-сути, на основе сопоставления кол-ва комнат и площади имеющихся квартир, мы категоризировали квартиры с кол-вом комнат в нашем датафрейме = 0, т е заменили нулевые значения, восполнив датафрейм. "
   ]
  },
  {
   "cell_type": "markdown",
   "metadata": {
    "pycharm": {
     "name": "#%% md\n"
    }
   },
   "source": [
    "#### Столбец \"ceiling_height\""
   ]
  },
  {
   "cell_type": "markdown",
   "metadata": {
    "pycharm": {
     "name": "#%% md\n"
    }
   },
   "source": [
    "В данной колонке довольно большое количество пропущенных значений. Эти пропуски вероятнее всего, появились, т к собственники квартир не считая данный параметр особенно важным, приняли решение, его не заполнять. По-этому, целесообразно заменить их медианными значениями."
   ]
  },
  {
   "cell_type": "code",
   "execution_count": 36,
   "metadata": {
    "pycharm": {
     "name": "#%%\n"
    }
   },
   "outputs": [
    {
     "data": {
      "text/plain": [
       "count    14438.000000\n",
       "mean         2.768687\n",
       "std          1.262666\n",
       "min          1.000000\n",
       "25%          2.510000\n",
       "50%          2.650000\n",
       "75%          2.800000\n",
       "max        100.000000\n",
       "Name: ceiling_height, dtype: float64"
      ]
     },
     "metadata": {},
     "output_type": "display_data"
    },
    {
     "data": {
      "image/png": "[encoded data removed]",
      "text/plain": [
       "<Figure size 288x576 with 1 Axes>"
      ]
     },
     "metadata": {},
     "output_type": "display_data"
    },
    {
     "data": {
      "image/png": "[encoded data removed]",
      "text/plain": [
       "<Figure size 432x288 with 1 Axes>"
      ]
     },
     "metadata": {},
     "output_type": "display_data"
    }
   ],
   "source": [
    "basis_stat_f('ceiling_height')"
   ]
  },
  {
   "cell_type": "markdown",
   "metadata": {
    "pycharm": {
     "name": "#%% md\n"
    }
   },
   "source": [
    "посчитаем кол-во уникальных зачений в выборке и более подробно исследуем выбросы - есть подозрение, что они связаны с тем, что не поставлен разделитель между метрами и сантиметрами."
   ]
  },
  {
   "cell_type": "code",
   "execution_count": 37,
   "metadata": {
    "pycharm": {
     "name": "#%%\n"
    }
   },
   "outputs": [
    {
     "data": {
      "text/plain": [
       "2.50    3514\n",
       "2.60    1645\n",
       "2.70    1571\n",
       "3.00    1104\n",
       "2.80     992\n",
       "        ... \n",
       "3.84       1\n",
       "4.30       1\n",
       "3.39       1\n",
       "5.30       1\n",
       "3.59       1\n",
       "Name: ceiling_height, Length: 180, dtype: int64"
      ]
     },
     "execution_count": 37,
     "metadata": {},
     "output_type": "execute_result"
    }
   ],
   "source": [
    "df['ceiling_height'].value_counts(ascending=False)"
   ]
  },
  {
   "cell_type": "code",
   "execution_count": 38,
   "metadata": {
    "pycharm": {
     "name": "#%%\n"
    }
   },
   "outputs": [
    {
     "data": {
      "text/plain": [
       "<AxesSubplot:>"
      ]
     },
     "execution_count": 38,
     "metadata": {},
     "output_type": "execute_result"
    },
    {
     "data": {
      "image/png": "[encoded data removed]",
      "text/plain": [
       "<Figure size 864x216 with 1 Axes>"
      ]
     },
     "metadata": {},
     "output_type": "display_data"
    }
   ],
   "source": [
    "df['ceiling_height'].hist(figsize=(12,3), bins=60, range=(2.0, 4.5))\n"
   ]
  },
  {
   "cell_type": "code",
   "execution_count": 39,
   "metadata": {
    "pycharm": {
     "name": "#%%\n"
    }
   },
   "outputs": [
    {
     "data": {
      "text/plain": [
       "<AxesSubplot:>"
      ]
     },
     "execution_count": 39,
     "metadata": {},
     "output_type": "execute_result"
    },
    {
     "data": {
      "image/png": "[encoded data removed]",
      "text/plain": [
       "<Figure size 864x216 with 1 Axes>"
      ]
     },
     "metadata": {},
     "output_type": "display_data"
    }
   ],
   "source": [
    "df['ceiling_height'].hist(figsize=(12,3), bins=60, range=(4.5, 40))"
   ]
  },
  {
   "cell_type": "markdown",
   "metadata": {
    "pycharm": {
     "name": "#%% md\n"
    }
   },
   "source": [
    "мы наблюдаем выбросы в размере высоты потолков. Попробуем сопоставить эти выбросы с другой информацией по квартире: сделаем срез по данным квартирам и решим что делать далее."
   ]
  },
  {
   "cell_type": "code",
   "execution_count": 40,
   "metadata": {
    "pycharm": {
     "name": "#%%\n"
    }
   },
   "outputs": [
    {
     "data": {
      "text/html": [
       "<div>\n",
       "<style scoped>\n",
       "    .dataframe tbody tr th:only-of-type {\n",
       "        vertical-align: middle;\n",
       "    }\n",
       "\n",
       "    .dataframe tbody tr th {\n",
       "        vertical-align: top;\n",
       "    }\n",
       "\n",
       "    .dataframe thead th {\n",
       "        text-align: right;\n",
       "    }\n",
       "</style>\n",
       "<table border=\"1\" class=\"dataframe\">\n",
       "  <thead>\n",
       "    <tr style=\"text-align: right;\">\n",
       "      <th></th>\n",
       "      <th>Unnamed: 0</th>\n",
       "      <th>total_images</th>\n",
       "      <th>last_price</th>\n",
       "      <th>total_area</th>\n",
       "      <th>first_day_exposition</th>\n",
       "      <th>rooms</th>\n",
       "      <th>ceiling_height</th>\n",
       "      <th>floors_total</th>\n",
       "      <th>living_area</th>\n",
       "      <th>floor</th>\n",
       "      <th>...</th>\n",
       "      <th>kitchen_area</th>\n",
       "      <th>balcony</th>\n",
       "      <th>locality_name</th>\n",
       "      <th>airports_nearest</th>\n",
       "      <th>cityCenters_nearest</th>\n",
       "      <th>parks_around3000</th>\n",
       "      <th>parks_nearest</th>\n",
       "      <th>ponds_around3000</th>\n",
       "      <th>ponds_nearest</th>\n",
       "      <th>days_exposition</th>\n",
       "    </tr>\n",
       "  </thead>\n",
       "  <tbody>\n",
       "    <tr>\n",
       "      <th>352</th>\n",
       "      <td>355</td>\n",
       "      <td>17</td>\n",
       "      <td>3600000</td>\n",
       "      <td>55.2</td>\n",
       "      <td>2018-07-12</td>\n",
       "      <td>2</td>\n",
       "      <td>25.0</td>\n",
       "      <td>5.0</td>\n",
       "      <td>32.0</td>\n",
       "      <td>2</td>\n",
       "      <td>...</td>\n",
       "      <td>NaN</td>\n",
       "      <td>2.0</td>\n",
       "      <td>Гатчина</td>\n",
       "      <td>NaN</td>\n",
       "      <td>NaN</td>\n",
       "      <td>NaN</td>\n",
       "      <td>NaN</td>\n",
       "      <td>NaN</td>\n",
       "      <td>NaN</td>\n",
       "      <td>259.0</td>\n",
       "    </tr>\n",
       "    <tr>\n",
       "      <th>3132</th>\n",
       "      <td>3148</td>\n",
       "      <td>14</td>\n",
       "      <td>2900000</td>\n",
       "      <td>75.0</td>\n",
       "      <td>2018-11-12</td>\n",
       "      <td>3</td>\n",
       "      <td>32.0</td>\n",
       "      <td>3.0</td>\n",
       "      <td>53.0</td>\n",
       "      <td>2</td>\n",
       "      <td>...</td>\n",
       "      <td>8.0</td>\n",
       "      <td>NaN</td>\n",
       "      <td>Волхов</td>\n",
       "      <td>NaN</td>\n",
       "      <td>NaN</td>\n",
       "      <td>NaN</td>\n",
       "      <td>NaN</td>\n",
       "      <td>NaN</td>\n",
       "      <td>NaN</td>\n",
       "      <td>NaN</td>\n",
       "    </tr>\n",
       "    <tr>\n",
       "      <th>4622</th>\n",
       "      <td>4643</td>\n",
       "      <td>0</td>\n",
       "      <td>4300000</td>\n",
       "      <td>45.0</td>\n",
       "      <td>2018-02-01</td>\n",
       "      <td>2</td>\n",
       "      <td>25.0</td>\n",
       "      <td>9.0</td>\n",
       "      <td>30.0</td>\n",
       "      <td>2</td>\n",
       "      <td>...</td>\n",
       "      <td>7.0</td>\n",
       "      <td>1.0</td>\n",
       "      <td>Санкт-Петербург</td>\n",
       "      <td>12016.0</td>\n",
       "      <td>13256.0</td>\n",
       "      <td>1.0</td>\n",
       "      <td>658.0</td>\n",
       "      <td>1.0</td>\n",
       "      <td>331.0</td>\n",
       "      <td>181.0</td>\n",
       "    </tr>\n",
       "    <tr>\n",
       "      <th>4854</th>\n",
       "      <td>4876</td>\n",
       "      <td>7</td>\n",
       "      <td>3000000</td>\n",
       "      <td>25.0</td>\n",
       "      <td>2017-09-27</td>\n",
       "      <td>0</td>\n",
       "      <td>27.0</td>\n",
       "      <td>25.0</td>\n",
       "      <td>17.0</td>\n",
       "      <td>17</td>\n",
       "      <td>...</td>\n",
       "      <td>NaN</td>\n",
       "      <td>2.0</td>\n",
       "      <td>посёлок Мурино</td>\n",
       "      <td>NaN</td>\n",
       "      <td>NaN</td>\n",
       "      <td>NaN</td>\n",
       "      <td>NaN</td>\n",
       "      <td>NaN</td>\n",
       "      <td>NaN</td>\n",
       "      <td>28.0</td>\n",
       "    </tr>\n",
       "    <tr>\n",
       "      <th>5053</th>\n",
       "      <td>5076</td>\n",
       "      <td>0</td>\n",
       "      <td>3850000</td>\n",
       "      <td>30.5</td>\n",
       "      <td>2018-10-03</td>\n",
       "      <td>1</td>\n",
       "      <td>24.0</td>\n",
       "      <td>5.0</td>\n",
       "      <td>19.5</td>\n",
       "      <td>1</td>\n",
       "      <td>...</td>\n",
       "      <td>5.5</td>\n",
       "      <td>NaN</td>\n",
       "      <td>Санкт-Петербург</td>\n",
       "      <td>29686.0</td>\n",
       "      <td>8389.0</td>\n",
       "      <td>3.0</td>\n",
       "      <td>397.0</td>\n",
       "      <td>1.0</td>\n",
       "      <td>578.0</td>\n",
       "      <td>7.0</td>\n",
       "    </tr>\n",
       "    <tr>\n",
       "      <th>5223</th>\n",
       "      <td>5246</td>\n",
       "      <td>0</td>\n",
       "      <td>2500000</td>\n",
       "      <td>54.0</td>\n",
       "      <td>2017-10-13</td>\n",
       "      <td>2</td>\n",
       "      <td>27.0</td>\n",
       "      <td>5.0</td>\n",
       "      <td>30.0</td>\n",
       "      <td>3</td>\n",
       "      <td>...</td>\n",
       "      <td>9.0</td>\n",
       "      <td>2.0</td>\n",
       "      <td>деревня Мины</td>\n",
       "      <td>NaN</td>\n",
       "      <td>NaN</td>\n",
       "      <td>NaN</td>\n",
       "      <td>NaN</td>\n",
       "      <td>NaN</td>\n",
       "      <td>NaN</td>\n",
       "      <td>540.0</td>\n",
       "    </tr>\n",
       "    <tr>\n",
       "      <th>5644</th>\n",
       "      <td>5669</td>\n",
       "      <td>4</td>\n",
       "      <td>4400000</td>\n",
       "      <td>50.0</td>\n",
       "      <td>2017-08-08</td>\n",
       "      <td>2</td>\n",
       "      <td>26.0</td>\n",
       "      <td>9.0</td>\n",
       "      <td>21.3</td>\n",
       "      <td>3</td>\n",
       "      <td>...</td>\n",
       "      <td>7.0</td>\n",
       "      <td>2.0</td>\n",
       "      <td>Санкт-Петербург</td>\n",
       "      <td>28981.0</td>\n",
       "      <td>10912.0</td>\n",
       "      <td>1.0</td>\n",
       "      <td>305.0</td>\n",
       "      <td>0.0</td>\n",
       "      <td>NaN</td>\n",
       "      <td>267.0</td>\n",
       "    </tr>\n",
       "    <tr>\n",
       "      <th>5782</th>\n",
       "      <td>5807</td>\n",
       "      <td>17</td>\n",
       "      <td>8150000</td>\n",
       "      <td>80.0</td>\n",
       "      <td>2019-01-09</td>\n",
       "      <td>2</td>\n",
       "      <td>27.0</td>\n",
       "      <td>36.0</td>\n",
       "      <td>41.0</td>\n",
       "      <td>13</td>\n",
       "      <td>...</td>\n",
       "      <td>12.0</td>\n",
       "      <td>5.0</td>\n",
       "      <td>Санкт-Петербург</td>\n",
       "      <td>18732.0</td>\n",
       "      <td>20444.0</td>\n",
       "      <td>0.0</td>\n",
       "      <td>NaN</td>\n",
       "      <td>3.0</td>\n",
       "      <td>80.0</td>\n",
       "      <td>38.0</td>\n",
       "    </tr>\n",
       "    <tr>\n",
       "      <th>6217</th>\n",
       "      <td>6246</td>\n",
       "      <td>6</td>\n",
       "      <td>3300000</td>\n",
       "      <td>44.4</td>\n",
       "      <td>2019-03-25</td>\n",
       "      <td>2</td>\n",
       "      <td>25.0</td>\n",
       "      <td>5.0</td>\n",
       "      <td>31.3</td>\n",
       "      <td>5</td>\n",
       "      <td>...</td>\n",
       "      <td>5.7</td>\n",
       "      <td>NaN</td>\n",
       "      <td>Кронштадт</td>\n",
       "      <td>68923.0</td>\n",
       "      <td>50649.0</td>\n",
       "      <td>1.0</td>\n",
       "      <td>417.0</td>\n",
       "      <td>2.0</td>\n",
       "      <td>73.0</td>\n",
       "      <td>NaN</td>\n",
       "    </tr>\n",
       "    <tr>\n",
       "      <th>9338</th>\n",
       "      <td>9379</td>\n",
       "      <td>5</td>\n",
       "      <td>3950000</td>\n",
       "      <td>42.0</td>\n",
       "      <td>2017-03-26</td>\n",
       "      <td>3</td>\n",
       "      <td>25.0</td>\n",
       "      <td>5.0</td>\n",
       "      <td>30.0</td>\n",
       "      <td>2</td>\n",
       "      <td>...</td>\n",
       "      <td>5.2</td>\n",
       "      <td>NaN</td>\n",
       "      <td>Санкт-Петербург</td>\n",
       "      <td>11647.0</td>\n",
       "      <td>13581.0</td>\n",
       "      <td>0.0</td>\n",
       "      <td>NaN</td>\n",
       "      <td>0.0</td>\n",
       "      <td>NaN</td>\n",
       "      <td>NaN</td>\n",
       "    </tr>\n",
       "    <tr>\n",
       "      <th>10725</th>\n",
       "      <td>10773</td>\n",
       "      <td>8</td>\n",
       "      <td>3800000</td>\n",
       "      <td>58.0</td>\n",
       "      <td>2017-10-13</td>\n",
       "      <td>2</td>\n",
       "      <td>27.0</td>\n",
       "      <td>10.0</td>\n",
       "      <td>30.1</td>\n",
       "      <td>3</td>\n",
       "      <td>...</td>\n",
       "      <td>8.1</td>\n",
       "      <td>2.0</td>\n",
       "      <td>посёлок Мурино</td>\n",
       "      <td>NaN</td>\n",
       "      <td>NaN</td>\n",
       "      <td>NaN</td>\n",
       "      <td>NaN</td>\n",
       "      <td>NaN</td>\n",
       "      <td>NaN</td>\n",
       "      <td>71.0</td>\n",
       "    </tr>\n",
       "    <tr>\n",
       "      <th>11236</th>\n",
       "      <td>11285</td>\n",
       "      <td>0</td>\n",
       "      <td>1950000</td>\n",
       "      <td>37.0</td>\n",
       "      <td>2019-03-20</td>\n",
       "      <td>1</td>\n",
       "      <td>25.0</td>\n",
       "      <td>5.0</td>\n",
       "      <td>17.0</td>\n",
       "      <td>4</td>\n",
       "      <td>...</td>\n",
       "      <td>9.0</td>\n",
       "      <td>2.0</td>\n",
       "      <td>Луга</td>\n",
       "      <td>NaN</td>\n",
       "      <td>NaN</td>\n",
       "      <td>NaN</td>\n",
       "      <td>NaN</td>\n",
       "      <td>NaN</td>\n",
       "      <td>NaN</td>\n",
       "      <td>18.0</td>\n",
       "    </tr>\n",
       "    <tr>\n",
       "      <th>14324</th>\n",
       "      <td>14382</td>\n",
       "      <td>9</td>\n",
       "      <td>1700000</td>\n",
       "      <td>35.0</td>\n",
       "      <td>2015-12-04</td>\n",
       "      <td>1</td>\n",
       "      <td>25.0</td>\n",
       "      <td>5.0</td>\n",
       "      <td>20.0</td>\n",
       "      <td>2</td>\n",
       "      <td>...</td>\n",
       "      <td>8.0</td>\n",
       "      <td>1.0</td>\n",
       "      <td>поселок Новый Свет</td>\n",
       "      <td>NaN</td>\n",
       "      <td>NaN</td>\n",
       "      <td>NaN</td>\n",
       "      <td>NaN</td>\n",
       "      <td>NaN</td>\n",
       "      <td>NaN</td>\n",
       "      <td>206.0</td>\n",
       "    </tr>\n",
       "    <tr>\n",
       "      <th>14998</th>\n",
       "      <td>15061</td>\n",
       "      <td>19</td>\n",
       "      <td>5600000</td>\n",
       "      <td>56.4</td>\n",
       "      <td>2018-05-11</td>\n",
       "      <td>2</td>\n",
       "      <td>14.0</td>\n",
       "      <td>14.0</td>\n",
       "      <td>32.4</td>\n",
       "      <td>5</td>\n",
       "      <td>...</td>\n",
       "      <td>9.1</td>\n",
       "      <td>2.0</td>\n",
       "      <td>Санкт-Петербург</td>\n",
       "      <td>14814.0</td>\n",
       "      <td>13610.0</td>\n",
       "      <td>0.0</td>\n",
       "      <td>NaN</td>\n",
       "      <td>0.0</td>\n",
       "      <td>NaN</td>\n",
       "      <td>315.0</td>\n",
       "    </tr>\n",
       "    <tr>\n",
       "      <th>17425</th>\n",
       "      <td>17496</td>\n",
       "      <td>15</td>\n",
       "      <td>6700000</td>\n",
       "      <td>92.9</td>\n",
       "      <td>2019-02-19</td>\n",
       "      <td>3</td>\n",
       "      <td>20.0</td>\n",
       "      <td>17.0</td>\n",
       "      <td>53.2</td>\n",
       "      <td>14</td>\n",
       "      <td>...</td>\n",
       "      <td>12.0</td>\n",
       "      <td>5.0</td>\n",
       "      <td>Санкт-Петербург</td>\n",
       "      <td>16295.0</td>\n",
       "      <td>15092.0</td>\n",
       "      <td>1.0</td>\n",
       "      <td>967.0</td>\n",
       "      <td>0.0</td>\n",
       "      <td>NaN</td>\n",
       "      <td>NaN</td>\n",
       "    </tr>\n",
       "    <tr>\n",
       "      <th>17786</th>\n",
       "      <td>17857</td>\n",
       "      <td>1</td>\n",
       "      <td>3900000</td>\n",
       "      <td>56.0</td>\n",
       "      <td>2017-12-22</td>\n",
       "      <td>3</td>\n",
       "      <td>27.0</td>\n",
       "      <td>5.0</td>\n",
       "      <td>33.0</td>\n",
       "      <td>4</td>\n",
       "      <td>...</td>\n",
       "      <td>NaN</td>\n",
       "      <td>NaN</td>\n",
       "      <td>Санкт-Петербург</td>\n",
       "      <td>41030.0</td>\n",
       "      <td>15543.0</td>\n",
       "      <td>0.0</td>\n",
       "      <td>NaN</td>\n",
       "      <td>0.0</td>\n",
       "      <td>NaN</td>\n",
       "      <td>73.0</td>\n",
       "    </tr>\n",
       "    <tr>\n",
       "      <th>18474</th>\n",
       "      <td>18545</td>\n",
       "      <td>6</td>\n",
       "      <td>3750000</td>\n",
       "      <td>43.0</td>\n",
       "      <td>2019-03-18</td>\n",
       "      <td>2</td>\n",
       "      <td>25.0</td>\n",
       "      <td>5.0</td>\n",
       "      <td>29.0</td>\n",
       "      <td>3</td>\n",
       "      <td>...</td>\n",
       "      <td>NaN</td>\n",
       "      <td>NaN</td>\n",
       "      <td>Санкт-Петербург</td>\n",
       "      <td>27054.0</td>\n",
       "      <td>8033.0</td>\n",
       "      <td>1.0</td>\n",
       "      <td>540.0</td>\n",
       "      <td>0.0</td>\n",
       "      <td>NaN</td>\n",
       "      <td>12.0</td>\n",
       "    </tr>\n",
       "    <tr>\n",
       "      <th>20396</th>\n",
       "      <td>20478</td>\n",
       "      <td>11</td>\n",
       "      <td>8000000</td>\n",
       "      <td>45.0</td>\n",
       "      <td>2017-07-18</td>\n",
       "      <td>1</td>\n",
       "      <td>27.0</td>\n",
       "      <td>4.0</td>\n",
       "      <td>22.0</td>\n",
       "      <td>2</td>\n",
       "      <td>...</td>\n",
       "      <td>10.0</td>\n",
       "      <td>1.0</td>\n",
       "      <td>Санкт-Петербург</td>\n",
       "      <td>18975.0</td>\n",
       "      <td>3246.0</td>\n",
       "      <td>0.0</td>\n",
       "      <td>NaN</td>\n",
       "      <td>3.0</td>\n",
       "      <td>449.0</td>\n",
       "      <td>429.0</td>\n",
       "    </tr>\n",
       "    <tr>\n",
       "      <th>20425</th>\n",
       "      <td>20507</td>\n",
       "      <td>12</td>\n",
       "      <td>5950000</td>\n",
       "      <td>60.0</td>\n",
       "      <td>2018-02-19</td>\n",
       "      <td>2</td>\n",
       "      <td>22.6</td>\n",
       "      <td>14.0</td>\n",
       "      <td>35.0</td>\n",
       "      <td>11</td>\n",
       "      <td>...</td>\n",
       "      <td>13.0</td>\n",
       "      <td>1.0</td>\n",
       "      <td>Санкт-Петербург</td>\n",
       "      <td>27028.0</td>\n",
       "      <td>12570.0</td>\n",
       "      <td>0.0</td>\n",
       "      <td>NaN</td>\n",
       "      <td>0.0</td>\n",
       "      <td>NaN</td>\n",
       "      <td>40.0</td>\n",
       "    </tr>\n",
       "    <tr>\n",
       "      <th>21291</th>\n",
       "      <td>21377</td>\n",
       "      <td>19</td>\n",
       "      <td>4900000</td>\n",
       "      <td>42.0</td>\n",
       "      <td>2017-04-18</td>\n",
       "      <td>1</td>\n",
       "      <td>27.5</td>\n",
       "      <td>24.0</td>\n",
       "      <td>37.7</td>\n",
       "      <td>19</td>\n",
       "      <td>...</td>\n",
       "      <td>11.0</td>\n",
       "      <td>2.0</td>\n",
       "      <td>Санкт-Петербург</td>\n",
       "      <td>42742.0</td>\n",
       "      <td>9760.0</td>\n",
       "      <td>0.0</td>\n",
       "      <td>NaN</td>\n",
       "      <td>0.0</td>\n",
       "      <td>NaN</td>\n",
       "      <td>61.0</td>\n",
       "    </tr>\n",
       "    <tr>\n",
       "      <th>21738</th>\n",
       "      <td>21824</td>\n",
       "      <td>20</td>\n",
       "      <td>2450000</td>\n",
       "      <td>44.0</td>\n",
       "      <td>2019-02-12</td>\n",
       "      <td>2</td>\n",
       "      <td>27.0</td>\n",
       "      <td>2.0</td>\n",
       "      <td>38.0</td>\n",
       "      <td>2</td>\n",
       "      <td>...</td>\n",
       "      <td>8.6</td>\n",
       "      <td>2.0</td>\n",
       "      <td>городской поселок Большая Ижора</td>\n",
       "      <td>NaN</td>\n",
       "      <td>NaN</td>\n",
       "      <td>NaN</td>\n",
       "      <td>NaN</td>\n",
       "      <td>NaN</td>\n",
       "      <td>NaN</td>\n",
       "      <td>NaN</td>\n",
       "    </tr>\n",
       "    <tr>\n",
       "      <th>22220</th>\n",
       "      <td>22309</td>\n",
       "      <td>20</td>\n",
       "      <td>5300000</td>\n",
       "      <td>45.0</td>\n",
       "      <td>2017-09-30</td>\n",
       "      <td>1</td>\n",
       "      <td>10.3</td>\n",
       "      <td>16.0</td>\n",
       "      <td>15.5</td>\n",
       "      <td>15</td>\n",
       "      <td>...</td>\n",
       "      <td>NaN</td>\n",
       "      <td>NaN</td>\n",
       "      <td>Санкт-Петербург</td>\n",
       "      <td>36353.0</td>\n",
       "      <td>11936.0</td>\n",
       "      <td>2.0</td>\n",
       "      <td>440.0</td>\n",
       "      <td>2.0</td>\n",
       "      <td>450.0</td>\n",
       "      <td>136.0</td>\n",
       "    </tr>\n",
       "    <tr>\n",
       "      <th>22247</th>\n",
       "      <td>22336</td>\n",
       "      <td>19</td>\n",
       "      <td>9999000</td>\n",
       "      <td>92.4</td>\n",
       "      <td>2019-04-05</td>\n",
       "      <td>2</td>\n",
       "      <td>32.0</td>\n",
       "      <td>6.0</td>\n",
       "      <td>55.5</td>\n",
       "      <td>5</td>\n",
       "      <td>...</td>\n",
       "      <td>16.5</td>\n",
       "      <td>4.0</td>\n",
       "      <td>Санкт-Петербург</td>\n",
       "      <td>18838.0</td>\n",
       "      <td>3506.0</td>\n",
       "      <td>0.0</td>\n",
       "      <td>NaN</td>\n",
       "      <td>3.0</td>\n",
       "      <td>511.0</td>\n",
       "      <td>NaN</td>\n",
       "    </tr>\n",
       "    <tr>\n",
       "      <th>22777</th>\n",
       "      <td>22869</td>\n",
       "      <td>0</td>\n",
       "      <td>15000000</td>\n",
       "      <td>25.0</td>\n",
       "      <td>2018-07-25</td>\n",
       "      <td>1</td>\n",
       "      <td>100.0</td>\n",
       "      <td>5.0</td>\n",
       "      <td>14.0</td>\n",
       "      <td>5</td>\n",
       "      <td>...</td>\n",
       "      <td>11.0</td>\n",
       "      <td>5.0</td>\n",
       "      <td>Санкт-Петербург</td>\n",
       "      <td>34963.0</td>\n",
       "      <td>8283.0</td>\n",
       "      <td>1.0</td>\n",
       "      <td>223.0</td>\n",
       "      <td>3.0</td>\n",
       "      <td>30.0</td>\n",
       "      <td>19.0</td>\n",
       "    </tr>\n",
       "    <tr>\n",
       "      <th>22846</th>\n",
       "      <td>22938</td>\n",
       "      <td>14</td>\n",
       "      <td>4000000</td>\n",
       "      <td>98.0</td>\n",
       "      <td>2018-03-15</td>\n",
       "      <td>4</td>\n",
       "      <td>27.0</td>\n",
       "      <td>2.0</td>\n",
       "      <td>73.0</td>\n",
       "      <td>2</td>\n",
       "      <td>...</td>\n",
       "      <td>9.0</td>\n",
       "      <td>1.0</td>\n",
       "      <td>деревня Нижняя</td>\n",
       "      <td>NaN</td>\n",
       "      <td>NaN</td>\n",
       "      <td>NaN</td>\n",
       "      <td>NaN</td>\n",
       "      <td>NaN</td>\n",
       "      <td>NaN</td>\n",
       "      <td>27.0</td>\n",
       "    </tr>\n",
       "  </tbody>\n",
       "</table>\n",
       "<p>25 rows × 23 columns</p>\n",
       "</div>"
      ],
      "text/plain": [
       "       Unnamed: 0  total_images  last_price  total_area first_day_exposition  \\\n",
       "352           355            17     3600000        55.2           2018-07-12   \n",
       "3132         3148            14     2900000        75.0           2018-11-12   \n",
       "4622         4643             0     4300000        45.0           2018-02-01   \n",
       "4854         4876             7     3000000        25.0           2017-09-27   \n",
       "5053         5076             0     3850000        30.5           2018-10-03   \n",
       "5223         5246             0     2500000        54.0           2017-10-13   \n",
       "5644         5669             4     4400000        50.0           2017-08-08   \n",
       "5782         5807            17     8150000        80.0           2019-01-09   \n",
       "6217         6246             6     3300000        44.4           2019-03-25   \n",
       "9338         9379             5     3950000        42.0           2017-03-26   \n",
       "10725       10773             8     3800000        58.0           2017-10-13   \n",
       "11236       11285             0     1950000        37.0           2019-03-20   \n",
       "14324       14382             9     1700000        35.0           2015-12-04   \n",
       "14998       15061            19     5600000        56.4           2018-05-11   \n",
       "17425       17496            15     6700000        92.9           2019-02-19   \n",
       "17786       17857             1     3900000        56.0           2017-12-22   \n",
       "18474       18545             6     3750000        43.0           2019-03-18   \n",
       "20396       20478            11     8000000        45.0           2017-07-18   \n",
       "20425       20507            12     5950000        60.0           2018-02-19   \n",
       "21291       21377            19     4900000        42.0           2017-04-18   \n",
       "21738       21824            20     2450000        44.0           2019-02-12   \n",
       "22220       22309            20     5300000        45.0           2017-09-30   \n",
       "22247       22336            19     9999000        92.4           2019-04-05   \n",
       "22777       22869             0    15000000        25.0           2018-07-25   \n",
       "22846       22938            14     4000000        98.0           2018-03-15   \n",
       "\n",
       "       rooms  ceiling_height  floors_total  living_area  floor  ...  \\\n",
       "352        2            25.0           5.0         32.0      2  ...   \n",
       "3132       3            32.0           3.0         53.0      2  ...   \n",
       "4622       2            25.0           9.0         30.0      2  ...   \n",
       "4854       0            27.0          25.0         17.0     17  ...   \n",
       "5053       1            24.0           5.0         19.5      1  ...   \n",
       "5223       2            27.0           5.0         30.0      3  ...   \n",
       "5644       2            26.0           9.0         21.3      3  ...   \n",
       "5782       2            27.0          36.0         41.0     13  ...   \n",
       "6217       2            25.0           5.0         31.3      5  ...   \n",
       "9338       3            25.0           5.0         30.0      2  ...   \n",
       "10725      2            27.0          10.0         30.1      3  ...   \n",
       "11236      1            25.0           5.0         17.0      4  ...   \n",
       "14324      1            25.0           5.0         20.0      2  ...   \n",
       "14998      2            14.0          14.0         32.4      5  ...   \n",
       "17425      3            20.0          17.0         53.2     14  ...   \n",
       "17786      3            27.0           5.0         33.0      4  ...   \n",
       "18474      2            25.0           5.0         29.0      3  ...   \n",
       "20396      1            27.0           4.0         22.0      2  ...   \n",
       "20425      2            22.6          14.0         35.0     11  ...   \n",
       "21291      1            27.5          24.0         37.7     19  ...   \n",
       "21738      2            27.0           2.0         38.0      2  ...   \n",
       "22220      1            10.3          16.0         15.5     15  ...   \n",
       "22247      2            32.0           6.0         55.5      5  ...   \n",
       "22777      1           100.0           5.0         14.0      5  ...   \n",
       "22846      4            27.0           2.0         73.0      2  ...   \n",
       "\n",
       "       kitchen_area  balcony                    locality_name  \\\n",
       "352             NaN      2.0                          Гатчина   \n",
       "3132            8.0      NaN                           Волхов   \n",
       "4622            7.0      1.0                  Санкт-Петербург   \n",
       "4854            NaN      2.0                   посёлок Мурино   \n",
       "5053            5.5      NaN                  Санкт-Петербург   \n",
       "5223            9.0      2.0                     деревня Мины   \n",
       "5644            7.0      2.0                  Санкт-Петербург   \n",
       "5782           12.0      5.0                  Санкт-Петербург   \n",
       "6217            5.7      NaN                        Кронштадт   \n",
       "9338            5.2      NaN                  Санкт-Петербург   \n",
       "10725           8.1      2.0                   посёлок Мурино   \n",
       "11236           9.0      2.0                             Луга   \n",
       "14324           8.0      1.0               поселок Новый Свет   \n",
       "14998           9.1      2.0                  Санкт-Петербург   \n",
       "17425          12.0      5.0                  Санкт-Петербург   \n",
       "17786           NaN      NaN                  Санкт-Петербург   \n",
       "18474           NaN      NaN                  Санкт-Петербург   \n",
       "20396          10.0      1.0                  Санкт-Петербург   \n",
       "20425          13.0      1.0                  Санкт-Петербург   \n",
       "21291          11.0      2.0                  Санкт-Петербург   \n",
       "21738           8.6      2.0  городской поселок Большая Ижора   \n",
       "22220           NaN      NaN                  Санкт-Петербург   \n",
       "22247          16.5      4.0                  Санкт-Петербург   \n",
       "22777          11.0      5.0                  Санкт-Петербург   \n",
       "22846           9.0      1.0                   деревня Нижняя   \n",
       "\n",
       "       airports_nearest  cityCenters_nearest parks_around3000  parks_nearest  \\\n",
       "352                 NaN                  NaN              NaN            NaN   \n",
       "3132                NaN                  NaN              NaN            NaN   \n",
       "4622            12016.0              13256.0              1.0          658.0   \n",
       "4854                NaN                  NaN              NaN            NaN   \n",
       "5053            29686.0               8389.0              3.0          397.0   \n",
       "5223                NaN                  NaN              NaN            NaN   \n",
       "5644            28981.0              10912.0              1.0          305.0   \n",
       "5782            18732.0              20444.0              0.0            NaN   \n",
       "6217            68923.0              50649.0              1.0          417.0   \n",
       "9338            11647.0              13581.0              0.0            NaN   \n",
       "10725               NaN                  NaN              NaN            NaN   \n",
       "11236               NaN                  NaN              NaN            NaN   \n",
       "14324               NaN                  NaN              NaN            NaN   \n",
       "14998           14814.0              13610.0              0.0            NaN   \n",
       "17425           16295.0              15092.0              1.0          967.0   \n",
       "17786           41030.0              15543.0              0.0            NaN   \n",
       "18474           27054.0               8033.0              1.0          540.0   \n",
       "20396           18975.0               3246.0              0.0            NaN   \n",
       "20425           27028.0              12570.0              0.0            NaN   \n",
       "21291           42742.0               9760.0              0.0            NaN   \n",
       "21738               NaN                  NaN              NaN            NaN   \n",
       "22220           36353.0              11936.0              2.0          440.0   \n",
       "22247           18838.0               3506.0              0.0            NaN   \n",
       "22777           34963.0               8283.0              1.0          223.0   \n",
       "22846               NaN                  NaN              NaN            NaN   \n",
       "\n",
       "       ponds_around3000  ponds_nearest  days_exposition  \n",
       "352                 NaN            NaN            259.0  \n",
       "3132                NaN            NaN              NaN  \n",
       "4622                1.0          331.0            181.0  \n",
       "4854                NaN            NaN             28.0  \n",
       "5053                1.0          578.0              7.0  \n",
       "5223                NaN            NaN            540.0  \n",
       "5644                0.0            NaN            267.0  \n",
       "5782                3.0           80.0             38.0  \n",
       "6217                2.0           73.0              NaN  \n",
       "9338                0.0            NaN              NaN  \n",
       "10725               NaN            NaN             71.0  \n",
       "11236               NaN            NaN             18.0  \n",
       "14324               NaN            NaN            206.0  \n",
       "14998               0.0            NaN            315.0  \n",
       "17425               0.0            NaN              NaN  \n",
       "17786               0.0            NaN             73.0  \n",
       "18474               0.0            NaN             12.0  \n",
       "20396               3.0          449.0            429.0  \n",
       "20425               0.0            NaN             40.0  \n",
       "21291               0.0            NaN             61.0  \n",
       "21738               NaN            NaN              NaN  \n",
       "22220               2.0          450.0            136.0  \n",
       "22247               3.0          511.0              NaN  \n",
       "22777               3.0           30.0             19.0  \n",
       "22846               NaN            NaN             27.0  \n",
       "\n",
       "[25 rows x 23 columns]"
      ]
     },
     "execution_count": 40,
     "metadata": {},
     "output_type": "execute_result"
    }
   ],
   "source": [
    "df.query('ceiling_height > 10.0')"
   ]
  },
  {
   "cell_type": "markdown",
   "metadata": {
    "pycharm": {
     "name": "#%% md\n"
    }
   },
   "source": [
    "после сопоставления площади квартиры и высоты потолков, приходим к выводу, что это обычные квартиры, а значит, надо работать с цифрами: скорее всего, наша гипотеза подтвердилась и в данных утерян разделитель."
   ]
  },
  {
   "cell_type": "code",
   "execution_count": 41,
   "metadata": {
    "pycharm": {
     "name": "#%%\n"
    }
   },
   "outputs": [],
   "source": [
    "#height_new = df.query('ceiling_height > 10.0').index\n",
    "height_new = df.loc[(df['ceiling_height'] > 10)].index\n",
    "df.loc[height_new, 'ceiling_height'] = df.loc[height_new, 'ceiling_height']/10\n",
    "\n"
   ]
  },
  {
   "cell_type": "code",
   "execution_count": 42,
   "metadata": {
    "pycharm": {
     "name": "#%%\n"
    }
   },
   "outputs": [
    {
     "data": {
      "text/plain": [
       "23597    2.86\n",
       "23598     NaN\n",
       "23599    2.75\n",
       "23600     NaN\n",
       "23601    2.60\n",
       "23602    3.70\n",
       "23603     NaN\n",
       "23604     NaN\n",
       "23605    3.00\n",
       "23606    2.50\n",
       "Name: ceiling_height, dtype: float64"
      ]
     },
     "execution_count": 42,
     "metadata": {},
     "output_type": "execute_result"
    }
   ],
   "source": [
    "df.loc[height_new]['ceiling_height']\n",
    "df['ceiling_height'].tail(10)"
   ]
  },
  {
   "cell_type": "markdown",
   "metadata": {
    "pycharm": {
     "name": "#%% md\n"
    }
   },
   "source": [
    "удаляем выбросы"
   ]
  },
  {
   "cell_type": "code",
   "execution_count": 43,
   "metadata": {
    "pycharm": {
     "name": "#%%\n"
    }
   },
   "outputs": [
    {
     "data": {
      "text/plain": [
       "3456      8.00\n",
       "5687      1.20\n",
       "5838      8.30\n",
       "14998     1.40\n",
       "15676     8.00\n",
       "16865     1.75\n",
       "17371     8.00\n",
       "22220     1.03\n",
       "22499     1.00\n",
       "22777    10.00\n",
       "Name: ceiling_height, dtype: float64"
      ]
     },
     "execution_count": 43,
     "metadata": {},
     "output_type": "execute_result"
    }
   ],
   "source": [
    "height_new = df.query('ceiling_height>35 or ceiling_height<1.9 or 7<ceiling_height<19').index\n",
    "df.loc[height_new, 'ceiling_height']"
   ]
  },
  {
   "cell_type": "markdown",
   "metadata": {
    "pycharm": {
     "name": "#%% md\n"
    }
   },
   "source": [
    "выбросы удаляем и проверяем"
   ]
  },
  {
   "cell_type": "code",
   "execution_count": 44,
   "metadata": {
    "pycharm": {
     "name": "#%%\n"
    }
   },
   "outputs": [
    {
     "name": "stdout",
     "output_type": "stream",
     "text": [
      "Кол-во строк перед удалением 23588\n",
      "Кол-во строк после удаления 23578\n"
     ]
    },
    {
     "data": {
      "text/html": [
       "<div>\n",
       "<style scoped>\n",
       "    .dataframe tbody tr th:only-of-type {\n",
       "        vertical-align: middle;\n",
       "    }\n",
       "\n",
       "    .dataframe tbody tr th {\n",
       "        vertical-align: top;\n",
       "    }\n",
       "\n",
       "    .dataframe thead th {\n",
       "        text-align: right;\n",
       "    }\n",
       "</style>\n",
       "<table border=\"1\" class=\"dataframe\">\n",
       "  <thead>\n",
       "    <tr style=\"text-align: right;\">\n",
       "      <th></th>\n",
       "      <th>Unnamed: 0</th>\n",
       "      <th>total_images</th>\n",
       "      <th>last_price</th>\n",
       "      <th>total_area</th>\n",
       "      <th>first_day_exposition</th>\n",
       "      <th>rooms</th>\n",
       "      <th>ceiling_height</th>\n",
       "      <th>floors_total</th>\n",
       "      <th>living_area</th>\n",
       "      <th>floor</th>\n",
       "      <th>...</th>\n",
       "      <th>kitchen_area</th>\n",
       "      <th>balcony</th>\n",
       "      <th>locality_name</th>\n",
       "      <th>airports_nearest</th>\n",
       "      <th>cityCenters_nearest</th>\n",
       "      <th>parks_around3000</th>\n",
       "      <th>parks_nearest</th>\n",
       "      <th>ponds_around3000</th>\n",
       "      <th>ponds_nearest</th>\n",
       "      <th>days_exposition</th>\n",
       "    </tr>\n",
       "  </thead>\n",
       "  <tbody>\n",
       "    <tr>\n",
       "      <th>23573</th>\n",
       "      <td>23694</td>\n",
       "      <td>9</td>\n",
       "      <td>9700000</td>\n",
       "      <td>133.81</td>\n",
       "      <td>2017-03-21</td>\n",
       "      <td>3</td>\n",
       "      <td>3.7</td>\n",
       "      <td>5.0</td>\n",
       "      <td>73.3</td>\n",
       "      <td>3</td>\n",
       "      <td>...</td>\n",
       "      <td>13.83</td>\n",
       "      <td>NaN</td>\n",
       "      <td>Санкт-Петербург</td>\n",
       "      <td>24665.0</td>\n",
       "      <td>4232.0</td>\n",
       "      <td>1.0</td>\n",
       "      <td>796.0</td>\n",
       "      <td>3.0</td>\n",
       "      <td>381.0</td>\n",
       "      <td>NaN</td>\n",
       "    </tr>\n",
       "    <tr>\n",
       "      <th>23574</th>\n",
       "      <td>23695</td>\n",
       "      <td>14</td>\n",
       "      <td>3100000</td>\n",
       "      <td>59.00</td>\n",
       "      <td>2018-01-15</td>\n",
       "      <td>3</td>\n",
       "      <td>NaN</td>\n",
       "      <td>5.0</td>\n",
       "      <td>38.0</td>\n",
       "      <td>4</td>\n",
       "      <td>...</td>\n",
       "      <td>8.50</td>\n",
       "      <td>NaN</td>\n",
       "      <td>Тосно</td>\n",
       "      <td>NaN</td>\n",
       "      <td>NaN</td>\n",
       "      <td>NaN</td>\n",
       "      <td>NaN</td>\n",
       "      <td>NaN</td>\n",
       "      <td>NaN</td>\n",
       "      <td>45.0</td>\n",
       "    </tr>\n",
       "    <tr>\n",
       "      <th>23575</th>\n",
       "      <td>23696</td>\n",
       "      <td>18</td>\n",
       "      <td>2500000</td>\n",
       "      <td>56.70</td>\n",
       "      <td>2018-02-11</td>\n",
       "      <td>2</td>\n",
       "      <td>NaN</td>\n",
       "      <td>3.0</td>\n",
       "      <td>29.7</td>\n",
       "      <td>1</td>\n",
       "      <td>...</td>\n",
       "      <td>NaN</td>\n",
       "      <td>NaN</td>\n",
       "      <td>село Рождествено</td>\n",
       "      <td>NaN</td>\n",
       "      <td>NaN</td>\n",
       "      <td>NaN</td>\n",
       "      <td>NaN</td>\n",
       "      <td>NaN</td>\n",
       "      <td>NaN</td>\n",
       "      <td>NaN</td>\n",
       "    </tr>\n",
       "    <tr>\n",
       "      <th>23576</th>\n",
       "      <td>23697</td>\n",
       "      <td>13</td>\n",
       "      <td>11475000</td>\n",
       "      <td>76.75</td>\n",
       "      <td>2017-03-28</td>\n",
       "      <td>2</td>\n",
       "      <td>3.0</td>\n",
       "      <td>17.0</td>\n",
       "      <td>NaN</td>\n",
       "      <td>12</td>\n",
       "      <td>...</td>\n",
       "      <td>23.30</td>\n",
       "      <td>2.0</td>\n",
       "      <td>Санкт-Петербург</td>\n",
       "      <td>39140.0</td>\n",
       "      <td>10364.0</td>\n",
       "      <td>2.0</td>\n",
       "      <td>173.0</td>\n",
       "      <td>3.0</td>\n",
       "      <td>196.0</td>\n",
       "      <td>602.0</td>\n",
       "    </tr>\n",
       "    <tr>\n",
       "      <th>23577</th>\n",
       "      <td>23698</td>\n",
       "      <td>4</td>\n",
       "      <td>1350000</td>\n",
       "      <td>32.30</td>\n",
       "      <td>2017-07-21</td>\n",
       "      <td>1</td>\n",
       "      <td>2.5</td>\n",
       "      <td>5.0</td>\n",
       "      <td>12.3</td>\n",
       "      <td>1</td>\n",
       "      <td>...</td>\n",
       "      <td>9.00</td>\n",
       "      <td>NaN</td>\n",
       "      <td>поселок Новый Учхоз</td>\n",
       "      <td>NaN</td>\n",
       "      <td>NaN</td>\n",
       "      <td>NaN</td>\n",
       "      <td>NaN</td>\n",
       "      <td>NaN</td>\n",
       "      <td>NaN</td>\n",
       "      <td>NaN</td>\n",
       "    </tr>\n",
       "  </tbody>\n",
       "</table>\n",
       "<p>5 rows × 23 columns</p>\n",
       "</div>"
      ],
      "text/plain": [
       "       Unnamed: 0  total_images  last_price  total_area first_day_exposition  \\\n",
       "23573       23694             9     9700000      133.81           2017-03-21   \n",
       "23574       23695            14     3100000       59.00           2018-01-15   \n",
       "23575       23696            18     2500000       56.70           2018-02-11   \n",
       "23576       23697            13    11475000       76.75           2017-03-28   \n",
       "23577       23698             4     1350000       32.30           2017-07-21   \n",
       "\n",
       "       rooms  ceiling_height  floors_total  living_area  floor  ...  \\\n",
       "23573      3             3.7           5.0         73.3      3  ...   \n",
       "23574      3             NaN           5.0         38.0      4  ...   \n",
       "23575      2             NaN           3.0         29.7      1  ...   \n",
       "23576      2             3.0          17.0          NaN     12  ...   \n",
       "23577      1             2.5           5.0         12.3      1  ...   \n",
       "\n",
       "       kitchen_area  balcony        locality_name  airports_nearest  \\\n",
       "23573         13.83      NaN      Санкт-Петербург           24665.0   \n",
       "23574          8.50      NaN                Тосно               NaN   \n",
       "23575           NaN      NaN     село Рождествено               NaN   \n",
       "23576         23.30      2.0      Санкт-Петербург           39140.0   \n",
       "23577          9.00      NaN  поселок Новый Учхоз               NaN   \n",
       "\n",
       "       cityCenters_nearest parks_around3000  parks_nearest  ponds_around3000  \\\n",
       "23573               4232.0              1.0          796.0               3.0   \n",
       "23574                  NaN              NaN            NaN               NaN   \n",
       "23575                  NaN              NaN            NaN               NaN   \n",
       "23576              10364.0              2.0          173.0               3.0   \n",
       "23577                  NaN              NaN            NaN               NaN   \n",
       "\n",
       "       ponds_nearest  days_exposition  \n",
       "23573          381.0              NaN  \n",
       "23574            NaN             45.0  \n",
       "23575            NaN              NaN  \n",
       "23576          196.0            602.0  \n",
       "23577            NaN              NaN  \n",
       "\n",
       "[5 rows x 23 columns]"
      ]
     },
     "metadata": {},
     "output_type": "display_data"
    }
   ],
   "source": [
    "print(\"Кол-во строк перед удалением\", len(df))\n",
    "df.drop(height_new, inplace=True, axis=0)\n",
    "print(\"Кол-во строк после удаления\", len(df))\n",
    "\n",
    "df.reset_index(inplace=True, drop=True)\n",
    "display(df.tail())"
   ]
  },
  {
   "cell_type": "code",
   "execution_count": 45,
   "metadata": {
    "pycharm": {
     "name": "#%%\n"
    }
   },
   "outputs": [
    {
     "data": {
      "text/plain": [
       "2.50    3521\n",
       "2.60    1646\n",
       "2.70    1579\n",
       "3.00    1104\n",
       "2.80     992\n",
       "2.55     980\n",
       "2.75     910\n",
       "2.65     676\n",
       "3.20     273\n",
       "3.10     202\n",
       "2.90     162\n",
       "2.56     139\n",
       "3.30     139\n",
       "3.50     124\n",
       "2.57     103\n",
       "Name: ceiling_height, dtype: int64"
      ]
     },
     "execution_count": 45,
     "metadata": {},
     "output_type": "execute_result"
    }
   ],
   "source": [
    "df['ceiling_height'].describe()\n",
    "df['ceiling_height'].value_counts().head(15)"
   ]
  },
  {
   "cell_type": "markdown",
   "metadata": {
    "pycharm": {
     "name": "#%% md\n"
    }
   },
   "source": [
    "мы видим, что стандартное отклонение стало намного меньше, а данные корректнее. В целом, данные соответствуют реальности."
   ]
  },
  {
   "cell_type": "markdown",
   "metadata": {
    "pycharm": {
     "name": "#%% md\n"
    }
   },
   "source": [
    "теперь решим вопрос с пропусками: для начала оценим их количество итого"
   ]
  },
  {
   "cell_type": "code",
   "execution_count": 46,
   "metadata": {
    "pycharm": {
     "name": "#%%\n"
    }
   },
   "outputs": [
    {
     "data": {
      "text/plain": [
       "count    14428.000000\n",
       "mean         2.723604\n",
       "std          0.273053\n",
       "min          2.000000\n",
       "25%          2.510000\n",
       "50%          2.650000\n",
       "75%          2.800000\n",
       "max          6.000000\n",
       "Name: ceiling_height, dtype: float64"
      ]
     },
     "execution_count": 46,
     "metadata": {},
     "output_type": "execute_result"
    }
   ],
   "source": [
    "df['ceiling_height'].isna().sum()\n",
    "df['ceiling_height'].describe()"
   ]
  },
  {
   "cell_type": "markdown",
   "metadata": {
    "pycharm": {
     "name": "#%% md\n"
    }
   },
   "source": [
    "довольно много пропусков получилось. Будем заполнять медианными значениями: 2.65 метра."
   ]
  },
  {
   "cell_type": "code",
   "execution_count": 47,
   "metadata": {
    "pycharm": {
     "name": "#%%\n"
    }
   },
   "outputs": [
    {
     "data": {
      "text/plain": [
       "0"
      ]
     },
     "metadata": {},
     "output_type": "display_data"
    },
    {
     "data": {
      "text/plain": [
       "count    23578.000000\n",
       "mean         2.695040\n",
       "std          0.216586\n",
       "min          2.000000\n",
       "25%          2.600000\n",
       "50%          2.650000\n",
       "75%          2.700000\n",
       "max          6.000000\n",
       "Name: ceiling_height, dtype: float64"
      ]
     },
     "execution_count": 47,
     "metadata": {},
     "output_type": "execute_result"
    }
   ],
   "source": [
    "df['ceiling_height'] = df['ceiling_height'].fillna(2.65)\n",
    "display(df['ceiling_height'].isna().sum())\n",
    "df['ceiling_height'].describe()"
   ]
  },
  {
   "cell_type": "code",
   "execution_count": 48,
   "metadata": {
    "pycharm": {
     "name": "#%%\n"
    }
   },
   "outputs": [
    {
     "data": {
      "text/plain": [
       "(23578, 23)"
      ]
     },
     "execution_count": 48,
     "metadata": {},
     "output_type": "execute_result"
    }
   ],
   "source": [
    "df.shape"
   ]
  },
  {
   "cell_type": "markdown",
   "metadata": {
    "pycharm": {
     "name": "#%% md\n"
    }
   },
   "source": [
    "проблема с пропусками решена."
   ]
  },
  {
   "cell_type": "code",
   "execution_count": 49,
   "metadata": {
    "pycharm": {
     "name": "#%%\n"
    }
   },
   "outputs": [
    {
     "data": {
      "text/plain": [
       "dtype('float64')"
      ]
     },
     "execution_count": 49,
     "metadata": {},
     "output_type": "execute_result"
    }
   ],
   "source": [
    "#df['ceiling_height'] = df['ceiling_height'].astype('int')\n",
    "\n",
    "df['ceiling_height'].dtype\n"
   ]
  },
  {
   "cell_type": "markdown",
   "metadata": {
    "pycharm": {
     "name": "#%% md\n"
    }
   },
   "source": [
    "все в порядке: столбец подготовлен"
   ]
  },
  {
   "cell_type": "code",
   "execution_count": 50,
   "metadata": {
    "pycharm": {
     "name": "#%%\n"
    }
   },
   "outputs": [
    {
     "data": {
      "text/plain": [
       "0        2.70\n",
       "1        2.65\n",
       "2        2.65\n",
       "3        2.65\n",
       "4        3.03\n",
       "         ... \n",
       "23573    3.70\n",
       "23574    2.65\n",
       "23575    2.65\n",
       "23576    3.00\n",
       "23577    2.50\n",
       "Name: ceiling_height, Length: 23578, dtype: float64"
      ]
     },
     "execution_count": 50,
     "metadata": {},
     "output_type": "execute_result"
    }
   ],
   "source": [
    "# check\n",
    "df['ceiling_height']"
   ]
  },
  {
   "cell_type": "markdown",
   "metadata": {
    "pycharm": {
     "name": "#%% md\n"
    }
   },
   "source": [
    "#### Столбец \"floors_total\""
   ]
  },
  {
   "cell_type": "code",
   "execution_count": 51,
   "metadata": {
    "pycharm": {
     "name": "#%%\n"
    }
   },
   "outputs": [
    {
     "data": {
      "text/plain": [
       "count    23492.000000\n",
       "mean        10.684659\n",
       "std          6.595522\n",
       "min          1.000000\n",
       "25%          5.000000\n",
       "50%          9.000000\n",
       "75%         16.000000\n",
       "max         60.000000\n",
       "Name: floors_total, dtype: float64"
      ]
     },
     "metadata": {},
     "output_type": "display_data"
    },
    {
     "data": {
      "image/png": "[encoded data removed]",
      "text/plain": [
       "<Figure size 288x576 with 1 Axes>"
      ]
     },
     "metadata": {},
     "output_type": "display_data"
    },
    {
     "data": {
      "image/png": "[encoded data removed]",
      "text/plain": [
       "<Figure size 432x288 with 1 Axes>"
      ]
     },
     "metadata": {},
     "output_type": "display_data"
    }
   ],
   "source": [
    "basis_stat_f('floors_total')"
   ]
  },
  {
   "cell_type": "code",
   "execution_count": 52,
   "metadata": {
    "pycharm": {
     "name": "#%%\n"
    }
   },
   "outputs": [
    {
     "data": {
      "text/plain": [
       "86"
      ]
     },
     "execution_count": 52,
     "metadata": {},
     "output_type": "execute_result"
    }
   ],
   "source": [
    "df['floors_total'].isna().sum()"
   ]
  },
  {
   "cell_type": "markdown",
   "metadata": {
    "pycharm": {
     "name": "#%% md\n"
    }
   },
   "source": [
    "пропущенных значений, относительно общего кол-ва немного. По-этому, удалим их и изменим тип на int."
   ]
  },
  {
   "cell_type": "code",
   "execution_count": 53,
   "metadata": {
    "pycharm": {
     "name": "#%%\n"
    }
   },
   "outputs": [],
   "source": [
    "df = df.dropna(subset=['floors_total'])\n",
    "df['floors_total'] = df['floors_total'].astype('int')"
   ]
  },
  {
   "cell_type": "code",
   "execution_count": 54,
   "metadata": {
    "pycharm": {
     "name": "#%%\n"
    }
   },
   "outputs": [
    {
     "name": "stdout",
     "output_type": "stream",
     "text": [
      "<class 'pandas.core.frame.DataFrame'>\n",
      "Int64Index: 23492 entries, 0 to 23577\n",
      "Data columns (total 23 columns):\n",
      " #   Column                Non-Null Count  Dtype         \n",
      "---  ------                --------------  -----         \n",
      " 0   Unnamed: 0            23492 non-null  int64         \n",
      " 1   total_images          23492 non-null  int64         \n",
      " 2   last_price            23492 non-null  int32         \n",
      " 3   total_area            23492 non-null  float64       \n",
      " 4   first_day_exposition  23492 non-null  datetime64[ns]\n",
      " 5   rooms                 23492 non-null  int64         \n",
      " 6   ceiling_height        23492 non-null  float64       \n",
      " 7   floors_total          23492 non-null  int32         \n",
      " 8   living_area           21636 non-null  float64       \n",
      " 9   floor                 23492 non-null  int64         \n",
      " 10  is_apartment          2767 non-null   float64       \n",
      " 11  studio                23492 non-null  bool          \n",
      " 12  open_plan             23492 non-null  bool          \n",
      " 13  kitchen_area          21279 non-null  float64       \n",
      " 14  balcony               12078 non-null  float64       \n",
      " 15  locality_name         23444 non-null  object        \n",
      " 16  airports_nearest      17970 non-null  float64       \n",
      " 17  cityCenters_nearest   17991 non-null  float64       \n",
      " 18  parks_around3000      17992 non-null  float64       \n",
      " 19  parks_nearest         7973 non-null   float64       \n",
      " 20  ponds_around3000      17992 non-null  float64       \n",
      " 21  ponds_nearest         8994 non-null   float64       \n",
      " 22  days_exposition       20340 non-null  float64       \n",
      "dtypes: bool(2), datetime64[ns](1), float64(13), int32(2), int64(4), object(1)\n",
      "memory usage: 3.8+ MB\n"
     ]
    }
   ],
   "source": [
    "df.tail()\n",
    "df.isna().sum()\n",
    "df.info()"
   ]
  },
  {
   "cell_type": "markdown",
   "metadata": {
    "pycharm": {
     "name": "#%% md\n"
    }
   },
   "source": [
    "##### столбец готов"
   ]
  },
  {
   "cell_type": "markdown",
   "metadata": {
    "pycharm": {
     "name": "#%% md\n"
    }
   },
   "source": [
    "#### Столбец \"living_area\""
   ]
  },
  {
   "cell_type": "code",
   "execution_count": 55,
   "metadata": {
    "pycharm": {
     "name": "#%%\n"
    }
   },
   "outputs": [
    {
     "data": {
      "text/plain": [
       "count    21636.000000\n",
       "mean        33.893180\n",
       "std         19.433541\n",
       "min          2.000000\n",
       "25%         18.600000\n",
       "50%         30.000000\n",
       "75%         42.100000\n",
       "max        250.000000\n",
       "Name: living_area, dtype: float64"
      ]
     },
     "metadata": {},
     "output_type": "display_data"
    },
    {
     "data": {
      "image/png": "[encoded data removed]",
      "text/plain": [
       "<Figure size 288x576 with 1 Axes>"
      ]
     },
     "metadata": {},
     "output_type": "display_data"
    },
    {
     "data": {
      "image/png": "[encoded data removed]",
      "text/plain": [
       "<Figure size 432x288 with 1 Axes>"
      ]
     },
     "metadata": {},
     "output_type": "display_data"
    }
   ],
   "source": [
    "basis_stat_f('living_area')"
   ]
  },
  {
   "cell_type": "code",
   "execution_count": 56,
   "metadata": {
    "pycharm": {
     "name": "#%%\n"
    }
   },
   "outputs": [
    {
     "data": {
      "text/plain": [
       "21646    2.0\n",
       "13845    2.0\n",
       "3224     3.0\n",
       "23453    3.0\n",
       "17492    5.0\n",
       "        ... \n",
       "23521    NaN\n",
       "23542    NaN\n",
       "23549    NaN\n",
       "23558    NaN\n",
       "23576    NaN\n",
       "Name: living_area, Length: 23492, dtype: float64"
      ]
     },
     "execution_count": 56,
     "metadata": {},
     "output_type": "execute_result"
    }
   ],
   "source": [
    "df['living_area'].sort_values(ascending = True)"
   ]
  },
  {
   "cell_type": "markdown",
   "metadata": {
    "pycharm": {
     "name": "#%% md\n"
    }
   },
   "source": [
    "сразу откинем выбросы более 170 кв метров, как единичные случаи"
   ]
  },
  {
   "cell_type": "code",
   "execution_count": 57,
   "metadata": {
    "pycharm": {
     "name": "#%%\n"
    }
   },
   "outputs": [
    {
     "name": "stdout",
     "output_type": "stream",
     "text": [
      "<class 'pandas.core.frame.DataFrame'>\n",
      "Int64Index: 23492 entries, 0 to 23577\n",
      "Data columns (total 23 columns):\n",
      " #   Column                Non-Null Count  Dtype         \n",
      "---  ------                --------------  -----         \n",
      " 0   Unnamed: 0            23492 non-null  int64         \n",
      " 1   total_images          23492 non-null  int64         \n",
      " 2   last_price            23492 non-null  int32         \n",
      " 3   total_area            23492 non-null  float64       \n",
      " 4   first_day_exposition  23492 non-null  datetime64[ns]\n",
      " 5   rooms                 23492 non-null  int64         \n",
      " 6   ceiling_height        23492 non-null  float64       \n",
      " 7   floors_total          23492 non-null  int32         \n",
      " 8   living_area           21636 non-null  float64       \n",
      " 9   floor                 23492 non-null  int64         \n",
      " 10  is_apartment          2767 non-null   float64       \n",
      " 11  studio                23492 non-null  bool          \n",
      " 12  open_plan             23492 non-null  bool          \n",
      " 13  kitchen_area          21279 non-null  float64       \n",
      " 14  balcony               12078 non-null  float64       \n",
      " 15  locality_name         23444 non-null  object        \n",
      " 16  airports_nearest      17970 non-null  float64       \n",
      " 17  cityCenters_nearest   17991 non-null  float64       \n",
      " 18  parks_around3000      17992 non-null  float64       \n",
      " 19  parks_nearest         7973 non-null   float64       \n",
      " 20  ponds_around3000      17992 non-null  float64       \n",
      " 21  ponds_nearest         8994 non-null   float64       \n",
      " 22  days_exposition       20340 non-null  float64       \n",
      "dtypes: bool(2), datetime64[ns](1), float64(13), int32(2), int64(4), object(1)\n",
      "memory usage: 3.8+ MB\n"
     ]
    }
   ],
   "source": [
    "# check\n",
    "df.info()"
   ]
  },
  {
   "cell_type": "code",
   "execution_count": 58,
   "metadata": {
    "pycharm": {
     "name": "#%%\n"
    }
   },
   "outputs": [],
   "source": [
    "df = df.loc[(df['living_area'] < 170) & (df['living_area'] > 10)]"
   ]
  },
  {
   "cell_type": "code",
   "execution_count": 59,
   "metadata": {
    "pycharm": {
     "name": "#%%\n"
    }
   },
   "outputs": [
    {
     "data": {
      "text/plain": [
       "(21556, 23)"
      ]
     },
     "execution_count": 59,
     "metadata": {},
     "output_type": "execute_result"
    }
   ],
   "source": [
    "# check\n",
    "df.shape"
   ]
  },
  {
   "cell_type": "code",
   "execution_count": 60,
   "metadata": {
    "pycharm": {
     "name": "#%%\n"
    }
   },
   "outputs": [
    {
     "ename": "FileNotFoundError",
     "evalue": "[Errno 2] No such file or directory: '/datasets/real_estate_data.csv'",
     "output_type": "error",
     "traceback": [
      "\u001B[1;31m---------------------------------------------------------------------------\u001B[0m",
      "\u001B[1;31mFileNotFoundError\u001B[0m                         Traceback (most recent call last)",
      "Input \u001B[1;32mIn [60]\u001B[0m, in \u001B[0;36m<cell line: 2>\u001B[1;34m()\u001B[0m\n\u001B[0;32m      1\u001B[0m \u001B[38;5;66;03m# check\u001B[39;00m\n\u001B[1;32m----> 2\u001B[0m df_check \u001B[38;5;241m=\u001B[39m \u001B[43mpd\u001B[49m\u001B[38;5;241;43m.\u001B[39;49m\u001B[43mread_csv\u001B[49m\u001B[43m(\u001B[49m\u001B[38;5;124;43m'\u001B[39;49m\u001B[38;5;124;43m/datasets/real_estate_data.csv\u001B[39;49m\u001B[38;5;124;43m'\u001B[39;49m\u001B[43m,\u001B[49m\u001B[43m \u001B[49m\u001B[43msep\u001B[49m\u001B[38;5;241;43m=\u001B[39;49m\u001B[38;5;124;43m'\u001B[39;49m\u001B[38;5;130;43;01m\\t\u001B[39;49;00m\u001B[38;5;124;43m'\u001B[39;49m\u001B[43m)\u001B[49m \n\u001B[0;32m      3\u001B[0m df_check\u001B[38;5;241m.\u001B[39minfo()\n\u001B[0;32m      4\u001B[0m df_isna \u001B[38;5;241m=\u001B[39m df_check\u001B[38;5;241m.\u001B[39mquery(\u001B[38;5;124m'\u001B[39m\u001B[38;5;124mairports_nearest.isna() | airports_nearest < 60000\u001B[39m\u001B[38;5;124m'\u001B[39m)\n",
      "File \u001B[1;32mC:\\Anaconda\\lib\\site-packages\\pandas\\util\\_decorators.py:311\u001B[0m, in \u001B[0;36mdeprecate_nonkeyword_arguments.<locals>.decorate.<locals>.wrapper\u001B[1;34m(*args, **kwargs)\u001B[0m\n\u001B[0;32m    305\u001B[0m \u001B[38;5;28;01mif\u001B[39;00m \u001B[38;5;28mlen\u001B[39m(args) \u001B[38;5;241m>\u001B[39m num_allow_args:\n\u001B[0;32m    306\u001B[0m     warnings\u001B[38;5;241m.\u001B[39mwarn(\n\u001B[0;32m    307\u001B[0m         msg\u001B[38;5;241m.\u001B[39mformat(arguments\u001B[38;5;241m=\u001B[39marguments),\n\u001B[0;32m    308\u001B[0m         \u001B[38;5;167;01mFutureWarning\u001B[39;00m,\n\u001B[0;32m    309\u001B[0m         stacklevel\u001B[38;5;241m=\u001B[39mstacklevel,\n\u001B[0;32m    310\u001B[0m     )\n\u001B[1;32m--> 311\u001B[0m \u001B[38;5;28;01mreturn\u001B[39;00m func(\u001B[38;5;241m*\u001B[39margs, \u001B[38;5;241m*\u001B[39m\u001B[38;5;241m*\u001B[39mkwargs)\n",
      "File \u001B[1;32mC:\\Anaconda\\lib\\site-packages\\pandas\\io\\parsers\\readers.py:680\u001B[0m, in \u001B[0;36mread_csv\u001B[1;34m(filepath_or_buffer, sep, delimiter, header, names, index_col, usecols, squeeze, prefix, mangle_dupe_cols, dtype, engine, converters, true_values, false_values, skipinitialspace, skiprows, skipfooter, nrows, na_values, keep_default_na, na_filter, verbose, skip_blank_lines, parse_dates, infer_datetime_format, keep_date_col, date_parser, dayfirst, cache_dates, iterator, chunksize, compression, thousands, decimal, lineterminator, quotechar, quoting, doublequote, escapechar, comment, encoding, encoding_errors, dialect, error_bad_lines, warn_bad_lines, on_bad_lines, delim_whitespace, low_memory, memory_map, float_precision, storage_options)\u001B[0m\n\u001B[0;32m    665\u001B[0m kwds_defaults \u001B[38;5;241m=\u001B[39m _refine_defaults_read(\n\u001B[0;32m    666\u001B[0m     dialect,\n\u001B[0;32m    667\u001B[0m     delimiter,\n\u001B[1;32m   (...)\u001B[0m\n\u001B[0;32m    676\u001B[0m     defaults\u001B[38;5;241m=\u001B[39m{\u001B[38;5;124m\"\u001B[39m\u001B[38;5;124mdelimiter\u001B[39m\u001B[38;5;124m\"\u001B[39m: \u001B[38;5;124m\"\u001B[39m\u001B[38;5;124m,\u001B[39m\u001B[38;5;124m\"\u001B[39m},\n\u001B[0;32m    677\u001B[0m )\n\u001B[0;32m    678\u001B[0m kwds\u001B[38;5;241m.\u001B[39mupdate(kwds_defaults)\n\u001B[1;32m--> 680\u001B[0m \u001B[38;5;28;01mreturn\u001B[39;00m \u001B[43m_read\u001B[49m\u001B[43m(\u001B[49m\u001B[43mfilepath_or_buffer\u001B[49m\u001B[43m,\u001B[49m\u001B[43m \u001B[49m\u001B[43mkwds\u001B[49m\u001B[43m)\u001B[49m\n",
      "File \u001B[1;32mC:\\Anaconda\\lib\\site-packages\\pandas\\io\\parsers\\readers.py:575\u001B[0m, in \u001B[0;36m_read\u001B[1;34m(filepath_or_buffer, kwds)\u001B[0m\n\u001B[0;32m    572\u001B[0m _validate_names(kwds\u001B[38;5;241m.\u001B[39mget(\u001B[38;5;124m\"\u001B[39m\u001B[38;5;124mnames\u001B[39m\u001B[38;5;124m\"\u001B[39m, \u001B[38;5;28;01mNone\u001B[39;00m))\n\u001B[0;32m    574\u001B[0m \u001B[38;5;66;03m# Create the parser.\u001B[39;00m\n\u001B[1;32m--> 575\u001B[0m parser \u001B[38;5;241m=\u001B[39m TextFileReader(filepath_or_buffer, \u001B[38;5;241m*\u001B[39m\u001B[38;5;241m*\u001B[39mkwds)\n\u001B[0;32m    577\u001B[0m \u001B[38;5;28;01mif\u001B[39;00m chunksize \u001B[38;5;129;01mor\u001B[39;00m iterator:\n\u001B[0;32m    578\u001B[0m     \u001B[38;5;28;01mreturn\u001B[39;00m parser\n",
      "File \u001B[1;32mC:\\Anaconda\\lib\\site-packages\\pandas\\io\\parsers\\readers.py:933\u001B[0m, in \u001B[0;36mTextFileReader.__init__\u001B[1;34m(self, f, engine, **kwds)\u001B[0m\n\u001B[0;32m    930\u001B[0m     \u001B[38;5;28mself\u001B[39m\u001B[38;5;241m.\u001B[39moptions[\u001B[38;5;124m\"\u001B[39m\u001B[38;5;124mhas_index_names\u001B[39m\u001B[38;5;124m\"\u001B[39m] \u001B[38;5;241m=\u001B[39m kwds[\u001B[38;5;124m\"\u001B[39m\u001B[38;5;124mhas_index_names\u001B[39m\u001B[38;5;124m\"\u001B[39m]\n\u001B[0;32m    932\u001B[0m \u001B[38;5;28mself\u001B[39m\u001B[38;5;241m.\u001B[39mhandles: IOHandles \u001B[38;5;241m|\u001B[39m \u001B[38;5;28;01mNone\u001B[39;00m \u001B[38;5;241m=\u001B[39m \u001B[38;5;28;01mNone\u001B[39;00m\n\u001B[1;32m--> 933\u001B[0m \u001B[38;5;28mself\u001B[39m\u001B[38;5;241m.\u001B[39m_engine \u001B[38;5;241m=\u001B[39m \u001B[38;5;28;43mself\u001B[39;49m\u001B[38;5;241;43m.\u001B[39;49m\u001B[43m_make_engine\u001B[49m\u001B[43m(\u001B[49m\u001B[43mf\u001B[49m\u001B[43m,\u001B[49m\u001B[43m \u001B[49m\u001B[38;5;28;43mself\u001B[39;49m\u001B[38;5;241;43m.\u001B[39;49m\u001B[43mengine\u001B[49m\u001B[43m)\u001B[49m\n",
      "File \u001B[1;32mC:\\Anaconda\\lib\\site-packages\\pandas\\io\\parsers\\readers.py:1217\u001B[0m, in \u001B[0;36mTextFileReader._make_engine\u001B[1;34m(self, f, engine)\u001B[0m\n\u001B[0;32m   1213\u001B[0m     mode \u001B[38;5;241m=\u001B[39m \u001B[38;5;124m\"\u001B[39m\u001B[38;5;124mrb\u001B[39m\u001B[38;5;124m\"\u001B[39m\n\u001B[0;32m   1214\u001B[0m \u001B[38;5;66;03m# error: No overload variant of \"get_handle\" matches argument types\u001B[39;00m\n\u001B[0;32m   1215\u001B[0m \u001B[38;5;66;03m# \"Union[str, PathLike[str], ReadCsvBuffer[bytes], ReadCsvBuffer[str]]\"\u001B[39;00m\n\u001B[0;32m   1216\u001B[0m \u001B[38;5;66;03m# , \"str\", \"bool\", \"Any\", \"Any\", \"Any\", \"Any\", \"Any\"\u001B[39;00m\n\u001B[1;32m-> 1217\u001B[0m \u001B[38;5;28mself\u001B[39m\u001B[38;5;241m.\u001B[39mhandles \u001B[38;5;241m=\u001B[39m \u001B[43mget_handle\u001B[49m\u001B[43m(\u001B[49m\u001B[43m  \u001B[49m\u001B[38;5;66;43;03m# type: ignore[call-overload]\u001B[39;49;00m\n\u001B[0;32m   1218\u001B[0m \u001B[43m    \u001B[49m\u001B[43mf\u001B[49m\u001B[43m,\u001B[49m\n\u001B[0;32m   1219\u001B[0m \u001B[43m    \u001B[49m\u001B[43mmode\u001B[49m\u001B[43m,\u001B[49m\n\u001B[0;32m   1220\u001B[0m \u001B[43m    \u001B[49m\u001B[43mencoding\u001B[49m\u001B[38;5;241;43m=\u001B[39;49m\u001B[38;5;28;43mself\u001B[39;49m\u001B[38;5;241;43m.\u001B[39;49m\u001B[43moptions\u001B[49m\u001B[38;5;241;43m.\u001B[39;49m\u001B[43mget\u001B[49m\u001B[43m(\u001B[49m\u001B[38;5;124;43m\"\u001B[39;49m\u001B[38;5;124;43mencoding\u001B[39;49m\u001B[38;5;124;43m\"\u001B[39;49m\u001B[43m,\u001B[49m\u001B[43m \u001B[49m\u001B[38;5;28;43;01mNone\u001B[39;49;00m\u001B[43m)\u001B[49m\u001B[43m,\u001B[49m\n\u001B[0;32m   1221\u001B[0m \u001B[43m    \u001B[49m\u001B[43mcompression\u001B[49m\u001B[38;5;241;43m=\u001B[39;49m\u001B[38;5;28;43mself\u001B[39;49m\u001B[38;5;241;43m.\u001B[39;49m\u001B[43moptions\u001B[49m\u001B[38;5;241;43m.\u001B[39;49m\u001B[43mget\u001B[49m\u001B[43m(\u001B[49m\u001B[38;5;124;43m\"\u001B[39;49m\u001B[38;5;124;43mcompression\u001B[39;49m\u001B[38;5;124;43m\"\u001B[39;49m\u001B[43m,\u001B[49m\u001B[43m \u001B[49m\u001B[38;5;28;43;01mNone\u001B[39;49;00m\u001B[43m)\u001B[49m\u001B[43m,\u001B[49m\n\u001B[0;32m   1222\u001B[0m \u001B[43m    \u001B[49m\u001B[43mmemory_map\u001B[49m\u001B[38;5;241;43m=\u001B[39;49m\u001B[38;5;28;43mself\u001B[39;49m\u001B[38;5;241;43m.\u001B[39;49m\u001B[43moptions\u001B[49m\u001B[38;5;241;43m.\u001B[39;49m\u001B[43mget\u001B[49m\u001B[43m(\u001B[49m\u001B[38;5;124;43m\"\u001B[39;49m\u001B[38;5;124;43mmemory_map\u001B[39;49m\u001B[38;5;124;43m\"\u001B[39;49m\u001B[43m,\u001B[49m\u001B[43m \u001B[49m\u001B[38;5;28;43;01mFalse\u001B[39;49;00m\u001B[43m)\u001B[49m\u001B[43m,\u001B[49m\n\u001B[0;32m   1223\u001B[0m \u001B[43m    \u001B[49m\u001B[43mis_text\u001B[49m\u001B[38;5;241;43m=\u001B[39;49m\u001B[43mis_text\u001B[49m\u001B[43m,\u001B[49m\n\u001B[0;32m   1224\u001B[0m \u001B[43m    \u001B[49m\u001B[43merrors\u001B[49m\u001B[38;5;241;43m=\u001B[39;49m\u001B[38;5;28;43mself\u001B[39;49m\u001B[38;5;241;43m.\u001B[39;49m\u001B[43moptions\u001B[49m\u001B[38;5;241;43m.\u001B[39;49m\u001B[43mget\u001B[49m\u001B[43m(\u001B[49m\u001B[38;5;124;43m\"\u001B[39;49m\u001B[38;5;124;43mencoding_errors\u001B[39;49m\u001B[38;5;124;43m\"\u001B[39;49m\u001B[43m,\u001B[49m\u001B[43m \u001B[49m\u001B[38;5;124;43m\"\u001B[39;49m\u001B[38;5;124;43mstrict\u001B[39;49m\u001B[38;5;124;43m\"\u001B[39;49m\u001B[43m)\u001B[49m\u001B[43m,\u001B[49m\n\u001B[0;32m   1225\u001B[0m \u001B[43m    \u001B[49m\u001B[43mstorage_options\u001B[49m\u001B[38;5;241;43m=\u001B[39;49m\u001B[38;5;28;43mself\u001B[39;49m\u001B[38;5;241;43m.\u001B[39;49m\u001B[43moptions\u001B[49m\u001B[38;5;241;43m.\u001B[39;49m\u001B[43mget\u001B[49m\u001B[43m(\u001B[49m\u001B[38;5;124;43m\"\u001B[39;49m\u001B[38;5;124;43mstorage_options\u001B[39;49m\u001B[38;5;124;43m\"\u001B[39;49m\u001B[43m,\u001B[49m\u001B[43m \u001B[49m\u001B[38;5;28;43;01mNone\u001B[39;49;00m\u001B[43m)\u001B[49m\u001B[43m,\u001B[49m\n\u001B[0;32m   1226\u001B[0m \u001B[43m\u001B[49m\u001B[43m)\u001B[49m\n\u001B[0;32m   1227\u001B[0m \u001B[38;5;28;01massert\u001B[39;00m \u001B[38;5;28mself\u001B[39m\u001B[38;5;241m.\u001B[39mhandles \u001B[38;5;129;01mis\u001B[39;00m \u001B[38;5;129;01mnot\u001B[39;00m \u001B[38;5;28;01mNone\u001B[39;00m\n\u001B[0;32m   1228\u001B[0m f \u001B[38;5;241m=\u001B[39m \u001B[38;5;28mself\u001B[39m\u001B[38;5;241m.\u001B[39mhandles\u001B[38;5;241m.\u001B[39mhandle\n",
      "File \u001B[1;32mC:\\Anaconda\\lib\\site-packages\\pandas\\io\\common.py:789\u001B[0m, in \u001B[0;36mget_handle\u001B[1;34m(path_or_buf, mode, encoding, compression, memory_map, is_text, errors, storage_options)\u001B[0m\n\u001B[0;32m    784\u001B[0m \u001B[38;5;28;01melif\u001B[39;00m \u001B[38;5;28misinstance\u001B[39m(handle, \u001B[38;5;28mstr\u001B[39m):\n\u001B[0;32m    785\u001B[0m     \u001B[38;5;66;03m# Check whether the filename is to be opened in binary mode.\u001B[39;00m\n\u001B[0;32m    786\u001B[0m     \u001B[38;5;66;03m# Binary mode does not support 'encoding' and 'newline'.\u001B[39;00m\n\u001B[0;32m    787\u001B[0m     \u001B[38;5;28;01mif\u001B[39;00m ioargs\u001B[38;5;241m.\u001B[39mencoding \u001B[38;5;129;01mand\u001B[39;00m \u001B[38;5;124m\"\u001B[39m\u001B[38;5;124mb\u001B[39m\u001B[38;5;124m\"\u001B[39m \u001B[38;5;129;01mnot\u001B[39;00m \u001B[38;5;129;01min\u001B[39;00m ioargs\u001B[38;5;241m.\u001B[39mmode:\n\u001B[0;32m    788\u001B[0m         \u001B[38;5;66;03m# Encoding\u001B[39;00m\n\u001B[1;32m--> 789\u001B[0m         handle \u001B[38;5;241m=\u001B[39m \u001B[38;5;28;43mopen\u001B[39;49m\u001B[43m(\u001B[49m\n\u001B[0;32m    790\u001B[0m \u001B[43m            \u001B[49m\u001B[43mhandle\u001B[49m\u001B[43m,\u001B[49m\n\u001B[0;32m    791\u001B[0m \u001B[43m            \u001B[49m\u001B[43mioargs\u001B[49m\u001B[38;5;241;43m.\u001B[39;49m\u001B[43mmode\u001B[49m\u001B[43m,\u001B[49m\n\u001B[0;32m    792\u001B[0m \u001B[43m            \u001B[49m\u001B[43mencoding\u001B[49m\u001B[38;5;241;43m=\u001B[39;49m\u001B[43mioargs\u001B[49m\u001B[38;5;241;43m.\u001B[39;49m\u001B[43mencoding\u001B[49m\u001B[43m,\u001B[49m\n\u001B[0;32m    793\u001B[0m \u001B[43m            \u001B[49m\u001B[43merrors\u001B[49m\u001B[38;5;241;43m=\u001B[39;49m\u001B[43merrors\u001B[49m\u001B[43m,\u001B[49m\n\u001B[0;32m    794\u001B[0m \u001B[43m            \u001B[49m\u001B[43mnewline\u001B[49m\u001B[38;5;241;43m=\u001B[39;49m\u001B[38;5;124;43m\"\u001B[39;49m\u001B[38;5;124;43m\"\u001B[39;49m\u001B[43m,\u001B[49m\n\u001B[0;32m    795\u001B[0m \u001B[43m        \u001B[49m\u001B[43m)\u001B[49m\n\u001B[0;32m    796\u001B[0m     \u001B[38;5;28;01melse\u001B[39;00m:\n\u001B[0;32m    797\u001B[0m         \u001B[38;5;66;03m# Binary mode\u001B[39;00m\n\u001B[0;32m    798\u001B[0m         handle \u001B[38;5;241m=\u001B[39m \u001B[38;5;28mopen\u001B[39m(handle, ioargs\u001B[38;5;241m.\u001B[39mmode)\n",
      "\u001B[1;31mFileNotFoundError\u001B[0m: [Errno 2] No such file or directory: '/datasets/real_estate_data.csv'"
     ]
    }
   ],
   "source": [
    "# check\n",
    "df_check = pd.read_csv('/datasets/real_estate_data.csv', sep='\\t') \n",
    "df_check.info()\n",
    "df_isna = df_check.query('airports_nearest.isna() | airports_nearest < 60000')\n",
    "df_isna.info()"
   ]
  },
  {
   "cell_type": "code",
   "execution_count": null,
   "metadata": {
    "pycharm": {
     "name": "#%%\n"
    }
   },
   "outputs": [],
   "source": [
    "# check\n",
    "df_check = pd.read_csv('/datasets/real_estate_data.csv', sep='\\t') \n",
    "df_check.info()\n",
    "df_isna = df_check[(df_check ['airports_nearest'] < 60000) | (df_check ['airports_nearest'].isna()) ]\n",
    "\n",
    "df_isna.info()"
   ]
  },
  {
   "cell_type": "code",
   "execution_count": null,
   "metadata": {
    "pycharm": {
     "name": "#%%\n"
    }
   },
   "outputs": [],
   "source": [
    "basis_stat_f('living_area')"
   ]
  },
  {
   "cell_type": "markdown",
   "metadata": {
    "pycharm": {
     "name": "#%% md\n"
    }
   },
   "source": [
    "изучая описательную статистику, приходим к выводу, что т к разброс признака от среднего значения велик (mean =    33.998806, std = 19.786539, 50% = 30.000000), целесообразно заполнение пропусков медианными значениями. Посчитаем кол-во пропущенных значений."
   ]
  },
  {
   "cell_type": "code",
   "execution_count": null,
   "metadata": {
    "pycharm": {
     "name": "#%%\n"
    }
   },
   "outputs": [],
   "source": [
    "df['living_area'].isna().sum()"
   ]
  },
  {
   "cell_type": "markdown",
   "metadata": {
    "pycharm": {
     "name": "#%% md\n"
    }
   },
   "source": [
    "заменяем пропуски и удостоверяемся, что все в порядке"
   ]
  },
  {
   "cell_type": "code",
   "execution_count": null,
   "metadata": {
    "pycharm": {
     "name": "#%%\n"
    }
   },
   "outputs": [],
   "source": [
    "df['living_area'] = df['living_area'].fillna(value = 30)\n",
    "df.info()"
   ]
  },
  {
   "cell_type": "markdown",
   "metadata": {
    "pycharm": {
     "name": "#%% md\n"
    }
   },
   "source": [
    "##### столбец готов"
   ]
  },
  {
   "cell_type": "code",
   "execution_count": null,
   "metadata": {
    "pycharm": {
     "name": "#%%\n"
    }
   },
   "outputs": [],
   "source": [
    "df.query('total_area*0.9 <= (living_area + kitchen_area)')#.dropna()"
   ]
  },
  {
   "cell_type": "markdown",
   "metadata": {
    "pycharm": {
     "name": "#%% md\n"
    }
   },
   "source": [
    "Заполним ‘living_area’, ‘kitchen_area’ медианными значениями (так как стандартное отклонение >>1) с привязкой к ‘total_area’"
   ]
  },
  {
   "cell_type": "code",
   "execution_count": null,
   "metadata": {
    "pycharm": {
     "name": "#%%\n"
    }
   },
   "outputs": [],
   "source": [
    "for item in ['living_area', 'kitchen_area']:\n",
    "    df[item] = df[item].fillna(df.groupby('total_area')[item].transform('median'))"
   ]
  },
  {
   "cell_type": "code",
   "execution_count": null,
   "metadata": {
    "pycharm": {
     "name": "#%%\n"
    }
   },
   "outputs": [],
   "source": [
    "df.isna().sum()"
   ]
  },
  {
   "cell_type": "code",
   "execution_count": null,
   "metadata": {
    "pycharm": {
     "name": "#%%\n"
    }
   },
   "outputs": [],
   "source": [
    "df.query('total_area*0.9 <= (living_area + kitchen_area)')"
   ]
  },
  {
   "cell_type": "code",
   "execution_count": null,
   "metadata": {
    "pycharm": {
     "name": "#%%\n"
    }
   },
   "outputs": [],
   "source": [
    "df.query('total_area*0.9 <= (living_area + kitchen_area)').dropna()"
   ]
  },
  {
   "cell_type": "markdown",
   "metadata": {
    "pycharm": {
     "name": "#%% md\n"
    }
   },
   "source": [
    "#### Столбец \"floor\""
   ]
  },
  {
   "cell_type": "code",
   "execution_count": null,
   "metadata": {
    "pycharm": {
     "name": "#%%\n"
    }
   },
   "outputs": [],
   "source": [
    "basis_stat_f('floor')"
   ]
  },
  {
   "cell_type": "code",
   "execution_count": null,
   "metadata": {
    "pycharm": {
     "name": "#%%\n"
    }
   },
   "outputs": [],
   "source": [
    "df['floor'].isna().sum()"
   ]
  },
  {
   "cell_type": "markdown",
   "metadata": {
    "pycharm": {
     "name": "#%% md\n"
    }
   },
   "source": [
    "Пропусков нет, данные распределены равномерно, тип данных int - все верно. Столбец готов."
   ]
  },
  {
   "cell_type": "code",
   "execution_count": null,
   "metadata": {
    "pycharm": {
     "name": "#%%\n"
    }
   },
   "outputs": [],
   "source": [
    "# check\n",
    "df.info()"
   ]
  },
  {
   "cell_type": "markdown",
   "metadata": {
    "pycharm": {
     "name": "#%% md\n"
    }
   },
   "source": [
    "#### Столбец \"is_apartment \"\n"
   ]
  },
  {
   "cell_type": "markdown",
   "metadata": {
    "pycharm": {
     "name": "#%% md\n"
    }
   },
   "source": [
    "Столбец с булевыми значениями и большим кол-вом пропусков. Изменим тип данных на bool и заполним пропуски."
   ]
  },
  {
   "cell_type": "code",
   "execution_count": null,
   "metadata": {
    "pycharm": {
     "name": "#%%\n"
    }
   },
   "outputs": [],
   "source": [
    "df['is_apartment'] = df['is_apartment'].astype('bool')\n",
    "df['living_area'] = df['living_area'].fillna('False')"
   ]
  },
  {
   "cell_type": "code",
   "execution_count": null,
   "metadata": {
    "pycharm": {
     "name": "#%%\n"
    }
   },
   "outputs": [],
   "source": [
    "df.info()"
   ]
  },
  {
   "cell_type": "markdown",
   "metadata": {
    "pycharm": {
     "name": "#%% md\n"
    }
   },
   "source": [
    "##### столбец готов"
   ]
  },
  {
   "cell_type": "markdown",
   "metadata": {
    "pycharm": {
     "name": "#%% md\n"
    }
   },
   "source": [
    "#### Столбец \"studio\" и Столбец \"open_plan\""
   ]
  },
  {
   "cell_type": "markdown",
   "metadata": {
    "pycharm": {
     "name": "#%% md\n"
    }
   },
   "source": [
    "в обоих случаях мы видим, что пропусков нет, тип данных bool. Ничего делать не надо."
   ]
  },
  {
   "cell_type": "markdown",
   "metadata": {
    "pycharm": {
     "name": "#%% md\n"
    }
   },
   "source": [
    "#### Столбец \"kitchen_area\""
   ]
  },
  {
   "cell_type": "code",
   "execution_count": null,
   "metadata": {
    "pycharm": {
     "name": "#%%\n"
    }
   },
   "outputs": [],
   "source": [
    "basis_stat_f('kitchen_area')"
   ]
  },
  {
   "cell_type": "code",
   "execution_count": null,
   "metadata": {
    "pycharm": {
     "name": "#%%\n"
    }
   },
   "outputs": [],
   "source": [
    "df['kitchen_area'].isna().sum()"
   ]
  },
  {
   "cell_type": "markdown",
   "metadata": {
    "pycharm": {
     "name": "#%% md\n"
    }
   },
   "source": [
    "изучая описательную статистику, приходим к выводу, что т к разброс признака от среднего значения велик (mean =    10.49, std = 5.65, 50% = 9.1), целесообразно заполнение пропусков медианными значениями. Кол-во пропущенных значений велико 2216 (около 10% данных столбца). Тип данных правильный float64."
   ]
  },
  {
   "cell_type": "code",
   "execution_count": null,
   "metadata": {
    "pycharm": {
     "name": "#%%\n"
    }
   },
   "outputs": [],
   "source": [
    "df['kitchen_area'] = df['kitchen_area'].fillna(5.65)"
   ]
  },
  {
   "cell_type": "code",
   "execution_count": null,
   "metadata": {
    "pycharm": {
     "name": "#%%\n"
    }
   },
   "outputs": [],
   "source": [
    "df['kitchen_area'].isna().sum()"
   ]
  },
  {
   "cell_type": "code",
   "execution_count": null,
   "metadata": {
    "pycharm": {
     "name": "#%%\n"
    }
   },
   "outputs": [],
   "source": [
    "df.shape"
   ]
  },
  {
   "cell_type": "code",
   "execution_count": null,
   "metadata": {
    "pycharm": {
     "name": "#%%\n"
    }
   },
   "outputs": [],
   "source": [
    "#df = df.dropna(subset=['kitchen_area'])"
   ]
  },
  {
   "cell_type": "markdown",
   "metadata": {
    "pycharm": {
     "name": "#%% md\n"
    }
   },
   "source": [
    "##### столбец готов"
   ]
  },
  {
   "cell_type": "markdown",
   "metadata": {
    "pycharm": {
     "name": "#%% md\n"
    }
   },
   "source": [
    "#### Столбец \"balcony\""
   ]
  },
  {
   "cell_type": "code",
   "execution_count": null,
   "metadata": {
    "pycharm": {
     "name": "#%%\n"
    }
   },
   "outputs": [],
   "source": [
    "basis_stat_f('balcony')"
   ]
  },
  {
   "cell_type": "code",
   "execution_count": null,
   "metadata": {
    "pycharm": {
     "name": "#%%\n"
    }
   },
   "outputs": [],
   "source": [
    "\n",
    "df.fillna({\n",
    "    'balcony': 0,\n",
    "\n",
    "}, inplace=True)"
   ]
  },
  {
   "cell_type": "markdown",
   "metadata": {
    "pycharm": {
     "name": "#%% md\n"
    }
   },
   "source": [
    "пропусков нет, необходимо изменить тип данных на int. В остальном все в порядке."
   ]
  },
  {
   "cell_type": "code",
   "execution_count": null,
   "metadata": {
    "pycharm": {
     "name": "#%%\n"
    }
   },
   "outputs": [],
   "source": [
    "df['balcony'] = df['balcony'].astype('int64',  errors='ignore')\n",
    "df.info()"
   ]
  },
  {
   "cell_type": "markdown",
   "metadata": {
    "pycharm": {
     "name": "#%% md\n"
    }
   },
   "source": [
    "#### Столбец \"locality_name\""
   ]
  },
  {
   "cell_type": "markdown",
   "metadata": {
    "pycharm": {
     "name": "#%% md\n"
    }
   },
   "source": [
    "для начала изучим содержание столбца с точки зрения уникальных значений"
   ]
  },
  {
   "cell_type": "code",
   "execution_count": null,
   "metadata": {
    "pycharm": {
     "name": "#%%\n"
    }
   },
   "outputs": [],
   "source": [
    "df['locality_name'].value_counts()\n",
    "df['locality_name'].isna().sum()"
   ]
  },
  {
   "cell_type": "markdown",
   "metadata": {
    "pycharm": {
     "name": "#%% md\n"
    }
   },
   "source": [
    "Итак, у нас всего 48 пропусков - это немного. Посмотрим сколько уникальных значений в столбце, при этом уберем NaN и отсортируем значения сразу по алфавиту"
   ]
  },
  {
   "cell_type": "code",
   "execution_count": null,
   "metadata": {
    "pycharm": {
     "name": "#%%\n"
    },
    "scrolled": true
   },
   "outputs": [],
   "source": [
    "df['locality_name'].sort_values().unique()"
   ]
  },
  {
   "cell_type": "code",
   "execution_count": null,
   "metadata": {
    "pycharm": {
     "name": "#%%\n"
    }
   },
   "outputs": [],
   "source": [
    "df.dropna(subset=['locality_name'], inplace=True)\n",
    "df['locality_name']"
   ]
  },
  {
   "cell_type": "markdown",
   "metadata": {
    "pycharm": {
     "name": "#%% md\n"
    }
   },
   "source": [
    "проверяем на наличие явных дубликатов"
   ]
  },
  {
   "cell_type": "code",
   "execution_count": null,
   "metadata": {
    "pycharm": {
     "name": "#%%\n"
    }
   },
   "outputs": [],
   "source": [
    "df.duplicated().sum()"
   ]
  },
  {
   "cell_type": "markdown",
   "metadata": {
    "pycharm": {
     "name": "#%% md\n"
    }
   },
   "source": [
    "явных дубликатов нет"
   ]
  },
  {
   "cell_type": "markdown",
   "metadata": {
    "pycharm": {
     "name": "#%% md\n"
    }
   },
   "source": [
    "при ручной обработке неявных дубликатов, обнаружено 2 варианта: слово поселок пишется с буквой е и ё; встречаются дубликаты с одной и той же смысловой нагрузкой: поселок и поселок городского типа. Приведем их к одному решению: заменим все буквы ё на е и пгт на поселок"
   ]
  },
  {
   "cell_type": "code",
   "execution_count": null,
   "metadata": {
    "pycharm": {
     "name": "#%%\n"
    }
   },
   "outputs": [],
   "source": [
    "df['locality_name'] = df['locality_name'].str.replace('ё','е')\n",
    "df['locality_name'] = df['locality_name'].replace({r'(\\b)поселок городского типа(\\b)':r'\\1поселок\\2'}, regex=True)"
   ]
  },
  {
   "cell_type": "code",
   "execution_count": null,
   "metadata": {
    "pycharm": {
     "name": "#%%\n"
    }
   },
   "outputs": [],
   "source": [
    "df['locality_name'].sort_values().unique()"
   ]
  },
  {
   "cell_type": "markdown",
   "metadata": {
    "pycharm": {
     "name": "#%% md\n"
    }
   },
   "source": [
    "заполнять пропуски не представляется возможным, да это и нецелесообразно, ввиду того, что пропусков мало. "
   ]
  },
  {
   "cell_type": "code",
   "execution_count": null,
   "metadata": {
    "pycharm": {
     "name": "#%%\n"
    }
   },
   "outputs": [],
   "source": [
    "# check\n",
    "df['locality_name'].nunique()"
   ]
  },
  {
   "cell_type": "markdown",
   "metadata": {
    "pycharm": {
     "name": "#%% md\n"
    }
   },
   "source": [
    "##### столбец готов\n"
   ]
  },
  {
   "cell_type": "markdown",
   "metadata": {
    "pycharm": {
     "name": "#%% md\n"
    }
   },
   "source": [
    "#### Столбец \"airports_nearest \""
   ]
  },
  {
   "cell_type": "code",
   "execution_count": null,
   "metadata": {
    "pycharm": {
     "name": "#%%\n"
    }
   },
   "outputs": [],
   "source": [
    "basis_stat_f('airports_nearest')"
   ]
  },
  {
   "cell_type": "code",
   "execution_count": null,
   "metadata": {
    "pycharm": {
     "name": "#%%\n"
    }
   },
   "outputs": [],
   "source": [
    "df['airports_nearest'].isna().sum()"
   ]
  },
  {
   "cell_type": "code",
   "execution_count": null,
   "metadata": {
    "pycharm": {
     "name": "#%%\n"
    }
   },
   "outputs": [],
   "source": [
    "df['airports_nearest'] = df['airports_nearest'].fillna(df.groupby(['locality_name'])\\\n",
    "                                                       ['airports_nearest'].transform('median'))"
   ]
  },
  {
   "cell_type": "code",
   "execution_count": null,
   "metadata": {
    "pycharm": {
     "name": "#%%\n"
    }
   },
   "outputs": [],
   "source": [
    "df['airports_nearest'].isna().sum()"
   ]
  },
  {
   "cell_type": "markdown",
   "metadata": {
    "pycharm": {
     "name": "#%% md\n"
    }
   },
   "source": [
    "пропусков очень много. С учетом большого стандартного отклонения и распределения данных на гистограмме считаю, что пропуски целесообразно не трогать, т к для предсказательной модели важна точность данных. Населенных пунктов много и часть из них может просто находиться очень далеко от аэропорта. В случае наличия корреляяции между расстоянием до аэропорта и стоимостью объекта, заполение пропущенных значений медианными может привести к значительному искажению модели. Тип данных оставляем таким же."
   ]
  },
  {
   "cell_type": "markdown",
   "metadata": {
    "pycharm": {
     "name": "#%% md\n"
    }
   },
   "source": [
    "#### Столбец \"cityCenters_nearest \""
   ]
  },
  {
   "cell_type": "code",
   "execution_count": null,
   "metadata": {
    "pycharm": {
     "name": "#%%\n"
    }
   },
   "outputs": [],
   "source": [
    "basis_stat_f('cityCenters_nearest')"
   ]
  },
  {
   "cell_type": "markdown",
   "metadata": {
    "pycharm": {
     "name": "#%% md\n"
    }
   },
   "source": [
    "другое дело - расстояние до центра. Данные распределены по иному, нежели с расстоянием до ближайшего аэропорта: на гистограме 2 пика, но данный расположены \"компактно\", что подтверждает описательная стистика. Тем не менее, с учетом размаха  стандартного отклонения, целесообразно пропущанные значения заменить медианными. Посмотрим на кол-во пропусков."
   ]
  },
  {
   "cell_type": "code",
   "execution_count": null,
   "metadata": {
    "pycharm": {
     "name": "#%%\n"
    }
   },
   "outputs": [],
   "source": [
    "df['cityCenters_nearest'].isna().sum()"
   ]
  },
  {
   "cell_type": "code",
   "execution_count": null,
   "metadata": {
    "pycharm": {
     "name": "#%%\n"
    }
   },
   "outputs": [],
   "source": [
    "df['cityCenters_nearest'] = df['cityCenters_nearest'].fillna(df.groupby(['locality_name'])\\\n",
    "                                                             ['cityCenters_nearest'].transform('median'))"
   ]
  },
  {
   "cell_type": "code",
   "execution_count": null,
   "metadata": {
    "pycharm": {
     "name": "#%%\n"
    }
   },
   "outputs": [],
   "source": [
    "df['cityCenters_nearest'].isna().sum()"
   ]
  },
  {
   "cell_type": "code",
   "execution_count": null,
   "metadata": {
    "pycharm": {
     "name": "#%%\n"
    }
   },
   "outputs": [],
   "source": [
    "df['cityCenters_nearest'] = df['cityCenters_nearest'].astype('int', errors = 'ignore')"
   ]
  },
  {
   "cell_type": "code",
   "execution_count": null,
   "metadata": {
    "pycharm": {
     "name": "#%%\n"
    }
   },
   "outputs": [],
   "source": [
    "df.info()"
   ]
  },
  {
   "cell_type": "markdown",
   "metadata": {
    "pycharm": {
     "name": "#%% md\n"
    }
   },
   "source": [
    "удалось заполнить с довольно высокой точностью 95% пропусков - отличный результат. Оставшиеся 5% трогать не станем, т к это может ухудшить предсказательнуюценность модели."
   ]
  },
  {
   "cell_type": "markdown",
   "metadata": {
    "pycharm": {
     "name": "#%% md\n"
    }
   },
   "source": [
    "#### Столбцы \"parks_around3000 \" и \"ponds_around3000\""
   ]
  },
  {
   "cell_type": "markdown",
   "metadata": {
    "pycharm": {
     "name": "#%% md\n"
    }
   },
   "source": [
    "Объединим столбцы в один раздел, т к в целом они схожи по смысловому наполнению. Оценим кол-во пропусков в каждом"
   ]
  },
  {
   "cell_type": "code",
   "execution_count": null,
   "metadata": {
    "pycharm": {
     "name": "#%%\n"
    }
   },
   "outputs": [],
   "source": [
    "df['parks_around3000'].isna().sum()\n"
   ]
  },
  {
   "cell_type": "code",
   "execution_count": null,
   "metadata": {
    "pycharm": {
     "name": "#%%\n"
    }
   },
   "outputs": [],
   "source": [
    "df['ponds_around3000'].isna().sum()"
   ]
  },
  {
   "cell_type": "raw",
   "metadata": {
    "pycharm": {
     "name": "#%% raw\n"
    }
   },
   "source": [
    "итак, у нас 5500 пропусков в каждом. Логично предполагаем, что если не отмечен парк/водоём по близости, значит его нет. Будем заменять пропуски на 0. Кроме того, изменим тип данных на intenger."
   ]
  },
  {
   "cell_type": "code",
   "execution_count": null,
   "metadata": {
    "pycharm": {
     "name": "#%%\n"
    }
   },
   "outputs": [],
   "source": [
    "df['parks_around3000'] = df['parks_around3000'].fillna(value = 0)\n",
    "df['ponds_around3000'] = df['ponds_around3000'].fillna(value = 0)\n",
    "df['parks_around3000'] = df['parks_around3000'].astype('int')\n",
    "df['ponds_around3000'] = df['ponds_around3000'].astype('int')\n",
    "df.info()\n"
   ]
  },
  {
   "cell_type": "markdown",
   "metadata": {
    "pycharm": {
     "name": "#%% md\n"
    }
   },
   "source": [
    "#### Столбцы \"parks_nearest \" и \"ponds_nearest\""
   ]
  },
  {
   "cell_type": "markdown",
   "metadata": {
    "pycharm": {
     "name": "#%% md\n"
    }
   },
   "source": [
    "изучим данные столбцы в одном разделе, т к они близки по смысловому наполнению. Для начала, построим диаграммы и оценим как распределены данные в каждом столбце."
   ]
  },
  {
   "cell_type": "code",
   "execution_count": null,
   "metadata": {
    "pycharm": {
     "name": "#%%\n"
    }
   },
   "outputs": [],
   "source": [
    "basis_stat_f('parks_nearest')"
   ]
  },
  {
   "cell_type": "code",
   "execution_count": null,
   "metadata": {
    "pycharm": {
     "name": "#%%\n"
    }
   },
   "outputs": [],
   "source": [
    "basis_stat_f('ponds_nearest')"
   ]
  },
  {
   "cell_type": "markdown",
   "metadata": {
    "pycharm": {
     "name": "#%% md\n"
    }
   },
   "source": [
    "В столбце ponds_nearest практически отсутствуют выбросы, чего нельзя сказать про столбец parks_nearest. Фактически у нас имеется всего 34-38% значений, но с учетом специфики столбцов, это говорит о том, что скорее водоёмов нет по-близости к данному объекту недвижимости. Именно этот факт является основной причиной пропусков в исселдуемых столбцах. С учетом сказанного выше,будем заполнять нулями."
   ]
  },
  {
   "cell_type": "code",
   "execution_count": null,
   "metadata": {
    "pycharm": {
     "name": "#%%\n"
    }
   },
   "outputs": [],
   "source": [
    "df['parks_nearest'] = df['parks_nearest'].fillna(value = 0)\n",
    "df['ponds_nearest'] = df['ponds_nearest'].fillna(value = 0)\n",
    "df['parks_nearest'] = df['parks_nearest'].astype('int64', errors='ignore')\n",
    "df['ponds_nearest'] = df['ponds_nearest'].astype('int64', errors='ignore')\n",
    "df.info()"
   ]
  },
  {
   "cell_type": "markdown",
   "metadata": {
    "pycharm": {
     "name": "#%% md\n"
    }
   },
   "source": [
    "##### столбцы готовы"
   ]
  },
  {
   "cell_type": "markdown",
   "metadata": {
    "pycharm": {
     "name": "#%% md\n"
    }
   },
   "source": [
    "#### Столбец \"days_exposition \""
   ]
  },
  {
   "cell_type": "code",
   "execution_count": null,
   "metadata": {
    "pycharm": {
     "name": "#%%\n"
    }
   },
   "outputs": [],
   "source": [
    "basis_stat_f('days_exposition')"
   ]
  },
  {
   "cell_type": "code",
   "execution_count": null,
   "metadata": {
    "pycharm": {
     "name": "#%%\n"
    }
   },
   "outputs": [],
   "source": [
    "df.isna().sum()"
   ]
  },
  {
   "cell_type": "markdown",
   "metadata": {
    "pycharm": {
     "name": "#%% md\n"
    }
   },
   "source": [
    "с учетом распределения данных и большого кол-ва выбросов, попробуе заменить пропущенные значения в кол-ве 3157 штук на медиану, полученную путем группировки по локализации. ТАкже заменим тип данных на intenger."
   ]
  },
  {
   "cell_type": "code",
   "execution_count": null,
   "metadata": {
    "pycharm": {
     "name": "#%%\n"
    }
   },
   "outputs": [],
   "source": [
    " #df['days_exposition'] = df['days_exposition'].fillna(df.groupby('locality_name')\\['days_exposition'].transform('median'))"
   ]
  },
  {
   "cell_type": "code",
   "execution_count": null,
   "metadata": {
    "pycharm": {
     "name": "#%%\n"
    }
   },
   "outputs": [],
   "source": [
    "df.isna().sum()"
   ]
  },
  {
   "cell_type": "markdown",
   "metadata": {
    "pycharm": {
     "name": "#%% md\n"
    }
   },
   "source": [
    "осталось минимальное кол-во пропущенных значений 76 штук,которые можно просто удалить"
   ]
  },
  {
   "cell_type": "code",
   "execution_count": null,
   "metadata": {
    "pycharm": {
     "name": "#%%\n"
    }
   },
   "outputs": [],
   "source": [
    "#df = df.dropna(subset=['days_exposition'])\n",
    "#df['days_exposition'] = df['days_exposition'].astype('int')\n",
    "#df.isna().sum()"
   ]
  },
  {
   "cell_type": "markdown",
   "metadata": {
    "pycharm": {
     "name": "#%% md\n"
    }
   },
   "source": [
    "##### датасет подготовлен к исследовательскому анализу данных"
   ]
  },
  {
   "cell_type": "code",
   "execution_count": null,
   "metadata": {
    "pycharm": {
     "name": "#%%\n"
    }
   },
   "outputs": [],
   "source": [
    "# check\n",
    "\n",
    "# Показатели о кол-ве объявлений в датасете, минимальных и максимальных показателях \n",
    "# в выбранных параметрах о продаже квартир\n",
    "# сырые данные\n",
    "\n",
    "(\n",
    "    df[['rooms', 'total_area', 'ceiling_height', 'days_exposition', 'last_price', 'living_area',  'kitchen_area', 'floor',\n",
    "       'floors_total']]\n",
    "    .apply (['count', 'min', 'max'])   \n",
    "    .style.format(\"{:,.2f}\")\n",
    ")"
   ]
  },
  {
   "cell_type": "code",
   "execution_count": null,
   "metadata": {
    "pycharm": {
     "name": "#%%\n"
    },
    "scrolled": true
   },
   "outputs": [],
   "source": [
    "# check\n",
    "df.total_area.hist(bins = 150, figsize = (15,3));"
   ]
  },
  {
   "cell_type": "code",
   "execution_count": null,
   "metadata": {
    "pycharm": {
     "name": "#%%\n"
    },
    "scrolled": false
   },
   "outputs": [],
   "source": [
    "# check\n",
    "df.total_area.hist(bins = 150, figsize = (15,3), range = (180,300));"
   ]
  },
  {
   "cell_type": "code",
   "execution_count": null,
   "metadata": {
    "pycharm": {
     "name": "#%%\n"
    }
   },
   "outputs": [],
   "source": []
  },
  {
   "cell_type": "code",
   "execution_count": null,
   "metadata": {
    "pycharm": {
     "name": "#%%\n"
    }
   },
   "outputs": [],
   "source": [
    "# check\n",
    "df.rooms.value_counts().to_frame()"
   ]
  },
  {
   "cell_type": "markdown",
   "metadata": {
    "pycharm": {
     "name": "#%% md\n"
    }
   },
   "source": [
    "### Посчитайте и добавьте в таблицу новые столбцы"
   ]
  },
  {
   "cell_type": "markdown",
   "metadata": {
    "pycharm": {
     "name": "#%% md\n"
    }
   },
   "source": [
    "##### добавляем в таблицу столбец 'price_of_one_sqr' - цена одного квадратного метра"
   ]
  },
  {
   "cell_type": "code",
   "execution_count": null,
   "metadata": {
    "pycharm": {
     "name": "#%%\n"
    }
   },
   "outputs": [],
   "source": [
    "df['price_of_one_sqr'] =  df ['last_price'] / df['total_area']\n",
    "display(df['price_of_one_sqr'])"
   ]
  },
  {
   "cell_type": "markdown",
   "metadata": {
    "pycharm": {
     "name": "#%% md\n"
    }
   },
   "source": [
    "##### добавляем столбец \"day_of_week\" - день публикации объявления"
   ]
  },
  {
   "cell_type": "code",
   "execution_count": null,
   "metadata": {
    "pycharm": {
     "name": "#%%\n"
    }
   },
   "outputs": [],
   "source": [
    "df['day_of_week'] = df['first_day_exposition'].dt.weekday\n",
    "display(df['day_of_week'])"
   ]
  },
  {
   "cell_type": "markdown",
   "metadata": {
    "pycharm": {
     "name": "#%% md\n"
    }
   },
   "source": [
    "##### добавляем столбец \"month_of_publication\" -  - месяц публикации объявления\n"
   ]
  },
  {
   "cell_type": "code",
   "execution_count": null,
   "metadata": {
    "pycharm": {
     "name": "#%%\n"
    }
   },
   "outputs": [],
   "source": [
    "df['month_of_publication'] = df['first_day_exposition'].dt.month\n",
    "df['month_of_publication']"
   ]
  },
  {
   "cell_type": "markdown",
   "metadata": {
    "pycharm": {
     "name": "#%% md\n"
    }
   },
   "source": [
    "##### добавляем столбец \"year_of_publication\" -  - год публикации объявления"
   ]
  },
  {
   "cell_type": "code",
   "execution_count": null,
   "metadata": {
    "pycharm": {
     "name": "#%%\n"
    }
   },
   "outputs": [],
   "source": [
    "df['year_of_publication'] = df['first_day_exposition'].dt.year\n",
    "df['year_of_publication']"
   ]
  },
  {
   "cell_type": "markdown",
   "metadata": {
    "pycharm": {
     "name": "#%% md\n"
    }
   },
   "source": [
    "##### добавляем столбец 'type_of_floor' - тип этажа квартиры"
   ]
  },
  {
   "cell_type": "code",
   "execution_count": null,
   "metadata": {
    "pycharm": {
     "name": "#%%\n"
    }
   },
   "outputs": [],
   "source": [
    "def type_of_floor (row):\n",
    "    try:\n",
    "        floors_total = row['floors_total']\n",
    "        floor = row['floor']\n",
    "        if floor == 1:\n",
    "            return \"первый\"\n",
    "        elif floor == floors_total:\n",
    "            return \"последний\"\n",
    "        else:\n",
    "            return \"другой\"\n",
    "    except:\n",
    "        print('Введите еорректное значение')\n",
    "    "
   ]
  },
  {
   "cell_type": "code",
   "execution_count": null,
   "metadata": {
    "pycharm": {
     "name": "#%%\n"
    }
   },
   "outputs": [],
   "source": [
    "df['type_of_floor'] = df.apply(type_of_floor, axis = 1)"
   ]
  },
  {
   "cell_type": "code",
   "execution_count": null,
   "metadata": {
    "pycharm": {
     "name": "#%%\n"
    }
   },
   "outputs": [],
   "source": [
    "df['type_of_floor']"
   ]
  },
  {
   "cell_type": "markdown",
   "metadata": {
    "pycharm": {
     "name": "#%% md\n"
    }
   },
   "source": [
    "##### добавляем столбец 'distance_before_center' - расстояние до центра города в километрах"
   ]
  },
  {
   "cell_type": "code",
   "execution_count": null,
   "metadata": {
    "pycharm": {
     "name": "#%%\n"
    },
    "scrolled": true
   },
   "outputs": [],
   "source": [
    "df['distance_before_center'] = (df['cityCenters_nearest']/1000).round()\n",
    "df['distance_before_center']"
   ]
  },
  {
   "cell_type": "markdown",
   "metadata": {
    "pycharm": {
     "name": "#%% md\n"
    }
   },
   "source": [
    "### Проведите исследовательский анализ данных"
   ]
  },
  {
   "cell_type": "markdown",
   "metadata": {
    "pycharm": {
     "name": "#%% md\n"
    }
   },
   "source": [
    "#### Строим гистограммы по выбраным столбцам"
   ]
  },
  {
   "cell_type": "markdown",
   "metadata": {
    "pycharm": {
     "name": "#%% md\n"
    }
   },
   "source": [
    "    На этапе предобработки мы строили гистограмму, боксплот и изучали описательные статистики вызывая функцию. А сейчас построим гистограммы с учетом индивидуального масштаба графика и сделаем тоже самое с использованием цикла. "
   ]
  },
  {
   "cell_type": "markdown",
   "metadata": {
    "pycharm": {
     "name": "#%% md\n"
    }
   },
   "source": [
    "Общая площадь большинства квартир колеблется в диапазоне  30-40 кв метров. Квартиры более 10 кв метров - небольшое кол-во случаев, относительно всей выборки."
   ]
  },
  {
   "cell_type": "code",
   "execution_count": null,
   "metadata": {
    "pycharm": {
     "name": "#%%\n"
    }
   },
   "outputs": [],
   "source": [
    "df['total_area'].hist(bins = 100, range=(0, 200))\n",
    "plt.title('Общая площадь')\n",
    "plt.xlabel('общая площадь')\n",
    "plt.ylabel('кол-во случаев')"
   ]
  },
  {
   "cell_type": "markdown",
   "metadata": {
    "pycharm": {
     "name": "#%% md\n"
    }
   },
   "source": [
    "Жилая площадь большинства квартир имеет 2 пика: около 18 и 30 кв метров, в 3 раза реже встречаются квартиры около 40 кв метров."
   ]
  },
  {
   "cell_type": "code",
   "execution_count": null,
   "metadata": {
    "pycharm": {
     "name": "#%%\n"
    }
   },
   "outputs": [],
   "source": [
    "df['living_area'].hist(bins = 100, range=(0, 125))\n",
    "plt.title('Жилая площадь')\n",
    "plt.xlabel('жилая площадь')\n",
    "plt.ylabel('кол-во случаев')"
   ]
  },
  {
   "cell_type": "markdown",
   "metadata": {
    "pycharm": {
     "name": "#%% md\n"
    }
   },
   "source": [
    "площадь кухни большинства квартир от 6 до 10 кв метров"
   ]
  },
  {
   "cell_type": "code",
   "execution_count": null,
   "metadata": {
    "pycharm": {
     "name": "#%%\n"
    }
   },
   "outputs": [],
   "source": [
    "df['kitchen_area'].hist(bins = 100, range=(0, 30))\n",
    "plt.title('Площадь кухни')\n",
    "plt.xlabel('площадь кухни')\n",
    "plt.ylabel('кол-во случаев')"
   ]
  },
  {
   "cell_type": "markdown",
   "metadata": {
    "pycharm": {
     "name": "#%% md\n"
    }
   },
   "source": [
    "Последняя известная цена большей части квартир около 4 00 000 рублей"
   ]
  },
  {
   "cell_type": "code",
   "execution_count": null,
   "metadata": {
    "pycharm": {
     "name": "#%%\n"
    }
   },
   "outputs": [],
   "source": [
    "df['last_price'].hist(range = (400000, 10000000))\n",
    "plt.title('Последняя цена')\n",
    "plt.xlabel('последняя цена')\n",
    "plt.ylabel('кол-во случаев')"
   ]
  },
  {
   "cell_type": "markdown",
   "metadata": {
    "pycharm": {
     "name": "#%% md\n"
    }
   },
   "source": [
    "в большей части квартир 1 - 2 комнаты"
   ]
  },
  {
   "cell_type": "code",
   "execution_count": null,
   "metadata": {
    "pycharm": {
     "name": "#%%\n"
    }
   },
   "outputs": [],
   "source": [
    "df['rooms'].hist(bins = 20, range=(0, 10))\n",
    "plt.title('Количество комнат')\n",
    "plt.xlabel('кол-во комнат')\n",
    "plt.ylabel('кол-во случаев')"
   ]
  },
  {
   "cell_type": "markdown",
   "metadata": {
    "pycharm": {
     "name": "#%% md\n"
    }
   },
   "source": [
    "высота потолков большей части квартир 2- 2.2 метра"
   ]
  },
  {
   "cell_type": "code",
   "execution_count": null,
   "metadata": {
    "pycharm": {
     "name": "#%%\n"
    }
   },
   "outputs": [],
   "source": [
    "df['ceiling_height'].hist(range = (2, 4))\n",
    "plt.title('Высота потолков')\n",
    "plt.xlabel('Высота потолков, м')\n",
    "plt.ylabel('кол-во случаев')"
   ]
  },
  {
   "cell_type": "markdown",
   "metadata": {
    "pycharm": {
     "name": "#%% md\n"
    }
   },
   "source": [
    "продаются преимущественно квартиры, распологающиеся на 4 этаже"
   ]
  },
  {
   "cell_type": "code",
   "execution_count": null,
   "metadata": {
    "pycharm": {
     "name": "#%%\n"
    }
   },
   "outputs": [],
   "source": [
    "df['floor'].hist(bins = 100, range=(0, 30))\n",
    "plt.title('Этаж')\n",
    "plt.xlabel('этаж')\n",
    "plt.ylabel('кол-во случаев')"
   ]
  },
  {
   "cell_type": "code",
   "execution_count": null,
   "metadata": {
    "pycharm": {
     "name": "#%%\n"
    }
   },
   "outputs": [],
   "source": [
    "# check\n",
    "\n",
    "df['floor'].hist(bins = 120, range=(0, 30))\n",
    "plt.title('Этаж')\n",
    "plt.xlabel('этаж')\n",
    "plt.ylabel('кол-во случаев')"
   ]
  },
  {
   "cell_type": "markdown",
   "metadata": {
    "pycharm": {
     "name": "#%% md\n"
    }
   },
   "source": [
    "продаются преимущественно квартиры, распологающиеся в 5 этажных домах (возможно, это старые панельные хрущевки?)"
   ]
  },
  {
   "cell_type": "code",
   "execution_count": null,
   "metadata": {
    "pycharm": {
     "name": "#%%\n"
    }
   },
   "outputs": [],
   "source": [
    "df['floors_total'].hist(bins = 20, range=(0, 40))\n",
    "plt.title('Всего этажей')\n",
    "plt.xlabel('всего этажей')\n",
    "plt.ylabel('кол-во случаев')"
   ]
  },
  {
   "cell_type": "markdown",
   "metadata": {
    "pycharm": {
     "name": "#%% md\n"
    }
   },
   "source": [
    "большая часть выставленных на продажу квартир находится на удалении 11 км от центра города"
   ]
  },
  {
   "cell_type": "code",
   "execution_count": null,
   "metadata": {
    "pycharm": {
     "name": "#%%\n"
    }
   },
   "outputs": [],
   "source": [
    "df['cityCenters_nearest'].hist(bins = 100 , range=(0, 50000))\n",
    "plt.title('Удаленность от центра города')\n",
    "plt.xlabel('удаленность от центра города, м')\n",
    "plt.ylabel('кол-во случаев')"
   ]
  },
  {
   "cell_type": "markdown",
   "metadata": {
    "pycharm": {
     "name": "#%% md\n"
    }
   },
   "source": [
    "большая часть выставленных на продажу квартир находится на удалении 20 км от аэропорта"
   ]
  },
  {
   "cell_type": "code",
   "execution_count": null,
   "metadata": {
    "pycharm": {
     "name": "#%%\n"
    }
   },
   "outputs": [],
   "source": [
    "df['airports_nearest'].hist(bins = 100 , range=(0, 80000))\n",
    "plt.title('Удаленность от аэропорта')\n",
    "plt.xlabel('удаленность от аэропорта, м')\n",
    "plt.ylabel('кол-во случаев')"
   ]
  },
  {
   "cell_type": "markdown",
   "metadata": {
    "pycharm": {
     "name": "#%% md\n"
    }
   },
   "source": [
    "у большинства выставленных на продажу квартир нет по-близости парков, что характерно для районов хрущевок с плохо развитой инфраструктурой отдыха"
   ]
  },
  {
   "cell_type": "code",
   "execution_count": null,
   "metadata": {
    "pycharm": {
     "name": "#%%\n"
    }
   },
   "outputs": [],
   "source": [
    "df['parks_nearest'].hist(bins = 30, range=(100, 2500) )\n",
    "plt.title('Расстояние до ближайшего парка')\n",
    "plt.xlabel('расстояние до ближайшего парка, м')\n",
    "plt.ylabel('кол-во случаев')"
   ]
  },
  {
   "cell_type": "markdown",
   "metadata": {
    "pycharm": {
     "name": "#%% md\n"
    }
   },
   "source": [
    "продаются преимущественно квартиры, расположенные на последнем этаже, в меньшей степени - категория \"другие\", т.е. те, что расположены между 1 и последним этажом. Как правило, на первом этаже располагаются коммерческие помещения, возможно, с этим связано меньшая часть продаваемых объектов первого этажа."
   ]
  },
  {
   "cell_type": "code",
   "execution_count": null,
   "metadata": {
    "pycharm": {
     "name": "#%%\n"
    }
   },
   "outputs": [],
   "source": [
    "t_o_f = df.pivot_table(index = 'type_of_floor', values = 'floor')\n",
    "display(t_o_f)\n",
    "t_o_f.hist(bins = 20)\n",
    "plt.title('Тип этажа квартиры')\n",
    "plt.xlabel('категория типа')\n",
    "plt.ylabel('кол-во случаев')"
   ]
  },
  {
   "cell_type": "code",
   "execution_count": null,
   "metadata": {
    "pycharm": {
     "name": "#%%\n"
    }
   },
   "outputs": [],
   "source": [
    "data_pivot = df.pivot_table(index=['type_of_floor'],  aggfunc=['count'])\n",
    "data_pivot['floor_cat_count'] = df.groupby('type_of_floor')['type_of_floor'].count()\n",
    "\n"
   ]
  },
  {
   "cell_type": "code",
   "execution_count": null,
   "metadata": {
    "collapsed": false,
    "pycharm": {
     "name": "#%%\n"
    }
   },
   "outputs": [],
   "source": [
    "data_pivot.plot(y = 'floor_cat_count', kind = 'bar', grid = True)\n",
    "plt.xlabel('Тип этажа')\n",
    "plt.ylabel('Колчество наблюдений')"
   ]
  },
  {
   "cell_type": "markdown",
   "metadata": {
    "collapsed": false,
    "pycharm": {
     "name": "#%% md\n"
    }
   },
   "source": [
    "Преимущественно публикация объявления происходит во вторник и четверг"
   ]
  },
  {
   "cell_type": "code",
   "execution_count": null,
   "metadata": {
    "collapsed": false,
    "pycharm": {
     "name": "#%%\n"
    }
   },
   "outputs": [],
   "source": [
    "df['day_of_week'].hist(bins = 20 )\n",
    "plt.title('День недели публикации объявления')\n",
    "plt.xlabel('день пн (0) - вс (6)')\n",
    "plt.ylabel('кол-во случаев')"
   ]
  },
  {
   "cell_type": "markdown",
   "metadata": {
    "collapsed": false,
    "pycharm": {
     "name": "#%% md\n"
    }
   },
   "source": [
    "Преимущественно публикация объявлений о продаже происходит в период февраль - апрель, декабрь"
   ]
  },
  {
   "cell_type": "code",
   "execution_count": null,
   "metadata": {
    "collapsed": false,
    "pycharm": {
     "name": "#%%\n"
    }
   },
   "outputs": [],
   "source": [
    "df['month_of_publication'].hist(bins = 30 )\n",
    "plt.title('Месяц публикации объявления')\n",
    "plt.xlabel('день янв (0) - дек (11)')\n",
    "plt.ylabel('кол-во случаев')"
   ]
  },
  {
   "cell_type": "markdown",
   "metadata": {
    "collapsed": false,
    "pycharm": {
     "name": "#%% md\n"
    }
   },
   "source": [
    "аналогичную задачу удалось решить в цикле, если бы не пришлось подбирать для каждого графика индивидуальный масштаб. Тем не менее, для решения ряда задач, построение графика в цикле может существенно облегачать работу. Код ниже привожу в качестве своих размышлений ))"
   ]
  },
  {
   "cell_type": "code",
   "execution_count": null,
   "metadata": {
    "collapsed": false,
    "pycharm": {
     "name": "#%%\n"
    }
   },
   "outputs": [],
   "source": [
    "for target_column in df[['total_area', 'living_area', 'kitchen_area', 'last_price', 'rooms',  'floor', 'floors_total', 'cityCenters_nearest', 'airports_nearest']]:\n",
    "    display(df[target_column].describe())\n",
    "    #df.boxplot(column = target_column, figsize = (4,8))\n",
    "    #plt.show()\n",
    "    df[target_column].hist(bins = 100)\n",
    "    plt.show()\n"
   ]
  },
  {
   "cell_type": "markdown",
   "metadata": {
    "collapsed": false,
    "pycharm": {
     "name": "#%% md\n"
    }
   },
   "source": [
    "по 2 столбцам:\n",
    "тип этажа квартиры («первый», «последний», «другой») object,\n",
    "день и месяц публикации объявления datetime64, \n",
    "гистограммы никак не построишь, т к их можно построить только по типу int или float"
   ]
  },
  {
   "cell_type": "code",
   "execution_count": null,
   "metadata": {
    "collapsed": false,
    "pycharm": {
     "name": "#%%\n"
    }
   },
   "outputs": [],
   "source": [
    "def diagram(target_column, x=4, y=8, b = 100, title = 'Гистограмма', xlabel = 'Гистограмма', ylabel = 'кол-во случаев'):\n",
    "    display(df[target_column].describe())\n",
    "    df.boxplot(column = target_column, figsize = (x,y))\n",
    "    plt.show()\n",
    "    df[target_column].hist(bins = b)\n",
    "    plt.title(title)\n",
    "    plt.xlabel(xlabel)\n",
    "    plt.ylabel(ylabel)\n",
    "    \n",
    "diagram('floors_total', x = 10, y = 10, b = 50, title = 'Гистограмма', xlabel = 'Гистограмма', ylabel = 'кол-во случаев')\n",
    "  "
   ]
  },
  {
   "cell_type": "markdown",
   "metadata": {
    "pycharm": {
     "name": "#%% md\n"
    }
   },
   "source": [
    "#### Изучаем длительность продажи квартиры"
   ]
  },
  {
   "cell_type": "markdown",
   "metadata": {
    "collapsed": false,
    "pycharm": {
     "name": "#%% md\n"
    }
   },
   "source": [
    "для начала, применим методики описательной статистики и построим графики боксплот и гистограмму"
   ]
  },
  {
   "cell_type": "code",
   "execution_count": null,
   "metadata": {
    "collapsed": false,
    "pycharm": {
     "name": "#%%\n"
    }
   },
   "outputs": [],
   "source": [
    "display(df['days_exposition'].describe())\n",
    "df.boxplot(column = 'days_exposition')\n",
    "plt.show()\n",
    "df['days_exposition'].hist(bins = 100, range = (0, 600), figsize = (20, 10))\n",
    "plt.title('Длительность продажи квартиры')\n",
    "plt.xlabel('длительность продажи, дней')\n",
    "plt.ylabel('кол-во случаев')\n",
    "\n",
    "\n"
   ]
  },
  {
   "cell_type": "markdown",
   "metadata": {
    "collapsed": false,
    "pycharm": {
     "name": "#%% md\n"
    }
   },
   "source": [
    "исходя из данных описательной статистики и гистограммы, считаем, что квартира \"в среднем\"(по значениям медианы\", продается 99 дней. Берем значение медианы, т к среднее 174.7 дня, имеет очень большой разброс данных, что видно исходя из значения отклонения от среднего в 209 дней. Соответсвенно, будем считать, что все, что меньше медианы 99 дн - \"быстрые продажи\". Вычислим max_lim уровень ящика boxplot, чтобы ответить на вопрос: \"какие продажи можно считать необычно долгими?\""
   ]
  },
  {
   "cell_type": "code",
   "execution_count": null,
   "metadata": {
    "collapsed": false,
    "pycharm": {
     "name": "#%%\n"
    }
   },
   "outputs": [],
   "source": [
    "q1 = df['days_exposition'].quantile(0.25)\n",
    "q3 = df['days_exposition'].quantile(0.75)\n",
    "max_lim = q3 + 1.5 * (q3-q1)\n",
    "display(max_lim)"
   ]
  },
  {
   "cell_type": "markdown",
   "metadata": {
    "collapsed": false,
    "pycharm": {
     "name": "#%% md\n"
    }
   },
   "source": [
    "построим более точный график для изучения аномалий.Есть аномалии в виде выбросов в районе 50, 60 дней. Связываю с технической особенностью сервиса - сервис может автоматичсеки через заданный промежуток времени, если объеявление не пролонгированно, снимать его с публикации"
   ]
  },
  {
   "cell_type": "code",
   "execution_count": null,
   "metadata": {
    "collapsed": false,
    "pycharm": {
     "name": "#%%\n"
    }
   },
   "outputs": [],
   "source": [
    "df['days_exposition'].hist(bins = 100, range = (0, 100), figsize = (20, 10))\n",
    "plt.title('Длительность продажи квартиры')\n",
    "plt.xlabel('длительность продажи, дней')\n",
    "plt.ylabel('кол-во случаев')"
   ]
  },
  {
   "cell_type": "markdown",
   "metadata": {
    "pycharm": {
     "name": "#%% md\n"
    }
   },
   "source": [
    "##### итак, получается, что все продажи свыше 529,9 - необычно долгие продажи."
   ]
  },
  {
   "cell_type": "code",
   "execution_count": null,
   "metadata": {
    "collapsed": false,
    "pycharm": {
     "name": "#%%\n"
    }
   },
   "outputs": [],
   "source": [
    "# check\n",
    "# Моды на реальных данных\n",
    "\n",
    "try:\n",
    "    df_check = pd.read_csv('real_estate_data.csv', sep='\\t') \n",
    "except:\n",
    "    df_check = pd.read_csv('/datasets/real_estate_data.csv', sep = '\\t')\n",
    "    \n",
    "df_check['days_exposition'].value_counts().to_frame().head(20).plot(kind = 'barh', figsize = (15,6), rot = 0);"
   ]
  },
  {
   "cell_type": "markdown",
   "metadata": {
    "pycharm": {
     "name": "#%% md\n"
    }
   },
   "source": [
    "#### Изучаем факторы, влияющие на общую стоимость объекта"
   ]
  },
  {
   "cell_type": "markdown",
   "metadata": {
    "pycharm": {
     "name": "#%% md\n"
    }
   },
   "source": [
    "##### Постройте графики, которые покажут зависимость цены от указанных выше параметров. Для подготовки данных перед визуализацией вы можете использовать сводные таблицы."
   ]
  },
  {
   "cell_type": "markdown",
   "metadata": {
    "collapsed": false,
    "pycharm": {
     "name": "#%% md\n"
    }
   },
   "source": [
    "Для решения данной задачи, будем последовательно сопоставлять стоимость объекта и указанные в задаче параметры. Таким образом, исследуем внутреннюю взаимосвязь между ними."
   ]
  },
  {
   "cell_type": "code",
   "execution_count": null,
   "metadata": {
    "collapsed": false,
    "pycharm": {
     "name": "#%%\n"
    }
   },
   "outputs": [],
   "source": [
    "\n",
    "display(df['last_price'].corr(df['total_area']))\n",
    "df.plot(x='living_area', y='last_price', kind='scatter', grid=True, figsize=(14,7), alpha=0.5) \n",
    "plt.title('Взаимосвязь стоимости и стоимости квадратного метра')\n",
    "plt.xlabel('общая площадь объекта')\n",
    "plt.ylabel('стоимость объекта')\n"
   ]
  },
  {
   "cell_type": "markdown",
   "metadata": {
    "pycharm": {
     "name": "#%% md\n"
    }
   },
   "source": [
    "мы видим наличие довольно выраженной взаимосвязи между стоимостью объекта и общей площадью, коэф корреляции 0,71. Также видно , что цена зависит от общей площади только до определённого этапа. Начиная с площади 95-100 м2 зависимость сильно уменьшается и разброс цен становится ярко выраженным."
   ]
  },
  {
   "cell_type": "code",
   "execution_count": null,
   "metadata": {
    "collapsed": false,
    "pycharm": {
     "name": "#%%\n"
    }
   },
   "outputs": [],
   "source": [
    "display(df['last_price'].corr(df['living_area']))\n",
    "df.plot(x='living_area', y='last_price', kind='scatter', grid=True, figsize=(14,7), alpha=0.5)\n",
    "plt.title('Взаимосвязь стоимости и размера жилой площади')\n",
    "plt.xlabel('размер жилой площади')\n",
    "plt.ylabel('стоимость объекта')"
   ]
  },
  {
   "cell_type": "markdown",
   "metadata": {
    "collapsed": false,
    "pycharm": {
     "name": "#%% md\n"
    }
   },
   "source": [
    "также имеется зависимость между стоимотью кв метра и размера жилой площади. Однако, эта зависимость не сильно выражена (0.61)"
   ]
  },
  {
   "cell_type": "code",
   "execution_count": null,
   "metadata": {
    "collapsed": false,
    "pycharm": {
     "name": "#%%\n"
    }
   },
   "outputs": [],
   "source": [
    "display(df['last_price'].corr(df['kitchen_area']))\n",
    "df.plot(x='kitchen_area', y='last_price', kind='scatter', grid=True, figsize=(14,7), alpha=0.5)\n",
    "plt.title('Взаимосвязь стоимости и размера площади кухни')\n",
    "plt.xlabel('площадь кухни')\n",
    "plt.ylabel('стоимость кв метра')"
   ]
  },
  {
   "cell_type": "markdown",
   "metadata": {
    "collapsed": false,
    "pycharm": {
     "name": "#%% md\n"
    }
   },
   "source": [
    "практически отсутствует взаимосвязь между стоимостью объекта и площадью кухни"
   ]
  },
  {
   "cell_type": "code",
   "execution_count": null,
   "metadata": {
    "collapsed": false,
    "pycharm": {
     "name": "#%%\n"
    }
   },
   "outputs": [],
   "source": [
    "#Вычислим среднюю цену в каждой категории\n",
    "cat_fl_mean = df.groupby('type_of_floor')['last_price'].mean()\n",
    "cat_fl_mean.plot(x=cat_fl_mean.index, y=cat_fl_mean.values, kind='bar', grid=True, figsize=(6,5))\n",
    "plt.title('Взаимосвязь стоимости и категории этажности')\n",
    "plt.xlabel('категория этажности')\n",
    "plt.ylabel('стоимость объекта')"
   ]
  },
  {
   "cell_type": "markdown",
   "metadata": {
    "collapsed": false,
    "pycharm": {
     "name": "#%% md\n"
    }
   },
   "source": [
    "зависимость стоимости и категориии этажа квартиры можно изучить на такой гистограмме. Можно сделать вывод, что наименьшей популярностью пользуется первый этаж."
   ]
  },
  {
   "cell_type": "code",
   "execution_count": null,
   "metadata": {
    "pycharm": {
     "name": "#%%\n"
    }
   },
   "outputs": [],
   "source": [
    "ds = df.pivot_table(index=['day_of_week'], values='last_price',  aggfunc=['mean', 'count', 'median'])\n",
    "ds.plot(y='median', style='-')\n",
    "display(ds)\n",
    "plt.xlabel('День недели размещения объявления (0 = пн, 6 = вс)')\n",
    "plt.ylabel('Цена')\n",
    "plt.show"
   ]
  },
  {
   "cell_type": "code",
   "execution_count": null,
   "metadata": {
    "collapsed": false,
    "pycharm": {
     "name": "#%%\n"
    }
   },
   "outputs": [],
   "source": [
    "ds = df.pivot_table(index=['month_of_publication'], values='last_price',  aggfunc=['mean', 'count', 'median'])\n",
    "ds.plot(y='median', style='-')\n",
    "display(ds)\n",
    "plt.xlabel('Месяц размещения объявления (0 = пн, 6 = вс)')\n",
    "plt.ylabel('Цена')\n",
    "plt.show"
   ]
  },
  {
   "cell_type": "markdown",
   "metadata": {
    "collapsed": false,
    "pycharm": {
     "name": "#%% md\n"
    }
   },
   "source": [
    "Самые низкие цены на те объекты которые были размещены летом, пик призодится на июнь. Наибольшие цены приходятся на объявления размещённые весной с пиком в апреле."
   ]
  },
  {
   "cell_type": "code",
   "execution_count": null,
   "metadata": {
    "collapsed": false,
    "pycharm": {
     "name": "#%%\n"
    }
   },
   "outputs": [],
   "source": [
    "ds = df.pivot_table(index=['year_of_publication'], values='last_price',  aggfunc=['mean', 'count', 'median'])\n",
    "ds.plot(y='median', style='-')\n",
    "display(ds)\n",
    "plt.xlabel('Месяц размещения объявления (0 = пн, 6 = вс)')\n",
    "plt.ylabel('Цена')\n",
    "plt.show"
   ]
  },
  {
   "cell_type": "markdown",
   "metadata": {
    "pycharm": {
     "name": "#%% md\n"
    }
   },
   "source": [
    "Мы видим полное отсутствие взаимосвязи между стоимостью квартиры и днем/месяцем/годом подачи объявления"
   ]
  },
  {
   "cell_type": "markdown",
   "metadata": {
    "pycharm": {
     "name": "#%% md\n"
    }
   },
   "source": [
    "###### ВЫВОД: Больше всего на стоимость квартиры влияет её площадь(прямопропорцианальная зависимость). Среднее влияние оказывает удаленность от центра(обратнопропорцианальная зависимость) и количество комнат (особенно хорошо видна прямопропорцианальная зависимость на отрезке 1-3 комнаты, все что выше уже не коррелирует). Также надо отметить, что есть зависимость от этажа - первый этаж мало кто любит и цена его существенно отличается от остальных; люди предпочитают не первый и не последний этаж - его цена выше(но на немного выше последнего). Дата же размещения не оказывает влияния на цену. С 2014 года произошло снижение стоимости жилья, которое восстанавливалось постепенно к 2019 году."
   ]
  },
  {
   "cell_type": "markdown",
   "metadata": {
    "collapsed": false,
    "pycharm": {
     "name": "#%% md\n"
    }
   },
   "source": [
    "##### Посчитайте среднюю цену одного квадратного метра в 10 населённых пунктах с наибольшим числом объявлений. Выделите населённые пункты с самой высокой и низкой стоимостью квадратного метра. Эти данные можно найти по имени в столбце locality_name."
   ]
  },
  {
   "cell_type": "code",
   "execution_count": null,
   "metadata": {
    "collapsed": false,
    "pycharm": {
     "name": "#%%\n"
    }
   },
   "outputs": [],
   "source": [
    "mean_10_city = df.groupby('locality_name')['price_of_one_sqr'].agg(['count', 'mean'])\\\n",
    ".sort_values(by = 'count', ascending = False).head(10)\n",
    "mean_10_city.columns = ['flats', 'price_of_one_sqr']\n",
    "mean_10_city.reset_index(inplace=True)\n",
    "\n",
    "\n",
    "\n",
    "\n",
    "display(mean_10_city)\n",
    "\n",
    "\n"
   ]
  },
  {
   "cell_type": "markdown",
   "metadata": {
    "pycharm": {
     "name": "#%% md\n"
    }
   },
   "source": [
    "###### Вывод: самая низкая стоимость недвижимости в Выборге = 58365 руб/кв метр, самая высокая стоимость недвижимости в Санкт-Петербурге = 113554 руб/кв метр."
   ]
  },
  {
   "cell_type": "code",
   "execution_count": null,
   "metadata": {
    "pycharm": {
     "name": "#%%\n"
    }
   },
   "outputs": [],
   "source": [
    "mean_10_city.pivot_table(index = 'locality_name', values = 'price_of_one_sqr', aggfunc = 'mean').sort_values(by='price_of_one_sqr', ascending=False)\n"
   ]
  },
  {
   "cell_type": "code",
   "execution_count": null,
   "metadata": {
    "collapsed": false,
    "pycharm": {
     "name": "#%%\n"
    }
   },
   "outputs": [],
   "source": [
    "print('Город с максимальной стоимостью квадратного метра:')\n",
    "display( mean_10_city.loc[mean_10_city['price_of_one_sqr'] == mean_10_city['price_of_one_sqr'].max()])\n",
    "\n",
    "print('Город с минимальной стоимостью квадратного метра:')\n",
    "display( mean_10_city.loc[mean_10_city['price_of_one_sqr'] == mean_10_city['price_of_one_sqr'].min()])"
   ]
  },
  {
   "cell_type": "markdown",
   "metadata": {
    "collapsed": false,
    "pycharm": {
     "name": "#%% md\n"
    }
   },
   "source": [
    "##### Выделите квартиры в Санкт-Петербурге с помощью столбца locality_name и вычислите среднюю цену каждого километра. Опишите, как стоимость объектов зависит от расстояния до центра города."
   ]
  },
  {
   "cell_type": "code",
   "execution_count": null,
   "metadata": {
    "pycharm": {
     "name": "#%%\n"
    }
   },
   "outputs": [],
   "source": [
    "mean_km_spb = df.loc[df['locality_name'] == 'Санкт-Петербург',['last_price','distance_before_center']].reset_index(drop = True)\n",
    "\n",
    "display(mean_km_spb.head(10))"
   ]
  },
  {
   "cell_type": "code",
   "execution_count": null,
   "metadata": {
    "collapsed": false,
    "pycharm": {
     "name": "#%%\n"
    }
   },
   "outputs": [],
   "source": [
    "mean_km_spb = mean_km_spb.pivot_table(index = 'distance_before_center', values = 'last_price', aggfunc = 'mean')\n",
    "mean_km_spb.plot(kind='bar', grid=True, figsize=(14,8))\n",
    "plt.title('Средняя стоимость км от центра Санкт-Петербурга')\n",
    "plt.xlabel('расстояние до центра (км)')\n",
    "plt.ylabel('средняя стоимость, млн руб.')"
   ]
  },
  {
   "cell_type": "markdown",
   "metadata": {
    "pycharm": {
     "name": "#%% md\n"
    }
   },
   "source": [
    "###### Вывод: стоимость км в центре города самая высокая. В целом, чем дальше от центра города, тем стоимость недвижимости ниже."
   ]
  },
  {
   "cell_type": "markdown",
   "metadata": {
    "pycharm": {
     "name": "#%% md\n"
    }
   },
   "source": [
    "### Общий вывод"
   ]
  },
  {
   "cell_type": "markdown",
   "metadata": {
    "pycharm": {
     "name": "#%% md\n"
    }
   },
   "source": [
    "Для анализа был дан ДатаСет с информацией по продаже квартир. Состоял из 22 колонок и 23699 строк. 7 колонок не пригодились (total_images, open_plan, balcony, parks_around3000, parks_nearest, ponds_around3000, ponds_nearest).\n",
    "В процессе предобработки было удалено 2519 строки, то есть осталось 21180 строк, удалено 10.6% данных.\n",
    "Cтолбец first_day_exposition приведен к типу datetime64\n",
    "В столбце ceiling_height заменили большую часть на медиану. Здесь были обнаружены ошибочно введенные значения, в которых справа присутствовал лищний ноль,- исправили\n",
    "В столбцах living_area и kitchen_area произведена замена медианами. \n",
    "В числовых столбцах заменены типы на int.\n",
    "В столбце days_exposition пропуски заполненны медианами в зависимости от населенного пункта\n",
    "Обрезаны сильные выбросы в столбцах где они имели место.\n",
    "Удалено 2 дубликата.\n",
    "\n",
    "В столбцах с расстояниями заменяли пропуски средними значениями и при обработке было выясненно , что полностью невозможно заполнить столбцы с расстояниями: airports_nearest, parks_nearest, ponds_nearest и особенно важный cityCenters_nearest. Единственная возможность заполнить пропуски в airports_nearest - заполнить средней или медианой всего столбца - но в таком случае при решении задач дальнейшего анализа это сильно может исказать результаты! Поэтому при анализе, там где будет затронут столбец airports_nearest, будем довольствоваться 16519 (-22%!) строками, где присутствуют значения в этом столбце.\n",
    "\n",
    "По заданию было добавлено 7 столбцов, в которых были подсчитаны дополнительные параметры:\n",
    "цена квадратного метра;\n",
    "день недели, месяц и год публикации объявления;\n",
    "этаж квартиры; варианты — первый, последний, другой;\n",
    "соотношение жилой и общей площади, а также отношение площади кухни к общей.\n",
    "Был проведен анализ и сделаны выводы по заданным вопросам:\n",
    "\n",
    "Больше всего квартир с площадями 30-46 кв.м - это, похоже, самые популярные 1 и 2-х комнатные. Далее идут скорее всего 2 и 3 комнатные с площадью до 75 кв.м.\n",
    "\n",
    "Самые популярные квартиры - 1 комнатная(чуть больше 8000) и 2 комнатные(около 8000). 3 комнатных тоже довольно много - чуть меньше 6000, ну а дальше кол-во сильно сокращаетя.\n",
    "Больше всего квартир с высотой потолков 250 - 300 см, подавляющее большинство почти половина с высотой 265 см.\n",
    "\n",
    "Факторы больше всего влияющие на стоимость квартиры: Больше всего на стоимость квартиры влияет её площадь(прямопропорцианальная зависимость). Среднее влияние оказывает удаленность от центра(обратнопропорцианальная зависимость) и количество комнат (особенно хорошо видна прямопропорцианальная зависимость на отрезке 1-3 комнаты, все что выше уже не коррелирует). Также надо отметить, что есть зависимость от этажа - первый этаж мало кто любит и цена его существенно отличается от остальных; люди предпочитают не первый и не последний этаж - его цена выше(но на немного выше последнего).\n",
    "\n",
    "Подавляющее большинство квартир продается в Питере - 14381, а цена около 113236/кв.м. Помимо Питера в Топ10 входят: поселок Мурино, поселок Шушары, Всеволожск, Пушкин, Колпино, поселок Парголово, Гатчина, деревня Кудрово, Петергоф с ценами 68634 - 103434 руб/кв.м.\n",
    "\n",
    "Самая низкая стоимость недвижимости в Гатчине = 68634 руб/кв метр, самая высокая стоимость недвижимости в Санкт-Петербурге = 113236 руб/кв метр.\n",
    "Стоимость км в центре города самая высокая. В целом, чем дальше от центра города, тем стоимость недвижимости ниже, что вполне укладываестя в логику.\n"
   ]
  },
  {
   "cell_type": "markdown",
   "metadata": {
    "pycharm": {
     "name": "#%% md\n"
    }
   },
   "source": []
  },
  {
   "cell_type": "code",
   "execution_count": null,
   "metadata": {
    "pycharm": {
     "name": "#%%\n"
    }
   },
   "outputs": [],
   "source": [
    "# check\n",
    "import seaborn as sns"
   ]
  },
  {
   "cell_type": "code",
   "execution_count": null,
   "metadata": {
    "collapsed": false,
    "pycharm": {
     "name": "#%%\n"
    }
   },
   "outputs": [],
   "source": [
    "# check\n",
    "sns.pairplot(df[['last_price', 'total_area', 'rooms', 'cityCenters_nearest']])\n",
    "plt.gcf().set_size_inches(12,12);\n"
   ]
  },
  {
   "cell_type": "code",
   "execution_count": null,
   "metadata": {
    "collapsed": false,
    "pycharm": {
     "name": "#%%\n"
    }
   },
   "outputs": [],
   "source": [
    "# check\n",
    "data = df.copy()\n",
    "\n",
    "data[data['rooms'] == 3].query('total_area < 201 and last_price < 25_000_000').plot(kind='scatter',\n",
    "        y='last_price' , x='total_area', alpha=0.5, subplots=True, figsize=(15,8), c = 'b', s = 4)\n",
    "plt.title('Диаграмма рассеяния — Общая площадь — цена трешки')\n",
    "\n",
    "\n",
    "data[data['rooms'] == 3].query('total_area < 201 and last_price < 25_000_000').plot(kind='scatter', \n",
    "        y='last_price' , x='living_area', alpha=0.5, figsize=(15,8), c = 'r', s = 4)\n",
    "plt.title('Диаграмма рассеяния — Жилая площадь — цена трешки');"
   ]
  }
 ],
 "metadata": {
  "ExecuteTimeLog": [
   {
    "duration": 846,
    "start_time": "2022-08-20T08:32:16.800Z"
   },
   {
    "duration": 304,
    "start_time": "2022-08-20T08:33:05.323Z"
   },
   {
    "duration": 85,
    "start_time": "2022-08-20T08:33:20.123Z"
   },
   {
    "duration": 84,
    "start_time": "2022-08-20T08:34:31.727Z"
   },
   {
    "duration": 2,
    "start_time": "2022-08-20T08:34:33.699Z"
   },
   {
    "duration": 99,
    "start_time": "2022-08-20T08:35:22.997Z"
   },
   {
    "duration": 25,
    "start_time": "2022-08-20T08:37:09.071Z"
   },
   {
    "duration": 99,
    "start_time": "2022-08-20T08:37:58.704Z"
   },
   {
    "duration": 9337,
    "start_time": "2022-08-20T08:39:31.177Z"
   },
   {
    "duration": 22,
    "start_time": "2022-08-20T08:43:27.743Z"
   },
   {
    "duration": 20,
    "start_time": "2022-08-20T08:58:03.310Z"
   },
   {
    "duration": 22,
    "start_time": "2022-08-20T08:59:52.459Z"
   },
   {
    "duration": 14,
    "start_time": "2022-08-20T09:03:33.397Z"
   },
   {
    "duration": 17,
    "start_time": "2022-08-20T09:22:16.530Z"
   },
   {
    "duration": 22,
    "start_time": "2022-08-20T09:27:17.921Z"
   },
   {
    "duration": 2,
    "start_time": "2022-08-20T11:55:19.133Z"
   },
   {
    "duration": 94,
    "start_time": "2022-08-20T11:55:19.138Z"
   },
   {
    "duration": 15,
    "start_time": "2022-08-20T11:55:19.234Z"
   },
   {
    "duration": 59,
    "start_time": "2022-08-20T11:55:19.251Z"
   },
   {
    "duration": 0,
    "start_time": "2022-08-20T11:55:19.318Z"
   },
   {
    "duration": 0,
    "start_time": "2022-08-20T11:55:19.319Z"
   },
   {
    "duration": 33,
    "start_time": "2022-08-20T11:55:31.860Z"
   },
   {
    "duration": 2062,
    "start_time": "2022-08-20T12:50:07.923Z"
   },
   {
    "duration": 2051,
    "start_time": "2022-08-20T12:53:34.718Z"
   },
   {
    "duration": 1889,
    "start_time": "2022-08-20T12:53:51.036Z"
   },
   {
    "duration": 6,
    "start_time": "2022-08-20T12:56:47.503Z"
   },
   {
    "duration": 23,
    "start_time": "2022-08-20T12:57:08.225Z"
   },
   {
    "duration": 15,
    "start_time": "2022-08-20T12:57:14.625Z"
   },
   {
    "duration": 22,
    "start_time": "2022-08-20T12:57:45.176Z"
   },
   {
    "duration": 24,
    "start_time": "2022-08-20T12:58:14.303Z"
   },
   {
    "duration": 32,
    "start_time": "2022-08-20T13:19:19.732Z"
   },
   {
    "duration": 21,
    "start_time": "2022-08-20T13:19:38.290Z"
   },
   {
    "duration": 22,
    "start_time": "2022-08-20T13:20:14.551Z"
   },
   {
    "duration": 21,
    "start_time": "2022-08-20T13:20:32.068Z"
   },
   {
    "duration": 22,
    "start_time": "2022-08-20T13:21:05.722Z"
   },
   {
    "duration": 361,
    "start_time": "2022-08-20T13:21:25.706Z"
   },
   {
    "duration": 21,
    "start_time": "2022-08-20T13:21:51.340Z"
   },
   {
    "duration": 22,
    "start_time": "2022-08-20T13:22:09.708Z"
   },
   {
    "duration": 20,
    "start_time": "2022-08-20T13:22:35.370Z"
   },
   {
    "duration": 20,
    "start_time": "2022-08-20T13:22:50.228Z"
   },
   {
    "duration": 21,
    "start_time": "2022-08-20T13:23:09.503Z"
   },
   {
    "duration": 21,
    "start_time": "2022-08-20T13:23:21.795Z"
   },
   {
    "duration": 2,
    "start_time": "2022-08-20T13:28:57.137Z"
   },
   {
    "duration": 89,
    "start_time": "2022-08-20T13:28:57.141Z"
   },
   {
    "duration": 12,
    "start_time": "2022-08-20T13:28:57.232Z"
   },
   {
    "duration": 1864,
    "start_time": "2022-08-20T13:28:57.246Z"
   },
   {
    "duration": 19,
    "start_time": "2022-08-20T13:28:59.112Z"
   },
   {
    "duration": 66,
    "start_time": "2022-08-20T13:30:20.789Z"
   },
   {
    "duration": 2,
    "start_time": "2022-08-20T14:49:30.839Z"
   },
   {
    "duration": 100,
    "start_time": "2022-08-20T14:49:30.843Z"
   },
   {
    "duration": 17,
    "start_time": "2022-08-20T14:49:30.946Z"
   },
   {
    "duration": 1934,
    "start_time": "2022-08-20T14:49:30.965Z"
   },
   {
    "duration": 59,
    "start_time": "2022-08-20T14:49:32.901Z"
   },
   {
    "duration": 35,
    "start_time": "2022-08-20T14:49:32.962Z"
   },
   {
    "duration": 803,
    "start_time": "2022-08-21T12:43:48.980Z"
   },
   {
    "duration": 310,
    "start_time": "2022-08-21T12:43:49.785Z"
   },
   {
    "duration": 14,
    "start_time": "2022-08-21T12:43:50.097Z"
   },
   {
    "duration": 1774,
    "start_time": "2022-08-21T12:43:50.113Z"
   },
   {
    "duration": 59,
    "start_time": "2022-08-21T12:43:51.888Z"
   },
   {
    "duration": 19,
    "start_time": "2022-08-21T12:43:51.949Z"
   },
   {
    "duration": 60,
    "start_time": "2022-08-22T11:58:38.873Z"
   },
   {
    "duration": 8,
    "start_time": "2022-08-22T11:58:48.663Z"
   },
   {
    "duration": 849,
    "start_time": "2022-08-22T11:58:51.185Z"
   },
   {
    "duration": 324,
    "start_time": "2022-08-22T11:58:52.792Z"
   },
   {
    "duration": 2,
    "start_time": "2022-08-22T11:58:57.024Z"
   },
   {
    "duration": 106,
    "start_time": "2022-08-22T11:58:57.032Z"
   },
   {
    "duration": 17,
    "start_time": "2022-08-22T11:58:57.141Z"
   },
   {
    "duration": 4,
    "start_time": "2022-08-22T11:58:57.159Z"
   },
   {
    "duration": 2164,
    "start_time": "2022-08-22T11:58:57.165Z"
   },
   {
    "duration": 68,
    "start_time": "2022-08-22T11:58:59.332Z"
   },
   {
    "duration": 20,
    "start_time": "2022-08-22T11:58:59.401Z"
   },
   {
    "duration": 3,
    "start_time": "2022-08-22T11:59:43.593Z"
   },
   {
    "duration": 13,
    "start_time": "2022-08-22T12:00:01.073Z"
   },
   {
    "duration": 51,
    "start_time": "2022-08-22T12:11:18.383Z"
   },
   {
    "duration": 8,
    "start_time": "2022-08-22T12:11:25.152Z"
   },
   {
    "duration": 9,
    "start_time": "2022-08-22T12:11:34.791Z"
   },
   {
    "duration": 9,
    "start_time": "2022-08-22T12:12:32.385Z"
   },
   {
    "duration": 4,
    "start_time": "2022-08-22T12:15:59.903Z"
   },
   {
    "duration": 57,
    "start_time": "2022-08-22T12:30:32.065Z"
   },
   {
    "duration": 11,
    "start_time": "2022-08-22T12:30:37.265Z"
   },
   {
    "duration": 6,
    "start_time": "2022-08-22T12:34:03.184Z"
   },
   {
    "duration": 8,
    "start_time": "2022-08-22T12:34:20.585Z"
   },
   {
    "duration": 16,
    "start_time": "2022-08-22T12:35:50.481Z"
   },
   {
    "duration": 35,
    "start_time": "2022-08-22T12:36:08.987Z"
   },
   {
    "duration": 18,
    "start_time": "2022-08-22T13:42:57.625Z"
   },
   {
    "duration": 24,
    "start_time": "2022-08-22T13:43:09.148Z"
   },
   {
    "duration": 116,
    "start_time": "2022-08-22T14:10:33.878Z"
   },
   {
    "duration": 16,
    "start_time": "2022-08-22T14:10:49.988Z"
   },
   {
    "duration": 58,
    "start_time": "2022-08-22T14:16:00.612Z"
   },
   {
    "duration": 9,
    "start_time": "2022-08-22T14:20:27.859Z"
   },
   {
    "duration": 7,
    "start_time": "2022-08-22T14:20:55.098Z"
   },
   {
    "duration": 4,
    "start_time": "2022-08-22T14:24:50.904Z"
   },
   {
    "duration": 3,
    "start_time": "2022-08-22T14:25:51.136Z"
   },
   {
    "duration": 3,
    "start_time": "2022-08-22T14:25:53.911Z"
   },
   {
    "duration": 8,
    "start_time": "2022-08-22T14:26:31.913Z"
   },
   {
    "duration": 96,
    "start_time": "2022-08-22T14:27:12.558Z"
   },
   {
    "duration": 921,
    "start_time": "2022-08-22T14:27:18.357Z"
   },
   {
    "duration": 48,
    "start_time": "2022-08-22T14:27:31.653Z"
   },
   {
    "duration": 9,
    "start_time": "2022-08-22T14:27:45.848Z"
   },
   {
    "duration": 13,
    "start_time": "2022-08-22T14:28:00.425Z"
   },
   {
    "duration": 13,
    "start_time": "2022-08-22T14:30:21.541Z"
   },
   {
    "duration": 9,
    "start_time": "2022-08-22T14:30:38.262Z"
   },
   {
    "duration": 9,
    "start_time": "2022-08-22T14:31:14.553Z"
   },
   {
    "duration": 10,
    "start_time": "2022-08-22T14:31:29.914Z"
   },
   {
    "duration": 117,
    "start_time": "2022-08-22T14:32:19.977Z"
   },
   {
    "duration": 145,
    "start_time": "2022-08-22T14:32:28.615Z"
   },
   {
    "duration": 335,
    "start_time": "2022-08-22T14:32:41.659Z"
   },
   {
    "duration": 302,
    "start_time": "2022-08-22T14:42:27.521Z"
   },
   {
    "duration": 374,
    "start_time": "2022-08-22T14:42:37.465Z"
   },
   {
    "duration": 302,
    "start_time": "2022-08-22T14:42:46.681Z"
   },
   {
    "duration": 332,
    "start_time": "2022-08-22T14:45:23.507Z"
   },
   {
    "duration": 484,
    "start_time": "2022-08-22T14:45:46.181Z"
   },
   {
    "duration": 416,
    "start_time": "2022-08-22T14:45:52.123Z"
   },
   {
    "duration": 4,
    "start_time": "2022-08-22T14:47:07.183Z"
   },
   {
    "duration": 40,
    "start_time": "2022-08-22T14:51:51.504Z"
   },
   {
    "duration": 9,
    "start_time": "2022-08-22T15:24:58.186Z"
   },
   {
    "duration": 766,
    "start_time": "2022-08-22T15:25:21.328Z"
   },
   {
    "duration": 874,
    "start_time": "2022-08-22T15:26:23.917Z"
   },
   {
    "duration": 798,
    "start_time": "2022-08-23T01:52:52.728Z"
   },
   {
    "duration": 660,
    "start_time": "2022-08-23T01:52:53.528Z"
   },
   {
    "duration": 17,
    "start_time": "2022-08-23T01:52:54.190Z"
   },
   {
    "duration": 58,
    "start_time": "2022-08-23T01:52:54.209Z"
   },
   {
    "duration": 0,
    "start_time": "2022-08-23T01:52:54.269Z"
   },
   {
    "duration": 0,
    "start_time": "2022-08-23T01:52:54.270Z"
   },
   {
    "duration": 0,
    "start_time": "2022-08-23T01:52:54.271Z"
   },
   {
    "duration": 0,
    "start_time": "2022-08-23T01:52:54.272Z"
   },
   {
    "duration": 0,
    "start_time": "2022-08-23T01:52:54.272Z"
   },
   {
    "duration": 0,
    "start_time": "2022-08-23T01:52:54.273Z"
   },
   {
    "duration": 0,
    "start_time": "2022-08-23T01:52:54.275Z"
   },
   {
    "duration": 0,
    "start_time": "2022-08-23T01:52:54.275Z"
   },
   {
    "duration": 0,
    "start_time": "2022-08-23T01:52:54.276Z"
   },
   {
    "duration": 0,
    "start_time": "2022-08-23T01:52:54.277Z"
   },
   {
    "duration": 0,
    "start_time": "2022-08-23T01:52:54.278Z"
   },
   {
    "duration": 0,
    "start_time": "2022-08-23T01:52:54.279Z"
   },
   {
    "duration": 0,
    "start_time": "2022-08-23T01:52:54.280Z"
   },
   {
    "duration": 9,
    "start_time": "2022-08-23T01:53:17.387Z"
   },
   {
    "duration": 5,
    "start_time": "2022-08-23T01:55:18.915Z"
   },
   {
    "duration": 71,
    "start_time": "2022-08-23T01:55:21.400Z"
   },
   {
    "duration": 3,
    "start_time": "2022-08-23T01:55:28.428Z"
   },
   {
    "duration": 107,
    "start_time": "2022-08-23T01:55:28.432Z"
   },
   {
    "duration": 14,
    "start_time": "2022-08-23T01:55:28.540Z"
   },
   {
    "duration": 8,
    "start_time": "2022-08-23T01:55:28.555Z"
   },
   {
    "duration": 57,
    "start_time": "2022-08-23T01:55:28.565Z"
   },
   {
    "duration": 0,
    "start_time": "2022-08-23T01:55:28.624Z"
   },
   {
    "duration": 0,
    "start_time": "2022-08-23T01:55:28.626Z"
   },
   {
    "duration": 0,
    "start_time": "2022-08-23T01:55:28.627Z"
   },
   {
    "duration": 0,
    "start_time": "2022-08-23T01:55:28.628Z"
   },
   {
    "duration": 0,
    "start_time": "2022-08-23T01:55:28.630Z"
   },
   {
    "duration": 0,
    "start_time": "2022-08-23T01:55:28.631Z"
   },
   {
    "duration": 0,
    "start_time": "2022-08-23T01:55:28.633Z"
   },
   {
    "duration": 0,
    "start_time": "2022-08-23T01:55:28.634Z"
   },
   {
    "duration": 0,
    "start_time": "2022-08-23T01:55:28.635Z"
   },
   {
    "duration": 0,
    "start_time": "2022-08-23T01:55:28.636Z"
   },
   {
    "duration": 0,
    "start_time": "2022-08-23T01:55:28.638Z"
   },
   {
    "duration": 3,
    "start_time": "2022-08-23T01:55:48.972Z"
   },
   {
    "duration": 21,
    "start_time": "2022-08-23T01:55:49.687Z"
   },
   {
    "duration": 1802,
    "start_time": "2022-08-23T01:55:54.168Z"
   },
   {
    "duration": 66,
    "start_time": "2022-08-23T01:56:00.928Z"
   },
   {
    "duration": 5,
    "start_time": "2022-08-23T01:56:06.759Z"
   },
   {
    "duration": 297,
    "start_time": "2022-08-23T01:56:18.327Z"
   },
   {
    "duration": 5,
    "start_time": "2022-08-23T01:56:22.808Z"
   },
   {
    "duration": 337,
    "start_time": "2022-08-23T01:56:25.113Z"
   },
   {
    "duration": 24,
    "start_time": "2022-08-23T01:57:21.940Z"
   },
   {
    "duration": 748,
    "start_time": "2022-08-23T01:57:32.096Z"
   },
   {
    "duration": 614,
    "start_time": "2022-08-23T01:58:16.870Z"
   },
   {
    "duration": 684,
    "start_time": "2022-08-23T01:58:28.308Z"
   },
   {
    "duration": 574,
    "start_time": "2022-08-23T01:58:34.377Z"
   },
   {
    "duration": 482,
    "start_time": "2022-08-23T01:58:42.520Z"
   },
   {
    "duration": 619,
    "start_time": "2022-08-23T01:58:57.660Z"
   },
   {
    "duration": 554,
    "start_time": "2022-08-23T01:59:13.325Z"
   },
   {
    "duration": 504,
    "start_time": "2022-08-23T01:59:52.368Z"
   },
   {
    "duration": 532,
    "start_time": "2022-08-23T02:00:10.740Z"
   },
   {
    "duration": 19,
    "start_time": "2022-08-23T02:00:51.036Z"
   },
   {
    "duration": 701,
    "start_time": "2022-08-23T02:01:06.369Z"
   },
   {
    "duration": 523,
    "start_time": "2022-08-23T02:03:32.999Z"
   },
   {
    "duration": 502,
    "start_time": "2022-08-23T02:04:39.444Z"
   },
   {
    "duration": 36,
    "start_time": "2022-08-23T02:22:36.355Z"
   },
   {
    "duration": 28,
    "start_time": "2022-08-23T02:22:56.413Z"
   },
   {
    "duration": 36,
    "start_time": "2022-08-23T02:23:45.335Z"
   },
   {
    "duration": 10,
    "start_time": "2022-08-23T02:23:58.211Z"
   },
   {
    "duration": 11,
    "start_time": "2022-08-23T02:24:01.039Z"
   },
   {
    "duration": 9,
    "start_time": "2022-08-23T02:27:01.794Z"
   },
   {
    "duration": 9,
    "start_time": "2022-08-23T02:27:20.825Z"
   },
   {
    "duration": 9,
    "start_time": "2022-08-23T02:28:05.086Z"
   },
   {
    "duration": 11,
    "start_time": "2022-08-23T02:28:25.507Z"
   },
   {
    "duration": 8,
    "start_time": "2022-08-23T02:29:36.999Z"
   },
   {
    "duration": 57,
    "start_time": "2022-08-23T02:30:12.526Z"
   },
   {
    "duration": 56,
    "start_time": "2022-08-23T02:31:14.505Z"
   },
   {
    "duration": 10,
    "start_time": "2022-08-23T02:31:33.897Z"
   },
   {
    "duration": 7,
    "start_time": "2022-08-23T02:31:57.356Z"
   },
   {
    "duration": 11,
    "start_time": "2022-08-23T02:32:10.922Z"
   },
   {
    "duration": 8,
    "start_time": "2022-08-23T02:33:17.479Z"
   },
   {
    "duration": 8,
    "start_time": "2022-08-23T02:34:19.674Z"
   },
   {
    "duration": 7,
    "start_time": "2022-08-23T02:34:27.319Z"
   },
   {
    "duration": 8,
    "start_time": "2022-08-23T02:35:51.299Z"
   },
   {
    "duration": 8,
    "start_time": "2022-08-23T02:36:11.106Z"
   },
   {
    "duration": 9,
    "start_time": "2022-08-23T02:37:44.337Z"
   },
   {
    "duration": 8,
    "start_time": "2022-08-23T02:38:43.266Z"
   },
   {
    "duration": 10,
    "start_time": "2022-08-23T02:39:45.365Z"
   },
   {
    "duration": 8,
    "start_time": "2022-08-23T02:41:26.446Z"
   },
   {
    "duration": 8,
    "start_time": "2022-08-23T02:41:53.138Z"
   },
   {
    "duration": 49,
    "start_time": "2022-08-23T08:04:25.572Z"
   },
   {
    "duration": 7,
    "start_time": "2022-08-23T08:04:36.516Z"
   },
   {
    "duration": 8,
    "start_time": "2022-08-23T08:04:52.007Z"
   },
   {
    "duration": 749,
    "start_time": "2022-08-23T08:05:00.939Z"
   },
   {
    "duration": 777,
    "start_time": "2022-08-23T08:05:01.690Z"
   },
   {
    "duration": 13,
    "start_time": "2022-08-23T08:05:02.469Z"
   },
   {
    "duration": 7,
    "start_time": "2022-08-23T08:05:02.484Z"
   },
   {
    "duration": 12,
    "start_time": "2022-08-23T08:05:02.493Z"
   },
   {
    "duration": 21,
    "start_time": "2022-08-23T08:05:02.507Z"
   },
   {
    "duration": 1652,
    "start_time": "2022-08-23T08:05:02.529Z"
   },
   {
    "duration": 56,
    "start_time": "2022-08-23T08:05:04.183Z"
   },
   {
    "duration": 5,
    "start_time": "2022-08-23T08:05:04.241Z"
   },
   {
    "duration": 338,
    "start_time": "2022-08-23T08:05:04.247Z"
   },
   {
    "duration": 4,
    "start_time": "2022-08-23T08:05:04.586Z"
   },
   {
    "duration": 404,
    "start_time": "2022-08-23T08:05:04.598Z"
   },
   {
    "duration": 10,
    "start_time": "2022-08-23T08:05:05.004Z"
   },
   {
    "duration": 37,
    "start_time": "2022-08-23T08:05:05.016Z"
   },
   {
    "duration": 0,
    "start_time": "2022-08-23T08:05:05.054Z"
   },
   {
    "duration": 6,
    "start_time": "2022-08-23T08:05:39.837Z"
   },
   {
    "duration": 7,
    "start_time": "2022-08-23T08:05:57.760Z"
   },
   {
    "duration": 10,
    "start_time": "2022-08-23T08:06:04.474Z"
   },
   {
    "duration": 9,
    "start_time": "2022-08-23T08:06:15.956Z"
   },
   {
    "duration": 6,
    "start_time": "2022-08-23T08:06:41.532Z"
   },
   {
    "duration": 6,
    "start_time": "2022-08-23T08:07:11.874Z"
   },
   {
    "duration": 8,
    "start_time": "2022-08-23T08:08:25.236Z"
   },
   {
    "duration": 7,
    "start_time": "2022-08-23T08:13:02.002Z"
   },
   {
    "duration": 7,
    "start_time": "2022-08-23T08:14:45.716Z"
   },
   {
    "duration": 7,
    "start_time": "2022-08-23T08:14:53.130Z"
   },
   {
    "duration": 56,
    "start_time": "2022-08-23T08:15:42.272Z"
   },
   {
    "duration": 7,
    "start_time": "2022-08-23T08:15:55.078Z"
   },
   {
    "duration": 8,
    "start_time": "2022-08-23T08:16:48.324Z"
   },
   {
    "duration": 7,
    "start_time": "2022-08-23T08:17:15.863Z"
   },
   {
    "duration": 8,
    "start_time": "2022-08-23T08:19:40.439Z"
   },
   {
    "duration": 6,
    "start_time": "2022-08-23T09:01:43.851Z"
   },
   {
    "duration": 9,
    "start_time": "2022-08-23T09:02:11.830Z"
   },
   {
    "duration": 2,
    "start_time": "2022-08-23T09:02:25.926Z"
   },
   {
    "duration": 115,
    "start_time": "2022-08-23T09:02:25.930Z"
   },
   {
    "duration": 14,
    "start_time": "2022-08-23T09:02:26.046Z"
   },
   {
    "duration": 9,
    "start_time": "2022-08-23T09:02:26.061Z"
   },
   {
    "duration": 5,
    "start_time": "2022-08-23T09:02:26.072Z"
   },
   {
    "duration": 37,
    "start_time": "2022-08-23T09:02:26.078Z"
   },
   {
    "duration": 1630,
    "start_time": "2022-08-23T09:02:26.116Z"
   },
   {
    "duration": 61,
    "start_time": "2022-08-23T09:02:27.748Z"
   },
   {
    "duration": 359,
    "start_time": "2022-08-23T09:02:27.810Z"
   },
   {
    "duration": 6,
    "start_time": "2022-08-23T09:02:28.170Z"
   },
   {
    "duration": 6,
    "start_time": "2022-08-23T09:02:28.178Z"
   },
   {
    "duration": 326,
    "start_time": "2022-08-23T09:02:28.186Z"
   },
   {
    "duration": 41,
    "start_time": "2022-08-23T09:02:28.513Z"
   },
   {
    "duration": 0,
    "start_time": "2022-08-23T09:02:28.555Z"
   },
   {
    "duration": 0,
    "start_time": "2022-08-23T09:02:28.556Z"
   },
   {
    "duration": 8,
    "start_time": "2022-08-23T09:02:53.601Z"
   },
   {
    "duration": 8,
    "start_time": "2022-08-23T09:03:46.374Z"
   },
   {
    "duration": 8,
    "start_time": "2022-08-23T09:04:02.170Z"
   },
   {
    "duration": 9,
    "start_time": "2022-08-23T09:06:32.448Z"
   },
   {
    "duration": 8,
    "start_time": "2022-08-23T09:06:39.286Z"
   },
   {
    "duration": 9,
    "start_time": "2022-08-23T09:06:41.818Z"
   },
   {
    "duration": 3,
    "start_time": "2022-08-23T09:06:44.832Z"
   },
   {
    "duration": 118,
    "start_time": "2022-08-23T09:06:44.838Z"
   },
   {
    "duration": 13,
    "start_time": "2022-08-23T09:06:44.958Z"
   },
   {
    "duration": 7,
    "start_time": "2022-08-23T09:06:44.972Z"
   },
   {
    "duration": 3,
    "start_time": "2022-08-23T09:06:44.981Z"
   },
   {
    "duration": 20,
    "start_time": "2022-08-23T09:06:44.997Z"
   },
   {
    "duration": 1742,
    "start_time": "2022-08-23T09:06:45.019Z"
   },
   {
    "duration": 64,
    "start_time": "2022-08-23T09:06:46.762Z"
   },
   {
    "duration": 308,
    "start_time": "2022-08-23T09:06:46.828Z"
   },
   {
    "duration": 6,
    "start_time": "2022-08-23T09:06:47.137Z"
   },
   {
    "duration": 6,
    "start_time": "2022-08-23T09:06:47.145Z"
   },
   {
    "duration": 330,
    "start_time": "2022-08-23T09:06:47.152Z"
   },
   {
    "duration": 45,
    "start_time": "2022-08-23T09:06:47.484Z"
   },
   {
    "duration": 0,
    "start_time": "2022-08-23T09:06:47.530Z"
   },
   {
    "duration": 0,
    "start_time": "2022-08-23T09:06:47.531Z"
   },
   {
    "duration": 8,
    "start_time": "2022-08-23T09:06:54.716Z"
   },
   {
    "duration": 8,
    "start_time": "2022-08-23T09:07:12.919Z"
   },
   {
    "duration": 10,
    "start_time": "2022-08-23T09:07:17.928Z"
   },
   {
    "duration": 7,
    "start_time": "2022-08-23T09:07:21.808Z"
   },
   {
    "duration": 9,
    "start_time": "2022-08-23T09:09:47.404Z"
   },
   {
    "duration": 10,
    "start_time": "2022-08-23T09:11:44.992Z"
   },
   {
    "duration": 3,
    "start_time": "2022-08-23T09:11:49.588Z"
   },
   {
    "duration": 120,
    "start_time": "2022-08-23T09:11:49.592Z"
   },
   {
    "duration": 13,
    "start_time": "2022-08-23T09:11:49.714Z"
   },
   {
    "duration": 10,
    "start_time": "2022-08-23T09:11:49.728Z"
   },
   {
    "duration": 33,
    "start_time": "2022-08-23T09:11:49.740Z"
   },
   {
    "duration": 51,
    "start_time": "2022-08-23T09:11:49.774Z"
   },
   {
    "duration": 1715,
    "start_time": "2022-08-23T09:11:49.826Z"
   },
   {
    "duration": 61,
    "start_time": "2022-08-23T09:11:51.543Z"
   },
   {
    "duration": 302,
    "start_time": "2022-08-23T09:11:51.606Z"
   },
   {
    "duration": 5,
    "start_time": "2022-08-23T09:11:51.910Z"
   },
   {
    "duration": 26,
    "start_time": "2022-08-23T09:11:51.917Z"
   },
   {
    "duration": 434,
    "start_time": "2022-08-23T09:11:51.944Z"
   },
   {
    "duration": 42,
    "start_time": "2022-08-23T09:11:52.379Z"
   },
   {
    "duration": 0,
    "start_time": "2022-08-23T09:11:52.422Z"
   },
   {
    "duration": 0,
    "start_time": "2022-08-23T09:11:52.424Z"
   },
   {
    "duration": 7,
    "start_time": "2022-08-23T09:12:10.904Z"
   },
   {
    "duration": 8,
    "start_time": "2022-08-23T09:12:15.741Z"
   },
   {
    "duration": 3,
    "start_time": "2022-08-23T09:12:20.629Z"
   },
   {
    "duration": 98,
    "start_time": "2022-08-23T09:12:21.407Z"
   },
   {
    "duration": 14,
    "start_time": "2022-08-23T09:12:25.591Z"
   },
   {
    "duration": 8,
    "start_time": "2022-08-23T09:12:35.827Z"
   },
   {
    "duration": 4,
    "start_time": "2022-08-23T09:12:39.143Z"
   },
   {
    "duration": 20,
    "start_time": "2022-08-23T09:12:42.272Z"
   },
   {
    "duration": 1642,
    "start_time": "2022-08-23T09:12:54.383Z"
   },
   {
    "duration": 57,
    "start_time": "2022-08-23T09:12:58.066Z"
   },
   {
    "duration": 300,
    "start_time": "2022-08-23T09:13:05.810Z"
   },
   {
    "duration": 5,
    "start_time": "2022-08-23T09:13:10.356Z"
   },
   {
    "duration": 7,
    "start_time": "2022-08-23T09:13:14.392Z"
   },
   {
    "duration": 4,
    "start_time": "2022-08-23T09:13:18.861Z"
   },
   {
    "duration": 453,
    "start_time": "2022-08-23T09:13:21.631Z"
   },
   {
    "duration": 40,
    "start_time": "2022-08-23T09:13:26.730Z"
   },
   {
    "duration": 7,
    "start_time": "2022-08-23T09:13:34.818Z"
   },
   {
    "duration": 8,
    "start_time": "2022-08-23T09:13:41.166Z"
   },
   {
    "duration": 9,
    "start_time": "2022-08-23T09:13:44.012Z"
   },
   {
    "duration": 9,
    "start_time": "2022-08-23T09:13:52.114Z"
   },
   {
    "duration": 9,
    "start_time": "2022-08-23T09:13:57.367Z"
   },
   {
    "duration": 8,
    "start_time": "2022-08-23T09:14:41.873Z"
   },
   {
    "duration": 9,
    "start_time": "2022-08-23T09:15:01.298Z"
   },
   {
    "duration": 9,
    "start_time": "2022-08-23T09:15:07.209Z"
   },
   {
    "duration": 9,
    "start_time": "2022-08-23T09:15:20.948Z"
   },
   {
    "duration": 9,
    "start_time": "2022-08-23T09:20:58.786Z"
   },
   {
    "duration": 9,
    "start_time": "2022-08-23T09:21:03.125Z"
   },
   {
    "duration": 633,
    "start_time": "2022-08-23T09:22:29.183Z"
   },
   {
    "duration": 119,
    "start_time": "2022-08-23T09:22:29.818Z"
   },
   {
    "duration": 18,
    "start_time": "2022-08-23T09:22:29.938Z"
   },
   {
    "duration": 9,
    "start_time": "2022-08-23T09:22:29.958Z"
   },
   {
    "duration": 4,
    "start_time": "2022-08-23T09:22:29.968Z"
   },
   {
    "duration": 37,
    "start_time": "2022-08-23T09:22:29.973Z"
   },
   {
    "duration": 1730,
    "start_time": "2022-08-23T09:22:30.011Z"
   },
   {
    "duration": 56,
    "start_time": "2022-08-23T09:22:31.743Z"
   },
   {
    "duration": 313,
    "start_time": "2022-08-23T09:22:31.801Z"
   },
   {
    "duration": 7,
    "start_time": "2022-08-23T09:22:32.116Z"
   },
   {
    "duration": 8,
    "start_time": "2022-08-23T09:22:32.124Z"
   },
   {
    "duration": 337,
    "start_time": "2022-08-23T09:22:32.134Z"
   },
   {
    "duration": 114,
    "start_time": "2022-08-23T09:22:32.472Z"
   },
   {
    "duration": 0,
    "start_time": "2022-08-23T09:22:32.587Z"
   },
   {
    "duration": 0,
    "start_time": "2022-08-23T09:22:32.588Z"
   },
   {
    "duration": 7,
    "start_time": "2022-08-23T09:22:36.674Z"
   },
   {
    "duration": 3,
    "start_time": "2022-08-23T09:22:40.898Z"
   },
   {
    "duration": 106,
    "start_time": "2022-08-23T09:22:42.535Z"
   },
   {
    "duration": 15,
    "start_time": "2022-08-23T09:22:46.063Z"
   },
   {
    "duration": 8,
    "start_time": "2022-08-23T09:22:54.080Z"
   },
   {
    "duration": 3,
    "start_time": "2022-08-23T09:22:57.829Z"
   },
   {
    "duration": 1684,
    "start_time": "2022-08-23T09:23:00.498Z"
   },
   {
    "duration": 57,
    "start_time": "2022-08-23T09:23:04.172Z"
   },
   {
    "duration": 356,
    "start_time": "2022-08-23T09:23:15.263Z"
   },
   {
    "duration": 6,
    "start_time": "2022-08-23T09:23:24.148Z"
   },
   {
    "duration": 4,
    "start_time": "2022-08-23T09:23:26.624Z"
   },
   {
    "duration": 315,
    "start_time": "2022-08-23T09:23:30.506Z"
   },
   {
    "duration": 42,
    "start_time": "2022-08-23T09:23:35.656Z"
   },
   {
    "duration": 10,
    "start_time": "2022-08-23T09:23:39.173Z"
   },
   {
    "duration": 9,
    "start_time": "2022-08-23T09:24:00.692Z"
   },
   {
    "duration": 9,
    "start_time": "2022-08-23T09:24:07.371Z"
   },
   {
    "duration": 10,
    "start_time": "2022-08-23T09:24:20.113Z"
   },
   {
    "duration": 9,
    "start_time": "2022-08-23T09:24:22.364Z"
   },
   {
    "duration": 10,
    "start_time": "2022-08-23T09:24:24.521Z"
   },
   {
    "duration": 9,
    "start_time": "2022-08-23T09:24:30.644Z"
   },
   {
    "duration": 9,
    "start_time": "2022-08-23T09:24:51.212Z"
   },
   {
    "duration": 7,
    "start_time": "2022-08-23T09:25:03.410Z"
   },
   {
    "duration": 6,
    "start_time": "2022-08-23T09:28:45.062Z"
   },
   {
    "duration": 775,
    "start_time": "2022-08-23T23:43:27.963Z"
   },
   {
    "duration": 853,
    "start_time": "2022-08-23T23:43:28.740Z"
   },
   {
    "duration": 20,
    "start_time": "2022-08-23T23:43:29.595Z"
   },
   {
    "duration": 18,
    "start_time": "2022-08-23T23:43:29.620Z"
   },
   {
    "duration": 7,
    "start_time": "2022-08-23T23:43:29.640Z"
   },
   {
    "duration": 24,
    "start_time": "2022-08-23T23:43:29.648Z"
   },
   {
    "duration": 2104,
    "start_time": "2022-08-23T23:43:29.674Z"
   },
   {
    "duration": 86,
    "start_time": "2022-08-23T23:43:31.780Z"
   },
   {
    "duration": 357,
    "start_time": "2022-08-23T23:43:31.868Z"
   },
   {
    "duration": 8,
    "start_time": "2022-08-23T23:43:32.229Z"
   },
   {
    "duration": 8,
    "start_time": "2022-08-23T23:43:32.239Z"
   },
   {
    "duration": 382,
    "start_time": "2022-08-23T23:43:32.249Z"
   },
   {
    "duration": 557,
    "start_time": "2022-08-23T23:43:32.632Z"
   },
   {
    "duration": 23,
    "start_time": "2022-08-23T23:43:33.192Z"
   },
   {
    "duration": 17,
    "start_time": "2022-08-23T23:43:33.220Z"
   },
   {
    "duration": 4,
    "start_time": "2022-08-23T23:43:33.239Z"
   },
   {
    "duration": 350,
    "start_time": "2022-08-23T23:43:33.244Z"
   },
   {
    "duration": 271,
    "start_time": "2022-08-23T23:43:33.596Z"
   },
   {
    "duration": 4,
    "start_time": "2022-08-23T23:43:33.869Z"
   },
   {
    "duration": 30,
    "start_time": "2022-08-23T23:43:33.875Z"
   },
   {
    "duration": 7,
    "start_time": "2022-08-23T23:43:33.907Z"
   },
   {
    "duration": 56,
    "start_time": "2022-08-23T23:43:33.918Z"
   },
   {
    "duration": 0,
    "start_time": "2022-08-23T23:43:33.976Z"
   },
   {
    "duration": 0,
    "start_time": "2022-08-23T23:43:33.977Z"
   },
   {
    "duration": 212,
    "start_time": "2022-08-23T23:58:29.016Z"
   },
   {
    "duration": 438,
    "start_time": "2022-08-23T23:58:49.547Z"
   },
   {
    "duration": 122,
    "start_time": "2022-08-23T23:58:59.330Z"
   },
   {
    "duration": 3,
    "start_time": "2022-08-24T00:00:53.350Z"
   },
   {
    "duration": 138,
    "start_time": "2022-08-24T00:00:54.013Z"
   },
   {
    "duration": 14,
    "start_time": "2022-08-24T00:00:58.527Z"
   },
   {
    "duration": 8,
    "start_time": "2022-08-24T00:01:05.369Z"
   },
   {
    "duration": 4,
    "start_time": "2022-08-24T00:01:09.384Z"
   },
   {
    "duration": 31,
    "start_time": "2022-08-24T00:01:11.425Z"
   },
   {
    "duration": 1947,
    "start_time": "2022-08-24T00:01:21.925Z"
   },
   {
    "duration": 218,
    "start_time": "2022-08-24T00:01:30.428Z"
   },
   {
    "duration": 341,
    "start_time": "2022-08-24T00:01:54.801Z"
   },
   {
    "duration": 7,
    "start_time": "2022-08-24T00:02:10.139Z"
   },
   {
    "duration": 9,
    "start_time": "2022-08-24T00:02:15.221Z"
   },
   {
    "duration": 364,
    "start_time": "2022-08-24T00:02:18.927Z"
   },
   {
    "duration": 485,
    "start_time": "2022-08-24T00:02:24.923Z"
   },
   {
    "duration": 4,
    "start_time": "2022-08-24T00:02:29.038Z"
   },
   {
    "duration": 9,
    "start_time": "2022-08-24T00:02:31.664Z"
   },
   {
    "duration": 4,
    "start_time": "2022-08-24T00:02:32.423Z"
   },
   {
    "duration": 556,
    "start_time": "2022-08-24T00:02:41.385Z"
   },
   {
    "duration": 269,
    "start_time": "2022-08-24T00:02:44.525Z"
   },
   {
    "duration": 4,
    "start_time": "2022-08-24T00:02:46.544Z"
   },
   {
    "duration": 8,
    "start_time": "2022-08-24T00:02:48.937Z"
   },
   {
    "duration": 5,
    "start_time": "2022-08-24T00:02:49.663Z"
   },
   {
    "duration": 3,
    "start_time": "2022-08-24T00:03:44.660Z"
   },
   {
    "duration": 4,
    "start_time": "2022-08-24T00:03:52.646Z"
   },
   {
    "duration": 4,
    "start_time": "2022-08-24T00:04:00.644Z"
   },
   {
    "duration": 7,
    "start_time": "2022-08-24T00:04:01.463Z"
   },
   {
    "duration": 6,
    "start_time": "2022-08-24T00:04:02.006Z"
   },
   {
    "duration": 420,
    "start_time": "2022-08-24T00:04:16.021Z"
   },
   {
    "duration": 4,
    "start_time": "2022-08-24T00:04:21.827Z"
   },
   {
    "duration": 6,
    "start_time": "2022-08-24T00:04:22.620Z"
   },
   {
    "duration": 5,
    "start_time": "2022-08-24T00:04:23.422Z"
   },
   {
    "duration": 438,
    "start_time": "2022-08-24T00:04:47.543Z"
   },
   {
    "duration": 407,
    "start_time": "2022-08-24T00:05:09.950Z"
   },
   {
    "duration": 589,
    "start_time": "2022-08-24T00:05:18.171Z"
   },
   {
    "duration": 10,
    "start_time": "2022-08-24T00:05:51.430Z"
   },
   {
    "duration": 4,
    "start_time": "2022-08-24T00:05:52.384Z"
   },
   {
    "duration": 15,
    "start_time": "2022-08-24T00:05:55.022Z"
   },
   {
    "duration": 10,
    "start_time": "2022-08-24T00:05:55.964Z"
   },
   {
    "duration": 5,
    "start_time": "2022-08-24T00:05:56.583Z"
   },
   {
    "duration": 13,
    "start_time": "2022-08-24T00:09:08.716Z"
   },
   {
    "duration": 9,
    "start_time": "2022-08-24T00:09:55.166Z"
   },
   {
    "duration": 9,
    "start_time": "2022-08-24T00:10:07.544Z"
   },
   {
    "duration": 8,
    "start_time": "2022-08-24T00:10:13.551Z"
   },
   {
    "duration": 10,
    "start_time": "2022-08-24T00:11:20.578Z"
   },
   {
    "duration": 12,
    "start_time": "2022-08-24T00:11:37.113Z"
   },
   {
    "duration": 49,
    "start_time": "2022-08-24T00:12:34.624Z"
   },
   {
    "duration": 71,
    "start_time": "2022-08-24T00:12:46.981Z"
   },
   {
    "duration": 8,
    "start_time": "2022-08-24T00:13:03.536Z"
   },
   {
    "duration": 22,
    "start_time": "2022-08-24T00:13:18.061Z"
   },
   {
    "duration": 19,
    "start_time": "2022-08-24T00:13:35.427Z"
   },
   {
    "duration": 22,
    "start_time": "2022-08-24T00:16:30.897Z"
   },
   {
    "duration": 430,
    "start_time": "2022-08-24T00:20:35.825Z"
   },
   {
    "duration": 386,
    "start_time": "2022-08-24T00:23:30.182Z"
   },
   {
    "duration": 11,
    "start_time": "2022-08-24T00:31:49.013Z"
   },
   {
    "duration": 80,
    "start_time": "2022-08-24T00:32:09.298Z"
   },
   {
    "duration": 51,
    "start_time": "2022-08-24T00:32:38.834Z"
   },
   {
    "duration": 12,
    "start_time": "2022-08-24T00:32:55.915Z"
   },
   {
    "duration": 13,
    "start_time": "2022-08-24T00:33:07.714Z"
   },
   {
    "duration": 11,
    "start_time": "2022-08-24T00:33:15.914Z"
   },
   {
    "duration": 53,
    "start_time": "2022-08-24T00:38:20.977Z"
   },
   {
    "duration": 68,
    "start_time": "2022-08-24T00:40:46.859Z"
   },
   {
    "duration": 3,
    "start_time": "2022-08-24T00:58:13.439Z"
   },
   {
    "duration": 28,
    "start_time": "2022-08-24T01:00:13.476Z"
   },
   {
    "duration": 8,
    "start_time": "2022-08-24T01:02:17.929Z"
   },
   {
    "duration": 18,
    "start_time": "2022-08-24T01:03:41.296Z"
   },
   {
    "duration": 4,
    "start_time": "2022-08-24T01:05:09.940Z"
   },
   {
    "duration": 4,
    "start_time": "2022-08-24T01:05:20.838Z"
   },
   {
    "duration": 4,
    "start_time": "2022-08-24T01:05:28.525Z"
   },
   {
    "duration": 9,
    "start_time": "2022-08-24T01:05:58.615Z"
   },
   {
    "duration": 17,
    "start_time": "2022-08-24T01:06:10.271Z"
   },
   {
    "duration": 17,
    "start_time": "2022-08-24T01:06:29.095Z"
   },
   {
    "duration": 24,
    "start_time": "2022-08-24T01:06:56.942Z"
   },
   {
    "duration": 4,
    "start_time": "2022-08-24T01:07:01.332Z"
   },
   {
    "duration": 13,
    "start_time": "2022-08-24T01:07:04.072Z"
   },
   {
    "duration": 769,
    "start_time": "2022-08-24T23:39:21.877Z"
   },
   {
    "duration": 678,
    "start_time": "2022-08-24T23:39:22.648Z"
   },
   {
    "duration": 16,
    "start_time": "2022-08-24T23:39:23.328Z"
   },
   {
    "duration": 8,
    "start_time": "2022-08-24T23:39:23.347Z"
   },
   {
    "duration": 4,
    "start_time": "2022-08-24T23:39:23.357Z"
   },
   {
    "duration": 37,
    "start_time": "2022-08-24T23:39:23.362Z"
   },
   {
    "duration": 1874,
    "start_time": "2022-08-24T23:39:23.401Z"
   },
   {
    "duration": 71,
    "start_time": "2022-08-24T23:39:25.277Z"
   },
   {
    "duration": 357,
    "start_time": "2022-08-24T23:39:25.350Z"
   },
   {
    "duration": 4,
    "start_time": "2022-08-24T23:39:25.709Z"
   },
   {
    "duration": 11,
    "start_time": "2022-08-24T23:39:25.715Z"
   },
   {
    "duration": 4,
    "start_time": "2022-08-24T23:39:25.728Z"
   },
   {
    "duration": 7,
    "start_time": "2022-08-24T23:39:25.734Z"
   },
   {
    "duration": 400,
    "start_time": "2022-08-24T23:39:25.742Z"
   },
   {
    "duration": 518,
    "start_time": "2022-08-24T23:39:26.143Z"
   },
   {
    "duration": 4,
    "start_time": "2022-08-24T23:39:26.663Z"
   },
   {
    "duration": 19,
    "start_time": "2022-08-24T23:39:26.668Z"
   },
   {
    "duration": 3,
    "start_time": "2022-08-24T23:39:26.689Z"
   },
   {
    "duration": 329,
    "start_time": "2022-08-24T23:39:26.693Z"
   },
   {
    "duration": 256,
    "start_time": "2022-08-24T23:39:27.024Z"
   },
   {
    "duration": 4,
    "start_time": "2022-08-24T23:39:27.285Z"
   },
   {
    "duration": 13,
    "start_time": "2022-08-24T23:39:27.291Z"
   },
   {
    "duration": 5,
    "start_time": "2022-08-24T23:39:27.306Z"
   },
   {
    "duration": 9,
    "start_time": "2022-08-24T23:39:27.313Z"
   },
   {
    "duration": 18,
    "start_time": "2022-08-24T23:39:27.324Z"
   },
   {
    "duration": 395,
    "start_time": "2022-08-24T23:39:27.344Z"
   },
   {
    "duration": 10,
    "start_time": "2022-08-24T23:39:27.741Z"
   },
   {
    "duration": 10,
    "start_time": "2022-08-24T23:39:27.754Z"
   },
   {
    "duration": 43,
    "start_time": "2022-08-24T23:39:27.765Z"
   },
   {
    "duration": 136,
    "start_time": "2022-08-24T23:39:27.810Z"
   },
   {
    "duration": 13,
    "start_time": "2022-08-24T23:39:27.948Z"
   },
   {
    "duration": 356,
    "start_time": "2022-08-24T23:39:27.963Z"
   },
   {
    "duration": 7,
    "start_time": "2022-08-24T23:39:28.320Z"
   },
   {
    "duration": 205,
    "start_time": "2022-08-24T23:39:28.328Z"
   },
   {
    "duration": 212,
    "start_time": "2022-08-24T23:39:28.534Z"
   },
   {
    "duration": 65,
    "start_time": "2022-08-24T23:39:28.748Z"
   },
   {
    "duration": 6,
    "start_time": "2022-08-24T23:39:28.815Z"
   },
   {
    "duration": 15,
    "start_time": "2022-08-24T23:39:28.822Z"
   },
   {
    "duration": 27,
    "start_time": "2022-08-24T23:39:28.839Z"
   },
   {
    "duration": 92,
    "start_time": "2022-08-24T23:39:28.868Z"
   },
   {
    "duration": 0,
    "start_time": "2022-08-24T23:39:28.962Z"
   },
   {
    "duration": 0,
    "start_time": "2022-08-24T23:39:28.964Z"
   },
   {
    "duration": 0,
    "start_time": "2022-08-24T23:39:28.965Z"
   },
   {
    "duration": 0,
    "start_time": "2022-08-24T23:39:28.966Z"
   },
   {
    "duration": 0,
    "start_time": "2022-08-24T23:39:28.967Z"
   },
   {
    "duration": 0,
    "start_time": "2022-08-24T23:39:28.968Z"
   },
   {
    "duration": 0,
    "start_time": "2022-08-24T23:39:28.970Z"
   },
   {
    "duration": 0,
    "start_time": "2022-08-24T23:39:28.971Z"
   },
   {
    "duration": 0,
    "start_time": "2022-08-24T23:39:28.973Z"
   },
   {
    "duration": 0,
    "start_time": "2022-08-24T23:39:28.974Z"
   },
   {
    "duration": 0,
    "start_time": "2022-08-24T23:39:28.975Z"
   },
   {
    "duration": 0,
    "start_time": "2022-08-24T23:39:28.976Z"
   },
   {
    "duration": 0,
    "start_time": "2022-08-24T23:39:28.977Z"
   },
   {
    "duration": 114,
    "start_time": "2022-08-24T23:39:29.431Z"
   },
   {
    "duration": 15,
    "start_time": "2022-08-24T23:39:31.220Z"
   },
   {
    "duration": 10,
    "start_time": "2022-08-24T23:39:32.629Z"
   },
   {
    "duration": 4,
    "start_time": "2022-08-24T23:39:33.150Z"
   },
   {
    "duration": 22,
    "start_time": "2022-08-24T23:39:33.406Z"
   },
   {
    "duration": 2,
    "start_time": "2022-08-24T23:39:44.219Z"
   },
   {
    "duration": 112,
    "start_time": "2022-08-24T23:39:44.224Z"
   },
   {
    "duration": 14,
    "start_time": "2022-08-24T23:39:44.338Z"
   },
   {
    "duration": 35,
    "start_time": "2022-08-24T23:39:44.353Z"
   },
   {
    "duration": 6,
    "start_time": "2022-08-24T23:39:44.391Z"
   },
   {
    "duration": 31,
    "start_time": "2022-08-24T23:39:44.399Z"
   },
   {
    "duration": 1964,
    "start_time": "2022-08-24T23:39:44.434Z"
   },
   {
    "duration": 86,
    "start_time": "2022-08-24T23:39:46.400Z"
   },
   {
    "duration": 333,
    "start_time": "2022-08-24T23:39:46.488Z"
   },
   {
    "duration": 4,
    "start_time": "2022-08-24T23:39:46.823Z"
   },
   {
    "duration": 7,
    "start_time": "2022-08-24T23:39:46.829Z"
   },
   {
    "duration": 4,
    "start_time": "2022-08-24T23:39:46.838Z"
   },
   {
    "duration": 8,
    "start_time": "2022-08-24T23:39:46.844Z"
   },
   {
    "duration": 377,
    "start_time": "2022-08-24T23:39:46.856Z"
   },
   {
    "duration": 443,
    "start_time": "2022-08-24T23:39:47.235Z"
   },
   {
    "duration": 6,
    "start_time": "2022-08-24T23:39:47.679Z"
   },
   {
    "duration": 9,
    "start_time": "2022-08-24T23:39:47.686Z"
   },
   {
    "duration": 6,
    "start_time": "2022-08-24T23:39:47.696Z"
   },
   {
    "duration": 487,
    "start_time": "2022-08-24T23:39:47.703Z"
   },
   {
    "duration": 272,
    "start_time": "2022-08-24T23:39:48.191Z"
   },
   {
    "duration": 4,
    "start_time": "2022-08-24T23:39:48.464Z"
   },
   {
    "duration": 19,
    "start_time": "2022-08-24T23:39:48.469Z"
   },
   {
    "duration": 3,
    "start_time": "2022-08-24T23:39:48.490Z"
   },
   {
    "duration": 10,
    "start_time": "2022-08-24T23:39:48.494Z"
   },
   {
    "duration": 16,
    "start_time": "2022-08-24T23:39:48.505Z"
   },
   {
    "duration": 354,
    "start_time": "2022-08-24T23:39:48.522Z"
   },
   {
    "duration": 12,
    "start_time": "2022-08-24T23:39:48.878Z"
   },
   {
    "duration": 8,
    "start_time": "2022-08-24T23:39:48.891Z"
   },
   {
    "duration": 24,
    "start_time": "2022-08-24T23:39:48.901Z"
   },
   {
    "duration": 23,
    "start_time": "2022-08-24T23:39:48.927Z"
   },
   {
    "duration": 44,
    "start_time": "2022-08-24T23:39:48.951Z"
   },
   {
    "duration": 357,
    "start_time": "2022-08-24T23:39:48.996Z"
   },
   {
    "duration": 6,
    "start_time": "2022-08-24T23:39:49.355Z"
   },
   {
    "duration": 211,
    "start_time": "2022-08-24T23:39:49.363Z"
   },
   {
    "duration": 216,
    "start_time": "2022-08-24T23:39:49.576Z"
   },
   {
    "duration": 40,
    "start_time": "2022-08-24T23:39:49.794Z"
   },
   {
    "duration": 7,
    "start_time": "2022-08-24T23:39:49.836Z"
   },
   {
    "duration": 7,
    "start_time": "2022-08-24T23:39:49.845Z"
   },
   {
    "duration": 10,
    "start_time": "2022-08-24T23:39:49.853Z"
   },
   {
    "duration": 50,
    "start_time": "2022-08-24T23:39:49.885Z"
   },
   {
    "duration": 0,
    "start_time": "2022-08-24T23:39:49.937Z"
   },
   {
    "duration": 0,
    "start_time": "2022-08-24T23:39:49.938Z"
   },
   {
    "duration": 0,
    "start_time": "2022-08-24T23:39:49.940Z"
   },
   {
    "duration": 0,
    "start_time": "2022-08-24T23:39:49.942Z"
   },
   {
    "duration": 0,
    "start_time": "2022-08-24T23:39:49.943Z"
   },
   {
    "duration": 0,
    "start_time": "2022-08-24T23:39:49.946Z"
   },
   {
    "duration": 0,
    "start_time": "2022-08-24T23:39:49.948Z"
   },
   {
    "duration": 0,
    "start_time": "2022-08-24T23:39:49.950Z"
   },
   {
    "duration": 0,
    "start_time": "2022-08-24T23:39:49.951Z"
   },
   {
    "duration": 0,
    "start_time": "2022-08-24T23:39:49.952Z"
   },
   {
    "duration": 0,
    "start_time": "2022-08-24T23:39:49.954Z"
   },
   {
    "duration": 0,
    "start_time": "2022-08-24T23:39:49.956Z"
   },
   {
    "duration": 3,
    "start_time": "2022-08-24T23:39:57.754Z"
   },
   {
    "duration": 20,
    "start_time": "2022-08-24T23:40:03.074Z"
   },
   {
    "duration": 2280,
    "start_time": "2022-08-24T23:42:33.838Z"
   },
   {
    "duration": 74,
    "start_time": "2022-08-24T23:42:46.410Z"
   },
   {
    "duration": 318,
    "start_time": "2022-08-24T23:42:51.470Z"
   },
   {
    "duration": 3,
    "start_time": "2022-08-24T23:42:55.949Z"
   },
   {
    "duration": 8,
    "start_time": "2022-08-24T23:42:56.725Z"
   },
   {
    "duration": 4,
    "start_time": "2022-08-24T23:42:57.281Z"
   },
   {
    "duration": 21,
    "start_time": "2022-08-24T23:43:51.318Z"
   },
   {
    "duration": 27,
    "start_time": "2022-08-24T23:46:02.131Z"
   },
   {
    "duration": 10,
    "start_time": "2022-08-24T23:46:05.610Z"
   },
   {
    "duration": 10,
    "start_time": "2022-08-24T23:46:11.849Z"
   },
   {
    "duration": 12,
    "start_time": "2022-08-24T23:46:18.997Z"
   },
   {
    "duration": 6,
    "start_time": "2022-08-24T23:46:24.189Z"
   },
   {
    "duration": 17,
    "start_time": "2022-08-24T23:46:31.110Z"
   },
   {
    "duration": 516,
    "start_time": "2022-08-24T23:46:42.852Z"
   },
   {
    "duration": 5,
    "start_time": "2022-08-24T23:46:43.599Z"
   },
   {
    "duration": 40,
    "start_time": "2022-08-24T23:46:46.490Z"
   },
   {
    "duration": 8,
    "start_time": "2022-08-24T23:46:54.325Z"
   },
   {
    "duration": 10,
    "start_time": "2022-08-24T23:47:57.670Z"
   },
   {
    "duration": 18,
    "start_time": "2022-08-24T23:47:58.697Z"
   },
   {
    "duration": 360,
    "start_time": "2022-08-24T23:48:33.730Z"
   },
   {
    "duration": 8,
    "start_time": "2022-08-24T23:52:33.370Z"
   },
   {
    "duration": 5,
    "start_time": "2022-08-24T23:53:28.270Z"
   },
   {
    "duration": 3,
    "start_time": "2022-08-24T23:53:55.818Z"
   },
   {
    "duration": 15,
    "start_time": "2022-08-24T23:54:09.922Z"
   },
   {
    "duration": 3,
    "start_time": "2022-08-24T23:56:32.537Z"
   },
   {
    "duration": 311,
    "start_time": "2022-08-24T23:57:40.818Z"
   },
   {
    "duration": 5,
    "start_time": "2022-08-24T23:58:19.197Z"
   },
   {
    "duration": 174,
    "start_time": "2022-08-25T00:00:46.649Z"
   },
   {
    "duration": 362,
    "start_time": "2022-08-25T00:01:52.570Z"
   },
   {
    "duration": 62,
    "start_time": "2022-08-25T00:02:29.570Z"
   },
   {
    "duration": 4,
    "start_time": "2022-08-25T00:02:42.330Z"
   },
   {
    "duration": 4,
    "start_time": "2022-08-25T00:03:08.017Z"
   },
   {
    "duration": 5,
    "start_time": "2022-08-25T00:03:20.769Z"
   },
   {
    "duration": 14,
    "start_time": "2022-08-25T00:03:36.916Z"
   },
   {
    "duration": 2,
    "start_time": "2022-08-25T00:07:06.070Z"
   },
   {
    "duration": 341,
    "start_time": "2022-08-25T00:07:52.808Z"
   },
   {
    "duration": 5,
    "start_time": "2022-08-25T00:08:39.971Z"
   },
   {
    "duration": 14,
    "start_time": "2022-08-25T00:11:23.176Z"
   },
   {
    "duration": 13,
    "start_time": "2022-08-25T00:11:57.777Z"
   },
   {
    "duration": 14,
    "start_time": "2022-08-25T00:12:45.470Z"
   },
   {
    "duration": 15,
    "start_time": "2022-08-25T00:13:12.330Z"
   },
   {
    "duration": 19,
    "start_time": "2022-08-25T00:14:07.230Z"
   },
   {
    "duration": 293,
    "start_time": "2022-08-25T00:15:57.136Z"
   },
   {
    "duration": 7,
    "start_time": "2022-08-25T00:17:34.428Z"
   },
   {
    "duration": 5,
    "start_time": "2022-08-25T00:17:48.588Z"
   },
   {
    "duration": 14,
    "start_time": "2022-08-25T00:17:56.707Z"
   },
   {
    "duration": 8,
    "start_time": "2022-08-25T00:22:32.743Z"
   },
   {
    "duration": 7,
    "start_time": "2022-08-25T00:22:44.532Z"
   },
   {
    "duration": 25,
    "start_time": "2022-08-25T00:27:05.206Z"
   },
   {
    "duration": 14,
    "start_time": "2022-08-25T00:27:20.049Z"
   },
   {
    "duration": 839,
    "start_time": "2022-08-27T11:03:03.257Z"
   },
   {
    "duration": 663,
    "start_time": "2022-08-27T11:03:04.098Z"
   },
   {
    "duration": 18,
    "start_time": "2022-08-27T11:03:04.762Z"
   },
   {
    "duration": 9,
    "start_time": "2022-08-27T11:03:04.782Z"
   },
   {
    "duration": 4,
    "start_time": "2022-08-27T11:03:04.808Z"
   },
   {
    "duration": 26,
    "start_time": "2022-08-27T11:03:04.814Z"
   },
   {
    "duration": 1996,
    "start_time": "2022-08-27T11:03:04.841Z"
   },
   {
    "duration": 83,
    "start_time": "2022-08-27T11:03:06.839Z"
   },
   {
    "duration": 390,
    "start_time": "2022-08-27T11:03:06.923Z"
   },
   {
    "duration": 8,
    "start_time": "2022-08-27T11:03:07.316Z"
   },
   {
    "duration": 37,
    "start_time": "2022-08-27T11:03:07.326Z"
   },
   {
    "duration": 13,
    "start_time": "2022-08-27T11:03:07.366Z"
   },
   {
    "duration": 14,
    "start_time": "2022-08-27T11:03:07.381Z"
   },
   {
    "duration": 446,
    "start_time": "2022-08-27T11:03:07.408Z"
   },
   {
    "duration": 568,
    "start_time": "2022-08-27T11:03:07.856Z"
   },
   {
    "duration": 4,
    "start_time": "2022-08-27T11:03:08.426Z"
   },
   {
    "duration": 14,
    "start_time": "2022-08-27T11:03:08.432Z"
   },
   {
    "duration": 4,
    "start_time": "2022-08-27T11:03:08.448Z"
   },
   {
    "duration": 424,
    "start_time": "2022-08-27T11:03:08.454Z"
   },
   {
    "duration": 281,
    "start_time": "2022-08-27T11:03:08.880Z"
   },
   {
    "duration": 5,
    "start_time": "2022-08-27T11:03:09.163Z"
   },
   {
    "duration": 10,
    "start_time": "2022-08-27T11:03:09.170Z"
   },
   {
    "duration": 4,
    "start_time": "2022-08-27T11:03:09.181Z"
   },
   {
    "duration": 10,
    "start_time": "2022-08-27T11:03:09.210Z"
   },
   {
    "duration": 23,
    "start_time": "2022-08-27T11:03:09.221Z"
   },
   {
    "duration": 410,
    "start_time": "2022-08-27T11:03:09.246Z"
   },
   {
    "duration": 11,
    "start_time": "2022-08-27T11:03:09.658Z"
   },
   {
    "duration": 22,
    "start_time": "2022-08-27T11:03:09.670Z"
   },
   {
    "duration": 40,
    "start_time": "2022-08-27T11:03:09.694Z"
   },
   {
    "duration": 138,
    "start_time": "2022-08-27T11:03:09.736Z"
   },
   {
    "duration": 15,
    "start_time": "2022-08-27T11:03:09.877Z"
   },
   {
    "duration": 364,
    "start_time": "2022-08-27T11:03:09.908Z"
   },
   {
    "duration": 7,
    "start_time": "2022-08-27T11:03:10.275Z"
   },
   {
    "duration": 266,
    "start_time": "2022-08-27T11:03:10.284Z"
   },
   {
    "duration": 223,
    "start_time": "2022-08-27T11:03:10.552Z"
   },
   {
    "duration": 57,
    "start_time": "2022-08-27T11:03:10.777Z"
   },
   {
    "duration": 28,
    "start_time": "2022-08-27T11:03:10.836Z"
   },
   {
    "duration": 24,
    "start_time": "2022-08-27T11:03:10.865Z"
   },
   {
    "duration": 19,
    "start_time": "2022-08-27T11:03:10.891Z"
   },
   {
    "duration": 34,
    "start_time": "2022-08-27T11:03:10.912Z"
   },
   {
    "duration": 12,
    "start_time": "2022-08-27T11:03:10.952Z"
   },
   {
    "duration": 23,
    "start_time": "2022-08-27T11:03:10.966Z"
   },
   {
    "duration": 29,
    "start_time": "2022-08-27T11:03:10.990Z"
   },
   {
    "duration": 17,
    "start_time": "2022-08-27T11:03:11.021Z"
   },
   {
    "duration": 377,
    "start_time": "2022-08-27T11:03:11.040Z"
   },
   {
    "duration": 4,
    "start_time": "2022-08-27T11:03:11.419Z"
   },
   {
    "duration": 23,
    "start_time": "2022-08-27T11:03:11.425Z"
   },
   {
    "duration": 17,
    "start_time": "2022-08-27T11:03:11.450Z"
   },
   {
    "duration": 487,
    "start_time": "2022-08-27T11:03:11.468Z"
   },
   {
    "duration": 5,
    "start_time": "2022-08-27T11:03:11.957Z"
   },
   {
    "duration": 33,
    "start_time": "2022-08-27T11:03:11.964Z"
   },
   {
    "duration": 390,
    "start_time": "2022-08-27T11:03:11.999Z"
   },
   {
    "duration": 4,
    "start_time": "2022-08-27T11:03:12.391Z"
   },
   {
    "duration": 15,
    "start_time": "2022-08-27T11:03:12.397Z"
   },
   {
    "duration": 22,
    "start_time": "2022-08-27T11:03:12.413Z"
   },
   {
    "duration": 348,
    "start_time": "2022-08-27T11:03:12.438Z"
   },
   {
    "duration": 4,
    "start_time": "2022-08-27T11:03:12.788Z"
   },
   {
    "duration": 28,
    "start_time": "2022-08-27T11:03:12.793Z"
   },
   {
    "duration": 348,
    "start_time": "2022-08-27T11:03:12.823Z"
   },
   {
    "duration": 15,
    "start_time": "2022-08-27T11:03:13.173Z"
   },
   {
    "duration": 25,
    "start_time": "2022-08-27T11:03:13.190Z"
   },
   {
    "duration": 8,
    "start_time": "2022-08-27T11:03:13.216Z"
   },
   {
    "duration": 27,
    "start_time": "2022-08-27T11:03:13.226Z"
   },
   {
    "duration": 37,
    "start_time": "2022-08-27T11:03:13.255Z"
   },
   {
    "duration": 38,
    "start_time": "2022-08-27T11:03:13.293Z"
   },
   {
    "duration": 33,
    "start_time": "2022-08-27T11:03:13.333Z"
   },
   {
    "duration": 19,
    "start_time": "2022-08-27T11:03:13.367Z"
   },
   {
    "duration": 465,
    "start_time": "2022-08-27T11:03:13.387Z"
   },
   {
    "duration": 4,
    "start_time": "2022-08-27T11:03:13.854Z"
   },
   {
    "duration": 13,
    "start_time": "2022-08-27T11:03:13.859Z"
   },
   {
    "duration": 11,
    "start_time": "2022-08-27T11:03:13.873Z"
   },
   {
    "duration": 382,
    "start_time": "2022-08-27T11:03:13.885Z"
   },
   {
    "duration": 5,
    "start_time": "2022-08-27T11:03:14.268Z"
   },
   {
    "duration": 11,
    "start_time": "2022-08-27T11:03:14.275Z"
   },
   {
    "duration": 23,
    "start_time": "2022-08-27T11:03:14.288Z"
   },
   {
    "duration": 3,
    "start_time": "2022-08-27T11:03:14.313Z"
   },
   {
    "duration": 24,
    "start_time": "2022-08-27T11:03:14.318Z"
   },
   {
    "duration": 5,
    "start_time": "2022-08-27T11:03:14.344Z"
   },
   {
    "duration": 10,
    "start_time": "2022-08-27T11:03:14.351Z"
   },
   {
    "duration": 48,
    "start_time": "2022-08-27T11:03:14.362Z"
   },
   {
    "duration": 356,
    "start_time": "2022-08-27T11:03:14.412Z"
   },
   {
    "duration": 437,
    "start_time": "2022-08-27T11:03:14.769Z"
   },
   {
    "duration": 16,
    "start_time": "2022-08-27T11:03:15.209Z"
   },
   {
    "duration": 382,
    "start_time": "2022-08-27T11:03:15.227Z"
   },
   {
    "duration": 10,
    "start_time": "2022-08-27T11:03:15.611Z"
   },
   {
    "duration": 14,
    "start_time": "2022-08-27T11:03:15.623Z"
   },
   {
    "duration": 21,
    "start_time": "2022-08-27T11:03:15.639Z"
   },
   {
    "duration": 17,
    "start_time": "2022-08-27T11:03:15.662Z"
   },
   {
    "duration": 39,
    "start_time": "2022-08-27T11:03:15.681Z"
   },
   {
    "duration": 404,
    "start_time": "2022-08-27T11:03:15.721Z"
   },
   {
    "duration": 51,
    "start_time": "2022-08-27T11:03:16.127Z"
   },
   {
    "duration": 58,
    "start_time": "2022-08-27T11:03:16.180Z"
   },
   {
    "duration": 0,
    "start_time": "2022-08-27T11:03:16.240Z"
   },
   {
    "duration": 0,
    "start_time": "2022-08-27T11:03:16.241Z"
   },
   {
    "duration": 9,
    "start_time": "2022-08-27T11:05:51.837Z"
   },
   {
    "duration": 9,
    "start_time": "2022-08-27T11:05:57.563Z"
   },
   {
    "duration": 11,
    "start_time": "2022-08-27T11:06:27.254Z"
   },
   {
    "duration": 18,
    "start_time": "2022-08-27T11:06:33.273Z"
   },
   {
    "duration": 18,
    "start_time": "2022-08-27T11:12:20.130Z"
   },
   {
    "duration": 57,
    "start_time": "2022-08-27T11:13:44.264Z"
   },
   {
    "duration": 51,
    "start_time": "2022-08-27T11:13:47.947Z"
   },
   {
    "duration": 15,
    "start_time": "2022-08-27T11:13:54.283Z"
   },
   {
    "duration": 13,
    "start_time": "2022-08-27T11:14:14.865Z"
   },
   {
    "duration": 13,
    "start_time": "2022-08-27T11:14:16.135Z"
   },
   {
    "duration": 12,
    "start_time": "2022-08-27T11:14:18.334Z"
   },
   {
    "duration": 53,
    "start_time": "2022-08-27T11:15:05.057Z"
   },
   {
    "duration": 8,
    "start_time": "2022-08-27T11:16:38.620Z"
   },
   {
    "duration": 18,
    "start_time": "2022-08-27T11:16:53.513Z"
   },
   {
    "duration": 5,
    "start_time": "2022-08-27T11:24:57.763Z"
   },
   {
    "duration": 14,
    "start_time": "2022-08-27T11:25:13.505Z"
   },
   {
    "duration": 7,
    "start_time": "2022-08-27T11:25:32.783Z"
   },
   {
    "duration": 6,
    "start_time": "2022-08-27T11:26:02.546Z"
   },
   {
    "duration": 10,
    "start_time": "2022-08-27T11:33:13.295Z"
   },
   {
    "duration": 7,
    "start_time": "2022-08-27T11:38:33.725Z"
   },
   {
    "duration": 9,
    "start_time": "2022-08-27T11:38:43.598Z"
   },
   {
    "duration": 9,
    "start_time": "2022-08-27T11:39:54.814Z"
   },
   {
    "duration": 9,
    "start_time": "2022-08-27T11:40:10.348Z"
   },
   {
    "duration": 9,
    "start_time": "2022-08-27T11:40:18.917Z"
   },
   {
    "duration": 19,
    "start_time": "2022-08-27T11:40:40.546Z"
   },
   {
    "duration": 37,
    "start_time": "2022-08-27T11:53:49.918Z"
   },
   {
    "duration": 47,
    "start_time": "2022-08-27T11:54:07.438Z"
   },
   {
    "duration": 51,
    "start_time": "2022-08-27T11:54:15.015Z"
   },
   {
    "duration": 64,
    "start_time": "2022-08-27T11:56:37.155Z"
   },
   {
    "duration": 62,
    "start_time": "2022-08-27T11:56:43.665Z"
   },
   {
    "duration": 3,
    "start_time": "2022-08-27T11:56:48.705Z"
   },
   {
    "duration": 154,
    "start_time": "2022-08-27T12:05:49.188Z"
   },
   {
    "duration": 190,
    "start_time": "2022-08-27T12:06:01.354Z"
   },
   {
    "duration": 3,
    "start_time": "2022-08-27T12:10:21.021Z"
   },
   {
    "duration": 78,
    "start_time": "2022-08-27T12:10:24.542Z"
   },
   {
    "duration": 3,
    "start_time": "2022-08-27T12:10:33.866Z"
   },
   {
    "duration": 83,
    "start_time": "2022-08-27T12:17:01.587Z"
   },
   {
    "duration": 13,
    "start_time": "2022-08-27T12:17:06.074Z"
   },
   {
    "duration": 82,
    "start_time": "2022-08-27T12:17:14.301Z"
   },
   {
    "duration": 55,
    "start_time": "2022-08-27T12:19:29.370Z"
   },
   {
    "duration": 3,
    "start_time": "2022-08-27T12:19:44.336Z"
   },
   {
    "duration": 363,
    "start_time": "2022-08-27T12:19:48.240Z"
   },
   {
    "duration": 6,
    "start_time": "2022-08-27T12:20:03.418Z"
   },
   {
    "duration": 251,
    "start_time": "2022-08-27T12:21:06.869Z"
   },
   {
    "duration": 6,
    "start_time": "2022-08-27T12:21:09.289Z"
   },
   {
    "duration": 8,
    "start_time": "2022-08-27T12:30:12.832Z"
   },
   {
    "duration": 9,
    "start_time": "2022-08-27T12:31:02.083Z"
   },
   {
    "duration": 8,
    "start_time": "2022-08-27T12:31:54.921Z"
   },
   {
    "duration": 9,
    "start_time": "2022-08-27T12:32:28.469Z"
   },
   {
    "duration": 13,
    "start_time": "2022-08-27T12:33:12.077Z"
   },
   {
    "duration": 58,
    "start_time": "2022-08-27T12:35:28.280Z"
   },
   {
    "duration": 4,
    "start_time": "2022-08-27T12:35:39.895Z"
   },
   {
    "duration": 8,
    "start_time": "2022-08-27T12:35:55.844Z"
   },
   {
    "duration": 15,
    "start_time": "2022-08-27T12:36:18.146Z"
   },
   {
    "duration": 6,
    "start_time": "2022-08-27T12:36:52.519Z"
   },
   {
    "duration": 694,
    "start_time": "2022-08-27T13:06:51.533Z"
   },
   {
    "duration": 827,
    "start_time": "2022-08-27T13:07:10.957Z"
   },
   {
    "duration": 1137,
    "start_time": "2022-08-27T13:09:31.757Z"
   },
   {
    "duration": 1211,
    "start_time": "2022-08-27T13:09:43.245Z"
   },
   {
    "duration": 1082,
    "start_time": "2022-08-27T13:09:55.531Z"
   },
   {
    "duration": 2766,
    "start_time": "2022-08-27T13:15:02.249Z"
   },
   {
    "duration": 1039,
    "start_time": "2022-08-27T13:15:06.135Z"
   },
   {
    "duration": 1086,
    "start_time": "2022-08-27T13:15:09.727Z"
   },
   {
    "duration": 746,
    "start_time": "2022-08-27T13:16:46.824Z"
   },
   {
    "duration": 3,
    "start_time": "2022-08-27T13:18:17.870Z"
   },
   {
    "duration": 116,
    "start_time": "2022-08-27T13:18:17.877Z"
   },
   {
    "duration": 29,
    "start_time": "2022-08-27T13:18:17.996Z"
   },
   {
    "duration": 9,
    "start_time": "2022-08-27T13:18:18.028Z"
   },
   {
    "duration": 5,
    "start_time": "2022-08-27T13:18:18.039Z"
   },
   {
    "duration": 64,
    "start_time": "2022-08-27T13:18:18.045Z"
   },
   {
    "duration": 2045,
    "start_time": "2022-08-27T13:18:18.112Z"
   },
   {
    "duration": 85,
    "start_time": "2022-08-27T13:18:20.159Z"
   },
   {
    "duration": 351,
    "start_time": "2022-08-27T13:18:20.245Z"
   },
   {
    "duration": 4,
    "start_time": "2022-08-27T13:18:20.599Z"
   },
   {
    "duration": 10,
    "start_time": "2022-08-27T13:18:20.610Z"
   },
   {
    "duration": 5,
    "start_time": "2022-08-27T13:18:20.622Z"
   },
   {
    "duration": 20,
    "start_time": "2022-08-27T13:18:20.629Z"
   },
   {
    "duration": 407,
    "start_time": "2022-08-27T13:18:20.651Z"
   },
   {
    "duration": 490,
    "start_time": "2022-08-27T13:18:21.060Z"
   },
   {
    "duration": 4,
    "start_time": "2022-08-27T13:18:21.553Z"
   },
   {
    "duration": 17,
    "start_time": "2022-08-27T13:18:21.559Z"
   },
   {
    "duration": 6,
    "start_time": "2022-08-27T13:18:21.578Z"
   },
   {
    "duration": 502,
    "start_time": "2022-08-27T13:18:21.586Z"
   },
   {
    "duration": 283,
    "start_time": "2022-08-27T13:18:22.090Z"
   },
   {
    "duration": 4,
    "start_time": "2022-08-27T13:18:22.375Z"
   },
   {
    "duration": 11,
    "start_time": "2022-08-27T13:18:22.381Z"
   },
   {
    "duration": 17,
    "start_time": "2022-08-27T13:18:22.393Z"
   },
   {
    "duration": 10,
    "start_time": "2022-08-27T13:18:22.413Z"
   },
   {
    "duration": 19,
    "start_time": "2022-08-27T13:18:22.424Z"
   },
   {
    "duration": 401,
    "start_time": "2022-08-27T13:18:22.445Z"
   },
   {
    "duration": 9,
    "start_time": "2022-08-27T13:18:22.848Z"
   },
   {
    "duration": 15,
    "start_time": "2022-08-27T13:18:22.859Z"
   },
   {
    "duration": 51,
    "start_time": "2022-08-27T13:18:22.878Z"
   },
   {
    "duration": 23,
    "start_time": "2022-08-27T13:18:22.931Z"
   },
   {
    "duration": 12,
    "start_time": "2022-08-27T13:18:22.956Z"
   },
   {
    "duration": 382,
    "start_time": "2022-08-27T13:18:22.970Z"
   },
   {
    "duration": 8,
    "start_time": "2022-08-27T13:18:23.355Z"
   },
   {
    "duration": 230,
    "start_time": "2022-08-27T13:18:23.365Z"
   },
   {
    "duration": 350,
    "start_time": "2022-08-27T13:18:23.597Z"
   },
   {
    "duration": 43,
    "start_time": "2022-08-27T13:18:23.948Z"
   },
   {
    "duration": 20,
    "start_time": "2022-08-27T13:18:23.993Z"
   },
   {
    "duration": 10,
    "start_time": "2022-08-27T13:18:24.014Z"
   },
   {
    "duration": 13,
    "start_time": "2022-08-27T13:18:24.025Z"
   },
   {
    "duration": 26,
    "start_time": "2022-08-27T13:18:24.040Z"
   },
   {
    "duration": 43,
    "start_time": "2022-08-27T13:18:24.068Z"
   },
   {
    "duration": 11,
    "start_time": "2022-08-27T13:18:24.112Z"
   },
   {
    "duration": 10,
    "start_time": "2022-08-27T13:18:24.124Z"
   },
   {
    "duration": 9,
    "start_time": "2022-08-27T13:18:24.136Z"
   },
   {
    "duration": 379,
    "start_time": "2022-08-27T13:18:24.147Z"
   },
   {
    "duration": 5,
    "start_time": "2022-08-27T13:18:24.528Z"
   },
   {
    "duration": 11,
    "start_time": "2022-08-27T13:18:24.534Z"
   },
   {
    "duration": 18,
    "start_time": "2022-08-27T13:18:24.547Z"
   },
   {
    "duration": 375,
    "start_time": "2022-08-27T13:18:24.566Z"
   },
   {
    "duration": 5,
    "start_time": "2022-08-27T13:18:24.942Z"
   },
   {
    "duration": 21,
    "start_time": "2022-08-27T13:18:24.948Z"
   },
   {
    "duration": 383,
    "start_time": "2022-08-27T13:18:24.970Z"
   },
   {
    "duration": 5,
    "start_time": "2022-08-27T13:18:25.355Z"
   },
   {
    "duration": 25,
    "start_time": "2022-08-27T13:18:25.362Z"
   },
   {
    "duration": 40,
    "start_time": "2022-08-27T13:18:25.389Z"
   },
   {
    "duration": 340,
    "start_time": "2022-08-27T13:18:25.431Z"
   },
   {
    "duration": 6,
    "start_time": "2022-08-27T13:18:25.773Z"
   },
   {
    "duration": 37,
    "start_time": "2022-08-27T13:18:25.781Z"
   },
   {
    "duration": 16,
    "start_time": "2022-08-27T13:18:25.820Z"
   },
   {
    "duration": 558,
    "start_time": "2022-08-27T13:18:25.838Z"
   },
   {
    "duration": 25,
    "start_time": "2022-08-27T13:18:26.397Z"
   },
   {
    "duration": 9,
    "start_time": "2022-08-27T13:18:26.424Z"
   },
   {
    "duration": 13,
    "start_time": "2022-08-27T13:18:26.435Z"
   },
   {
    "duration": 21,
    "start_time": "2022-08-27T13:18:26.450Z"
   },
   {
    "duration": 2,
    "start_time": "2022-08-27T13:18:26.473Z"
   },
   {
    "duration": 39,
    "start_time": "2022-08-27T13:18:26.476Z"
   },
   {
    "duration": 25,
    "start_time": "2022-08-27T13:18:26.516Z"
   },
   {
    "duration": 32,
    "start_time": "2022-08-27T13:18:26.542Z"
   },
   {
    "duration": 43,
    "start_time": "2022-08-27T13:18:26.576Z"
   },
   {
    "duration": 338,
    "start_time": "2022-08-27T13:18:26.620Z"
   },
   {
    "duration": 4,
    "start_time": "2022-08-27T13:18:26.960Z"
   },
   {
    "duration": 10,
    "start_time": "2022-08-27T13:18:26.966Z"
   },
   {
    "duration": 5,
    "start_time": "2022-08-27T13:18:26.977Z"
   },
   {
    "duration": 428,
    "start_time": "2022-08-27T13:18:26.983Z"
   },
   {
    "duration": 6,
    "start_time": "2022-08-27T13:18:27.413Z"
   },
   {
    "duration": 20,
    "start_time": "2022-08-27T13:18:27.421Z"
   },
   {
    "duration": 10,
    "start_time": "2022-08-27T13:18:27.443Z"
   },
   {
    "duration": 7,
    "start_time": "2022-08-27T13:18:27.455Z"
   },
   {
    "duration": 17,
    "start_time": "2022-08-27T13:18:27.464Z"
   },
   {
    "duration": 27,
    "start_time": "2022-08-27T13:18:27.483Z"
   },
   {
    "duration": 8,
    "start_time": "2022-08-27T13:18:27.512Z"
   },
   {
    "duration": 20,
    "start_time": "2022-08-27T13:18:27.521Z"
   },
   {
    "duration": 387,
    "start_time": "2022-08-27T13:18:27.547Z"
   },
   {
    "duration": 373,
    "start_time": "2022-08-27T13:18:27.936Z"
   },
   {
    "duration": 17,
    "start_time": "2022-08-27T13:18:28.310Z"
   },
   {
    "duration": 556,
    "start_time": "2022-08-27T13:18:28.329Z"
   },
   {
    "duration": 8,
    "start_time": "2022-08-27T13:18:28.887Z"
   },
   {
    "duration": 7,
    "start_time": "2022-08-27T13:18:28.909Z"
   },
   {
    "duration": 10,
    "start_time": "2022-08-27T13:18:28.917Z"
   },
   {
    "duration": 14,
    "start_time": "2022-08-27T13:18:28.929Z"
   },
   {
    "duration": 13,
    "start_time": "2022-08-27T13:18:28.945Z"
   },
   {
    "duration": 91,
    "start_time": "2022-08-27T13:18:28.959Z"
   },
   {
    "duration": 2070,
    "start_time": "2022-08-27T13:18:29.052Z"
   },
   {
    "duration": 13,
    "start_time": "2022-08-27T13:18:31.124Z"
   },
   {
    "duration": 35,
    "start_time": "2022-08-27T13:18:31.139Z"
   },
   {
    "duration": 24,
    "start_time": "2022-08-27T13:18:31.176Z"
   },
   {
    "duration": 9,
    "start_time": "2022-08-27T13:18:31.202Z"
   },
   {
    "duration": 9,
    "start_time": "2022-08-27T13:18:31.212Z"
   },
   {
    "duration": 16,
    "start_time": "2022-08-27T13:18:31.222Z"
   },
   {
    "duration": 247,
    "start_time": "2022-08-27T13:18:31.239Z"
   },
   {
    "duration": 5,
    "start_time": "2022-08-27T13:18:31.488Z"
   },
   {
    "duration": 19,
    "start_time": "2022-08-27T13:18:31.494Z"
   },
   {
    "duration": 720,
    "start_time": "2022-08-27T13:18:31.514Z"
   },
   {
    "duration": 1122,
    "start_time": "2022-08-27T13:20:10.205Z"
   },
   {
    "duration": 346,
    "start_time": "2022-08-27T13:21:18.831Z"
   },
   {
    "duration": 2961,
    "start_time": "2022-08-27T13:24:16.278Z"
   },
   {
    "duration": 2680,
    "start_time": "2022-08-27T13:24:39.835Z"
   },
   {
    "duration": 2921,
    "start_time": "2022-08-27T13:25:56.847Z"
   },
   {
    "duration": 4244,
    "start_time": "2022-08-27T13:27:01.777Z"
   },
   {
    "duration": 812,
    "start_time": "2022-08-27T13:29:32.141Z"
   },
   {
    "duration": 2945,
    "start_time": "2022-08-27T13:30:02.999Z"
   },
   {
    "duration": 3916,
    "start_time": "2022-08-27T13:30:22.389Z"
   },
   {
    "duration": 3,
    "start_time": "2022-08-27T13:33:56.708Z"
   },
   {
    "duration": 336,
    "start_time": "2022-08-27T13:34:12.441Z"
   },
   {
    "duration": 512,
    "start_time": "2022-08-27T13:38:14.438Z"
   },
   {
    "duration": 428,
    "start_time": "2022-08-27T13:38:25.499Z"
   },
   {
    "duration": 3,
    "start_time": "2022-08-27T13:40:42.509Z"
   },
   {
    "duration": 3,
    "start_time": "2022-08-27T13:41:10.989Z"
   },
   {
    "duration": 348,
    "start_time": "2022-08-27T13:42:20.595Z"
   },
   {
    "duration": 4,
    "start_time": "2022-08-27T13:42:47.072Z"
   },
   {
    "duration": 3,
    "start_time": "2022-08-27T13:42:56.272Z"
   },
   {
    "duration": 4,
    "start_time": "2022-08-27T13:43:09.525Z"
   },
   {
    "duration": 327,
    "start_time": "2022-08-27T13:43:55.184Z"
   },
   {
    "duration": 351,
    "start_time": "2022-08-27T13:44:00.937Z"
   },
   {
    "duration": 4,
    "start_time": "2022-08-27T13:44:05.900Z"
   },
   {
    "duration": 426,
    "start_time": "2022-08-27T13:44:06.918Z"
   },
   {
    "duration": 351,
    "start_time": "2022-08-27T14:16:45.947Z"
   },
   {
    "duration": 3730,
    "start_time": "2022-08-27T14:23:12.924Z"
   },
   {
    "duration": 4253,
    "start_time": "2022-08-27T14:27:14.581Z"
   },
   {
    "duration": 311,
    "start_time": "2022-08-27T14:27:46.167Z"
   },
   {
    "duration": 3823,
    "start_time": "2022-08-27T14:27:57.773Z"
   },
   {
    "duration": 542,
    "start_time": "2022-08-27T14:33:56.167Z"
   },
   {
    "duration": 7,
    "start_time": "2022-08-27T14:50:37.176Z"
   },
   {
    "duration": 7,
    "start_time": "2022-08-27T14:50:53.235Z"
   },
   {
    "duration": 399,
    "start_time": "2022-08-27T14:59:17.290Z"
   },
   {
    "duration": 56,
    "start_time": "2022-08-27T15:12:44.540Z"
   },
   {
    "duration": 47,
    "start_time": "2022-08-27T15:12:51.270Z"
   },
   {
    "duration": 8,
    "start_time": "2022-08-27T15:13:03.639Z"
   },
   {
    "duration": 10,
    "start_time": "2022-08-27T15:13:14.575Z"
   },
   {
    "duration": 40,
    "start_time": "2022-08-27T15:14:42.189Z"
   },
   {
    "duration": 49,
    "start_time": "2022-08-27T15:15:51.135Z"
   },
   {
    "duration": 129,
    "start_time": "2022-08-27T15:15:59.262Z"
   },
   {
    "duration": 123,
    "start_time": "2022-08-27T15:16:41.438Z"
   },
   {
    "duration": 19,
    "start_time": "2022-08-27T15:18:38.756Z"
   },
   {
    "duration": 933,
    "start_time": "2022-08-27T15:19:48.281Z"
   },
   {
    "duration": 711,
    "start_time": "2022-08-27T15:19:57.723Z"
   },
   {
    "duration": 48,
    "start_time": "2022-08-27T15:22:36.421Z"
   },
   {
    "duration": 87,
    "start_time": "2022-08-27T15:22:50.098Z"
   },
   {
    "duration": 44,
    "start_time": "2022-08-27T15:23:00.497Z"
   },
   {
    "duration": 44,
    "start_time": "2022-08-27T15:23:13.233Z"
   },
   {
    "duration": 41,
    "start_time": "2022-08-27T15:23:30.771Z"
   },
   {
    "duration": 4,
    "start_time": "2022-08-27T15:23:43.329Z"
   },
   {
    "duration": 49,
    "start_time": "2022-08-27T15:23:46.478Z"
   },
   {
    "duration": 48,
    "start_time": "2022-08-27T15:24:17.641Z"
   },
   {
    "duration": 47,
    "start_time": "2022-08-27T15:24:22.880Z"
   },
   {
    "duration": 70,
    "start_time": "2022-08-27T15:24:35.426Z"
   },
   {
    "duration": 865,
    "start_time": "2022-08-27T23:33:17.239Z"
   },
   {
    "duration": 344,
    "start_time": "2022-08-27T23:33:18.106Z"
   },
   {
    "duration": 19,
    "start_time": "2022-08-27T23:33:18.452Z"
   },
   {
    "duration": 17,
    "start_time": "2022-08-27T23:33:18.473Z"
   },
   {
    "duration": 3,
    "start_time": "2022-08-27T23:33:18.494Z"
   },
   {
    "duration": 29,
    "start_time": "2022-08-27T23:33:18.499Z"
   },
   {
    "duration": 1915,
    "start_time": "2022-08-27T23:33:18.529Z"
   },
   {
    "duration": 85,
    "start_time": "2022-08-27T23:33:20.446Z"
   },
   {
    "duration": 339,
    "start_time": "2022-08-27T23:33:20.533Z"
   },
   {
    "duration": 4,
    "start_time": "2022-08-27T23:33:20.874Z"
   },
   {
    "duration": 19,
    "start_time": "2022-08-27T23:33:20.879Z"
   },
   {
    "duration": 4,
    "start_time": "2022-08-27T23:33:20.899Z"
   },
   {
    "duration": 9,
    "start_time": "2022-08-27T23:33:20.904Z"
   },
   {
    "duration": 393,
    "start_time": "2022-08-27T23:33:20.915Z"
   },
   {
    "duration": 594,
    "start_time": "2022-08-27T23:33:21.310Z"
   },
   {
    "duration": 5,
    "start_time": "2022-08-27T23:33:21.906Z"
   },
   {
    "duration": 16,
    "start_time": "2022-08-27T23:33:21.912Z"
   },
   {
    "duration": 15,
    "start_time": "2022-08-27T23:33:21.930Z"
   },
   {
    "duration": 398,
    "start_time": "2022-08-27T23:33:21.947Z"
   },
   {
    "duration": 270,
    "start_time": "2022-08-27T23:33:22.347Z"
   },
   {
    "duration": 3,
    "start_time": "2022-08-27T23:33:22.619Z"
   },
   {
    "duration": 16,
    "start_time": "2022-08-27T23:33:22.624Z"
   },
   {
    "duration": 9,
    "start_time": "2022-08-27T23:33:22.642Z"
   },
   {
    "duration": 14,
    "start_time": "2022-08-27T23:33:22.652Z"
   },
   {
    "duration": 29,
    "start_time": "2022-08-27T23:33:22.668Z"
   },
   {
    "duration": 415,
    "start_time": "2022-08-27T23:33:22.699Z"
   },
   {
    "duration": 11,
    "start_time": "2022-08-27T23:33:23.115Z"
   },
   {
    "duration": 9,
    "start_time": "2022-08-27T23:33:23.128Z"
   },
   {
    "duration": 68,
    "start_time": "2022-08-27T23:33:23.139Z"
   },
   {
    "duration": 137,
    "start_time": "2022-08-27T23:33:23.209Z"
   },
   {
    "duration": 13,
    "start_time": "2022-08-27T23:33:23.348Z"
   },
   {
    "duration": 373,
    "start_time": "2022-08-27T23:33:23.363Z"
   },
   {
    "duration": 7,
    "start_time": "2022-08-27T23:33:23.737Z"
   },
   {
    "duration": 212,
    "start_time": "2022-08-27T23:33:23.746Z"
   },
   {
    "duration": 248,
    "start_time": "2022-08-27T23:33:23.960Z"
   },
   {
    "duration": 41,
    "start_time": "2022-08-27T23:33:24.210Z"
   },
   {
    "duration": 8,
    "start_time": "2022-08-27T23:33:24.253Z"
   },
   {
    "duration": 26,
    "start_time": "2022-08-27T23:33:24.262Z"
   },
   {
    "duration": 14,
    "start_time": "2022-08-27T23:33:24.289Z"
   },
   {
    "duration": 30,
    "start_time": "2022-08-27T23:33:24.305Z"
   },
   {
    "duration": 11,
    "start_time": "2022-08-27T23:33:24.341Z"
   },
   {
    "duration": 42,
    "start_time": "2022-08-27T23:33:24.353Z"
   },
   {
    "duration": 10,
    "start_time": "2022-08-27T23:33:24.397Z"
   },
   {
    "duration": 6,
    "start_time": "2022-08-27T23:33:24.409Z"
   },
   {
    "duration": 414,
    "start_time": "2022-08-27T23:33:24.417Z"
   },
   {
    "duration": 5,
    "start_time": "2022-08-27T23:33:24.833Z"
   },
   {
    "duration": 11,
    "start_time": "2022-08-27T23:33:24.840Z"
   },
   {
    "duration": 46,
    "start_time": "2022-08-27T23:33:24.853Z"
   },
   {
    "duration": 454,
    "start_time": "2022-08-27T23:33:24.901Z"
   },
   {
    "duration": 6,
    "start_time": "2022-08-27T23:33:25.356Z"
   },
   {
    "duration": 40,
    "start_time": "2022-08-27T23:33:25.363Z"
   },
   {
    "duration": 371,
    "start_time": "2022-08-27T23:33:25.405Z"
   },
   {
    "duration": 12,
    "start_time": "2022-08-27T23:33:25.778Z"
   },
   {
    "duration": 13,
    "start_time": "2022-08-27T23:33:25.792Z"
   },
   {
    "duration": 28,
    "start_time": "2022-08-27T23:33:25.806Z"
   },
   {
    "duration": 371,
    "start_time": "2022-08-27T23:33:25.836Z"
   },
   {
    "duration": 6,
    "start_time": "2022-08-27T23:33:26.211Z"
   },
   {
    "duration": 26,
    "start_time": "2022-08-27T23:33:26.219Z"
   },
   {
    "duration": 39,
    "start_time": "2022-08-27T23:33:26.248Z"
   },
   {
    "duration": 450,
    "start_time": "2022-08-27T23:33:26.289Z"
   },
   {
    "duration": 18,
    "start_time": "2022-08-27T23:33:26.741Z"
   },
   {
    "duration": 26,
    "start_time": "2022-08-27T23:33:26.761Z"
   },
   {
    "duration": 4,
    "start_time": "2022-08-27T23:33:26.788Z"
   },
   {
    "duration": 29,
    "start_time": "2022-08-27T23:33:26.794Z"
   },
   {
    "duration": 2,
    "start_time": "2022-08-27T23:33:26.825Z"
   },
   {
    "duration": 13,
    "start_time": "2022-08-27T23:33:26.829Z"
   },
   {
    "duration": 65,
    "start_time": "2022-08-27T23:33:26.843Z"
   },
   {
    "duration": 34,
    "start_time": "2022-08-27T23:33:26.911Z"
   },
   {
    "duration": 41,
    "start_time": "2022-08-27T23:33:26.947Z"
   },
   {
    "duration": 445,
    "start_time": "2022-08-27T23:33:26.990Z"
   },
   {
    "duration": 6,
    "start_time": "2022-08-27T23:33:27.436Z"
   },
   {
    "duration": 14,
    "start_time": "2022-08-27T23:33:27.444Z"
   },
   {
    "duration": 30,
    "start_time": "2022-08-27T23:33:27.459Z"
   },
   {
    "duration": 362,
    "start_time": "2022-08-27T23:33:27.491Z"
   },
   {
    "duration": 4,
    "start_time": "2022-08-27T23:33:27.855Z"
   },
   {
    "duration": 28,
    "start_time": "2022-08-27T23:33:27.861Z"
   },
   {
    "duration": 5,
    "start_time": "2022-08-27T23:33:27.891Z"
   },
   {
    "duration": 6,
    "start_time": "2022-08-27T23:33:27.897Z"
   },
   {
    "duration": 16,
    "start_time": "2022-08-27T23:33:27.904Z"
   },
   {
    "duration": 5,
    "start_time": "2022-08-27T23:33:27.922Z"
   },
   {
    "duration": 8,
    "start_time": "2022-08-27T23:33:27.928Z"
   },
   {
    "duration": 62,
    "start_time": "2022-08-27T23:33:27.938Z"
   },
   {
    "duration": 407,
    "start_time": "2022-08-27T23:33:28.002Z"
   },
   {
    "duration": 480,
    "start_time": "2022-08-27T23:33:28.411Z"
   },
   {
    "duration": 17,
    "start_time": "2022-08-27T23:33:28.892Z"
   },
   {
    "duration": 397,
    "start_time": "2022-08-27T23:33:28.911Z"
   },
   {
    "duration": 11,
    "start_time": "2022-08-27T23:33:29.310Z"
   },
   {
    "duration": 11,
    "start_time": "2022-08-27T23:33:29.323Z"
   },
   {
    "duration": 9,
    "start_time": "2022-08-27T23:33:29.336Z"
   },
   {
    "duration": 51,
    "start_time": "2022-08-27T23:33:29.347Z"
   },
   {
    "duration": 13,
    "start_time": "2022-08-27T23:33:29.400Z"
   },
   {
    "duration": 73,
    "start_time": "2022-08-27T23:33:29.415Z"
   },
   {
    "duration": 2073,
    "start_time": "2022-08-27T23:33:29.490Z"
   },
   {
    "duration": 23,
    "start_time": "2022-08-27T23:33:31.564Z"
   },
   {
    "duration": 8,
    "start_time": "2022-08-27T23:33:31.588Z"
   },
   {
    "duration": 15,
    "start_time": "2022-08-27T23:33:31.597Z"
   },
   {
    "duration": 13,
    "start_time": "2022-08-27T23:33:31.614Z"
   },
   {
    "duration": 24,
    "start_time": "2022-08-27T23:33:31.629Z"
   },
   {
    "duration": 4,
    "start_time": "2022-08-27T23:33:31.655Z"
   },
   {
    "duration": 287,
    "start_time": "2022-08-27T23:33:31.661Z"
   },
   {
    "duration": 5,
    "start_time": "2022-08-27T23:33:31.950Z"
   },
   {
    "duration": 14,
    "start_time": "2022-08-27T23:33:31.956Z"
   },
   {
    "duration": 3906,
    "start_time": "2022-08-27T23:33:31.972Z"
   },
   {
    "duration": 7,
    "start_time": "2022-08-27T23:33:35.880Z"
   },
   {
    "duration": 425,
    "start_time": "2022-08-27T23:33:35.888Z"
   },
   {
    "duration": 10,
    "start_time": "2022-08-27T23:33:36.315Z"
   },
   {
    "duration": 51,
    "start_time": "2022-08-27T23:33:36.327Z"
   },
   {
    "duration": 0,
    "start_time": "2022-08-27T23:33:36.380Z"
   },
   {
    "duration": 2544,
    "start_time": "2022-08-27T23:37:51.842Z"
   },
   {
    "duration": 242,
    "start_time": "2022-08-27T23:51:04.123Z"
   },
   {
    "duration": 234,
    "start_time": "2022-08-27T23:51:19.260Z"
   },
   {
    "duration": 254,
    "start_time": "2022-08-27T23:53:11.444Z"
   },
   {
    "duration": 376,
    "start_time": "2022-08-27T23:53:44.076Z"
   },
   {
    "duration": 61,
    "start_time": "2022-08-27T23:54:10.017Z"
   },
   {
    "duration": 70,
    "start_time": "2022-08-27T23:54:15.402Z"
   },
   {
    "duration": 269,
    "start_time": "2022-08-27T23:54:23.851Z"
   },
   {
    "duration": 250,
    "start_time": "2022-08-27T23:56:59.675Z"
   },
   {
    "duration": 260,
    "start_time": "2022-08-27T23:57:11.684Z"
   },
   {
    "duration": 250,
    "start_time": "2022-08-27T23:58:16.598Z"
   },
   {
    "duration": 386,
    "start_time": "2022-08-27T23:58:23.803Z"
   },
   {
    "duration": 257,
    "start_time": "2022-08-27T23:59:04.986Z"
   },
   {
    "duration": 271,
    "start_time": "2022-08-27T23:59:19.789Z"
   },
   {
    "duration": 180,
    "start_time": "2022-08-27T23:59:38.832Z"
   },
   {
    "duration": 274,
    "start_time": "2022-08-28T00:01:41.755Z"
   },
   {
    "duration": 917,
    "start_time": "2022-08-28T00:01:51.338Z"
   },
   {
    "duration": 290,
    "start_time": "2022-08-28T00:09:00.666Z"
   },
   {
    "duration": 185,
    "start_time": "2022-08-28T00:09:09.112Z"
   },
   {
    "duration": 176,
    "start_time": "2022-08-28T00:09:33.113Z"
   },
   {
    "duration": 141,
    "start_time": "2022-08-28T00:09:40.706Z"
   },
   {
    "duration": 153,
    "start_time": "2022-08-28T00:09:51.914Z"
   },
   {
    "duration": 149,
    "start_time": "2022-08-28T00:10:07.681Z"
   },
   {
    "duration": 173,
    "start_time": "2022-08-28T00:10:13.756Z"
   },
   {
    "duration": 150,
    "start_time": "2022-08-28T00:10:43.596Z"
   },
   {
    "duration": 156,
    "start_time": "2022-08-28T00:10:59.299Z"
   },
   {
    "duration": 167,
    "start_time": "2022-08-28T00:11:06.795Z"
   },
   {
    "duration": 268,
    "start_time": "2022-08-28T00:12:09.199Z"
   },
   {
    "duration": 265,
    "start_time": "2022-08-28T00:12:17.147Z"
   },
   {
    "duration": 381,
    "start_time": "2022-08-28T00:12:23.187Z"
   },
   {
    "duration": 179,
    "start_time": "2022-08-28T00:12:36.089Z"
   },
   {
    "duration": 174,
    "start_time": "2022-08-28T00:13:23.929Z"
   },
   {
    "duration": 178,
    "start_time": "2022-08-28T00:13:30.582Z"
   },
   {
    "duration": 168,
    "start_time": "2022-08-28T00:13:36.513Z"
   },
   {
    "duration": 173,
    "start_time": "2022-08-28T00:14:26.788Z"
   },
   {
    "duration": 173,
    "start_time": "2022-08-28T00:14:33.909Z"
   },
   {
    "duration": 164,
    "start_time": "2022-08-28T00:15:28.004Z"
   },
   {
    "duration": 281,
    "start_time": "2022-08-28T00:15:41.854Z"
   },
   {
    "duration": 56,
    "start_time": "2022-08-28T00:15:56.316Z"
   },
   {
    "duration": 266,
    "start_time": "2022-08-28T00:16:02.663Z"
   },
   {
    "duration": 49,
    "start_time": "2022-08-28T00:16:51.650Z"
   },
   {
    "duration": 272,
    "start_time": "2022-08-28T00:17:02.628Z"
   },
   {
    "duration": 262,
    "start_time": "2022-08-28T00:17:10.730Z"
   },
   {
    "duration": 261,
    "start_time": "2022-08-28T00:17:20.300Z"
   },
   {
    "duration": 288,
    "start_time": "2022-08-28T00:20:06.955Z"
   },
   {
    "duration": 566,
    "start_time": "2022-08-28T00:20:19.130Z"
   },
   {
    "duration": 176,
    "start_time": "2022-08-28T00:20:23.919Z"
   },
   {
    "duration": 189,
    "start_time": "2022-08-28T00:20:29.721Z"
   },
   {
    "duration": 175,
    "start_time": "2022-08-28T00:20:33.695Z"
   },
   {
    "duration": 167,
    "start_time": "2022-08-28T00:20:38.832Z"
   },
   {
    "duration": 175,
    "start_time": "2022-08-28T00:20:44.013Z"
   },
   {
    "duration": 334,
    "start_time": "2022-08-28T00:22:25.980Z"
   },
   {
    "duration": 255,
    "start_time": "2022-08-28T00:22:33.773Z"
   },
   {
    "duration": 258,
    "start_time": "2022-08-28T00:22:41.205Z"
   },
   {
    "duration": 271,
    "start_time": "2022-08-28T00:23:01.911Z"
   },
   {
    "duration": 160,
    "start_time": "2022-08-28T00:23:09.060Z"
   },
   {
    "duration": 162,
    "start_time": "2022-08-28T00:23:15.033Z"
   },
   {
    "duration": 186,
    "start_time": "2022-08-28T00:23:27.085Z"
   },
   {
    "duration": 208,
    "start_time": "2022-08-28T00:23:32.881Z"
   },
   {
    "duration": 174,
    "start_time": "2022-08-28T00:23:38.772Z"
   },
   {
    "duration": 159,
    "start_time": "2022-08-28T00:24:09.502Z"
   },
   {
    "duration": 261,
    "start_time": "2022-08-28T00:31:31.381Z"
   },
   {
    "duration": 162,
    "start_time": "2022-08-28T00:34:03.506Z"
   },
   {
    "duration": 150,
    "start_time": "2022-08-28T00:34:10.102Z"
   },
   {
    "duration": 495,
    "start_time": "2022-08-28T00:35:02.567Z"
   },
   {
    "duration": 15,
    "start_time": "2022-08-28T00:45:04.804Z"
   },
   {
    "duration": 14,
    "start_time": "2022-08-28T00:46:03.355Z"
   },
   {
    "duration": 148,
    "start_time": "2022-08-28T00:46:17.394Z"
   },
   {
    "duration": 132,
    "start_time": "2022-08-28T00:46:37.400Z"
   },
   {
    "duration": 235,
    "start_time": "2022-08-28T00:46:42.078Z"
   },
   {
    "duration": 148,
    "start_time": "2022-08-28T00:46:49.807Z"
   },
   {
    "duration": 11,
    "start_time": "2022-08-28T00:47:31.083Z"
   },
   {
    "duration": 14,
    "start_time": "2022-08-28T00:47:51.399Z"
   },
   {
    "duration": 164,
    "start_time": "2022-08-28T00:48:03.008Z"
   },
   {
    "duration": 174,
    "start_time": "2022-08-28T00:49:13.078Z"
   },
   {
    "duration": 15,
    "start_time": "2022-08-28T00:52:08.959Z"
   },
   {
    "duration": 20,
    "start_time": "2022-08-28T00:54:45.223Z"
   },
   {
    "duration": 264,
    "start_time": "2022-08-28T00:56:09.320Z"
   },
   {
    "duration": 157,
    "start_time": "2022-08-28T00:56:20.495Z"
   },
   {
    "duration": 180,
    "start_time": "2022-08-28T00:56:26.028Z"
   },
   {
    "duration": 151,
    "start_time": "2022-08-28T00:56:34.264Z"
   },
   {
    "duration": 156,
    "start_time": "2022-08-28T00:56:39.258Z"
   },
   {
    "duration": 168,
    "start_time": "2022-08-28T00:57:16.661Z"
   },
   {
    "duration": 155,
    "start_time": "2022-08-28T00:58:27.019Z"
   },
   {
    "duration": 160,
    "start_time": "2022-08-28T00:58:48.668Z"
   },
   {
    "duration": 145,
    "start_time": "2022-08-28T01:00:48.771Z"
   },
   {
    "duration": 169,
    "start_time": "2022-08-28T01:00:54.188Z"
   },
   {
    "duration": 294,
    "start_time": "2022-08-28T01:07:05.154Z"
   },
   {
    "duration": 269,
    "start_time": "2022-08-28T01:07:33.595Z"
   },
   {
    "duration": 273,
    "start_time": "2022-08-28T01:07:54.807Z"
   },
   {
    "duration": 295,
    "start_time": "2022-08-28T01:08:07.108Z"
   },
   {
    "duration": 748,
    "start_time": "2022-08-28T01:08:23.245Z"
   },
   {
    "duration": 299,
    "start_time": "2022-08-28T01:08:30.460Z"
   },
   {
    "duration": 259,
    "start_time": "2022-08-28T01:08:37.125Z"
   },
   {
    "duration": 301,
    "start_time": "2022-08-28T01:09:51.369Z"
   },
   {
    "duration": 362,
    "start_time": "2022-08-28T01:10:59.512Z"
   },
   {
    "duration": 1207,
    "start_time": "2022-08-28T01:11:33.184Z"
   },
   {
    "duration": 510,
    "start_time": "2022-08-28T01:11:48.417Z"
   },
   {
    "duration": 13,
    "start_time": "2022-08-28T01:13:55.795Z"
   },
   {
    "duration": 10,
    "start_time": "2022-08-28T01:14:30.174Z"
   },
   {
    "duration": 46,
    "start_time": "2022-08-28T01:14:54.456Z"
   },
   {
    "duration": 296,
    "start_time": "2022-08-28T01:15:31.316Z"
   },
   {
    "duration": 554,
    "start_time": "2022-08-28T01:16:34.240Z"
   },
   {
    "duration": 598,
    "start_time": "2022-08-28T01:16:48.092Z"
   },
   {
    "duration": 526,
    "start_time": "2022-08-28T01:17:21.849Z"
   },
   {
    "duration": 269,
    "start_time": "2022-08-28T01:44:40.142Z"
   },
   {
    "duration": 271,
    "start_time": "2022-08-28T01:45:34.203Z"
   },
   {
    "duration": 845,
    "start_time": "2022-08-28T01:45:58.672Z"
   },
   {
    "duration": 81,
    "start_time": "2022-08-28T01:48:00.075Z"
   },
   {
    "duration": 55,
    "start_time": "2022-08-28T01:48:13.041Z"
   },
   {
    "duration": 51,
    "start_time": "2022-08-28T01:48:34.111Z"
   },
   {
    "duration": 53,
    "start_time": "2022-08-28T01:48:39.934Z"
   },
   {
    "duration": 91,
    "start_time": "2022-08-28T01:49:21.216Z"
   },
   {
    "duration": 3,
    "start_time": "2022-08-28T01:49:25.113Z"
   },
   {
    "duration": 116,
    "start_time": "2022-08-28T01:49:25.117Z"
   },
   {
    "duration": 18,
    "start_time": "2022-08-28T01:49:25.235Z"
   },
   {
    "duration": 34,
    "start_time": "2022-08-28T01:49:25.254Z"
   },
   {
    "duration": 4,
    "start_time": "2022-08-28T01:49:25.291Z"
   },
   {
    "duration": 31,
    "start_time": "2022-08-28T01:49:25.296Z"
   },
   {
    "duration": 1840,
    "start_time": "2022-08-28T01:49:25.328Z"
   },
   {
    "duration": 76,
    "start_time": "2022-08-28T01:49:27.169Z"
   },
   {
    "duration": 328,
    "start_time": "2022-08-28T01:49:27.247Z"
   },
   {
    "duration": 11,
    "start_time": "2022-08-28T01:49:27.577Z"
   },
   {
    "duration": 9,
    "start_time": "2022-08-28T01:49:27.591Z"
   },
   {
    "duration": 31,
    "start_time": "2022-08-28T01:49:27.601Z"
   },
   {
    "duration": 10,
    "start_time": "2022-08-28T01:49:27.634Z"
   },
   {
    "duration": 346,
    "start_time": "2022-08-28T01:49:27.646Z"
   },
   {
    "duration": 480,
    "start_time": "2022-08-28T01:49:27.994Z"
   },
   {
    "duration": 11,
    "start_time": "2022-08-28T01:49:28.475Z"
   },
   {
    "duration": 8,
    "start_time": "2022-08-28T01:49:28.488Z"
   },
   {
    "duration": 3,
    "start_time": "2022-08-28T01:49:28.498Z"
   },
   {
    "duration": 349,
    "start_time": "2022-08-28T01:49:28.502Z"
   },
   {
    "duration": 253,
    "start_time": "2022-08-28T01:49:28.853Z"
   },
   {
    "duration": 3,
    "start_time": "2022-08-28T01:49:29.108Z"
   },
   {
    "duration": 25,
    "start_time": "2022-08-28T01:49:29.113Z"
   },
   {
    "duration": 13,
    "start_time": "2022-08-28T01:49:29.139Z"
   },
   {
    "duration": 20,
    "start_time": "2022-08-28T01:49:29.154Z"
   },
   {
    "duration": 24,
    "start_time": "2022-08-28T01:49:29.176Z"
   },
   {
    "duration": 357,
    "start_time": "2022-08-28T01:49:29.202Z"
   },
   {
    "duration": 12,
    "start_time": "2022-08-28T01:49:29.561Z"
   },
   {
    "duration": 15,
    "start_time": "2022-08-28T01:49:29.596Z"
   },
   {
    "duration": 39,
    "start_time": "2022-08-28T01:49:29.615Z"
   },
   {
    "duration": 22,
    "start_time": "2022-08-28T01:49:29.655Z"
   },
   {
    "duration": 17,
    "start_time": "2022-08-28T01:49:29.679Z"
   },
   {
    "duration": 747,
    "start_time": "2022-08-28T01:49:29.697Z"
   },
   {
    "duration": 6,
    "start_time": "2022-08-28T01:49:30.446Z"
   },
   {
    "duration": 197,
    "start_time": "2022-08-28T01:49:30.454Z"
   },
   {
    "duration": 203,
    "start_time": "2022-08-28T01:49:30.653Z"
   },
   {
    "duration": 56,
    "start_time": "2022-08-28T01:49:30.858Z"
   },
   {
    "duration": 6,
    "start_time": "2022-08-28T01:49:30.916Z"
   },
   {
    "duration": 37,
    "start_time": "2022-08-28T01:49:30.923Z"
   },
   {
    "duration": 26,
    "start_time": "2022-08-28T01:49:30.961Z"
   },
   {
    "duration": 49,
    "start_time": "2022-08-28T01:49:30.988Z"
   },
   {
    "duration": 11,
    "start_time": "2022-08-28T01:49:31.039Z"
   },
   {
    "duration": 17,
    "start_time": "2022-08-28T01:49:31.051Z"
   },
   {
    "duration": 34,
    "start_time": "2022-08-28T01:49:31.069Z"
   },
   {
    "duration": 14,
    "start_time": "2022-08-28T01:49:31.105Z"
   },
   {
    "duration": 320,
    "start_time": "2022-08-28T01:49:31.120Z"
   },
   {
    "duration": 5,
    "start_time": "2022-08-28T01:49:31.441Z"
   },
   {
    "duration": 26,
    "start_time": "2022-08-28T01:49:31.447Z"
   },
   {
    "duration": 41,
    "start_time": "2022-08-28T01:49:31.475Z"
   },
   {
    "duration": 324,
    "start_time": "2022-08-28T01:49:31.518Z"
   },
   {
    "duration": 6,
    "start_time": "2022-08-28T01:49:31.844Z"
   },
   {
    "duration": 31,
    "start_time": "2022-08-28T01:49:31.851Z"
   },
   {
    "duration": 333,
    "start_time": "2022-08-28T01:49:31.887Z"
   },
   {
    "duration": 5,
    "start_time": "2022-08-28T01:49:32.222Z"
   },
   {
    "duration": 25,
    "start_time": "2022-08-28T01:49:32.229Z"
   },
   {
    "duration": 19,
    "start_time": "2022-08-28T01:49:32.256Z"
   },
   {
    "duration": 311,
    "start_time": "2022-08-28T01:49:32.278Z"
   },
   {
    "duration": 4,
    "start_time": "2022-08-28T01:49:32.591Z"
   },
   {
    "duration": 15,
    "start_time": "2022-08-28T01:49:32.597Z"
   },
   {
    "duration": 15,
    "start_time": "2022-08-28T01:49:32.613Z"
   },
   {
    "duration": 341,
    "start_time": "2022-08-28T01:49:32.629Z"
   },
   {
    "duration": 18,
    "start_time": "2022-08-28T01:49:32.972Z"
   },
   {
    "duration": 7,
    "start_time": "2022-08-28T01:49:32.991Z"
   },
   {
    "duration": 7,
    "start_time": "2022-08-28T01:49:32.999Z"
   },
   {
    "duration": 21,
    "start_time": "2022-08-28T01:49:33.007Z"
   },
   {
    "duration": 2,
    "start_time": "2022-08-28T01:49:33.029Z"
   },
   {
    "duration": 15,
    "start_time": "2022-08-28T01:49:33.033Z"
   },
   {
    "duration": 52,
    "start_time": "2022-08-28T01:49:33.049Z"
   },
   {
    "duration": 29,
    "start_time": "2022-08-28T01:49:33.103Z"
   },
   {
    "duration": 16,
    "start_time": "2022-08-28T01:49:33.134Z"
   },
   {
    "duration": 327,
    "start_time": "2022-08-28T01:49:33.151Z"
   },
   {
    "duration": 11,
    "start_time": "2022-08-28T01:49:33.479Z"
   },
   {
    "duration": 10,
    "start_time": "2022-08-28T01:49:33.491Z"
   },
   {
    "duration": 5,
    "start_time": "2022-08-28T01:49:33.502Z"
   },
   {
    "duration": 348,
    "start_time": "2022-08-28T01:49:33.509Z"
   },
   {
    "duration": 4,
    "start_time": "2022-08-28T01:49:33.858Z"
   },
   {
    "duration": 23,
    "start_time": "2022-08-28T01:49:33.864Z"
   },
   {
    "duration": 5,
    "start_time": "2022-08-28T01:49:33.888Z"
   },
   {
    "duration": 6,
    "start_time": "2022-08-28T01:49:33.894Z"
   },
   {
    "duration": 14,
    "start_time": "2022-08-28T01:49:33.902Z"
   },
   {
    "duration": 4,
    "start_time": "2022-08-28T01:49:33.918Z"
   },
   {
    "duration": 8,
    "start_time": "2022-08-28T01:49:33.923Z"
   },
   {
    "duration": 25,
    "start_time": "2022-08-28T01:49:33.932Z"
   },
   {
    "duration": 337,
    "start_time": "2022-08-28T01:49:33.989Z"
   },
   {
    "duration": 347,
    "start_time": "2022-08-28T01:49:34.328Z"
   },
   {
    "duration": 24,
    "start_time": "2022-08-28T01:49:34.677Z"
   },
   {
    "duration": 353,
    "start_time": "2022-08-28T01:49:34.702Z"
   },
   {
    "duration": 8,
    "start_time": "2022-08-28T01:49:35.057Z"
   },
   {
    "duration": 24,
    "start_time": "2022-08-28T01:49:35.066Z"
   },
   {
    "duration": 7,
    "start_time": "2022-08-28T01:49:35.092Z"
   },
   {
    "duration": 22,
    "start_time": "2022-08-28T01:49:35.101Z"
   },
   {
    "duration": 11,
    "start_time": "2022-08-28T01:49:35.125Z"
   },
   {
    "duration": 64,
    "start_time": "2022-08-28T01:49:35.138Z"
   },
   {
    "duration": 1945,
    "start_time": "2022-08-28T01:49:35.203Z"
   },
   {
    "duration": 12,
    "start_time": "2022-08-28T01:49:37.150Z"
   },
   {
    "duration": 24,
    "start_time": "2022-08-28T01:49:37.163Z"
   },
   {
    "duration": 8,
    "start_time": "2022-08-28T01:49:37.189Z"
   },
   {
    "duration": 6,
    "start_time": "2022-08-28T01:49:37.199Z"
   },
   {
    "duration": 8,
    "start_time": "2022-08-28T01:49:37.206Z"
   },
   {
    "duration": 2,
    "start_time": "2022-08-28T01:49:37.216Z"
   },
   {
    "duration": 264,
    "start_time": "2022-08-28T01:49:37.219Z"
   },
   {
    "duration": 5,
    "start_time": "2022-08-28T01:49:37.486Z"
   },
   {
    "duration": 11,
    "start_time": "2022-08-28T01:49:37.492Z"
   },
   {
    "duration": 763,
    "start_time": "2022-08-28T01:49:37.505Z"
   },
   {
    "duration": 253,
    "start_time": "2022-08-28T01:49:38.270Z"
   },
   {
    "duration": 273,
    "start_time": "2022-08-28T01:49:38.525Z"
   },
   {
    "duration": 134,
    "start_time": "2022-08-28T01:49:38.799Z"
   },
   {
    "duration": 156,
    "start_time": "2022-08-28T01:49:38.935Z"
   },
   {
    "duration": 163,
    "start_time": "2022-08-28T01:49:39.092Z"
   },
   {
    "duration": 142,
    "start_time": "2022-08-28T01:49:39.257Z"
   },
   {
    "duration": 165,
    "start_time": "2022-08-28T01:49:39.400Z"
   },
   {
    "duration": 234,
    "start_time": "2022-08-28T01:49:39.566Z"
   },
   {
    "duration": 244,
    "start_time": "2022-08-28T01:49:39.802Z"
   },
   {
    "duration": 176,
    "start_time": "2022-08-28T01:49:40.048Z"
   },
   {
    "duration": 177,
    "start_time": "2022-08-28T01:49:40.225Z"
   },
   {
    "duration": 165,
    "start_time": "2022-08-28T01:49:40.404Z"
   },
   {
    "duration": 158,
    "start_time": "2022-08-28T01:49:40.570Z"
   },
   {
    "duration": 1996,
    "start_time": "2022-08-28T01:49:40.729Z"
   },
   {
    "duration": 789,
    "start_time": "2022-08-28T01:49:42.727Z"
   },
   {
    "duration": 54,
    "start_time": "2022-08-28T01:49:43.517Z"
   },
   {
    "duration": 0,
    "start_time": "2022-08-28T01:49:43.573Z"
   },
   {
    "duration": 0,
    "start_time": "2022-08-28T01:49:43.574Z"
   },
   {
    "duration": 0,
    "start_time": "2022-08-28T01:49:43.575Z"
   },
   {
    "duration": 0,
    "start_time": "2022-08-28T01:49:43.576Z"
   },
   {
    "duration": 87,
    "start_time": "2022-08-28T01:50:32.233Z"
   },
   {
    "duration": 52,
    "start_time": "2022-08-28T01:50:44.744Z"
   },
   {
    "duration": 112,
    "start_time": "2022-08-28T01:50:54.513Z"
   },
   {
    "duration": 324,
    "start_time": "2022-08-28T01:50:59.401Z"
   },
   {
    "duration": 343,
    "start_time": "2022-08-28T01:51:30.494Z"
   },
   {
    "duration": 371,
    "start_time": "2022-08-28T01:51:41.428Z"
   },
   {
    "duration": 3,
    "start_time": "2022-08-28T01:51:48.884Z"
   },
   {
    "duration": 123,
    "start_time": "2022-08-28T01:51:48.889Z"
   },
   {
    "duration": 14,
    "start_time": "2022-08-28T01:51:49.014Z"
   },
   {
    "duration": 17,
    "start_time": "2022-08-28T01:51:49.029Z"
   },
   {
    "duration": 3,
    "start_time": "2022-08-28T01:51:49.048Z"
   },
   {
    "duration": 46,
    "start_time": "2022-08-28T01:51:49.052Z"
   },
   {
    "duration": 1765,
    "start_time": "2022-08-28T01:51:49.100Z"
   },
   {
    "duration": 75,
    "start_time": "2022-08-28T01:51:50.866Z"
   },
   {
    "duration": 327,
    "start_time": "2022-08-28T01:51:50.943Z"
   },
   {
    "duration": 4,
    "start_time": "2022-08-28T01:51:51.271Z"
   },
   {
    "duration": 6,
    "start_time": "2022-08-28T01:51:51.286Z"
   },
   {
    "duration": 3,
    "start_time": "2022-08-28T01:51:51.294Z"
   },
   {
    "duration": 6,
    "start_time": "2022-08-28T01:51:51.298Z"
   },
   {
    "duration": 381,
    "start_time": "2022-08-28T01:51:51.305Z"
   },
   {
    "duration": 474,
    "start_time": "2022-08-28T01:51:51.688Z"
   },
   {
    "duration": 4,
    "start_time": "2022-08-28T01:51:52.163Z"
   },
   {
    "duration": 19,
    "start_time": "2022-08-28T01:51:52.168Z"
   },
   {
    "duration": 6,
    "start_time": "2022-08-28T01:51:52.188Z"
   },
   {
    "duration": 342,
    "start_time": "2022-08-28T01:51:52.196Z"
   },
   {
    "duration": 250,
    "start_time": "2022-08-28T01:51:52.540Z"
   },
   {
    "duration": 4,
    "start_time": "2022-08-28T01:51:52.791Z"
   },
   {
    "duration": 10,
    "start_time": "2022-08-28T01:51:52.797Z"
   },
   {
    "duration": 9,
    "start_time": "2022-08-28T01:51:52.808Z"
   },
   {
    "duration": 11,
    "start_time": "2022-08-28T01:51:52.818Z"
   },
   {
    "duration": 18,
    "start_time": "2022-08-28T01:51:52.830Z"
   },
   {
    "duration": 368,
    "start_time": "2022-08-28T01:51:52.850Z"
   },
   {
    "duration": 10,
    "start_time": "2022-08-28T01:51:53.219Z"
   },
   {
    "duration": 9,
    "start_time": "2022-08-28T01:51:53.231Z"
   },
   {
    "duration": 53,
    "start_time": "2022-08-28T01:51:53.244Z"
   },
   {
    "duration": 22,
    "start_time": "2022-08-28T01:51:53.299Z"
   },
   {
    "duration": 12,
    "start_time": "2022-08-28T01:51:53.323Z"
   },
   {
    "duration": 852,
    "start_time": "2022-08-28T01:51:53.337Z"
   },
   {
    "duration": 6,
    "start_time": "2022-08-28T01:51:54.191Z"
   },
   {
    "duration": 196,
    "start_time": "2022-08-28T01:51:54.198Z"
   },
   {
    "duration": 193,
    "start_time": "2022-08-28T01:51:54.395Z"
   },
   {
    "duration": 40,
    "start_time": "2022-08-28T01:51:54.590Z"
   },
   {
    "duration": 5,
    "start_time": "2022-08-28T01:51:54.632Z"
   },
   {
    "duration": 9,
    "start_time": "2022-08-28T01:51:54.639Z"
   },
   {
    "duration": 38,
    "start_time": "2022-08-28T01:51:54.649Z"
   },
   {
    "duration": 25,
    "start_time": "2022-08-28T01:51:54.689Z"
   },
   {
    "duration": 10,
    "start_time": "2022-08-28T01:51:54.716Z"
   },
   {
    "duration": 9,
    "start_time": "2022-08-28T01:51:54.727Z"
   },
   {
    "duration": 10,
    "start_time": "2022-08-28T01:51:54.737Z"
   },
   {
    "duration": 43,
    "start_time": "2022-08-28T01:51:54.748Z"
   },
   {
    "duration": 334,
    "start_time": "2022-08-28T01:51:54.792Z"
   },
   {
    "duration": 5,
    "start_time": "2022-08-28T01:51:55.127Z"
   },
   {
    "duration": 11,
    "start_time": "2022-08-28T01:51:55.134Z"
   },
   {
    "duration": 16,
    "start_time": "2022-08-28T01:51:55.147Z"
   },
   {
    "duration": 329,
    "start_time": "2022-08-28T01:51:55.186Z"
   },
   {
    "duration": 5,
    "start_time": "2022-08-28T01:51:55.516Z"
   },
   {
    "duration": 21,
    "start_time": "2022-08-28T01:51:55.522Z"
   },
   {
    "duration": 343,
    "start_time": "2022-08-28T01:51:55.545Z"
   },
   {
    "duration": 5,
    "start_time": "2022-08-28T01:51:55.889Z"
   },
   {
    "duration": 9,
    "start_time": "2022-08-28T01:51:55.895Z"
   },
   {
    "duration": 18,
    "start_time": "2022-08-28T01:51:55.906Z"
   },
   {
    "duration": 392,
    "start_time": "2022-08-28T01:51:55.926Z"
   },
   {
    "duration": 6,
    "start_time": "2022-08-28T01:51:56.320Z"
   },
   {
    "duration": 27,
    "start_time": "2022-08-28T01:51:56.328Z"
   },
   {
    "duration": 31,
    "start_time": "2022-08-28T01:51:56.357Z"
   },
   {
    "duration": 325,
    "start_time": "2022-08-28T01:51:56.390Z"
   },
   {
    "duration": 13,
    "start_time": "2022-08-28T01:51:56.716Z"
   },
   {
    "duration": 7,
    "start_time": "2022-08-28T01:51:56.731Z"
   },
   {
    "duration": 9,
    "start_time": "2022-08-28T01:51:56.739Z"
   },
   {
    "duration": 38,
    "start_time": "2022-08-28T01:51:56.750Z"
   },
   {
    "duration": 3,
    "start_time": "2022-08-28T01:51:56.790Z"
   },
   {
    "duration": 14,
    "start_time": "2022-08-28T01:51:56.794Z"
   },
   {
    "duration": 19,
    "start_time": "2022-08-28T01:51:56.810Z"
   },
   {
    "duration": 66,
    "start_time": "2022-08-28T01:51:56.830Z"
   },
   {
    "duration": 16,
    "start_time": "2022-08-28T01:51:56.897Z"
   },
   {
    "duration": 317,
    "start_time": "2022-08-28T01:51:56.915Z"
   },
   {
    "duration": 5,
    "start_time": "2022-08-28T01:51:57.234Z"
   },
   {
    "duration": 13,
    "start_time": "2022-08-28T01:51:57.240Z"
   },
   {
    "duration": 4,
    "start_time": "2022-08-28T01:51:57.255Z"
   },
   {
    "duration": 349,
    "start_time": "2022-08-28T01:51:57.260Z"
   },
   {
    "duration": 5,
    "start_time": "2022-08-28T01:51:57.611Z"
   },
   {
    "duration": 12,
    "start_time": "2022-08-28T01:51:57.618Z"
   },
   {
    "duration": 4,
    "start_time": "2022-08-28T01:51:57.632Z"
   },
   {
    "duration": 5,
    "start_time": "2022-08-28T01:51:57.637Z"
   },
   {
    "duration": 14,
    "start_time": "2022-08-28T01:51:57.643Z"
   },
   {
    "duration": 31,
    "start_time": "2022-08-28T01:51:57.658Z"
   },
   {
    "duration": 6,
    "start_time": "2022-08-28T01:51:57.691Z"
   },
   {
    "duration": 16,
    "start_time": "2022-08-28T01:51:57.698Z"
   },
   {
    "duration": 359,
    "start_time": "2022-08-28T01:51:57.720Z"
   },
   {
    "duration": 343,
    "start_time": "2022-08-28T01:51:58.080Z"
   },
   {
    "duration": 16,
    "start_time": "2022-08-28T01:51:58.424Z"
   },
   {
    "duration": 375,
    "start_time": "2022-08-28T01:51:58.441Z"
   },
   {
    "duration": 8,
    "start_time": "2022-08-28T01:51:58.817Z"
   },
   {
    "duration": 7,
    "start_time": "2022-08-28T01:51:58.826Z"
   },
   {
    "duration": 9,
    "start_time": "2022-08-28T01:51:58.834Z"
   },
   {
    "duration": 42,
    "start_time": "2022-08-28T01:51:58.845Z"
   },
   {
    "duration": 11,
    "start_time": "2022-08-28T01:51:58.889Z"
   },
   {
    "duration": 45,
    "start_time": "2022-08-28T01:51:58.902Z"
   },
   {
    "duration": 1953,
    "start_time": "2022-08-28T01:51:58.948Z"
   },
   {
    "duration": 17,
    "start_time": "2022-08-28T01:52:00.902Z"
   },
   {
    "duration": 10,
    "start_time": "2022-08-28T01:52:00.921Z"
   },
   {
    "duration": 21,
    "start_time": "2022-08-28T01:52:00.933Z"
   },
   {
    "duration": 33,
    "start_time": "2022-08-28T01:52:00.956Z"
   },
   {
    "duration": 11,
    "start_time": "2022-08-28T01:52:00.990Z"
   },
   {
    "duration": 24,
    "start_time": "2022-08-28T01:52:01.002Z"
   },
   {
    "duration": 256,
    "start_time": "2022-08-28T01:52:01.028Z"
   },
   {
    "duration": 5,
    "start_time": "2022-08-28T01:52:01.285Z"
   },
   {
    "duration": 17,
    "start_time": "2022-08-28T01:52:01.292Z"
   },
   {
    "duration": 276,
    "start_time": "2022-08-28T01:52:01.311Z"
   },
   {
    "duration": 288,
    "start_time": "2022-08-28T01:52:01.588Z"
   },
   {
    "duration": 276,
    "start_time": "2022-08-28T01:52:01.886Z"
   },
   {
    "duration": 141,
    "start_time": "2022-08-28T01:52:02.163Z"
   },
   {
    "duration": 160,
    "start_time": "2022-08-28T01:52:02.305Z"
   },
   {
    "duration": 163,
    "start_time": "2022-08-28T01:52:02.466Z"
   },
   {
    "duration": 762,
    "start_time": "2022-08-28T01:52:02.631Z"
   },
   {
    "duration": 169,
    "start_time": "2022-08-28T01:52:03.394Z"
   },
   {
    "duration": 249,
    "start_time": "2022-08-28T01:52:03.564Z"
   },
   {
    "duration": 280,
    "start_time": "2022-08-28T01:52:03.814Z"
   },
   {
    "duration": 192,
    "start_time": "2022-08-28T01:52:04.095Z"
   },
   {
    "duration": 175,
    "start_time": "2022-08-28T01:52:04.288Z"
   },
   {
    "duration": 175,
    "start_time": "2022-08-28T01:52:04.465Z"
   },
   {
    "duration": 164,
    "start_time": "2022-08-28T01:52:04.642Z"
   },
   {
    "duration": 2122,
    "start_time": "2022-08-28T01:52:04.807Z"
   },
   {
    "duration": 315,
    "start_time": "2022-08-28T01:52:06.931Z"
   },
   {
    "duration": 415,
    "start_time": "2022-08-28T01:52:07.248Z"
   },
   {
    "duration": 545,
    "start_time": "2022-08-28T01:52:07.664Z"
   },
   {
    "duration": 7,
    "start_time": "2022-08-28T01:52:08.210Z"
   },
   {
    "duration": 50,
    "start_time": "2022-08-28T01:52:08.218Z"
   },
   {
    "duration": 0,
    "start_time": "2022-08-28T01:52:08.270Z"
   },
   {
    "duration": 367,
    "start_time": "2022-08-28T01:52:36.922Z"
   },
   {
    "duration": 383,
    "start_time": "2022-08-28T01:55:08.802Z"
   },
   {
    "duration": 392,
    "start_time": "2022-08-28T01:55:30.902Z"
   },
   {
    "duration": 392,
    "start_time": "2022-08-28T01:56:22.854Z"
   },
   {
    "duration": 1064,
    "start_time": "2022-08-28T01:56:49.101Z"
   },
   {
    "duration": 17,
    "start_time": "2022-08-28T02:06:57.903Z"
   },
   {
    "duration": 4,
    "start_time": "2022-08-28T02:09:14.654Z"
   },
   {
    "duration": 16,
    "start_time": "2022-08-28T02:09:26.694Z"
   },
   {
    "duration": 8,
    "start_time": "2022-08-28T02:09:53.562Z"
   },
   {
    "duration": 15,
    "start_time": "2022-08-28T02:09:58.598Z"
   },
   {
    "duration": 41,
    "start_time": "2022-08-28T02:13:35.609Z"
   },
   {
    "duration": 58,
    "start_time": "2022-08-28T02:13:45.713Z"
   },
   {
    "duration": 48,
    "start_time": "2022-08-28T02:13:54.790Z"
   },
   {
    "duration": 58,
    "start_time": "2022-08-28T02:14:07.250Z"
   },
   {
    "duration": 63,
    "start_time": "2022-08-28T02:16:16.752Z"
   },
   {
    "duration": 46,
    "start_time": "2022-08-28T02:16:58.048Z"
   },
   {
    "duration": 8,
    "start_time": "2022-08-28T02:19:23.019Z"
   },
   {
    "duration": 829,
    "start_time": "2022-08-28T02:19:37.544Z"
   },
   {
    "duration": 5,
    "start_time": "2022-08-28T02:19:46.665Z"
   },
   {
    "duration": 5,
    "start_time": "2022-08-28T02:20:04.000Z"
   },
   {
    "duration": 51,
    "start_time": "2022-08-28T03:23:35.465Z"
   },
   {
    "duration": 11,
    "start_time": "2022-08-28T03:57:50.238Z"
   },
   {
    "duration": 11,
    "start_time": "2022-08-28T03:58:36.671Z"
   },
   {
    "duration": 12,
    "start_time": "2022-08-28T03:59:10.305Z"
   },
   {
    "duration": 11,
    "start_time": "2022-08-28T03:59:31.652Z"
   },
   {
    "duration": 11,
    "start_time": "2022-08-28T03:59:55.546Z"
   },
   {
    "duration": 190,
    "start_time": "2022-08-28T04:00:01.813Z"
   },
   {
    "duration": 5,
    "start_time": "2022-08-28T04:01:11.130Z"
   },
   {
    "duration": 5,
    "start_time": "2022-08-28T04:01:21.967Z"
   },
   {
    "duration": 0,
    "start_time": "2022-08-28T04:07:01.823Z"
   },
   {
    "duration": 180,
    "start_time": "2022-08-28T04:08:56.992Z"
   },
   {
    "duration": 170,
    "start_time": "2022-08-28T04:09:21.133Z"
   },
   {
    "duration": 175,
    "start_time": "2022-08-28T04:09:34.192Z"
   },
   {
    "duration": 176,
    "start_time": "2022-08-28T04:09:40.381Z"
   },
   {
    "duration": 12,
    "start_time": "2022-08-28T04:17:32.180Z"
   },
   {
    "duration": 11,
    "start_time": "2022-08-28T04:17:42.446Z"
   },
   {
    "duration": 226,
    "start_time": "2022-08-28T04:17:53.217Z"
   },
   {
    "duration": 169,
    "start_time": "2022-08-28T04:18:39.175Z"
   },
   {
    "duration": 175,
    "start_time": "2022-08-28T04:18:49.646Z"
   },
   {
    "duration": 29,
    "start_time": "2022-08-28T04:19:23.478Z"
   },
   {
    "duration": 219,
    "start_time": "2022-08-28T04:19:40.255Z"
   },
   {
    "duration": 218,
    "start_time": "2022-08-28T04:31:34.299Z"
   },
   {
    "duration": 211,
    "start_time": "2022-08-28T04:31:52.429Z"
   },
   {
    "duration": 220,
    "start_time": "2022-08-28T04:31:58.640Z"
   },
   {
    "duration": 4,
    "start_time": "2022-08-28T04:32:27.604Z"
   },
   {
    "duration": 215,
    "start_time": "2022-08-28T04:32:39.863Z"
   },
   {
    "duration": 241,
    "start_time": "2022-08-28T04:33:13.004Z"
   },
   {
    "duration": 231,
    "start_time": "2022-08-28T04:33:43.999Z"
   },
   {
    "duration": 10,
    "start_time": "2022-08-28T04:37:02.462Z"
   },
   {
    "duration": 163,
    "start_time": "2022-08-28T04:37:18.982Z"
   },
   {
    "duration": 519,
    "start_time": "2022-08-28T04:37:47.329Z"
   },
   {
    "duration": 469,
    "start_time": "2022-08-28T04:38:12.337Z"
   },
   {
    "duration": 90,
    "start_time": "2022-08-28T04:38:20.581Z"
   },
   {
    "duration": 228,
    "start_time": "2022-08-28T04:38:34.632Z"
   },
   {
    "duration": 237,
    "start_time": "2022-08-28T04:38:58.755Z"
   },
   {
    "duration": 250,
    "start_time": "2022-08-28T04:39:06.734Z"
   },
   {
    "duration": 240,
    "start_time": "2022-08-28T04:41:36.598Z"
   },
   {
    "duration": 14,
    "start_time": "2022-08-28T04:42:18.616Z"
   },
   {
    "duration": 229,
    "start_time": "2022-08-28T04:42:37.191Z"
   },
   {
    "duration": 222,
    "start_time": "2022-08-28T04:43:21.698Z"
   },
   {
    "duration": 285,
    "start_time": "2022-08-28T04:44:03.434Z"
   },
   {
    "duration": 230,
    "start_time": "2022-08-28T04:44:28.056Z"
   },
   {
    "duration": 239,
    "start_time": "2022-08-28T04:45:11.693Z"
   },
   {
    "duration": 215,
    "start_time": "2022-08-28T04:45:42.200Z"
   },
   {
    "duration": 243,
    "start_time": "2022-08-28T04:46:11.354Z"
   },
   {
    "duration": 233,
    "start_time": "2022-08-28T04:46:58.042Z"
   },
   {
    "duration": 226,
    "start_time": "2022-08-28T04:47:09.118Z"
   },
   {
    "duration": 217,
    "start_time": "2022-08-28T04:47:51.308Z"
   },
   {
    "duration": 233,
    "start_time": "2022-08-28T04:48:36.539Z"
   },
   {
    "duration": 238,
    "start_time": "2022-08-28T04:49:32.262Z"
   },
   {
    "duration": 256,
    "start_time": "2022-08-28T04:50:01.880Z"
   },
   {
    "duration": 21,
    "start_time": "2022-08-28T07:09:53.860Z"
   },
   {
    "duration": 9,
    "start_time": "2022-08-28T07:10:30.011Z"
   },
   {
    "duration": 136,
    "start_time": "2022-08-28T07:10:41.479Z"
   },
   {
    "duration": 261,
    "start_time": "2022-08-28T07:10:59.272Z"
   },
   {
    "duration": 126,
    "start_time": "2022-08-28T07:11:06.725Z"
   },
   {
    "duration": 242,
    "start_time": "2022-08-28T07:13:28.703Z"
   },
   {
    "duration": 246,
    "start_time": "2022-08-28T07:13:38.404Z"
   },
   {
    "duration": 286,
    "start_time": "2022-08-28T07:13:48.715Z"
   },
   {
    "duration": 147,
    "start_time": "2022-08-28T07:14:24.004Z"
   },
   {
    "duration": 272,
    "start_time": "2022-08-28T07:16:11.715Z"
   },
   {
    "duration": 329,
    "start_time": "2022-08-28T07:16:15.719Z"
   },
   {
    "duration": 253,
    "start_time": "2022-08-28T07:16:19.244Z"
   },
   {
    "duration": 19,
    "start_time": "2022-08-28T07:17:30.343Z"
   },
   {
    "duration": 544,
    "start_time": "2022-08-28T07:18:04.934Z"
   },
   {
    "duration": 520,
    "start_time": "2022-08-28T07:18:30.303Z"
   },
   {
    "duration": 271,
    "start_time": "2022-08-28T07:20:19.527Z"
   },
   {
    "duration": 515,
    "start_time": "2022-08-28T07:20:34.899Z"
   },
   {
    "duration": 593,
    "start_time": "2022-08-28T07:21:12.315Z"
   },
   {
    "duration": 270,
    "start_time": "2022-08-28T07:25:00.409Z"
   },
   {
    "duration": 299,
    "start_time": "2022-08-28T07:25:06.777Z"
   },
   {
    "duration": 164,
    "start_time": "2022-08-28T07:25:14.209Z"
   },
   {
    "duration": 512,
    "start_time": "2022-08-28T07:25:44.158Z"
   },
   {
    "duration": 773,
    "start_time": "2022-08-28T07:25:54.645Z"
   },
   {
    "duration": 565,
    "start_time": "2022-08-28T07:26:07.310Z"
   },
   {
    "duration": 18,
    "start_time": "2022-08-28T07:58:05.575Z"
   },
   {
    "duration": 8,
    "start_time": "2022-08-28T08:00:37.362Z"
   },
   {
    "duration": 108,
    "start_time": "2022-08-28T08:01:07.417Z"
   },
   {
    "duration": 143,
    "start_time": "2022-08-28T08:01:16.218Z"
   },
   {
    "duration": 13,
    "start_time": "2022-08-28T08:01:22.734Z"
   },
   {
    "duration": 12,
    "start_time": "2022-08-28T08:01:33.633Z"
   },
   {
    "duration": 12,
    "start_time": "2022-08-28T08:02:29.573Z"
   },
   {
    "duration": 17,
    "start_time": "2022-08-28T08:03:49.434Z"
   },
   {
    "duration": 8,
    "start_time": "2022-08-28T08:04:12.779Z"
   },
   {
    "duration": 22,
    "start_time": "2022-08-28T08:04:29.081Z"
   },
   {
    "duration": 20,
    "start_time": "2022-08-28T08:04:39.232Z"
   },
   {
    "duration": 15,
    "start_time": "2022-08-28T08:10:42.317Z"
   },
   {
    "duration": 1078,
    "start_time": "2022-08-28T08:12:52.358Z"
   },
   {
    "duration": 14,
    "start_time": "2022-08-28T08:14:29.546Z"
   },
   {
    "duration": 976,
    "start_time": "2022-08-28T08:14:56.304Z"
   },
   {
    "duration": 1335,
    "start_time": "2022-08-28T08:17:59.836Z"
   },
   {
    "duration": 16,
    "start_time": "2022-08-28T08:19:05.409Z"
   },
   {
    "duration": 19,
    "start_time": "2022-08-28T08:19:10.330Z"
   },
   {
    "duration": 15,
    "start_time": "2022-08-28T08:19:13.641Z"
   },
   {
    "duration": 1232,
    "start_time": "2022-08-28T09:36:04.027Z"
   },
   {
    "duration": 10,
    "start_time": "2022-08-28T09:38:50.326Z"
   },
   {
    "duration": 19,
    "start_time": "2022-08-28T09:39:04.415Z"
   },
   {
    "duration": 12,
    "start_time": "2022-08-28T09:39:32.607Z"
   },
   {
    "duration": 145,
    "start_time": "2022-08-28T09:40:16.497Z"
   },
   {
    "duration": 16,
    "start_time": "2022-08-28T09:42:09.814Z"
   },
   {
    "duration": 10,
    "start_time": "2022-08-28T09:42:19.133Z"
   },
   {
    "duration": 20,
    "start_time": "2022-08-28T09:42:36.984Z"
   },
   {
    "duration": 22,
    "start_time": "2022-08-28T09:42:40.225Z"
   },
   {
    "duration": 29,
    "start_time": "2022-08-28T09:42:46.313Z"
   },
   {
    "duration": 19,
    "start_time": "2022-08-28T09:44:04.377Z"
   },
   {
    "duration": 19,
    "start_time": "2022-08-28T09:45:21.042Z"
   },
   {
    "duration": 22,
    "start_time": "2022-08-28T09:47:00.745Z"
   },
   {
    "duration": 21,
    "start_time": "2022-08-28T09:47:35.324Z"
   },
   {
    "duration": 24,
    "start_time": "2022-08-28T09:49:18.164Z"
   },
   {
    "duration": 22,
    "start_time": "2022-08-28T09:49:25.013Z"
   },
   {
    "duration": 25,
    "start_time": "2022-08-28T09:49:32.379Z"
   },
   {
    "duration": 1143,
    "start_time": "2022-08-28T09:50:19.130Z"
   },
   {
    "duration": 1037,
    "start_time": "2022-08-28T09:51:12.412Z"
   },
   {
    "duration": 954,
    "start_time": "2022-08-28T09:51:53.611Z"
   },
   {
    "duration": 1427,
    "start_time": "2022-08-28T09:57:01.420Z"
   },
   {
    "duration": 10,
    "start_time": "2022-08-28T09:57:37.028Z"
   },
   {
    "duration": 13,
    "start_time": "2022-08-28T09:57:57.114Z"
   },
   {
    "duration": 18,
    "start_time": "2022-08-28T09:58:06.914Z"
   },
   {
    "duration": 13,
    "start_time": "2022-08-28T09:59:20.738Z"
   },
   {
    "duration": 10,
    "start_time": "2022-08-28T10:01:13.119Z"
   },
   {
    "duration": 21,
    "start_time": "2022-08-28T10:01:46.906Z"
   },
   {
    "duration": 167,
    "start_time": "2022-08-28T10:02:05.911Z"
   },
   {
    "duration": 286,
    "start_time": "2022-08-28T10:02:15.563Z"
   },
   {
    "duration": 243,
    "start_time": "2022-08-28T10:02:21.886Z"
   },
   {
    "duration": 16,
    "start_time": "2022-08-28T10:02:34.732Z"
   },
   {
    "duration": 10,
    "start_time": "2022-08-28T10:03:03.031Z"
   },
   {
    "duration": 405,
    "start_time": "2022-08-28T10:03:56.365Z"
   },
   {
    "duration": 347,
    "start_time": "2022-08-28T10:04:05.232Z"
   },
   {
    "duration": 343,
    "start_time": "2022-08-28T10:04:43.239Z"
   },
   {
    "duration": 362,
    "start_time": "2022-08-28T10:05:58.307Z"
   },
   {
    "duration": 12,
    "start_time": "2022-08-28T10:07:34.912Z"
   },
   {
    "duration": 393,
    "start_time": "2022-08-28T10:10:47.232Z"
   },
   {
    "duration": 14,
    "start_time": "2022-08-28T10:11:18.023Z"
   },
   {
    "duration": 14,
    "start_time": "2022-08-28T10:11:23.823Z"
   },
   {
    "duration": 16,
    "start_time": "2022-08-28T10:11:31.569Z"
   },
   {
    "duration": 386,
    "start_time": "2022-08-28T10:11:33.781Z"
   },
   {
    "duration": 14,
    "start_time": "2022-08-28T10:12:02.837Z"
   },
   {
    "duration": 386,
    "start_time": "2022-08-28T10:12:04.766Z"
   },
   {
    "duration": 15,
    "start_time": "2022-08-28T11:17:45.206Z"
   },
   {
    "duration": 204,
    "start_time": "2022-08-28T11:18:57.886Z"
   },
   {
    "duration": 337,
    "start_time": "2022-08-28T11:19:06.241Z"
   },
   {
    "duration": 15,
    "start_time": "2022-08-28T11:22:08.968Z"
   },
   {
    "duration": 3277,
    "start_time": "2022-08-28T11:48:26.171Z"
   },
   {
    "duration": 54,
    "start_time": "2022-08-28T13:31:22.281Z"
   },
   {
    "duration": 706,
    "start_time": "2022-08-28T13:31:37.933Z"
   },
   {
    "duration": 114,
    "start_time": "2022-08-28T13:31:38.641Z"
   },
   {
    "duration": 15,
    "start_time": "2022-08-28T13:31:38.757Z"
   },
   {
    "duration": 8,
    "start_time": "2022-08-28T13:31:38.774Z"
   },
   {
    "duration": 4,
    "start_time": "2022-08-28T13:31:38.783Z"
   },
   {
    "duration": 34,
    "start_time": "2022-08-28T13:31:38.810Z"
   },
   {
    "duration": 335,
    "start_time": "2022-08-28T13:31:38.846Z"
   },
   {
    "duration": 4,
    "start_time": "2022-08-28T13:31:39.183Z"
   },
   {
    "duration": 24,
    "start_time": "2022-08-28T13:31:39.189Z"
   },
   {
    "duration": 4,
    "start_time": "2022-08-28T13:31:39.219Z"
   },
   {
    "duration": 148,
    "start_time": "2022-08-28T13:31:39.225Z"
   },
   {
    "duration": 6,
    "start_time": "2022-08-28T13:31:39.375Z"
   },
   {
    "duration": 424,
    "start_time": "2022-08-28T13:31:39.383Z"
   },
   {
    "duration": 487,
    "start_time": "2022-08-28T13:31:39.808Z"
   },
   {
    "duration": 4,
    "start_time": "2022-08-28T13:31:40.297Z"
   },
   {
    "duration": 17,
    "start_time": "2022-08-28T13:31:40.302Z"
   },
   {
    "duration": 21,
    "start_time": "2022-08-28T13:31:40.320Z"
   },
   {
    "duration": 357,
    "start_time": "2022-08-28T13:31:40.342Z"
   },
   {
    "duration": 300,
    "start_time": "2022-08-28T13:31:40.701Z"
   },
   {
    "duration": 14,
    "start_time": "2022-08-28T13:31:41.012Z"
   },
   {
    "duration": 18,
    "start_time": "2022-08-28T13:31:41.029Z"
   },
   {
    "duration": 4,
    "start_time": "2022-08-28T13:31:41.049Z"
   },
   {
    "duration": 15,
    "start_time": "2022-08-28T13:31:41.055Z"
   },
   {
    "duration": 24,
    "start_time": "2022-08-28T13:31:41.072Z"
   },
   {
    "duration": 398,
    "start_time": "2022-08-28T13:31:41.098Z"
   },
   {
    "duration": 19,
    "start_time": "2022-08-28T13:31:41.498Z"
   },
   {
    "duration": 29,
    "start_time": "2022-08-28T13:31:41.519Z"
   },
   {
    "duration": 32,
    "start_time": "2022-08-28T13:31:41.554Z"
   },
   {
    "duration": 33,
    "start_time": "2022-08-28T13:31:41.588Z"
   },
   {
    "duration": 16,
    "start_time": "2022-08-28T13:31:41.623Z"
   },
   {
    "duration": 328,
    "start_time": "2022-08-28T13:31:41.640Z"
   },
   {
    "duration": 6,
    "start_time": "2022-08-28T13:31:41.969Z"
   },
   {
    "duration": 201,
    "start_time": "2022-08-28T13:31:41.977Z"
   },
   {
    "duration": 183,
    "start_time": "2022-08-28T13:31:42.180Z"
   },
   {
    "duration": 38,
    "start_time": "2022-08-28T13:31:42.364Z"
   },
   {
    "duration": 35,
    "start_time": "2022-08-28T13:31:42.411Z"
   },
   {
    "duration": 10,
    "start_time": "2022-08-28T13:31:42.449Z"
   },
   {
    "duration": 15,
    "start_time": "2022-08-28T13:31:42.460Z"
   },
   {
    "duration": 33,
    "start_time": "2022-08-28T13:31:42.477Z"
   },
   {
    "duration": 13,
    "start_time": "2022-08-28T13:31:42.511Z"
   },
   {
    "duration": 27,
    "start_time": "2022-08-28T13:31:42.526Z"
   },
   {
    "duration": 16,
    "start_time": "2022-08-28T13:31:42.555Z"
   },
   {
    "duration": 8,
    "start_time": "2022-08-28T13:31:42.573Z"
   },
   {
    "duration": 468,
    "start_time": "2022-08-28T13:31:42.582Z"
   },
   {
    "duration": 4,
    "start_time": "2022-08-28T13:31:43.051Z"
   },
   {
    "duration": 15,
    "start_time": "2022-08-28T13:31:43.056Z"
   },
   {
    "duration": 25,
    "start_time": "2022-08-28T13:31:43.072Z"
   },
   {
    "duration": 340,
    "start_time": "2022-08-28T13:31:43.098Z"
   },
   {
    "duration": 4,
    "start_time": "2022-08-28T13:31:43.440Z"
   },
   {
    "duration": 18,
    "start_time": "2022-08-28T13:31:43.446Z"
   },
   {
    "duration": 336,
    "start_time": "2022-08-28T13:31:43.466Z"
   },
   {
    "duration": 11,
    "start_time": "2022-08-28T13:31:43.804Z"
   },
   {
    "duration": 19,
    "start_time": "2022-08-28T13:31:43.817Z"
   },
   {
    "duration": 13,
    "start_time": "2022-08-28T13:31:43.838Z"
   },
   {
    "duration": 390,
    "start_time": "2022-08-28T13:31:43.853Z"
   },
   {
    "duration": 5,
    "start_time": "2022-08-28T13:31:44.245Z"
   },
   {
    "duration": 17,
    "start_time": "2022-08-28T13:31:44.252Z"
   },
   {
    "duration": 14,
    "start_time": "2022-08-28T13:31:44.270Z"
   },
   {
    "duration": 334,
    "start_time": "2022-08-28T13:31:44.286Z"
   },
   {
    "duration": 14,
    "start_time": "2022-08-28T13:31:44.622Z"
   },
   {
    "duration": 7,
    "start_time": "2022-08-28T13:31:44.637Z"
   },
   {
    "duration": 5,
    "start_time": "2022-08-28T13:31:44.646Z"
   },
   {
    "duration": 18,
    "start_time": "2022-08-28T13:31:44.652Z"
   },
   {
    "duration": 2,
    "start_time": "2022-08-28T13:31:44.672Z"
   },
   {
    "duration": 42,
    "start_time": "2022-08-28T13:31:44.675Z"
   },
   {
    "duration": 21,
    "start_time": "2022-08-28T13:31:44.718Z"
   },
   {
    "duration": 28,
    "start_time": "2022-08-28T13:31:44.740Z"
   },
   {
    "duration": 44,
    "start_time": "2022-08-28T13:31:44.770Z"
   },
   {
    "duration": 315,
    "start_time": "2022-08-28T13:31:44.815Z"
   },
   {
    "duration": 5,
    "start_time": "2022-08-28T13:31:45.132Z"
   },
   {
    "duration": 16,
    "start_time": "2022-08-28T13:31:45.139Z"
   },
   {
    "duration": 7,
    "start_time": "2022-08-28T13:31:45.157Z"
   },
   {
    "duration": 361,
    "start_time": "2022-08-28T13:31:45.166Z"
   },
   {
    "duration": 5,
    "start_time": "2022-08-28T13:31:45.529Z"
   },
   {
    "duration": 9,
    "start_time": "2022-08-28T13:31:45.536Z"
   },
   {
    "duration": 5,
    "start_time": "2022-08-28T13:31:45.547Z"
   },
   {
    "duration": 5,
    "start_time": "2022-08-28T13:31:45.553Z"
   },
   {
    "duration": 17,
    "start_time": "2022-08-28T13:31:45.559Z"
   },
   {
    "duration": 5,
    "start_time": "2022-08-28T13:31:45.577Z"
   },
   {
    "duration": 6,
    "start_time": "2022-08-28T13:31:45.611Z"
   },
   {
    "duration": 38,
    "start_time": "2022-08-28T13:31:45.619Z"
   },
   {
    "duration": 397,
    "start_time": "2022-08-28T13:31:45.666Z"
   },
   {
    "duration": 328,
    "start_time": "2022-08-28T13:31:46.064Z"
   },
   {
    "duration": 19,
    "start_time": "2022-08-28T13:31:46.394Z"
   },
   {
    "duration": 344,
    "start_time": "2022-08-28T13:31:46.415Z"
   },
   {
    "duration": 8,
    "start_time": "2022-08-28T13:31:46.760Z"
   },
   {
    "duration": 8,
    "start_time": "2022-08-28T13:31:46.769Z"
   },
   {
    "duration": 10,
    "start_time": "2022-08-28T13:31:46.778Z"
   },
   {
    "duration": 34,
    "start_time": "2022-08-28T13:31:46.789Z"
   },
   {
    "duration": 19,
    "start_time": "2022-08-28T13:31:46.824Z"
   },
   {
    "duration": 6,
    "start_time": "2022-08-28T13:31:46.844Z"
   },
   {
    "duration": 6,
    "start_time": "2022-08-28T13:31:46.852Z"
   },
   {
    "duration": 6,
    "start_time": "2022-08-28T13:31:46.860Z"
   },
   {
    "duration": 6,
    "start_time": "2022-08-28T13:31:46.867Z"
   },
   {
    "duration": 38,
    "start_time": "2022-08-28T13:31:46.874Z"
   },
   {
    "duration": 272,
    "start_time": "2022-08-28T13:31:46.914Z"
   },
   {
    "duration": 5,
    "start_time": "2022-08-28T13:31:47.187Z"
   },
   {
    "duration": 18,
    "start_time": "2022-08-28T13:31:47.193Z"
   },
   {
    "duration": 319,
    "start_time": "2022-08-28T13:31:47.212Z"
   },
   {
    "duration": 233,
    "start_time": "2022-08-28T13:31:47.532Z"
   },
   {
    "duration": 232,
    "start_time": "2022-08-28T13:31:47.767Z"
   },
   {
    "duration": 139,
    "start_time": "2022-08-28T13:31:48.000Z"
   },
   {
    "duration": 156,
    "start_time": "2022-08-28T13:31:48.141Z"
   },
   {
    "duration": 180,
    "start_time": "2022-08-28T13:31:48.299Z"
   },
   {
    "duration": 142,
    "start_time": "2022-08-28T13:31:48.480Z"
   },
   {
    "duration": 165,
    "start_time": "2022-08-28T13:31:48.624Z"
   },
   {
    "duration": 301,
    "start_time": "2022-08-28T13:31:48.791Z"
   },
   {
    "duration": 249,
    "start_time": "2022-08-28T13:31:49.094Z"
   },
   {
    "duration": 184,
    "start_time": "2022-08-28T13:31:49.345Z"
   },
   {
    "duration": 171,
    "start_time": "2022-08-28T13:31:49.531Z"
   },
   {
    "duration": 165,
    "start_time": "2022-08-28T13:31:49.703Z"
   },
   {
    "duration": 158,
    "start_time": "2022-08-28T13:31:49.870Z"
   },
   {
    "duration": 2138,
    "start_time": "2022-08-28T13:31:50.030Z"
   },
   {
    "duration": 315,
    "start_time": "2022-08-28T13:31:52.169Z"
   },
   {
    "duration": 496,
    "start_time": "2022-08-28T13:31:52.486Z"
   },
   {
    "duration": 7,
    "start_time": "2022-08-28T13:31:52.984Z"
   },
   {
    "duration": 247,
    "start_time": "2022-08-28T13:31:52.992Z"
   },
   {
    "duration": 87,
    "start_time": "2022-08-28T13:31:53.241Z"
   },
   {
    "duration": 0,
    "start_time": "2022-08-28T13:31:53.330Z"
   },
   {
    "duration": 0,
    "start_time": "2022-08-28T13:31:53.331Z"
   },
   {
    "duration": 0,
    "start_time": "2022-08-28T13:31:53.333Z"
   },
   {
    "duration": 0,
    "start_time": "2022-08-28T13:31:53.335Z"
   },
   {
    "duration": 0,
    "start_time": "2022-08-28T13:31:53.336Z"
   },
   {
    "duration": 0,
    "start_time": "2022-08-28T13:31:53.337Z"
   },
   {
    "duration": 0,
    "start_time": "2022-08-28T13:31:53.339Z"
   },
   {
    "duration": 0,
    "start_time": "2022-08-28T13:31:53.340Z"
   },
   {
    "duration": 0,
    "start_time": "2022-08-28T13:31:53.342Z"
   },
   {
    "duration": 114,
    "start_time": "2022-08-28T13:33:02.090Z"
   },
   {
    "duration": 121,
    "start_time": "2022-08-28T13:33:12.009Z"
   },
   {
    "duration": 4,
    "start_time": "2022-08-28T13:42:09.914Z"
   },
   {
    "duration": 5,
    "start_time": "2022-08-28T13:43:41.024Z"
   },
   {
    "duration": 7,
    "start_time": "2022-08-28T13:48:50.093Z"
   },
   {
    "duration": 64,
    "start_time": "2022-08-28T13:52:02.078Z"
   },
   {
    "duration": 8,
    "start_time": "2022-08-28T13:52:39.727Z"
   },
   {
    "duration": 357,
    "start_time": "2022-08-28T13:59:57.232Z"
   },
   {
    "duration": 3,
    "start_time": "2022-08-28T14:14:08.889Z"
   },
   {
    "duration": 215,
    "start_time": "2022-08-28T14:15:11.539Z"
   },
   {
    "duration": 250,
    "start_time": "2022-08-28T14:15:13.737Z"
   },
   {
    "duration": 124,
    "start_time": "2022-08-28T14:15:22.112Z"
   },
   {
    "duration": 436,
    "start_time": "2022-08-28T14:15:23.586Z"
   },
   {
    "duration": 453,
    "start_time": "2022-08-28T14:15:24.458Z"
   },
   {
    "duration": 473,
    "start_time": "2022-08-28T14:15:25.118Z"
   },
   {
    "duration": 13,
    "start_time": "2022-08-28T14:17:56.130Z"
   },
   {
    "duration": 19,
    "start_time": "2022-08-28T14:18:30.220Z"
   },
   {
    "duration": 317,
    "start_time": "2022-08-28T14:18:33.841Z"
   },
   {
    "duration": 660,
    "start_time": "2022-08-28T14:27:20.684Z"
   },
   {
    "duration": 115,
    "start_time": "2022-08-28T14:27:21.345Z"
   },
   {
    "duration": 16,
    "start_time": "2022-08-28T14:27:21.462Z"
   },
   {
    "duration": 8,
    "start_time": "2022-08-28T14:27:21.480Z"
   },
   {
    "duration": 21,
    "start_time": "2022-08-28T14:27:21.490Z"
   },
   {
    "duration": 21,
    "start_time": "2022-08-28T14:27:21.512Z"
   },
   {
    "duration": 322,
    "start_time": "2022-08-28T14:27:21.535Z"
   },
   {
    "duration": 4,
    "start_time": "2022-08-28T14:27:21.858Z"
   },
   {
    "duration": 13,
    "start_time": "2022-08-28T14:27:21.863Z"
   },
   {
    "duration": 4,
    "start_time": "2022-08-28T14:27:21.879Z"
   },
   {
    "duration": 128,
    "start_time": "2022-08-28T14:27:21.884Z"
   },
   {
    "duration": 5,
    "start_time": "2022-08-28T14:27:22.013Z"
   },
   {
    "duration": 380,
    "start_time": "2022-08-28T14:27:22.019Z"
   },
   {
    "duration": 520,
    "start_time": "2022-08-28T14:27:22.400Z"
   },
   {
    "duration": 3,
    "start_time": "2022-08-28T14:27:22.922Z"
   },
   {
    "duration": 13,
    "start_time": "2022-08-28T14:27:22.926Z"
   },
   {
    "duration": 3,
    "start_time": "2022-08-28T14:27:22.941Z"
   },
   {
    "duration": 345,
    "start_time": "2022-08-28T14:27:22.945Z"
   },
   {
    "duration": 293,
    "start_time": "2022-08-28T14:27:23.292Z"
   },
   {
    "duration": 4,
    "start_time": "2022-08-28T14:27:23.588Z"
   },
   {
    "duration": 18,
    "start_time": "2022-08-28T14:27:23.594Z"
   },
   {
    "duration": 3,
    "start_time": "2022-08-28T14:27:23.614Z"
   },
   {
    "duration": 9,
    "start_time": "2022-08-28T14:27:23.619Z"
   },
   {
    "duration": 15,
    "start_time": "2022-08-28T14:27:23.630Z"
   },
   {
    "duration": 332,
    "start_time": "2022-08-28T14:27:23.647Z"
   },
   {
    "duration": 11,
    "start_time": "2022-08-28T14:27:23.980Z"
   },
   {
    "duration": 28,
    "start_time": "2022-08-28T14:27:23.993Z"
   },
   {
    "duration": 28,
    "start_time": "2022-08-28T14:27:24.028Z"
   },
   {
    "duration": 25,
    "start_time": "2022-08-28T14:27:24.058Z"
   },
   {
    "duration": 37,
    "start_time": "2022-08-28T14:27:24.084Z"
   },
   {
    "duration": 321,
    "start_time": "2022-08-28T14:27:24.123Z"
   },
   {
    "duration": 6,
    "start_time": "2022-08-28T14:27:24.446Z"
   },
   {
    "duration": 190,
    "start_time": "2022-08-28T14:27:24.453Z"
   },
   {
    "duration": 175,
    "start_time": "2022-08-28T14:27:24.645Z"
   },
   {
    "duration": 39,
    "start_time": "2022-08-28T14:27:24.821Z"
   },
   {
    "duration": 5,
    "start_time": "2022-08-28T14:27:24.862Z"
   },
   {
    "duration": 33,
    "start_time": "2022-08-28T14:27:24.869Z"
   },
   {
    "duration": 17,
    "start_time": "2022-08-28T14:27:24.904Z"
   },
   {
    "duration": 38,
    "start_time": "2022-08-28T14:27:24.923Z"
   },
   {
    "duration": 10,
    "start_time": "2022-08-28T14:27:24.962Z"
   },
   {
    "duration": 21,
    "start_time": "2022-08-28T14:27:24.974Z"
   },
   {
    "duration": 28,
    "start_time": "2022-08-28T14:27:24.997Z"
   },
   {
    "duration": 20,
    "start_time": "2022-08-28T14:27:25.026Z"
   },
   {
    "duration": 12,
    "start_time": "2022-08-28T14:27:25.048Z"
   },
   {
    "duration": 381,
    "start_time": "2022-08-28T14:27:25.061Z"
   },
   {
    "duration": 6,
    "start_time": "2022-08-28T14:27:25.443Z"
   },
   {
    "duration": 32,
    "start_time": "2022-08-28T14:27:25.450Z"
   },
   {
    "duration": 34,
    "start_time": "2022-08-28T14:27:25.484Z"
   },
   {
    "duration": 306,
    "start_time": "2022-08-28T14:27:25.519Z"
   },
   {
    "duration": 4,
    "start_time": "2022-08-28T14:27:25.826Z"
   },
   {
    "duration": 28,
    "start_time": "2022-08-28T14:27:25.831Z"
   },
   {
    "duration": 309,
    "start_time": "2022-08-28T14:27:25.860Z"
   },
   {
    "duration": 4,
    "start_time": "2022-08-28T14:27:26.171Z"
   },
   {
    "duration": 23,
    "start_time": "2022-08-28T14:27:26.176Z"
   },
   {
    "duration": 21,
    "start_time": "2022-08-28T14:27:26.201Z"
   },
   {
    "duration": 417,
    "start_time": "2022-08-28T14:27:26.223Z"
   },
   {
    "duration": 4,
    "start_time": "2022-08-28T14:27:26.642Z"
   },
   {
    "duration": 36,
    "start_time": "2022-08-28T14:27:26.647Z"
   },
   {
    "duration": 26,
    "start_time": "2022-08-28T14:27:26.684Z"
   },
   {
    "duration": 317,
    "start_time": "2022-08-28T14:27:26.712Z"
   },
   {
    "duration": 12,
    "start_time": "2022-08-28T14:27:27.031Z"
   },
   {
    "duration": 31,
    "start_time": "2022-08-28T14:27:27.045Z"
   },
   {
    "duration": 13,
    "start_time": "2022-08-28T14:27:27.078Z"
   },
   {
    "duration": 28,
    "start_time": "2022-08-28T14:27:27.092Z"
   },
   {
    "duration": 22,
    "start_time": "2022-08-28T14:27:27.121Z"
   },
   {
    "duration": 44,
    "start_time": "2022-08-28T14:27:27.145Z"
   },
   {
    "duration": 42,
    "start_time": "2022-08-28T14:27:27.192Z"
   },
   {
    "duration": 48,
    "start_time": "2022-08-28T14:27:27.236Z"
   },
   {
    "duration": 26,
    "start_time": "2022-08-28T14:27:27.286Z"
   },
   {
    "duration": 9,
    "start_time": "2022-08-28T14:27:27.313Z"
   },
   {
    "duration": 322,
    "start_time": "2022-08-28T14:27:27.324Z"
   },
   {
    "duration": 5,
    "start_time": "2022-08-28T14:27:27.648Z"
   },
   {
    "duration": 22,
    "start_time": "2022-08-28T14:27:27.655Z"
   },
   {
    "duration": 14,
    "start_time": "2022-08-28T14:27:27.679Z"
   },
   {
    "duration": 310,
    "start_time": "2022-08-28T14:27:27.694Z"
   },
   {
    "duration": 4,
    "start_time": "2022-08-28T14:27:28.010Z"
   },
   {
    "duration": 18,
    "start_time": "2022-08-28T14:27:28.015Z"
   },
   {
    "duration": 13,
    "start_time": "2022-08-28T14:27:28.034Z"
   },
   {
    "duration": 19,
    "start_time": "2022-08-28T14:27:28.048Z"
   },
   {
    "duration": 25,
    "start_time": "2022-08-28T14:27:28.068Z"
   },
   {
    "duration": 10,
    "start_time": "2022-08-28T14:27:28.095Z"
   },
   {
    "duration": 22,
    "start_time": "2022-08-28T14:27:28.111Z"
   },
   {
    "duration": 26,
    "start_time": "2022-08-28T14:27:28.135Z"
   },
   {
    "duration": 396,
    "start_time": "2022-08-28T14:27:28.163Z"
   },
   {
    "duration": 324,
    "start_time": "2022-08-28T14:27:28.561Z"
   },
   {
    "duration": 26,
    "start_time": "2022-08-28T14:27:28.887Z"
   },
   {
    "duration": 330,
    "start_time": "2022-08-28T14:27:28.915Z"
   },
   {
    "duration": 9,
    "start_time": "2022-08-28T14:27:29.247Z"
   },
   {
    "duration": 7,
    "start_time": "2022-08-28T14:27:29.258Z"
   },
   {
    "duration": 8,
    "start_time": "2022-08-28T14:27:29.266Z"
   },
   {
    "duration": 45,
    "start_time": "2022-08-28T14:27:29.276Z"
   },
   {
    "duration": 13,
    "start_time": "2022-08-28T14:27:29.323Z"
   },
   {
    "duration": 53,
    "start_time": "2022-08-28T14:27:29.338Z"
   },
   {
    "duration": 24,
    "start_time": "2022-08-28T14:27:29.393Z"
   },
   {
    "duration": 16,
    "start_time": "2022-08-28T14:27:29.419Z"
   },
   {
    "duration": 18,
    "start_time": "2022-08-28T14:27:29.436Z"
   },
   {
    "duration": 7,
    "start_time": "2022-08-28T14:27:29.456Z"
   },
   {
    "duration": 10,
    "start_time": "2022-08-28T14:27:29.464Z"
   },
   {
    "duration": 6,
    "start_time": "2022-08-28T14:27:29.476Z"
   },
   {
    "duration": 336,
    "start_time": "2022-08-28T14:27:29.483Z"
   },
   {
    "duration": 5,
    "start_time": "2022-08-28T14:27:29.821Z"
   },
   {
    "duration": 8,
    "start_time": "2022-08-28T14:27:29.828Z"
   },
   {
    "duration": 251,
    "start_time": "2022-08-28T14:27:29.837Z"
   },
   {
    "duration": 242,
    "start_time": "2022-08-28T14:27:30.090Z"
   },
   {
    "duration": 245,
    "start_time": "2022-08-28T14:27:30.334Z"
   },
   {
    "duration": 132,
    "start_time": "2022-08-28T14:27:30.580Z"
   },
   {
    "duration": 152,
    "start_time": "2022-08-28T14:27:30.714Z"
   },
   {
    "duration": 158,
    "start_time": "2022-08-28T14:27:30.867Z"
   },
   {
    "duration": 140,
    "start_time": "2022-08-28T14:27:31.026Z"
   },
   {
    "duration": 327,
    "start_time": "2022-08-28T14:27:31.168Z"
   },
   {
    "duration": 160,
    "start_time": "2022-08-28T14:27:31.497Z"
   },
   {
    "duration": 225,
    "start_time": "2022-08-28T14:27:31.659Z"
   },
   {
    "duration": 236,
    "start_time": "2022-08-28T14:27:31.886Z"
   },
   {
    "duration": 171,
    "start_time": "2022-08-28T14:27:32.124Z"
   },
   {
    "duration": 164,
    "start_time": "2022-08-28T14:27:32.296Z"
   },
   {
    "duration": 197,
    "start_time": "2022-08-28T14:27:32.462Z"
   },
   {
    "duration": 196,
    "start_time": "2022-08-28T14:27:32.661Z"
   },
   {
    "duration": 2173,
    "start_time": "2022-08-28T14:27:32.858Z"
   },
   {
    "duration": 292,
    "start_time": "2022-08-28T14:27:35.032Z"
   },
   {
    "duration": 394,
    "start_time": "2022-08-28T14:27:35.326Z"
   },
   {
    "duration": 6,
    "start_time": "2022-08-28T14:27:35.722Z"
   },
   {
    "duration": 232,
    "start_time": "2022-08-28T14:27:35.729Z"
   },
   {
    "duration": 2,
    "start_time": "2022-08-28T14:27:35.963Z"
   },
   {
    "duration": 358,
    "start_time": "2022-08-28T14:27:35.967Z"
   },
   {
    "duration": 231,
    "start_time": "2022-08-28T14:27:36.327Z"
   },
   {
    "duration": 133,
    "start_time": "2022-08-28T14:27:36.559Z"
   },
   {
    "duration": 447,
    "start_time": "2022-08-28T14:27:36.694Z"
   },
   {
    "duration": 472,
    "start_time": "2022-08-28T14:27:37.142Z"
   },
   {
    "duration": 450,
    "start_time": "2022-08-28T14:27:37.616Z"
   },
   {
    "duration": 14,
    "start_time": "2022-08-28T14:27:38.068Z"
   },
   {
    "duration": 11,
    "start_time": "2022-08-28T14:27:38.083Z"
   },
   {
    "duration": 291,
    "start_time": "2022-08-28T14:27:38.111Z"
   },
   {
    "duration": 5,
    "start_time": "2022-08-28T14:28:41.361Z"
   },
   {
    "duration": 170,
    "start_time": "2022-08-28T14:28:42.081Z"
   },
   {
    "duration": 60,
    "start_time": "2022-08-29T10:33:01.491Z"
   },
   {
    "duration": 856,
    "start_time": "2022-08-29T10:33:10.818Z"
   },
   {
    "duration": 354,
    "start_time": "2022-08-29T10:33:11.676Z"
   },
   {
    "duration": 17,
    "start_time": "2022-08-29T10:33:12.032Z"
   },
   {
    "duration": 10,
    "start_time": "2022-08-29T10:33:12.051Z"
   },
   {
    "duration": 7,
    "start_time": "2022-08-29T10:33:12.063Z"
   },
   {
    "duration": 284,
    "start_time": "2022-08-29T10:33:12.072Z"
   },
   {
    "duration": 4,
    "start_time": "2022-08-29T10:33:12.358Z"
   },
   {
    "duration": 39,
    "start_time": "2022-08-29T10:33:12.364Z"
   },
   {
    "duration": 9,
    "start_time": "2022-08-29T10:33:12.405Z"
   },
   {
    "duration": 391,
    "start_time": "2022-08-29T10:33:12.417Z"
   },
   {
    "duration": 4,
    "start_time": "2022-08-29T10:33:12.809Z"
   },
   {
    "duration": 17,
    "start_time": "2022-08-29T10:33:12.816Z"
   },
   {
    "duration": 5,
    "start_time": "2022-08-29T10:33:12.836Z"
   },
   {
    "duration": 212,
    "start_time": "2022-08-29T10:33:12.842Z"
   },
   {
    "duration": 6,
    "start_time": "2022-08-29T10:33:13.057Z"
   },
   {
    "duration": 416,
    "start_time": "2022-08-29T10:33:13.065Z"
   },
   {
    "duration": 516,
    "start_time": "2022-08-29T10:33:13.483Z"
   },
   {
    "duration": 3,
    "start_time": "2022-08-29T10:33:14.003Z"
   },
   {
    "duration": 12,
    "start_time": "2022-08-29T10:33:14.008Z"
   },
   {
    "duration": 5,
    "start_time": "2022-08-29T10:33:14.021Z"
   },
   {
    "duration": 410,
    "start_time": "2022-08-29T10:33:14.028Z"
   },
   {
    "duration": 371,
    "start_time": "2022-08-29T10:33:14.439Z"
   },
   {
    "duration": 4,
    "start_time": "2022-08-29T10:33:14.812Z"
   },
   {
    "duration": 28,
    "start_time": "2022-08-29T10:33:14.818Z"
   },
   {
    "duration": 6,
    "start_time": "2022-08-29T10:33:14.848Z"
   },
   {
    "duration": 9,
    "start_time": "2022-08-29T10:33:14.856Z"
   },
   {
    "duration": 17,
    "start_time": "2022-08-29T10:33:14.867Z"
   },
   {
    "duration": 417,
    "start_time": "2022-08-29T10:33:14.889Z"
   },
   {
    "duration": 12,
    "start_time": "2022-08-29T10:33:15.308Z"
   },
   {
    "duration": 13,
    "start_time": "2022-08-29T10:33:15.322Z"
   },
   {
    "duration": 31,
    "start_time": "2022-08-29T10:33:15.337Z"
   },
   {
    "duration": 54,
    "start_time": "2022-08-29T10:33:15.370Z"
   },
   {
    "duration": 21,
    "start_time": "2022-08-29T10:33:15.427Z"
   },
   {
    "duration": 373,
    "start_time": "2022-08-29T10:33:15.451Z"
   },
   {
    "duration": 6,
    "start_time": "2022-08-29T10:33:15.826Z"
   },
   {
    "duration": 225,
    "start_time": "2022-08-29T10:33:15.834Z"
   },
   {
    "duration": 223,
    "start_time": "2022-08-29T10:33:16.061Z"
   },
   {
    "duration": 51,
    "start_time": "2022-08-29T10:33:16.286Z"
   },
   {
    "duration": 9,
    "start_time": "2022-08-29T10:33:16.339Z"
   },
   {
    "duration": 11,
    "start_time": "2022-08-29T10:33:16.350Z"
   },
   {
    "duration": 16,
    "start_time": "2022-08-29T10:33:16.363Z"
   },
   {
    "duration": 50,
    "start_time": "2022-08-29T10:33:16.380Z"
   },
   {
    "duration": 11,
    "start_time": "2022-08-29T10:33:16.432Z"
   },
   {
    "duration": 16,
    "start_time": "2022-08-29T10:33:16.445Z"
   },
   {
    "duration": 11,
    "start_time": "2022-08-29T10:33:16.463Z"
   },
   {
    "duration": 31,
    "start_time": "2022-08-29T10:33:16.476Z"
   },
   {
    "duration": 7,
    "start_time": "2022-08-29T10:33:16.509Z"
   },
   {
    "duration": 454,
    "start_time": "2022-08-29T10:33:16.518Z"
   },
   {
    "duration": 5,
    "start_time": "2022-08-29T10:33:16.973Z"
   },
   {
    "duration": 28,
    "start_time": "2022-08-29T10:33:16.980Z"
   },
   {
    "duration": 18,
    "start_time": "2022-08-29T10:33:17.010Z"
   },
   {
    "duration": 381,
    "start_time": "2022-08-29T10:33:17.029Z"
   },
   {
    "duration": 5,
    "start_time": "2022-08-29T10:33:17.412Z"
   },
   {
    "duration": 29,
    "start_time": "2022-08-29T10:33:17.418Z"
   },
   {
    "duration": 390,
    "start_time": "2022-08-29T10:33:17.449Z"
   },
   {
    "duration": 5,
    "start_time": "2022-08-29T10:33:17.842Z"
   },
   {
    "duration": 10,
    "start_time": "2022-08-29T10:33:17.848Z"
   },
   {
    "duration": 27,
    "start_time": "2022-08-29T10:33:17.859Z"
   },
   {
    "duration": 465,
    "start_time": "2022-08-29T10:33:17.888Z"
   },
   {
    "duration": 6,
    "start_time": "2022-08-29T10:33:18.355Z"
   },
   {
    "duration": 26,
    "start_time": "2022-08-29T10:33:18.363Z"
   },
   {
    "duration": 32,
    "start_time": "2022-08-29T10:33:18.391Z"
   },
   {
    "duration": 384,
    "start_time": "2022-08-29T10:33:18.425Z"
   },
   {
    "duration": 15,
    "start_time": "2022-08-29T10:33:18.811Z"
   },
   {
    "duration": 34,
    "start_time": "2022-08-29T10:33:18.827Z"
   },
   {
    "duration": 31,
    "start_time": "2022-08-29T10:33:18.863Z"
   },
   {
    "duration": 41,
    "start_time": "2022-08-29T10:33:18.896Z"
   },
   {
    "duration": 40,
    "start_time": "2022-08-29T10:33:18.939Z"
   },
   {
    "duration": 27,
    "start_time": "2022-08-29T10:33:18.981Z"
   },
   {
    "duration": 32,
    "start_time": "2022-08-29T10:33:19.010Z"
   },
   {
    "duration": 48,
    "start_time": "2022-08-29T10:33:19.044Z"
   },
   {
    "duration": 25,
    "start_time": "2022-08-29T10:33:19.095Z"
   },
   {
    "duration": 45,
    "start_time": "2022-08-29T10:33:19.123Z"
   },
   {
    "duration": 350,
    "start_time": "2022-08-29T10:33:19.170Z"
   },
   {
    "duration": 5,
    "start_time": "2022-08-29T10:33:19.521Z"
   },
   {
    "duration": 31,
    "start_time": "2022-08-29T10:33:19.528Z"
   },
   {
    "duration": 20,
    "start_time": "2022-08-29T10:33:19.561Z"
   },
   {
    "duration": 422,
    "start_time": "2022-08-29T10:33:19.583Z"
   },
   {
    "duration": 6,
    "start_time": "2022-08-29T10:33:20.007Z"
   },
   {
    "duration": 31,
    "start_time": "2022-08-29T10:33:20.015Z"
   },
   {
    "duration": 25,
    "start_time": "2022-08-29T10:33:20.047Z"
   },
   {
    "duration": 9,
    "start_time": "2022-08-29T10:33:20.079Z"
   },
   {
    "duration": 42,
    "start_time": "2022-08-29T10:33:20.089Z"
   },
   {
    "duration": 29,
    "start_time": "2022-08-29T10:33:20.133Z"
   },
   {
    "duration": 26,
    "start_time": "2022-08-29T10:33:20.163Z"
   },
   {
    "duration": 37,
    "start_time": "2022-08-29T10:33:20.191Z"
   },
   {
    "duration": 477,
    "start_time": "2022-08-29T10:33:20.230Z"
   },
   {
    "duration": 403,
    "start_time": "2022-08-29T10:33:20.709Z"
   },
   {
    "duration": 18,
    "start_time": "2022-08-29T10:33:21.114Z"
   },
   {
    "duration": 425,
    "start_time": "2022-08-29T10:33:21.134Z"
   },
   {
    "duration": 9,
    "start_time": "2022-08-29T10:33:21.561Z"
   },
   {
    "duration": 10,
    "start_time": "2022-08-29T10:33:21.572Z"
   },
   {
    "duration": 24,
    "start_time": "2022-08-29T10:33:21.583Z"
   },
   {
    "duration": 14,
    "start_time": "2022-08-29T10:33:21.608Z"
   },
   {
    "duration": 12,
    "start_time": "2022-08-29T10:33:21.623Z"
   },
   {
    "duration": 74,
    "start_time": "2022-08-29T10:33:21.637Z"
   },
   {
    "duration": 9,
    "start_time": "2022-08-29T10:33:21.713Z"
   },
   {
    "duration": 17,
    "start_time": "2022-08-29T10:33:21.723Z"
   },
   {
    "duration": 10,
    "start_time": "2022-08-29T10:33:21.742Z"
   },
   {
    "duration": 9,
    "start_time": "2022-08-29T10:33:21.755Z"
   },
   {
    "duration": 38,
    "start_time": "2022-08-29T10:33:21.766Z"
   },
   {
    "duration": 4,
    "start_time": "2022-08-29T10:33:21.806Z"
   },
   {
    "duration": 354,
    "start_time": "2022-08-29T10:33:21.812Z"
   },
   {
    "duration": 6,
    "start_time": "2022-08-29T10:33:22.168Z"
   },
   {
    "duration": 13,
    "start_time": "2022-08-29T10:33:22.176Z"
   },
   {
    "duration": 298,
    "start_time": "2022-08-29T10:33:22.191Z"
   },
   {
    "duration": 277,
    "start_time": "2022-08-29T10:33:22.491Z"
   },
   {
    "duration": 284,
    "start_time": "2022-08-29T10:33:22.770Z"
   },
   {
    "duration": 148,
    "start_time": "2022-08-29T10:33:23.057Z"
   },
   {
    "duration": 175,
    "start_time": "2022-08-29T10:33:23.207Z"
   },
   {
    "duration": 199,
    "start_time": "2022-08-29T10:33:23.383Z"
   },
   {
    "duration": 176,
    "start_time": "2022-08-29T10:33:23.584Z"
   },
   {
    "duration": 392,
    "start_time": "2022-08-29T10:33:23.762Z"
   },
   {
    "duration": 194,
    "start_time": "2022-08-29T10:33:24.155Z"
   },
   {
    "duration": 281,
    "start_time": "2022-08-29T10:33:24.351Z"
   },
   {
    "duration": 280,
    "start_time": "2022-08-29T10:33:24.634Z"
   },
   {
    "duration": 209,
    "start_time": "2022-08-29T10:33:24.916Z"
   },
   {
    "duration": 191,
    "start_time": "2022-08-29T10:33:25.127Z"
   },
   {
    "duration": 201,
    "start_time": "2022-08-29T10:33:25.320Z"
   },
   {
    "duration": 180,
    "start_time": "2022-08-29T10:33:25.523Z"
   },
   {
    "duration": 2635,
    "start_time": "2022-08-29T10:33:25.705Z"
   },
   {
    "duration": 388,
    "start_time": "2022-08-29T10:33:28.343Z"
   },
   {
    "duration": 571,
    "start_time": "2022-08-29T10:33:28.733Z"
   },
   {
    "duration": 8,
    "start_time": "2022-08-29T10:33:29.306Z"
   },
   {
    "duration": 305,
    "start_time": "2022-08-29T10:33:29.316Z"
   },
   {
    "duration": 3,
    "start_time": "2022-08-29T10:33:29.623Z"
   },
   {
    "duration": 392,
    "start_time": "2022-08-29T10:33:29.629Z"
   },
   {
    "duration": 269,
    "start_time": "2022-08-29T10:33:30.022Z"
   },
   {
    "duration": 175,
    "start_time": "2022-08-29T10:33:30.294Z"
   },
   {
    "duration": 508,
    "start_time": "2022-08-29T10:33:30.471Z"
   },
   {
    "duration": 519,
    "start_time": "2022-08-29T10:33:30.981Z"
   },
   {
    "duration": 502,
    "start_time": "2022-08-29T10:33:31.502Z"
   },
   {
    "duration": 16,
    "start_time": "2022-08-29T10:33:32.006Z"
   },
   {
    "duration": 13,
    "start_time": "2022-08-29T10:33:32.025Z"
   },
   {
    "duration": 371,
    "start_time": "2022-08-29T10:33:32.040Z"
   },
   {
    "duration": 800,
    "start_time": "2022-08-29T10:37:48.932Z"
   },
   {
    "duration": 1101,
    "start_time": "2022-08-29T10:38:23.990Z"
   },
   {
    "duration": 782,
    "start_time": "2022-08-29T10:39:57.585Z"
   },
   {
    "duration": 8,
    "start_time": "2022-08-29T10:40:13.951Z"
   },
   {
    "duration": 12,
    "start_time": "2022-08-29T10:40:32.565Z"
   },
   {
    "duration": 11,
    "start_time": "2022-08-29T10:40:47.616Z"
   },
   {
    "duration": 12,
    "start_time": "2022-08-29T10:41:31.537Z"
   },
   {
    "duration": 6,
    "start_time": "2022-08-29T10:46:36.144Z"
   },
   {
    "duration": 19,
    "start_time": "2022-08-29T10:47:10.733Z"
   },
   {
    "duration": 18,
    "start_time": "2022-08-29T10:47:21.754Z"
   },
   {
    "duration": 28,
    "start_time": "2022-08-29T10:47:33.067Z"
   },
   {
    "duration": 41,
    "start_time": "2022-08-29T10:47:45.633Z"
   },
   {
    "duration": 6,
    "start_time": "2022-08-29T10:48:30.771Z"
   },
   {
    "duration": 6,
    "start_time": "2022-08-29T10:49:02.997Z"
   },
   {
    "duration": 4,
    "start_time": "2022-08-29T10:56:45.842Z"
   },
   {
    "duration": 4,
    "start_time": "2022-08-29T10:56:48.616Z"
   },
   {
    "duration": 3,
    "start_time": "2022-08-29T10:56:52.715Z"
   },
   {
    "duration": 126,
    "start_time": "2022-08-29T10:56:52.722Z"
   },
   {
    "duration": 15,
    "start_time": "2022-08-29T10:56:52.850Z"
   },
   {
    "duration": 9,
    "start_time": "2022-08-29T10:56:52.866Z"
   },
   {
    "duration": 27,
    "start_time": "2022-08-29T10:56:52.876Z"
   },
   {
    "duration": 264,
    "start_time": "2022-08-29T10:56:52.906Z"
   },
   {
    "duration": 3,
    "start_time": "2022-08-29T10:56:53.172Z"
   },
   {
    "duration": 44,
    "start_time": "2022-08-29T10:56:53.176Z"
   },
   {
    "duration": 415,
    "start_time": "2022-08-29T10:56:53.222Z"
   },
   {
    "duration": 4,
    "start_time": "2022-08-29T10:56:53.638Z"
   },
   {
    "duration": 10,
    "start_time": "2022-08-29T10:56:53.643Z"
   },
   {
    "duration": 5,
    "start_time": "2022-08-29T10:56:53.654Z"
   },
   {
    "duration": 140,
    "start_time": "2022-08-29T10:56:53.660Z"
   },
   {
    "duration": 6,
    "start_time": "2022-08-29T10:56:53.802Z"
   },
   {
    "duration": 574,
    "start_time": "2022-08-29T10:56:53.813Z"
   },
   {
    "duration": 557,
    "start_time": "2022-08-29T10:56:54.389Z"
   },
   {
    "duration": 4,
    "start_time": "2022-08-29T10:56:54.947Z"
   },
   {
    "duration": 10,
    "start_time": "2022-08-29T10:56:54.953Z"
   },
   {
    "duration": 4,
    "start_time": "2022-08-29T10:56:54.965Z"
   },
   {
    "duration": 416,
    "start_time": "2022-08-29T10:56:54.971Z"
   },
   {
    "duration": 316,
    "start_time": "2022-08-29T10:56:55.389Z"
   },
   {
    "duration": 5,
    "start_time": "2022-08-29T10:56:55.707Z"
   },
   {
    "duration": 20,
    "start_time": "2022-08-29T10:56:55.713Z"
   },
   {
    "duration": 15,
    "start_time": "2022-08-29T10:56:55.735Z"
   },
   {
    "duration": 18,
    "start_time": "2022-08-29T10:56:55.752Z"
   },
   {
    "duration": 29,
    "start_time": "2022-08-29T10:56:55.772Z"
   },
   {
    "duration": 608,
    "start_time": "2022-08-29T10:56:55.803Z"
   },
   {
    "duration": 12,
    "start_time": "2022-08-29T10:56:56.413Z"
   },
   {
    "duration": 16,
    "start_time": "2022-08-29T10:56:56.427Z"
   },
   {
    "duration": 29,
    "start_time": "2022-08-29T10:56:56.444Z"
   },
   {
    "duration": 52,
    "start_time": "2022-08-29T10:56:56.475Z"
   },
   {
    "duration": 13,
    "start_time": "2022-08-29T10:56:56.529Z"
   },
   {
    "duration": 400,
    "start_time": "2022-08-29T10:56:56.543Z"
   },
   {
    "duration": 6,
    "start_time": "2022-08-29T10:56:56.945Z"
   },
   {
    "duration": 238,
    "start_time": "2022-08-29T10:56:56.952Z"
   },
   {
    "duration": 235,
    "start_time": "2022-08-29T10:56:57.192Z"
   },
   {
    "duration": 56,
    "start_time": "2022-08-29T10:56:57.428Z"
   },
   {
    "duration": 22,
    "start_time": "2022-08-29T10:56:57.486Z"
   },
   {
    "duration": 28,
    "start_time": "2022-08-29T10:56:57.510Z"
   },
   {
    "duration": 16,
    "start_time": "2022-08-29T10:56:57.541Z"
   },
   {
    "duration": 32,
    "start_time": "2022-08-29T10:56:57.559Z"
   },
   {
    "duration": 17,
    "start_time": "2022-08-29T10:56:57.597Z"
   },
   {
    "duration": 13,
    "start_time": "2022-08-29T10:56:57.617Z"
   },
   {
    "duration": 11,
    "start_time": "2022-08-29T10:56:57.632Z"
   },
   {
    "duration": 5,
    "start_time": "2022-08-29T10:56:57.644Z"
   },
   {
    "duration": 10,
    "start_time": "2022-08-29T10:56:57.650Z"
   },
   {
    "duration": 426,
    "start_time": "2022-08-29T10:56:57.662Z"
   },
   {
    "duration": 5,
    "start_time": "2022-08-29T10:56:58.090Z"
   },
   {
    "duration": 27,
    "start_time": "2022-08-29T10:56:58.105Z"
   },
   {
    "duration": 22,
    "start_time": "2022-08-29T10:56:58.134Z"
   },
   {
    "duration": 397,
    "start_time": "2022-08-29T10:56:58.158Z"
   },
   {
    "duration": 5,
    "start_time": "2022-08-29T10:56:58.558Z"
   },
   {
    "duration": 21,
    "start_time": "2022-08-29T10:56:58.564Z"
   },
   {
    "duration": 645,
    "start_time": "2022-08-29T10:56:58.586Z"
   },
   {
    "duration": 4,
    "start_time": "2022-08-29T10:56:59.233Z"
   },
   {
    "duration": 8,
    "start_time": "2022-08-29T10:56:59.239Z"
   },
   {
    "duration": 20,
    "start_time": "2022-08-29T10:56:59.249Z"
   },
   {
    "duration": 393,
    "start_time": "2022-08-29T10:56:59.271Z"
   },
   {
    "duration": 6,
    "start_time": "2022-08-29T10:56:59.665Z"
   },
   {
    "duration": 31,
    "start_time": "2022-08-29T10:56:59.673Z"
   },
   {
    "duration": 17,
    "start_time": "2022-08-29T10:56:59.706Z"
   },
   {
    "duration": 388,
    "start_time": "2022-08-29T10:56:59.725Z"
   },
   {
    "duration": 15,
    "start_time": "2022-08-29T10:57:00.115Z"
   },
   {
    "duration": 7,
    "start_time": "2022-08-29T10:57:00.132Z"
   },
   {
    "duration": 5,
    "start_time": "2022-08-29T10:57:00.141Z"
   },
   {
    "duration": 18,
    "start_time": "2022-08-29T10:57:00.148Z"
   },
   {
    "duration": 3,
    "start_time": "2022-08-29T10:57:00.168Z"
   },
   {
    "duration": 48,
    "start_time": "2022-08-29T10:57:00.172Z"
   },
   {
    "duration": 21,
    "start_time": "2022-08-29T10:57:00.222Z"
   },
   {
    "duration": 31,
    "start_time": "2022-08-29T10:57:00.245Z"
   },
   {
    "duration": 37,
    "start_time": "2022-08-29T10:57:00.277Z"
   },
   {
    "duration": 6,
    "start_time": "2022-08-29T10:57:00.317Z"
   },
   {
    "duration": 398,
    "start_time": "2022-08-29T10:57:00.325Z"
   },
   {
    "duration": 6,
    "start_time": "2022-08-29T10:57:00.725Z"
   },
   {
    "duration": 31,
    "start_time": "2022-08-29T10:57:00.733Z"
   },
   {
    "duration": 42,
    "start_time": "2022-08-29T10:57:00.765Z"
   },
   {
    "duration": 422,
    "start_time": "2022-08-29T10:57:00.809Z"
   },
   {
    "duration": 5,
    "start_time": "2022-08-29T10:57:01.233Z"
   },
   {
    "duration": 41,
    "start_time": "2022-08-29T10:57:01.241Z"
   },
   {
    "duration": 25,
    "start_time": "2022-08-29T10:57:01.284Z"
   },
   {
    "duration": 21,
    "start_time": "2022-08-29T10:57:01.311Z"
   },
   {
    "duration": 25,
    "start_time": "2022-08-29T10:57:01.334Z"
   },
   {
    "duration": 4,
    "start_time": "2022-08-29T10:57:01.361Z"
   },
   {
    "duration": 18,
    "start_time": "2022-08-29T10:57:01.367Z"
   },
   {
    "duration": 25,
    "start_time": "2022-08-29T10:57:01.387Z"
   },
   {
    "duration": 627,
    "start_time": "2022-08-29T10:57:01.414Z"
   },
   {
    "duration": 409,
    "start_time": "2022-08-29T10:57:02.043Z"
   },
   {
    "duration": 18,
    "start_time": "2022-08-29T10:57:02.455Z"
   },
   {
    "duration": 443,
    "start_time": "2022-08-29T10:57:02.475Z"
   },
   {
    "duration": 8,
    "start_time": "2022-08-29T10:57:02.920Z"
   },
   {
    "duration": 7,
    "start_time": "2022-08-29T10:57:02.929Z"
   },
   {
    "duration": 21,
    "start_time": "2022-08-29T10:57:02.938Z"
   },
   {
    "duration": 13,
    "start_time": "2022-08-29T10:57:02.961Z"
   },
   {
    "duration": 13,
    "start_time": "2022-08-29T10:57:02.976Z"
   },
   {
    "duration": 21,
    "start_time": "2022-08-29T10:57:02.991Z"
   },
   {
    "duration": 8,
    "start_time": "2022-08-29T10:57:03.014Z"
   },
   {
    "duration": 9,
    "start_time": "2022-08-29T10:57:03.023Z"
   },
   {
    "duration": 14,
    "start_time": "2022-08-29T10:57:03.034Z"
   },
   {
    "duration": 12,
    "start_time": "2022-08-29T10:57:03.049Z"
   },
   {
    "duration": 11,
    "start_time": "2022-08-29T10:57:03.063Z"
   },
   {
    "duration": 4,
    "start_time": "2022-08-29T10:57:03.075Z"
   },
   {
    "duration": 358,
    "start_time": "2022-08-29T10:57:03.080Z"
   },
   {
    "duration": 5,
    "start_time": "2022-08-29T10:57:03.440Z"
   },
   {
    "duration": 62,
    "start_time": "2022-08-29T10:57:03.446Z"
   },
   {
    "duration": 634,
    "start_time": "2022-08-29T10:57:03.510Z"
   },
   {
    "duration": 674,
    "start_time": "2022-08-29T10:57:04.146Z"
   },
   {
    "duration": 814,
    "start_time": "2022-08-29T10:57:04.822Z"
   },
   {
    "duration": 166,
    "start_time": "2022-08-29T10:57:05.637Z"
   },
   {
    "duration": 180,
    "start_time": "2022-08-29T10:57:05.805Z"
   },
   {
    "duration": 188,
    "start_time": "2022-08-29T10:57:05.987Z"
   },
   {
    "duration": 181,
    "start_time": "2022-08-29T10:57:06.177Z"
   },
   {
    "duration": 315,
    "start_time": "2022-08-29T10:57:06.360Z"
   },
   {
    "duration": 190,
    "start_time": "2022-08-29T10:57:06.677Z"
   },
   {
    "duration": 284,
    "start_time": "2022-08-29T10:57:06.869Z"
   },
   {
    "duration": 293,
    "start_time": "2022-08-29T10:57:07.155Z"
   },
   {
    "duration": 209,
    "start_time": "2022-08-29T10:57:07.450Z"
   },
   {
    "duration": 190,
    "start_time": "2022-08-29T10:57:07.661Z"
   },
   {
    "duration": 195,
    "start_time": "2022-08-29T10:57:07.853Z"
   },
   {
    "duration": 181,
    "start_time": "2022-08-29T10:57:08.050Z"
   },
   {
    "duration": 2718,
    "start_time": "2022-08-29T10:57:08.233Z"
   },
   {
    "duration": 382,
    "start_time": "2022-08-29T10:57:10.952Z"
   },
   {
    "duration": 766,
    "start_time": "2022-08-29T10:57:11.336Z"
   },
   {
    "duration": 10,
    "start_time": "2022-08-29T10:57:12.111Z"
   },
   {
    "duration": 274,
    "start_time": "2022-08-29T10:57:12.123Z"
   },
   {
    "duration": 12,
    "start_time": "2022-08-29T10:57:12.399Z"
   },
   {
    "duration": 278,
    "start_time": "2022-08-29T10:57:12.413Z"
   },
   {
    "duration": 269,
    "start_time": "2022-08-29T10:57:12.693Z"
   },
   {
    "duration": 156,
    "start_time": "2022-08-29T10:57:12.963Z"
   },
   {
    "duration": 511,
    "start_time": "2022-08-29T10:57:13.121Z"
   },
   {
    "duration": 532,
    "start_time": "2022-08-29T10:57:13.633Z"
   },
   {
    "duration": 540,
    "start_time": "2022-08-29T10:57:14.168Z"
   },
   {
    "duration": 16,
    "start_time": "2022-08-29T10:57:14.711Z"
   },
   {
    "duration": 14,
    "start_time": "2022-08-29T10:57:14.728Z"
   },
   {
    "duration": 375,
    "start_time": "2022-08-29T10:57:14.744Z"
   },
   {
    "duration": 10,
    "start_time": "2022-08-29T11:05:46.730Z"
   },
   {
    "duration": 9,
    "start_time": "2022-08-29T11:06:00.832Z"
   },
   {
    "duration": 11,
    "start_time": "2022-08-29T11:06:18.287Z"
   },
   {
    "duration": 10,
    "start_time": "2022-08-29T11:06:26.164Z"
   },
   {
    "duration": 9,
    "start_time": "2022-08-29T11:06:49.670Z"
   },
   {
    "duration": 9,
    "start_time": "2022-08-29T11:07:10.905Z"
   },
   {
    "duration": 13,
    "start_time": "2022-08-29T11:09:14.290Z"
   },
   {
    "duration": 9,
    "start_time": "2022-08-29T11:09:30.602Z"
   },
   {
    "duration": 8,
    "start_time": "2022-08-29T11:10:14.754Z"
   },
   {
    "duration": 10,
    "start_time": "2022-08-29T11:10:20.788Z"
   },
   {
    "duration": 5,
    "start_time": "2022-08-29T11:10:21.544Z"
   },
   {
    "duration": 157,
    "start_time": "2022-08-29T11:10:22.253Z"
   },
   {
    "duration": 9,
    "start_time": "2022-08-29T11:10:28.419Z"
   },
   {
    "duration": 8,
    "start_time": "2022-08-29T11:11:07.062Z"
   },
   {
    "duration": 20,
    "start_time": "2022-08-29T11:12:00.462Z"
   },
   {
    "duration": 8,
    "start_time": "2022-08-29T11:19:27.396Z"
   },
   {
    "duration": 43,
    "start_time": "2022-08-29T11:20:54.373Z"
   },
   {
    "duration": 15,
    "start_time": "2022-08-29T11:28:15.683Z"
   },
   {
    "duration": 14,
    "start_time": "2022-08-29T11:29:13.363Z"
   },
   {
    "duration": 47,
    "start_time": "2022-08-29T13:05:25.500Z"
   },
   {
    "duration": 7,
    "start_time": "2022-08-29T13:05:34.699Z"
   },
   {
    "duration": 931,
    "start_time": "2022-08-29T13:05:42.020Z"
   },
   {
    "duration": 346,
    "start_time": "2022-08-29T13:05:42.953Z"
   },
   {
    "duration": 18,
    "start_time": "2022-08-29T13:05:43.300Z"
   },
   {
    "duration": 9,
    "start_time": "2022-08-29T13:05:43.320Z"
   },
   {
    "duration": 10,
    "start_time": "2022-08-29T13:05:43.332Z"
   },
   {
    "duration": 244,
    "start_time": "2022-08-29T13:05:43.343Z"
   },
   {
    "duration": 6,
    "start_time": "2022-08-29T13:05:43.589Z"
   },
   {
    "duration": 35,
    "start_time": "2022-08-29T13:05:43.597Z"
   },
   {
    "duration": 8,
    "start_time": "2022-08-29T13:05:43.633Z"
   },
   {
    "duration": 380,
    "start_time": "2022-08-29T13:05:43.643Z"
   },
   {
    "duration": 5,
    "start_time": "2022-08-29T13:05:44.024Z"
   },
   {
    "duration": 11,
    "start_time": "2022-08-29T13:05:44.031Z"
   },
   {
    "duration": 4,
    "start_time": "2022-08-29T13:05:44.044Z"
   },
   {
    "duration": 201,
    "start_time": "2022-08-29T13:05:44.052Z"
   },
   {
    "duration": 7,
    "start_time": "2022-08-29T13:05:44.255Z"
   },
   {
    "duration": 423,
    "start_time": "2022-08-29T13:05:44.264Z"
   },
   {
    "duration": 513,
    "start_time": "2022-08-29T13:05:44.689Z"
   },
   {
    "duration": 5,
    "start_time": "2022-08-29T13:05:45.204Z"
   },
   {
    "duration": 11,
    "start_time": "2022-08-29T13:05:45.211Z"
   },
   {
    "duration": 16,
    "start_time": "2022-08-29T13:05:45.224Z"
   },
   {
    "duration": 378,
    "start_time": "2022-08-29T13:05:45.242Z"
   },
   {
    "duration": 392,
    "start_time": "2022-08-29T13:05:45.622Z"
   },
   {
    "duration": 5,
    "start_time": "2022-08-29T13:05:46.016Z"
   },
   {
    "duration": 38,
    "start_time": "2022-08-29T13:05:46.022Z"
   },
   {
    "duration": 22,
    "start_time": "2022-08-29T13:05:46.061Z"
   },
   {
    "duration": 26,
    "start_time": "2022-08-29T13:05:46.085Z"
   },
   {
    "duration": 24,
    "start_time": "2022-08-29T13:05:46.113Z"
   },
   {
    "duration": 408,
    "start_time": "2022-08-29T13:05:46.138Z"
   },
   {
    "duration": 12,
    "start_time": "2022-08-29T13:05:46.547Z"
   },
   {
    "duration": 27,
    "start_time": "2022-08-29T13:05:46.560Z"
   },
   {
    "duration": 54,
    "start_time": "2022-08-29T13:05:46.589Z"
   },
   {
    "duration": 30,
    "start_time": "2022-08-29T13:05:46.646Z"
   },
   {
    "duration": 13,
    "start_time": "2022-08-29T13:05:46.678Z"
   },
   {
    "duration": 388,
    "start_time": "2022-08-29T13:05:46.709Z"
   },
   {
    "duration": 14,
    "start_time": "2022-08-29T13:05:47.100Z"
   },
   {
    "duration": 274,
    "start_time": "2022-08-29T13:05:47.115Z"
   },
   {
    "duration": 254,
    "start_time": "2022-08-29T13:05:47.391Z"
   },
   {
    "duration": 45,
    "start_time": "2022-08-29T13:05:47.647Z"
   },
   {
    "duration": 6,
    "start_time": "2022-08-29T13:05:47.709Z"
   },
   {
    "duration": 11,
    "start_time": "2022-08-29T13:05:47.717Z"
   },
   {
    "duration": 10,
    "start_time": "2022-08-29T13:05:47.825Z"
   },
   {
    "duration": 41,
    "start_time": "2022-08-29T13:05:47.836Z"
   },
   {
    "duration": 17,
    "start_time": "2022-08-29T13:05:47.879Z"
   },
   {
    "duration": 29,
    "start_time": "2022-08-29T13:05:47.898Z"
   },
   {
    "duration": 31,
    "start_time": "2022-08-29T13:05:47.930Z"
   },
   {
    "duration": 19,
    "start_time": "2022-08-29T13:05:47.963Z"
   },
   {
    "duration": 32,
    "start_time": "2022-08-29T13:05:47.984Z"
   },
   {
    "duration": 393,
    "start_time": "2022-08-29T13:05:48.018Z"
   },
   {
    "duration": 5,
    "start_time": "2022-08-29T13:05:48.412Z"
   },
   {
    "duration": 15,
    "start_time": "2022-08-29T13:05:48.419Z"
   },
   {
    "duration": 22,
    "start_time": "2022-08-29T13:05:48.435Z"
   },
   {
    "duration": 357,
    "start_time": "2022-08-29T13:05:48.459Z"
   },
   {
    "duration": 6,
    "start_time": "2022-08-29T13:05:48.818Z"
   },
   {
    "duration": 27,
    "start_time": "2022-08-29T13:05:48.827Z"
   },
   {
    "duration": 58,
    "start_time": "2022-08-29T13:05:48.857Z"
   },
   {
    "duration": 363,
    "start_time": "2022-08-29T13:05:48.917Z"
   },
   {
    "duration": 6,
    "start_time": "2022-08-29T13:05:49.282Z"
   },
   {
    "duration": 20,
    "start_time": "2022-08-29T13:05:49.290Z"
   },
   {
    "duration": 13,
    "start_time": "2022-08-29T13:05:49.312Z"
   },
   {
    "duration": 404,
    "start_time": "2022-08-29T13:05:49.327Z"
   },
   {
    "duration": 4,
    "start_time": "2022-08-29T13:05:49.733Z"
   },
   {
    "duration": 9,
    "start_time": "2022-08-29T13:05:49.738Z"
   },
   {
    "duration": 48,
    "start_time": "2022-08-29T13:05:49.749Z"
   },
   {
    "duration": 0,
    "start_time": "2022-08-29T13:05:49.799Z"
   },
   {
    "duration": 0,
    "start_time": "2022-08-29T13:05:49.800Z"
   },
   {
    "duration": 0,
    "start_time": "2022-08-29T13:05:49.802Z"
   },
   {
    "duration": 0,
    "start_time": "2022-08-29T13:05:49.809Z"
   },
   {
    "duration": 0,
    "start_time": "2022-08-29T13:05:49.810Z"
   },
   {
    "duration": 0,
    "start_time": "2022-08-29T13:05:49.811Z"
   },
   {
    "duration": 0,
    "start_time": "2022-08-29T13:05:49.812Z"
   },
   {
    "duration": 0,
    "start_time": "2022-08-29T13:05:49.813Z"
   },
   {
    "duration": 0,
    "start_time": "2022-08-29T13:05:49.814Z"
   },
   {
    "duration": 0,
    "start_time": "2022-08-29T13:05:49.815Z"
   },
   {
    "duration": 0,
    "start_time": "2022-08-29T13:05:49.816Z"
   },
   {
    "duration": 0,
    "start_time": "2022-08-29T13:05:49.817Z"
   },
   {
    "duration": 0,
    "start_time": "2022-08-29T13:05:49.818Z"
   },
   {
    "duration": 0,
    "start_time": "2022-08-29T13:05:49.819Z"
   },
   {
    "duration": 0,
    "start_time": "2022-08-29T13:05:49.821Z"
   },
   {
    "duration": 0,
    "start_time": "2022-08-29T13:05:49.822Z"
   },
   {
    "duration": 0,
    "start_time": "2022-08-29T13:05:49.823Z"
   },
   {
    "duration": 0,
    "start_time": "2022-08-29T13:05:49.824Z"
   },
   {
    "duration": 0,
    "start_time": "2022-08-29T13:05:49.825Z"
   },
   {
    "duration": 0,
    "start_time": "2022-08-29T13:05:49.826Z"
   },
   {
    "duration": 0,
    "start_time": "2022-08-29T13:05:49.827Z"
   },
   {
    "duration": 0,
    "start_time": "2022-08-29T13:05:49.828Z"
   },
   {
    "duration": 0,
    "start_time": "2022-08-29T13:05:49.829Z"
   },
   {
    "duration": 0,
    "start_time": "2022-08-29T13:05:49.830Z"
   },
   {
    "duration": 0,
    "start_time": "2022-08-29T13:05:49.831Z"
   },
   {
    "duration": 0,
    "start_time": "2022-08-29T13:05:49.832Z"
   },
   {
    "duration": 0,
    "start_time": "2022-08-29T13:05:49.833Z"
   },
   {
    "duration": 0,
    "start_time": "2022-08-29T13:05:49.834Z"
   },
   {
    "duration": 0,
    "start_time": "2022-08-29T13:05:49.835Z"
   },
   {
    "duration": 0,
    "start_time": "2022-08-29T13:05:49.837Z"
   },
   {
    "duration": 0,
    "start_time": "2022-08-29T13:05:49.838Z"
   },
   {
    "duration": 0,
    "start_time": "2022-08-29T13:05:49.839Z"
   },
   {
    "duration": 0,
    "start_time": "2022-08-29T13:05:49.840Z"
   },
   {
    "duration": 0,
    "start_time": "2022-08-29T13:05:49.842Z"
   },
   {
    "duration": 0,
    "start_time": "2022-08-29T13:05:49.843Z"
   },
   {
    "duration": 0,
    "start_time": "2022-08-29T13:05:49.845Z"
   },
   {
    "duration": 0,
    "start_time": "2022-08-29T13:05:49.846Z"
   },
   {
    "duration": 0,
    "start_time": "2022-08-29T13:05:49.910Z"
   },
   {
    "duration": 0,
    "start_time": "2022-08-29T13:05:49.911Z"
   },
   {
    "duration": 0,
    "start_time": "2022-08-29T13:05:49.912Z"
   },
   {
    "duration": 0,
    "start_time": "2022-08-29T13:05:49.914Z"
   },
   {
    "duration": 0,
    "start_time": "2022-08-29T13:05:49.915Z"
   },
   {
    "duration": 0,
    "start_time": "2022-08-29T13:05:49.917Z"
   },
   {
    "duration": 0,
    "start_time": "2022-08-29T13:05:49.918Z"
   },
   {
    "duration": 0,
    "start_time": "2022-08-29T13:05:49.919Z"
   },
   {
    "duration": 0,
    "start_time": "2022-08-29T13:05:49.921Z"
   },
   {
    "duration": 0,
    "start_time": "2022-08-29T13:05:49.922Z"
   },
   {
    "duration": 0,
    "start_time": "2022-08-29T13:05:49.923Z"
   },
   {
    "duration": 0,
    "start_time": "2022-08-29T13:05:49.924Z"
   },
   {
    "duration": 0,
    "start_time": "2022-08-29T13:05:49.926Z"
   },
   {
    "duration": 0,
    "start_time": "2022-08-29T13:05:49.926Z"
   },
   {
    "duration": 0,
    "start_time": "2022-08-29T13:05:49.928Z"
   },
   {
    "duration": 0,
    "start_time": "2022-08-29T13:05:49.929Z"
   },
   {
    "duration": 0,
    "start_time": "2022-08-29T13:05:49.930Z"
   },
   {
    "duration": 0,
    "start_time": "2022-08-29T13:05:49.931Z"
   },
   {
    "duration": 1,
    "start_time": "2022-08-29T13:05:49.931Z"
   },
   {
    "duration": 0,
    "start_time": "2022-08-29T13:05:49.933Z"
   },
   {
    "duration": 0,
    "start_time": "2022-08-29T13:05:49.934Z"
   },
   {
    "duration": 0,
    "start_time": "2022-08-29T13:05:49.935Z"
   },
   {
    "duration": 0,
    "start_time": "2022-08-29T13:05:49.936Z"
   },
   {
    "duration": 0,
    "start_time": "2022-08-29T13:05:49.936Z"
   },
   {
    "duration": 0,
    "start_time": "2022-08-29T13:05:49.938Z"
   },
   {
    "duration": 0,
    "start_time": "2022-08-29T13:05:49.939Z"
   },
   {
    "duration": 0,
    "start_time": "2022-08-29T13:05:49.940Z"
   },
   {
    "duration": 0,
    "start_time": "2022-08-29T13:05:49.941Z"
   },
   {
    "duration": 0,
    "start_time": "2022-08-29T13:05:49.942Z"
   },
   {
    "duration": 0,
    "start_time": "2022-08-29T13:05:49.943Z"
   },
   {
    "duration": 0,
    "start_time": "2022-08-29T13:05:49.944Z"
   },
   {
    "duration": 0,
    "start_time": "2022-08-29T13:05:50.010Z"
   },
   {
    "duration": 0,
    "start_time": "2022-08-29T13:05:50.012Z"
   },
   {
    "duration": 0,
    "start_time": "2022-08-29T13:05:50.013Z"
   },
   {
    "duration": 0,
    "start_time": "2022-08-29T13:05:50.014Z"
   },
   {
    "duration": 0,
    "start_time": "2022-08-29T13:05:50.015Z"
   },
   {
    "duration": 0,
    "start_time": "2022-08-29T13:05:50.017Z"
   },
   {
    "duration": 1209,
    "start_time": "2022-08-29T13:06:00.419Z"
   },
   {
    "duration": 1605,
    "start_time": "2022-08-29T13:06:13.589Z"
   },
   {
    "duration": 781,
    "start_time": "2022-08-29T13:06:27.228Z"
   },
   {
    "duration": 750,
    "start_time": "2022-08-29T13:18:39.242Z"
   },
   {
    "duration": 804,
    "start_time": "2022-08-29T13:20:17.041Z"
   },
   {
    "duration": 816,
    "start_time": "2022-08-29T13:20:21.579Z"
   },
   {
    "duration": 826,
    "start_time": "2022-08-29T13:20:36.546Z"
   },
   {
    "duration": 726,
    "start_time": "2022-08-29T13:20:46.921Z"
   },
   {
    "duration": 10,
    "start_time": "2022-08-29T13:20:55.948Z"
   },
   {
    "duration": 3,
    "start_time": "2022-08-29T13:21:04.986Z"
   },
   {
    "duration": 107,
    "start_time": "2022-08-29T13:21:07.878Z"
   },
   {
    "duration": 17,
    "start_time": "2022-08-29T13:21:11.386Z"
   },
   {
    "duration": 14,
    "start_time": "2022-08-29T13:21:23.028Z"
   },
   {
    "duration": 356,
    "start_time": "2022-08-29T13:22:25.624Z"
   },
   {
    "duration": 6,
    "start_time": "2022-08-29T13:22:33.960Z"
   },
   {
    "duration": 4,
    "start_time": "2022-08-29T13:22:51.501Z"
   },
   {
    "duration": 6,
    "start_time": "2022-08-29T13:22:55.201Z"
   },
   {
    "duration": 15,
    "start_time": "2022-08-29T13:23:20.662Z"
   },
   {
    "duration": 14,
    "start_time": "2022-08-29T13:26:04.860Z"
   },
   {
    "duration": 4,
    "start_time": "2022-08-29T13:31:12.456Z"
   },
   {
    "duration": 13,
    "start_time": "2022-08-29T13:32:53.365Z"
   },
   {
    "duration": 355,
    "start_time": "2022-08-29T13:33:05.478Z"
   },
   {
    "duration": 13,
    "start_time": "2022-08-29T13:33:09.155Z"
   },
   {
    "duration": 8,
    "start_time": "2022-08-29T13:33:23.127Z"
   },
   {
    "duration": 18,
    "start_time": "2022-08-29T13:33:44.863Z"
   },
   {
    "duration": 12,
    "start_time": "2022-08-29T13:33:50.830Z"
   },
   {
    "duration": 28,
    "start_time": "2022-08-29T13:34:01.886Z"
   },
   {
    "duration": 34,
    "start_time": "2022-08-29T13:34:07.591Z"
   },
   {
    "duration": 18,
    "start_time": "2022-08-29T13:34:08.947Z"
   },
   {
    "duration": 10,
    "start_time": "2022-08-29T13:34:13.686Z"
   },
   {
    "duration": 13,
    "start_time": "2022-08-29T13:39:40.351Z"
   },
   {
    "duration": 306,
    "start_time": "2022-08-29T13:39:58.241Z"
   },
   {
    "duration": 5,
    "start_time": "2022-08-29T13:40:02.839Z"
   },
   {
    "duration": 8,
    "start_time": "2022-08-29T13:40:03.749Z"
   },
   {
    "duration": 5,
    "start_time": "2022-08-29T13:40:05.042Z"
   },
   {
    "duration": 419,
    "start_time": "2022-08-29T13:40:16.288Z"
   },
   {
    "duration": 4,
    "start_time": "2022-08-29T13:40:21.540Z"
   },
   {
    "duration": 8,
    "start_time": "2022-08-29T13:40:22.938Z"
   },
   {
    "duration": 5,
    "start_time": "2022-08-29T13:40:23.759Z"
   },
   {
    "duration": 4,
    "start_time": "2022-08-29T13:40:24.502Z"
   },
   {
    "duration": 14,
    "start_time": "2022-08-29T13:40:25.178Z"
   },
   {
    "duration": 5,
    "start_time": "2022-08-29T13:40:30.703Z"
   },
   {
    "duration": 7,
    "start_time": "2022-08-29T13:40:31.502Z"
   },
   {
    "duration": 19,
    "start_time": "2022-08-29T13:40:32.860Z"
   },
   {
    "duration": 313,
    "start_time": "2022-08-29T13:40:38.664Z"
   },
   {
    "duration": 324,
    "start_time": "2022-08-29T13:40:39.200Z"
   },
   {
    "duration": 21,
    "start_time": "2022-08-29T13:40:44.146Z"
   },
   {
    "duration": 318,
    "start_time": "2022-08-29T13:40:58.271Z"
   },
   {
    "duration": 9,
    "start_time": "2022-08-29T13:40:58.839Z"
   },
   {
    "duration": 2,
    "start_time": "2022-08-29T13:41:22.590Z"
   },
   {
    "duration": 10,
    "start_time": "2022-08-29T13:41:25.350Z"
   },
   {
    "duration": 160,
    "start_time": "2022-08-29T13:43:02.143Z"
   },
   {
    "duration": 10,
    "start_time": "2022-08-29T13:43:48.862Z"
   },
   {
    "duration": 11,
    "start_time": "2022-08-29T13:49:27.153Z"
   },
   {
    "duration": 11,
    "start_time": "2022-08-29T13:50:01.271Z"
   },
   {
    "duration": 4,
    "start_time": "2022-08-29T13:50:46.712Z"
   },
   {
    "duration": 17,
    "start_time": "2022-08-29T13:51:14.871Z"
   },
   {
    "duration": 121,
    "start_time": "2022-08-29T13:54:16.781Z"
   },
   {
    "duration": 18,
    "start_time": "2022-08-29T13:54:30.340Z"
   },
   {
    "duration": 38,
    "start_time": "2022-08-29T13:55:32.762Z"
   },
   {
    "duration": 47,
    "start_time": "2022-08-29T13:55:36.228Z"
   },
   {
    "duration": 22,
    "start_time": "2022-08-29T13:55:47.986Z"
   },
   {
    "duration": 13,
    "start_time": "2022-08-29T13:55:59.186Z"
   },
   {
    "duration": 3,
    "start_time": "2022-08-29T13:57:07.525Z"
   },
   {
    "duration": 43,
    "start_time": "2022-08-29T13:57:16.944Z"
   },
   {
    "duration": 14,
    "start_time": "2022-08-29T13:57:18.344Z"
   },
   {
    "duration": 2,
    "start_time": "2022-08-29T13:57:31.384Z"
   },
   {
    "duration": 13,
    "start_time": "2022-08-29T13:57:32.119Z"
   },
   {
    "duration": 44,
    "start_time": "2022-08-29T13:57:59.184Z"
   },
   {
    "duration": 44,
    "start_time": "2022-08-29T13:59:03.391Z"
   },
   {
    "duration": 11,
    "start_time": "2022-08-29T13:59:08.150Z"
   },
   {
    "duration": 42,
    "start_time": "2022-08-29T13:59:32.197Z"
   },
   {
    "duration": 10,
    "start_time": "2022-08-29T13:59:34.462Z"
   },
   {
    "duration": 11,
    "start_time": "2022-08-29T13:59:37.984Z"
   },
   {
    "duration": 25,
    "start_time": "2022-08-29T13:59:49.339Z"
   },
   {
    "duration": 26,
    "start_time": "2022-08-29T13:59:53.594Z"
   },
   {
    "duration": 24,
    "start_time": "2022-08-29T13:59:57.577Z"
   },
   {
    "duration": 17,
    "start_time": "2022-08-29T14:00:03.045Z"
   },
   {
    "duration": 2,
    "start_time": "2022-08-29T14:00:20.937Z"
   },
   {
    "duration": 12,
    "start_time": "2022-08-29T14:00:23.096Z"
   },
   {
    "duration": 10,
    "start_time": "2022-08-29T14:00:25.936Z"
   },
   {
    "duration": 24,
    "start_time": "2022-08-29T14:00:28.693Z"
   },
   {
    "duration": 24,
    "start_time": "2022-08-29T14:00:31.743Z"
   },
   {
    "duration": 14,
    "start_time": "2022-08-29T14:00:35.477Z"
   },
   {
    "duration": 118,
    "start_time": "2022-08-29T14:00:49.792Z"
   },
   {
    "duration": 110,
    "start_time": "2022-08-29T14:00:53.025Z"
   },
   {
    "duration": 10,
    "start_time": "2022-08-29T14:01:01.137Z"
   },
   {
    "duration": 9,
    "start_time": "2022-08-29T14:01:13.697Z"
   },
   {
    "duration": 24,
    "start_time": "2022-08-29T14:01:17.544Z"
   },
   {
    "duration": 25,
    "start_time": "2022-08-29T14:01:24.617Z"
   },
   {
    "duration": 15,
    "start_time": "2022-08-29T14:01:29.467Z"
   },
   {
    "duration": 118,
    "start_time": "2022-08-29T14:02:04.184Z"
   },
   {
    "duration": 3,
    "start_time": "2022-08-29T14:02:12.261Z"
   },
   {
    "duration": 131,
    "start_time": "2022-08-29T14:02:12.304Z"
   },
   {
    "duration": 17,
    "start_time": "2022-08-29T14:02:12.438Z"
   },
   {
    "duration": 10,
    "start_time": "2022-08-29T14:02:12.457Z"
   },
   {
    "duration": 6,
    "start_time": "2022-08-29T14:02:12.469Z"
   },
   {
    "duration": 275,
    "start_time": "2022-08-29T14:02:12.477Z"
   },
   {
    "duration": 383,
    "start_time": "2022-08-29T14:02:12.754Z"
   },
   {
    "duration": 4,
    "start_time": "2022-08-29T14:02:13.139Z"
   },
   {
    "duration": 13,
    "start_time": "2022-08-29T14:02:13.144Z"
   },
   {
    "duration": 4,
    "start_time": "2022-08-29T14:02:13.159Z"
   },
   {
    "duration": 140,
    "start_time": "2022-08-29T14:02:13.164Z"
   },
   {
    "duration": 5,
    "start_time": "2022-08-29T14:02:13.309Z"
   },
   {
    "duration": 502,
    "start_time": "2022-08-29T14:02:13.316Z"
   },
   {
    "duration": 519,
    "start_time": "2022-08-29T14:02:13.820Z"
   },
   {
    "duration": 4,
    "start_time": "2022-08-29T14:02:14.342Z"
   },
   {
    "duration": 13,
    "start_time": "2022-08-29T14:02:14.348Z"
   },
   {
    "duration": 14,
    "start_time": "2022-08-29T14:02:14.363Z"
   },
   {
    "duration": 380,
    "start_time": "2022-08-29T14:02:14.379Z"
   },
   {
    "duration": 267,
    "start_time": "2022-08-29T14:02:14.761Z"
   },
   {
    "duration": 4,
    "start_time": "2022-08-29T14:02:15.030Z"
   },
   {
    "duration": 17,
    "start_time": "2022-08-29T14:02:15.036Z"
   },
   {
    "duration": 7,
    "start_time": "2022-08-29T14:02:15.055Z"
   },
   {
    "duration": 11,
    "start_time": "2022-08-29T14:02:15.063Z"
   },
   {
    "duration": 18,
    "start_time": "2022-08-29T14:02:15.076Z"
   },
   {
    "duration": 502,
    "start_time": "2022-08-29T14:02:15.095Z"
   },
   {
    "duration": 3,
    "start_time": "2022-08-29T14:02:15.598Z"
   },
   {
    "duration": 25,
    "start_time": "2022-08-29T14:02:15.608Z"
   },
   {
    "duration": 12,
    "start_time": "2022-08-29T14:02:15.636Z"
   },
   {
    "duration": 40,
    "start_time": "2022-08-29T14:02:15.650Z"
   },
   {
    "duration": 39,
    "start_time": "2022-08-29T14:02:15.691Z"
   },
   {
    "duration": 3,
    "start_time": "2022-08-29T14:02:15.732Z"
   },
   {
    "duration": 17,
    "start_time": "2022-08-29T14:02:15.736Z"
   },
   {
    "duration": 399,
    "start_time": "2022-08-29T14:02:15.755Z"
   },
   {
    "duration": 7,
    "start_time": "2022-08-29T14:02:16.155Z"
   },
   {
    "duration": 202,
    "start_time": "2022-08-29T14:02:16.164Z"
   },
   {
    "duration": 195,
    "start_time": "2022-08-29T14:02:16.368Z"
   },
   {
    "duration": 48,
    "start_time": "2022-08-29T14:02:16.564Z"
   },
   {
    "duration": 5,
    "start_time": "2022-08-29T14:02:16.614Z"
   },
   {
    "duration": 9,
    "start_time": "2022-08-29T14:02:16.621Z"
   },
   {
    "duration": 13,
    "start_time": "2022-08-29T14:02:16.632Z"
   },
   {
    "duration": 27,
    "start_time": "2022-08-29T14:02:16.647Z"
   },
   {
    "duration": 35,
    "start_time": "2022-08-29T14:02:16.679Z"
   },
   {
    "duration": 10,
    "start_time": "2022-08-29T14:02:16.715Z"
   },
   {
    "duration": 10,
    "start_time": "2022-08-29T14:02:16.726Z"
   },
   {
    "duration": 4,
    "start_time": "2022-08-29T14:02:16.738Z"
   },
   {
    "duration": 8,
    "start_time": "2022-08-29T14:02:16.743Z"
   },
   {
    "duration": 7,
    "start_time": "2022-08-29T14:02:16.753Z"
   },
   {
    "duration": 467,
    "start_time": "2022-08-29T14:02:16.761Z"
   },
   {
    "duration": 6,
    "start_time": "2022-08-29T14:02:17.230Z"
   },
   {
    "duration": 15,
    "start_time": "2022-08-29T14:02:17.238Z"
   },
   {
    "duration": 28,
    "start_time": "2022-08-29T14:02:17.255Z"
   },
   {
    "duration": 393,
    "start_time": "2022-08-29T14:02:17.285Z"
   },
   {
    "duration": 5,
    "start_time": "2022-08-29T14:02:17.680Z"
   },
   {
    "duration": 30,
    "start_time": "2022-08-29T14:02:17.687Z"
   },
   {
    "duration": 40,
    "start_time": "2022-08-29T14:02:17.720Z"
   },
   {
    "duration": 348,
    "start_time": "2022-08-29T14:02:17.762Z"
   },
   {
    "duration": 4,
    "start_time": "2022-08-29T14:02:18.112Z"
   },
   {
    "duration": 11,
    "start_time": "2022-08-29T14:02:18.117Z"
   },
   {
    "duration": 14,
    "start_time": "2022-08-29T14:02:18.129Z"
   },
   {
    "duration": 331,
    "start_time": "2022-08-29T14:02:18.144Z"
   },
   {
    "duration": 5,
    "start_time": "2022-08-29T14:02:18.477Z"
   },
   {
    "duration": 5,
    "start_time": "2022-08-29T14:02:18.484Z"
   },
   {
    "duration": 19,
    "start_time": "2022-08-29T14:02:18.491Z"
   },
   {
    "duration": 6,
    "start_time": "2022-08-29T14:02:18.512Z"
   },
   {
    "duration": 6,
    "start_time": "2022-08-29T14:02:18.520Z"
   },
   {
    "duration": 449,
    "start_time": "2022-08-29T14:02:18.527Z"
   },
   {
    "duration": 11,
    "start_time": "2022-08-29T14:02:18.978Z"
   },
   {
    "duration": 0,
    "start_time": "2022-08-29T14:02:18.990Z"
   },
   {
    "duration": 0,
    "start_time": "2022-08-29T14:02:18.992Z"
   },
   {
    "duration": 0,
    "start_time": "2022-08-29T14:02:18.993Z"
   },
   {
    "duration": 0,
    "start_time": "2022-08-29T14:02:19.009Z"
   },
   {
    "duration": 0,
    "start_time": "2022-08-29T14:02:19.010Z"
   },
   {
    "duration": 0,
    "start_time": "2022-08-29T14:02:19.011Z"
   },
   {
    "duration": 0,
    "start_time": "2022-08-29T14:02:19.012Z"
   },
   {
    "duration": 0,
    "start_time": "2022-08-29T14:02:19.013Z"
   },
   {
    "duration": 0,
    "start_time": "2022-08-29T14:02:19.014Z"
   },
   {
    "duration": 0,
    "start_time": "2022-08-29T14:02:19.015Z"
   },
   {
    "duration": 0,
    "start_time": "2022-08-29T14:02:19.016Z"
   },
   {
    "duration": 0,
    "start_time": "2022-08-29T14:02:19.017Z"
   },
   {
    "duration": 0,
    "start_time": "2022-08-29T14:02:19.018Z"
   },
   {
    "duration": 0,
    "start_time": "2022-08-29T14:02:19.019Z"
   },
   {
    "duration": 0,
    "start_time": "2022-08-29T14:02:19.020Z"
   },
   {
    "duration": 0,
    "start_time": "2022-08-29T14:02:19.021Z"
   },
   {
    "duration": 0,
    "start_time": "2022-08-29T14:02:19.022Z"
   },
   {
    "duration": 0,
    "start_time": "2022-08-29T14:02:19.023Z"
   },
   {
    "duration": 0,
    "start_time": "2022-08-29T14:02:19.024Z"
   },
   {
    "duration": 0,
    "start_time": "2022-08-29T14:02:19.025Z"
   },
   {
    "duration": 0,
    "start_time": "2022-08-29T14:02:19.026Z"
   },
   {
    "duration": 0,
    "start_time": "2022-08-29T14:02:19.027Z"
   },
   {
    "duration": 0,
    "start_time": "2022-08-29T14:02:19.028Z"
   },
   {
    "duration": 0,
    "start_time": "2022-08-29T14:02:19.029Z"
   },
   {
    "duration": 0,
    "start_time": "2022-08-29T14:02:19.030Z"
   },
   {
    "duration": 0,
    "start_time": "2022-08-29T14:02:19.031Z"
   },
   {
    "duration": 0,
    "start_time": "2022-08-29T14:02:19.032Z"
   },
   {
    "duration": 1,
    "start_time": "2022-08-29T14:02:19.033Z"
   },
   {
    "duration": 0,
    "start_time": "2022-08-29T14:02:19.037Z"
   },
   {
    "duration": 0,
    "start_time": "2022-08-29T14:02:19.038Z"
   },
   {
    "duration": 0,
    "start_time": "2022-08-29T14:02:19.039Z"
   },
   {
    "duration": 0,
    "start_time": "2022-08-29T14:02:19.040Z"
   },
   {
    "duration": 0,
    "start_time": "2022-08-29T14:02:19.041Z"
   },
   {
    "duration": 0,
    "start_time": "2022-08-29T14:02:19.042Z"
   },
   {
    "duration": 0,
    "start_time": "2022-08-29T14:02:19.044Z"
   },
   {
    "duration": 0,
    "start_time": "2022-08-29T14:02:19.045Z"
   },
   {
    "duration": 0,
    "start_time": "2022-08-29T14:02:19.046Z"
   },
   {
    "duration": 0,
    "start_time": "2022-08-29T14:02:19.049Z"
   },
   {
    "duration": 0,
    "start_time": "2022-08-29T14:02:19.051Z"
   },
   {
    "duration": 0,
    "start_time": "2022-08-29T14:02:19.052Z"
   },
   {
    "duration": 0,
    "start_time": "2022-08-29T14:02:19.110Z"
   },
   {
    "duration": 0,
    "start_time": "2022-08-29T14:02:19.111Z"
   },
   {
    "duration": 0,
    "start_time": "2022-08-29T14:02:19.112Z"
   },
   {
    "duration": 0,
    "start_time": "2022-08-29T14:02:19.113Z"
   },
   {
    "duration": 0,
    "start_time": "2022-08-29T14:02:19.114Z"
   },
   {
    "duration": 0,
    "start_time": "2022-08-29T14:02:19.115Z"
   },
   {
    "duration": 0,
    "start_time": "2022-08-29T14:02:19.116Z"
   },
   {
    "duration": 0,
    "start_time": "2022-08-29T14:02:19.117Z"
   },
   {
    "duration": 0,
    "start_time": "2022-08-29T14:02:19.118Z"
   },
   {
    "duration": 0,
    "start_time": "2022-08-29T14:02:19.119Z"
   },
   {
    "duration": 0,
    "start_time": "2022-08-29T14:02:19.120Z"
   },
   {
    "duration": 0,
    "start_time": "2022-08-29T14:02:19.121Z"
   },
   {
    "duration": 0,
    "start_time": "2022-08-29T14:02:19.122Z"
   },
   {
    "duration": 0,
    "start_time": "2022-08-29T14:02:19.123Z"
   },
   {
    "duration": 0,
    "start_time": "2022-08-29T14:02:19.124Z"
   },
   {
    "duration": 0,
    "start_time": "2022-08-29T14:02:19.125Z"
   },
   {
    "duration": 0,
    "start_time": "2022-08-29T14:02:19.126Z"
   },
   {
    "duration": 0,
    "start_time": "2022-08-29T14:02:19.127Z"
   },
   {
    "duration": 0,
    "start_time": "2022-08-29T14:02:19.128Z"
   },
   {
    "duration": 0,
    "start_time": "2022-08-29T14:02:19.129Z"
   },
   {
    "duration": 0,
    "start_time": "2022-08-29T14:02:19.130Z"
   },
   {
    "duration": 0,
    "start_time": "2022-08-29T14:02:19.131Z"
   },
   {
    "duration": 0,
    "start_time": "2022-08-29T14:02:19.132Z"
   },
   {
    "duration": 0,
    "start_time": "2022-08-29T14:02:19.133Z"
   },
   {
    "duration": 0,
    "start_time": "2022-08-29T14:02:19.134Z"
   },
   {
    "duration": 0,
    "start_time": "2022-08-29T14:02:19.135Z"
   },
   {
    "duration": 0,
    "start_time": "2022-08-29T14:02:19.136Z"
   },
   {
    "duration": 0,
    "start_time": "2022-08-29T14:02:19.137Z"
   },
   {
    "duration": 0,
    "start_time": "2022-08-29T14:02:19.138Z"
   },
   {
    "duration": 8,
    "start_time": "2022-08-29T14:03:20.824Z"
   },
   {
    "duration": 9,
    "start_time": "2022-08-29T14:03:38.030Z"
   },
   {
    "duration": 14,
    "start_time": "2022-08-29T14:04:13.862Z"
   },
   {
    "duration": 5,
    "start_time": "2022-08-29T14:04:25.438Z"
   },
   {
    "duration": 4,
    "start_time": "2022-08-29T14:06:32.183Z"
   },
   {
    "duration": 61,
    "start_time": "2022-08-29T14:18:07.165Z"
   },
   {
    "duration": 7,
    "start_time": "2022-08-29T14:18:14.589Z"
   },
   {
    "duration": 8,
    "start_time": "2022-08-29T14:18:21.514Z"
   },
   {
    "duration": 8,
    "start_time": "2022-08-29T14:18:37.109Z"
   },
   {
    "duration": 7,
    "start_time": "2022-08-29T14:18:47.485Z"
   },
   {
    "duration": 5,
    "start_time": "2022-08-29T14:20:02.925Z"
   },
   {
    "duration": 10,
    "start_time": "2022-08-29T14:20:05.709Z"
   },
   {
    "duration": 82,
    "start_time": "2022-08-29T14:21:25.349Z"
   },
   {
    "duration": 21,
    "start_time": "2022-08-29T14:21:33.045Z"
   },
   {
    "duration": 12,
    "start_time": "2022-08-29T14:21:36.045Z"
   },
   {
    "duration": 30,
    "start_time": "2022-08-29T14:21:40.838Z"
   },
   {
    "duration": 36,
    "start_time": "2022-08-29T14:21:47.589Z"
   },
   {
    "duration": 12,
    "start_time": "2022-08-29T14:21:56.795Z"
   },
   {
    "duration": 20,
    "start_time": "2022-08-29T14:24:03.115Z"
   },
   {
    "duration": 20,
    "start_time": "2022-08-29T14:24:16.831Z"
   },
   {
    "duration": 11,
    "start_time": "2022-08-29T14:26:11.336Z"
   },
   {
    "duration": 20,
    "start_time": "2022-08-29T14:27:26.456Z"
   },
   {
    "duration": 117,
    "start_time": "2022-08-29T14:28:30.257Z"
   },
   {
    "duration": 111,
    "start_time": "2022-08-29T14:28:41.585Z"
   },
   {
    "duration": 125,
    "start_time": "2022-08-29T14:29:05.104Z"
   },
   {
    "duration": 3,
    "start_time": "2022-08-29T14:30:57.316Z"
   },
   {
    "duration": 129,
    "start_time": "2022-08-29T14:30:57.322Z"
   },
   {
    "duration": 15,
    "start_time": "2022-08-29T14:30:57.453Z"
   },
   {
    "duration": 9,
    "start_time": "2022-08-29T14:30:57.469Z"
   },
   {
    "duration": 5,
    "start_time": "2022-08-29T14:30:57.509Z"
   },
   {
    "duration": 239,
    "start_time": "2022-08-29T14:30:57.515Z"
   },
   {
    "duration": 466,
    "start_time": "2022-08-29T14:30:57.755Z"
   },
   {
    "duration": 4,
    "start_time": "2022-08-29T14:30:58.222Z"
   },
   {
    "duration": 11,
    "start_time": "2022-08-29T14:30:58.228Z"
   },
   {
    "duration": 3,
    "start_time": "2022-08-29T14:30:58.241Z"
   },
   {
    "duration": 122,
    "start_time": "2022-08-29T14:30:58.246Z"
   },
   {
    "duration": 5,
    "start_time": "2022-08-29T14:30:58.370Z"
   },
   {
    "duration": 363,
    "start_time": "2022-08-29T14:30:58.377Z"
   },
   {
    "duration": 462,
    "start_time": "2022-08-29T14:30:58.742Z"
   },
   {
    "duration": 4,
    "start_time": "2022-08-29T14:30:59.209Z"
   },
   {
    "duration": 13,
    "start_time": "2022-08-29T14:30:59.215Z"
   },
   {
    "duration": 7,
    "start_time": "2022-08-29T14:30:59.230Z"
   },
   {
    "duration": 445,
    "start_time": "2022-08-29T14:30:59.238Z"
   },
   {
    "duration": 260,
    "start_time": "2022-08-29T14:30:59.685Z"
   },
   {
    "duration": 4,
    "start_time": "2022-08-29T14:30:59.947Z"
   },
   {
    "duration": 10,
    "start_time": "2022-08-29T14:30:59.953Z"
   },
   {
    "duration": 7,
    "start_time": "2022-08-29T14:30:59.965Z"
   },
   {
    "duration": 8,
    "start_time": "2022-08-29T14:30:59.974Z"
   },
   {
    "duration": 29,
    "start_time": "2022-08-29T14:30:59.984Z"
   },
   {
    "duration": 375,
    "start_time": "2022-08-29T14:31:00.015Z"
   },
   {
    "duration": 5,
    "start_time": "2022-08-29T14:31:00.392Z"
   },
   {
    "duration": 83,
    "start_time": "2022-08-29T14:31:00.409Z"
   },
   {
    "duration": 29,
    "start_time": "2022-08-29T14:31:00.494Z"
   },
   {
    "duration": 12,
    "start_time": "2022-08-29T14:31:00.527Z"
   },
   {
    "duration": 37,
    "start_time": "2022-08-29T14:31:00.541Z"
   },
   {
    "duration": 55,
    "start_time": "2022-08-29T14:31:00.580Z"
   },
   {
    "duration": 3,
    "start_time": "2022-08-29T14:31:00.636Z"
   },
   {
    "duration": 23,
    "start_time": "2022-08-29T14:31:00.641Z"
   },
   {
    "duration": 456,
    "start_time": "2022-08-29T14:31:00.666Z"
   },
   {
    "duration": 7,
    "start_time": "2022-08-29T14:31:01.123Z"
   },
   {
    "duration": 247,
    "start_time": "2022-08-29T14:31:01.131Z"
   },
   {
    "duration": 222,
    "start_time": "2022-08-29T14:31:01.380Z"
   },
   {
    "duration": 47,
    "start_time": "2022-08-29T14:31:01.604Z"
   },
   {
    "duration": 208,
    "start_time": "2022-08-29T14:31:01.653Z"
   },
   {
    "duration": 48,
    "start_time": "2022-08-29T14:31:01.862Z"
   },
   {
    "duration": 46,
    "start_time": "2022-08-29T14:31:01.912Z"
   },
   {
    "duration": 42,
    "start_time": "2022-08-29T14:31:01.960Z"
   },
   {
    "duration": 11,
    "start_time": "2022-08-29T14:31:02.004Z"
   },
   {
    "duration": 9,
    "start_time": "2022-08-29T14:31:02.017Z"
   },
   {
    "duration": 15,
    "start_time": "2022-08-29T14:31:02.028Z"
   },
   {
    "duration": 75,
    "start_time": "2022-08-29T14:31:02.045Z"
   },
   {
    "duration": 46,
    "start_time": "2022-08-29T14:31:02.121Z"
   },
   {
    "duration": 19,
    "start_time": "2022-08-29T14:31:02.169Z"
   },
   {
    "duration": 341,
    "start_time": "2022-08-29T14:31:02.190Z"
   },
   {
    "duration": 4,
    "start_time": "2022-08-29T14:31:02.533Z"
   },
   {
    "duration": 14,
    "start_time": "2022-08-29T14:31:02.539Z"
   },
   {
    "duration": 19,
    "start_time": "2022-08-29T14:31:02.555Z"
   },
   {
    "duration": 348,
    "start_time": "2022-08-29T14:31:02.575Z"
   },
   {
    "duration": 4,
    "start_time": "2022-08-29T14:31:02.924Z"
   },
   {
    "duration": 20,
    "start_time": "2022-08-29T14:31:02.930Z"
   },
   {
    "duration": 39,
    "start_time": "2022-08-29T14:31:02.951Z"
   },
   {
    "duration": 453,
    "start_time": "2022-08-29T14:31:03.010Z"
   },
   {
    "duration": 4,
    "start_time": "2022-08-29T14:31:03.465Z"
   },
   {
    "duration": 8,
    "start_time": "2022-08-29T14:31:03.470Z"
   },
   {
    "duration": 15,
    "start_time": "2022-08-29T14:31:03.479Z"
   },
   {
    "duration": 334,
    "start_time": "2022-08-29T14:31:03.496Z"
   },
   {
    "duration": 5,
    "start_time": "2022-08-29T14:31:03.832Z"
   },
   {
    "duration": 7,
    "start_time": "2022-08-29T14:31:03.838Z"
   },
   {
    "duration": 9,
    "start_time": "2022-08-29T14:31:03.847Z"
   },
   {
    "duration": 6,
    "start_time": "2022-08-29T14:31:03.857Z"
   },
   {
    "duration": 6,
    "start_time": "2022-08-29T14:31:03.864Z"
   },
   {
    "duration": 337,
    "start_time": "2022-08-29T14:31:03.872Z"
   },
   {
    "duration": 12,
    "start_time": "2022-08-29T14:31:04.210Z"
   },
   {
    "duration": 0,
    "start_time": "2022-08-29T14:31:04.225Z"
   },
   {
    "duration": 0,
    "start_time": "2022-08-29T14:31:04.226Z"
   },
   {
    "duration": 0,
    "start_time": "2022-08-29T14:31:04.228Z"
   },
   {
    "duration": 0,
    "start_time": "2022-08-29T14:31:04.228Z"
   },
   {
    "duration": 0,
    "start_time": "2022-08-29T14:31:04.229Z"
   },
   {
    "duration": 0,
    "start_time": "2022-08-29T14:31:04.230Z"
   },
   {
    "duration": 0,
    "start_time": "2022-08-29T14:31:04.232Z"
   },
   {
    "duration": 0,
    "start_time": "2022-08-29T14:31:04.232Z"
   },
   {
    "duration": 0,
    "start_time": "2022-08-29T14:31:04.233Z"
   },
   {
    "duration": 0,
    "start_time": "2022-08-29T14:31:04.234Z"
   },
   {
    "duration": 0,
    "start_time": "2022-08-29T14:31:04.235Z"
   },
   {
    "duration": 0,
    "start_time": "2022-08-29T14:31:04.235Z"
   },
   {
    "duration": 0,
    "start_time": "2022-08-29T14:31:04.237Z"
   },
   {
    "duration": 0,
    "start_time": "2022-08-29T14:31:04.238Z"
   },
   {
    "duration": 0,
    "start_time": "2022-08-29T14:31:04.239Z"
   },
   {
    "duration": 0,
    "start_time": "2022-08-29T14:31:04.240Z"
   },
   {
    "duration": 0,
    "start_time": "2022-08-29T14:31:04.241Z"
   },
   {
    "duration": 0,
    "start_time": "2022-08-29T14:31:04.242Z"
   },
   {
    "duration": 0,
    "start_time": "2022-08-29T14:31:04.243Z"
   },
   {
    "duration": 0,
    "start_time": "2022-08-29T14:31:04.244Z"
   },
   {
    "duration": 0,
    "start_time": "2022-08-29T14:31:04.245Z"
   },
   {
    "duration": 0,
    "start_time": "2022-08-29T14:31:04.246Z"
   },
   {
    "duration": 0,
    "start_time": "2022-08-29T14:31:04.247Z"
   },
   {
    "duration": 0,
    "start_time": "2022-08-29T14:31:04.248Z"
   },
   {
    "duration": 0,
    "start_time": "2022-08-29T14:31:04.249Z"
   },
   {
    "duration": 0,
    "start_time": "2022-08-29T14:31:04.250Z"
   },
   {
    "duration": 0,
    "start_time": "2022-08-29T14:31:04.251Z"
   },
   {
    "duration": 0,
    "start_time": "2022-08-29T14:31:04.252Z"
   },
   {
    "duration": 0,
    "start_time": "2022-08-29T14:31:04.309Z"
   },
   {
    "duration": 0,
    "start_time": "2022-08-29T14:31:04.310Z"
   },
   {
    "duration": 0,
    "start_time": "2022-08-29T14:31:04.311Z"
   },
   {
    "duration": 0,
    "start_time": "2022-08-29T14:31:04.312Z"
   },
   {
    "duration": 0,
    "start_time": "2022-08-29T14:31:04.313Z"
   },
   {
    "duration": 0,
    "start_time": "2022-08-29T14:31:04.314Z"
   },
   {
    "duration": 0,
    "start_time": "2022-08-29T14:31:04.316Z"
   },
   {
    "duration": 0,
    "start_time": "2022-08-29T14:31:04.316Z"
   },
   {
    "duration": 0,
    "start_time": "2022-08-29T14:31:04.317Z"
   },
   {
    "duration": 0,
    "start_time": "2022-08-29T14:31:04.318Z"
   },
   {
    "duration": 0,
    "start_time": "2022-08-29T14:31:04.319Z"
   },
   {
    "duration": 0,
    "start_time": "2022-08-29T14:31:04.320Z"
   },
   {
    "duration": 0,
    "start_time": "2022-08-29T14:31:04.321Z"
   },
   {
    "duration": 0,
    "start_time": "2022-08-29T14:31:04.322Z"
   },
   {
    "duration": 0,
    "start_time": "2022-08-29T14:31:04.323Z"
   },
   {
    "duration": 0,
    "start_time": "2022-08-29T14:31:04.324Z"
   },
   {
    "duration": 0,
    "start_time": "2022-08-29T14:31:04.325Z"
   },
   {
    "duration": 0,
    "start_time": "2022-08-29T14:31:04.327Z"
   },
   {
    "duration": 0,
    "start_time": "2022-08-29T14:31:04.328Z"
   },
   {
    "duration": 0,
    "start_time": "2022-08-29T14:31:04.329Z"
   },
   {
    "duration": 0,
    "start_time": "2022-08-29T14:31:04.331Z"
   },
   {
    "duration": 0,
    "start_time": "2022-08-29T14:31:04.332Z"
   },
   {
    "duration": 0,
    "start_time": "2022-08-29T14:31:04.333Z"
   },
   {
    "duration": 0,
    "start_time": "2022-08-29T14:31:04.334Z"
   },
   {
    "duration": 0,
    "start_time": "2022-08-29T14:31:04.335Z"
   },
   {
    "duration": 0,
    "start_time": "2022-08-29T14:31:04.337Z"
   },
   {
    "duration": 0,
    "start_time": "2022-08-29T14:31:04.337Z"
   },
   {
    "duration": 0,
    "start_time": "2022-08-29T14:31:04.339Z"
   },
   {
    "duration": 0,
    "start_time": "2022-08-29T14:31:04.339Z"
   },
   {
    "duration": 0,
    "start_time": "2022-08-29T14:31:04.340Z"
   },
   {
    "duration": 0,
    "start_time": "2022-08-29T14:31:04.342Z"
   },
   {
    "duration": 0,
    "start_time": "2022-08-29T14:31:04.343Z"
   },
   {
    "duration": 0,
    "start_time": "2022-08-29T14:31:04.344Z"
   },
   {
    "duration": 0,
    "start_time": "2022-08-29T14:31:04.346Z"
   },
   {
    "duration": 0,
    "start_time": "2022-08-29T14:31:04.347Z"
   },
   {
    "duration": 0,
    "start_time": "2022-08-29T14:31:04.409Z"
   },
   {
    "duration": 0,
    "start_time": "2022-08-29T14:31:04.411Z"
   },
   {
    "duration": 0,
    "start_time": "2022-08-29T14:31:04.412Z"
   },
   {
    "duration": 1,
    "start_time": "2022-08-29T14:31:04.413Z"
   },
   {
    "duration": 0,
    "start_time": "2022-08-29T14:31:04.415Z"
   },
   {
    "duration": 0,
    "start_time": "2022-08-29T14:31:04.416Z"
   },
   {
    "duration": 7,
    "start_time": "2022-08-29T14:31:33.864Z"
   },
   {
    "duration": 16,
    "start_time": "2022-08-29T14:31:42.710Z"
   },
   {
    "duration": 117,
    "start_time": "2022-08-29T14:33:29.197Z"
   },
   {
    "duration": 102,
    "start_time": "2022-08-29T14:34:22.866Z"
   },
   {
    "duration": 29,
    "start_time": "2022-08-29T14:35:28.306Z"
   },
   {
    "duration": 7,
    "start_time": "2022-08-29T14:36:27.440Z"
   },
   {
    "duration": 6,
    "start_time": "2022-08-29T14:36:45.749Z"
   },
   {
    "duration": 6,
    "start_time": "2022-08-29T14:36:51.559Z"
   },
   {
    "duration": 177,
    "start_time": "2022-08-29T14:37:00.939Z"
   },
   {
    "duration": 17,
    "start_time": "2022-08-29T14:37:40.221Z"
   },
   {
    "duration": 9,
    "start_time": "2022-08-29T14:37:58.690Z"
   },
   {
    "duration": 444,
    "start_time": "2022-08-29T14:40:43.921Z"
   },
   {
    "duration": 301,
    "start_time": "2022-08-29T14:41:38.903Z"
   },
   {
    "duration": 4,
    "start_time": "2022-08-29T14:42:37.603Z"
   },
   {
    "duration": 349,
    "start_time": "2022-08-29T14:42:48.902Z"
   },
   {
    "duration": 7,
    "start_time": "2022-08-29T14:44:38.394Z"
   },
   {
    "duration": 14,
    "start_time": "2022-08-29T14:46:05.469Z"
   },
   {
    "duration": 4,
    "start_time": "2022-08-29T14:46:49.629Z"
   },
   {
    "duration": 5,
    "start_time": "2022-08-29T14:47:15.659Z"
   },
   {
    "duration": 272,
    "start_time": "2022-08-29T14:47:16.356Z"
   },
   {
    "duration": 4,
    "start_time": "2022-08-29T14:47:31.279Z"
   },
   {
    "duration": 423,
    "start_time": "2022-08-29T14:47:34.239Z"
   },
   {
    "duration": 12,
    "start_time": "2022-08-29T14:48:27.968Z"
   },
   {
    "duration": 4,
    "start_time": "2022-08-29T14:48:38.639Z"
   },
   {
    "duration": 285,
    "start_time": "2022-08-29T14:48:41.710Z"
   },
   {
    "duration": 6,
    "start_time": "2022-08-29T14:54:14.742Z"
   },
   {
    "duration": 6,
    "start_time": "2022-08-29T14:54:16.822Z"
   },
   {
    "duration": 2,
    "start_time": "2022-08-29T14:57:45.310Z"
   },
   {
    "duration": 116,
    "start_time": "2022-08-29T14:57:45.315Z"
   },
   {
    "duration": 16,
    "start_time": "2022-08-29T14:57:45.432Z"
   },
   {
    "duration": 9,
    "start_time": "2022-08-29T14:57:45.450Z"
   },
   {
    "duration": 6,
    "start_time": "2022-08-29T14:57:45.460Z"
   },
   {
    "duration": 264,
    "start_time": "2022-08-29T14:57:45.468Z"
   },
   {
    "duration": 382,
    "start_time": "2022-08-29T14:57:45.734Z"
   },
   {
    "duration": 4,
    "start_time": "2022-08-29T14:57:46.118Z"
   },
   {
    "duration": 17,
    "start_time": "2022-08-29T14:57:46.125Z"
   },
   {
    "duration": 11,
    "start_time": "2022-08-29T14:57:46.143Z"
   },
   {
    "duration": 114,
    "start_time": "2022-08-29T14:57:46.156Z"
   },
   {
    "duration": 6,
    "start_time": "2022-08-29T14:57:46.272Z"
   },
   {
    "duration": 503,
    "start_time": "2022-08-29T14:57:46.279Z"
   },
   {
    "duration": 467,
    "start_time": "2022-08-29T14:57:46.783Z"
   },
   {
    "duration": 3,
    "start_time": "2022-08-29T14:57:47.252Z"
   },
   {
    "duration": 33,
    "start_time": "2022-08-29T14:57:47.257Z"
   },
   {
    "duration": 16,
    "start_time": "2022-08-29T14:57:47.292Z"
   },
   {
    "duration": 395,
    "start_time": "2022-08-29T14:57:47.310Z"
   },
   {
    "duration": 248,
    "start_time": "2022-08-29T14:57:47.706Z"
   },
   {
    "duration": 4,
    "start_time": "2022-08-29T14:57:47.956Z"
   },
   {
    "duration": 29,
    "start_time": "2022-08-29T14:57:47.961Z"
   },
   {
    "duration": 13,
    "start_time": "2022-08-29T14:57:47.992Z"
   },
   {
    "duration": 22,
    "start_time": "2022-08-29T14:57:48.007Z"
   },
   {
    "duration": 21,
    "start_time": "2022-08-29T14:57:48.033Z"
   },
   {
    "duration": 486,
    "start_time": "2022-08-29T14:57:48.056Z"
   },
   {
    "duration": 6,
    "start_time": "2022-08-29T14:57:48.544Z"
   },
   {
    "duration": 23,
    "start_time": "2022-08-29T14:57:48.551Z"
   },
   {
    "duration": 26,
    "start_time": "2022-08-29T14:57:48.576Z"
   },
   {
    "duration": 16,
    "start_time": "2022-08-29T14:57:48.603Z"
   },
   {
    "duration": 38,
    "start_time": "2022-08-29T14:57:48.621Z"
   },
   {
    "duration": 24,
    "start_time": "2022-08-29T14:57:48.661Z"
   },
   {
    "duration": 3,
    "start_time": "2022-08-29T14:57:48.687Z"
   },
   {
    "duration": 27,
    "start_time": "2022-08-29T14:57:48.692Z"
   },
   {
    "duration": 323,
    "start_time": "2022-08-29T14:57:48.721Z"
   },
   {
    "duration": 6,
    "start_time": "2022-08-29T14:57:49.046Z"
   },
   {
    "duration": 195,
    "start_time": "2022-08-29T14:57:49.054Z"
   },
   {
    "duration": 185,
    "start_time": "2022-08-29T14:57:49.250Z"
   },
   {
    "duration": 40,
    "start_time": "2022-08-29T14:57:49.436Z"
   },
   {
    "duration": 6,
    "start_time": "2022-08-29T14:57:49.477Z"
   },
   {
    "duration": 25,
    "start_time": "2022-08-29T14:57:49.484Z"
   },
   {
    "duration": 17,
    "start_time": "2022-08-29T14:57:49.510Z"
   },
   {
    "duration": 33,
    "start_time": "2022-08-29T14:57:49.529Z"
   },
   {
    "duration": 15,
    "start_time": "2022-08-29T14:57:49.563Z"
   },
   {
    "duration": 10,
    "start_time": "2022-08-29T14:57:49.580Z"
   },
   {
    "duration": 17,
    "start_time": "2022-08-29T14:57:49.592Z"
   },
   {
    "duration": 3,
    "start_time": "2022-08-29T14:57:49.611Z"
   },
   {
    "duration": 18,
    "start_time": "2022-08-29T14:57:49.616Z"
   },
   {
    "duration": 26,
    "start_time": "2022-08-29T14:57:49.636Z"
   },
   {
    "duration": 337,
    "start_time": "2022-08-29T14:57:49.663Z"
   },
   {
    "duration": 9,
    "start_time": "2022-08-29T14:57:50.002Z"
   },
   {
    "duration": 33,
    "start_time": "2022-08-29T14:57:50.013Z"
   },
   {
    "duration": 38,
    "start_time": "2022-08-29T14:57:50.048Z"
   },
   {
    "duration": 487,
    "start_time": "2022-08-29T14:57:50.087Z"
   },
   {
    "duration": 8,
    "start_time": "2022-08-29T14:57:50.575Z"
   },
   {
    "duration": 25,
    "start_time": "2022-08-29T14:57:50.584Z"
   },
   {
    "duration": 354,
    "start_time": "2022-08-29T14:57:50.610Z"
   },
   {
    "duration": 5,
    "start_time": "2022-08-29T14:57:50.966Z"
   },
   {
    "duration": 32,
    "start_time": "2022-08-29T14:57:50.973Z"
   },
   {
    "duration": 49,
    "start_time": "2022-08-29T14:57:51.007Z"
   },
   {
    "duration": 306,
    "start_time": "2022-08-29T14:57:51.058Z"
   },
   {
    "duration": 5,
    "start_time": "2022-08-29T14:57:51.366Z"
   },
   {
    "duration": 19,
    "start_time": "2022-08-29T14:57:51.373Z"
   },
   {
    "duration": 39,
    "start_time": "2022-08-29T14:57:51.394Z"
   },
   {
    "duration": 319,
    "start_time": "2022-08-29T14:57:51.435Z"
   },
   {
    "duration": 5,
    "start_time": "2022-08-29T14:57:51.757Z"
   },
   {
    "duration": 34,
    "start_time": "2022-08-29T14:57:51.763Z"
   },
   {
    "duration": 11,
    "start_time": "2022-08-29T14:57:51.799Z"
   },
   {
    "duration": 23,
    "start_time": "2022-08-29T14:57:51.812Z"
   },
   {
    "duration": 10,
    "start_time": "2022-08-29T14:57:51.842Z"
   },
   {
    "duration": 503,
    "start_time": "2022-08-29T14:57:51.854Z"
   },
   {
    "duration": 12,
    "start_time": "2022-08-29T14:57:52.359Z"
   },
   {
    "duration": 0,
    "start_time": "2022-08-29T14:57:52.373Z"
   },
   {
    "duration": 0,
    "start_time": "2022-08-29T14:57:52.375Z"
   },
   {
    "duration": 0,
    "start_time": "2022-08-29T14:57:52.376Z"
   },
   {
    "duration": 0,
    "start_time": "2022-08-29T14:57:52.377Z"
   },
   {
    "duration": 0,
    "start_time": "2022-08-29T14:57:52.378Z"
   },
   {
    "duration": 0,
    "start_time": "2022-08-29T14:57:52.379Z"
   },
   {
    "duration": 0,
    "start_time": "2022-08-29T14:57:52.380Z"
   },
   {
    "duration": 0,
    "start_time": "2022-08-29T14:57:52.381Z"
   },
   {
    "duration": 0,
    "start_time": "2022-08-29T14:57:52.382Z"
   },
   {
    "duration": 0,
    "start_time": "2022-08-29T14:57:52.409Z"
   },
   {
    "duration": 0,
    "start_time": "2022-08-29T14:57:52.410Z"
   },
   {
    "duration": 0,
    "start_time": "2022-08-29T14:57:52.411Z"
   },
   {
    "duration": 0,
    "start_time": "2022-08-29T14:57:52.412Z"
   },
   {
    "duration": 0,
    "start_time": "2022-08-29T14:57:52.413Z"
   },
   {
    "duration": 0,
    "start_time": "2022-08-29T14:57:52.414Z"
   },
   {
    "duration": 0,
    "start_time": "2022-08-29T14:57:52.415Z"
   },
   {
    "duration": 0,
    "start_time": "2022-08-29T14:57:52.416Z"
   },
   {
    "duration": 0,
    "start_time": "2022-08-29T14:57:52.418Z"
   },
   {
    "duration": 0,
    "start_time": "2022-08-29T14:57:52.419Z"
   },
   {
    "duration": 0,
    "start_time": "2022-08-29T14:57:52.420Z"
   },
   {
    "duration": 0,
    "start_time": "2022-08-29T14:57:52.420Z"
   },
   {
    "duration": 0,
    "start_time": "2022-08-29T14:57:52.422Z"
   },
   {
    "duration": 0,
    "start_time": "2022-08-29T14:57:52.422Z"
   },
   {
    "duration": 0,
    "start_time": "2022-08-29T14:57:52.423Z"
   },
   {
    "duration": 0,
    "start_time": "2022-08-29T14:57:52.424Z"
   },
   {
    "duration": 0,
    "start_time": "2022-08-29T14:57:52.425Z"
   },
   {
    "duration": 0,
    "start_time": "2022-08-29T14:57:52.426Z"
   },
   {
    "duration": 0,
    "start_time": "2022-08-29T14:57:52.427Z"
   },
   {
    "duration": 0,
    "start_time": "2022-08-29T14:57:52.428Z"
   },
   {
    "duration": 0,
    "start_time": "2022-08-29T14:57:52.429Z"
   },
   {
    "duration": 0,
    "start_time": "2022-08-29T14:57:52.430Z"
   },
   {
    "duration": 0,
    "start_time": "2022-08-29T14:57:52.431Z"
   },
   {
    "duration": 0,
    "start_time": "2022-08-29T14:57:52.432Z"
   },
   {
    "duration": 0,
    "start_time": "2022-08-29T14:57:52.433Z"
   },
   {
    "duration": 0,
    "start_time": "2022-08-29T14:57:52.434Z"
   },
   {
    "duration": 0,
    "start_time": "2022-08-29T14:57:52.435Z"
   },
   {
    "duration": 0,
    "start_time": "2022-08-29T14:57:52.436Z"
   },
   {
    "duration": 0,
    "start_time": "2022-08-29T14:57:52.438Z"
   },
   {
    "duration": 0,
    "start_time": "2022-08-29T14:57:52.439Z"
   },
   {
    "duration": 0,
    "start_time": "2022-08-29T14:57:52.440Z"
   },
   {
    "duration": 0,
    "start_time": "2022-08-29T14:57:52.441Z"
   },
   {
    "duration": 0,
    "start_time": "2022-08-29T14:57:52.442Z"
   },
   {
    "duration": 0,
    "start_time": "2022-08-29T14:57:52.443Z"
   },
   {
    "duration": 0,
    "start_time": "2022-08-29T14:57:52.444Z"
   },
   {
    "duration": 0,
    "start_time": "2022-08-29T14:57:52.445Z"
   },
   {
    "duration": 0,
    "start_time": "2022-08-29T14:57:52.509Z"
   },
   {
    "duration": 0,
    "start_time": "2022-08-29T14:57:52.510Z"
   },
   {
    "duration": 0,
    "start_time": "2022-08-29T14:57:52.511Z"
   },
   {
    "duration": 0,
    "start_time": "2022-08-29T14:57:52.512Z"
   },
   {
    "duration": 0,
    "start_time": "2022-08-29T14:57:52.513Z"
   },
   {
    "duration": 0,
    "start_time": "2022-08-29T14:57:52.514Z"
   },
   {
    "duration": 0,
    "start_time": "2022-08-29T14:57:52.515Z"
   },
   {
    "duration": 0,
    "start_time": "2022-08-29T14:57:52.516Z"
   },
   {
    "duration": 0,
    "start_time": "2022-08-29T14:57:52.518Z"
   },
   {
    "duration": 0,
    "start_time": "2022-08-29T14:57:52.519Z"
   },
   {
    "duration": 0,
    "start_time": "2022-08-29T14:57:52.520Z"
   },
   {
    "duration": 0,
    "start_time": "2022-08-29T14:57:52.521Z"
   },
   {
    "duration": 0,
    "start_time": "2022-08-29T14:57:52.522Z"
   },
   {
    "duration": 0,
    "start_time": "2022-08-29T14:57:52.523Z"
   },
   {
    "duration": 0,
    "start_time": "2022-08-29T14:57:52.524Z"
   },
   {
    "duration": 0,
    "start_time": "2022-08-29T14:57:52.525Z"
   },
   {
    "duration": 0,
    "start_time": "2022-08-29T14:57:52.526Z"
   },
   {
    "duration": 0,
    "start_time": "2022-08-29T14:57:52.527Z"
   },
   {
    "duration": 0,
    "start_time": "2022-08-29T14:57:52.528Z"
   },
   {
    "duration": 0,
    "start_time": "2022-08-29T14:57:52.529Z"
   },
   {
    "duration": 0,
    "start_time": "2022-08-29T14:57:52.530Z"
   },
   {
    "duration": 0,
    "start_time": "2022-08-29T14:57:52.531Z"
   },
   {
    "duration": 0,
    "start_time": "2022-08-29T14:57:52.533Z"
   },
   {
    "duration": 0,
    "start_time": "2022-08-29T14:57:52.533Z"
   },
   {
    "duration": 25,
    "start_time": "2022-08-29T15:00:03.102Z"
   },
   {
    "duration": 12,
    "start_time": "2022-08-29T15:00:06.982Z"
   },
   {
    "duration": 36,
    "start_time": "2022-08-29T15:09:50.276Z"
   },
   {
    "duration": 57,
    "start_time": "2022-08-29T15:11:23.145Z"
   },
   {
    "duration": 4,
    "start_time": "2022-08-29T15:12:04.905Z"
   },
   {
    "duration": 34,
    "start_time": "2022-08-29T15:12:50.428Z"
   },
   {
    "duration": 13,
    "start_time": "2022-08-29T15:13:44.905Z"
   },
   {
    "duration": 306,
    "start_time": "2022-08-29T15:14:29.434Z"
   },
   {
    "duration": 17,
    "start_time": "2022-08-29T15:16:22.353Z"
   },
   {
    "duration": 137,
    "start_time": "2022-08-29T15:18:32.867Z"
   },
   {
    "duration": 172,
    "start_time": "2022-08-29T15:18:39.427Z"
   },
   {
    "duration": 13,
    "start_time": "2022-08-29T15:19:17.419Z"
   },
   {
    "duration": 236,
    "start_time": "2022-08-29T15:20:48.581Z"
   },
   {
    "duration": 232,
    "start_time": "2022-08-29T15:20:52.381Z"
   },
   {
    "duration": 141,
    "start_time": "2022-08-29T15:20:55.861Z"
   },
   {
    "duration": 153,
    "start_time": "2022-08-29T15:20:58.821Z"
   },
   {
    "duration": 162,
    "start_time": "2022-08-29T15:21:01.821Z"
   },
   {
    "duration": 342,
    "start_time": "2022-08-29T15:21:09.901Z"
   },
   {
    "duration": 256,
    "start_time": "2022-08-29T15:21:15.431Z"
   },
   {
    "duration": 152,
    "start_time": "2022-08-29T15:21:17.981Z"
   },
   {
    "duration": 236,
    "start_time": "2022-08-29T15:21:20.821Z"
   },
   {
    "duration": 239,
    "start_time": "2022-08-29T15:21:24.261Z"
   },
   {
    "duration": 190,
    "start_time": "2022-08-29T15:21:27.009Z"
   },
   {
    "duration": 14,
    "start_time": "2022-08-29T15:21:43.820Z"
   },
   {
    "duration": 17,
    "start_time": "2022-08-29T15:21:46.500Z"
   },
   {
    "duration": 791,
    "start_time": "2022-08-29T15:22:17.381Z"
   },
   {
    "duration": 818,
    "start_time": "2022-08-29T15:22:29.461Z"
   },
   {
    "duration": 25,
    "start_time": "2022-08-29T15:29:10.100Z"
   },
   {
    "duration": 16,
    "start_time": "2022-08-29T15:38:35.388Z"
   },
   {
    "duration": 14,
    "start_time": "2022-08-29T15:39:11.353Z"
   },
   {
    "duration": 8,
    "start_time": "2022-08-29T15:46:46.095Z"
   },
   {
    "duration": 9,
    "start_time": "2022-08-29T15:46:56.578Z"
   },
   {
    "duration": 167,
    "start_time": "2022-08-29T15:54:00.817Z"
   },
   {
    "duration": 3,
    "start_time": "2022-08-29T15:55:35.655Z"
   },
   {
    "duration": 231,
    "start_time": "2022-08-29T15:55:36.894Z"
   },
   {
    "duration": 5,
    "start_time": "2022-08-29T15:55:37.615Z"
   },
   {
    "duration": 4,
    "start_time": "2022-08-29T15:56:27.315Z"
   },
   {
    "duration": 394,
    "start_time": "2022-08-29T15:56:27.991Z"
   },
   {
    "duration": 5,
    "start_time": "2022-08-29T15:56:28.547Z"
   },
   {
    "duration": 7,
    "start_time": "2022-08-29T15:56:34.415Z"
   },
   {
    "duration": 147,
    "start_time": "2022-08-29T15:56:59.451Z"
   },
   {
    "duration": 252,
    "start_time": "2022-08-29T15:58:28.470Z"
   },
   {
    "duration": 178,
    "start_time": "2022-08-29T15:58:35.510Z"
   },
   {
    "duration": 225,
    "start_time": "2022-08-29T15:59:40.374Z"
   },
   {
    "duration": 232,
    "start_time": "2022-08-29T15:59:53.220Z"
   },
   {
    "duration": 162,
    "start_time": "2022-08-29T16:01:53.112Z"
   },
   {
    "duration": 152,
    "start_time": "2022-08-29T16:02:00.179Z"
   },
   {
    "duration": 157,
    "start_time": "2022-08-29T16:02:43.218Z"
   },
   {
    "duration": 14,
    "start_time": "2022-08-29T16:03:36.378Z"
   },
   {
    "duration": 1623,
    "start_time": "2022-08-29T16:04:08.069Z"
   },
   {
    "duration": 1225,
    "start_time": "2022-08-29T16:04:10.991Z"
   },
   {
    "duration": 1573,
    "start_time": "2022-08-29T16:04:16.338Z"
   },
   {
    "duration": 7,
    "start_time": "2022-08-29T16:04:33.818Z"
   },
   {
    "duration": 241,
    "start_time": "2022-08-29T16:07:19.205Z"
   },
   {
    "duration": 251,
    "start_time": "2022-08-29T16:09:30.807Z"
   },
   {
    "duration": 242,
    "start_time": "2022-08-29T16:09:41.775Z"
   },
   {
    "duration": 225,
    "start_time": "2022-08-29T16:09:49.706Z"
   },
   {
    "duration": 126,
    "start_time": "2022-08-29T16:09:56.027Z"
   },
   {
    "duration": 941,
    "start_time": "2022-08-29T16:10:17.535Z"
   },
   {
    "duration": 1136,
    "start_time": "2022-08-29T16:10:30.775Z"
   },
   {
    "duration": 868,
    "start_time": "2022-08-30T04:39:02.227Z"
   },
   {
    "duration": 352,
    "start_time": "2022-08-30T04:39:03.098Z"
   },
   {
    "duration": 17,
    "start_time": "2022-08-30T04:39:03.452Z"
   },
   {
    "duration": 10,
    "start_time": "2022-08-30T04:39:03.471Z"
   },
   {
    "duration": 4,
    "start_time": "2022-08-30T04:39:03.483Z"
   },
   {
    "duration": 268,
    "start_time": "2022-08-30T04:39:03.488Z"
   },
   {
    "duration": 65,
    "start_time": "2022-08-30T04:39:03.758Z"
   },
   {
    "duration": 435,
    "start_time": "2022-08-30T04:39:03.825Z"
   },
   {
    "duration": 4,
    "start_time": "2022-08-30T04:39:04.262Z"
   },
   {
    "duration": 15,
    "start_time": "2022-08-30T04:39:04.267Z"
   },
   {
    "duration": 5,
    "start_time": "2022-08-30T04:39:04.284Z"
   },
   {
    "duration": 144,
    "start_time": "2022-08-30T04:39:04.290Z"
   },
   {
    "duration": 5,
    "start_time": "2022-08-30T04:39:04.436Z"
   },
   {
    "duration": 426,
    "start_time": "2022-08-30T04:39:04.445Z"
   },
   {
    "duration": 514,
    "start_time": "2022-08-30T04:39:04.873Z"
   },
   {
    "duration": 4,
    "start_time": "2022-08-30T04:39:05.389Z"
   },
   {
    "duration": 32,
    "start_time": "2022-08-30T04:39:05.394Z"
   },
   {
    "duration": 24,
    "start_time": "2022-08-30T04:39:05.428Z"
   },
   {
    "duration": 484,
    "start_time": "2022-08-30T04:39:05.454Z"
   },
   {
    "duration": 403,
    "start_time": "2022-08-30T04:39:05.940Z"
   },
   {
    "duration": 4,
    "start_time": "2022-08-30T04:39:06.344Z"
   },
   {
    "duration": 22,
    "start_time": "2022-08-30T04:39:06.349Z"
   },
   {
    "duration": 7,
    "start_time": "2022-08-30T04:39:06.373Z"
   },
   {
    "duration": 18,
    "start_time": "2022-08-30T04:39:06.381Z"
   },
   {
    "duration": 14,
    "start_time": "2022-08-30T04:39:06.409Z"
   },
   {
    "duration": 478,
    "start_time": "2022-08-30T04:39:06.424Z"
   },
   {
    "duration": 5,
    "start_time": "2022-08-30T04:39:06.909Z"
   },
   {
    "duration": 8,
    "start_time": "2022-08-30T04:39:06.916Z"
   },
   {
    "duration": 11,
    "start_time": "2022-08-30T04:39:06.926Z"
   },
   {
    "duration": 8,
    "start_time": "2022-08-30T04:39:06.939Z"
   },
   {
    "duration": 26,
    "start_time": "2022-08-30T04:39:06.948Z"
   },
   {
    "duration": 64,
    "start_time": "2022-08-30T04:39:06.975Z"
   },
   {
    "duration": 2,
    "start_time": "2022-08-30T04:39:07.041Z"
   },
   {
    "duration": 481,
    "start_time": "2022-08-30T04:39:07.045Z"
   },
   {
    "duration": 7,
    "start_time": "2022-08-30T04:39:07.527Z"
   },
   {
    "duration": 224,
    "start_time": "2022-08-30T04:39:07.535Z"
   },
   {
    "duration": 274,
    "start_time": "2022-08-30T04:39:07.760Z"
   },
   {
    "duration": 44,
    "start_time": "2022-08-30T04:39:08.035Z"
   },
   {
    "duration": 8,
    "start_time": "2022-08-30T04:39:08.080Z"
   },
   {
    "duration": 22,
    "start_time": "2022-08-30T04:39:08.090Z"
   },
   {
    "duration": 10,
    "start_time": "2022-08-30T04:39:08.118Z"
   },
   {
    "duration": 33,
    "start_time": "2022-08-30T04:39:08.129Z"
   },
   {
    "duration": 9,
    "start_time": "2022-08-30T04:39:08.165Z"
   },
   {
    "duration": 43,
    "start_time": "2022-08-30T04:39:08.176Z"
   },
   {
    "duration": 11,
    "start_time": "2022-08-30T04:39:08.220Z"
   },
   {
    "duration": 5,
    "start_time": "2022-08-30T04:39:08.233Z"
   },
   {
    "duration": 7,
    "start_time": "2022-08-30T04:39:08.240Z"
   },
   {
    "duration": 11,
    "start_time": "2022-08-30T04:39:08.249Z"
   },
   {
    "duration": 378,
    "start_time": "2022-08-30T04:39:08.262Z"
   },
   {
    "duration": 6,
    "start_time": "2022-08-30T04:39:08.642Z"
   },
   {
    "duration": 16,
    "start_time": "2022-08-30T04:39:08.651Z"
   },
   {
    "duration": 41,
    "start_time": "2022-08-30T04:39:08.669Z"
   },
   {
    "duration": 373,
    "start_time": "2022-08-30T04:39:08.712Z"
   },
   {
    "duration": 11,
    "start_time": "2022-08-30T04:39:09.087Z"
   },
   {
    "duration": 8,
    "start_time": "2022-08-30T04:39:09.110Z"
   },
   {
    "duration": 403,
    "start_time": "2022-08-30T04:39:09.120Z"
   },
   {
    "duration": 6,
    "start_time": "2022-08-30T04:39:09.526Z"
   },
   {
    "duration": 20,
    "start_time": "2022-08-30T04:39:09.534Z"
   },
   {
    "duration": 33,
    "start_time": "2022-08-30T04:39:09.556Z"
   },
   {
    "duration": 525,
    "start_time": "2022-08-30T04:39:09.590Z"
   },
   {
    "duration": 5,
    "start_time": "2022-08-30T04:39:10.118Z"
   },
   {
    "duration": 12,
    "start_time": "2022-08-30T04:39:10.125Z"
   },
   {
    "duration": 19,
    "start_time": "2022-08-30T04:39:10.138Z"
   },
   {
    "duration": 382,
    "start_time": "2022-08-30T04:39:10.159Z"
   },
   {
    "duration": 5,
    "start_time": "2022-08-30T04:39:10.542Z"
   },
   {
    "duration": 9,
    "start_time": "2022-08-30T04:39:10.548Z"
   },
   {
    "duration": 7,
    "start_time": "2022-08-30T04:39:10.559Z"
   },
   {
    "duration": 11,
    "start_time": "2022-08-30T04:39:10.568Z"
   },
   {
    "duration": 8,
    "start_time": "2022-08-30T04:39:10.580Z"
   },
   {
    "duration": 341,
    "start_time": "2022-08-30T04:39:10.590Z"
   },
   {
    "duration": 83,
    "start_time": "2022-08-30T04:39:10.933Z"
   },
   {
    "duration": 0,
    "start_time": "2022-08-30T04:39:11.018Z"
   },
   {
    "duration": 0,
    "start_time": "2022-08-30T04:39:11.019Z"
   },
   {
    "duration": 0,
    "start_time": "2022-08-30T04:39:11.020Z"
   },
   {
    "duration": 0,
    "start_time": "2022-08-30T04:39:11.021Z"
   },
   {
    "duration": 0,
    "start_time": "2022-08-30T04:39:11.022Z"
   },
   {
    "duration": 0,
    "start_time": "2022-08-30T04:39:11.022Z"
   },
   {
    "duration": 0,
    "start_time": "2022-08-30T04:39:11.023Z"
   },
   {
    "duration": 0,
    "start_time": "2022-08-30T04:39:11.024Z"
   },
   {
    "duration": 0,
    "start_time": "2022-08-30T04:39:11.026Z"
   },
   {
    "duration": 0,
    "start_time": "2022-08-30T04:39:11.027Z"
   },
   {
    "duration": 0,
    "start_time": "2022-08-30T04:39:11.029Z"
   },
   {
    "duration": 0,
    "start_time": "2022-08-30T04:39:11.030Z"
   },
   {
    "duration": 0,
    "start_time": "2022-08-30T04:39:11.030Z"
   },
   {
    "duration": 0,
    "start_time": "2022-08-30T04:39:11.032Z"
   },
   {
    "duration": 0,
    "start_time": "2022-08-30T04:39:11.033Z"
   },
   {
    "duration": 0,
    "start_time": "2022-08-30T04:39:11.034Z"
   },
   {
    "duration": 0,
    "start_time": "2022-08-30T04:39:11.035Z"
   },
   {
    "duration": 0,
    "start_time": "2022-08-30T04:39:11.035Z"
   },
   {
    "duration": 0,
    "start_time": "2022-08-30T04:39:11.036Z"
   },
   {
    "duration": 0,
    "start_time": "2022-08-30T04:39:11.038Z"
   },
   {
    "duration": 0,
    "start_time": "2022-08-30T04:39:11.038Z"
   },
   {
    "duration": 0,
    "start_time": "2022-08-30T04:39:11.039Z"
   },
   {
    "duration": 0,
    "start_time": "2022-08-30T04:39:11.040Z"
   },
   {
    "duration": 0,
    "start_time": "2022-08-30T04:39:11.042Z"
   },
   {
    "duration": 0,
    "start_time": "2022-08-30T04:39:11.042Z"
   },
   {
    "duration": 0,
    "start_time": "2022-08-30T04:39:11.043Z"
   },
   {
    "duration": 0,
    "start_time": "2022-08-30T04:39:11.044Z"
   },
   {
    "duration": 0,
    "start_time": "2022-08-30T04:39:11.046Z"
   },
   {
    "duration": 0,
    "start_time": "2022-08-30T04:39:11.047Z"
   },
   {
    "duration": 0,
    "start_time": "2022-08-30T04:39:11.048Z"
   },
   {
    "duration": 0,
    "start_time": "2022-08-30T04:39:11.049Z"
   },
   {
    "duration": 0,
    "start_time": "2022-08-30T04:39:11.050Z"
   },
   {
    "duration": 0,
    "start_time": "2022-08-30T04:39:11.051Z"
   },
   {
    "duration": 0,
    "start_time": "2022-08-30T04:39:11.052Z"
   },
   {
    "duration": 0,
    "start_time": "2022-08-30T04:39:11.109Z"
   },
   {
    "duration": 0,
    "start_time": "2022-08-30T04:39:11.111Z"
   },
   {
    "duration": 0,
    "start_time": "2022-08-30T04:39:11.112Z"
   },
   {
    "duration": 0,
    "start_time": "2022-08-30T04:39:11.113Z"
   },
   {
    "duration": 0,
    "start_time": "2022-08-30T04:39:11.118Z"
   },
   {
    "duration": 0,
    "start_time": "2022-08-30T04:39:11.119Z"
   },
   {
    "duration": 0,
    "start_time": "2022-08-30T04:39:11.120Z"
   },
   {
    "duration": 0,
    "start_time": "2022-08-30T04:39:11.121Z"
   },
   {
    "duration": 0,
    "start_time": "2022-08-30T04:39:11.122Z"
   },
   {
    "duration": 0,
    "start_time": "2022-08-30T04:39:11.123Z"
   },
   {
    "duration": 0,
    "start_time": "2022-08-30T04:39:11.124Z"
   },
   {
    "duration": 0,
    "start_time": "2022-08-30T04:39:11.125Z"
   },
   {
    "duration": 0,
    "start_time": "2022-08-30T04:39:11.126Z"
   },
   {
    "duration": 0,
    "start_time": "2022-08-30T04:39:11.127Z"
   },
   {
    "duration": 0,
    "start_time": "2022-08-30T04:39:11.129Z"
   },
   {
    "duration": 0,
    "start_time": "2022-08-30T04:39:11.130Z"
   },
   {
    "duration": 0,
    "start_time": "2022-08-30T04:39:11.131Z"
   },
   {
    "duration": 0,
    "start_time": "2022-08-30T04:39:11.132Z"
   },
   {
    "duration": 0,
    "start_time": "2022-08-30T04:39:11.133Z"
   },
   {
    "duration": 0,
    "start_time": "2022-08-30T04:39:11.133Z"
   },
   {
    "duration": 0,
    "start_time": "2022-08-30T04:39:11.134Z"
   },
   {
    "duration": 0,
    "start_time": "2022-08-30T04:39:11.134Z"
   },
   {
    "duration": 0,
    "start_time": "2022-08-30T04:39:11.135Z"
   },
   {
    "duration": 0,
    "start_time": "2022-08-30T04:39:11.135Z"
   },
   {
    "duration": 0,
    "start_time": "2022-08-30T04:39:11.136Z"
   },
   {
    "duration": 0,
    "start_time": "2022-08-30T04:39:11.137Z"
   },
   {
    "duration": 0,
    "start_time": "2022-08-30T04:39:11.138Z"
   },
   {
    "duration": 0,
    "start_time": "2022-08-30T04:39:11.138Z"
   },
   {
    "duration": 0,
    "start_time": "2022-08-30T04:39:11.139Z"
   },
   {
    "duration": 0,
    "start_time": "2022-08-30T04:39:11.141Z"
   },
   {
    "duration": 0,
    "start_time": "2022-08-30T04:39:11.141Z"
   },
   {
    "duration": 0,
    "start_time": "2022-08-30T04:39:11.142Z"
   },
   {
    "duration": 0,
    "start_time": "2022-08-30T04:39:11.144Z"
   },
   {
    "duration": 0,
    "start_time": "2022-08-30T04:39:11.145Z"
   },
   {
    "duration": 115,
    "start_time": "2022-08-30T04:41:48.198Z"
   },
   {
    "duration": 24,
    "start_time": "2022-08-30T04:47:07.801Z"
   },
   {
    "duration": 37,
    "start_time": "2022-08-30T04:53:50.858Z"
   },
   {
    "duration": 13,
    "start_time": "2022-08-30T04:54:31.330Z"
   },
   {
    "duration": 10,
    "start_time": "2022-08-30T04:58:49.560Z"
   },
   {
    "duration": 9,
    "start_time": "2022-08-30T04:59:12.281Z"
   },
   {
    "duration": 41,
    "start_time": "2022-08-30T04:59:58.560Z"
   },
   {
    "duration": 38,
    "start_time": "2022-08-30T05:01:46.530Z"
   },
   {
    "duration": 30,
    "start_time": "2022-08-30T05:02:00.641Z"
   },
   {
    "duration": 16,
    "start_time": "2022-08-30T05:04:30.824Z"
   },
   {
    "duration": 11,
    "start_time": "2022-08-30T05:04:59.722Z"
   },
   {
    "duration": 11,
    "start_time": "2022-08-30T05:05:21.443Z"
   },
   {
    "duration": 4,
    "start_time": "2022-08-30T05:06:59.273Z"
   },
   {
    "duration": 9,
    "start_time": "2022-08-30T05:07:14.641Z"
   },
   {
    "duration": 17,
    "start_time": "2022-08-30T05:08:25.623Z"
   },
   {
    "duration": 9,
    "start_time": "2022-08-30T05:08:39.728Z"
   },
   {
    "duration": 17,
    "start_time": "2022-08-30T05:08:49.994Z"
   },
   {
    "duration": 12,
    "start_time": "2022-08-30T05:08:50.834Z"
   },
   {
    "duration": 24,
    "start_time": "2022-08-30T05:09:01.594Z"
   },
   {
    "duration": 36,
    "start_time": "2022-08-30T05:09:05.033Z"
   },
   {
    "duration": 24,
    "start_time": "2022-08-30T05:09:07.154Z"
   },
   {
    "duration": 7,
    "start_time": "2022-08-30T05:09:16.403Z"
   },
   {
    "duration": 421,
    "start_time": "2022-08-30T05:09:21.813Z"
   },
   {
    "duration": 5,
    "start_time": "2022-08-30T05:09:26.223Z"
   },
   {
    "duration": 11,
    "start_time": "2022-08-30T05:09:27.273Z"
   },
   {
    "duration": 5,
    "start_time": "2022-08-30T05:09:28.393Z"
   },
   {
    "duration": 7,
    "start_time": "2022-08-30T05:09:41.994Z"
   },
   {
    "duration": 8,
    "start_time": "2022-08-30T05:09:45.575Z"
   },
   {
    "duration": 4,
    "start_time": "2022-08-30T05:09:49.894Z"
   },
   {
    "duration": 317,
    "start_time": "2022-08-30T05:09:58.313Z"
   },
   {
    "duration": 6,
    "start_time": "2022-08-30T05:10:03.314Z"
   },
   {
    "duration": 7,
    "start_time": "2022-08-30T05:10:04.173Z"
   },
   {
    "duration": 8,
    "start_time": "2022-08-30T05:10:13.114Z"
   },
   {
    "duration": 5,
    "start_time": "2022-08-30T05:10:13.955Z"
   },
   {
    "duration": 3,
    "start_time": "2022-08-30T05:10:14.834Z"
   },
   {
    "duration": 14,
    "start_time": "2022-08-30T05:10:15.594Z"
   },
   {
    "duration": 5,
    "start_time": "2022-08-30T05:10:25.402Z"
   },
   {
    "duration": 5,
    "start_time": "2022-08-30T05:10:26.402Z"
   },
   {
    "duration": 20,
    "start_time": "2022-08-30T05:10:28.482Z"
   },
   {
    "duration": 307,
    "start_time": "2022-08-30T05:10:35.555Z"
   },
   {
    "duration": 305,
    "start_time": "2022-08-30T05:10:36.434Z"
   },
   {
    "duration": 18,
    "start_time": "2022-08-30T05:10:40.449Z"
   },
   {
    "duration": 409,
    "start_time": "2022-08-30T05:10:48.713Z"
   },
   {
    "duration": 9,
    "start_time": "2022-08-30T05:10:53.092Z"
   },
   {
    "duration": 9,
    "start_time": "2022-08-30T05:11:06.154Z"
   },
   {
    "duration": 17,
    "start_time": "2022-08-30T05:11:19.314Z"
   },
   {
    "duration": 7,
    "start_time": "2022-08-30T05:15:24.569Z"
   },
   {
    "duration": 16,
    "start_time": "2022-08-30T05:15:38.598Z"
   },
   {
    "duration": 21,
    "start_time": "2022-08-30T05:16:35.809Z"
   },
   {
    "duration": 7,
    "start_time": "2022-08-30T05:17:13.609Z"
   },
   {
    "duration": 51,
    "start_time": "2022-08-30T05:20:06.961Z"
   },
   {
    "duration": 4,
    "start_time": "2022-08-30T05:20:08.896Z"
   },
   {
    "duration": 56,
    "start_time": "2022-08-30T05:20:11.768Z"
   },
   {
    "duration": 51,
    "start_time": "2022-08-30T05:20:18.212Z"
   },
   {
    "duration": 4,
    "start_time": "2022-08-30T05:20:21.287Z"
   },
   {
    "duration": 5,
    "start_time": "2022-08-30T05:21:05.008Z"
   },
   {
    "duration": 4,
    "start_time": "2022-08-30T05:21:06.320Z"
   },
   {
    "duration": 8,
    "start_time": "2022-08-30T05:21:24.140Z"
   },
   {
    "duration": 10,
    "start_time": "2022-08-30T05:21:35.378Z"
   },
   {
    "duration": 10,
    "start_time": "2022-08-30T05:21:44.660Z"
   },
   {
    "duration": 12,
    "start_time": "2022-08-30T05:22:05.094Z"
   },
   {
    "duration": 55,
    "start_time": "2022-08-30T05:22:14.574Z"
   },
   {
    "duration": 61,
    "start_time": "2022-08-30T05:22:20.287Z"
   },
   {
    "duration": 3,
    "start_time": "2022-08-30T05:22:24.254Z"
   },
   {
    "duration": 115,
    "start_time": "2022-08-30T05:22:24.259Z"
   },
   {
    "duration": 14,
    "start_time": "2022-08-30T05:22:24.375Z"
   },
   {
    "duration": 22,
    "start_time": "2022-08-30T05:22:24.390Z"
   },
   {
    "duration": 8,
    "start_time": "2022-08-30T05:22:24.414Z"
   },
   {
    "duration": 233,
    "start_time": "2022-08-30T05:22:24.423Z"
   },
   {
    "duration": 15,
    "start_time": "2022-08-30T05:22:24.658Z"
   },
   {
    "duration": 352,
    "start_time": "2022-08-30T05:22:24.674Z"
   },
   {
    "duration": 3,
    "start_time": "2022-08-30T05:22:25.028Z"
   },
   {
    "duration": 12,
    "start_time": "2022-08-30T05:22:25.032Z"
   },
   {
    "duration": 4,
    "start_time": "2022-08-30T05:22:25.046Z"
   },
   {
    "duration": 127,
    "start_time": "2022-08-30T05:22:25.051Z"
   },
   {
    "duration": 4,
    "start_time": "2022-08-30T05:22:25.180Z"
   },
   {
    "duration": 361,
    "start_time": "2022-08-30T05:22:25.187Z"
   },
   {
    "duration": 592,
    "start_time": "2022-08-30T05:22:25.550Z"
   },
   {
    "duration": 5,
    "start_time": "2022-08-30T05:22:26.144Z"
   },
   {
    "duration": 14,
    "start_time": "2022-08-30T05:22:26.151Z"
   },
   {
    "duration": 5,
    "start_time": "2022-08-30T05:22:26.167Z"
   },
   {
    "duration": 365,
    "start_time": "2022-08-30T05:22:26.174Z"
   },
   {
    "duration": 252,
    "start_time": "2022-08-30T05:22:26.541Z"
   },
   {
    "duration": 3,
    "start_time": "2022-08-30T05:22:26.795Z"
   },
   {
    "duration": 49,
    "start_time": "2022-08-30T05:22:26.799Z"
   },
   {
    "duration": 0,
    "start_time": "2022-08-30T05:22:26.851Z"
   },
   {
    "duration": 0,
    "start_time": "2022-08-30T05:22:26.853Z"
   },
   {
    "duration": 0,
    "start_time": "2022-08-30T05:22:26.854Z"
   },
   {
    "duration": 0,
    "start_time": "2022-08-30T05:22:26.855Z"
   },
   {
    "duration": 0,
    "start_time": "2022-08-30T05:22:26.856Z"
   },
   {
    "duration": 0,
    "start_time": "2022-08-30T05:22:26.857Z"
   },
   {
    "duration": 0,
    "start_time": "2022-08-30T05:22:26.858Z"
   },
   {
    "duration": 0,
    "start_time": "2022-08-30T05:22:26.859Z"
   },
   {
    "duration": 0,
    "start_time": "2022-08-30T05:22:26.860Z"
   },
   {
    "duration": 0,
    "start_time": "2022-08-30T05:22:26.860Z"
   },
   {
    "duration": 0,
    "start_time": "2022-08-30T05:22:26.862Z"
   },
   {
    "duration": 0,
    "start_time": "2022-08-30T05:22:26.862Z"
   },
   {
    "duration": 0,
    "start_time": "2022-08-30T05:22:26.863Z"
   },
   {
    "duration": 0,
    "start_time": "2022-08-30T05:22:26.864Z"
   },
   {
    "duration": 0,
    "start_time": "2022-08-30T05:22:26.865Z"
   },
   {
    "duration": 0,
    "start_time": "2022-08-30T05:22:26.866Z"
   },
   {
    "duration": 0,
    "start_time": "2022-08-30T05:22:26.867Z"
   },
   {
    "duration": 0,
    "start_time": "2022-08-30T05:22:26.868Z"
   },
   {
    "duration": 0,
    "start_time": "2022-08-30T05:22:26.869Z"
   },
   {
    "duration": 0,
    "start_time": "2022-08-30T05:22:26.870Z"
   },
   {
    "duration": 0,
    "start_time": "2022-08-30T05:22:26.871Z"
   },
   {
    "duration": 0,
    "start_time": "2022-08-30T05:22:26.872Z"
   },
   {
    "duration": 0,
    "start_time": "2022-08-30T05:22:26.873Z"
   },
   {
    "duration": 0,
    "start_time": "2022-08-30T05:22:26.874Z"
   },
   {
    "duration": 0,
    "start_time": "2022-08-30T05:22:26.875Z"
   },
   {
    "duration": 0,
    "start_time": "2022-08-30T05:22:26.875Z"
   },
   {
    "duration": 0,
    "start_time": "2022-08-30T05:22:26.876Z"
   },
   {
    "duration": 0,
    "start_time": "2022-08-30T05:22:26.878Z"
   },
   {
    "duration": 0,
    "start_time": "2022-08-30T05:22:26.879Z"
   },
   {
    "duration": 0,
    "start_time": "2022-08-30T05:22:26.879Z"
   },
   {
    "duration": 0,
    "start_time": "2022-08-30T05:22:26.880Z"
   },
   {
    "duration": 0,
    "start_time": "2022-08-30T05:22:26.881Z"
   },
   {
    "duration": 0,
    "start_time": "2022-08-30T05:22:26.882Z"
   },
   {
    "duration": 0,
    "start_time": "2022-08-30T05:22:26.883Z"
   },
   {
    "duration": 0,
    "start_time": "2022-08-30T05:22:26.883Z"
   },
   {
    "duration": 0,
    "start_time": "2022-08-30T05:22:26.884Z"
   },
   {
    "duration": 0,
    "start_time": "2022-08-30T05:22:26.885Z"
   },
   {
    "duration": 0,
    "start_time": "2022-08-30T05:22:26.910Z"
   },
   {
    "duration": 0,
    "start_time": "2022-08-30T05:22:26.911Z"
   },
   {
    "duration": 0,
    "start_time": "2022-08-30T05:22:26.912Z"
   },
   {
    "duration": 0,
    "start_time": "2022-08-30T05:22:26.913Z"
   },
   {
    "duration": 0,
    "start_time": "2022-08-30T05:22:26.914Z"
   },
   {
    "duration": 0,
    "start_time": "2022-08-30T05:22:26.915Z"
   },
   {
    "duration": 0,
    "start_time": "2022-08-30T05:22:26.915Z"
   },
   {
    "duration": 0,
    "start_time": "2022-08-30T05:22:26.916Z"
   },
   {
    "duration": 0,
    "start_time": "2022-08-30T05:22:26.917Z"
   },
   {
    "duration": 0,
    "start_time": "2022-08-30T05:22:26.918Z"
   },
   {
    "duration": 0,
    "start_time": "2022-08-30T05:22:26.919Z"
   },
   {
    "duration": 0,
    "start_time": "2022-08-30T05:22:26.920Z"
   },
   {
    "duration": 0,
    "start_time": "2022-08-30T05:22:26.921Z"
   },
   {
    "duration": 0,
    "start_time": "2022-08-30T05:22:26.922Z"
   },
   {
    "duration": 0,
    "start_time": "2022-08-30T05:22:26.923Z"
   },
   {
    "duration": 0,
    "start_time": "2022-08-30T05:22:26.924Z"
   },
   {
    "duration": 0,
    "start_time": "2022-08-30T05:22:26.925Z"
   },
   {
    "duration": 0,
    "start_time": "2022-08-30T05:22:26.926Z"
   },
   {
    "duration": 0,
    "start_time": "2022-08-30T05:22:26.927Z"
   },
   {
    "duration": 0,
    "start_time": "2022-08-30T05:22:26.928Z"
   },
   {
    "duration": 0,
    "start_time": "2022-08-30T05:22:26.928Z"
   },
   {
    "duration": 1,
    "start_time": "2022-08-30T05:22:26.929Z"
   },
   {
    "duration": 0,
    "start_time": "2022-08-30T05:22:26.930Z"
   },
   {
    "duration": 0,
    "start_time": "2022-08-30T05:22:26.931Z"
   },
   {
    "duration": 0,
    "start_time": "2022-08-30T05:22:26.932Z"
   },
   {
    "duration": 0,
    "start_time": "2022-08-30T05:22:26.933Z"
   },
   {
    "duration": 0,
    "start_time": "2022-08-30T05:22:26.934Z"
   },
   {
    "duration": 0,
    "start_time": "2022-08-30T05:22:26.935Z"
   },
   {
    "duration": 0,
    "start_time": "2022-08-30T05:22:26.936Z"
   },
   {
    "duration": 0,
    "start_time": "2022-08-30T05:22:26.937Z"
   },
   {
    "duration": 0,
    "start_time": "2022-08-30T05:22:26.938Z"
   },
   {
    "duration": 0,
    "start_time": "2022-08-30T05:22:26.939Z"
   },
   {
    "duration": 0,
    "start_time": "2022-08-30T05:22:26.940Z"
   },
   {
    "duration": 0,
    "start_time": "2022-08-30T05:22:26.941Z"
   },
   {
    "duration": 0,
    "start_time": "2022-08-30T05:22:26.942Z"
   },
   {
    "duration": 0,
    "start_time": "2022-08-30T05:22:26.943Z"
   },
   {
    "duration": 0,
    "start_time": "2022-08-30T05:22:26.944Z"
   },
   {
    "duration": 0,
    "start_time": "2022-08-30T05:22:26.945Z"
   },
   {
    "duration": 0,
    "start_time": "2022-08-30T05:22:27.009Z"
   },
   {
    "duration": 0,
    "start_time": "2022-08-30T05:22:27.010Z"
   },
   {
    "duration": 0,
    "start_time": "2022-08-30T05:22:27.011Z"
   },
   {
    "duration": 0,
    "start_time": "2022-08-30T05:22:27.012Z"
   },
   {
    "duration": 0,
    "start_time": "2022-08-30T05:22:27.013Z"
   },
   {
    "duration": 0,
    "start_time": "2022-08-30T05:22:27.014Z"
   },
   {
    "duration": 0,
    "start_time": "2022-08-30T05:22:27.015Z"
   },
   {
    "duration": 0,
    "start_time": "2022-08-30T05:22:27.016Z"
   },
   {
    "duration": 0,
    "start_time": "2022-08-30T05:22:27.017Z"
   },
   {
    "duration": 1,
    "start_time": "2022-08-30T05:22:27.017Z"
   },
   {
    "duration": 0,
    "start_time": "2022-08-30T05:22:27.018Z"
   },
   {
    "duration": 0,
    "start_time": "2022-08-30T05:22:27.019Z"
   },
   {
    "duration": 0,
    "start_time": "2022-08-30T05:22:27.020Z"
   },
   {
    "duration": 0,
    "start_time": "2022-08-30T05:22:27.021Z"
   },
   {
    "duration": 0,
    "start_time": "2022-08-30T05:22:27.021Z"
   },
   {
    "duration": 0,
    "start_time": "2022-08-30T05:22:27.022Z"
   },
   {
    "duration": 0,
    "start_time": "2022-08-30T05:22:27.023Z"
   },
   {
    "duration": 0,
    "start_time": "2022-08-30T05:22:27.024Z"
   },
   {
    "duration": 0,
    "start_time": "2022-08-30T05:22:27.025Z"
   },
   {
    "duration": 0,
    "start_time": "2022-08-30T05:22:27.026Z"
   },
   {
    "duration": 0,
    "start_time": "2022-08-30T05:22:27.027Z"
   },
   {
    "duration": 0,
    "start_time": "2022-08-30T05:22:27.028Z"
   },
   {
    "duration": 0,
    "start_time": "2022-08-30T05:22:27.029Z"
   },
   {
    "duration": 0,
    "start_time": "2022-08-30T05:22:27.030Z"
   },
   {
    "duration": 0,
    "start_time": "2022-08-30T05:22:27.031Z"
   },
   {
    "duration": 0,
    "start_time": "2022-08-30T05:22:27.032Z"
   },
   {
    "duration": 0,
    "start_time": "2022-08-30T05:22:27.033Z"
   },
   {
    "duration": 0,
    "start_time": "2022-08-30T05:22:27.034Z"
   },
   {
    "duration": 0,
    "start_time": "2022-08-30T05:22:27.035Z"
   },
   {
    "duration": 0,
    "start_time": "2022-08-30T05:22:27.035Z"
   },
   {
    "duration": 0,
    "start_time": "2022-08-30T05:22:27.037Z"
   },
   {
    "duration": 0,
    "start_time": "2022-08-30T05:22:27.037Z"
   },
   {
    "duration": 0,
    "start_time": "2022-08-30T05:22:27.038Z"
   },
   {
    "duration": 0,
    "start_time": "2022-08-30T05:22:27.039Z"
   },
   {
    "duration": 0,
    "start_time": "2022-08-30T05:22:27.040Z"
   },
   {
    "duration": 0,
    "start_time": "2022-08-30T05:22:27.041Z"
   },
   {
    "duration": 0,
    "start_time": "2022-08-30T05:22:27.042Z"
   },
   {
    "duration": 0,
    "start_time": "2022-08-30T05:22:27.043Z"
   },
   {
    "duration": 0,
    "start_time": "2022-08-30T05:22:27.044Z"
   },
   {
    "duration": 0,
    "start_time": "2022-08-30T05:22:27.045Z"
   },
   {
    "duration": 1,
    "start_time": "2022-08-30T05:22:27.109Z"
   },
   {
    "duration": 1,
    "start_time": "2022-08-30T05:22:27.110Z"
   },
   {
    "duration": 0,
    "start_time": "2022-08-30T05:22:27.112Z"
   },
   {
    "duration": 0,
    "start_time": "2022-08-30T05:22:27.112Z"
   },
   {
    "duration": 0,
    "start_time": "2022-08-30T05:22:27.113Z"
   },
   {
    "duration": 0,
    "start_time": "2022-08-30T05:22:27.115Z"
   },
   {
    "duration": 19,
    "start_time": "2022-08-30T05:23:00.654Z"
   },
   {
    "duration": 7,
    "start_time": "2022-08-30T05:23:36.206Z"
   },
   {
    "duration": 10,
    "start_time": "2022-08-30T05:23:39.647Z"
   },
   {
    "duration": 9,
    "start_time": "2022-08-30T05:24:00.567Z"
   },
   {
    "duration": 10,
    "start_time": "2022-08-30T05:24:24.402Z"
   },
   {
    "duration": 7,
    "start_time": "2022-08-30T05:24:32.694Z"
   },
   {
    "duration": 863,
    "start_time": "2022-08-30T07:29:36.237Z"
   },
   {
    "duration": 196,
    "start_time": "2022-08-30T07:29:37.102Z"
   },
   {
    "duration": 18,
    "start_time": "2022-08-30T07:29:37.300Z"
   },
   {
    "duration": 9,
    "start_time": "2022-08-30T07:29:37.320Z"
   },
   {
    "duration": 5,
    "start_time": "2022-08-30T07:29:37.330Z"
   },
   {
    "duration": 267,
    "start_time": "2022-08-30T07:29:37.336Z"
   },
   {
    "duration": 52,
    "start_time": "2022-08-30T07:29:37.604Z"
   },
   {
    "duration": 439,
    "start_time": "2022-08-30T07:29:37.658Z"
   },
   {
    "duration": 4,
    "start_time": "2022-08-30T07:29:38.099Z"
   },
   {
    "duration": 9,
    "start_time": "2022-08-30T07:29:38.106Z"
   },
   {
    "duration": 4,
    "start_time": "2022-08-30T07:29:38.117Z"
   },
   {
    "duration": 142,
    "start_time": "2022-08-30T07:29:38.123Z"
   },
   {
    "duration": 6,
    "start_time": "2022-08-30T07:29:38.267Z"
   },
   {
    "duration": 399,
    "start_time": "2022-08-30T07:29:38.274Z"
   },
   {
    "duration": 504,
    "start_time": "2022-08-30T07:29:38.675Z"
   },
   {
    "duration": 12,
    "start_time": "2022-08-30T07:29:39.181Z"
   },
   {
    "duration": 16,
    "start_time": "2022-08-30T07:29:39.195Z"
   },
   {
    "duration": 4,
    "start_time": "2022-08-30T07:29:39.212Z"
   },
   {
    "duration": 483,
    "start_time": "2022-08-30T07:29:39.218Z"
   },
   {
    "duration": 284,
    "start_time": "2022-08-30T07:29:39.703Z"
   },
   {
    "duration": 4,
    "start_time": "2022-08-30T07:29:39.989Z"
   },
   {
    "duration": 108,
    "start_time": "2022-08-30T07:29:39.995Z"
   },
   {
    "duration": 0,
    "start_time": "2022-08-30T07:29:40.108Z"
   },
   {
    "duration": 0,
    "start_time": "2022-08-30T07:29:40.109Z"
   },
   {
    "duration": 0,
    "start_time": "2022-08-30T07:29:40.110Z"
   },
   {
    "duration": 0,
    "start_time": "2022-08-30T07:29:40.112Z"
   },
   {
    "duration": 0,
    "start_time": "2022-08-30T07:29:40.114Z"
   },
   {
    "duration": 0,
    "start_time": "2022-08-30T07:29:40.115Z"
   },
   {
    "duration": 0,
    "start_time": "2022-08-30T07:29:40.116Z"
   },
   {
    "duration": 0,
    "start_time": "2022-08-30T07:29:40.117Z"
   },
   {
    "duration": 0,
    "start_time": "2022-08-30T07:29:40.118Z"
   },
   {
    "duration": 0,
    "start_time": "2022-08-30T07:29:40.120Z"
   },
   {
    "duration": 0,
    "start_time": "2022-08-30T07:29:40.121Z"
   },
   {
    "duration": 1,
    "start_time": "2022-08-30T07:29:40.122Z"
   },
   {
    "duration": 0,
    "start_time": "2022-08-30T07:29:40.123Z"
   },
   {
    "duration": 0,
    "start_time": "2022-08-30T07:29:40.124Z"
   },
   {
    "duration": 0,
    "start_time": "2022-08-30T07:29:40.126Z"
   },
   {
    "duration": 0,
    "start_time": "2022-08-30T07:29:40.127Z"
   },
   {
    "duration": 0,
    "start_time": "2022-08-30T07:29:40.128Z"
   },
   {
    "duration": 0,
    "start_time": "2022-08-30T07:29:40.129Z"
   },
   {
    "duration": 0,
    "start_time": "2022-08-30T07:29:40.130Z"
   },
   {
    "duration": 0,
    "start_time": "2022-08-30T07:29:40.131Z"
   },
   {
    "duration": 0,
    "start_time": "2022-08-30T07:29:40.132Z"
   },
   {
    "duration": 0,
    "start_time": "2022-08-30T07:29:40.133Z"
   },
   {
    "duration": 0,
    "start_time": "2022-08-30T07:29:40.134Z"
   },
   {
    "duration": 0,
    "start_time": "2022-08-30T07:29:40.135Z"
   },
   {
    "duration": 0,
    "start_time": "2022-08-30T07:29:40.136Z"
   },
   {
    "duration": 0,
    "start_time": "2022-08-30T07:29:40.137Z"
   },
   {
    "duration": 0,
    "start_time": "2022-08-30T07:29:40.139Z"
   },
   {
    "duration": 0,
    "start_time": "2022-08-30T07:29:40.140Z"
   },
   {
    "duration": 0,
    "start_time": "2022-08-30T07:29:40.141Z"
   },
   {
    "duration": 0,
    "start_time": "2022-08-30T07:29:40.142Z"
   },
   {
    "duration": 0,
    "start_time": "2022-08-30T07:29:40.143Z"
   },
   {
    "duration": 0,
    "start_time": "2022-08-30T07:29:40.144Z"
   },
   {
    "duration": 0,
    "start_time": "2022-08-30T07:29:40.192Z"
   },
   {
    "duration": 0,
    "start_time": "2022-08-30T07:29:40.193Z"
   },
   {
    "duration": 0,
    "start_time": "2022-08-30T07:29:40.195Z"
   },
   {
    "duration": 0,
    "start_time": "2022-08-30T07:29:40.197Z"
   },
   {
    "duration": 0,
    "start_time": "2022-08-30T07:29:40.198Z"
   },
   {
    "duration": 0,
    "start_time": "2022-08-30T07:29:40.199Z"
   },
   {
    "duration": 0,
    "start_time": "2022-08-30T07:29:40.201Z"
   },
   {
    "duration": 0,
    "start_time": "2022-08-30T07:29:40.202Z"
   },
   {
    "duration": 1,
    "start_time": "2022-08-30T07:29:40.203Z"
   },
   {
    "duration": 0,
    "start_time": "2022-08-30T07:29:40.205Z"
   },
   {
    "duration": 0,
    "start_time": "2022-08-30T07:29:40.207Z"
   },
   {
    "duration": 0,
    "start_time": "2022-08-30T07:29:40.209Z"
   },
   {
    "duration": 0,
    "start_time": "2022-08-30T07:29:40.211Z"
   },
   {
    "duration": 0,
    "start_time": "2022-08-30T07:29:40.213Z"
   },
   {
    "duration": 0,
    "start_time": "2022-08-30T07:29:40.214Z"
   },
   {
    "duration": 0,
    "start_time": "2022-08-30T07:29:40.215Z"
   },
   {
    "duration": 0,
    "start_time": "2022-08-30T07:29:40.216Z"
   },
   {
    "duration": 0,
    "start_time": "2022-08-30T07:29:40.217Z"
   },
   {
    "duration": 0,
    "start_time": "2022-08-30T07:29:40.219Z"
   },
   {
    "duration": 0,
    "start_time": "2022-08-30T07:29:40.220Z"
   },
   {
    "duration": 0,
    "start_time": "2022-08-30T07:29:40.221Z"
   },
   {
    "duration": 0,
    "start_time": "2022-08-30T07:29:40.223Z"
   },
   {
    "duration": 0,
    "start_time": "2022-08-30T07:29:40.224Z"
   },
   {
    "duration": 0,
    "start_time": "2022-08-30T07:29:40.225Z"
   },
   {
    "duration": 0,
    "start_time": "2022-08-30T07:29:40.226Z"
   },
   {
    "duration": 0,
    "start_time": "2022-08-30T07:29:40.292Z"
   },
   {
    "duration": 0,
    "start_time": "2022-08-30T07:29:40.293Z"
   },
   {
    "duration": 0,
    "start_time": "2022-08-30T07:29:40.294Z"
   },
   {
    "duration": 0,
    "start_time": "2022-08-30T07:29:40.296Z"
   },
   {
    "duration": 0,
    "start_time": "2022-08-30T07:29:40.297Z"
   },
   {
    "duration": 0,
    "start_time": "2022-08-30T07:29:40.298Z"
   },
   {
    "duration": 0,
    "start_time": "2022-08-30T07:29:40.299Z"
   },
   {
    "duration": 0,
    "start_time": "2022-08-30T07:29:40.300Z"
   },
   {
    "duration": 0,
    "start_time": "2022-08-30T07:29:40.301Z"
   },
   {
    "duration": 0,
    "start_time": "2022-08-30T07:29:40.303Z"
   },
   {
    "duration": 0,
    "start_time": "2022-08-30T07:29:40.304Z"
   },
   {
    "duration": 0,
    "start_time": "2022-08-30T07:29:40.305Z"
   },
   {
    "duration": 0,
    "start_time": "2022-08-30T07:29:40.306Z"
   },
   {
    "duration": 0,
    "start_time": "2022-08-30T07:29:40.307Z"
   },
   {
    "duration": 0,
    "start_time": "2022-08-30T07:29:40.308Z"
   },
   {
    "duration": 0,
    "start_time": "2022-08-30T07:29:40.309Z"
   },
   {
    "duration": 0,
    "start_time": "2022-08-30T07:29:40.311Z"
   },
   {
    "duration": 0,
    "start_time": "2022-08-30T07:29:40.312Z"
   },
   {
    "duration": 0,
    "start_time": "2022-08-30T07:29:40.313Z"
   },
   {
    "duration": 0,
    "start_time": "2022-08-30T07:29:40.315Z"
   },
   {
    "duration": 0,
    "start_time": "2022-08-30T07:29:40.316Z"
   },
   {
    "duration": 0,
    "start_time": "2022-08-30T07:29:40.317Z"
   },
   {
    "duration": 0,
    "start_time": "2022-08-30T07:29:40.318Z"
   },
   {
    "duration": 0,
    "start_time": "2022-08-30T07:29:40.320Z"
   },
   {
    "duration": 0,
    "start_time": "2022-08-30T07:29:40.321Z"
   },
   {
    "duration": 0,
    "start_time": "2022-08-30T07:29:40.322Z"
   },
   {
    "duration": 0,
    "start_time": "2022-08-30T07:29:40.323Z"
   },
   {
    "duration": 0,
    "start_time": "2022-08-30T07:29:40.324Z"
   },
   {
    "duration": 0,
    "start_time": "2022-08-30T07:29:40.325Z"
   },
   {
    "duration": 0,
    "start_time": "2022-08-30T07:29:40.327Z"
   },
   {
    "duration": 0,
    "start_time": "2022-08-30T07:29:40.328Z"
   },
   {
    "duration": 0,
    "start_time": "2022-08-30T07:29:40.330Z"
   },
   {
    "duration": 0,
    "start_time": "2022-08-30T07:29:40.391Z"
   },
   {
    "duration": 0,
    "start_time": "2022-08-30T07:29:40.393Z"
   },
   {
    "duration": 0,
    "start_time": "2022-08-30T07:29:40.394Z"
   },
   {
    "duration": 0,
    "start_time": "2022-08-30T07:29:40.396Z"
   },
   {
    "duration": 0,
    "start_time": "2022-08-30T07:29:40.397Z"
   },
   {
    "duration": 0,
    "start_time": "2022-08-30T07:29:40.398Z"
   },
   {
    "duration": 0,
    "start_time": "2022-08-30T07:29:40.399Z"
   },
   {
    "duration": 0,
    "start_time": "2022-08-30T07:29:40.400Z"
   },
   {
    "duration": 0,
    "start_time": "2022-08-30T07:29:40.402Z"
   },
   {
    "duration": 0,
    "start_time": "2022-08-30T07:29:40.403Z"
   },
   {
    "duration": 0,
    "start_time": "2022-08-30T07:29:40.405Z"
   },
   {
    "duration": 0,
    "start_time": "2022-08-30T07:29:40.406Z"
   },
   {
    "duration": 0,
    "start_time": "2022-08-30T07:29:40.408Z"
   },
   {
    "duration": 0,
    "start_time": "2022-08-30T07:29:40.409Z"
   },
   {
    "duration": 0,
    "start_time": "2022-08-30T07:29:40.411Z"
   },
   {
    "duration": 0,
    "start_time": "2022-08-30T07:29:40.412Z"
   },
   {
    "duration": 0,
    "start_time": "2022-08-30T07:29:40.414Z"
   },
   {
    "duration": 0,
    "start_time": "2022-08-30T07:29:40.415Z"
   },
   {
    "duration": 0,
    "start_time": "2022-08-30T07:29:40.416Z"
   },
   {
    "duration": 0,
    "start_time": "2022-08-30T07:29:40.418Z"
   },
   {
    "duration": 0,
    "start_time": "2022-08-30T07:29:40.419Z"
   },
   {
    "duration": 0,
    "start_time": "2022-08-30T07:29:40.421Z"
   },
   {
    "duration": 0,
    "start_time": "2022-08-30T07:29:40.422Z"
   },
   {
    "duration": 0,
    "start_time": "2022-08-30T07:29:40.424Z"
   },
   {
    "duration": 0,
    "start_time": "2022-08-30T07:29:40.425Z"
   },
   {
    "duration": 0,
    "start_time": "2022-08-30T07:29:40.426Z"
   },
   {
    "duration": 0,
    "start_time": "2022-08-30T07:29:40.492Z"
   },
   {
    "duration": 0,
    "start_time": "2022-08-30T07:29:40.493Z"
   },
   {
    "duration": 0,
    "start_time": "2022-08-30T07:29:40.494Z"
   },
   {
    "duration": 0,
    "start_time": "2022-08-30T07:29:40.495Z"
   },
   {
    "duration": 0,
    "start_time": "2022-08-30T07:29:40.496Z"
   },
   {
    "duration": 0,
    "start_time": "2022-08-30T07:29:40.497Z"
   },
   {
    "duration": 21,
    "start_time": "2022-08-30T07:30:02.961Z"
   },
   {
    "duration": 78,
    "start_time": "2022-08-30T07:30:20.954Z"
   },
   {
    "duration": 108,
    "start_time": "2022-08-30T07:30:30.740Z"
   },
   {
    "duration": 75,
    "start_time": "2022-08-30T07:30:48.111Z"
   },
   {
    "duration": 87,
    "start_time": "2022-08-30T07:32:04.684Z"
   },
   {
    "duration": 6,
    "start_time": "2022-08-30T07:32:44.629Z"
   },
   {
    "duration": 20,
    "start_time": "2022-08-30T07:32:57.366Z"
   },
   {
    "duration": 9,
    "start_time": "2022-08-30T07:34:58.425Z"
   },
   {
    "duration": 17,
    "start_time": "2022-08-30T07:35:00.967Z"
   },
   {
    "duration": 404,
    "start_time": "2022-08-30T07:35:04.731Z"
   },
   {
    "duration": 6,
    "start_time": "2022-08-30T07:35:10.662Z"
   },
   {
    "duration": 7,
    "start_time": "2022-08-30T07:35:11.519Z"
   },
   {
    "duration": 13,
    "start_time": "2022-08-30T07:35:18.974Z"
   },
   {
    "duration": 10,
    "start_time": "2022-08-30T07:35:22.582Z"
   },
   {
    "duration": 29,
    "start_time": "2022-08-30T07:37:18.120Z"
   },
   {
    "duration": 26,
    "start_time": "2022-08-30T07:37:20.926Z"
   },
   {
    "duration": 352,
    "start_time": "2022-08-30T07:37:27.550Z"
   },
   {
    "duration": 7,
    "start_time": "2022-08-30T07:37:30.162Z"
   },
   {
    "duration": 211,
    "start_time": "2022-08-30T07:37:32.736Z"
   },
   {
    "duration": 293,
    "start_time": "2022-08-30T07:37:33.422Z"
   },
   {
    "duration": 45,
    "start_time": "2022-08-30T07:37:36.717Z"
   },
   {
    "duration": 6,
    "start_time": "2022-08-30T07:37:40.139Z"
   },
   {
    "duration": 8,
    "start_time": "2022-08-30T07:37:41.798Z"
   },
   {
    "duration": 12,
    "start_time": "2022-08-30T07:37:44.866Z"
   },
   {
    "duration": 31,
    "start_time": "2022-08-30T07:37:47.606Z"
   },
   {
    "duration": 12,
    "start_time": "2022-08-30T07:37:48.664Z"
   },
   {
    "duration": 10,
    "start_time": "2022-08-30T07:37:51.300Z"
   },
   {
    "duration": 11,
    "start_time": "2022-08-30T07:37:53.017Z"
   },
   {
    "duration": 4,
    "start_time": "2022-08-30T07:37:55.077Z"
   },
   {
    "duration": 4,
    "start_time": "2022-08-30T07:37:59.468Z"
   },
   {
    "duration": 7,
    "start_time": "2022-08-30T07:38:04.477Z"
   },
   {
    "duration": 354,
    "start_time": "2022-08-30T07:39:42.779Z"
   },
   {
    "duration": 5,
    "start_time": "2022-08-30T07:47:24.779Z"
   },
   {
    "duration": 12,
    "start_time": "2022-08-30T07:47:26.732Z"
   },
   {
    "duration": 26,
    "start_time": "2022-08-30T07:47:28.548Z"
   },
   {
    "duration": 9,
    "start_time": "2022-08-30T07:51:53.969Z"
   },
   {
    "duration": 362,
    "start_time": "2022-08-30T07:51:57.416Z"
   },
   {
    "duration": 8,
    "start_time": "2022-08-30T07:51:59.625Z"
   },
   {
    "duration": 7,
    "start_time": "2022-08-30T07:52:04.185Z"
   },
   {
    "duration": 402,
    "start_time": "2022-08-30T07:52:04.948Z"
   },
   {
    "duration": 4,
    "start_time": "2022-08-30T07:52:09.189Z"
   },
   {
    "duration": 16,
    "start_time": "2022-08-30T07:52:10.884Z"
   },
   {
    "duration": 123,
    "start_time": "2022-08-30T07:52:14.563Z"
   },
   {
    "duration": 10,
    "start_time": "2022-08-30T07:52:21.342Z"
   },
   {
    "duration": 11,
    "start_time": "2022-08-30T07:52:21.910Z"
   },
   {
    "duration": 41,
    "start_time": "2022-08-30T07:52:25.074Z"
   },
   {
    "duration": 34,
    "start_time": "2022-08-30T07:52:27.800Z"
   },
   {
    "duration": 370,
    "start_time": "2022-08-30T07:52:33.813Z"
   },
   {
    "duration": 4,
    "start_time": "2022-08-30T07:52:36.721Z"
   },
   {
    "duration": 5,
    "start_time": "2022-08-30T07:52:39.756Z"
   },
   {
    "duration": 16,
    "start_time": "2022-08-30T07:52:40.325Z"
   },
   {
    "duration": 337,
    "start_time": "2022-08-30T07:52:43.052Z"
   },
   {
    "duration": 5,
    "start_time": "2022-08-30T07:52:45.572Z"
   },
   {
    "duration": 4,
    "start_time": "2022-08-30T07:52:51.042Z"
   },
   {
    "duration": 6,
    "start_time": "2022-08-30T07:52:51.807Z"
   },
   {
    "duration": 4,
    "start_time": "2022-08-30T07:52:52.616Z"
   },
   {
    "duration": 343,
    "start_time": "2022-08-30T07:52:57.233Z"
   },
   {
    "duration": 4,
    "start_time": "2022-08-30T07:52:59.758Z"
   },
   {
    "duration": 14,
    "start_time": "2022-08-30T07:53:02.864Z"
   },
   {
    "duration": 8,
    "start_time": "2022-08-30T07:54:41.180Z"
   },
   {
    "duration": 18,
    "start_time": "2022-08-30T07:54:43.711Z"
   },
   {
    "duration": 12,
    "start_time": "2022-08-30T07:54:44.353Z"
   },
   {
    "duration": 20,
    "start_time": "2022-08-30T07:54:48.171Z"
   },
   {
    "duration": 30,
    "start_time": "2022-08-30T07:54:51.266Z"
   },
   {
    "duration": 22,
    "start_time": "2022-08-30T07:54:51.797Z"
   },
   {
    "duration": 7,
    "start_time": "2022-08-30T07:54:54.593Z"
   },
   {
    "duration": 461,
    "start_time": "2022-08-30T07:54:57.701Z"
   },
   {
    "duration": 5,
    "start_time": "2022-08-30T07:55:00.734Z"
   },
   {
    "duration": 10,
    "start_time": "2022-08-30T07:55:01.854Z"
   },
   {
    "duration": 5,
    "start_time": "2022-08-30T07:55:02.500Z"
   },
   {
    "duration": 357,
    "start_time": "2022-08-30T07:55:05.350Z"
   },
   {
    "duration": 5,
    "start_time": "2022-08-30T07:55:09.467Z"
   },
   {
    "duration": 8,
    "start_time": "2022-08-30T07:55:10.290Z"
   },
   {
    "duration": 5,
    "start_time": "2022-08-30T07:55:11.051Z"
   },
   {
    "duration": 4,
    "start_time": "2022-08-30T07:55:11.692Z"
   },
   {
    "duration": 16,
    "start_time": "2022-08-30T07:55:12.286Z"
   },
   {
    "duration": 4,
    "start_time": "2022-08-30T07:55:16.968Z"
   },
   {
    "duration": 5,
    "start_time": "2022-08-30T07:55:17.659Z"
   },
   {
    "duration": 18,
    "start_time": "2022-08-30T07:55:18.816Z"
   },
   {
    "duration": 343,
    "start_time": "2022-08-30T07:55:22.129Z"
   },
   {
    "duration": 371,
    "start_time": "2022-08-30T07:55:25.154Z"
   },
   {
    "duration": 19,
    "start_time": "2022-08-30T07:55:34.864Z"
   },
   {
    "duration": 502,
    "start_time": "2022-08-30T07:55:37.811Z"
   },
   {
    "duration": 10,
    "start_time": "2022-08-30T07:55:38.669Z"
   },
   {
    "duration": 8,
    "start_time": "2022-08-30T07:55:43.324Z"
   },
   {
    "duration": 22,
    "start_time": "2022-08-30T07:55:49.407Z"
   },
   {
    "duration": 8,
    "start_time": "2022-08-30T08:03:54.274Z"
   },
   {
    "duration": 7,
    "start_time": "2022-08-30T08:04:49.975Z"
   },
   {
    "duration": 8,
    "start_time": "2022-08-30T08:04:53.280Z"
   },
   {
    "duration": 8,
    "start_time": "2022-08-30T08:04:57.244Z"
   },
   {
    "duration": 9,
    "start_time": "2022-08-30T08:05:00.317Z"
   },
   {
    "duration": 4,
    "start_time": "2022-08-30T08:05:03.705Z"
   },
   {
    "duration": 258,
    "start_time": "2022-08-30T08:05:05.621Z"
   },
   {
    "duration": 6,
    "start_time": "2022-08-30T08:05:06.273Z"
   },
   {
    "duration": 4,
    "start_time": "2022-08-30T08:07:26.295Z"
   },
   {
    "duration": 257,
    "start_time": "2022-08-30T08:07:28.961Z"
   },
   {
    "duration": 6,
    "start_time": "2022-08-30T08:07:29.845Z"
   },
   {
    "duration": 9,
    "start_time": "2022-08-30T08:09:52.071Z"
   },
   {
    "duration": 7,
    "start_time": "2022-08-30T08:10:26.061Z"
   },
   {
    "duration": 282,
    "start_time": "2022-08-30T08:10:36.443Z"
   },
   {
    "duration": 265,
    "start_time": "2022-08-30T08:10:40.667Z"
   },
   {
    "duration": 360,
    "start_time": "2022-08-30T08:10:46.007Z"
   },
   {
    "duration": 173,
    "start_time": "2022-08-30T08:10:49.306Z"
   },
   {
    "duration": 163,
    "start_time": "2022-08-30T08:10:52.202Z"
   },
   {
    "duration": 180,
    "start_time": "2022-08-30T08:10:54.940Z"
   },
   {
    "duration": 262,
    "start_time": "2022-08-30T08:11:00.822Z"
   },
   {
    "duration": 281,
    "start_time": "2022-08-30T08:11:04.584Z"
   },
   {
    "duration": 177,
    "start_time": "2022-08-30T08:11:07.443Z"
   },
   {
    "duration": 388,
    "start_time": "2022-08-30T08:11:08.869Z"
   },
   {
    "duration": 267,
    "start_time": "2022-08-30T08:11:12.953Z"
   },
   {
    "duration": 185,
    "start_time": "2022-08-30T08:11:15.851Z"
   },
   {
    "duration": 172,
    "start_time": "2022-08-30T08:11:20.941Z"
   },
   {
    "duration": 163,
    "start_time": "2022-08-30T08:16:44.942Z"
   },
   {
    "duration": 176,
    "start_time": "2022-08-30T08:19:34.038Z"
   },
   {
    "duration": 161,
    "start_time": "2022-08-30T08:19:37.413Z"
   },
   {
    "duration": 2580,
    "start_time": "2022-08-30T08:23:04.571Z"
   },
   {
    "duration": 323,
    "start_time": "2022-08-30T08:23:08.663Z"
   },
   {
    "duration": 427,
    "start_time": "2022-08-30T08:23:14.048Z"
   },
   {
    "duration": 7,
    "start_time": "2022-08-30T08:23:21.744Z"
   },
   {
    "duration": 301,
    "start_time": "2022-08-30T08:23:54.621Z"
   },
   {
    "duration": 81,
    "start_time": "2022-08-30T08:30:12.307Z"
   },
   {
    "duration": 315,
    "start_time": "2022-08-30T08:31:34.938Z"
   },
   {
    "duration": 276,
    "start_time": "2022-08-30T08:32:15.103Z"
   },
   {
    "duration": 294,
    "start_time": "2022-08-30T08:33:11.883Z"
   },
   {
    "duration": 239,
    "start_time": "2022-08-30T08:33:39.155Z"
   },
   {
    "duration": 133,
    "start_time": "2022-08-30T08:33:42.175Z"
   },
   {
    "duration": 666,
    "start_time": "2022-08-30T08:33:45.113Z"
   },
   {
    "duration": 520,
    "start_time": "2022-08-30T08:33:55.683Z"
   },
   {
    "duration": 494,
    "start_time": "2022-08-30T08:33:58.928Z"
   },
   {
    "duration": 1070,
    "start_time": "2022-08-30T08:35:32.132Z"
   },
   {
    "duration": 233,
    "start_time": "2022-08-30T08:36:12.632Z"
   },
   {
    "duration": 169,
    "start_time": "2022-08-30T08:36:29.147Z"
   },
   {
    "duration": 5,
    "start_time": "2022-08-30T08:36:35.287Z"
   },
   {
    "duration": 475,
    "start_time": "2022-08-30T08:36:44.247Z"
   },
   {
    "duration": 16,
    "start_time": "2022-08-30T08:37:00.307Z"
   },
   {
    "duration": 99,
    "start_time": "2022-08-30T08:38:08.709Z"
   },
   {
    "duration": 28,
    "start_time": "2022-08-30T08:38:52.361Z"
   },
   {
    "duration": 179,
    "start_time": "2022-08-30T08:39:25.044Z"
   },
   {
    "duration": 168,
    "start_time": "2022-08-30T08:40:17.058Z"
   },
   {
    "duration": 452,
    "start_time": "2022-08-30T08:40:22.398Z"
   },
   {
    "duration": 181,
    "start_time": "2022-08-30T08:40:45.319Z"
   },
   {
    "duration": 364,
    "start_time": "2022-08-30T08:41:16.077Z"
   },
   {
    "duration": 174,
    "start_time": "2022-08-30T08:41:29.836Z"
   },
   {
    "duration": 189,
    "start_time": "2022-08-30T08:42:43.396Z"
   },
   {
    "duration": 194,
    "start_time": "2022-08-30T08:43:37.164Z"
   },
   {
    "duration": 180,
    "start_time": "2022-08-30T08:44:01.188Z"
   },
   {
    "duration": 14,
    "start_time": "2022-08-30T08:46:47.767Z"
   },
   {
    "duration": 81,
    "start_time": "2022-08-30T08:47:01.348Z"
   },
   {
    "duration": 14,
    "start_time": "2022-08-30T08:47:11.108Z"
   },
   {
    "duration": 70,
    "start_time": "2022-08-30T08:49:08.108Z"
   },
   {
    "duration": 16,
    "start_time": "2022-08-30T08:50:33.287Z"
   },
   {
    "duration": 14,
    "start_time": "2022-08-30T08:50:41.054Z"
   },
   {
    "duration": 16,
    "start_time": "2022-08-30T08:51:57.119Z"
   },
   {
    "duration": 1743,
    "start_time": "2022-08-30T08:52:14.568Z"
   },
   {
    "duration": 1340,
    "start_time": "2022-08-30T08:52:31.855Z"
   },
   {
    "duration": 1316,
    "start_time": "2022-08-30T08:53:38.535Z"
   },
   {
    "duration": 15,
    "start_time": "2022-08-30T08:54:54.788Z"
   },
   {
    "duration": 14,
    "start_time": "2022-08-30T08:55:09.290Z"
   },
   {
    "duration": 84,
    "start_time": "2022-08-30T08:55:29.518Z"
   },
   {
    "duration": 77,
    "start_time": "2022-08-30T08:55:35.916Z"
   },
   {
    "duration": 82,
    "start_time": "2022-08-30T08:55:50.789Z"
   },
   {
    "duration": 15,
    "start_time": "2022-08-30T08:55:56.680Z"
   },
   {
    "duration": 16,
    "start_time": "2022-08-30T08:56:08.994Z"
   },
   {
    "duration": 1314,
    "start_time": "2022-08-30T08:57:29.043Z"
   },
   {
    "duration": 12,
    "start_time": "2022-08-30T08:57:59.171Z"
   },
   {
    "duration": 10,
    "start_time": "2022-08-30T08:59:14.470Z"
   },
   {
    "duration": 16,
    "start_time": "2022-08-30T08:59:37.974Z"
   },
   {
    "duration": 1324,
    "start_time": "2022-08-30T09:00:15.716Z"
   },
   {
    "duration": 1280,
    "start_time": "2022-08-30T09:00:26.498Z"
   },
   {
    "duration": 15,
    "start_time": "2022-08-30T09:00:32.268Z"
   },
   {
    "duration": 14,
    "start_time": "2022-08-30T09:01:15.915Z"
   },
   {
    "duration": 13,
    "start_time": "2022-08-30T09:01:58.125Z"
   },
   {
    "duration": 380,
    "start_time": "2022-08-30T09:02:01.370Z"
   },
   {
    "duration": 15,
    "start_time": "2022-08-30T09:03:33.974Z"
   },
   {
    "duration": 20,
    "start_time": "2022-08-30T09:04:01.599Z"
   },
   {
    "duration": 14,
    "start_time": "2022-08-30T09:04:12.920Z"
   },
   {
    "duration": 8,
    "start_time": "2022-08-30T09:04:18.971Z"
   },
   {
    "duration": 8,
    "start_time": "2022-08-30T09:04:23.173Z"
   },
   {
    "duration": 12,
    "start_time": "2022-08-30T09:04:41.241Z"
   },
   {
    "duration": 79,
    "start_time": "2022-08-30T09:05:08.498Z"
   },
   {
    "duration": 16,
    "start_time": "2022-08-30T09:05:14.199Z"
   },
   {
    "duration": 13,
    "start_time": "2022-08-30T09:05:26.514Z"
   },
   {
    "duration": 20,
    "start_time": "2022-08-30T09:06:03.056Z"
   },
   {
    "duration": 12,
    "start_time": "2022-08-30T09:06:19.264Z"
   },
   {
    "duration": 13,
    "start_time": "2022-08-30T09:06:59.602Z"
   },
   {
    "duration": 1874,
    "start_time": "2022-08-30T21:34:56.434Z"
   },
   {
    "duration": 293,
    "start_time": "2022-08-30T21:34:58.310Z"
   },
   {
    "duration": 15,
    "start_time": "2022-08-30T21:34:58.604Z"
   },
   {
    "duration": 78,
    "start_time": "2022-08-30T21:34:58.621Z"
   },
   {
    "duration": 4,
    "start_time": "2022-08-30T21:34:58.700Z"
   },
   {
    "duration": 494,
    "start_time": "2022-08-30T21:34:58.706Z"
   },
   {
    "duration": 108,
    "start_time": "2022-08-30T21:34:59.202Z"
   },
   {
    "duration": 688,
    "start_time": "2022-08-30T21:34:59.312Z"
   },
   {
    "duration": 5,
    "start_time": "2022-08-30T21:35:00.002Z"
   },
   {
    "duration": 23,
    "start_time": "2022-08-30T21:35:00.009Z"
   },
   {
    "duration": 17,
    "start_time": "2022-08-30T21:35:00.034Z"
   },
   {
    "duration": 188,
    "start_time": "2022-08-30T21:35:00.053Z"
   },
   {
    "duration": 58,
    "start_time": "2022-08-30T21:35:00.243Z"
   },
   {
    "duration": 823,
    "start_time": "2022-08-30T21:35:00.303Z"
   },
   {
    "duration": 903,
    "start_time": "2022-08-30T21:35:01.128Z"
   },
   {
    "duration": 4,
    "start_time": "2022-08-30T21:35:02.033Z"
   },
   {
    "duration": 63,
    "start_time": "2022-08-30T21:35:02.038Z"
   },
   {
    "duration": 3,
    "start_time": "2022-08-30T21:35:02.103Z"
   },
   {
    "duration": 632,
    "start_time": "2022-08-30T21:35:02.107Z"
   },
   {
    "duration": 482,
    "start_time": "2022-08-30T21:35:02.741Z"
   },
   {
    "duration": 3,
    "start_time": "2022-08-30T21:35:03.224Z"
   },
   {
    "duration": 195,
    "start_time": "2022-08-30T21:35:03.229Z"
   },
   {
    "duration": 0,
    "start_time": "2022-08-30T21:35:03.431Z"
   },
   {
    "duration": 0,
    "start_time": "2022-08-30T21:35:03.433Z"
   },
   {
    "duration": 0,
    "start_time": "2022-08-30T21:35:03.434Z"
   },
   {
    "duration": 0,
    "start_time": "2022-08-30T21:35:03.435Z"
   },
   {
    "duration": 0,
    "start_time": "2022-08-30T21:35:03.437Z"
   },
   {
    "duration": 0,
    "start_time": "2022-08-30T21:35:03.439Z"
   },
   {
    "duration": 0,
    "start_time": "2022-08-30T21:35:03.440Z"
   },
   {
    "duration": 0,
    "start_time": "2022-08-30T21:35:03.441Z"
   },
   {
    "duration": 0,
    "start_time": "2022-08-30T21:35:03.443Z"
   },
   {
    "duration": 0,
    "start_time": "2022-08-30T21:35:03.444Z"
   },
   {
    "duration": 0,
    "start_time": "2022-08-30T21:35:03.499Z"
   },
   {
    "duration": 0,
    "start_time": "2022-08-30T21:35:03.501Z"
   },
   {
    "duration": 0,
    "start_time": "2022-08-30T21:35:03.502Z"
   },
   {
    "duration": 1,
    "start_time": "2022-08-30T21:35:03.502Z"
   },
   {
    "duration": 0,
    "start_time": "2022-08-30T21:35:03.503Z"
   },
   {
    "duration": 0,
    "start_time": "2022-08-30T21:35:03.504Z"
   },
   {
    "duration": 0,
    "start_time": "2022-08-30T21:35:03.505Z"
   },
   {
    "duration": 0,
    "start_time": "2022-08-30T21:35:03.507Z"
   },
   {
    "duration": 0,
    "start_time": "2022-08-30T21:35:03.508Z"
   },
   {
    "duration": 0,
    "start_time": "2022-08-30T21:35:03.509Z"
   },
   {
    "duration": 0,
    "start_time": "2022-08-30T21:35:03.510Z"
   },
   {
    "duration": 0,
    "start_time": "2022-08-30T21:35:03.511Z"
   },
   {
    "duration": 0,
    "start_time": "2022-08-30T21:35:03.513Z"
   },
   {
    "duration": 0,
    "start_time": "2022-08-30T21:35:03.514Z"
   },
   {
    "duration": 0,
    "start_time": "2022-08-30T21:35:03.515Z"
   },
   {
    "duration": 0,
    "start_time": "2022-08-30T21:35:03.516Z"
   },
   {
    "duration": 0,
    "start_time": "2022-08-30T21:35:03.518Z"
   },
   {
    "duration": 0,
    "start_time": "2022-08-30T21:35:03.519Z"
   },
   {
    "duration": 0,
    "start_time": "2022-08-30T21:35:03.520Z"
   },
   {
    "duration": 0,
    "start_time": "2022-08-30T21:35:03.521Z"
   },
   {
    "duration": 0,
    "start_time": "2022-08-30T21:35:03.523Z"
   },
   {
    "duration": 0,
    "start_time": "2022-08-30T21:35:03.524Z"
   },
   {
    "duration": 0,
    "start_time": "2022-08-30T21:35:03.526Z"
   },
   {
    "duration": 0,
    "start_time": "2022-08-30T21:35:03.527Z"
   },
   {
    "duration": 0,
    "start_time": "2022-08-30T21:35:03.528Z"
   },
   {
    "duration": 0,
    "start_time": "2022-08-30T21:35:03.599Z"
   },
   {
    "duration": 0,
    "start_time": "2022-08-30T21:35:03.600Z"
   },
   {
    "duration": 0,
    "start_time": "2022-08-30T21:35:03.601Z"
   },
   {
    "duration": 0,
    "start_time": "2022-08-30T21:35:03.601Z"
   },
   {
    "duration": 0,
    "start_time": "2022-08-30T21:35:03.602Z"
   },
   {
    "duration": 0,
    "start_time": "2022-08-30T21:35:03.603Z"
   },
   {
    "duration": 0,
    "start_time": "2022-08-30T21:35:03.604Z"
   },
   {
    "duration": 0,
    "start_time": "2022-08-30T21:35:03.605Z"
   },
   {
    "duration": 0,
    "start_time": "2022-08-30T21:35:03.606Z"
   },
   {
    "duration": 0,
    "start_time": "2022-08-30T21:35:03.607Z"
   },
   {
    "duration": 0,
    "start_time": "2022-08-30T21:35:03.607Z"
   },
   {
    "duration": 0,
    "start_time": "2022-08-30T21:35:03.608Z"
   },
   {
    "duration": 0,
    "start_time": "2022-08-30T21:35:03.609Z"
   },
   {
    "duration": 0,
    "start_time": "2022-08-30T21:35:03.610Z"
   },
   {
    "duration": 0,
    "start_time": "2022-08-30T21:35:03.611Z"
   },
   {
    "duration": 0,
    "start_time": "2022-08-30T21:35:03.612Z"
   },
   {
    "duration": 0,
    "start_time": "2022-08-30T21:35:03.613Z"
   },
   {
    "duration": 0,
    "start_time": "2022-08-30T21:35:03.613Z"
   },
   {
    "duration": 0,
    "start_time": "2022-08-30T21:35:03.614Z"
   },
   {
    "duration": 0,
    "start_time": "2022-08-30T21:35:03.615Z"
   },
   {
    "duration": 0,
    "start_time": "2022-08-30T21:35:03.616Z"
   },
   {
    "duration": 0,
    "start_time": "2022-08-30T21:35:03.617Z"
   },
   {
    "duration": 0,
    "start_time": "2022-08-30T21:35:03.618Z"
   },
   {
    "duration": 0,
    "start_time": "2022-08-30T21:35:03.619Z"
   },
   {
    "duration": 0,
    "start_time": "2022-08-30T21:35:03.620Z"
   },
   {
    "duration": 0,
    "start_time": "2022-08-30T21:35:03.621Z"
   },
   {
    "duration": 0,
    "start_time": "2022-08-30T21:35:03.621Z"
   },
   {
    "duration": 0,
    "start_time": "2022-08-30T21:35:03.622Z"
   },
   {
    "duration": 0,
    "start_time": "2022-08-30T21:35:03.623Z"
   },
   {
    "duration": 0,
    "start_time": "2022-08-30T21:35:03.624Z"
   },
   {
    "duration": 0,
    "start_time": "2022-08-30T21:35:03.698Z"
   },
   {
    "duration": 0,
    "start_time": "2022-08-30T21:35:03.699Z"
   },
   {
    "duration": 0,
    "start_time": "2022-08-30T21:35:03.701Z"
   },
   {
    "duration": 0,
    "start_time": "2022-08-30T21:35:03.702Z"
   },
   {
    "duration": 0,
    "start_time": "2022-08-30T21:35:03.702Z"
   },
   {
    "duration": 0,
    "start_time": "2022-08-30T21:35:03.703Z"
   },
   {
    "duration": 0,
    "start_time": "2022-08-30T21:35:03.704Z"
   },
   {
    "duration": 0,
    "start_time": "2022-08-30T21:35:03.705Z"
   },
   {
    "duration": 0,
    "start_time": "2022-08-30T21:35:03.706Z"
   },
   {
    "duration": 0,
    "start_time": "2022-08-30T21:35:03.707Z"
   },
   {
    "duration": 0,
    "start_time": "2022-08-30T21:35:03.708Z"
   },
   {
    "duration": 0,
    "start_time": "2022-08-30T21:35:03.709Z"
   },
   {
    "duration": 0,
    "start_time": "2022-08-30T21:35:03.709Z"
   },
   {
    "duration": 0,
    "start_time": "2022-08-30T21:35:03.710Z"
   },
   {
    "duration": 0,
    "start_time": "2022-08-30T21:35:03.712Z"
   },
   {
    "duration": 0,
    "start_time": "2022-08-30T21:35:03.712Z"
   },
   {
    "duration": 0,
    "start_time": "2022-08-30T21:35:03.713Z"
   },
   {
    "duration": 0,
    "start_time": "2022-08-30T21:35:03.714Z"
   },
   {
    "duration": 0,
    "start_time": "2022-08-30T21:35:03.715Z"
   },
   {
    "duration": 0,
    "start_time": "2022-08-30T21:35:03.716Z"
   },
   {
    "duration": 0,
    "start_time": "2022-08-30T21:35:03.717Z"
   },
   {
    "duration": 0,
    "start_time": "2022-08-30T21:35:03.718Z"
   },
   {
    "duration": 0,
    "start_time": "2022-08-30T21:35:03.719Z"
   },
   {
    "duration": 0,
    "start_time": "2022-08-30T21:35:03.720Z"
   },
   {
    "duration": 0,
    "start_time": "2022-08-30T21:35:03.721Z"
   },
   {
    "duration": 0,
    "start_time": "2022-08-30T21:35:03.722Z"
   },
   {
    "duration": 0,
    "start_time": "2022-08-30T21:35:03.723Z"
   },
   {
    "duration": 0,
    "start_time": "2022-08-30T21:35:03.724Z"
   },
   {
    "duration": 0,
    "start_time": "2022-08-30T21:35:03.798Z"
   },
   {
    "duration": 0,
    "start_time": "2022-08-30T21:35:03.800Z"
   },
   {
    "duration": 0,
    "start_time": "2022-08-30T21:35:03.801Z"
   },
   {
    "duration": 0,
    "start_time": "2022-08-30T21:35:03.802Z"
   },
   {
    "duration": 0,
    "start_time": "2022-08-30T21:35:03.803Z"
   },
   {
    "duration": 0,
    "start_time": "2022-08-30T21:35:03.804Z"
   },
   {
    "duration": 0,
    "start_time": "2022-08-30T21:35:03.805Z"
   },
   {
    "duration": 0,
    "start_time": "2022-08-30T21:35:03.805Z"
   },
   {
    "duration": 0,
    "start_time": "2022-08-30T21:35:03.806Z"
   },
   {
    "duration": 0,
    "start_time": "2022-08-30T21:35:03.807Z"
   },
   {
    "duration": 0,
    "start_time": "2022-08-30T21:35:03.808Z"
   },
   {
    "duration": 0,
    "start_time": "2022-08-30T21:35:03.809Z"
   },
   {
    "duration": 0,
    "start_time": "2022-08-30T21:35:03.810Z"
   },
   {
    "duration": 0,
    "start_time": "2022-08-30T21:35:03.810Z"
   },
   {
    "duration": 0,
    "start_time": "2022-08-30T21:35:03.811Z"
   },
   {
    "duration": 0,
    "start_time": "2022-08-30T21:35:03.811Z"
   },
   {
    "duration": 0,
    "start_time": "2022-08-30T21:35:03.812Z"
   },
   {
    "duration": 0,
    "start_time": "2022-08-30T21:35:03.813Z"
   },
   {
    "duration": 0,
    "start_time": "2022-08-30T21:35:03.814Z"
   },
   {
    "duration": 0,
    "start_time": "2022-08-30T21:35:03.815Z"
   },
   {
    "duration": 0,
    "start_time": "2022-08-30T21:35:03.816Z"
   },
   {
    "duration": 0,
    "start_time": "2022-08-30T21:35:03.817Z"
   },
   {
    "duration": 0,
    "start_time": "2022-08-30T21:35:03.818Z"
   },
   {
    "duration": 0,
    "start_time": "2022-08-30T21:35:03.819Z"
   },
   {
    "duration": 0,
    "start_time": "2022-08-30T21:35:03.820Z"
   },
   {
    "duration": 0,
    "start_time": "2022-08-30T21:35:03.821Z"
   },
   {
    "duration": 0,
    "start_time": "2022-08-30T21:35:03.822Z"
   },
   {
    "duration": 0,
    "start_time": "2022-08-30T21:35:03.823Z"
   },
   {
    "duration": 0,
    "start_time": "2022-08-30T21:35:03.824Z"
   },
   {
    "duration": 0,
    "start_time": "2022-08-30T21:35:03.901Z"
   },
   {
    "duration": 0,
    "start_time": "2022-08-30T21:35:03.902Z"
   },
   {
    "duration": 0,
    "start_time": "2022-08-30T21:35:03.903Z"
   },
   {
    "duration": 0,
    "start_time": "2022-08-30T21:35:03.903Z"
   },
   {
    "duration": 65,
    "start_time": "2022-08-30T21:35:46.794Z"
   },
   {
    "duration": 79,
    "start_time": "2022-08-30T21:35:53.698Z"
   },
   {
    "duration": 8,
    "start_time": "2022-08-30T21:36:03.676Z"
   },
   {
    "duration": 1690,
    "start_time": "2022-08-30T21:36:08.680Z"
   },
   {
    "duration": 106,
    "start_time": "2022-08-30T21:36:10.372Z"
   },
   {
    "duration": 19,
    "start_time": "2022-08-30T21:36:10.479Z"
   },
   {
    "duration": 8,
    "start_time": "2022-08-30T21:36:10.500Z"
   },
   {
    "duration": 4,
    "start_time": "2022-08-30T21:36:10.509Z"
   },
   {
    "duration": 233,
    "start_time": "2022-08-30T21:36:10.514Z"
   },
   {
    "duration": 52,
    "start_time": "2022-08-30T21:36:10.748Z"
   },
   {
    "duration": 297,
    "start_time": "2022-08-30T21:36:10.801Z"
   },
   {
    "duration": 4,
    "start_time": "2022-08-30T21:36:11.099Z"
   },
   {
    "duration": 12,
    "start_time": "2022-08-30T21:36:11.106Z"
   },
   {
    "duration": 3,
    "start_time": "2022-08-30T21:36:11.119Z"
   },
   {
    "duration": 116,
    "start_time": "2022-08-30T21:36:11.123Z"
   },
   {
    "duration": 5,
    "start_time": "2022-08-30T21:36:11.241Z"
   },
   {
    "duration": 391,
    "start_time": "2022-08-30T21:36:11.247Z"
   },
   {
    "duration": 406,
    "start_time": "2022-08-30T21:36:11.640Z"
   },
   {
    "duration": 3,
    "start_time": "2022-08-30T21:36:12.047Z"
   },
   {
    "duration": 12,
    "start_time": "2022-08-30T21:36:12.051Z"
   },
   {
    "duration": 4,
    "start_time": "2022-08-30T21:36:12.064Z"
   },
   {
    "duration": 441,
    "start_time": "2022-08-30T21:36:12.069Z"
   },
   {
    "duration": 213,
    "start_time": "2022-08-30T21:36:12.512Z"
   },
   {
    "duration": 3,
    "start_time": "2022-08-30T21:36:12.726Z"
   },
   {
    "duration": 7,
    "start_time": "2022-08-30T21:36:12.731Z"
   },
   {
    "duration": 14,
    "start_time": "2022-08-30T21:36:12.739Z"
   },
   {
    "duration": 3,
    "start_time": "2022-08-30T21:36:12.755Z"
   },
   {
    "duration": 14,
    "start_time": "2022-08-30T21:36:12.759Z"
   },
   {
    "duration": 14,
    "start_time": "2022-08-30T21:36:12.774Z"
   },
   {
    "duration": 411,
    "start_time": "2022-08-30T21:36:12.789Z"
   },
   {
    "duration": 5,
    "start_time": "2022-08-30T21:36:13.204Z"
   },
   {
    "duration": 7,
    "start_time": "2022-08-30T21:36:13.210Z"
   },
   {
    "duration": 9,
    "start_time": "2022-08-30T21:36:13.218Z"
   },
   {
    "duration": 8,
    "start_time": "2022-08-30T21:36:13.228Z"
   },
   {
    "duration": 81,
    "start_time": "2022-08-30T21:36:13.237Z"
   },
   {
    "duration": 22,
    "start_time": "2022-08-30T21:36:13.319Z"
   },
   {
    "duration": 2,
    "start_time": "2022-08-30T21:36:13.342Z"
   },
   {
    "duration": 586,
    "start_time": "2022-08-30T21:36:13.345Z"
   },
   {
    "duration": 6,
    "start_time": "2022-08-30T21:36:13.932Z"
   },
   {
    "duration": 260,
    "start_time": "2022-08-30T21:36:13.939Z"
   },
   {
    "duration": 175,
    "start_time": "2022-08-30T21:36:14.201Z"
   },
   {
    "duration": 59,
    "start_time": "2022-08-30T21:36:14.377Z"
   },
   {
    "duration": 6,
    "start_time": "2022-08-30T21:36:14.438Z"
   },
   {
    "duration": 10,
    "start_time": "2022-08-30T21:36:14.446Z"
   },
   {
    "duration": 31,
    "start_time": "2022-08-30T21:36:14.457Z"
   },
   {
    "duration": 35,
    "start_time": "2022-08-30T21:36:14.490Z"
   },
   {
    "duration": 10,
    "start_time": "2022-08-30T21:36:14.527Z"
   },
   {
    "duration": 59,
    "start_time": "2022-08-30T21:36:14.539Z"
   },
   {
    "duration": 12,
    "start_time": "2022-08-30T21:36:14.600Z"
   },
   {
    "duration": 5,
    "start_time": "2022-08-30T21:36:14.613Z"
   },
   {
    "duration": 8,
    "start_time": "2022-08-30T21:36:14.620Z"
   },
   {
    "duration": 18,
    "start_time": "2022-08-30T21:36:14.630Z"
   },
   {
    "duration": 384,
    "start_time": "2022-08-30T21:36:14.699Z"
   },
   {
    "duration": 14,
    "start_time": "2022-08-30T21:36:15.084Z"
   },
   {
    "duration": 11,
    "start_time": "2022-08-30T21:36:15.100Z"
   },
   {
    "duration": 16,
    "start_time": "2022-08-30T21:36:15.112Z"
   },
   {
    "duration": 309,
    "start_time": "2022-08-30T21:36:15.130Z"
   },
   {
    "duration": 7,
    "start_time": "2022-08-30T21:36:15.440Z"
   },
   {
    "duration": 6,
    "start_time": "2022-08-30T21:36:15.449Z"
   },
   {
    "duration": 319,
    "start_time": "2022-08-30T21:36:15.457Z"
   },
   {
    "duration": 4,
    "start_time": "2022-08-30T21:36:15.778Z"
   },
   {
    "duration": 24,
    "start_time": "2022-08-30T21:36:15.783Z"
   },
   {
    "duration": 34,
    "start_time": "2022-08-30T21:36:15.808Z"
   },
   {
    "duration": 7,
    "start_time": "2022-08-30T21:36:15.843Z"
   },
   {
    "duration": 7,
    "start_time": "2022-08-30T21:36:15.852Z"
   },
   {
    "duration": 54,
    "start_time": "2022-08-30T21:36:15.861Z"
   },
   {
    "duration": 28,
    "start_time": "2022-08-30T21:36:15.916Z"
   },
   {
    "duration": 310,
    "start_time": "2022-08-30T21:36:15.945Z"
   },
   {
    "duration": 4,
    "start_time": "2022-08-30T21:36:16.256Z"
   },
   {
    "duration": 5,
    "start_time": "2022-08-30T21:36:16.262Z"
   },
   {
    "duration": 13,
    "start_time": "2022-08-30T21:36:16.268Z"
   },
   {
    "duration": 381,
    "start_time": "2022-08-30T21:36:16.282Z"
   },
   {
    "duration": 3,
    "start_time": "2022-08-30T21:36:16.665Z"
   },
   {
    "duration": 5,
    "start_time": "2022-08-30T21:36:16.669Z"
   },
   {
    "duration": 5,
    "start_time": "2022-08-30T21:36:16.675Z"
   },
   {
    "duration": 18,
    "start_time": "2022-08-30T21:36:16.681Z"
   },
   {
    "duration": 2,
    "start_time": "2022-08-30T21:36:16.700Z"
   },
   {
    "duration": 290,
    "start_time": "2022-08-30T21:36:16.703Z"
   },
   {
    "duration": 5,
    "start_time": "2022-08-30T21:36:16.994Z"
   },
   {
    "duration": 15,
    "start_time": "2022-08-30T21:36:17.000Z"
   },
   {
    "duration": 7,
    "start_time": "2022-08-30T21:36:17.016Z"
   },
   {
    "duration": 18,
    "start_time": "2022-08-30T21:36:17.025Z"
   },
   {
    "duration": 11,
    "start_time": "2022-08-30T21:36:17.044Z"
   },
   {
    "duration": 17,
    "start_time": "2022-08-30T21:36:17.056Z"
   },
   {
    "duration": 28,
    "start_time": "2022-08-30T21:36:17.101Z"
   },
   {
    "duration": 15,
    "start_time": "2022-08-30T21:36:17.130Z"
   },
   {
    "duration": 6,
    "start_time": "2022-08-30T21:36:17.147Z"
   },
   {
    "duration": 304,
    "start_time": "2022-08-30T21:36:17.155Z"
   },
   {
    "duration": 5,
    "start_time": "2022-08-30T21:36:17.461Z"
   },
   {
    "duration": 9,
    "start_time": "2022-08-30T21:36:17.467Z"
   },
   {
    "duration": 21,
    "start_time": "2022-08-30T21:36:17.478Z"
   },
   {
    "duration": 306,
    "start_time": "2022-08-30T21:36:17.500Z"
   },
   {
    "duration": 5,
    "start_time": "2022-08-30T21:36:17.808Z"
   },
   {
    "duration": 11,
    "start_time": "2022-08-30T21:36:17.814Z"
   },
   {
    "duration": 7,
    "start_time": "2022-08-30T21:36:17.827Z"
   },
   {
    "duration": 6,
    "start_time": "2022-08-30T21:36:17.835Z"
   },
   {
    "duration": 12,
    "start_time": "2022-08-30T21:36:17.843Z"
   },
   {
    "duration": 4,
    "start_time": "2022-08-30T21:36:17.856Z"
   },
   {
    "duration": 4,
    "start_time": "2022-08-30T21:36:17.861Z"
   },
   {
    "duration": 123,
    "start_time": "2022-08-30T21:36:17.866Z"
   },
   {
    "duration": 299,
    "start_time": "2022-08-30T21:36:17.997Z"
   },
   {
    "duration": 322,
    "start_time": "2022-08-30T21:36:18.298Z"
   },
   {
    "duration": 15,
    "start_time": "2022-08-30T21:36:18.621Z"
   },
   {
    "duration": 349,
    "start_time": "2022-08-30T21:36:18.638Z"
   },
   {
    "duration": 14,
    "start_time": "2022-08-30T21:36:18.988Z"
   },
   {
    "duration": 2,
    "start_time": "2022-08-30T21:36:19.004Z"
   },
   {
    "duration": 9,
    "start_time": "2022-08-30T21:36:19.007Z"
   },
   {
    "duration": 2,
    "start_time": "2022-08-30T21:36:19.017Z"
   },
   {
    "duration": 20,
    "start_time": "2022-08-30T21:36:19.020Z"
   },
   {
    "duration": 6,
    "start_time": "2022-08-30T21:36:19.041Z"
   },
   {
    "duration": 5,
    "start_time": "2022-08-30T21:36:19.049Z"
   },
   {
    "duration": 9,
    "start_time": "2022-08-30T21:36:19.055Z"
   },
   {
    "duration": 36,
    "start_time": "2022-08-30T21:36:19.065Z"
   },
   {
    "duration": 6,
    "start_time": "2022-08-30T21:36:19.102Z"
   },
   {
    "duration": 3,
    "start_time": "2022-08-30T21:36:19.109Z"
   },
   {
    "duration": 334,
    "start_time": "2022-08-30T21:36:19.113Z"
   },
   {
    "duration": 5,
    "start_time": "2022-08-30T21:36:19.448Z"
   },
   {
    "duration": 8,
    "start_time": "2022-08-30T21:36:19.454Z"
   },
   {
    "duration": 236,
    "start_time": "2022-08-30T21:36:19.463Z"
   },
   {
    "duration": 221,
    "start_time": "2022-08-30T21:36:19.701Z"
   },
   {
    "duration": 219,
    "start_time": "2022-08-30T21:36:19.923Z"
   },
   {
    "duration": 122,
    "start_time": "2022-08-30T21:36:20.143Z"
   },
   {
    "duration": 138,
    "start_time": "2022-08-30T21:36:20.267Z"
   },
   {
    "duration": 147,
    "start_time": "2022-08-30T21:36:20.406Z"
   },
   {
    "duration": 276,
    "start_time": "2022-08-30T21:36:20.555Z"
   },
   {
    "duration": 239,
    "start_time": "2022-08-30T21:36:20.833Z"
   },
   {
    "duration": 150,
    "start_time": "2022-08-30T21:36:21.073Z"
   },
   {
    "duration": 221,
    "start_time": "2022-08-30T21:36:21.224Z"
   },
   {
    "duration": 221,
    "start_time": "2022-08-30T21:36:21.446Z"
   },
   {
    "duration": 154,
    "start_time": "2022-08-30T21:36:21.669Z"
   },
   {
    "duration": 168,
    "start_time": "2022-08-30T21:36:21.825Z"
   },
   {
    "duration": 148,
    "start_time": "2022-08-30T21:36:21.998Z"
   },
   {
    "duration": 237,
    "start_time": "2022-08-30T21:36:22.148Z"
   },
   {
    "duration": 142,
    "start_time": "2022-08-30T21:36:22.386Z"
   },
   {
    "duration": 1872,
    "start_time": "2022-08-30T21:36:22.529Z"
   },
   {
    "duration": 338,
    "start_time": "2022-08-30T21:36:24.403Z"
   },
   {
    "duration": 393,
    "start_time": "2022-08-30T21:36:24.743Z"
   },
   {
    "duration": 6,
    "start_time": "2022-08-30T21:36:25.137Z"
   },
   {
    "duration": 392,
    "start_time": "2022-08-30T21:36:25.145Z"
   },
   {
    "duration": 230,
    "start_time": "2022-08-30T21:36:25.539Z"
   },
   {
    "duration": 235,
    "start_time": "2022-08-30T21:36:25.770Z"
   },
   {
    "duration": 223,
    "start_time": "2022-08-30T21:36:26.007Z"
   },
   {
    "duration": 127,
    "start_time": "2022-08-30T21:36:26.231Z"
   },
   {
    "duration": 163,
    "start_time": "2022-08-30T21:36:26.359Z"
   },
   {
    "duration": 164,
    "start_time": "2022-08-30T21:36:26.524Z"
   },
   {
    "duration": 153,
    "start_time": "2022-08-30T21:36:26.689Z"
   },
   {
    "duration": 12,
    "start_time": "2022-08-30T21:36:26.844Z"
   },
   {
    "duration": 10,
    "start_time": "2022-08-30T21:36:26.858Z"
   },
   {
    "duration": 30,
    "start_time": "2022-08-30T21:36:26.870Z"
   },
   {
    "duration": 12,
    "start_time": "2022-08-30T21:36:26.902Z"
   },
   {
    "duration": 304,
    "start_time": "2022-08-30T21:36:26.916Z"
   },
   {
    "duration": 107,
    "start_time": "2022-08-30T21:41:17.644Z"
   },
   {
    "duration": 16,
    "start_time": "2022-08-30T21:41:26.739Z"
   },
   {
    "duration": 1104,
    "start_time": "2022-08-30T21:46:25.662Z"
   },
   {
    "duration": 107,
    "start_time": "2022-08-30T21:46:26.767Z"
   },
   {
    "duration": 13,
    "start_time": "2022-08-30T21:46:26.875Z"
   },
   {
    "duration": 7,
    "start_time": "2022-08-30T21:46:26.899Z"
   },
   {
    "duration": 3,
    "start_time": "2022-08-30T21:46:26.908Z"
   },
   {
    "duration": 238,
    "start_time": "2022-08-30T21:46:26.913Z"
   },
   {
    "duration": 54,
    "start_time": "2022-08-30T21:46:27.152Z"
   },
   {
    "duration": 298,
    "start_time": "2022-08-30T21:46:27.207Z"
   },
   {
    "duration": 4,
    "start_time": "2022-08-30T21:46:27.507Z"
   },
   {
    "duration": 26,
    "start_time": "2022-08-30T21:46:27.513Z"
   },
   {
    "duration": 3,
    "start_time": "2022-08-30T21:46:27.541Z"
   },
   {
    "duration": 107,
    "start_time": "2022-08-30T21:46:27.545Z"
   },
   {
    "duration": 5,
    "start_time": "2022-08-30T21:46:27.653Z"
   },
   {
    "duration": 394,
    "start_time": "2022-08-30T21:46:27.659Z"
   },
   {
    "duration": 417,
    "start_time": "2022-08-30T21:46:28.054Z"
   },
   {
    "duration": 3,
    "start_time": "2022-08-30T21:46:28.473Z"
   },
   {
    "duration": 20,
    "start_time": "2022-08-30T21:46:28.478Z"
   },
   {
    "duration": 4,
    "start_time": "2022-08-30T21:46:28.500Z"
   },
   {
    "duration": 345,
    "start_time": "2022-08-30T21:46:28.506Z"
   },
   {
    "duration": 228,
    "start_time": "2022-08-30T21:46:28.853Z"
   },
   {
    "duration": 4,
    "start_time": "2022-08-30T21:46:29.082Z"
   },
   {
    "duration": 14,
    "start_time": "2022-08-30T21:46:29.087Z"
   },
   {
    "duration": 4,
    "start_time": "2022-08-30T21:46:29.103Z"
   },
   {
    "duration": 3,
    "start_time": "2022-08-30T21:46:29.109Z"
   },
   {
    "duration": 9,
    "start_time": "2022-08-30T21:46:29.114Z"
   },
   {
    "duration": 15,
    "start_time": "2022-08-30T21:46:29.124Z"
   },
   {
    "duration": 397,
    "start_time": "2022-08-30T21:46:29.140Z"
   },
   {
    "duration": 5,
    "start_time": "2022-08-30T21:46:29.541Z"
   },
   {
    "duration": 6,
    "start_time": "2022-08-30T21:46:29.547Z"
   },
   {
    "duration": 9,
    "start_time": "2022-08-30T21:46:29.555Z"
   },
   {
    "duration": 8,
    "start_time": "2022-08-30T21:46:29.565Z"
   },
   {
    "duration": 44,
    "start_time": "2022-08-30T21:46:29.574Z"
   },
   {
    "duration": 21,
    "start_time": "2022-08-30T21:46:29.620Z"
   },
   {
    "duration": 2,
    "start_time": "2022-08-30T21:46:29.642Z"
   },
   {
    "duration": 300,
    "start_time": "2022-08-30T21:46:29.645Z"
   },
   {
    "duration": 6,
    "start_time": "2022-08-30T21:46:29.946Z"
   },
   {
    "duration": 184,
    "start_time": "2022-08-30T21:46:29.953Z"
   },
   {
    "duration": 174,
    "start_time": "2022-08-30T21:46:30.138Z"
   },
   {
    "duration": 37,
    "start_time": "2022-08-30T21:46:30.314Z"
   },
   {
    "duration": 28,
    "start_time": "2022-08-30T21:46:30.352Z"
   },
   {
    "duration": 23,
    "start_time": "2022-08-30T21:46:30.382Z"
   },
   {
    "duration": 77,
    "start_time": "2022-08-30T21:46:30.406Z"
   },
   {
    "duration": 59,
    "start_time": "2022-08-30T21:46:30.485Z"
   },
   {
    "duration": 9,
    "start_time": "2022-08-30T21:46:30.546Z"
   },
   {
    "duration": 34,
    "start_time": "2022-08-30T21:46:30.557Z"
   },
   {
    "duration": 21,
    "start_time": "2022-08-30T21:46:30.592Z"
   },
   {
    "duration": 13,
    "start_time": "2022-08-30T21:46:30.614Z"
   },
   {
    "duration": 26,
    "start_time": "2022-08-30T21:46:30.628Z"
   },
   {
    "duration": 26,
    "start_time": "2022-08-30T21:46:30.655Z"
   },
   {
    "duration": 389,
    "start_time": "2022-08-30T21:46:30.682Z"
   },
   {
    "duration": 4,
    "start_time": "2022-08-30T21:46:31.073Z"
   },
   {
    "duration": 19,
    "start_time": "2022-08-30T21:46:31.079Z"
   },
   {
    "duration": 15,
    "start_time": "2022-08-30T21:46:31.099Z"
   },
   {
    "duration": 307,
    "start_time": "2022-08-30T21:46:31.115Z"
   },
   {
    "duration": 7,
    "start_time": "2022-08-30T21:46:31.423Z"
   },
   {
    "duration": 11,
    "start_time": "2022-08-30T21:46:31.431Z"
   },
   {
    "duration": 333,
    "start_time": "2022-08-30T21:46:31.443Z"
   },
   {
    "duration": 3,
    "start_time": "2022-08-30T21:46:31.777Z"
   },
   {
    "duration": 18,
    "start_time": "2022-08-30T21:46:31.782Z"
   },
   {
    "duration": 32,
    "start_time": "2022-08-30T21:46:31.801Z"
   },
   {
    "duration": 7,
    "start_time": "2022-08-30T21:46:31.834Z"
   },
   {
    "duration": 9,
    "start_time": "2022-08-30T21:46:31.842Z"
   },
   {
    "duration": 34,
    "start_time": "2022-08-30T21:46:31.852Z"
   },
   {
    "duration": 28,
    "start_time": "2022-08-30T21:46:31.887Z"
   },
   {
    "duration": 298,
    "start_time": "2022-08-30T21:46:31.917Z"
   },
   {
    "duration": 4,
    "start_time": "2022-08-30T21:46:32.217Z"
   },
   {
    "duration": 13,
    "start_time": "2022-08-30T21:46:32.222Z"
   },
   {
    "duration": 3,
    "start_time": "2022-08-30T21:46:32.236Z"
   },
   {
    "duration": 12,
    "start_time": "2022-08-30T21:46:32.241Z"
   },
   {
    "duration": 586,
    "start_time": "2022-08-30T21:46:32.254Z"
   },
   {
    "duration": 59,
    "start_time": "2022-08-30T21:46:32.841Z"
   },
   {
    "duration": 7,
    "start_time": "2022-08-30T21:46:32.901Z"
   },
   {
    "duration": 5,
    "start_time": "2022-08-30T21:46:32.909Z"
   },
   {
    "duration": 4,
    "start_time": "2022-08-30T21:46:32.915Z"
   },
   {
    "duration": 3,
    "start_time": "2022-08-30T21:46:32.920Z"
   },
   {
    "duration": 592,
    "start_time": "2022-08-30T21:46:32.924Z"
   },
   {
    "duration": 3,
    "start_time": "2022-08-30T21:46:33.518Z"
   },
   {
    "duration": 17,
    "start_time": "2022-08-30T21:46:33.522Z"
   },
   {
    "duration": 57,
    "start_time": "2022-08-30T21:46:33.541Z"
   },
   {
    "duration": 15,
    "start_time": "2022-08-30T21:46:33.600Z"
   },
   {
    "duration": 10,
    "start_time": "2022-08-30T21:46:33.617Z"
   },
   {
    "duration": 72,
    "start_time": "2022-08-30T21:46:33.633Z"
   },
   {
    "duration": 28,
    "start_time": "2022-08-30T21:46:33.706Z"
   },
   {
    "duration": 69,
    "start_time": "2022-08-30T21:46:33.735Z"
   },
   {
    "duration": 6,
    "start_time": "2022-08-30T21:46:33.805Z"
   },
   {
    "duration": 514,
    "start_time": "2022-08-30T21:46:33.812Z"
   },
   {
    "duration": 4,
    "start_time": "2022-08-30T21:46:34.327Z"
   },
   {
    "duration": 9,
    "start_time": "2022-08-30T21:46:34.333Z"
   },
   {
    "duration": 4,
    "start_time": "2022-08-30T21:46:34.343Z"
   },
   {
    "duration": 371,
    "start_time": "2022-08-30T21:46:34.349Z"
   },
   {
    "duration": 4,
    "start_time": "2022-08-30T21:46:34.722Z"
   },
   {
    "duration": 11,
    "start_time": "2022-08-30T21:46:34.727Z"
   },
   {
    "duration": 4,
    "start_time": "2022-08-30T21:46:34.739Z"
   },
   {
    "duration": 5,
    "start_time": "2022-08-30T21:46:34.744Z"
   },
   {
    "duration": 13,
    "start_time": "2022-08-30T21:46:34.750Z"
   },
   {
    "duration": 10,
    "start_time": "2022-08-30T21:46:34.764Z"
   },
   {
    "duration": 24,
    "start_time": "2022-08-30T21:46:34.775Z"
   },
   {
    "duration": 106,
    "start_time": "2022-08-30T21:46:34.800Z"
   },
   {
    "duration": 290,
    "start_time": "2022-08-30T21:46:34.908Z"
   },
   {
    "duration": 309,
    "start_time": "2022-08-30T21:46:35.199Z"
   },
   {
    "duration": 15,
    "start_time": "2022-08-30T21:46:35.510Z"
   },
   {
    "duration": 329,
    "start_time": "2022-08-30T21:46:35.527Z"
   },
   {
    "duration": 7,
    "start_time": "2022-08-30T21:46:35.858Z"
   },
   {
    "duration": 1,
    "start_time": "2022-08-30T21:46:35.867Z"
   },
   {
    "duration": 24,
    "start_time": "2022-08-30T21:46:35.870Z"
   },
   {
    "duration": 2,
    "start_time": "2022-08-30T21:46:35.898Z"
   },
   {
    "duration": 17,
    "start_time": "2022-08-30T21:46:35.902Z"
   },
   {
    "duration": 6,
    "start_time": "2022-08-30T21:46:35.920Z"
   },
   {
    "duration": 8,
    "start_time": "2022-08-30T21:46:35.928Z"
   },
   {
    "duration": 17,
    "start_time": "2022-08-30T21:46:35.938Z"
   },
   {
    "duration": 8,
    "start_time": "2022-08-30T21:46:35.956Z"
   },
   {
    "duration": 32,
    "start_time": "2022-08-30T21:46:35.966Z"
   },
   {
    "duration": 4,
    "start_time": "2022-08-30T21:46:36.000Z"
   },
   {
    "duration": 346,
    "start_time": "2022-08-30T21:46:36.005Z"
   },
   {
    "duration": 5,
    "start_time": "2022-08-30T21:46:36.352Z"
   },
   {
    "duration": 7,
    "start_time": "2022-08-30T21:46:36.358Z"
   },
   {
    "duration": 234,
    "start_time": "2022-08-30T21:46:36.366Z"
   },
   {
    "duration": 223,
    "start_time": "2022-08-30T21:46:36.602Z"
   },
   {
    "duration": 224,
    "start_time": "2022-08-30T21:46:36.826Z"
   },
   {
    "duration": 124,
    "start_time": "2022-08-30T21:46:37.052Z"
   },
   {
    "duration": 147,
    "start_time": "2022-08-30T21:46:37.178Z"
   },
   {
    "duration": 148,
    "start_time": "2022-08-30T21:46:37.327Z"
   },
   {
    "duration": 282,
    "start_time": "2022-08-30T21:46:37.477Z"
   },
   {
    "duration": 256,
    "start_time": "2022-08-30T21:46:37.761Z"
   },
   {
    "duration": 161,
    "start_time": "2022-08-30T21:46:38.019Z"
   },
   {
    "duration": 225,
    "start_time": "2022-08-30T21:46:38.182Z"
   },
   {
    "duration": 217,
    "start_time": "2022-08-30T21:46:38.409Z"
   },
   {
    "duration": 149,
    "start_time": "2022-08-30T21:46:38.627Z"
   },
   {
    "duration": 173,
    "start_time": "2022-08-30T21:46:38.778Z"
   },
   {
    "duration": 162,
    "start_time": "2022-08-30T21:46:38.953Z"
   },
   {
    "duration": 250,
    "start_time": "2022-08-30T21:46:39.117Z"
   },
   {
    "duration": 144,
    "start_time": "2022-08-30T21:46:39.368Z"
   },
   {
    "duration": 1939,
    "start_time": "2022-08-30T21:46:39.513Z"
   },
   {
    "duration": 295,
    "start_time": "2022-08-30T21:46:41.454Z"
   },
   {
    "duration": 402,
    "start_time": "2022-08-30T21:46:41.750Z"
   },
   {
    "duration": 6,
    "start_time": "2022-08-30T21:46:42.153Z"
   },
   {
    "duration": 403,
    "start_time": "2022-08-30T21:46:42.161Z"
   },
   {
    "duration": 230,
    "start_time": "2022-08-30T21:46:42.566Z"
   },
   {
    "duration": 229,
    "start_time": "2022-08-30T21:46:42.797Z"
   },
   {
    "duration": 225,
    "start_time": "2022-08-30T21:46:43.027Z"
   },
   {
    "duration": 117,
    "start_time": "2022-08-30T21:46:43.254Z"
   },
   {
    "duration": 166,
    "start_time": "2022-08-30T21:46:43.372Z"
   },
   {
    "duration": 162,
    "start_time": "2022-08-30T21:46:43.539Z"
   },
   {
    "duration": 156,
    "start_time": "2022-08-30T21:46:43.702Z"
   },
   {
    "duration": 13,
    "start_time": "2022-08-30T21:46:43.859Z"
   },
   {
    "duration": 25,
    "start_time": "2022-08-30T21:46:43.874Z"
   },
   {
    "duration": 14,
    "start_time": "2022-08-30T21:46:43.900Z"
   },
   {
    "duration": 13,
    "start_time": "2022-08-30T21:46:43.916Z"
   },
   {
    "duration": 315,
    "start_time": "2022-08-30T21:46:43.931Z"
   },
   {
    "duration": 1156,
    "start_time": "2022-08-30T21:49:18.112Z"
   },
   {
    "duration": 110,
    "start_time": "2022-08-30T21:49:19.269Z"
   },
   {
    "duration": 18,
    "start_time": "2022-08-30T21:49:19.381Z"
   },
   {
    "duration": 8,
    "start_time": "2022-08-30T21:49:19.400Z"
   },
   {
    "duration": 3,
    "start_time": "2022-08-30T21:49:19.410Z"
   },
   {
    "duration": 242,
    "start_time": "2022-08-30T21:49:19.415Z"
   },
   {
    "duration": 54,
    "start_time": "2022-08-30T21:49:19.658Z"
   },
   {
    "duration": 306,
    "start_time": "2022-08-30T21:49:19.714Z"
   },
   {
    "duration": 4,
    "start_time": "2022-08-30T21:49:20.021Z"
   },
   {
    "duration": 13,
    "start_time": "2022-08-30T21:49:20.027Z"
   },
   {
    "duration": 3,
    "start_time": "2022-08-30T21:49:20.042Z"
   },
   {
    "duration": 123,
    "start_time": "2022-08-30T21:49:20.046Z"
   },
   {
    "duration": 5,
    "start_time": "2022-08-30T21:49:20.170Z"
   },
   {
    "duration": 391,
    "start_time": "2022-08-30T21:49:20.177Z"
   },
   {
    "duration": 402,
    "start_time": "2022-08-30T21:49:20.570Z"
   },
   {
    "duration": 4,
    "start_time": "2022-08-30T21:49:20.973Z"
   },
   {
    "duration": 20,
    "start_time": "2022-08-30T21:49:20.978Z"
   },
   {
    "duration": 4,
    "start_time": "2022-08-30T21:49:20.999Z"
   },
   {
    "duration": 318,
    "start_time": "2022-08-30T21:49:21.004Z"
   },
   {
    "duration": 239,
    "start_time": "2022-08-30T21:49:21.324Z"
   },
   {
    "duration": 4,
    "start_time": "2022-08-30T21:49:21.565Z"
   },
   {
    "duration": 16,
    "start_time": "2022-08-30T21:49:21.570Z"
   },
   {
    "duration": 14,
    "start_time": "2022-08-30T21:49:21.588Z"
   },
   {
    "duration": 4,
    "start_time": "2022-08-30T21:49:21.603Z"
   },
   {
    "duration": 10,
    "start_time": "2022-08-30T21:49:21.608Z"
   },
   {
    "duration": 16,
    "start_time": "2022-08-30T21:49:21.619Z"
   },
   {
    "duration": 421,
    "start_time": "2022-08-30T21:49:21.637Z"
   },
   {
    "duration": 5,
    "start_time": "2022-08-30T21:49:22.062Z"
   },
   {
    "duration": 13,
    "start_time": "2022-08-30T21:49:22.069Z"
   },
   {
    "duration": 15,
    "start_time": "2022-08-30T21:49:22.084Z"
   },
   {
    "duration": 9,
    "start_time": "2022-08-30T21:49:22.100Z"
   },
   {
    "duration": 25,
    "start_time": "2022-08-30T21:49:22.110Z"
   },
   {
    "duration": 21,
    "start_time": "2022-08-30T21:49:22.136Z"
   },
   {
    "duration": 2,
    "start_time": "2022-08-30T21:49:22.159Z"
   },
   {
    "duration": 342,
    "start_time": "2022-08-30T21:49:22.162Z"
   },
   {
    "duration": 6,
    "start_time": "2022-08-30T21:49:22.506Z"
   },
   {
    "duration": 175,
    "start_time": "2022-08-30T21:49:22.514Z"
   },
   {
    "duration": 172,
    "start_time": "2022-08-30T21:49:22.691Z"
   },
   {
    "duration": 44,
    "start_time": "2022-08-30T21:49:22.865Z"
   },
   {
    "duration": 5,
    "start_time": "2022-08-30T21:49:22.911Z"
   },
   {
    "duration": 8,
    "start_time": "2022-08-30T21:49:22.917Z"
   },
   {
    "duration": 10,
    "start_time": "2022-08-30T21:49:22.926Z"
   },
   {
    "duration": 23,
    "start_time": "2022-08-30T21:49:22.938Z"
   },
   {
    "duration": 37,
    "start_time": "2022-08-30T21:49:22.962Z"
   },
   {
    "duration": 8,
    "start_time": "2022-08-30T21:49:23.000Z"
   },
   {
    "duration": 9,
    "start_time": "2022-08-30T21:49:23.010Z"
   },
   {
    "duration": 3,
    "start_time": "2022-08-30T21:49:23.020Z"
   },
   {
    "duration": 5,
    "start_time": "2022-08-30T21:49:23.025Z"
   },
   {
    "duration": 6,
    "start_time": "2022-08-30T21:49:23.031Z"
   },
   {
    "duration": 383,
    "start_time": "2022-08-30T21:49:23.038Z"
   },
   {
    "duration": 4,
    "start_time": "2022-08-30T21:49:23.422Z"
   },
   {
    "duration": 12,
    "start_time": "2022-08-30T21:49:23.427Z"
   },
   {
    "duration": 15,
    "start_time": "2022-08-30T21:49:23.440Z"
   },
   {
    "duration": 325,
    "start_time": "2022-08-30T21:49:23.456Z"
   },
   {
    "duration": 17,
    "start_time": "2022-08-30T21:49:23.782Z"
   },
   {
    "duration": 11,
    "start_time": "2022-08-30T21:49:23.800Z"
   },
   {
    "duration": 6,
    "start_time": "2022-08-30T21:49:23.813Z"
   },
   {
    "duration": 2,
    "start_time": "2022-08-30T21:49:23.821Z"
   },
   {
    "duration": 337,
    "start_time": "2022-08-30T21:49:23.825Z"
   },
   {
    "duration": 4,
    "start_time": "2022-08-30T21:49:24.163Z"
   },
   {
    "duration": 14,
    "start_time": "2022-08-30T21:49:24.169Z"
   },
   {
    "duration": 34,
    "start_time": "2022-08-30T21:49:24.198Z"
   },
   {
    "duration": 8,
    "start_time": "2022-08-30T21:49:24.234Z"
   },
   {
    "duration": 7,
    "start_time": "2022-08-30T21:49:24.243Z"
   },
   {
    "duration": 63,
    "start_time": "2022-08-30T21:49:24.252Z"
   },
   {
    "duration": 30,
    "start_time": "2022-08-30T21:49:24.317Z"
   },
   {
    "duration": 392,
    "start_time": "2022-08-30T21:49:24.349Z"
   },
   {
    "duration": 4,
    "start_time": "2022-08-30T21:49:24.743Z"
   },
   {
    "duration": 14,
    "start_time": "2022-08-30T21:49:24.748Z"
   },
   {
    "duration": 4,
    "start_time": "2022-08-30T21:49:24.764Z"
   },
   {
    "duration": 32,
    "start_time": "2022-08-30T21:49:24.769Z"
   },
   {
    "duration": 388,
    "start_time": "2022-08-30T21:49:24.802Z"
   },
   {
    "duration": 4,
    "start_time": "2022-08-30T21:49:25.198Z"
   },
   {
    "duration": 6,
    "start_time": "2022-08-30T21:49:25.204Z"
   },
   {
    "duration": 8,
    "start_time": "2022-08-30T21:49:25.211Z"
   },
   {
    "duration": 6,
    "start_time": "2022-08-30T21:49:25.220Z"
   },
   {
    "duration": 14,
    "start_time": "2022-08-30T21:49:25.227Z"
   },
   {
    "duration": 297,
    "start_time": "2022-08-30T21:49:25.243Z"
   },
   {
    "duration": 4,
    "start_time": "2022-08-30T21:49:25.541Z"
   },
   {
    "duration": 14,
    "start_time": "2022-08-30T21:49:25.546Z"
   },
   {
    "duration": 6,
    "start_time": "2022-08-30T21:49:25.561Z"
   },
   {
    "duration": 32,
    "start_time": "2022-08-30T21:49:25.573Z"
   },
   {
    "duration": 9,
    "start_time": "2022-08-30T21:49:25.606Z"
   },
   {
    "duration": 17,
    "start_time": "2022-08-30T21:49:25.616Z"
   },
   {
    "duration": 28,
    "start_time": "2022-08-30T21:49:25.635Z"
   },
   {
    "duration": 42,
    "start_time": "2022-08-30T21:49:25.665Z"
   },
   {
    "duration": 6,
    "start_time": "2022-08-30T21:49:25.709Z"
   },
   {
    "duration": 296,
    "start_time": "2022-08-30T21:49:25.716Z"
   },
   {
    "duration": 4,
    "start_time": "2022-08-30T21:49:26.013Z"
   },
   {
    "duration": 9,
    "start_time": "2022-08-30T21:49:26.019Z"
   },
   {
    "duration": 3,
    "start_time": "2022-08-30T21:49:26.030Z"
   },
   {
    "duration": 582,
    "start_time": "2022-08-30T21:49:26.035Z"
   },
   {
    "duration": 4,
    "start_time": "2022-08-30T21:49:26.618Z"
   },
   {
    "duration": 9,
    "start_time": "2022-08-30T21:49:26.623Z"
   },
   {
    "duration": 4,
    "start_time": "2022-08-30T21:49:26.634Z"
   },
   {
    "duration": 4,
    "start_time": "2022-08-30T21:49:26.639Z"
   },
   {
    "duration": 63,
    "start_time": "2022-08-30T21:49:26.644Z"
   },
   {
    "duration": 4,
    "start_time": "2022-08-30T21:49:26.709Z"
   },
   {
    "duration": 8,
    "start_time": "2022-08-30T21:49:26.714Z"
   },
   {
    "duration": 209,
    "start_time": "2022-08-30T21:49:26.724Z"
   },
   {
    "duration": 595,
    "start_time": "2022-08-30T21:49:26.935Z"
   },
   {
    "duration": 477,
    "start_time": "2022-08-30T21:49:27.531Z"
   },
   {
    "duration": 16,
    "start_time": "2022-08-30T21:49:28.009Z"
   },
   {
    "duration": 331,
    "start_time": "2022-08-30T21:49:28.026Z"
   },
   {
    "duration": 6,
    "start_time": "2022-08-30T21:49:28.359Z"
   },
   {
    "duration": 2,
    "start_time": "2022-08-30T21:49:28.367Z"
   },
   {
    "duration": 8,
    "start_time": "2022-08-30T21:49:28.370Z"
   },
   {
    "duration": 18,
    "start_time": "2022-08-30T21:49:28.380Z"
   },
   {
    "duration": 16,
    "start_time": "2022-08-30T21:49:28.399Z"
   },
   {
    "duration": 6,
    "start_time": "2022-08-30T21:49:28.417Z"
   },
   {
    "duration": 6,
    "start_time": "2022-08-30T21:49:28.425Z"
   },
   {
    "duration": 7,
    "start_time": "2022-08-30T21:49:28.432Z"
   },
   {
    "duration": 7,
    "start_time": "2022-08-30T21:49:28.441Z"
   },
   {
    "duration": 6,
    "start_time": "2022-08-30T21:49:28.449Z"
   },
   {
    "duration": 3,
    "start_time": "2022-08-30T21:49:28.457Z"
   },
   {
    "duration": 353,
    "start_time": "2022-08-30T21:49:28.499Z"
   },
   {
    "duration": 5,
    "start_time": "2022-08-30T21:49:28.853Z"
   },
   {
    "duration": 7,
    "start_time": "2022-08-30T21:49:28.860Z"
   },
   {
    "duration": 244,
    "start_time": "2022-08-30T21:49:28.868Z"
   },
   {
    "duration": 231,
    "start_time": "2022-08-30T21:49:29.114Z"
   },
   {
    "duration": 226,
    "start_time": "2022-08-30T21:49:29.347Z"
   },
   {
    "duration": 124,
    "start_time": "2022-08-30T21:49:29.575Z"
   },
   {
    "duration": 144,
    "start_time": "2022-08-30T21:49:29.701Z"
   },
   {
    "duration": 198,
    "start_time": "2022-08-30T21:49:29.846Z"
   },
   {
    "duration": 375,
    "start_time": "2022-08-30T21:49:30.045Z"
   },
   {
    "duration": 230,
    "start_time": "2022-08-30T21:49:30.421Z"
   },
   {
    "duration": 249,
    "start_time": "2022-08-30T21:49:30.652Z"
   },
   {
    "duration": 342,
    "start_time": "2022-08-30T21:49:30.903Z"
   },
   {
    "duration": 272,
    "start_time": "2022-08-30T21:49:31.247Z"
   },
   {
    "duration": 146,
    "start_time": "2022-08-30T21:49:31.521Z"
   },
   {
    "duration": 150,
    "start_time": "2022-08-30T21:49:31.669Z"
   },
   {
    "duration": 163,
    "start_time": "2022-08-30T21:49:31.820Z"
   },
   {
    "duration": 242,
    "start_time": "2022-08-30T21:49:31.985Z"
   },
   {
    "duration": 143,
    "start_time": "2022-08-30T21:49:32.228Z"
   },
   {
    "duration": 1907,
    "start_time": "2022-08-30T21:49:32.373Z"
   },
   {
    "duration": 337,
    "start_time": "2022-08-30T21:49:34.281Z"
   },
   {
    "duration": 425,
    "start_time": "2022-08-30T21:49:34.621Z"
   },
   {
    "duration": 8,
    "start_time": "2022-08-30T21:49:35.047Z"
   },
   {
    "duration": 424,
    "start_time": "2022-08-30T21:49:35.057Z"
   },
   {
    "duration": 237,
    "start_time": "2022-08-30T21:49:35.482Z"
   },
   {
    "duration": 239,
    "start_time": "2022-08-30T21:49:35.720Z"
   },
   {
    "duration": 235,
    "start_time": "2022-08-30T21:49:35.961Z"
   },
   {
    "duration": 128,
    "start_time": "2022-08-30T21:49:36.198Z"
   },
   {
    "duration": 165,
    "start_time": "2022-08-30T21:49:36.328Z"
   },
   {
    "duration": 162,
    "start_time": "2022-08-30T21:49:36.494Z"
   },
   {
    "duration": 158,
    "start_time": "2022-08-30T21:49:36.658Z"
   },
   {
    "duration": 13,
    "start_time": "2022-08-30T21:49:36.817Z"
   },
   {
    "duration": 14,
    "start_time": "2022-08-30T21:49:36.831Z"
   },
   {
    "duration": 23,
    "start_time": "2022-08-30T21:49:36.846Z"
   },
   {
    "duration": 28,
    "start_time": "2022-08-30T21:49:36.871Z"
   },
   {
    "duration": 299,
    "start_time": "2022-08-30T21:49:36.901Z"
   },
   {
    "duration": 121,
    "start_time": "2022-08-30T21:50:36.559Z"
   },
   {
    "duration": 109,
    "start_time": "2022-08-30T21:50:44.023Z"
   },
   {
    "duration": 17,
    "start_time": "2022-08-30T21:52:37.991Z"
   },
   {
    "duration": 245,
    "start_time": "2022-08-30T21:56:50.409Z"
   },
   {
    "duration": 248,
    "start_time": "2022-08-30T21:56:52.053Z"
   },
   {
    "duration": 365,
    "start_time": "2022-08-30T21:56:57.209Z"
   },
   {
    "duration": 357,
    "start_time": "2022-08-30T22:00:29.758Z"
   },
   {
    "duration": 3,
    "start_time": "2022-08-30T22:05:36.729Z"
   },
   {
    "duration": 116,
    "start_time": "2022-08-30T22:05:37.696Z"
   },
   {
    "duration": 13,
    "start_time": "2022-08-30T22:05:51.539Z"
   },
   {
    "duration": 3925,
    "start_time": "2022-08-30T22:05:56.939Z"
   },
   {
    "duration": 572,
    "start_time": "2022-08-30T22:06:13.870Z"
   },
   {
    "duration": 1137,
    "start_time": "2022-08-30T22:06:47.604Z"
   },
   {
    "duration": 110,
    "start_time": "2022-08-30T22:06:48.742Z"
   },
   {
    "duration": 14,
    "start_time": "2022-08-30T22:06:48.854Z"
   },
   {
    "duration": 29,
    "start_time": "2022-08-30T22:06:48.870Z"
   },
   {
    "duration": 4,
    "start_time": "2022-08-30T22:06:48.900Z"
   },
   {
    "duration": 241,
    "start_time": "2022-08-30T22:06:48.906Z"
   },
   {
    "duration": 61,
    "start_time": "2022-08-30T22:06:49.149Z"
   },
   {
    "duration": 317,
    "start_time": "2022-08-30T22:06:49.212Z"
   },
   {
    "duration": 4,
    "start_time": "2022-08-30T22:06:49.530Z"
   },
   {
    "duration": 15,
    "start_time": "2022-08-30T22:06:49.537Z"
   },
   {
    "duration": 4,
    "start_time": "2022-08-30T22:06:49.553Z"
   },
   {
    "duration": 122,
    "start_time": "2022-08-30T22:06:49.558Z"
   },
   {
    "duration": 5,
    "start_time": "2022-08-30T22:06:49.681Z"
   },
   {
    "duration": 445,
    "start_time": "2022-08-30T22:06:49.687Z"
   },
   {
    "duration": 424,
    "start_time": "2022-08-30T22:06:50.133Z"
   },
   {
    "duration": 4,
    "start_time": "2022-08-30T22:06:50.559Z"
   },
   {
    "duration": 8,
    "start_time": "2022-08-30T22:06:50.565Z"
   },
   {
    "duration": 23,
    "start_time": "2022-08-30T22:06:50.575Z"
   },
   {
    "duration": 315,
    "start_time": "2022-08-30T22:06:50.600Z"
   },
   {
    "duration": 229,
    "start_time": "2022-08-30T22:06:50.917Z"
   },
   {
    "duration": 4,
    "start_time": "2022-08-30T22:06:51.148Z"
   },
   {
    "duration": 8,
    "start_time": "2022-08-30T22:06:51.153Z"
   },
   {
    "duration": 6,
    "start_time": "2022-08-30T22:06:51.163Z"
   },
   {
    "duration": 30,
    "start_time": "2022-08-30T22:06:51.170Z"
   },
   {
    "duration": 10,
    "start_time": "2022-08-30T22:06:51.201Z"
   },
   {
    "duration": 15,
    "start_time": "2022-08-30T22:06:51.212Z"
   },
   {
    "duration": 404,
    "start_time": "2022-08-30T22:06:51.229Z"
   },
   {
    "duration": 5,
    "start_time": "2022-08-30T22:06:51.637Z"
   },
   {
    "duration": 10,
    "start_time": "2022-08-30T22:06:51.643Z"
   },
   {
    "duration": 8,
    "start_time": "2022-08-30T22:06:51.655Z"
   },
   {
    "duration": 7,
    "start_time": "2022-08-30T22:06:51.664Z"
   },
   {
    "duration": 45,
    "start_time": "2022-08-30T22:06:51.673Z"
   },
   {
    "duration": 22,
    "start_time": "2022-08-30T22:06:51.720Z"
   },
   {
    "duration": 3,
    "start_time": "2022-08-30T22:06:51.743Z"
   },
   {
    "duration": 305,
    "start_time": "2022-08-30T22:06:51.747Z"
   },
   {
    "duration": 5,
    "start_time": "2022-08-30T22:06:52.054Z"
   },
   {
    "duration": 176,
    "start_time": "2022-08-30T22:06:52.060Z"
   },
   {
    "duration": 169,
    "start_time": "2022-08-30T22:06:52.238Z"
   },
   {
    "duration": 37,
    "start_time": "2022-08-30T22:06:52.409Z"
   },
   {
    "duration": 6,
    "start_time": "2022-08-30T22:06:52.447Z"
   },
   {
    "duration": 6,
    "start_time": "2022-08-30T22:06:52.455Z"
   },
   {
    "duration": 40,
    "start_time": "2022-08-30T22:06:52.462Z"
   },
   {
    "duration": 24,
    "start_time": "2022-08-30T22:06:52.504Z"
   },
   {
    "duration": 10,
    "start_time": "2022-08-30T22:06:52.530Z"
   },
   {
    "duration": 9,
    "start_time": "2022-08-30T22:06:52.541Z"
   },
   {
    "duration": 10,
    "start_time": "2022-08-30T22:06:52.552Z"
   },
   {
    "duration": 38,
    "start_time": "2022-08-30T22:06:52.563Z"
   },
   {
    "duration": 6,
    "start_time": "2022-08-30T22:06:52.602Z"
   },
   {
    "duration": 8,
    "start_time": "2022-08-30T22:06:52.609Z"
   },
   {
    "duration": 382,
    "start_time": "2022-08-30T22:06:52.618Z"
   },
   {
    "duration": 3,
    "start_time": "2022-08-30T22:06:53.002Z"
   },
   {
    "duration": 13,
    "start_time": "2022-08-30T22:06:53.006Z"
   },
   {
    "duration": 18,
    "start_time": "2022-08-30T22:06:53.020Z"
   },
   {
    "duration": 304,
    "start_time": "2022-08-30T22:06:53.039Z"
   },
   {
    "duration": 8,
    "start_time": "2022-08-30T22:06:53.344Z"
   },
   {
    "duration": 12,
    "start_time": "2022-08-30T22:06:53.353Z"
   },
   {
    "duration": 6,
    "start_time": "2022-08-30T22:06:53.366Z"
   },
   {
    "duration": 2,
    "start_time": "2022-08-30T22:06:53.374Z"
   },
   {
    "duration": 105,
    "start_time": "2022-08-30T22:06:53.398Z"
   },
   {
    "duration": 93,
    "start_time": "2022-08-30T22:06:53.505Z"
   },
   {
    "duration": 321,
    "start_time": "2022-08-30T22:06:53.599Z"
   },
   {
    "duration": 4,
    "start_time": "2022-08-30T22:06:53.921Z"
   },
   {
    "duration": 14,
    "start_time": "2022-08-30T22:06:53.926Z"
   },
   {
    "duration": 37,
    "start_time": "2022-08-30T22:06:53.942Z"
   },
   {
    "duration": 23,
    "start_time": "2022-08-30T22:06:53.981Z"
   },
   {
    "duration": 8,
    "start_time": "2022-08-30T22:06:54.005Z"
   },
   {
    "duration": 34,
    "start_time": "2022-08-30T22:06:54.014Z"
   },
   {
    "duration": 49,
    "start_time": "2022-08-30T22:06:54.050Z"
   },
   {
    "duration": 309,
    "start_time": "2022-08-30T22:06:54.101Z"
   },
   {
    "duration": 5,
    "start_time": "2022-08-30T22:06:54.412Z"
   },
   {
    "duration": 23,
    "start_time": "2022-08-30T22:06:54.419Z"
   },
   {
    "duration": 9,
    "start_time": "2022-08-30T22:06:54.444Z"
   },
   {
    "duration": 21,
    "start_time": "2022-08-30T22:06:54.455Z"
   },
   {
    "duration": 405,
    "start_time": "2022-08-30T22:06:54.478Z"
   },
   {
    "duration": 3,
    "start_time": "2022-08-30T22:06:54.885Z"
   },
   {
    "duration": 3,
    "start_time": "2022-08-30T22:06:54.900Z"
   },
   {
    "duration": 6,
    "start_time": "2022-08-30T22:06:54.905Z"
   },
   {
    "duration": 5,
    "start_time": "2022-08-30T22:06:54.912Z"
   },
   {
    "duration": 6,
    "start_time": "2022-08-30T22:06:54.919Z"
   },
   {
    "duration": 324,
    "start_time": "2022-08-30T22:06:54.927Z"
   },
   {
    "duration": 5,
    "start_time": "2022-08-30T22:06:55.253Z"
   },
   {
    "duration": 14,
    "start_time": "2022-08-30T22:06:55.265Z"
   },
   {
    "duration": 17,
    "start_time": "2022-08-30T22:06:55.281Z"
   },
   {
    "duration": 15,
    "start_time": "2022-08-30T22:06:55.299Z"
   },
   {
    "duration": 12,
    "start_time": "2022-08-30T22:06:55.315Z"
   },
   {
    "duration": 18,
    "start_time": "2022-08-30T22:06:55.329Z"
   },
   {
    "duration": 49,
    "start_time": "2022-08-30T22:06:55.349Z"
   },
   {
    "duration": 18,
    "start_time": "2022-08-30T22:06:55.400Z"
   },
   {
    "duration": 6,
    "start_time": "2022-08-30T22:06:55.419Z"
   },
   {
    "duration": 295,
    "start_time": "2022-08-30T22:06:55.426Z"
   },
   {
    "duration": 4,
    "start_time": "2022-08-30T22:06:55.722Z"
   },
   {
    "duration": 12,
    "start_time": "2022-08-30T22:06:55.728Z"
   },
   {
    "duration": 8,
    "start_time": "2022-08-30T22:06:55.741Z"
   },
   {
    "duration": 303,
    "start_time": "2022-08-30T22:06:55.750Z"
   },
   {
    "duration": 4,
    "start_time": "2022-08-30T22:06:56.055Z"
   },
   {
    "duration": 13,
    "start_time": "2022-08-30T22:06:56.061Z"
   },
   {
    "duration": 4,
    "start_time": "2022-08-30T22:06:56.076Z"
   },
   {
    "duration": 5,
    "start_time": "2022-08-30T22:06:56.081Z"
   },
   {
    "duration": 13,
    "start_time": "2022-08-30T22:06:56.098Z"
   },
   {
    "duration": 4,
    "start_time": "2022-08-30T22:06:56.113Z"
   },
   {
    "duration": 7,
    "start_time": "2022-08-30T22:06:56.119Z"
   },
   {
    "duration": 129,
    "start_time": "2022-08-30T22:06:56.128Z"
   },
   {
    "duration": 309,
    "start_time": "2022-08-30T22:06:56.259Z"
   },
   {
    "duration": 309,
    "start_time": "2022-08-30T22:06:56.569Z"
   },
   {
    "duration": 21,
    "start_time": "2022-08-30T22:06:56.879Z"
   },
   {
    "duration": 312,
    "start_time": "2022-08-30T22:06:56.901Z"
   },
   {
    "duration": 8,
    "start_time": "2022-08-30T22:06:57.214Z"
   },
   {
    "duration": 4,
    "start_time": "2022-08-30T22:06:57.223Z"
   },
   {
    "duration": 9,
    "start_time": "2022-08-30T22:06:57.228Z"
   },
   {
    "duration": 5,
    "start_time": "2022-08-30T22:06:57.238Z"
   },
   {
    "duration": 18,
    "start_time": "2022-08-30T22:06:57.244Z"
   },
   {
    "duration": 258,
    "start_time": "2022-08-30T22:06:57.263Z"
   },
   {
    "duration": 327,
    "start_time": "2022-08-30T22:06:57.523Z"
   },
   {
    "duration": 6,
    "start_time": "2022-08-30T22:06:57.852Z"
   },
   {
    "duration": 8,
    "start_time": "2022-08-30T22:06:57.859Z"
   },
   {
    "duration": 20,
    "start_time": "2022-08-30T22:06:57.868Z"
   },
   {
    "duration": 12,
    "start_time": "2022-08-30T22:06:57.890Z"
   },
   {
    "duration": 6,
    "start_time": "2022-08-30T22:06:57.903Z"
   },
   {
    "duration": 3,
    "start_time": "2022-08-30T22:06:57.911Z"
   },
   {
    "duration": 273,
    "start_time": "2022-08-30T22:06:57.915Z"
   },
   {
    "duration": 9,
    "start_time": "2022-08-30T22:06:58.190Z"
   },
   {
    "duration": 7,
    "start_time": "2022-08-30T22:06:58.200Z"
   },
   {
    "duration": 239,
    "start_time": "2022-08-30T22:06:58.208Z"
   },
   {
    "duration": 225,
    "start_time": "2022-08-30T22:06:58.448Z"
   },
   {
    "duration": 221,
    "start_time": "2022-08-30T22:06:58.675Z"
   },
   {
    "duration": 202,
    "start_time": "2022-08-30T22:06:58.897Z"
   },
   {
    "duration": 141,
    "start_time": "2022-08-30T22:06:59.101Z"
   },
   {
    "duration": 150,
    "start_time": "2022-08-30T22:06:59.244Z"
   },
   {
    "duration": 212,
    "start_time": "2022-08-30T22:06:59.398Z"
   },
   {
    "duration": 232,
    "start_time": "2022-08-30T22:06:59.612Z"
   },
   {
    "duration": 150,
    "start_time": "2022-08-30T22:06:59.846Z"
   },
   {
    "duration": 229,
    "start_time": "2022-08-30T22:06:59.999Z"
   },
   {
    "duration": 323,
    "start_time": "2022-08-30T22:07:00.230Z"
   },
   {
    "duration": 151,
    "start_time": "2022-08-30T22:07:00.555Z"
   },
   {
    "duration": 157,
    "start_time": "2022-08-30T22:07:00.707Z"
   },
   {
    "duration": 157,
    "start_time": "2022-08-30T22:07:00.866Z"
   },
   {
    "duration": 162,
    "start_time": "2022-08-30T22:07:01.025Z"
   },
   {
    "duration": 155,
    "start_time": "2022-08-30T22:07:01.189Z"
   },
   {
    "duration": 1944,
    "start_time": "2022-08-30T22:07:01.345Z"
   },
   {
    "duration": 293,
    "start_time": "2022-08-30T22:07:03.291Z"
   },
   {
    "duration": 530,
    "start_time": "2022-08-30T22:07:03.585Z"
   },
   {
    "duration": 6,
    "start_time": "2022-08-30T22:07:04.117Z"
   },
   {
    "duration": 284,
    "start_time": "2022-08-30T22:07:04.125Z"
   },
   {
    "duration": 645,
    "start_time": "2022-08-30T22:07:04.411Z"
   },
   {
    "duration": 245,
    "start_time": "2022-08-30T22:07:05.057Z"
   },
   {
    "duration": 238,
    "start_time": "2022-08-30T22:07:05.303Z"
   },
   {
    "duration": 217,
    "start_time": "2022-08-30T22:07:05.542Z"
   },
   {
    "duration": 123,
    "start_time": "2022-08-30T22:07:05.760Z"
   },
   {
    "duration": 165,
    "start_time": "2022-08-30T22:07:05.884Z"
   },
   {
    "duration": 170,
    "start_time": "2022-08-30T22:07:06.050Z"
   },
   {
    "duration": 153,
    "start_time": "2022-08-30T22:07:06.221Z"
   },
   {
    "duration": 13,
    "start_time": "2022-08-30T22:07:06.376Z"
   },
   {
    "duration": 11,
    "start_time": "2022-08-30T22:07:06.398Z"
   },
   {
    "duration": 32,
    "start_time": "2022-08-30T22:07:06.411Z"
   },
   {
    "duration": 11,
    "start_time": "2022-08-30T22:07:06.444Z"
   },
   {
    "duration": 290,
    "start_time": "2022-08-30T22:07:06.457Z"
   },
   {
    "duration": 2,
    "start_time": "2022-08-30T22:07:06.749Z"
   },
   {
    "duration": 4038,
    "start_time": "2022-08-30T22:07:06.753Z"
   },
   {
    "duration": 368,
    "start_time": "2022-08-30T22:07:10.792Z"
   }
  ],
  "kernelspec": {
   "display_name": "Python 3.9.12 ('base')",
   "language": "python",
   "name": "python3"
  },
  "language_info": {
   "codemirror_mode": {
    "name": "ipython",
    "version": 3
   },
   "file_extension": ".py",
   "mimetype": "text/x-python",
   "name": "python",
   "nbconvert_exporter": "python",
   "pygments_lexer": "ipython3",
   "version": "3.9.12"
  },
  "toc": {
   "base_numbering": 1,
   "nav_menu": {},
   "number_sections": true,
   "sideBar": true,
   "skip_h1_title": true,
   "title_cell": "Table of Contents",
   "title_sidebar": "Contents",
   "toc_cell": false,
   "toc_position": {
    "height": "calc(100% - 180px)",
    "left": "10px",
    "top": "150px",
    "width": "263.797px"
   },
   "toc_section_display": true,
   "toc_window_display": true
  },
  "vscode": {
   "interpreter": {
    "hash": "6f5583cf1d9466b5c27e75c89cc6b383bed5736d6b16c51c8074d8690011a952"
   }
  }
 },
 "nbformat": 4,
 "nbformat_minor": 2
}