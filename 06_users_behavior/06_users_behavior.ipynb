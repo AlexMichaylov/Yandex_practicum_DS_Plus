{
 "cells": [
  {
   "cell_type": "markdown",
   "metadata": {
    "pycharm": {
     "name": "#%% md\n"
    }
   },
   "source": [
    "# Рекомендация тарифов"
   ]
  },
  {
   "cell_type": "markdown",
   "metadata": {
    "pycharm": {
     "name": "#%% md\n"
    }
   },
   "source": [
    "В нашем распоряжении данные о поведении клиентов, которые уже перешли на  тарифы оператора связи . Нужно построить модель для задачи классификации, которая выберет подходящий тариф. \n",
    "\n",
    "Постройм модель с максимально большим значением *accuracy*."
   ]
  },
  {
   "cell_type": "markdown",
   "metadata": {
    "pycharm": {
     "name": "#%% md\n"
    }
   },
   "source": [
    "## Откройте и изучите файл"
   ]
  },
  {
   "cell_type": "markdown",
   "metadata": {
    "pycharm": {
     "name": "#%% md\n"
    }
   },
   "source": [
    "Цель проекта - построение системы для оператора сотовой связи, способной проанализировать поведение клиентов и предложить пользователям новый тариф: «Смарт» или «Ультра»."
   ]
  },
  {
   "cell_type": "code",
   "execution_count": 1,
   "metadata": {
    "pycharm": {
     "name": "#%%\n"
    }
   },
   "outputs": [],
   "source": [
    "import pandas as pd\n",
    "import seaborn as sns\n",
    "from sklearn.model_selection import train_test_split\n",
    "from sklearn.metrics import accuracy_score\n",
    "from sklearn.tree import DecisionTreeClassifier\n",
    "from sklearn.ensemble import RandomForestClassifier\n",
    "from sklearn.linear_model import LogisticRegression\n",
    "from joblib import dump\n",
    "from sklearn.linear_model import LogisticRegression\n",
    "from sklearn.dummy import DummyClassifier"
   ]
  },
  {
   "cell_type": "code",
   "execution_count": 2,
   "metadata": {
    "pycharm": {
     "name": "#%%\n"
    }
   },
   "outputs": [],
   "source": [
    "try:\n",
    "    df = pd.read_csv('users_behavior.csv')\n",
    "except:\n",
    "    df = pd.read_csv('/datasets/users_behavior.csv')"
   ]
  },
  {
   "cell_type": "code",
   "execution_count": 3,
   "metadata": {
    "pycharm": {
     "name": "#%%\n"
    }
   },
   "outputs": [
    {
     "data": {
      "text/html": [
       "<div>\n",
       "<style scoped>\n",
       "    .dataframe tbody tr th:only-of-type {\n",
       "        vertical-align: middle;\n",
       "    }\n",
       "\n",
       "    .dataframe tbody tr th {\n",
       "        vertical-align: top;\n",
       "    }\n",
       "\n",
       "    .dataframe thead th {\n",
       "        text-align: right;\n",
       "    }\n",
       "</style>\n",
       "<table border=\"1\" class=\"dataframe\">\n",
       "  <thead>\n",
       "    <tr style=\"text-align: right;\">\n",
       "      <th></th>\n",
       "      <th>calls</th>\n",
       "      <th>minutes</th>\n",
       "      <th>messages</th>\n",
       "      <th>mb_used</th>\n",
       "      <th>is_ultra</th>\n",
       "    </tr>\n",
       "  </thead>\n",
       "  <tbody>\n",
       "    <tr>\n",
       "      <th>0</th>\n",
       "      <td>40.0</td>\n",
       "      <td>311.90</td>\n",
       "      <td>83.0</td>\n",
       "      <td>19915.42</td>\n",
       "      <td>0</td>\n",
       "    </tr>\n",
       "    <tr>\n",
       "      <th>1</th>\n",
       "      <td>85.0</td>\n",
       "      <td>516.75</td>\n",
       "      <td>56.0</td>\n",
       "      <td>22696.96</td>\n",
       "      <td>0</td>\n",
       "    </tr>\n",
       "    <tr>\n",
       "      <th>2</th>\n",
       "      <td>77.0</td>\n",
       "      <td>467.66</td>\n",
       "      <td>86.0</td>\n",
       "      <td>21060.45</td>\n",
       "      <td>0</td>\n",
       "    </tr>\n",
       "    <tr>\n",
       "      <th>3</th>\n",
       "      <td>106.0</td>\n",
       "      <td>745.53</td>\n",
       "      <td>81.0</td>\n",
       "      <td>8437.39</td>\n",
       "      <td>1</td>\n",
       "    </tr>\n",
       "    <tr>\n",
       "      <th>4</th>\n",
       "      <td>66.0</td>\n",
       "      <td>418.74</td>\n",
       "      <td>1.0</td>\n",
       "      <td>14502.75</td>\n",
       "      <td>0</td>\n",
       "    </tr>\n",
       "  </tbody>\n",
       "</table>\n",
       "</div>"
      ],
      "text/plain": [
       "   calls  minutes  messages   mb_used  is_ultra\n",
       "0   40.0   311.90      83.0  19915.42         0\n",
       "1   85.0   516.75      56.0  22696.96         0\n",
       "2   77.0   467.66      86.0  21060.45         0\n",
       "3  106.0   745.53      81.0   8437.39         1\n",
       "4   66.0   418.74       1.0  14502.75         0"
      ]
     },
     "execution_count": 3,
     "metadata": {},
     "output_type": "execute_result"
    }
   ],
   "source": [
    "df.head()"
   ]
  },
  {
   "cell_type": "code",
   "execution_count": 4,
   "metadata": {
    "pycharm": {
     "name": "#%%\n"
    }
   },
   "outputs": [
    {
     "name": "stdout",
     "output_type": "stream",
     "text": [
      "<class 'pandas.core.frame.DataFrame'>\n",
      "RangeIndex: 3214 entries, 0 to 3213\n",
      "Data columns (total 5 columns):\n",
      " #   Column    Non-Null Count  Dtype  \n",
      "---  ------    --------------  -----  \n",
      " 0   calls     3214 non-null   float64\n",
      " 1   minutes   3214 non-null   float64\n",
      " 2   messages  3214 non-null   float64\n",
      " 3   mb_used   3214 non-null   float64\n",
      " 4   is_ultra  3214 non-null   int64  \n",
      "dtypes: float64(4), int64(1)\n",
      "memory usage: 125.7 KB\n"
     ]
    }
   ],
   "source": [
    "df.info()"
   ]
  },
  {
   "cell_type": "markdown",
   "metadata": {
    "pycharm": {
     "name": "#%% md\n"
    }
   },
   "source": [
    "## Разбейте данные на выборки"
   ]
  },
  {
   "cell_type": "markdown",
   "metadata": {
    "pycharm": {
     "name": "#%% md\n"
    }
   },
   "source": [
    "Наша задача разбить данные в пропорции 60% обучающая выборка, 20% валидационная и 20% тестовая выборка. Первым этапом, делим выборку в соотношении 60/40 на обучающую и остальные"
   ]
  },
  {
   "cell_type": "code",
   "execution_count": 5,
   "metadata": {
    "pycharm": {
     "name": "#%%\n"
    }
   },
   "outputs": [],
   "source": [
    "df_train, df_last = train_test_split(df, test_size=0.4, random_state=12345)"
   ]
  },
  {
   "cell_type": "markdown",
   "metadata": {
    "pycharm": {
     "name": "#%% md\n"
    }
   },
   "source": [
    "вторым этапом делим оставшиеся 40% на 20/20, у нас получится валидационная и тестовая выборки."
   ]
  },
  {
   "cell_type": "code",
   "execution_count": 6,
   "metadata": {
    "pycharm": {
     "name": "#%%\n"
    }
   },
   "outputs": [],
   "source": [
    "df_valid, df_test = train_test_split(df_last, test_size=0.5, random_state=12345)"
   ]
  },
  {
   "cell_type": "markdown",
   "metadata": {
    "pycharm": {
     "name": "#%% md\n"
    }
   },
   "source": [
    "проверяем полученный результат"
   ]
  },
  {
   "cell_type": "code",
   "execution_count": 7,
   "metadata": {
    "pycharm": {
     "name": "#%%\n"
    }
   },
   "outputs": [
    {
     "name": "stdout",
     "output_type": "stream",
     "text": [
      "<class 'pandas.core.frame.DataFrame'>\n",
      "Int64Index: 1928 entries, 3027 to 482\n",
      "Data columns (total 5 columns):\n",
      " #   Column    Non-Null Count  Dtype  \n",
      "---  ------    --------------  -----  \n",
      " 0   calls     1928 non-null   float64\n",
      " 1   minutes   1928 non-null   float64\n",
      " 2   messages  1928 non-null   float64\n",
      " 3   mb_used   1928 non-null   float64\n",
      " 4   is_ultra  1928 non-null   int64  \n",
      "dtypes: float64(4), int64(1)\n",
      "memory usage: 90.4 KB\n"
     ]
    }
   ],
   "source": [
    "df_train.info()"
   ]
  },
  {
   "cell_type": "code",
   "execution_count": 8,
   "metadata": {
    "pycharm": {
     "name": "#%%\n"
    }
   },
   "outputs": [
    {
     "name": "stdout",
     "output_type": "stream",
     "text": [
      "<class 'pandas.core.frame.DataFrame'>\n",
      "Int64Index: 643 entries, 1386 to 3197\n",
      "Data columns (total 5 columns):\n",
      " #   Column    Non-Null Count  Dtype  \n",
      "---  ------    --------------  -----  \n",
      " 0   calls     643 non-null    float64\n",
      " 1   minutes   643 non-null    float64\n",
      " 2   messages  643 non-null    float64\n",
      " 3   mb_used   643 non-null    float64\n",
      " 4   is_ultra  643 non-null    int64  \n",
      "dtypes: float64(4), int64(1)\n",
      "memory usage: 30.1 KB\n"
     ]
    }
   ],
   "source": [
    "df_valid.info()"
   ]
  },
  {
   "cell_type": "code",
   "execution_count": 9,
   "metadata": {
    "pycharm": {
     "name": "#%%\n"
    }
   },
   "outputs": [
    {
     "name": "stdout",
     "output_type": "stream",
     "text": [
      "<class 'pandas.core.frame.DataFrame'>\n",
      "Int64Index: 643 entries, 160 to 2313\n",
      "Data columns (total 5 columns):\n",
      " #   Column    Non-Null Count  Dtype  \n",
      "---  ------    --------------  -----  \n",
      " 0   calls     643 non-null    float64\n",
      " 1   minutes   643 non-null    float64\n",
      " 2   messages  643 non-null    float64\n",
      " 3   mb_used   643 non-null    float64\n",
      " 4   is_ultra  643 non-null    int64  \n",
      "dtypes: float64(4), int64(1)\n",
      "memory usage: 30.1 KB\n"
     ]
    }
   ],
   "source": [
    "df_test.info()"
   ]
  },
  {
   "cell_type": "markdown",
   "metadata": {
    "pycharm": {
     "name": "#%% md\n"
    }
   },
   "source": [
    "проверяем сумму строк в получившихся выборках"
   ]
  },
  {
   "cell_type": "code",
   "execution_count": 10,
   "metadata": {
    "pycharm": {
     "name": "#%%\n"
    }
   },
   "outputs": [
    {
     "data": {
      "text/plain": [
       "3214"
      ]
     },
     "execution_count": 10,
     "metadata": {},
     "output_type": "execute_result"
    }
   ],
   "source": [
    "1928+643+643\n"
   ]
  },
  {
   "cell_type": "code",
   "execution_count": 11,
   "metadata": {
    "pycharm": {
     "name": "#%%\n"
    }
   },
   "outputs": [
    {
     "data": {
      "text/plain": [
       "3214"
      ]
     },
     "execution_count": 11,
     "metadata": {},
     "output_type": "execute_result"
    }
   ],
   "source": [
    "len(df)"
   ]
  },
  {
   "cell_type": "markdown",
   "metadata": {
    "pycharm": {
     "name": "#%% md\n"
    }
   },
   "source": [
    "все в порядке: разбивка на выборки правильная"
   ]
  },
  {
   "cell_type": "code",
   "execution_count": 12,
   "metadata": {
    "pycharm": {
     "name": "#%%\n"
    }
   },
   "outputs": [
    {
     "data": {
      "text/plain": [
       "calls       0\n",
       "minutes     0\n",
       "messages    0\n",
       "mb_used     0\n",
       "is_ultra    0\n",
       "dtype: int64"
      ]
     },
     "execution_count": 12,
     "metadata": {},
     "output_type": "execute_result"
    }
   ],
   "source": [
    "df.isna().sum()"
   ]
  },
  {
   "cell_type": "code",
   "execution_count": 13,
   "metadata": {
    "pycharm": {
     "name": "#%%\n"
    }
   },
   "outputs": [
    {
     "data": {
      "text/plain": [
       "0"
      ]
     },
     "execution_count": 13,
     "metadata": {},
     "output_type": "execute_result"
    }
   ],
   "source": [
    "df.duplicated().sum()"
   ]
  },
  {
   "cell_type": "markdown",
   "metadata": {
    "pycharm": {
     "name": "#%% md\n"
    }
   },
   "source": [
    "## Исследуйте модели"
   ]
  },
  {
   "cell_type": "markdown",
   "metadata": {
    "pycharm": {
     "name": "#%% md\n"
    }
   },
   "source": [
    "подготовим признаки и целевой признак для исследования"
   ]
  },
  {
   "cell_type": "code",
   "execution_count": 14,
   "metadata": {
    "pycharm": {
     "name": "#%%\n"
    }
   },
   "outputs": [],
   "source": [
    "features_train = df_train.drop(['is_ultra'], axis=1)\n",
    "target_train = df_train['is_ultra']\n",
    "features_valid = df_valid.drop(['is_ultra'], axis=1)\n",
    "target_valid = df_valid['is_ultra']\n",
    "features_test = df_test.drop(['is_ultra'], axis=1)\n",
    "target_test = df_test['is_ultra']"
   ]
  },
  {
   "cell_type": "markdown",
   "metadata": {
    "pycharm": {
     "name": "#%% md\n"
    }
   },
   "source": [
    "### исследуем модель дерево решений"
   ]
  },
  {
   "cell_type": "code",
   "execution_count": 15,
   "metadata": {
    "pycharm": {
     "name": "#%%\n"
    }
   },
   "outputs": [
    {
     "name": "stdout",
     "output_type": "stream",
     "text": [
      "Глубина = 1 ,score_valid =  0.7542768273716952\n",
      "Глубина = 2 ,score_valid =  0.7822706065318819\n",
      "Глубина = 3 ,score_valid =  0.7853810264385692\n",
      "Глубина = 4 ,score_valid =  0.7791601866251944\n",
      "Глубина = 5 ,score_valid =  0.7791601866251944\n",
      "Глубина = 6 ,score_valid =  0.7838258164852255\n",
      "Глубина = 7 ,score_valid =  0.7822706065318819\n",
      "Глубина = 8 ,score_valid =  0.7791601866251944\n",
      "Глубина = 9 ,score_valid =  0.7822706065318819\n",
      "CPU times: user 64.1 ms, sys: 8.41 ms, total: 72.5 ms\n",
      "Wall time: 69 ms\n"
     ]
    }
   ],
   "source": [
    "%%time\n",
    "for depth in range(1, 10):\n",
    "    model = DecisionTreeClassifier(max_depth = depth, random_state = 12345)\n",
    "    model.fit(features_train, target_train)\n",
    "    predictions_valid = model.predict(features_valid)\n",
    "    score_valid = accuracy_score(predictions_valid,target_valid)\n",
    "    print('Глубина =',depth,',score_valid = ',score_valid)"
   ]
  },
  {
   "cell_type": "code",
   "execution_count": 16,
   "metadata": {
    "pycharm": {
     "name": "#%%\n"
    }
   },
   "outputs": [
    {
     "name": "stdout",
     "output_type": "stream",
     "text": [
      "Глубина = 1 ,score_valid =  0.7577800829875518\n",
      "Глубина = 2 ,score_valid =  0.7878630705394191\n",
      "Глубина = 3 ,score_valid =  0.8075726141078838\n",
      "Глубина = 4 ,score_valid =  0.8106846473029046\n",
      "Глубина = 5 ,score_valid =  0.8200207468879668\n",
      "Глубина = 6 ,score_valid =  0.8376556016597511\n",
      "Глубина = 7 ,score_valid =  0.8558091286307054\n",
      "Глубина = 8 ,score_valid =  0.8625518672199171\n",
      "Глубина = 9 ,score_valid =  0.8807053941908713\n"
     ]
    }
   ],
   "source": [
    "#обучаем модель и собираем данные по каждой итерации цикла в список\n",
    "listoTRAIN = []\n",
    "for i in range(1,10):\n",
    "    model = DecisionTreeClassifier(random_state=1,max_depth=i)\n",
    "    model.fit(features_train,target_train)\n",
    "    predict_train = model.predict(features_train)\n",
    "    score_train = accuracy_score(predict_train,target_train)\n",
    "    print('Глубина =',i,',score_valid = ',score_train)\n",
    "    listoTRAIN.append(score_train) "
   ]
  },
  {
   "cell_type": "code",
   "execution_count": 17,
   "metadata": {
    "pycharm": {
     "name": "#%%\n"
    }
   },
   "outputs": [
    {
     "name": "stdout",
     "output_type": "stream",
     "text": [
      "Глубина = 1 ,score_valid =  0.7542768273716952\n",
      "Глубина = 2 ,score_valid =  0.7822706065318819\n",
      "Глубина = 3 ,score_valid =  0.7853810264385692\n",
      "Глубина = 4 ,score_valid =  0.7791601866251944\n",
      "Глубина = 5 ,score_valid =  0.7791601866251944\n",
      "Глубина = 6 ,score_valid =  0.7838258164852255\n",
      "Глубина = 7 ,score_valid =  0.7822706065318819\n",
      "Глубина = 8 ,score_valid =  0.7791601866251944\n",
      "Глубина = 9 ,score_valid =  0.7838258164852255\n"
     ]
    }
   ],
   "source": [
    "#валидируем модель и собираем данные по каждой итерации цикла в список\n",
    "listo = []\n",
    "best_depth = 0\n",
    "best_model = None\n",
    "best_score = 0\n",
    "for i in range(1,10):\n",
    "    model = DecisionTreeClassifier(random_state=1,max_depth=i)\n",
    "    model.fit(features_train,target_train)\n",
    "    predict_valid = model.predict(features_valid)\n",
    "    score_valid = accuracy_score(predict_valid,target_valid)\n",
    "    print('Глубина =',i,',score_valid = ',score_valid)\n",
    "    listo.append(score_valid)\n",
    "    if score_valid>best_score:\n",
    "        best_model = model\n",
    "        best_score = score_valid\n",
    "        best_depth=i"
   ]
  },
  {
   "cell_type": "code",
   "execution_count": 18,
   "metadata": {
    "scrolled": true,
    "pycharm": {
     "name": "#%%\n"
    }
   },
   "outputs": [
    {
     "data": {
      "text/plain": [
       "<AxesSubplot:>"
      ]
     },
     "execution_count": 18,
     "metadata": {},
     "output_type": "execute_result"
    },
    {
     "data": {
      "image/png": "[encoded data removed]",
      "text/plain": [
       "<Figure size 432x288 with 1 Axes>"
      ]
     },
     "metadata": {
      "needs_background": "light"
     },
     "output_type": "display_data"
    }
   ],
   "source": [
    "listoTRAIN = pd.Series(listoTRAIN)\n",
    "listo = pd.Series(listo)\n",
    "ALL = pd.DataFrame({'PREDICT': listo,\n",
    "                            'LEARN': listoTRAIN})\n",
    "sns.lineplot(data=ALL)"
   ]
  },
  {
   "cell_type": "markdown",
   "metadata": {
    "pycharm": {
     "name": "#%% md\n"
    }
   },
   "source": [
    "#### Вывод по данной модели: лучший результат показал варинт 3 - Глубина = 3 ,score_valid =  0.7853810264385692"
   ]
  },
  {
   "cell_type": "markdown",
   "metadata": {
    "pycharm": {
     "name": "#%% md\n"
    }
   },
   "source": [
    "### исследуем модель случайный лес деревьев"
   ]
  },
  {
   "cell_type": "code",
   "execution_count": 19,
   "metadata": {
    "pycharm": {
     "name": "#%%\n"
    }
   },
   "outputs": [
    {
     "name": "stdout",
     "output_type": "stream",
     "text": [
      "Кол-во деревьев = 1 ,score_valid =  0.7107309486780715\n",
      "Кол-во деревьев = 2 ,score_valid =  0.7636080870917574\n",
      "Кол-во деревьев = 3 ,score_valid =  0.7387247278382582\n",
      "Кол-во деревьев = 4 ,score_valid =  0.7713841368584758\n",
      "Кол-во деревьев = 5 ,score_valid =  0.749611197511664\n",
      "Кол-во деревьев = 6 ,score_valid =  0.7807153965785381\n",
      "Кол-во деревьев = 7 ,score_valid =  0.7682737169517885\n",
      "Кол-во деревьев = 8 ,score_valid =  0.7822706065318819\n",
      "Кол-во деревьев = 9 ,score_valid =  0.7729393468118196\n",
      "CPU times: user 222 ms, sys: 10.6 ms, total: 233 ms\n",
      "Wall time: 241 ms\n"
     ]
    }
   ],
   "source": [
    "%%time\n",
    "best_model = None\n",
    "best_result = 0\n",
    "for i in range(1, 10):\n",
    "    model = RandomForestClassifier(random_state=12345, n_estimators= i)\n",
    "    model.fit(features_train, target_train)\n",
    "    predict_valid = model.predict(features_valid)\n",
    "    score_valid = accuracy_score(predict_valid,target_valid)\n",
    "    print('Кол-во деревьев =',i,',score_valid = ',score_valid)\n",
    "\n"
   ]
  },
  {
   "cell_type": "markdown",
   "metadata": {
    "pycharm": {
     "name": "#%% md\n"
    }
   },
   "source": [
    "#### Вывод по данной модели: лучший результат на валидационной выборке: 0.7822706065318819"
   ]
  },
  {
   "cell_type": "markdown",
   "metadata": {
    "pycharm": {
     "name": "#%% md\n"
    }
   },
   "source": [
    "<font color='blue'Реализовал перебор 2 гиперпараметров в двойном цикле ниже   </font> "
   ]
  },
  {
   "cell_type": "code",
   "execution_count": 25,
   "metadata": {
    "pycharm": {
     "name": "#%%\n"
    }
   },
   "outputs": [
    {
     "name": "stdout",
     "output_type": "stream",
     "text": [
      "0.7573872472783826\n",
      "0.7931570762052877\n",
      "0.7776049766718507\n",
      "0.8087091757387247\n",
      "0.7978227060653188\n",
      "0.8211508553654744\n",
      "0.8195956454121306\n",
      "0.8398133748055988\n",
      "0.8413685847589425\n",
      "0.7573872472783826\n",
      "0.7931570762052877\n",
      "0.7916018662519441\n",
      "0.8040435458786936\n",
      "0.8195956454121306\n",
      "0.8258164852255054\n",
      "0.8429237947122862\n",
      "0.8460342146189735\n",
      "0.8600311041990669\n",
      "0.7589424572317263\n",
      "0.7947122861586314\n",
      "0.8040435458786936\n",
      "0.8118195956454122\n",
      "0.8180404354587869\n",
      "0.838258164852255\n",
      "0.8491446345256609\n",
      "0.8740279937791602\n",
      "0.8740279937791602\n",
      "0.7589424572317263\n",
      "0.7713841368584758\n",
      "0.80248833592535\n",
      "0.8164852255054432\n",
      "0.8242612752721618\n",
      "0.8429237947122862\n",
      "0.8506998444790047\n",
      "0.8740279937791602\n",
      "0.8709175738724728\n",
      "0.7542768273716952\n",
      "0.7744945567651633\n",
      "0.7993779160186625\n",
      "0.8133748055987559\n",
      "0.833592534992224\n",
      "0.8506998444790047\n",
      "0.8538102643856921\n",
      "0.8895800933125972\n",
      "0.8818040435458787\n",
      "0.7542768273716952\n",
      "0.7713841368584758\n",
      "0.80248833592535\n",
      "0.8180404354587869\n",
      "0.8351477449455676\n",
      "0.8475894245723172\n",
      "0.8553654743390358\n",
      "0.8740279937791602\n",
      "0.8880248833592534\n",
      "0.7558320373250389\n",
      "0.7698289269051322\n",
      "0.8040435458786936\n",
      "0.8227060653188181\n",
      "0.833592534992224\n",
      "0.8460342146189735\n",
      "0.8569206842923794\n",
      "0.880248833592535\n",
      "0.8895800933125972\n",
      "0.7542768273716952\n",
      "0.7667185069984448\n",
      "0.807153965785381\n",
      "0.8195956454121306\n",
      "0.8273716951788491\n",
      "0.8522550544323484\n",
      "0.8600311041990669\n",
      "0.880248833592535\n",
      "0.8849144634525661\n",
      "0.7542768273716952\n",
      "0.7729393468118196\n",
      "0.80248833592535\n",
      "0.8227060653188181\n",
      "0.833592534992224\n",
      "0.8460342146189735\n",
      "0.8584758942457231\n",
      "0.8724727838258165\n",
      "0.8864696734059098\n"
     ]
    }
   ],
   "source": [
    "best_model = None\n",
    "best_score = 0\n",
    "metTRAIN = [] #создаем пустой список, в который будем вкладывать варианты решений при переборе пгиперпараметров в цикле\n",
    "for est in range(1, 10):\n",
    "    for depth in range(1, 10):\n",
    "        model = RandomForestClassifier(random_state = 12345, n_estimators = est, max_depth = depth)\n",
    "        model.fit(features_valid, target_valid)\n",
    "        answers = model.predict(features_valid)\n",
    "        score = accuracy_score(answers, target_valid)\n",
    "        if score > best_score:\n",
    "            best_mpdel = model\n",
    "            best_score = score\n",
    "        metTRAIN.append(score)\n",
    "        print (score)\n",
    "       \n",
    "            \n",
    "     \n"
   ]
  },
  {
   "cell_type": "markdown",
   "metadata": {
    "pycharm": {
     "name": "#%% md\n"
    }
   },
   "source": [
    "### исследуем модель логистической регрессии"
   ]
  },
  {
   "cell_type": "code",
   "execution_count": null,
   "metadata": {
    "pycharm": {
     "name": "#%%\n"
    }
   },
   "outputs": [],
   "source": [
    "%%time\n",
    "model = LogisticRegression(random_state=123456789, solver='lbfgs', max_iter=1000)\n",
    "model.fit(features_train, target_train)\n",
    "predict_valid = model.predict(features_valid)\n",
    "score_valid = accuracy_score(predict_valid,target_valid)\n",
    "print('Accuracy модели на валидационной выборке: = ',score_valid)\n"
   ]
  },
  {
   "cell_type": "markdown",
   "metadata": {
    "pycharm": {
     "name": "#%% md\n"
    }
   },
   "source": [
    "#### Вывод по данной модели:  результат на валидационной выборке: 0.7107309486780715"
   ]
  },
  {
   "cell_type": "markdown",
   "metadata": {
    "pycharm": {
     "name": "#%% md\n"
    }
   },
   "source": [
    "### Вывод по разделу 3: нами проведено обучение 3 моделей на обучающей выборке и валидация моделей на валижационной выборке. По итогам экспериментов, лучшие результаты показали модели дерево решений и случайный лес деревьев. С учетом того, что случайный лес модель более надежная, имеет смысл использовать в дальнейшей работе ее,если базовая цель - точность предсказания. Если же говорить про скорость работы, то дерево решений работает занчимо бытсрее. Таким образом, при выборе модели необходимо опираться на цель."
   ]
  },
  {
   "cell_type": "markdown",
   "metadata": {
    "pycharm": {
     "name": "#%% md\n"
    }
   },
   "source": [
    "## Проверьте модель на тестовой выборке"
   ]
  },
  {
   "cell_type": "code",
   "execution_count": null,
   "metadata": {
    "pycharm": {
     "name": "#%%\n"
    }
   },
   "outputs": [],
   "source": [
    "%%time\n",
    "\n",
    "    model = RandomForestClassifier(random_state=12345, n_estimators= 8)\n",
    "    model.fit(features_train, target_train)\n",
    "    predict_test = model.predict(features_test)\n",
    "    score_test = accuracy_score(predict_test,target_test)\n",
    "    print('score_test = ',score_test)\n",
    "  \n"
   ]
  },
  {
   "cell_type": "markdown",
   "metadata": {
    "pycharm": {
     "name": "#%% md\n"
    }
   },
   "source": [
    "### Вывод: с точки зрения качества предсказания, score_test =  0.7869362363919129, скорость работы модели, относительно других методов удовлетворительная. В целом, проведена работа по обучению модели на обучающей выборке, валидирование результатов на валидационной выборке и проверка работы модели на тестовой выборке. Целевые показатели достигнуты."
   ]
  },
  {
   "cell_type": "markdown",
   "metadata": {
    "pycharm": {
     "name": "#%% md\n"
    }
   },
   "source": [
    "## Проверьте модели на адекватность"
   ]
  },
  {
   "cell_type": "code",
   "execution_count": null,
   "metadata": {
    "pycharm": {
     "name": "#%%\n"
    }
   },
   "outputs": [],
   "source": [
    "model_dc = DummyClassifier(strategy='most_frequent', random_state=12345)\n",
    "model_dc.fit(features_train, target_train)\n",
    "result_dc = model_dc.score(features_valid, target_valid)\n",
    "print('Точность простейшей модели:','{:.4f}'.format(result_dc))"
   ]
  },
  {
   "cell_type": "markdown",
   "metadata": {
    "pycharm": {
     "name": "#%% md\n"
    }
   },
   "source": [
    "#### Вывод: с учетом предсказательной точности простейшей модели, обученная нами модель адекватна."
   ]
  }
 ],
 "metadata": {
  "ExecuteTimeLog": [
   {
    "duration": 1392,
    "start_time": "2022-10-22T00:59:38.937Z"
   },
   {
    "duration": 24,
    "start_time": "2022-10-22T01:00:03.417Z"
   },
   {
    "duration": 19,
    "start_time": "2022-10-22T01:00:13.819Z"
   },
   {
    "duration": 10,
    "start_time": "2022-10-22T01:01:19.192Z"
   },
   {
    "duration": 107,
    "start_time": "2022-10-22T01:01:37.971Z"
   },
   {
    "duration": 10,
    "start_time": "2022-10-22T01:01:45.685Z"
   },
   {
    "duration": 232,
    "start_time": "2022-10-22T01:04:11.226Z"
   },
   {
    "duration": 7,
    "start_time": "2022-10-22T01:08:46.422Z"
   },
   {
    "duration": 5,
    "start_time": "2022-10-22T01:11:21.466Z"
   },
   {
    "duration": 10,
    "start_time": "2022-10-22T01:12:02.076Z"
   },
   {
    "duration": 8,
    "start_time": "2022-10-22T01:12:24.637Z"
   },
   {
    "duration": 11,
    "start_time": "2022-10-22T01:12:30.065Z"
   },
   {
    "duration": 9,
    "start_time": "2022-10-22T01:12:45.040Z"
   },
   {
    "duration": 11,
    "start_time": "2022-10-22T01:13:05.788Z"
   },
   {
    "duration": 5,
    "start_time": "2022-10-22T01:13:13.563Z"
   },
   {
    "duration": 8,
    "start_time": "2022-10-22T01:13:14.621Z"
   },
   {
    "duration": 11,
    "start_time": "2022-10-22T01:13:15.883Z"
   },
   {
    "duration": 10,
    "start_time": "2022-10-22T01:13:16.968Z"
   },
   {
    "duration": 10,
    "start_time": "2022-10-22T01:13:18.086Z"
   },
   {
    "duration": 4,
    "start_time": "2022-10-22T01:13:27.770Z"
   },
   {
    "duration": 11,
    "start_time": "2022-10-22T01:13:29.098Z"
   },
   {
    "duration": 12,
    "start_time": "2022-10-22T01:13:30.407Z"
   },
   {
    "duration": 12,
    "start_time": "2022-10-22T01:13:32.665Z"
   },
   {
    "duration": 5,
    "start_time": "2022-10-22T01:14:15.508Z"
   },
   {
    "duration": 9,
    "start_time": "2022-10-22T01:14:16.737Z"
   },
   {
    "duration": 9,
    "start_time": "2022-10-22T01:14:18.005Z"
   },
   {
    "duration": 12,
    "start_time": "2022-10-22T01:14:18.833Z"
   },
   {
    "duration": 3,
    "start_time": "2022-10-22T01:14:38.004Z"
   },
   {
    "duration": 20,
    "start_time": "2022-10-22T01:15:50.020Z"
   },
   {
    "duration": 5,
    "start_time": "2022-10-22T01:15:53.774Z"
   },
   {
    "duration": 5,
    "start_time": "2022-10-22T01:15:54.908Z"
   },
   {
    "duration": 16,
    "start_time": "2022-10-22T01:15:56.421Z"
   },
   {
    "duration": 6,
    "start_time": "2022-10-22T01:41:27.639Z"
   },
   {
    "duration": 5,
    "start_time": "2022-10-22T01:41:28.666Z"
   },
   {
    "duration": 11,
    "start_time": "2022-10-22T01:41:29.836Z"
   },
   {
    "duration": 10,
    "start_time": "2022-10-22T01:41:31.657Z"
   },
   {
    "duration": 16,
    "start_time": "2022-10-22T01:41:32.826Z"
   },
   {
    "duration": 3,
    "start_time": "2022-10-22T01:41:46.865Z"
   },
   {
    "duration": 36,
    "start_time": "2022-10-22T03:08:52.061Z"
   },
   {
    "duration": 16,
    "start_time": "2022-10-22T03:08:52.818Z"
   },
   {
    "duration": 9,
    "start_time": "2022-10-22T03:08:56.031Z"
   },
   {
    "duration": 53,
    "start_time": "2022-10-22T03:15:24.401Z"
   },
   {
    "duration": 32,
    "start_time": "2022-10-22T03:15:37.165Z"
   },
   {
    "duration": 12,
    "start_time": "2022-10-22T03:18:54.164Z"
   },
   {
    "duration": 241,
    "start_time": "2022-10-22T03:20:21.675Z"
   },
   {
    "duration": 242,
    "start_time": "2022-10-22T03:21:25.382Z"
   },
   {
    "duration": 3,
    "start_time": "2022-10-22T03:22:28.803Z"
   },
   {
    "duration": 3,
    "start_time": "2022-10-22T03:23:31.717Z"
   },
   {
    "duration": 19,
    "start_time": "2022-10-22T03:24:08.319Z"
   },
   {
    "duration": 128,
    "start_time": "2022-10-22T03:24:51.203Z"
   },
   {
    "duration": 26,
    "start_time": "2022-10-22T03:24:58.673Z"
   },
   {
    "duration": 50,
    "start_time": "2022-10-22T03:25:37.209Z"
   },
   {
    "duration": 34,
    "start_time": "2022-10-22T03:25:46.748Z"
   },
   {
    "duration": 4,
    "start_time": "2022-10-22T03:27:32.294Z"
   },
   {
    "duration": 6,
    "start_time": "2022-10-22T03:27:45.895Z"
   },
   {
    "duration": 6,
    "start_time": "2022-10-22T03:27:54.971Z"
   },
   {
    "duration": 128,
    "start_time": "2022-10-22T03:28:08.762Z"
   },
   {
    "duration": 6,
    "start_time": "2022-10-22T03:30:23.868Z"
   },
   {
    "duration": 32,
    "start_time": "2022-10-22T03:30:26.665Z"
   },
   {
    "duration": 248,
    "start_time": "2022-10-22T03:30:32.448Z"
   },
   {
    "duration": 24,
    "start_time": "2022-10-22T03:30:37.151Z"
   },
   {
    "duration": 85,
    "start_time": "2022-10-22T03:30:58.940Z"
   },
   {
    "duration": 65,
    "start_time": "2022-10-22T03:34:21.098Z"
   },
   {
    "duration": 64,
    "start_time": "2022-10-22T03:34:32.671Z"
   },
   {
    "duration": 67,
    "start_time": "2022-10-22T03:34:40.213Z"
   },
   {
    "duration": 65,
    "start_time": "2022-10-22T03:34:56.735Z"
   },
   {
    "duration": 249,
    "start_time": "2022-10-22T03:37:32.464Z"
   },
   {
    "duration": 210,
    "start_time": "2022-10-22T03:38:01.101Z"
   },
   {
    "duration": 249,
    "start_time": "2022-10-22T03:38:09.891Z"
   },
   {
    "duration": 65,
    "start_time": "2022-10-22T03:39:16.881Z"
   },
   {
    "duration": 66,
    "start_time": "2022-10-22T03:39:38.361Z"
   },
   {
    "duration": 81,
    "start_time": "2022-10-22T03:39:52.458Z"
   },
   {
    "duration": 77,
    "start_time": "2022-10-22T03:40:20.457Z"
   },
   {
    "duration": 62,
    "start_time": "2022-10-22T03:40:58.082Z"
   },
   {
    "duration": 64,
    "start_time": "2022-10-22T03:41:22.287Z"
   },
   {
    "duration": 68,
    "start_time": "2022-10-22T03:42:02.672Z"
   },
   {
    "duration": 69,
    "start_time": "2022-10-22T03:42:53.972Z"
   },
   {
    "duration": 80,
    "start_time": "2022-10-22T03:42:56.194Z"
   },
   {
    "duration": 301,
    "start_time": "2022-10-22T03:42:58.502Z"
   },
   {
    "duration": 71,
    "start_time": "2022-10-22T03:43:09.734Z"
   },
   {
    "duration": 56,
    "start_time": "2022-10-22T03:43:26.481Z"
   },
   {
    "duration": 60,
    "start_time": "2022-10-22T03:44:03.548Z"
   },
   {
    "duration": 65,
    "start_time": "2022-10-22T03:44:09.750Z"
   },
   {
    "duration": 284,
    "start_time": "2022-10-22T03:46:08.754Z"
   },
   {
    "duration": 78,
    "start_time": "2022-10-22T03:46:20.477Z"
   },
   {
    "duration": 38,
    "start_time": "2022-10-22T03:48:38.922Z"
   },
   {
    "duration": 23,
    "start_time": "2022-10-22T03:49:27.771Z"
   },
   {
    "duration": 28,
    "start_time": "2022-10-22T03:49:35.566Z"
   },
   {
    "duration": 58,
    "start_time": "2022-10-22T03:50:31.004Z"
   },
   {
    "duration": 219,
    "start_time": "2022-10-22T03:50:41.289Z"
   },
   {
    "duration": 26,
    "start_time": "2022-10-22T03:52:28.397Z"
   },
   {
    "duration": 23,
    "start_time": "2022-10-22T03:52:35.187Z"
   },
   {
    "duration": 21,
    "start_time": "2022-10-22T03:52:42.942Z"
   },
   {
    "duration": 32,
    "start_time": "2022-10-22T03:52:50.853Z"
   },
   {
    "duration": 26,
    "start_time": "2022-10-22T03:52:57.073Z"
   },
   {
    "duration": 23,
    "start_time": "2022-10-22T03:53:03.783Z"
   },
   {
    "duration": 580,
    "start_time": "2022-10-22T03:53:11.476Z"
   },
   {
    "duration": 24,
    "start_time": "2022-10-22T03:53:17.173Z"
   },
   {
    "duration": 68,
    "start_time": "2022-10-22T03:58:33.189Z"
   },
   {
    "duration": 79,
    "start_time": "2022-10-22T03:59:21.491Z"
   },
   {
    "duration": 205,
    "start_time": "2022-10-22T03:59:40.891Z"
   },
   {
    "duration": 193,
    "start_time": "2022-10-22T04:00:22.138Z"
   },
   {
    "duration": 211,
    "start_time": "2022-10-22T04:00:26.860Z"
   },
   {
    "duration": 220,
    "start_time": "2022-10-22T04:05:15.040Z"
   },
   {
    "duration": 197,
    "start_time": "2022-10-22T04:06:00.884Z"
   },
   {
    "duration": 195,
    "start_time": "2022-10-22T04:06:23.327Z"
   },
   {
    "duration": 204,
    "start_time": "2022-10-22T04:06:27.647Z"
   },
   {
    "duration": 39,
    "start_time": "2022-10-22T04:08:31.228Z"
   },
   {
    "duration": 20,
    "start_time": "2022-10-22T04:09:07.165Z"
   },
   {
    "duration": 38,
    "start_time": "2022-10-22T04:09:15.543Z"
   },
   {
    "duration": 48,
    "start_time": "2022-10-22T04:33:31.505Z"
   },
   {
    "duration": 9,
    "start_time": "2022-10-22T04:33:33.207Z"
   },
   {
    "duration": 3,
    "start_time": "2022-10-22T06:21:07.584Z"
   },
   {
    "duration": 7,
    "start_time": "2022-10-22T06:21:29.419Z"
   },
   {
    "duration": 1697,
    "start_time": "2022-10-22T10:48:49.661Z"
   },
   {
    "duration": 43,
    "start_time": "2022-10-22T10:48:51.360Z"
   },
   {
    "duration": 15,
    "start_time": "2022-10-22T10:48:51.404Z"
   },
   {
    "duration": 12,
    "start_time": "2022-10-22T10:48:51.422Z"
   },
   {
    "duration": 10,
    "start_time": "2022-10-22T10:48:51.435Z"
   },
   {
    "duration": 6,
    "start_time": "2022-10-22T10:48:51.447Z"
   },
   {
    "duration": 12,
    "start_time": "2022-10-22T10:48:51.454Z"
   },
   {
    "duration": 15,
    "start_time": "2022-10-22T10:48:51.468Z"
   },
   {
    "duration": 14,
    "start_time": "2022-10-22T10:48:51.485Z"
   },
   {
    "duration": 23,
    "start_time": "2022-10-22T10:48:51.502Z"
   },
   {
    "duration": 9,
    "start_time": "2022-10-22T10:48:51.526Z"
   },
   {
    "duration": 10,
    "start_time": "2022-10-22T10:48:51.537Z"
   },
   {
    "duration": 12,
    "start_time": "2022-10-22T10:48:51.549Z"
   },
   {
    "duration": 7,
    "start_time": "2022-10-22T10:48:51.563Z"
   },
   {
    "duration": 99,
    "start_time": "2022-10-22T10:48:51.572Z"
   },
   {
    "duration": 252,
    "start_time": "2022-10-22T10:48:51.672Z"
   },
   {
    "duration": 26,
    "start_time": "2022-10-22T10:48:51.926Z"
   },
   {
    "duration": 39,
    "start_time": "2022-10-22T10:48:51.954Z"
   },
   {
    "duration": 31,
    "start_time": "2022-10-22T10:48:51.994Z"
   },
   {
    "duration": 51,
    "start_time": "2022-10-24T11:56:39.525Z"
   },
   {
    "duration": 1877,
    "start_time": "2022-10-24T11:56:47.498Z"
   },
   {
    "duration": 156,
    "start_time": "2022-10-24T11:56:49.377Z"
   },
   {
    "duration": 19,
    "start_time": "2022-10-24T11:56:49.534Z"
   },
   {
    "duration": 27,
    "start_time": "2022-10-24T11:56:49.555Z"
   },
   {
    "duration": 25,
    "start_time": "2022-10-24T11:56:49.585Z"
   },
   {
    "duration": 16,
    "start_time": "2022-10-24T11:56:49.612Z"
   },
   {
    "duration": 38,
    "start_time": "2022-10-24T11:56:49.630Z"
   },
   {
    "duration": 35,
    "start_time": "2022-10-24T11:56:49.670Z"
   },
   {
    "duration": 33,
    "start_time": "2022-10-24T11:56:49.707Z"
   },
   {
    "duration": 19,
    "start_time": "2022-10-24T11:56:49.742Z"
   },
   {
    "duration": 31,
    "start_time": "2022-10-24T11:56:49.763Z"
   },
   {
    "duration": 21,
    "start_time": "2022-10-24T11:56:49.795Z"
   },
   {
    "duration": 30,
    "start_time": "2022-10-24T11:56:49.818Z"
   },
   {
    "duration": 34,
    "start_time": "2022-10-24T11:56:49.851Z"
   },
   {
    "duration": 87,
    "start_time": "2022-10-24T11:56:49.887Z"
   },
   {
    "duration": 75,
    "start_time": "2022-10-24T11:56:49.976Z"
   },
   {
    "duration": 258,
    "start_time": "2022-10-24T11:56:50.052Z"
   },
   {
    "duration": 34,
    "start_time": "2022-10-24T11:56:50.312Z"
   },
   {
    "duration": 41,
    "start_time": "2022-10-24T11:56:50.348Z"
   },
   {
    "duration": 6,
    "start_time": "2022-10-24T11:56:50.391Z"
   },
   {
    "duration": 67,
    "start_time": "2022-10-24T11:58:25.230Z"
   },
   {
    "duration": 111,
    "start_time": "2022-10-24T11:58:46.114Z"
   },
   {
    "duration": 3,
    "start_time": "2022-10-24T12:01:37.729Z"
   },
   {
    "duration": 201,
    "start_time": "2022-10-24T12:02:00.024Z"
   },
   {
    "duration": 1573,
    "start_time": "2022-10-25T02:32:59.790Z"
   },
   {
    "duration": 167,
    "start_time": "2022-10-25T02:33:01.366Z"
   },
   {
    "duration": 17,
    "start_time": "2022-10-25T02:33:01.536Z"
   },
   {
    "duration": 48,
    "start_time": "2022-10-25T02:33:01.555Z"
   },
   {
    "duration": 21,
    "start_time": "2022-10-25T02:33:01.605Z"
   },
   {
    "duration": 24,
    "start_time": "2022-10-25T02:33:01.628Z"
   },
   {
    "duration": 55,
    "start_time": "2022-10-25T02:33:01.654Z"
   },
   {
    "duration": 25,
    "start_time": "2022-10-25T02:33:01.711Z"
   },
   {
    "duration": 37,
    "start_time": "2022-10-25T02:33:01.738Z"
   },
   {
    "duration": 40,
    "start_time": "2022-10-25T02:33:01.778Z"
   },
   {
    "duration": 23,
    "start_time": "2022-10-25T02:33:01.820Z"
   },
   {
    "duration": 53,
    "start_time": "2022-10-25T02:33:01.844Z"
   },
   {
    "duration": 16,
    "start_time": "2022-10-25T02:33:01.899Z"
   },
   {
    "duration": 20,
    "start_time": "2022-10-25T02:33:01.918Z"
   },
   {
    "duration": 82,
    "start_time": "2022-10-25T02:33:01.940Z"
   },
   {
    "duration": 73,
    "start_time": "2022-10-25T02:33:02.023Z"
   },
   {
    "duration": 58,
    "start_time": "2022-10-25T02:33:02.098Z"
   },
   {
    "duration": 237,
    "start_time": "2022-10-25T02:33:02.158Z"
   },
   {
    "duration": 246,
    "start_time": "2022-10-25T02:33:02.397Z"
   },
   {
    "duration": 125,
    "start_time": "2022-10-25T02:33:02.645Z"
   },
   {
    "duration": 0,
    "start_time": "2022-10-25T02:33:02.776Z"
   },
   {
    "duration": 0,
    "start_time": "2022-10-25T02:33:02.777Z"
   },
   {
    "duration": 0,
    "start_time": "2022-10-25T02:33:02.777Z"
   },
   {
    "duration": 28,
    "start_time": "2022-10-25T02:36:54.675Z"
   },
   {
    "duration": 961,
    "start_time": "2022-10-25T02:37:12.831Z"
   },
   {
    "duration": 1021,
    "start_time": "2022-10-25T02:37:16.844Z"
   },
   {
    "duration": 1046,
    "start_time": "2022-10-25T02:38:43.006Z"
   },
   {
    "duration": 1088,
    "start_time": "2022-10-25T02:39:07.908Z"
   }
  ],
  "kernelspec": {
   "display_name": "Python 3 (ipykernel)",
   "language": "python",
   "name": "python3"
  },
  "language_info": {
   "codemirror_mode": {
    "name": "ipython",
    "version": 3
   },
   "file_extension": ".py",
   "mimetype": "text/x-python",
   "name": "python",
   "nbconvert_exporter": "python",
   "pygments_lexer": "ipython3",
   "version": "3.9.5"
  },
  "toc": {
   "base_numbering": 1,
   "nav_menu": {},
   "number_sections": true,
   "sideBar": true,
   "skip_h1_title": true,
   "title_cell": "Table of Contents",
   "title_sidebar": "Contents",
   "toc_cell": false,
   "toc_position": {},
   "toc_section_display": true,
   "toc_window_display": false
  }
 },
 "nbformat": 4,
 "nbformat_minor": 2
}