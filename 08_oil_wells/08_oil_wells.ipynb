{
 "cells": [
  {
   "cell_type": "markdown",
   "metadata": {
    "pycharm": {
     "name": "#%% md\n"
    }
   },
   "source": [
    "# Выбор локации для скважины"
   ]
  },
  {
   "cell_type": "markdown",
   "metadata": {
    "pycharm": {
     "name": "#%% md\n"
    }
   },
   "source": [
    "Допустим, вы работаете в добывающей компании «ГлавРосГосНефть». Нужно решить, где бурить новую скважину.\n",
    "\n",
    "Вам предоставлены пробы нефти в трёх регионах: в каждом 10 000 месторождений, где измерили качество нефти и объём её запасов. Постройте модель машинного обучения, которая поможет определить регион, где добыча принесёт наибольшую прибыль. Проанализируйте возможную прибыль и риски техникой *Bootstrap.*\n",
    "\n",
    "Шаги для выбора локации:\n",
    "\n",
    "- В избранном регионе ищут месторождения, для каждого определяют значения признаков;\n",
    "- Строят модель и оценивают объём запасов;\n",
    "- Выбирают месторождения с самым высокими оценками значений. Количество месторождений зависит от бюджета компании и стоимости разработки одной скважины;\n",
    "- Прибыль равна суммарной прибыли отобранных месторождений."
   ]
  },
  {
   "cell_type": "markdown",
   "metadata": {
    "pycharm": {
     "name": "#%% md\n"
    }
   },
   "source": [
    "Цель проекта: необходимо решить, какой из 3 регионов взять в разработку, с учетом экономической эффективности в представленном нефтедобывающем регионе и риска получения убытков, т е, по-сути, просчитать экономический эффект отдельно для каждого региона.\n"
   ]
  },
  {
   "cell_type": "markdown",
   "metadata": {
    "pycharm": {
     "name": "#%% md\n"
    }
   },
   "source": [
    "## Загрузка и подготовка данных"
   ]
  },
  {
   "cell_type": "code",
   "execution_count": null,
   "outputs": [],
   "source": [
    "import pandas as pd\n",
    "import numpy as np\n",
    "import seaborn as sns\n",
    "import math\n",
    "import matplotlib.pyplot as plt\n",
    "from sklearn.model_selection import train_test_split\n",
    "from sklearn.linear_model import LinearRegression\n",
    "from sklearn.preprocessing import StandardScaler\n",
    "from sklearn.metrics import mean_squared_error\n",
    "from sklearn.metrics import r2_score\n",
    "from sklearn.metrics import mean_absolute_error\n",
    "from numpy.random import RandomState\n",
    "from scipy import stats as st\n",
    "pd.options.display.float_format = '{:.2f}'.format\n"
   ],
   "metadata": {
    "collapsed": false,
    "pycharm": {
     "name": "#%%\n"
    }
   }
  },
  {
   "cell_type": "code",
   "execution_count": null,
   "outputs": [],
   "source": [
    "try:\n",
    "    df_0 = pd.read_csv('/datasets/geo_data_0.csv')\n",
    "    df_1 = pd.read_csv('/datasets/geo_data_1.csv')\n",
    "    df_2 = pd.read_csv('/datasets/geo_data_2.csv')\n",
    "except:\n",
    "    df_0 = pd.read_csv('geo_data_0.csv')\n",
    "    df_1 = pd.read_csv('geo_data_1.csv')\n",
    "    df_2 = pd.read_csv('geo_data_2.csv')"
   ],
   "metadata": {
    "collapsed": false,
    "pycharm": {
     "name": "#%%\n"
    }
   }
  },
  {
   "cell_type": "markdown",
   "source": [
    "для начала, изучим основную информацию по датасетам: у нас их 3. Также выведем на экран первые строки датасетов, для изучения и визуальной оценки данных."
   ],
   "metadata": {
    "collapsed": false,
    "pycharm": {
     "name": "#%% md\n"
    }
   }
  },
  {
   "cell_type": "code",
   "execution_count": null,
   "outputs": [],
   "source": [
    "df_0.head(5)"
   ],
   "metadata": {
    "collapsed": false,
    "pycharm": {
     "name": "#%%\n"
    }
   }
  },
  {
   "cell_type": "code",
   "execution_count": null,
   "outputs": [],
   "source": [
    "df_0.info()"
   ],
   "metadata": {
    "collapsed": false,
    "pycharm": {
     "name": "#%%\n"
    }
   }
  },
  {
   "cell_type": "code",
   "execution_count": null,
   "outputs": [],
   "source": [
    "df_1.head(5)"
   ],
   "metadata": {
    "collapsed": false,
    "pycharm": {
     "name": "#%%\n"
    }
   }
  },
  {
   "cell_type": "code",
   "execution_count": null,
   "outputs": [],
   "source": [
    "df_1.info()"
   ],
   "metadata": {
    "collapsed": false,
    "pycharm": {
     "name": "#%%\n"
    }
   }
  },
  {
   "cell_type": "code",
   "execution_count": null,
   "outputs": [],
   "source": [
    "df_2.head(5)"
   ],
   "metadata": {
    "collapsed": false,
    "pycharm": {
     "name": "#%%\n"
    }
   }
  },
  {
   "cell_type": "code",
   "execution_count": null,
   "outputs": [],
   "source": [
    "df_2.info()"
   ],
   "metadata": {
    "collapsed": false,
    "pycharm": {
     "name": "#%%\n"
    }
   }
  },
  {
   "cell_type": "code",
   "execution_count": null,
   "outputs": [],
   "source": [
    "df_0.nunique()"
   ],
   "metadata": {
    "collapsed": false,
    "pycharm": {
     "name": "#%%\n"
    }
   }
  },
  {
   "cell_type": "code",
   "execution_count": null,
   "outputs": [],
   "source": [
    "df_1.nunique()"
   ],
   "metadata": {
    "collapsed": false,
    "pycharm": {
     "name": "#%%\n"
    }
   }
  },
  {
   "cell_type": "code",
   "execution_count": null,
   "outputs": [],
   "source": [
    "df_2.info()"
   ],
   "metadata": {
    "collapsed": false,
    "pycharm": {
     "name": "#%%\n"
    }
   }
  },
  {
   "cell_type": "code",
   "execution_count": null,
   "outputs": [],
   "source": [
    "df_1['product'].value_counts()"
   ],
   "metadata": {
    "collapsed": false,
    "pycharm": {
     "name": "#%%\n"
    }
   }
  },
  {
   "cell_type": "markdown",
   "source": [
    "на основании изучения основной информации по датасетам и таблицам данных, делаем вывод о том, что типы данных соответствуют признакам, пропуски отсутствуют. Колонка id не несет информационной ценности - ее мы удалим. В df_1 в колонке product только 12 уникальных значений. Датасеты можно принимать в работу."
   ],
   "metadata": {
    "collapsed": false,
    "pycharm": {
     "name": "#%% md\n"
    }
   }
  },
  {
   "cell_type": "code",
   "execution_count": null,
   "outputs": [],
   "source": [
    "df_0 = df_0.drop('id', axis = 1)\n",
    "df_1 = df_1.drop('id', axis = 1)\n",
    "df_2 = df_2.drop('id', axis = 1)"
   ],
   "metadata": {
    "collapsed": false,
    "pycharm": {
     "name": "#%%\n"
    }
   }
  },
  {
   "cell_type": "code",
   "execution_count": null,
   "outputs": [],
   "source": [
    "df_0.info()"
   ],
   "metadata": {
    "collapsed": false,
    "pycharm": {
     "name": "#%%\n"
    }
   }
  },
  {
   "cell_type": "code",
   "execution_count": null,
   "outputs": [],
   "source": [
    "df_1.info()"
   ],
   "metadata": {
    "collapsed": false,
    "pycharm": {
     "name": "#%%\n"
    }
   }
  },
  {
   "cell_type": "code",
   "execution_count": null,
   "outputs": [],
   "source": [
    "df_2.info()"
   ],
   "metadata": {
    "collapsed": false,
    "pycharm": {
     "name": "#%%\n"
    }
   }
  },
  {
   "cell_type": "markdown",
   "source": [
    "Все в порядке: id  в датасетах удалены. Датасеты можно принимать в работу."
   ],
   "metadata": {
    "collapsed": false,
    "pycharm": {
     "name": "#%% md\n"
    }
   }
  },
  {
   "cell_type": "code",
   "execution_count": null,
   "outputs": [],
   "source": [
    "df_0.describe()"
   ],
   "metadata": {
    "collapsed": false,
    "pycharm": {
     "name": "#%%\n"
    }
   }
  },
  {
   "cell_type": "code",
   "execution_count": null,
   "outputs": [],
   "source": [
    "df_0.corr()"
   ],
   "metadata": {
    "collapsed": false,
    "pycharm": {
     "name": "#%%\n"
    }
   }
  },
  {
   "cell_type": "code",
   "execution_count": null,
   "outputs": [],
   "source": [
    "df_1.describe()"
   ],
   "metadata": {
    "collapsed": false,
    "pycharm": {
     "name": "#%%\n"
    }
   }
  },
  {
   "cell_type": "code",
   "execution_count": null,
   "outputs": [],
   "source": [
    "df_1.corr()"
   ],
   "metadata": {
    "collapsed": false,
    "pycharm": {
     "name": "#%%\n"
    }
   }
  },
  {
   "cell_type": "code",
   "execution_count": null,
   "outputs": [],
   "source": [
    "df_2.describe()"
   ],
   "metadata": {
    "collapsed": false,
    "pycharm": {
     "name": "#%%\n"
    }
   }
  },
  {
   "cell_type": "code",
   "execution_count": null,
   "outputs": [],
   "source": [
    "df_2.corr()"
   ],
   "metadata": {
    "collapsed": false,
    "pycharm": {
     "name": "#%%\n"
    }
   }
  },
  {
   "cell_type": "markdown",
   "source": [
    "## Обучение и проверка модели"
   ],
   "metadata": {
    "collapsed": false,
    "pycharm": {
     "name": "#%% md\n"
    }
   }
  },
  {
   "cell_type": "markdown",
   "source": [
    "разбиваем данные по 3 датафреймам на обучающую и валидационную выборки"
   ],
   "metadata": {
    "collapsed": false,
    "pycharm": {
     "name": "#%% md\n"
    }
   }
  },
  {
   "cell_type": "code",
   "execution_count": null,
   "outputs": [],
   "source": [
    "df_0_train, df_0_valid = train_test_split(df_0, test_size=0.25, random_state=12345)\n",
    "df_1_train, df_1_valid = train_test_split(df_1, test_size=0.25, random_state=12345)\n",
    "df_2_train, df_2_valid = train_test_split(df_2, test_size=0.25, random_state=12345)"
   ],
   "metadata": {
    "collapsed": false,
    "pycharm": {
     "name": "#%%\n"
    }
   }
  },
  {
   "cell_type": "markdown",
   "source": [
    "сразу верифицируем чистоту разбиения на выборки"
   ],
   "metadata": {
    "collapsed": false,
    "pycharm": {
     "name": "#%% md\n"
    }
   }
  },
  {
   "cell_type": "code",
   "execution_count": null,
   "outputs": [],
   "source": [
    "df_0_valid.shape"
   ],
   "metadata": {
    "collapsed": false,
    "pycharm": {
     "name": "#%%\n"
    }
   }
  },
  {
   "cell_type": "code",
   "execution_count": null,
   "outputs": [],
   "source": [
    "df_1_valid.shape"
   ],
   "metadata": {
    "collapsed": false,
    "pycharm": {
     "name": "#%%\n"
    }
   }
  },
  {
   "cell_type": "code",
   "execution_count": null,
   "outputs": [],
   "source": [
    "df_2_valid.shape"
   ],
   "metadata": {
    "collapsed": false,
    "pycharm": {
     "name": "#%%\n"
    }
   }
  },
  {
   "cell_type": "markdown",
   "source": [
    "теперь проведем масштабирование признаков, с целью стандартизации"
   ],
   "metadata": {
    "collapsed": false,
    "pycharm": {
     "name": "#%% md\n"
    }
   }
  },
  {
   "cell_type": "code",
   "execution_count": null,
   "outputs": [],
   "source": [
    "pd.options.mode.chained_assignment = None\n",
    "numeric = ['f0']\n",
    "scaler = StandardScaler()\n",
    "scaler.fit(df_0_train[numeric]) \n",
    "df_0_train[numeric] = scaler.transform(df_0_train[numeric])\n",
    "df_0_valid[numeric] = scaler.transform(df_0_valid[numeric])"
   ],
   "metadata": {
    "collapsed": false,
    "pycharm": {
     "name": "#%%\n"
    }
   }
  },
  {
   "cell_type": "code",
   "execution_count": null,
   "outputs": [],
   "source": [
    "pd.options.mode.chained_assignment = None\n",
    "numeric = ['f1']\n",
    "scaler = StandardScaler()\n",
    "scaler.fit(df_1_train[numeric]) \n",
    "df_1_train[numeric] = scaler.transform(df_1_train[numeric])\n",
    "df_1_valid[numeric] = scaler.transform(df_1_valid[numeric])"
   ],
   "metadata": {
    "collapsed": false,
    "pycharm": {
     "name": "#%%\n"
    }
   }
  },
  {
   "cell_type": "code",
   "execution_count": null,
   "outputs": [],
   "source": [
    "pd.options.mode.chained_assignment = None\n",
    "numeric = ['f2']\n",
    "scaler = StandardScaler()\n",
    "scaler.fit(df_0_train[numeric]) \n",
    "df_2_train[numeric] = scaler.transform(df_2_train[numeric])\n",
    "df_2_valid[numeric] = scaler.transform(df_2_valid[numeric])"
   ],
   "metadata": {
    "collapsed": false,
    "pycharm": {
     "name": "#%%\n"
    }
   }
  },
  {
   "cell_type": "markdown",
   "source": [
    "все в порядке: разбиение прошло правильно. Двигаемся далее. Выделяем целевой признак для тренинговой и валидационной выборки по каждому датасету отдельно."
   ],
   "metadata": {
    "collapsed": false,
    "pycharm": {
     "name": "#%% md\n"
    }
   }
  },
  {
   "cell_type": "code",
   "execution_count": null,
   "outputs": [],
   "source": [
    "target_train_0 = df_0_train['product']\n",
    "features_train_0 = df_0_train.drop('product', axis = 1)\n",
    "target_valid_0 = df_0_valid['product']\n",
    "features_valid_0 = df_0_valid.drop('product', axis = 1)\n",
    "\n",
    "target_train_1 = df_1_train['product']\n",
    "features_train_1 = df_1_train.drop('product', axis = 1)\n",
    "target_valid_1 = df_1_valid['product']\n",
    "features_valid_1 = df_1_valid.drop('product', axis = 1)\n",
    "\n",
    "target_train_2 = df_2_train['product']\n",
    "features_train_2 = df_2_train.drop('product', axis = 1)\n",
    "target_valid_2 = df_2_valid['product']\n",
    "features_valid_2 = df_2_valid.drop('product', axis = 1)"
   ],
   "metadata": {
    "collapsed": false,
    "pycharm": {
     "name": "#%%\n"
    }
   }
  },
  {
   "cell_type": "markdown",
   "source": [
    "проводим проверку по каждой полученной выборке (выполнил проверку по всем выборкам отдельно для каждого датасета, сохранил в коде только часть, т к все нормально)."
   ],
   "metadata": {
    "collapsed": false,
    "pycharm": {
     "name": "#%% md\n"
    }
   }
  },
  {
   "cell_type": "code",
   "execution_count": null,
   "outputs": [],
   "source": [
    "features_train_2.shape"
   ],
   "metadata": {
    "collapsed": false,
    "pycharm": {
     "name": "#%%\n"
    }
   }
  },
  {
   "cell_type": "code",
   "execution_count": null,
   "outputs": [],
   "source": [
    "features_valid_2.shape"
   ],
   "metadata": {
    "collapsed": false,
    "pycharm": {
     "name": "#%%\n"
    }
   }
  },
  {
   "cell_type": "markdown",
   "source": [
    "переходим к обучению модели линейной регрессии для каждого датасета отдельно. По результату, выведем на экран предсказанные значения, а также сравним их с средними фактическими значениями"
   ],
   "metadata": {
    "collapsed": false,
    "pycharm": {
     "name": "#%% md\n"
    }
   }
  },
  {
   "cell_type": "code",
   "execution_count": null,
   "outputs": [],
   "source": [
    "model_0 = LinearRegression().fit(features_train_0, target_train_0)\n",
    "predicted_valid_0 = model_0.predict(features_valid_0)\n",
    "mse = mean_squared_error (target_valid_0, predicted_valid_0)\n",
    "print('MSE = ', mse)\n",
    "print('RMSE = ', mse ** 0.5)\n",
    "print(\"R2 = \", r2_score(target_valid_0, predicted_valid_0))\n",
    "print('mae = ', mean_absolute_error(target_valid_0, predicted_valid_0))"
   ],
   "metadata": {
    "collapsed": false,
    "pycharm": {
     "name": "#%%\n"
    }
   }
  },
  {
   "cell_type": "code",
   "execution_count": null,
   "outputs": [],
   "source": [
    "predicted_valid_00 = pd.Series(predicted_valid_0)\n",
    "target_valid_00 = pd.Series(target_valid_0)\n",
    "target_valid_00 = target_valid_0.reset_index(drop=True)"
   ],
   "metadata": {
    "collapsed": false,
    "pycharm": {
     "name": "#%%\n"
    }
   }
  },
  {
   "cell_type": "code",
   "execution_count": null,
   "outputs": [],
   "source": [
    "model_1 = LinearRegression().fit(features_train_1, target_train_1)\n",
    "predicted_valid_1 = model_1.predict(features_valid_1)\n",
    "mse = mean_squared_error (target_valid_1, predicted_valid_1)\n",
    "print('MSE = ', mse)\n",
    "print('RMSE = ', mse ** 0.5)\n",
    "print(\"R2 =\", r2_score(target_valid_1, predicted_valid_1))\n",
    "print('mae = ', mean_absolute_error(target_valid_1, predicted_valid_1))"
   ],
   "metadata": {
    "collapsed": false,
    "pycharm": {
     "name": "#%%\n"
    }
   }
  },
  {
   "cell_type": "code",
   "execution_count": null,
   "outputs": [],
   "source": [
    "predicted_valid_11 = pd.Series(predicted_valid_1)\n",
    "target_valid_11 = pd.Series(target_valid_1)\n",
    "target_valid_11 = target_valid_1.reset_index(drop=True)"
   ],
   "metadata": {
    "collapsed": false,
    "pycharm": {
     "name": "#%%\n"
    }
   }
  },
  {
   "cell_type": "code",
   "execution_count": null,
   "outputs": [],
   "source": [
    "model_2 = LinearRegression().fit(features_train_2, target_train_2)\n",
    "predicted_valid_2 = model_2.predict(features_valid_2)\n",
    "mse = mean_squared_error (target_valid_2, predicted_valid_2)\n",
    "print('MSE = ', mse)\n",
    "print('RMSE = ', mse ** 0.5)\n",
    "print(\"R2 =\", r2_score(target_valid_2, predicted_valid_2))\n",
    "print('mae = ', mean_absolute_error(target_valid_2, predicted_valid_2))"
   ],
   "metadata": {
    "collapsed": false,
    "pycharm": {
     "name": "#%%\n"
    }
   }
  },
  {
   "cell_type": "code",
   "execution_count": null,
   "outputs": [],
   "source": [
    "predicted_valid_22 = pd.Series(predicted_valid_2)\n",
    "target_valid_22 = pd.Series(target_valid_2)\n",
    "target_valid_22 = target_valid_2.reset_index(drop=True)"
   ],
   "metadata": {
    "collapsed": false,
    "pycharm": {
     "name": "#%%\n"
    }
   }
  },
  {
   "cell_type": "markdown",
   "source": [
    "Вывод по итогам части 2: Нами проведена подготовка данных к построению предсказательной модели по каждому из 3 регионов. Проведено обучение на тренировочных выборках, получен  результат, показывающий, что лучшая предсказательная модель по метрикам - модель для второго региона."
   ],
   "metadata": {
    "collapsed": false,
    "pycharm": {
     "name": "#%% md\n"
    }
   }
  },
  {
   "cell_type": "code",
   "execution_count": null,
   "outputs": [],
   "source": [
    "def series_type(target, pred):\n",
    "    target = pd.Series(target)\n",
    "    target_base = target.reset_index(drop = True)\n",
    "    pred = pd.Series(pred)\n",
    "    return target_base, pred"
   ],
   "metadata": {
    "collapsed": false,
    "pycharm": {
     "name": "#%%\n"
    }
   }
  },
  {
   "cell_type": "code",
   "execution_count": null,
   "outputs": [],
   "source": [
    "series_type(target_valid_0, predicted_valid_0)\n",
    "series_type(target_valid_1, predicted_valid_1)\n",
    "series_type(target_valid_2, predicted_valid_2)"
   ],
   "metadata": {
    "collapsed": false,
    "pycharm": {
     "name": "#%%\n"
    }
   }
  },
  {
   "cell_type": "markdown",
   "source": [
    "## Подготовка к расчёту прибыли"
   ],
   "metadata": {
    "collapsed": false,
    "pycharm": {
     "name": "#%% md\n"
    }
   }
  },
  {
   "cell_type": "markdown",
   "source": [
    "задаем константы из условия задачи"
   ],
   "metadata": {
    "collapsed": false,
    "pycharm": {
     "name": "#%% md\n"
    }
   }
  },
  {
   "cell_type": "code",
   "execution_count": null,
   "outputs": [],
   "source": [
    "exploration_spots = 500 # при разведке региона исследуют 500 точек\n",
    "chosen_spots = 200 # из которых с помощью машинного обучения выбирают 200 лучших для разработки\n",
    "technology_budget = 10**10 # бюджет на разработку скважин в регионе — 10 млрд рублей\n",
    "income_per_barrel = 450000 # доход с каждой единицы продукта составляет 450 тыс. рублей, поскольку объём указан в тысячах баррелей"
   ],
   "metadata": {
    "collapsed": false,
    "pycharm": {
     "name": "#%%\n"
    }
   }
  },
  {
   "cell_type": "markdown",
   "source": [
    "исходя из условий задачи, расчитаем достаточный объем сырья, необходимый для разработки новой скважины"
   ],
   "metadata": {
    "collapsed": false,
    "pycharm": {
     "name": "#%% md\n"
    }
   }
  },
  {
   "cell_type": "code",
   "execution_count": null,
   "outputs": [],
   "source": [
    "break_even = technology_budget/(income_per_barrel * 200)"
   ],
   "metadata": {
    "collapsed": false,
    "pycharm": {
     "name": "#%%\n"
    }
   }
  },
  {
   "cell_type": "code",
   "execution_count": null,
   "outputs": [],
   "source": [
    "break_even"
   ],
   "metadata": {
    "collapsed": false,
    "pycharm": {
     "name": "#%%\n"
    }
   }
  },
  {
   "cell_type": "markdown",
   "source": [
    " баррелей нефти из новой скважины окупают эту скважину, т е это точка безубыточности для скважиныю Построим таблицу, в которую сведем всю полученную на данном этапе информацию"
   ],
   "metadata": {
    "collapsed": false,
    "pycharm": {
     "name": "#%% md\n"
    }
   }
  },
  {
   "cell_type": "code",
   "execution_count": null,
   "outputs": [],
   "source": [
    "gb_0_region = target_valid_00.mean() * income_per_barrel/1000\n",
    "gb_1_region = target_valid_11.mean() * income_per_barrel/1000\n",
    "gb_2_region = target_valid_22.mean() * income_per_barrel/1000"
   ],
   "metadata": {
    "collapsed": false,
    "pycharm": {
     "name": "#%%\n"
    }
   }
  },
  {
   "cell_type": "code",
   "execution_count": null,
   "outputs": [],
   "source": [
    "gb = pd.DataFrame({'выручка млн. руб.\\ скважину': [gb_0_region, gb_1_region, gb_2_region],\\\n",
    "                   'предсказаный дебет, тыс.бар': [predicted_valid_0.mean(), predicted_valid_1.mean(), predicted_valid_2.mean()],\\\n",
    "                   'фактический дебет, тыс. бар': [target_valid_0.mean(), target_valid_1.mean(), target_valid_2.mean()],\\\n",
    "                  'RMSE': ['37.57', '0.89', '40.02'], 'R2': ['0.28', '0.1', '0.20'], 'mae': ['30.92', '0.71', '32.79']})\n",
    "\n",
    "gb.index = ['Регион 1', 'Регион 2', 'Регион 3']"
   ],
   "metadata": {
    "collapsed": false,
    "pycharm": {
     "name": "#%%\n"
    }
   }
  },
  {
   "cell_type": "code",
   "execution_count": null,
   "outputs": [],
   "source": [
    "gb.round(2)"
   ],
   "metadata": {
    "collapsed": false,
    "pycharm": {
     "name": "#%%\n"
    }
   }
  },
  {
   "cell_type": "markdown",
   "source": [
    "Вывод: Для достижения точки безубыточности необходимый объем добываемой нефти должен составлять не менее 111.11 тыс. баррелей на нефтедобывающий регион. На данном этапе лучшие предсказательные метрики в Регионе 2. В тоже самое время, требуется внимательный поиск региона для бурения, поскольку среднее содержание запасов меньше точки безубыточности."
   ],
   "metadata": {
    "collapsed": false,
    "pycharm": {
     "name": "#%% md\n"
    }
   }
  },
  {
   "cell_type": "markdown",
   "source": [
    "## Расчёт прибыли и рисков "
   ],
   "metadata": {
    "collapsed": false,
    "pycharm": {
     "name": "#%% md\n"
    }
   }
  },
  {
   "cell_type": "markdown",
   "source": [
    "Построим функцию расчета прибыли"
   ],
   "metadata": {
    "collapsed": false,
    "pycharm": {
     "name": "#%% md\n"
    }
   }
  },
  {
   "cell_type": "code",
   "execution_count": null,
   "outputs": [],
   "source": [
    "def sum_profit(target, predicted):\n",
    "    predicted_sorted = predicted.sort_values(ascending = False)\n",
    "    selected = target[predicted_sorted.index][:chosen_spots] # отбираем по predict, а суммируем по target !!\n",
    "    #selected = selected.reset_index(drop=True) #сбрасываю индексы\n",
    "    product_sum_max2000 = math.floor((selected.sum() * income_per_barrel)- technology_budget)\n",
    "    return product_sum_max2000"
   ],
   "metadata": {
    "collapsed": false,
    "pycharm": {
     "name": "#%%\n"
    }
   }
  },
  {
   "cell_type": "code",
   "execution_count": null,
   "outputs": [],
   "source": [
    "revenue_1 = sum_profit(target_valid_00, predicted_valid_00)\n",
    "revenue_2 = sum_profit(target_valid_11, predicted_valid_11)\n",
    "revenue_3 = sum_profit(target_valid_22, predicted_valid_22)"
   ],
   "metadata": {
    "collapsed": false,
    "pycharm": {
     "name": "#%%\n"
    }
   }
  },
  {
   "cell_type": "code",
   "execution_count": null,
   "outputs": [],
   "source": [
    "#revenue_1 = sum_profit(target_valid_00.reset_index(drop = True), predicted_valid_00.reset_index(drop = True))\n",
    "#revenue_2 = sum_profit(target_valid_11.reset_index(drop = True), predicted_valid_11.reset_index(drop = True))\n",
    "#revenue_3 = sum_profit(target_valid_22.reset_index(drop = True), predicted_valid_22.reset_index(drop = True))"
   ],
   "metadata": {
    "collapsed": false,
    "pycharm": {
     "name": "#%%\n"
    }
   }
  },
  {
   "cell_type": "code",
   "execution_count": null,
   "outputs": [],
   "source": [
    "print(f'Прибыль для полученного объёма баррелей нефти в первом регионе: {revenue_1} руб.' )\n",
    "print(f'Прибыль для полученного объёма баррелей нефти во втором регионе: {revenue_2} руб.' )\n",
    "print(f'Прибыль для полученного объёма баррелей нефти в третьем регионе: {revenue_3} руб.' )"
   ],
   "metadata": {
    "collapsed": false,
    "pycharm": {
     "name": "#%%\n"
    }
   }
  },
  {
   "cell_type": "markdown",
   "source": [
    "Вывод: проведен расчет прибыли для полученного объема сырья в 3 регионах. Наибольшая прибыль на данном этапе расчитана для первого региона. Но для окончательного решения этого мало: необходимо расчитать риски. \n"
   ],
   "metadata": {
    "collapsed": false,
    "pycharm": {
     "name": "#%% md\n"
    }
   }
  },
  {
   "cell_type": "markdown",
   "source": [
    "проводим процедуру Bootstrap, c целью последущего обсчета доверительного интервала и вычисления рисков"
   ],
   "metadata": {
    "collapsed": false,
    "pycharm": {
     "name": "#%% md\n"
    }
   }
  },
  {
   "cell_type": "code",
   "execution_count": null,
   "outputs": [],
   "source": [
    "def bootstrap(target_valid_region, predicted_valid_region):\n",
    "    state = np.random.RandomState(12345)\n",
    "    values = []\n",
    "    for i in range(1000):\n",
    "        semi_sample =target_valid_region.sample(n=exploration_spots,replace=True,random_state=state)\n",
    "        probs_subsample = predicted_valid_region[semi_sample.index]#отбираем предсказанные значения, для 500 реальных по индексу\n",
    "        semi_sample.reset_index(drop=True, inplace = True) #сбрасываю индексы, + ..inplace = True\n",
    "        probs_subsample.reset_index(drop=True, inplace = True) #сбрасываю индексы, + ..inplace = True\n",
    "        print(semi_sample)\n",
    "        print(probs_subsample)\n",
    "        values.append(sum_profit(semi_sample, probs_subsample))\n",
    "    values = pd.Series(values)\n",
    "    \n",
    "    confidence_interval = st.t.interval(0.95, len(values)-1, values.mean(), np.std(values, ddof=1))\n",
    "    lower = int(values.quantile(0.025))\n",
    "    higher = int(values.quantile(0.975))\n",
    "    risk = (values < 0).mean()\n",
    "    mean = values.mean()\n",
    "    loss = values[values<0]\n",
    "    final_score = 1. * loss.count()/len(values)\n",
    "    \n",
    "    loss_probability_min = 0.025\n",
    "    print(\"Средняя прибыль: {:.2f} млн.руб.\".format(mean))\n",
    "    print(\"95%-й доверительный интервал: от {:.2f}\".format(lower), \"млн.руб. до {:.2f}\".format(higher), \"млн.руб.\")\n",
    "    print(\"Количество убыточных экспериментов:\", loss.count())\n",
    "    if final_score < loss_probability_min:\n",
    "        print(\"Вероятность убытков равна {:.2%} и является меньше допустимой, регион подходит по критериям\".format(final_score))\n",
    "    else:\n",
    "        print(\"Вероятность убытков равна {:.2%} и является больше допустимой, регион не подходит по критериям\".format(final_score))\n",
    "        print(\"Максимальный убыток: {:.2f} млн.руб\".format(loss.min()))\n",
    "        print(\"Максимальная прибыль: {:.2f} млрд.руб\".format(values.max()))\n",
    "    \n",
    "\n",
    "    plt.figure()\n",
    "    profit_plot = plt.hist(values, bins=100)\n",
    "    one_x12, one_y12 = [confidence_interval[0],confidence_interval[0]], [0, 30]\n",
    "    two_x12, two_y12 = [confidence_interval[1],confidence_interval[1]], [0, 30]\n",
    "    plt.title('Гистограмма распределения прибыли в выбранном регионе')\n",
    "    plt.xlabel('Прибыль в млн. рублей')\n",
    "    plt.plot(one_x12, one_y12, two_x12, two_y12, marker = 'o')\n",
    "    plt.show()"
   ],
   "metadata": {
    "collapsed": false,
    "pycharm": {
     "name": "#%%\n"
    }
   }
  },
  {
   "cell_type": "markdown",
   "source": [
    "извлечем значения функции, ниже сведем их в таблицу"
   ],
   "metadata": {
    "collapsed": false,
    "pycharm": {
     "name": "#%% md\n"
    }
   }
  },
  {
   "cell_type": "code",
   "execution_count": null,
   "outputs": [],
   "source": [
    "bootstrap(target_valid_00, predicted_valid_00)"
   ],
   "metadata": {
    "collapsed": false,
    "pycharm": {
     "name": "#%%\n"
    }
   }
  },
  {
   "cell_type": "code",
   "execution_count": null,
   "outputs": [],
   "source": [
    "bootstrap(target_valid_11, predicted_valid_11)"
   ],
   "metadata": {
    "collapsed": false,
    "pycharm": {
     "name": "#%%\n"
    }
   }
  },
  {
   "cell_type": "code",
   "execution_count": null,
   "outputs": [],
   "source": [
    "bootstrap(target_valid_22, predicted_valid_22)"
   ],
   "metadata": {
    "collapsed": false,
    "pycharm": {
     "name": "#%%\n"
    }
   }
  },
  {
   "cell_type": "code",
   "execution_count": null,
   "outputs": [],
   "source": [
    "rev_global = pd.DataFrame({'прибыль, руб': [revenue_1, revenue_2, revenue_3],\\\n",
    "                           'среднее значение прибыли, руб ': [425938526.40,  515222772.94, 435008362.28],\\\n",
    "                           'quantile 0.025' : [-102090094, 68873225, -128880547],\\\n",
    "                           'quantile 0.0975' : [947976352, 931547590, 969706953],\\\n",
    "                           'риск %' : [6, 1, 6.4]\n",
    "                           })\n",
    "rev_global.index = ['Регион 1', 'Регион 2', 'Регион 3']"
   ],
   "metadata": {
    "collapsed": false,
    "pycharm": {
     "name": "#%%\n"
    }
   }
  },
  {
   "cell_type": "code",
   "execution_count": null,
   "outputs": [],
   "source": [
    "rev_global"
   ],
   "metadata": {
    "collapsed": false,
    "pycharm": {
     "name": "#%%\n"
    }
   }
  },
  {
   "cell_type": "markdown",
   "source": [
    "<h3> Вывод: <a class=\"tocSkip\"> </h3> <b>По итогу исследования 3 нефтяных регионов, построено 3 гистограммы, на которых показан вычисленный доверительный интервал. Нами вычислены показатели:</b>  Средняя прибыль, 95%-й доверительный интервал, Количество убыточных экспериментов, Вероятность убытков, Максимальный убыток, Максимальная прибыль. Проведен комплексный анализ перечисленных показателей. <b>С учетом окупаемости региона и рисков получения убытков, целесообразно остановиться на выборе второго региона, т к здесь риск получения убытков существенно ниже, чем в регионах 1 и 3.<b>"
   ],
   "metadata": {
    "collapsed": false,
    "pycharm": {
     "name": "#%% md\n"
    }
   }
  },
  {
   "cell_type": "code",
   "execution_count": null,
   "metadata": {
    "pycharm": {
     "name": "#%%\n"
    }
   },
   "outputs": [],
   "source": []
  }
 ],
 "metadata": {
  "ExecuteTimeLog": [
   {
    "duration": 368,
    "start_time": "2022-11-30T11:15:09.463Z"
   },
   {
    "duration": 100,
    "start_time": "2022-11-30T11:15:09.973Z"
   },
   {
    "duration": 379,
    "start_time": "2022-11-30T11:16:11.676Z"
   },
   {
    "duration": 511,
    "start_time": "2022-11-30T11:16:31.939Z"
   },
   {
    "duration": 383,
    "start_time": "2022-11-30T11:17:28.470Z"
   },
   {
    "duration": 19,
    "start_time": "2022-11-30T11:17:39.488Z"
   },
   {
    "duration": 10,
    "start_time": "2022-11-30T11:17:49.404Z"
   },
   {
    "duration": 11,
    "start_time": "2022-11-30T11:17:59.654Z"
   },
   {
    "duration": 8,
    "start_time": "2022-11-30T11:18:08.482Z"
   },
   {
    "duration": 17,
    "start_time": "2022-11-30T11:18:43.804Z"
   },
   {
    "duration": 14,
    "start_time": "2022-11-30T11:18:55.595Z"
   },
   {
    "duration": 14,
    "start_time": "2022-11-30T11:19:09.902Z"
   },
   {
    "duration": 44,
    "start_time": "2022-12-01T09:37:19.913Z"
   },
   {
    "duration": 6,
    "start_time": "2022-12-01T09:37:32.657Z"
   },
   {
    "duration": 413,
    "start_time": "2022-12-01T09:37:45.163Z"
   },
   {
    "duration": 595,
    "start_time": "2022-12-01T09:37:45.578Z"
   },
   {
    "duration": 15,
    "start_time": "2022-12-01T09:37:46.174Z"
   },
   {
    "duration": 19,
    "start_time": "2022-12-01T09:37:46.190Z"
   },
   {
    "duration": 8,
    "start_time": "2022-12-01T09:37:46.211Z"
   },
   {
    "duration": 19,
    "start_time": "2022-12-01T09:37:46.220Z"
   },
   {
    "duration": 10,
    "start_time": "2022-12-01T09:37:46.241Z"
   },
   {
    "duration": 30,
    "start_time": "2022-12-01T09:37:46.252Z"
   },
   {
    "duration": 9,
    "start_time": "2022-12-01T09:37:46.283Z"
   },
   {
    "duration": 9,
    "start_time": "2022-12-01T09:37:57.940Z"
   },
   {
    "duration": 10,
    "start_time": "2022-12-01T09:38:03.051Z"
   },
   {
    "duration": 50,
    "start_time": "2022-12-01T09:40:35.583Z"
   },
   {
    "duration": 398,
    "start_time": "2022-12-01T09:40:57.836Z"
   },
   {
    "duration": 630,
    "start_time": "2022-12-01T09:40:58.236Z"
   },
   {
    "duration": 16,
    "start_time": "2022-12-01T09:40:58.867Z"
   },
   {
    "duration": 15,
    "start_time": "2022-12-01T09:40:58.884Z"
   },
   {
    "duration": 8,
    "start_time": "2022-12-01T09:40:58.902Z"
   },
   {
    "duration": 20,
    "start_time": "2022-12-01T09:40:58.911Z"
   },
   {
    "duration": 9,
    "start_time": "2022-12-01T09:40:58.933Z"
   },
   {
    "duration": 34,
    "start_time": "2022-12-01T09:40:58.943Z"
   },
   {
    "duration": 45,
    "start_time": "2022-12-01T09:41:14.599Z"
   },
   {
    "duration": 431,
    "start_time": "2022-12-01T09:41:21.560Z"
   },
   {
    "duration": 580,
    "start_time": "2022-12-01T09:41:23.572Z"
   },
   {
    "duration": 17,
    "start_time": "2022-12-01T09:41:25.802Z"
   },
   {
    "duration": 15,
    "start_time": "2022-12-01T09:41:26.994Z"
   },
   {
    "duration": 9,
    "start_time": "2022-12-01T09:41:30.236Z"
   },
   {
    "duration": 14,
    "start_time": "2022-12-01T09:41:30.875Z"
   },
   {
    "duration": 9,
    "start_time": "2022-12-01T09:41:31.509Z"
   },
   {
    "duration": 14,
    "start_time": "2022-12-01T09:41:34.413Z"
   },
   {
    "duration": 50,
    "start_time": "2022-12-01T09:41:55.411Z"
   },
   {
    "duration": 392,
    "start_time": "2022-12-01T09:42:11.819Z"
   },
   {
    "duration": 27,
    "start_time": "2022-12-01T09:42:16.532Z"
   },
   {
    "duration": 7,
    "start_time": "2022-12-01T09:42:44.991Z"
   },
   {
    "duration": 608,
    "start_time": "2022-12-01T09:42:51.561Z"
   },
   {
    "duration": 57,
    "start_time": "2022-12-01T09:50:12.770Z"
   },
   {
    "duration": 397,
    "start_time": "2022-12-01T09:50:18.707Z"
   },
   {
    "duration": 745,
    "start_time": "2022-12-01T09:50:19.107Z"
   },
   {
    "duration": 18,
    "start_time": "2022-12-01T09:50:19.853Z"
   },
   {
    "duration": 22,
    "start_time": "2022-12-01T09:50:19.873Z"
   },
   {
    "duration": 19,
    "start_time": "2022-12-01T09:50:19.898Z"
   },
   {
    "duration": 34,
    "start_time": "2022-12-01T09:50:19.919Z"
   },
   {
    "duration": 9,
    "start_time": "2022-12-01T09:50:19.955Z"
   },
   {
    "duration": 28,
    "start_time": "2022-12-01T09:50:19.965Z"
   },
   {
    "duration": 294,
    "start_time": "2022-12-01T09:50:19.996Z"
   },
   {
    "duration": 265,
    "start_time": "2022-12-01T09:50:30.611Z"
   },
   {
    "duration": 374,
    "start_time": "2022-12-01T09:50:34.854Z"
   },
   {
    "duration": 14,
    "start_time": "2022-12-01T09:51:13.645Z"
   },
   {
    "duration": 12,
    "start_time": "2022-12-01T09:51:20.195Z"
   },
   {
    "duration": 9,
    "start_time": "2022-12-01T09:52:18.704Z"
   },
   {
    "duration": 15,
    "start_time": "2022-12-01T09:52:26.347Z"
   },
   {
    "duration": 6,
    "start_time": "2022-12-01T09:53:36.324Z"
   },
   {
    "duration": 55,
    "start_time": "2022-12-01T09:59:55.343Z"
   },
   {
    "duration": 38,
    "start_time": "2022-12-01T10:00:20.003Z"
   },
   {
    "duration": 43,
    "start_time": "2022-12-01T10:00:29.573Z"
   },
   {
    "duration": 6,
    "start_time": "2022-12-01T10:05:44.633Z"
   },
   {
    "duration": 56,
    "start_time": "2022-12-01T10:05:59.968Z"
   },
   {
    "duration": 13,
    "start_time": "2022-12-01T10:06:05.262Z"
   },
   {
    "duration": 17,
    "start_time": "2022-12-01T10:06:15.129Z"
   },
   {
    "duration": 13,
    "start_time": "2022-12-01T10:06:30.640Z"
   },
   {
    "duration": 14,
    "start_time": "2022-12-01T10:07:51.692Z"
   },
   {
    "duration": 16,
    "start_time": "2022-12-01T10:09:52.062Z"
   },
   {
    "duration": 13,
    "start_time": "2022-12-01T10:10:04.506Z"
   },
   {
    "duration": 11,
    "start_time": "2022-12-01T10:11:59.866Z"
   },
   {
    "duration": 13,
    "start_time": "2022-12-01T10:12:13.499Z"
   },
   {
    "duration": 3,
    "start_time": "2022-12-01T10:12:18.539Z"
   },
   {
    "duration": 367,
    "start_time": "2022-12-01T10:12:18.544Z"
   },
   {
    "duration": 9,
    "start_time": "2022-12-01T10:12:18.913Z"
   },
   {
    "duration": 24,
    "start_time": "2022-12-01T10:12:18.924Z"
   },
   {
    "duration": 26,
    "start_time": "2022-12-01T10:12:18.951Z"
   },
   {
    "duration": 31,
    "start_time": "2022-12-01T10:12:18.981Z"
   },
   {
    "duration": 11,
    "start_time": "2022-12-01T10:12:19.013Z"
   },
   {
    "duration": 31,
    "start_time": "2022-12-01T10:12:19.026Z"
   },
   {
    "duration": 64,
    "start_time": "2022-12-01T10:12:19.059Z"
   },
   {
    "duration": 69,
    "start_time": "2022-12-01T10:12:19.127Z"
   },
   {
    "duration": 48,
    "start_time": "2022-12-01T10:12:19.199Z"
   },
   {
    "duration": 7,
    "start_time": "2022-12-01T10:12:19.249Z"
   },
   {
    "duration": 8,
    "start_time": "2022-12-01T10:12:19.276Z"
   },
   {
    "duration": 6,
    "start_time": "2022-12-01T10:12:38.242Z"
   },
   {
    "duration": 7,
    "start_time": "2022-12-01T10:12:57.070Z"
   },
   {
    "duration": 4,
    "start_time": "2022-12-01T10:13:00.532Z"
   },
   {
    "duration": 375,
    "start_time": "2022-12-01T10:13:00.538Z"
   },
   {
    "duration": 10,
    "start_time": "2022-12-01T10:13:00.914Z"
   },
   {
    "duration": 24,
    "start_time": "2022-12-01T10:13:00.925Z"
   },
   {
    "duration": 25,
    "start_time": "2022-12-01T10:13:00.951Z"
   },
   {
    "duration": 48,
    "start_time": "2022-12-01T10:13:00.978Z"
   },
   {
    "duration": 24,
    "start_time": "2022-12-01T10:13:01.028Z"
   },
   {
    "duration": 49,
    "start_time": "2022-12-01T10:13:01.054Z"
   },
   {
    "duration": 66,
    "start_time": "2022-12-01T10:13:01.105Z"
   },
   {
    "duration": 43,
    "start_time": "2022-12-01T10:13:01.173Z"
   },
   {
    "duration": 40,
    "start_time": "2022-12-01T10:13:01.218Z"
   },
   {
    "duration": 21,
    "start_time": "2022-12-01T10:13:01.260Z"
   },
   {
    "duration": 8,
    "start_time": "2022-12-01T10:13:01.283Z"
   },
   {
    "duration": 15,
    "start_time": "2022-12-01T10:13:01.294Z"
   },
   {
    "duration": 434,
    "start_time": "2022-12-01T10:13:15.159Z"
   },
   {
    "duration": 390,
    "start_time": "2022-12-01T10:13:15.595Z"
   },
   {
    "duration": 15,
    "start_time": "2022-12-01T10:13:15.986Z"
   },
   {
    "duration": 20,
    "start_time": "2022-12-01T10:13:16.003Z"
   },
   {
    "duration": 8,
    "start_time": "2022-12-01T10:13:16.026Z"
   },
   {
    "duration": 41,
    "start_time": "2022-12-01T10:13:16.036Z"
   },
   {
    "duration": 10,
    "start_time": "2022-12-01T10:13:16.079Z"
   },
   {
    "duration": 14,
    "start_time": "2022-12-01T10:13:16.091Z"
   },
   {
    "duration": 70,
    "start_time": "2022-12-01T10:13:16.107Z"
   },
   {
    "duration": 39,
    "start_time": "2022-12-01T10:13:16.178Z"
   },
   {
    "duration": 41,
    "start_time": "2022-12-01T10:13:16.219Z"
   },
   {
    "duration": 6,
    "start_time": "2022-12-01T10:13:16.276Z"
   },
   {
    "duration": 25,
    "start_time": "2022-12-01T10:13:16.284Z"
   },
   {
    "duration": 64,
    "start_time": "2022-12-01T10:13:16.312Z"
   },
   {
    "duration": 8,
    "start_time": "2022-12-01T10:13:57.516Z"
   },
   {
    "duration": 7,
    "start_time": "2022-12-01T10:14:02.013Z"
   },
   {
    "duration": 9,
    "start_time": "2022-12-01T10:16:01.436Z"
   },
   {
    "duration": 4,
    "start_time": "2022-12-01T10:16:05.290Z"
   },
   {
    "duration": 420,
    "start_time": "2022-12-01T10:16:05.296Z"
   },
   {
    "duration": 11,
    "start_time": "2022-12-01T10:16:05.718Z"
   },
   {
    "duration": 30,
    "start_time": "2022-12-01T10:16:05.731Z"
   },
   {
    "duration": 23,
    "start_time": "2022-12-01T10:16:05.763Z"
   },
   {
    "duration": 41,
    "start_time": "2022-12-01T10:16:05.789Z"
   },
   {
    "duration": 9,
    "start_time": "2022-12-01T10:16:05.832Z"
   },
   {
    "duration": 17,
    "start_time": "2022-12-01T10:16:05.843Z"
   },
   {
    "duration": 69,
    "start_time": "2022-12-01T10:16:05.862Z"
   },
   {
    "duration": 59,
    "start_time": "2022-12-01T10:16:05.933Z"
   },
   {
    "duration": 46,
    "start_time": "2022-12-01T10:16:05.994Z"
   },
   {
    "duration": 7,
    "start_time": "2022-12-01T10:16:06.042Z"
   },
   {
    "duration": 27,
    "start_time": "2022-12-01T10:16:06.051Z"
   },
   {
    "duration": 25,
    "start_time": "2022-12-01T10:16:06.080Z"
   },
   {
    "duration": 6,
    "start_time": "2022-12-01T10:16:44.600Z"
   },
   {
    "duration": 7,
    "start_time": "2022-12-01T10:16:56.108Z"
   },
   {
    "duration": 7,
    "start_time": "2022-12-01T10:19:51.152Z"
   },
   {
    "duration": 7,
    "start_time": "2022-12-01T10:20:13.888Z"
   },
   {
    "duration": 4,
    "start_time": "2022-12-01T10:20:54.976Z"
   },
   {
    "duration": 425,
    "start_time": "2022-12-01T10:20:54.983Z"
   },
   {
    "duration": 10,
    "start_time": "2022-12-01T10:20:55.410Z"
   },
   {
    "duration": 22,
    "start_time": "2022-12-01T10:20:55.423Z"
   },
   {
    "duration": 30,
    "start_time": "2022-12-01T10:20:55.448Z"
   },
   {
    "duration": 39,
    "start_time": "2022-12-01T10:20:55.481Z"
   },
   {
    "duration": 10,
    "start_time": "2022-12-01T10:20:55.522Z"
   },
   {
    "duration": 30,
    "start_time": "2022-12-01T10:20:55.534Z"
   },
   {
    "duration": 55,
    "start_time": "2022-12-01T10:20:55.568Z"
   },
   {
    "duration": 56,
    "start_time": "2022-12-01T10:20:55.625Z"
   },
   {
    "duration": 45,
    "start_time": "2022-12-01T10:20:55.683Z"
   },
   {
    "duration": 7,
    "start_time": "2022-12-01T10:20:55.730Z"
   },
   {
    "duration": 6,
    "start_time": "2022-12-01T10:20:55.739Z"
   },
   {
    "duration": 45,
    "start_time": "2022-12-01T10:20:55.747Z"
   },
   {
    "duration": 0,
    "start_time": "2022-12-01T10:20:55.794Z"
   },
   {
    "duration": 416,
    "start_time": "2022-12-01T10:21:12.989Z"
   },
   {
    "duration": 438,
    "start_time": "2022-12-01T10:21:13.407Z"
   },
   {
    "duration": 17,
    "start_time": "2022-12-01T10:21:13.846Z"
   },
   {
    "duration": 17,
    "start_time": "2022-12-01T10:21:13.877Z"
   },
   {
    "duration": 10,
    "start_time": "2022-12-01T10:21:13.896Z"
   },
   {
    "duration": 20,
    "start_time": "2022-12-01T10:21:13.907Z"
   },
   {
    "duration": 9,
    "start_time": "2022-12-01T10:21:13.929Z"
   },
   {
    "duration": 40,
    "start_time": "2022-12-01T10:21:13.940Z"
   },
   {
    "duration": 55,
    "start_time": "2022-12-01T10:21:13.982Z"
   },
   {
    "duration": 67,
    "start_time": "2022-12-01T10:21:14.041Z"
   },
   {
    "duration": 53,
    "start_time": "2022-12-01T10:21:14.110Z"
   },
   {
    "duration": 7,
    "start_time": "2022-12-01T10:21:14.177Z"
   },
   {
    "duration": 22,
    "start_time": "2022-12-01T10:21:14.187Z"
   },
   {
    "duration": 79,
    "start_time": "2022-12-01T10:21:14.211Z"
   },
   {
    "duration": 0,
    "start_time": "2022-12-01T10:21:14.293Z"
   },
   {
    "duration": 4,
    "start_time": "2022-12-01T10:21:29.227Z"
   },
   {
    "duration": 9,
    "start_time": "2022-12-01T10:21:44.049Z"
   },
   {
    "duration": 12,
    "start_time": "2022-12-01T10:22:38.541Z"
   },
   {
    "duration": 3,
    "start_time": "2022-12-01T10:22:42.956Z"
   },
   {
    "duration": 385,
    "start_time": "2022-12-01T10:22:42.961Z"
   },
   {
    "duration": 9,
    "start_time": "2022-12-01T10:22:43.348Z"
   },
   {
    "duration": 23,
    "start_time": "2022-12-01T10:22:43.359Z"
   },
   {
    "duration": 9,
    "start_time": "2022-12-01T10:22:43.383Z"
   },
   {
    "duration": 19,
    "start_time": "2022-12-01T10:22:43.394Z"
   },
   {
    "duration": 8,
    "start_time": "2022-12-01T10:22:43.414Z"
   },
   {
    "duration": 16,
    "start_time": "2022-12-01T10:22:43.424Z"
   },
   {
    "duration": 70,
    "start_time": "2022-12-01T10:22:43.442Z"
   },
   {
    "duration": 51,
    "start_time": "2022-12-01T10:22:43.513Z"
   },
   {
    "duration": 54,
    "start_time": "2022-12-01T10:22:43.565Z"
   },
   {
    "duration": 6,
    "start_time": "2022-12-01T10:22:43.621Z"
   },
   {
    "duration": 3,
    "start_time": "2022-12-01T10:22:43.629Z"
   },
   {
    "duration": 43,
    "start_time": "2022-12-01T10:22:43.634Z"
   },
   {
    "duration": 14,
    "start_time": "2022-12-01T10:22:43.678Z"
   },
   {
    "duration": 13,
    "start_time": "2022-12-01T10:23:02.189Z"
   },
   {
    "duration": 11,
    "start_time": "2022-12-01T10:23:11.540Z"
   },
   {
    "duration": 3,
    "start_time": "2022-12-01T10:58:31.726Z"
   },
   {
    "duration": 2,
    "start_time": "2022-12-01T10:58:39.558Z"
   },
   {
    "duration": 7,
    "start_time": "2022-12-01T11:07:05.591Z"
   },
   {
    "duration": 1000,
    "start_time": "2022-12-01T11:07:31.041Z"
   },
   {
    "duration": 13,
    "start_time": "2022-12-01T11:07:35.745Z"
   },
   {
    "duration": 4,
    "start_time": "2022-12-01T11:07:52.288Z"
   },
   {
    "duration": 4,
    "start_time": "2022-12-01T11:08:02.650Z"
   },
   {
    "duration": 24,
    "start_time": "2022-12-01T11:12:31.084Z"
   },
   {
    "duration": 5,
    "start_time": "2022-12-01T11:12:45.656Z"
   },
   {
    "duration": 4,
    "start_time": "2022-12-01T11:12:54.920Z"
   },
   {
    "duration": 19,
    "start_time": "2022-12-01T11:17:52.624Z"
   },
   {
    "duration": 6,
    "start_time": "2022-12-01T11:31:13.309Z"
   },
   {
    "duration": 9,
    "start_time": "2022-12-01T11:31:27.604Z"
   },
   {
    "duration": 8,
    "start_time": "2022-12-01T11:32:20.168Z"
   },
   {
    "duration": 8,
    "start_time": "2022-12-01T11:32:33.660Z"
   },
   {
    "duration": 4,
    "start_time": "2022-12-01T11:32:43.900Z"
   },
   {
    "duration": 47,
    "start_time": "2022-12-01T11:32:51.450Z"
   },
   {
    "duration": 4,
    "start_time": "2022-12-01T11:32:55.377Z"
   },
   {
    "duration": 1249,
    "start_time": "2022-12-01T11:34:12.919Z"
   },
   {
    "duration": 356,
    "start_time": "2022-12-01T11:34:14.170Z"
   },
   {
    "duration": 12,
    "start_time": "2022-12-01T11:34:14.528Z"
   },
   {
    "duration": 15,
    "start_time": "2022-12-01T11:34:14.542Z"
   },
   {
    "duration": 21,
    "start_time": "2022-12-01T11:34:14.559Z"
   },
   {
    "duration": 18,
    "start_time": "2022-12-01T11:34:14.581Z"
   },
   {
    "duration": 8,
    "start_time": "2022-12-01T11:34:14.601Z"
   },
   {
    "duration": 26,
    "start_time": "2022-12-01T11:34:14.611Z"
   },
   {
    "duration": 47,
    "start_time": "2022-12-01T11:34:14.638Z"
   },
   {
    "duration": 50,
    "start_time": "2022-12-01T11:34:14.687Z"
   },
   {
    "duration": 55,
    "start_time": "2022-12-01T11:34:14.738Z"
   },
   {
    "duration": 7,
    "start_time": "2022-12-01T11:34:14.795Z"
   },
   {
    "duration": 20,
    "start_time": "2022-12-01T11:34:14.803Z"
   },
   {
    "duration": 28,
    "start_time": "2022-12-01T11:34:14.826Z"
   },
   {
    "duration": 15,
    "start_time": "2022-12-01T11:34:14.856Z"
   },
   {
    "duration": 17,
    "start_time": "2022-12-01T11:34:14.873Z"
   },
   {
    "duration": 3,
    "start_time": "2022-12-01T11:34:14.892Z"
   },
   {
    "duration": 48,
    "start_time": "2022-12-01T11:34:14.898Z"
   },
   {
    "duration": 5,
    "start_time": "2022-12-01T11:34:14.947Z"
   },
   {
    "duration": 17,
    "start_time": "2022-12-01T11:34:14.953Z"
   },
   {
    "duration": 35,
    "start_time": "2022-12-01T11:34:14.972Z"
   },
   {
    "duration": 38,
    "start_time": "2022-12-01T11:34:15.009Z"
   },
   {
    "duration": 21,
    "start_time": "2022-12-01T11:34:15.049Z"
   },
   {
    "duration": 17,
    "start_time": "2022-12-01T11:34:15.072Z"
   },
   {
    "duration": 121,
    "start_time": "2022-12-01T11:34:15.090Z"
   },
   {
    "duration": 0,
    "start_time": "2022-12-01T11:34:15.212Z"
   },
   {
    "duration": 1321,
    "start_time": "2022-12-01T11:35:51.890Z"
   },
   {
    "duration": 398,
    "start_time": "2022-12-01T11:35:53.213Z"
   },
   {
    "duration": 19,
    "start_time": "2022-12-01T11:35:53.613Z"
   },
   {
    "duration": 31,
    "start_time": "2022-12-01T11:35:53.634Z"
   },
   {
    "duration": 10,
    "start_time": "2022-12-01T11:35:53.667Z"
   },
   {
    "duration": 42,
    "start_time": "2022-12-01T11:35:53.679Z"
   },
   {
    "duration": 23,
    "start_time": "2022-12-01T11:35:53.723Z"
   },
   {
    "duration": 33,
    "start_time": "2022-12-01T11:35:53.747Z"
   },
   {
    "duration": 43,
    "start_time": "2022-12-01T11:35:53.782Z"
   },
   {
    "duration": 52,
    "start_time": "2022-12-01T11:35:53.827Z"
   },
   {
    "duration": 44,
    "start_time": "2022-12-01T11:35:53.881Z"
   },
   {
    "duration": 7,
    "start_time": "2022-12-01T11:35:53.927Z"
   },
   {
    "duration": 27,
    "start_time": "2022-12-01T11:35:53.936Z"
   },
   {
    "duration": 12,
    "start_time": "2022-12-01T11:35:53.978Z"
   },
   {
    "duration": 21,
    "start_time": "2022-12-01T11:35:53.992Z"
   },
   {
    "duration": 15,
    "start_time": "2022-12-01T11:35:54.014Z"
   },
   {
    "duration": 11,
    "start_time": "2022-12-01T11:35:54.031Z"
   },
   {
    "duration": 43,
    "start_time": "2022-12-01T11:35:54.043Z"
   },
   {
    "duration": 4,
    "start_time": "2022-12-01T11:35:54.087Z"
   },
   {
    "duration": 5,
    "start_time": "2022-12-01T11:35:54.094Z"
   },
   {
    "duration": 17,
    "start_time": "2022-12-01T11:35:54.101Z"
   },
   {
    "duration": 26,
    "start_time": "2022-12-01T11:35:54.119Z"
   },
   {
    "duration": 23,
    "start_time": "2022-12-01T11:35:54.146Z"
   },
   {
    "duration": 24,
    "start_time": "2022-12-01T11:35:54.170Z"
   },
   {
    "duration": 111,
    "start_time": "2022-12-01T11:35:54.196Z"
   },
   {
    "duration": 3,
    "start_time": "2022-12-01T11:35:54.309Z"
   },
   {
    "duration": 68,
    "start_time": "2022-12-01T11:36:12.233Z"
   },
   {
    "duration": 75,
    "start_time": "2022-12-01T11:36:21.113Z"
   },
   {
    "duration": 38,
    "start_time": "2022-12-01T11:36:40.368Z"
   },
   {
    "duration": 86,
    "start_time": "2022-12-01T11:37:01.580Z"
   },
   {
    "duration": 16,
    "start_time": "2022-12-01T11:37:51.291Z"
   },
   {
    "duration": 14,
    "start_time": "2022-12-01T11:38:41.543Z"
   },
   {
    "duration": 4,
    "start_time": "2022-12-01T11:40:32.008Z"
   },
   {
    "duration": 4,
    "start_time": "2022-12-01T11:41:35.834Z"
   },
   {
    "duration": 71,
    "start_time": "2022-12-01T11:41:52.650Z"
   },
   {
    "duration": 74,
    "start_time": "2022-12-01T11:41:59.189Z"
   },
   {
    "duration": 80,
    "start_time": "2022-12-01T11:42:03.770Z"
   },
   {
    "duration": 72,
    "start_time": "2022-12-01T11:42:44.696Z"
   },
   {
    "duration": 79,
    "start_time": "2022-12-01T11:42:47.331Z"
   },
   {
    "duration": 113,
    "start_time": "2022-12-01T12:21:41.045Z"
   },
   {
    "duration": 3,
    "start_time": "2022-12-01T12:22:07.627Z"
   },
   {
    "duration": 19,
    "start_time": "2022-12-01T12:22:14.493Z"
   },
   {
    "duration": 28,
    "start_time": "2022-12-01T12:27:49.927Z"
   },
   {
    "duration": 45,
    "start_time": "2022-12-01T12:29:47.809Z"
   },
   {
    "duration": 63,
    "start_time": "2022-12-01T12:30:02.456Z"
   },
   {
    "duration": 14,
    "start_time": "2022-12-01T12:34:24.826Z"
   },
   {
    "duration": 4,
    "start_time": "2022-12-01T12:34:26.825Z"
   },
   {
    "duration": 4,
    "start_time": "2022-12-01T12:34:27.632Z"
   },
   {
    "duration": 72,
    "start_time": "2022-12-01T12:34:28.143Z"
   },
   {
    "duration": 61,
    "start_time": "2022-12-01T12:34:34.790Z"
   },
   {
    "duration": 12,
    "start_time": "2022-12-01T12:34:35.780Z"
   },
   {
    "duration": 4,
    "start_time": "2022-12-01T12:34:36.594Z"
   },
   {
    "duration": 4,
    "start_time": "2022-12-01T12:34:37.414Z"
   },
   {
    "duration": 92,
    "start_time": "2022-12-01T12:34:37.949Z"
   },
   {
    "duration": 65,
    "start_time": "2022-12-01T12:53:29.308Z"
   },
   {
    "duration": 1653,
    "start_time": "2022-12-04T08:08:07.018Z"
   },
   {
    "duration": 1631,
    "start_time": "2022-12-04T08:08:08.673Z"
   },
   {
    "duration": 13,
    "start_time": "2022-12-04T08:08:10.306Z"
   },
   {
    "duration": 15,
    "start_time": "2022-12-04T08:08:10.321Z"
   },
   {
    "duration": 9,
    "start_time": "2022-12-04T08:08:10.339Z"
   },
   {
    "duration": 17,
    "start_time": "2022-12-04T08:08:10.350Z"
   },
   {
    "duration": 12,
    "start_time": "2022-12-04T08:08:10.369Z"
   },
   {
    "duration": 24,
    "start_time": "2022-12-04T08:08:10.383Z"
   },
   {
    "duration": 68,
    "start_time": "2022-12-04T08:08:10.409Z"
   },
   {
    "duration": 43,
    "start_time": "2022-12-04T08:08:10.479Z"
   },
   {
    "duration": 47,
    "start_time": "2022-12-04T08:08:10.538Z"
   },
   {
    "duration": 7,
    "start_time": "2022-12-04T08:08:10.586Z"
   },
   {
    "duration": 13,
    "start_time": "2022-12-04T08:08:10.595Z"
   },
   {
    "duration": 34,
    "start_time": "2022-12-04T08:08:10.610Z"
   },
   {
    "duration": 10,
    "start_time": "2022-12-04T08:08:10.646Z"
   },
   {
    "duration": 9,
    "start_time": "2022-12-04T08:08:10.657Z"
   },
   {
    "duration": 13,
    "start_time": "2022-12-04T08:08:10.667Z"
   },
   {
    "duration": 31,
    "start_time": "2022-12-04T08:08:10.682Z"
   },
   {
    "duration": 22,
    "start_time": "2022-12-04T08:08:10.715Z"
   },
   {
    "duration": 4,
    "start_time": "2022-12-04T08:08:10.739Z"
   },
   {
    "duration": 8,
    "start_time": "2022-12-04T08:08:10.744Z"
   },
   {
    "duration": 55,
    "start_time": "2022-12-04T08:08:10.754Z"
   },
   {
    "duration": 31,
    "start_time": "2022-12-04T08:08:10.810Z"
   },
   {
    "duration": 9,
    "start_time": "2022-12-04T08:08:10.843Z"
   },
   {
    "duration": 138,
    "start_time": "2022-12-04T08:08:10.854Z"
   },
   {
    "duration": 0,
    "start_time": "2022-12-04T08:08:10.994Z"
   },
   {
    "duration": 0,
    "start_time": "2022-12-04T08:08:10.995Z"
   },
   {
    "duration": 5,
    "start_time": "2022-12-04T08:08:31.245Z"
   },
   {
    "duration": 84,
    "start_time": "2022-12-04T08:08:36.873Z"
   },
   {
    "duration": 71,
    "start_time": "2022-12-04T08:10:06.195Z"
   },
   {
    "duration": 10,
    "start_time": "2022-12-04T08:10:26.202Z"
   },
   {
    "duration": 30,
    "start_time": "2022-12-04T08:10:56.680Z"
   },
   {
    "duration": 4,
    "start_time": "2022-12-04T08:11:01.561Z"
   },
   {
    "duration": 7,
    "start_time": "2022-12-04T08:11:01.567Z"
   },
   {
    "duration": 9,
    "start_time": "2022-12-04T08:11:01.576Z"
   },
   {
    "duration": 69,
    "start_time": "2022-12-04T08:11:01.587Z"
   },
   {
    "duration": 22,
    "start_time": "2022-12-04T08:11:01.660Z"
   },
   {
    "duration": 14,
    "start_time": "2022-12-04T08:11:01.684Z"
   },
   {
    "duration": 8,
    "start_time": "2022-12-04T08:11:01.700Z"
   },
   {
    "duration": 84,
    "start_time": "2022-12-04T08:11:01.709Z"
   },
   {
    "duration": 3,
    "start_time": "2022-12-04T08:11:01.794Z"
   },
   {
    "duration": 18,
    "start_time": "2022-12-04T08:18:42.474Z"
   },
   {
    "duration": 24,
    "start_time": "2022-12-04T08:20:54.794Z"
   },
   {
    "duration": 5,
    "start_time": "2022-12-04T08:21:08.529Z"
   },
   {
    "duration": 6,
    "start_time": "2022-12-04T08:21:28.016Z"
   },
   {
    "duration": 12,
    "start_time": "2022-12-04T08:21:43.208Z"
   },
   {
    "duration": 8,
    "start_time": "2022-12-04T08:21:44.344Z"
   },
   {
    "duration": 20,
    "start_time": "2022-12-04T08:26:40.825Z"
   },
   {
    "duration": 8,
    "start_time": "2022-12-04T08:26:43.680Z"
   },
   {
    "duration": 9,
    "start_time": "2022-12-04T08:26:51.417Z"
   },
   {
    "duration": 6,
    "start_time": "2022-12-04T08:26:56.984Z"
   },
   {
    "duration": 3,
    "start_time": "2022-12-04T08:27:23.905Z"
   },
   {
    "duration": 112,
    "start_time": "2022-12-04T08:27:59.628Z"
   },
   {
    "duration": 15,
    "start_time": "2022-12-04T08:28:15.459Z"
   },
   {
    "duration": 25,
    "start_time": "2022-12-04T08:28:40.054Z"
   },
   {
    "duration": 73,
    "start_time": "2022-12-04T08:28:51.964Z"
   },
   {
    "duration": 70,
    "start_time": "2022-12-04T08:29:05.673Z"
   },
   {
    "duration": 15,
    "start_time": "2022-12-04T08:29:20.370Z"
   },
   {
    "duration": 18,
    "start_time": "2022-12-04T08:29:28.072Z"
   },
   {
    "duration": 21,
    "start_time": "2022-12-04T08:29:51.305Z"
   },
   {
    "duration": 32,
    "start_time": "2022-12-04T08:31:26.723Z"
   },
   {
    "duration": 49,
    "start_time": "2022-12-04T08:33:09.393Z"
   },
   {
    "duration": 6,
    "start_time": "2022-12-04T08:33:29.942Z"
   },
   {
    "duration": 8,
    "start_time": "2022-12-04T08:33:43.134Z"
   },
   {
    "duration": 65,
    "start_time": "2022-12-04T08:37:19.365Z"
   },
   {
    "duration": 71,
    "start_time": "2022-12-04T08:37:29.842Z"
   },
   {
    "duration": 73,
    "start_time": "2022-12-04T08:37:34.601Z"
   },
   {
    "duration": 3,
    "start_time": "2022-12-04T08:38:49.679Z"
   },
   {
    "duration": 185,
    "start_time": "2022-12-04T08:39:18.353Z"
   },
   {
    "duration": 105,
    "start_time": "2022-12-04T08:39:30.033Z"
   },
   {
    "duration": 20,
    "start_time": "2022-12-04T08:39:37.204Z"
   },
   {
    "duration": 21,
    "start_time": "2022-12-04T08:40:12.297Z"
   },
   {
    "duration": 19,
    "start_time": "2022-12-04T08:40:30.827Z"
   },
   {
    "duration": 19,
    "start_time": "2022-12-04T08:40:44.721Z"
   },
   {
    "duration": 4,
    "start_time": "2022-12-04T08:43:37.615Z"
   },
   {
    "duration": 24,
    "start_time": "2022-12-04T08:44:05.183Z"
   },
   {
    "duration": 80,
    "start_time": "2022-12-04T08:44:29.580Z"
   },
   {
    "duration": 21,
    "start_time": "2022-12-04T08:44:36.992Z"
   },
   {
    "duration": 24,
    "start_time": "2022-12-04T08:44:57.382Z"
   },
   {
    "duration": 22,
    "start_time": "2022-12-04T08:45:08.681Z"
   },
   {
    "duration": 5,
    "start_time": "2022-12-04T08:49:00.061Z"
   },
   {
    "duration": 5,
    "start_time": "2022-12-04T08:49:12.084Z"
   },
   {
    "duration": 4,
    "start_time": "2022-12-04T08:49:20.823Z"
   },
   {
    "duration": 5,
    "start_time": "2022-12-04T09:23:09.365Z"
   },
   {
    "duration": 5,
    "start_time": "2022-12-04T09:23:35.922Z"
   },
   {
    "duration": 4,
    "start_time": "2022-12-04T09:23:46.827Z"
   },
   {
    "duration": 10,
    "start_time": "2022-12-04T10:29:31.630Z"
   },
   {
    "duration": 3,
    "start_time": "2022-12-04T10:29:38.390Z"
   },
   {
    "duration": 3,
    "start_time": "2022-12-04T10:29:40.708Z"
   },
   {
    "duration": 4,
    "start_time": "2022-12-04T10:29:47.900Z"
   },
   {
    "duration": 2,
    "start_time": "2022-12-04T10:30:35.738Z"
   },
   {
    "duration": 5,
    "start_time": "2022-12-04T10:30:36.726Z"
   },
   {
    "duration": 3,
    "start_time": "2022-12-04T10:31:45.763Z"
   },
   {
    "duration": 5,
    "start_time": "2022-12-04T10:31:47.608Z"
   },
   {
    "duration": 3,
    "start_time": "2022-12-04T10:32:58.798Z"
   },
   {
    "duration": 4,
    "start_time": "2022-12-04T10:33:00.750Z"
   },
   {
    "duration": 1527,
    "start_time": "2022-12-06T08:56:37.655Z"
   },
   {
    "duration": 1734,
    "start_time": "2022-12-06T08:56:39.184Z"
   },
   {
    "duration": 16,
    "start_time": "2022-12-06T08:56:40.921Z"
   },
   {
    "duration": 36,
    "start_time": "2022-12-06T08:56:40.939Z"
   },
   {
    "duration": 33,
    "start_time": "2022-12-06T08:56:40.977Z"
   },
   {
    "duration": 30,
    "start_time": "2022-12-06T08:56:41.012Z"
   },
   {
    "duration": 26,
    "start_time": "2022-12-06T08:56:41.044Z"
   },
   {
    "duration": 18,
    "start_time": "2022-12-06T08:56:41.072Z"
   },
   {
    "duration": 64,
    "start_time": "2022-12-06T08:56:41.091Z"
   },
   {
    "duration": 40,
    "start_time": "2022-12-06T08:56:41.157Z"
   },
   {
    "duration": 57,
    "start_time": "2022-12-06T08:56:41.198Z"
   },
   {
    "duration": 6,
    "start_time": "2022-12-06T08:56:41.256Z"
   },
   {
    "duration": 13,
    "start_time": "2022-12-06T08:56:41.263Z"
   },
   {
    "duration": 16,
    "start_time": "2022-12-06T08:56:41.279Z"
   },
   {
    "duration": 27,
    "start_time": "2022-12-06T08:56:41.297Z"
   },
   {
    "duration": 18,
    "start_time": "2022-12-06T08:56:41.326Z"
   },
   {
    "duration": 43,
    "start_time": "2022-12-06T08:56:41.346Z"
   },
   {
    "duration": 3,
    "start_time": "2022-12-06T08:56:41.391Z"
   },
   {
    "duration": 34,
    "start_time": "2022-12-06T08:56:41.396Z"
   },
   {
    "duration": 17,
    "start_time": "2022-12-06T08:56:41.432Z"
   },
   {
    "duration": 57,
    "start_time": "2022-12-06T08:56:41.451Z"
   },
   {
    "duration": 14,
    "start_time": "2022-12-06T08:56:41.510Z"
   },
   {
    "duration": 31,
    "start_time": "2022-12-06T08:56:41.526Z"
   },
   {
    "duration": 24,
    "start_time": "2022-12-06T08:56:41.559Z"
   },
   {
    "duration": 107,
    "start_time": "2022-12-06T08:56:41.585Z"
   },
   {
    "duration": 225,
    "start_time": "2022-12-06T08:56:41.693Z"
   },
   {
    "duration": 7,
    "start_time": "2022-12-06T08:56:41.920Z"
   },
   {
    "duration": 10,
    "start_time": "2022-12-06T08:56:41.929Z"
   },
   {
    "duration": 176,
    "start_time": "2022-12-06T08:56:41.941Z"
   },
   {
    "duration": 8,
    "start_time": "2022-12-06T08:56:42.119Z"
   },
   {
    "duration": 10,
    "start_time": "2022-12-06T08:56:42.129Z"
   },
   {
    "duration": 88,
    "start_time": "2022-12-06T08:56:42.141Z"
   },
   {
    "duration": 5,
    "start_time": "2022-12-06T08:56:42.230Z"
   },
   {
    "duration": 183,
    "start_time": "2022-12-06T08:56:42.237Z"
   },
   {
    "duration": 6,
    "start_time": "2022-12-06T08:56:42.423Z"
   },
   {
    "duration": 8,
    "start_time": "2022-12-06T08:56:42.431Z"
   },
   {
    "duration": 6,
    "start_time": "2022-12-06T08:56:42.441Z"
   },
   {
    "duration": 10,
    "start_time": "2022-12-06T09:21:06.700Z"
   },
   {
    "duration": 16,
    "start_time": "2022-12-06T09:21:43.927Z"
   },
   {
    "duration": 13,
    "start_time": "2022-12-06T09:22:04.694Z"
   },
   {
    "duration": 14,
    "start_time": "2022-12-06T09:22:14.855Z"
   },
   {
    "duration": 18,
    "start_time": "2022-12-06T09:30:40.036Z"
   },
   {
    "duration": 103,
    "start_time": "2022-12-06T09:30:56.022Z"
   },
   {
    "duration": 18,
    "start_time": "2022-12-06T09:31:04.082Z"
   },
   {
    "duration": 9,
    "start_time": "2022-12-06T09:31:17.022Z"
   },
   {
    "duration": 17,
    "start_time": "2022-12-06T09:33:23.066Z"
   },
   {
    "duration": 73,
    "start_time": "2022-12-06T09:34:18.868Z"
   },
   {
    "duration": 20,
    "start_time": "2022-12-06T09:34:23.739Z"
   },
   {
    "duration": 18,
    "start_time": "2022-12-06T09:34:31.660Z"
   },
   {
    "duration": 91,
    "start_time": "2022-12-06T09:43:14.477Z"
   },
   {
    "duration": 21,
    "start_time": "2022-12-06T09:43:33.916Z"
   },
   {
    "duration": 17,
    "start_time": "2022-12-06T09:44:27.082Z"
   },
   {
    "duration": 15,
    "start_time": "2022-12-06T09:45:58.035Z"
   },
   {
    "duration": 5,
    "start_time": "2022-12-06T09:46:08.040Z"
   },
   {
    "duration": 4,
    "start_time": "2022-12-06T09:49:36.198Z"
   },
   {
    "duration": 4,
    "start_time": "2022-12-06T09:52:38.996Z"
   },
   {
    "duration": 4,
    "start_time": "2022-12-06T10:22:19.133Z"
   },
   {
    "duration": 4,
    "start_time": "2022-12-06T10:22:21.994Z"
   },
   {
    "duration": 3,
    "start_time": "2022-12-06T10:22:35.568Z"
   },
   {
    "duration": 9,
    "start_time": "2022-12-06T10:23:32.020Z"
   },
   {
    "duration": 3,
    "start_time": "2022-12-06T10:23:43.329Z"
   },
   {
    "duration": 4,
    "start_time": "2022-12-06T10:23:47.327Z"
   },
   {
    "duration": 3,
    "start_time": "2022-12-06T10:23:56.212Z"
   },
   {
    "duration": 3,
    "start_time": "2022-12-06T10:23:58.095Z"
   },
   {
    "duration": 4,
    "start_time": "2022-12-06T10:24:01.338Z"
   },
   {
    "duration": 3,
    "start_time": "2022-12-06T10:24:02.532Z"
   },
   {
    "duration": 13,
    "start_time": "2022-12-06T10:28:16.613Z"
   },
   {
    "duration": 3,
    "start_time": "2022-12-06T10:28:45.059Z"
   },
   {
    "duration": 13,
    "start_time": "2022-12-06T10:28:46.664Z"
   },
   {
    "duration": 12,
    "start_time": "2022-12-06T10:29:01.260Z"
   },
   {
    "duration": 3,
    "start_time": "2022-12-06T10:29:52.428Z"
   },
   {
    "duration": 12,
    "start_time": "2022-12-06T10:29:54.064Z"
   },
   {
    "duration": 3,
    "start_time": "2022-12-06T10:34:03.931Z"
   },
   {
    "duration": 3,
    "start_time": "2022-12-06T10:34:16.171Z"
   },
   {
    "duration": 8,
    "start_time": "2022-12-06T10:34:34.838Z"
   },
   {
    "duration": 3,
    "start_time": "2022-12-06T10:34:42.617Z"
   },
   {
    "duration": 10,
    "start_time": "2022-12-06T10:34:43.116Z"
   },
   {
    "duration": 3,
    "start_time": "2022-12-06T10:35:47.203Z"
   },
   {
    "duration": 12,
    "start_time": "2022-12-06T10:35:47.733Z"
   },
   {
    "duration": 4,
    "start_time": "2022-12-06T10:38:55.100Z"
   },
   {
    "duration": 3,
    "start_time": "2022-12-06T10:39:06.885Z"
   },
   {
    "duration": 12,
    "start_time": "2022-12-06T10:39:08.626Z"
   },
   {
    "duration": 4,
    "start_time": "2022-12-06T10:39:11.825Z"
   },
   {
    "duration": 381,
    "start_time": "2022-12-06T10:39:11.830Z"
   },
   {
    "duration": 9,
    "start_time": "2022-12-06T10:39:12.213Z"
   },
   {
    "duration": 18,
    "start_time": "2022-12-06T10:39:12.224Z"
   },
   {
    "duration": 10,
    "start_time": "2022-12-06T10:39:12.244Z"
   },
   {
    "duration": 16,
    "start_time": "2022-12-06T10:39:12.256Z"
   },
   {
    "duration": 10,
    "start_time": "2022-12-06T10:39:12.273Z"
   },
   {
    "duration": 16,
    "start_time": "2022-12-06T10:39:12.314Z"
   },
   {
    "duration": 45,
    "start_time": "2022-12-06T10:39:12.332Z"
   },
   {
    "duration": 65,
    "start_time": "2022-12-06T10:39:12.379Z"
   },
   {
    "duration": 39,
    "start_time": "2022-12-06T10:39:12.446Z"
   },
   {
    "duration": 28,
    "start_time": "2022-12-06T10:39:12.487Z"
   },
   {
    "duration": 10,
    "start_time": "2022-12-06T10:39:12.519Z"
   },
   {
    "duration": 11,
    "start_time": "2022-12-06T10:39:12.532Z"
   },
   {
    "duration": 11,
    "start_time": "2022-12-06T10:39:12.545Z"
   },
   {
    "duration": 11,
    "start_time": "2022-12-06T10:39:12.558Z"
   },
   {
    "duration": 66,
    "start_time": "2022-12-06T10:39:12.570Z"
   },
   {
    "duration": 4,
    "start_time": "2022-12-06T10:39:12.638Z"
   },
   {
    "duration": 6,
    "start_time": "2022-12-06T10:39:12.644Z"
   },
   {
    "duration": 6,
    "start_time": "2022-12-06T10:39:12.651Z"
   },
   {
    "duration": 64,
    "start_time": "2022-12-06T10:39:12.659Z"
   },
   {
    "duration": 12,
    "start_time": "2022-12-06T10:39:12.725Z"
   },
   {
    "duration": 8,
    "start_time": "2022-12-06T10:39:12.738Z"
   },
   {
    "duration": 5,
    "start_time": "2022-12-06T10:39:12.748Z"
   },
   {
    "duration": 91,
    "start_time": "2022-12-06T10:39:12.754Z"
   },
   {
    "duration": 16,
    "start_time": "2022-12-06T10:39:12.847Z"
   },
   {
    "duration": 96,
    "start_time": "2022-12-06T10:39:12.918Z"
   },
   {
    "duration": 7,
    "start_time": "2022-12-06T10:39:13.015Z"
   },
   {
    "duration": 16,
    "start_time": "2022-12-06T10:39:13.023Z"
   },
   {
    "duration": 6,
    "start_time": "2022-12-06T10:39:13.114Z"
   },
   {
    "duration": 100,
    "start_time": "2022-12-06T10:39:13.122Z"
   },
   {
    "duration": 22,
    "start_time": "2022-12-06T10:39:13.224Z"
   },
   {
    "duration": 101,
    "start_time": "2022-12-06T10:39:13.313Z"
   },
   {
    "duration": 7,
    "start_time": "2022-12-06T10:39:13.416Z"
   },
   {
    "duration": 3,
    "start_time": "2022-12-06T10:39:13.425Z"
   },
   {
    "duration": 8,
    "start_time": "2022-12-06T10:39:13.430Z"
   },
   {
    "duration": 5,
    "start_time": "2022-12-06T10:39:13.441Z"
   },
   {
    "duration": 20,
    "start_time": "2022-12-06T10:39:13.447Z"
   },
   {
    "duration": 4,
    "start_time": "2022-12-06T10:39:13.468Z"
   },
   {
    "duration": 4,
    "start_time": "2022-12-06T10:39:13.474Z"
   },
   {
    "duration": 41,
    "start_time": "2022-12-06T10:39:13.480Z"
   },
   {
    "duration": 0,
    "start_time": "2022-12-06T10:39:13.523Z"
   },
   {
    "duration": 0,
    "start_time": "2022-12-06T10:39:13.525Z"
   },
   {
    "duration": 3,
    "start_time": "2022-12-06T10:39:27.115Z"
   },
   {
    "duration": 9,
    "start_time": "2022-12-06T10:39:27.828Z"
   },
   {
    "duration": 15,
    "start_time": "2022-12-06T10:40:03.540Z"
   },
   {
    "duration": 4,
    "start_time": "2022-12-06T10:40:04.357Z"
   },
   {
    "duration": 4,
    "start_time": "2022-12-06T10:44:17.260Z"
   },
   {
    "duration": 3,
    "start_time": "2022-12-06T10:45:10.172Z"
   },
   {
    "duration": 13,
    "start_time": "2022-12-06T10:45:10.920Z"
   },
   {
    "duration": 3,
    "start_time": "2022-12-06T10:45:26.235Z"
   },
   {
    "duration": 14,
    "start_time": "2022-12-06T10:45:32.543Z"
   },
   {
    "duration": 3,
    "start_time": "2022-12-06T10:45:48.187Z"
   },
   {
    "duration": 12,
    "start_time": "2022-12-06T10:45:49.918Z"
   },
   {
    "duration": 9,
    "start_time": "2022-12-06T10:47:38.418Z"
   },
   {
    "duration": 8,
    "start_time": "2022-12-06T10:48:20.890Z"
   },
   {
    "duration": 14,
    "start_time": "2022-12-06T11:22:24.129Z"
   },
   {
    "duration": 9,
    "start_time": "2022-12-06T11:22:52.863Z"
   },
   {
    "duration": 4,
    "start_time": "2022-12-06T11:25:29.647Z"
   },
   {
    "duration": 4,
    "start_time": "2022-12-06T11:25:49.949Z"
   },
   {
    "duration": 22,
    "start_time": "2022-12-06T11:25:50.631Z"
   },
   {
    "duration": 3,
    "start_time": "2022-12-06T11:28:22.691Z"
   },
   {
    "duration": 6,
    "start_time": "2022-12-06T11:28:24.011Z"
   },
   {
    "duration": 8,
    "start_time": "2022-12-06T11:28:24.845Z"
   },
   {
    "duration": 8,
    "start_time": "2022-12-06T11:29:27.605Z"
   },
   {
    "duration": 8,
    "start_time": "2022-12-06T11:29:32.127Z"
   },
   {
    "duration": 8,
    "start_time": "2022-12-06T11:29:37.067Z"
   },
   {
    "duration": 4,
    "start_time": "2022-12-06T11:31:32.194Z"
   },
   {
    "duration": 8,
    "start_time": "2022-12-06T11:31:33.003Z"
   },
   {
    "duration": 8,
    "start_time": "2022-12-06T11:32:16.759Z"
   },
   {
    "duration": 11,
    "start_time": "2022-12-06T11:32:26.303Z"
   },
   {
    "duration": 8,
    "start_time": "2022-12-06T11:32:31.251Z"
   },
   {
    "duration": 5,
    "start_time": "2022-12-06T11:33:29.928Z"
   },
   {
    "duration": 4,
    "start_time": "2022-12-06T11:56:30.933Z"
   },
   {
    "duration": 7,
    "start_time": "2022-12-06T11:56:32.565Z"
   },
   {
    "duration": 3,
    "start_time": "2022-12-06T11:57:20.737Z"
   },
   {
    "duration": 7,
    "start_time": "2022-12-06T11:57:21.934Z"
   },
   {
    "duration": 4,
    "start_time": "2022-12-06T11:57:46.210Z"
   },
   {
    "duration": 8,
    "start_time": "2022-12-06T11:57:46.916Z"
   },
   {
    "duration": 4,
    "start_time": "2022-12-06T11:58:19.272Z"
   },
   {
    "duration": 3,
    "start_time": "2022-12-06T11:58:23.772Z"
   },
   {
    "duration": 7,
    "start_time": "2022-12-06T11:58:25.069Z"
   },
   {
    "duration": 3,
    "start_time": "2022-12-06T11:59:56.079Z"
   },
   {
    "duration": 8,
    "start_time": "2022-12-06T11:59:56.816Z"
   },
   {
    "duration": 8,
    "start_time": "2022-12-06T12:00:21.867Z"
   },
   {
    "duration": 7,
    "start_time": "2022-12-06T12:00:29.201Z"
   },
   {
    "duration": 4,
    "start_time": "2022-12-06T12:02:51.828Z"
   },
   {
    "duration": 8,
    "start_time": "2022-12-06T12:02:52.427Z"
   },
   {
    "duration": 7,
    "start_time": "2022-12-06T12:02:55.734Z"
   },
   {
    "duration": 3,
    "start_time": "2022-12-06T12:02:58.326Z"
   },
   {
    "duration": 6,
    "start_time": "2022-12-06T12:02:59.779Z"
   },
   {
    "duration": 4,
    "start_time": "2022-12-06T12:03:05.766Z"
   },
   {
    "duration": 7,
    "start_time": "2022-12-06T12:03:06.298Z"
   },
   {
    "duration": 7,
    "start_time": "2022-12-06T12:03:09.408Z"
   },
   {
    "duration": 3,
    "start_time": "2022-12-06T12:03:39.078Z"
   },
   {
    "duration": 8,
    "start_time": "2022-12-06T12:03:39.773Z"
   },
   {
    "duration": 3,
    "start_time": "2022-12-06T12:04:52.213Z"
   },
   {
    "duration": 7,
    "start_time": "2022-12-06T12:04:52.744Z"
   },
   {
    "duration": 3,
    "start_time": "2022-12-06T12:06:15.176Z"
   },
   {
    "duration": 7,
    "start_time": "2022-12-06T12:06:17.364Z"
   },
   {
    "duration": 3,
    "start_time": "2022-12-06T12:06:18.114Z"
   },
   {
    "duration": 73,
    "start_time": "2022-12-06T12:06:37.331Z"
   },
   {
    "duration": 9,
    "start_time": "2022-12-06T12:06:46.360Z"
   },
   {
    "duration": 3,
    "start_time": "2022-12-06T12:12:45.973Z"
   },
   {
    "duration": 3,
    "start_time": "2022-12-06T12:13:30.254Z"
   },
   {
    "duration": 4,
    "start_time": "2022-12-06T12:14:28.390Z"
   },
   {
    "duration": 9,
    "start_time": "2022-12-06T12:15:28.398Z"
   },
   {
    "duration": 9,
    "start_time": "2022-12-06T12:15:31.477Z"
   },
   {
    "duration": 3,
    "start_time": "2022-12-06T12:15:40.603Z"
   },
   {
    "duration": 375,
    "start_time": "2022-12-06T12:15:40.609Z"
   },
   {
    "duration": 10,
    "start_time": "2022-12-06T12:15:40.985Z"
   },
   {
    "duration": 23,
    "start_time": "2022-12-06T12:15:40.997Z"
   },
   {
    "duration": 10,
    "start_time": "2022-12-06T12:15:41.022Z"
   },
   {
    "duration": 18,
    "start_time": "2022-12-06T12:15:41.033Z"
   },
   {
    "duration": 9,
    "start_time": "2022-12-06T12:15:41.053Z"
   },
   {
    "duration": 17,
    "start_time": "2022-12-06T12:15:41.064Z"
   },
   {
    "duration": 65,
    "start_time": "2022-12-06T12:15:41.083Z"
   },
   {
    "duration": 39,
    "start_time": "2022-12-06T12:15:41.149Z"
   },
   {
    "duration": 54,
    "start_time": "2022-12-06T12:15:41.190Z"
   },
   {
    "duration": 6,
    "start_time": "2022-12-06T12:15:41.246Z"
   },
   {
    "duration": 11,
    "start_time": "2022-12-06T12:15:41.254Z"
   },
   {
    "duration": 19,
    "start_time": "2022-12-06T12:15:41.268Z"
   },
   {
    "duration": 27,
    "start_time": "2022-12-06T12:15:41.289Z"
   },
   {
    "duration": 10,
    "start_time": "2022-12-06T12:15:41.318Z"
   },
   {
    "duration": 33,
    "start_time": "2022-12-06T12:15:41.330Z"
   },
   {
    "duration": 4,
    "start_time": "2022-12-06T12:15:41.365Z"
   },
   {
    "duration": 8,
    "start_time": "2022-12-06T12:15:41.370Z"
   },
   {
    "duration": 8,
    "start_time": "2022-12-06T12:15:41.380Z"
   },
   {
    "duration": 69,
    "start_time": "2022-12-06T12:15:41.390Z"
   },
   {
    "duration": 11,
    "start_time": "2022-12-06T12:15:41.461Z"
   },
   {
    "duration": 10,
    "start_time": "2022-12-06T12:15:41.474Z"
   },
   {
    "duration": 7,
    "start_time": "2022-12-06T12:15:41.486Z"
   },
   {
    "duration": 95,
    "start_time": "2022-12-06T12:15:41.495Z"
   },
   {
    "duration": 29,
    "start_time": "2022-12-06T12:15:41.591Z"
   },
   {
    "duration": 5,
    "start_time": "2022-12-06T12:15:41.713Z"
   },
   {
    "duration": 99,
    "start_time": "2022-12-06T12:15:41.720Z"
   },
   {
    "duration": 17,
    "start_time": "2022-12-06T12:15:41.821Z"
   },
   {
    "duration": 77,
    "start_time": "2022-12-06T12:15:41.840Z"
   },
   {
    "duration": 99,
    "start_time": "2022-12-06T12:15:41.921Z"
   },
   {
    "duration": 20,
    "start_time": "2022-12-06T12:15:42.022Z"
   },
   {
    "duration": 97,
    "start_time": "2022-12-06T12:15:42.116Z"
   },
   {
    "duration": 9,
    "start_time": "2022-12-06T12:15:42.215Z"
   },
   {
    "duration": 10,
    "start_time": "2022-12-06T12:15:42.225Z"
   },
   {
    "duration": 8,
    "start_time": "2022-12-06T12:15:42.237Z"
   },
   {
    "duration": 7,
    "start_time": "2022-12-06T12:15:42.247Z"
   },
   {
    "duration": 18,
    "start_time": "2022-12-06T12:15:42.256Z"
   },
   {
    "duration": 12,
    "start_time": "2022-12-06T12:15:42.276Z"
   },
   {
    "duration": 13,
    "start_time": "2022-12-06T12:15:42.289Z"
   },
   {
    "duration": 9,
    "start_time": "2022-12-06T12:15:42.306Z"
   },
   {
    "duration": 9,
    "start_time": "2022-12-06T12:15:42.317Z"
   },
   {
    "duration": 6,
    "start_time": "2022-12-06T12:15:42.328Z"
   },
   {
    "duration": 3,
    "start_time": "2022-12-06T12:15:42.336Z"
   },
   {
    "duration": 6,
    "start_time": "2022-12-06T12:15:42.340Z"
   },
   {
    "duration": 6,
    "start_time": "2022-12-06T12:15:42.348Z"
   },
   {
    "duration": 6,
    "start_time": "2022-12-06T12:16:08.780Z"
   },
   {
    "duration": 8,
    "start_time": "2022-12-06T12:16:19.752Z"
   },
   {
    "duration": 7,
    "start_time": "2022-12-06T12:16:33.995Z"
   },
   {
    "duration": 4,
    "start_time": "2022-12-06T12:16:36.110Z"
   },
   {
    "duration": 12,
    "start_time": "2022-12-06T12:16:47.764Z"
   },
   {
    "duration": 4,
    "start_time": "2022-12-06T12:16:49.502Z"
   },
   {
    "duration": 4,
    "start_time": "2022-12-06T12:17:13.057Z"
   },
   {
    "duration": 1498,
    "start_time": "2022-12-07T02:07:37.220Z"
   },
   {
    "duration": 626,
    "start_time": "2022-12-07T02:07:38.720Z"
   },
   {
    "duration": 13,
    "start_time": "2022-12-07T02:07:39.348Z"
   },
   {
    "duration": 14,
    "start_time": "2022-12-07T02:07:39.363Z"
   },
   {
    "duration": 9,
    "start_time": "2022-12-07T02:07:39.379Z"
   },
   {
    "duration": 17,
    "start_time": "2022-12-07T02:07:39.389Z"
   },
   {
    "duration": 13,
    "start_time": "2022-12-07T02:07:39.407Z"
   },
   {
    "duration": 15,
    "start_time": "2022-12-07T02:07:39.421Z"
   },
   {
    "duration": 42,
    "start_time": "2022-12-07T02:07:39.438Z"
   },
   {
    "duration": 58,
    "start_time": "2022-12-07T02:07:39.481Z"
   },
   {
    "duration": 40,
    "start_time": "2022-12-07T02:07:39.541Z"
   },
   {
    "duration": 6,
    "start_time": "2022-12-07T02:07:39.583Z"
   },
   {
    "duration": 28,
    "start_time": "2022-12-07T02:07:39.591Z"
   },
   {
    "duration": 9,
    "start_time": "2022-12-07T02:07:39.623Z"
   },
   {
    "duration": 9,
    "start_time": "2022-12-07T02:07:39.634Z"
   },
   {
    "duration": 9,
    "start_time": "2022-12-07T02:07:39.644Z"
   },
   {
    "duration": 26,
    "start_time": "2022-12-07T02:07:39.654Z"
   },
   {
    "duration": 34,
    "start_time": "2022-12-07T02:07:39.682Z"
   },
   {
    "duration": 6,
    "start_time": "2022-12-07T02:07:39.718Z"
   },
   {
    "duration": 6,
    "start_time": "2022-12-07T02:07:39.725Z"
   },
   {
    "duration": 47,
    "start_time": "2022-12-07T02:07:39.732Z"
   },
   {
    "duration": 12,
    "start_time": "2022-12-07T02:07:39.780Z"
   },
   {
    "duration": 3,
    "start_time": "2022-12-07T02:07:39.815Z"
   },
   {
    "duration": 11,
    "start_time": "2022-12-07T02:07:39.820Z"
   },
   {
    "duration": 74,
    "start_time": "2022-12-07T02:07:39.833Z"
   },
   {
    "duration": 108,
    "start_time": "2022-12-07T02:07:39.916Z"
   },
   {
    "duration": 96,
    "start_time": "2022-12-07T02:07:40.025Z"
   },
   {
    "duration": 95,
    "start_time": "2022-12-07T02:07:40.123Z"
   },
   {
    "duration": 20,
    "start_time": "2022-12-07T02:07:40.220Z"
   },
   {
    "duration": 6,
    "start_time": "2022-12-07T02:07:40.315Z"
   },
   {
    "duration": 101,
    "start_time": "2022-12-07T02:07:40.323Z"
   },
   {
    "duration": 21,
    "start_time": "2022-12-07T02:07:40.425Z"
   },
   {
    "duration": 6,
    "start_time": "2022-12-07T02:07:40.517Z"
   },
   {
    "duration": 98,
    "start_time": "2022-12-07T02:07:40.526Z"
   },
   {
    "duration": 5,
    "start_time": "2022-12-07T02:07:40.625Z"
   },
   {
    "duration": 7,
    "start_time": "2022-12-07T02:07:40.631Z"
   },
   {
    "duration": 6,
    "start_time": "2022-12-07T02:07:40.639Z"
   },
   {
    "duration": 42,
    "start_time": "2022-12-07T02:07:40.646Z"
   },
   {
    "duration": 0,
    "start_time": "2022-12-07T02:07:40.690Z"
   },
   {
    "duration": 0,
    "start_time": "2022-12-07T02:07:40.691Z"
   },
   {
    "duration": 46,
    "start_time": "2022-12-07T02:07:53.242Z"
   },
   {
    "duration": 45,
    "start_time": "2022-12-07T02:08:41.135Z"
   },
   {
    "duration": 3,
    "start_time": "2022-12-07T02:09:19.548Z"
   },
   {
    "duration": 13,
    "start_time": "2022-12-07T02:09:23.500Z"
   },
   {
    "duration": 4,
    "start_time": "2022-12-07T02:09:24.258Z"
   },
   {
    "duration": 3,
    "start_time": "2022-12-07T02:11:17.876Z"
   },
   {
    "duration": 4,
    "start_time": "2022-12-07T02:12:02.193Z"
   },
   {
    "duration": 3,
    "start_time": "2022-12-07T02:45:20.000Z"
   },
   {
    "duration": 4,
    "start_time": "2022-12-07T02:54:21.808Z"
   },
   {
    "duration": 12,
    "start_time": "2022-12-07T02:54:22.780Z"
   },
   {
    "duration": 4,
    "start_time": "2022-12-07T02:54:23.286Z"
   },
   {
    "duration": 3,
    "start_time": "2022-12-07T02:54:35.330Z"
   },
   {
    "duration": 3,
    "start_time": "2022-12-07T02:54:54.463Z"
   },
   {
    "duration": 104,
    "start_time": "2022-12-07T02:59:54.078Z"
   },
   {
    "duration": 13,
    "start_time": "2022-12-07T03:01:11.323Z"
   },
   {
    "duration": 21,
    "start_time": "2022-12-07T03:01:48.671Z"
   },
   {
    "duration": 11,
    "start_time": "2022-12-07T03:02:28.011Z"
   },
   {
    "duration": 10,
    "start_time": "2022-12-07T03:03:26.079Z"
   },
   {
    "duration": 4,
    "start_time": "2022-12-07T03:04:26.148Z"
   },
   {
    "duration": 5,
    "start_time": "2022-12-07T03:04:47.792Z"
   },
   {
    "duration": 13,
    "start_time": "2022-12-07T03:06:04.447Z"
   },
   {
    "duration": 3,
    "start_time": "2022-12-07T03:41:45.458Z"
   },
   {
    "duration": 11,
    "start_time": "2022-12-07T03:41:51.519Z"
   },
   {
    "duration": 3,
    "start_time": "2022-12-07T03:42:00.172Z"
   },
   {
    "duration": 11,
    "start_time": "2022-12-07T04:13:49.581Z"
   },
   {
    "duration": 13,
    "start_time": "2022-12-07T04:21:05.343Z"
   },
   {
    "duration": 13,
    "start_time": "2022-12-07T04:21:27.092Z"
   },
   {
    "duration": 12,
    "start_time": "2022-12-07T04:22:23.136Z"
   },
   {
    "duration": 12,
    "start_time": "2022-12-07T04:22:37.832Z"
   },
   {
    "duration": 17,
    "start_time": "2022-12-07T04:46:46.336Z"
   },
   {
    "duration": 12,
    "start_time": "2022-12-07T04:47:03.547Z"
   },
   {
    "duration": 49,
    "start_time": "2022-12-08T11:40:22.029Z"
   },
   {
    "duration": 1653,
    "start_time": "2022-12-08T11:40:28.103Z"
   },
   {
    "duration": 660,
    "start_time": "2022-12-08T11:40:29.758Z"
   },
   {
    "duration": 15,
    "start_time": "2022-12-08T11:40:30.420Z"
   },
   {
    "duration": 48,
    "start_time": "2022-12-08T11:40:30.437Z"
   },
   {
    "duration": 30,
    "start_time": "2022-12-08T11:40:30.487Z"
   },
   {
    "duration": 30,
    "start_time": "2022-12-08T11:40:30.519Z"
   },
   {
    "duration": 35,
    "start_time": "2022-12-08T11:40:30.551Z"
   },
   {
    "duration": 32,
    "start_time": "2022-12-08T11:40:30.587Z"
   },
   {
    "duration": 51,
    "start_time": "2022-12-08T11:40:30.622Z"
   },
   {
    "duration": 67,
    "start_time": "2022-12-08T11:40:30.677Z"
   },
   {
    "duration": 50,
    "start_time": "2022-12-08T11:40:30.746Z"
   },
   {
    "duration": 16,
    "start_time": "2022-12-08T11:40:30.798Z"
   },
   {
    "duration": 15,
    "start_time": "2022-12-08T11:40:30.816Z"
   },
   {
    "duration": 32,
    "start_time": "2022-12-08T11:40:30.832Z"
   },
   {
    "duration": 31,
    "start_time": "2022-12-08T11:40:30.866Z"
   },
   {
    "duration": 9,
    "start_time": "2022-12-08T11:40:30.899Z"
   },
   {
    "duration": 29,
    "start_time": "2022-12-08T11:40:30.910Z"
   },
   {
    "duration": 3,
    "start_time": "2022-12-08T11:40:30.942Z"
   },
   {
    "duration": 28,
    "start_time": "2022-12-08T11:40:30.947Z"
   },
   {
    "duration": 11,
    "start_time": "2022-12-08T11:40:30.976Z"
   },
   {
    "duration": 65,
    "start_time": "2022-12-08T11:40:30.989Z"
   },
   {
    "duration": 15,
    "start_time": "2022-12-08T11:40:31.056Z"
   },
   {
    "duration": 27,
    "start_time": "2022-12-08T11:40:31.073Z"
   },
   {
    "duration": 16,
    "start_time": "2022-12-08T11:40:31.102Z"
   },
   {
    "duration": 102,
    "start_time": "2022-12-08T11:40:31.120Z"
   },
   {
    "duration": 90,
    "start_time": "2022-12-08T11:40:31.223Z"
   },
   {
    "duration": 6,
    "start_time": "2022-12-08T11:40:31.315Z"
   },
   {
    "duration": 5,
    "start_time": "2022-12-08T11:40:31.414Z"
   },
   {
    "duration": 99,
    "start_time": "2022-12-08T11:40:31.421Z"
   },
   {
    "duration": 92,
    "start_time": "2022-12-08T11:40:31.521Z"
   },
   {
    "duration": 16,
    "start_time": "2022-12-08T11:40:31.615Z"
   },
   {
    "duration": 19,
    "start_time": "2022-12-08T11:40:31.633Z"
   },
   {
    "duration": 59,
    "start_time": "2022-12-08T11:40:31.653Z"
   },
   {
    "duration": 5,
    "start_time": "2022-12-08T11:40:31.715Z"
   },
   {
    "duration": 5,
    "start_time": "2022-12-08T11:40:31.811Z"
   },
   {
    "duration": 8,
    "start_time": "2022-12-08T11:40:31.818Z"
   },
   {
    "duration": 10,
    "start_time": "2022-12-08T11:40:31.827Z"
   },
   {
    "duration": 32,
    "start_time": "2022-12-08T11:40:31.839Z"
   },
   {
    "duration": 7,
    "start_time": "2022-12-08T11:40:31.873Z"
   },
   {
    "duration": 15,
    "start_time": "2022-12-08T11:40:31.881Z"
   },
   {
    "duration": 17,
    "start_time": "2022-12-08T11:40:31.899Z"
   },
   {
    "duration": 83,
    "start_time": "2022-12-08T11:40:31.918Z"
   },
   {
    "duration": 0,
    "start_time": "2022-12-08T11:40:32.003Z"
   },
   {
    "duration": 5,
    "start_time": "2022-12-08T11:40:53.185Z"
   },
   {
    "duration": 13,
    "start_time": "2022-12-08T11:41:01.976Z"
   },
   {
    "duration": 3,
    "start_time": "2022-12-08T11:42:08.345Z"
   },
   {
    "duration": 5,
    "start_time": "2022-12-08T11:42:15.258Z"
   },
   {
    "duration": 4,
    "start_time": "2022-12-08T11:42:31.593Z"
   },
   {
    "duration": 400,
    "start_time": "2022-12-08T11:42:31.600Z"
   },
   {
    "duration": 10,
    "start_time": "2022-12-08T11:42:32.003Z"
   },
   {
    "duration": 17,
    "start_time": "2022-12-08T11:42:32.014Z"
   },
   {
    "duration": 10,
    "start_time": "2022-12-08T11:42:32.033Z"
   },
   {
    "duration": 17,
    "start_time": "2022-12-08T11:42:32.046Z"
   },
   {
    "duration": 9,
    "start_time": "2022-12-08T11:42:32.066Z"
   },
   {
    "duration": 44,
    "start_time": "2022-12-08T11:42:32.077Z"
   },
   {
    "duration": 45,
    "start_time": "2022-12-08T11:42:32.123Z"
   },
   {
    "duration": 61,
    "start_time": "2022-12-08T11:42:32.170Z"
   },
   {
    "duration": 45,
    "start_time": "2022-12-08T11:42:32.233Z"
   },
   {
    "duration": 6,
    "start_time": "2022-12-08T11:42:32.280Z"
   },
   {
    "duration": 32,
    "start_time": "2022-12-08T11:42:32.287Z"
   },
   {
    "duration": 14,
    "start_time": "2022-12-08T11:42:32.321Z"
   },
   {
    "duration": 10,
    "start_time": "2022-12-08T11:42:32.339Z"
   },
   {
    "duration": 10,
    "start_time": "2022-12-08T11:42:32.351Z"
   },
   {
    "duration": 52,
    "start_time": "2022-12-08T11:42:32.362Z"
   },
   {
    "duration": 4,
    "start_time": "2022-12-08T11:42:32.416Z"
   },
   {
    "duration": 6,
    "start_time": "2022-12-08T11:42:32.422Z"
   },
   {
    "duration": 7,
    "start_time": "2022-12-08T11:42:32.430Z"
   },
   {
    "duration": 47,
    "start_time": "2022-12-08T11:42:32.439Z"
   },
   {
    "duration": 34,
    "start_time": "2022-12-08T11:42:32.488Z"
   },
   {
    "duration": 8,
    "start_time": "2022-12-08T11:42:32.524Z"
   },
   {
    "duration": 9,
    "start_time": "2022-12-08T11:42:32.534Z"
   },
   {
    "duration": 98,
    "start_time": "2022-12-08T11:42:32.545Z"
   },
   {
    "duration": 70,
    "start_time": "2022-12-08T11:42:32.645Z"
   },
   {
    "duration": 97,
    "start_time": "2022-12-08T11:42:32.717Z"
   },
   {
    "duration": 11,
    "start_time": "2022-12-08T11:42:32.815Z"
   },
   {
    "duration": 85,
    "start_time": "2022-12-08T11:42:32.827Z"
   },
   {
    "duration": 4,
    "start_time": "2022-12-08T11:42:32.914Z"
   },
   {
    "duration": 100,
    "start_time": "2022-12-08T11:42:32.921Z"
   },
   {
    "duration": 10,
    "start_time": "2022-12-08T11:42:33.023Z"
   },
   {
    "duration": 8,
    "start_time": "2022-12-08T11:42:33.035Z"
   },
   {
    "duration": 7,
    "start_time": "2022-12-08T11:42:33.045Z"
   },
   {
    "duration": 61,
    "start_time": "2022-12-08T11:42:33.053Z"
   },
   {
    "duration": 96,
    "start_time": "2022-12-08T11:42:33.116Z"
   },
   {
    "duration": 11,
    "start_time": "2022-12-08T11:42:33.214Z"
   },
   {
    "duration": 15,
    "start_time": "2022-12-08T11:42:33.227Z"
   },
   {
    "duration": 7,
    "start_time": "2022-12-08T11:42:33.244Z"
   },
   {
    "duration": 6,
    "start_time": "2022-12-08T11:42:33.253Z"
   },
   {
    "duration": 6,
    "start_time": "2022-12-08T11:42:33.261Z"
   },
   {
    "duration": 21,
    "start_time": "2022-12-08T11:42:33.271Z"
   },
   {
    "duration": 7,
    "start_time": "2022-12-08T11:42:33.294Z"
   },
   {
    "duration": 13,
    "start_time": "2022-12-08T11:42:33.313Z"
   },
   {
    "duration": 0,
    "start_time": "2022-12-08T11:42:33.328Z"
   },
   {
    "duration": 21,
    "start_time": "2022-12-08T11:45:40.183Z"
   },
   {
    "duration": 18,
    "start_time": "2022-12-08T11:46:14.690Z"
   },
   {
    "duration": 6,
    "start_time": "2022-12-08T11:57:14.133Z"
   },
   {
    "duration": 2,
    "start_time": "2022-12-08T11:57:43.890Z"
   },
   {
    "duration": 4,
    "start_time": "2022-12-08T11:58:06.324Z"
   },
   {
    "duration": 6,
    "start_time": "2022-12-08T11:58:07.186Z"
   },
   {
    "duration": 6,
    "start_time": "2022-12-08T11:58:08.339Z"
   },
   {
    "duration": 4,
    "start_time": "2022-12-08T11:58:19.248Z"
   },
   {
    "duration": 8,
    "start_time": "2022-12-08T11:58:20.912Z"
   },
   {
    "duration": 6,
    "start_time": "2022-12-08T11:58:22.433Z"
   },
   {
    "duration": 12,
    "start_time": "2022-12-08T12:23:13.473Z"
   },
   {
    "duration": 15,
    "start_time": "2022-12-08T12:23:28.806Z"
   },
   {
    "duration": 11,
    "start_time": "2022-12-08T12:24:17.437Z"
   },
   {
    "duration": 5,
    "start_time": "2022-12-08T12:24:22.405Z"
   },
   {
    "duration": 456,
    "start_time": "2022-12-08T12:24:22.412Z"
   },
   {
    "duration": 10,
    "start_time": "2022-12-08T12:24:22.870Z"
   },
   {
    "duration": 25,
    "start_time": "2022-12-08T12:24:22.882Z"
   },
   {
    "duration": 12,
    "start_time": "2022-12-08T12:24:22.911Z"
   },
   {
    "duration": 37,
    "start_time": "2022-12-08T12:24:22.925Z"
   },
   {
    "duration": 14,
    "start_time": "2022-12-08T12:24:22.964Z"
   },
   {
    "duration": 25,
    "start_time": "2022-12-08T12:24:22.980Z"
   },
   {
    "duration": 58,
    "start_time": "2022-12-08T12:24:23.008Z"
   },
   {
    "duration": 43,
    "start_time": "2022-12-08T12:24:23.068Z"
   },
   {
    "duration": 44,
    "start_time": "2022-12-08T12:24:23.112Z"
   },
   {
    "duration": 7,
    "start_time": "2022-12-08T12:24:23.158Z"
   },
   {
    "duration": 20,
    "start_time": "2022-12-08T12:24:23.167Z"
   },
   {
    "duration": 29,
    "start_time": "2022-12-08T12:24:23.190Z"
   },
   {
    "duration": 20,
    "start_time": "2022-12-08T12:24:23.221Z"
   },
   {
    "duration": 15,
    "start_time": "2022-12-08T12:24:23.243Z"
   },
   {
    "duration": 63,
    "start_time": "2022-12-08T12:24:23.260Z"
   },
   {
    "duration": 4,
    "start_time": "2022-12-08T12:24:23.324Z"
   },
   {
    "duration": 14,
    "start_time": "2022-12-08T12:24:23.330Z"
   },
   {
    "duration": 27,
    "start_time": "2022-12-08T12:24:23.346Z"
   },
   {
    "duration": 74,
    "start_time": "2022-12-08T12:24:23.375Z"
   },
   {
    "duration": 12,
    "start_time": "2022-12-08T12:24:23.451Z"
   },
   {
    "duration": 35,
    "start_time": "2022-12-08T12:24:23.465Z"
   },
   {
    "duration": 30,
    "start_time": "2022-12-08T12:24:23.502Z"
   },
   {
    "duration": 100,
    "start_time": "2022-12-08T12:24:23.534Z"
   },
   {
    "duration": 78,
    "start_time": "2022-12-08T12:24:23.636Z"
   },
   {
    "duration": 100,
    "start_time": "2022-12-08T12:24:23.716Z"
   },
   {
    "duration": 37,
    "start_time": "2022-12-08T12:24:23.818Z"
   },
   {
    "duration": 55,
    "start_time": "2022-12-08T12:24:23.857Z"
   },
   {
    "duration": 98,
    "start_time": "2022-12-08T12:24:23.917Z"
   },
   {
    "duration": 133,
    "start_time": "2022-12-08T12:24:24.017Z"
   },
   {
    "duration": 22,
    "start_time": "2022-12-08T12:24:24.152Z"
   },
   {
    "duration": 54,
    "start_time": "2022-12-08T12:24:24.176Z"
   },
   {
    "duration": 0,
    "start_time": "2022-12-08T12:24:24.233Z"
   },
   {
    "duration": 0,
    "start_time": "2022-12-08T12:24:24.234Z"
   },
   {
    "duration": 0,
    "start_time": "2022-12-08T12:24:24.236Z"
   },
   {
    "duration": 0,
    "start_time": "2022-12-08T12:24:24.237Z"
   },
   {
    "duration": 0,
    "start_time": "2022-12-08T12:24:24.239Z"
   },
   {
    "duration": 0,
    "start_time": "2022-12-08T12:24:24.241Z"
   },
   {
    "duration": 0,
    "start_time": "2022-12-08T12:24:24.243Z"
   },
   {
    "duration": 1,
    "start_time": "2022-12-08T12:24:24.244Z"
   },
   {
    "duration": 0,
    "start_time": "2022-12-08T12:24:24.247Z"
   },
   {
    "duration": 0,
    "start_time": "2022-12-08T12:24:24.248Z"
   },
   {
    "duration": 0,
    "start_time": "2022-12-08T12:24:24.249Z"
   },
   {
    "duration": 0,
    "start_time": "2022-12-08T12:24:24.251Z"
   },
   {
    "duration": 0,
    "start_time": "2022-12-08T12:24:24.253Z"
   },
   {
    "duration": 0,
    "start_time": "2022-12-08T12:24:24.255Z"
   },
   {
    "duration": 6,
    "start_time": "2022-12-08T12:27:12.006Z"
   },
   {
    "duration": 4,
    "start_time": "2022-12-08T12:27:27.744Z"
   },
   {
    "duration": 395,
    "start_time": "2022-12-08T12:27:27.751Z"
   },
   {
    "duration": 10,
    "start_time": "2022-12-08T12:27:28.148Z"
   },
   {
    "duration": 20,
    "start_time": "2022-12-08T12:27:28.160Z"
   },
   {
    "duration": 32,
    "start_time": "2022-12-08T12:27:28.182Z"
   },
   {
    "duration": 17,
    "start_time": "2022-12-08T12:27:28.218Z"
   },
   {
    "duration": 10,
    "start_time": "2022-12-08T12:27:28.237Z"
   },
   {
    "duration": 18,
    "start_time": "2022-12-08T12:27:28.248Z"
   },
   {
    "duration": 82,
    "start_time": "2022-12-08T12:27:28.268Z"
   },
   {
    "duration": 61,
    "start_time": "2022-12-08T12:27:28.352Z"
   },
   {
    "duration": 46,
    "start_time": "2022-12-08T12:27:28.417Z"
   },
   {
    "duration": 7,
    "start_time": "2022-12-08T12:27:28.465Z"
   },
   {
    "duration": 9,
    "start_time": "2022-12-08T12:27:28.475Z"
   },
   {
    "duration": 31,
    "start_time": "2022-12-08T12:27:28.486Z"
   },
   {
    "duration": 11,
    "start_time": "2022-12-08T12:27:28.519Z"
   },
   {
    "duration": 10,
    "start_time": "2022-12-08T12:27:28.532Z"
   },
   {
    "duration": 27,
    "start_time": "2022-12-08T12:27:28.544Z"
   },
   {
    "duration": 39,
    "start_time": "2022-12-08T12:27:28.573Z"
   },
   {
    "duration": 5,
    "start_time": "2022-12-08T12:27:28.614Z"
   },
   {
    "duration": 8,
    "start_time": "2022-12-08T12:27:28.620Z"
   },
   {
    "duration": 52,
    "start_time": "2022-12-08T12:27:28.630Z"
   },
   {
    "duration": 31,
    "start_time": "2022-12-08T12:27:28.685Z"
   },
   {
    "duration": 10,
    "start_time": "2022-12-08T12:27:28.718Z"
   },
   {
    "duration": 8,
    "start_time": "2022-12-08T12:27:28.730Z"
   },
   {
    "duration": 94,
    "start_time": "2022-12-08T12:27:28.739Z"
   },
   {
    "duration": 77,
    "start_time": "2022-12-08T12:27:28.835Z"
   },
   {
    "duration": 6,
    "start_time": "2022-12-08T12:27:28.915Z"
   },
   {
    "duration": 8,
    "start_time": "2022-12-08T12:27:29.011Z"
   },
   {
    "duration": 92,
    "start_time": "2022-12-08T12:27:29.023Z"
   },
   {
    "duration": 4,
    "start_time": "2022-12-08T12:27:29.116Z"
   },
   {
    "duration": 104,
    "start_time": "2022-12-08T12:27:29.122Z"
   },
   {
    "duration": 6,
    "start_time": "2022-12-08T12:27:29.228Z"
   },
   {
    "duration": 10,
    "start_time": "2022-12-08T12:27:29.236Z"
   },
   {
    "duration": 10,
    "start_time": "2022-12-08T12:27:29.247Z"
   },
   {
    "duration": 21,
    "start_time": "2022-12-08T12:27:29.259Z"
   },
   {
    "duration": 12,
    "start_time": "2022-12-08T12:27:29.282Z"
   },
   {
    "duration": 30,
    "start_time": "2022-12-08T12:27:29.296Z"
   },
   {
    "duration": 87,
    "start_time": "2022-12-08T12:27:29.328Z"
   },
   {
    "duration": 103,
    "start_time": "2022-12-08T12:27:29.417Z"
   },
   {
    "duration": 7,
    "start_time": "2022-12-08T12:27:29.521Z"
   },
   {
    "duration": 5,
    "start_time": "2022-12-08T12:27:29.529Z"
   },
   {
    "duration": 8,
    "start_time": "2022-12-08T12:27:29.536Z"
   },
   {
    "duration": 4,
    "start_time": "2022-12-08T12:27:29.546Z"
   },
   {
    "duration": 15,
    "start_time": "2022-12-08T12:27:29.553Z"
   },
   {
    "duration": 4,
    "start_time": "2022-12-08T12:27:29.570Z"
   },
   {
    "duration": 45,
    "start_time": "2022-12-08T12:27:29.576Z"
   },
   {
    "duration": 0,
    "start_time": "2022-12-08T12:27:29.623Z"
   },
   {
    "duration": 19,
    "start_time": "2022-12-08T12:27:41.073Z"
   },
   {
    "duration": 4,
    "start_time": "2022-12-08T12:29:03.048Z"
   },
   {
    "duration": 6,
    "start_time": "2022-12-08T12:29:12.452Z"
   },
   {
    "duration": 17,
    "start_time": "2022-12-08T12:29:30.384Z"
   },
   {
    "duration": 6,
    "start_time": "2022-12-08T12:29:58.157Z"
   },
   {
    "duration": 16,
    "start_time": "2022-12-08T12:30:00.632Z"
   },
   {
    "duration": 4,
    "start_time": "2022-12-08T12:37:48.215Z"
   },
   {
    "duration": 3,
    "start_time": "2022-12-08T12:37:53.433Z"
   },
   {
    "duration": 4,
    "start_time": "2022-12-08T12:38:01.531Z"
   },
   {
    "duration": 7,
    "start_time": "2022-12-08T12:38:02.638Z"
   },
   {
    "duration": 4,
    "start_time": "2022-12-08T12:38:03.799Z"
   },
   {
    "duration": 24,
    "start_time": "2022-12-08T12:38:56.471Z"
   },
   {
    "duration": 13,
    "start_time": "2022-12-08T12:46:10.852Z"
   },
   {
    "duration": 19,
    "start_time": "2022-12-08T12:46:24.841Z"
   },
   {
    "duration": 45,
    "start_time": "2022-12-08T12:47:58.992Z"
   },
   {
    "duration": 17,
    "start_time": "2022-12-08T12:48:16.989Z"
   },
   {
    "duration": 14,
    "start_time": "2022-12-08T12:49:21.228Z"
   },
   {
    "duration": 65,
    "start_time": "2022-12-08T12:50:45.235Z"
   },
   {
    "duration": 48,
    "start_time": "2022-12-08T12:50:55.667Z"
   },
   {
    "duration": 11,
    "start_time": "2022-12-08T12:51:10.956Z"
   },
   {
    "duration": 13,
    "start_time": "2022-12-08T12:51:43.194Z"
   },
   {
    "duration": 24,
    "start_time": "2022-12-08T12:56:50.265Z"
   },
   {
    "duration": 47,
    "start_time": "2022-12-08T12:57:22.436Z"
   },
   {
    "duration": 52,
    "start_time": "2022-12-08T12:57:34.253Z"
   },
   {
    "duration": 13,
    "start_time": "2022-12-08T12:57:49.535Z"
   },
   {
    "duration": 13,
    "start_time": "2022-12-08T12:57:56.737Z"
   },
   {
    "duration": 4,
    "start_time": "2022-12-08T12:59:58.906Z"
   },
   {
    "duration": 399,
    "start_time": "2022-12-08T12:59:58.914Z"
   },
   {
    "duration": 12,
    "start_time": "2022-12-08T12:59:59.315Z"
   },
   {
    "duration": 23,
    "start_time": "2022-12-08T12:59:59.329Z"
   },
   {
    "duration": 10,
    "start_time": "2022-12-08T12:59:59.355Z"
   },
   {
    "duration": 20,
    "start_time": "2022-12-08T12:59:59.366Z"
   },
   {
    "duration": 33,
    "start_time": "2022-12-08T12:59:59.388Z"
   },
   {
    "duration": 20,
    "start_time": "2022-12-08T12:59:59.423Z"
   },
   {
    "duration": 47,
    "start_time": "2022-12-08T12:59:59.445Z"
   },
   {
    "duration": 41,
    "start_time": "2022-12-08T12:59:59.512Z"
   },
   {
    "duration": 58,
    "start_time": "2022-12-08T12:59:59.555Z"
   },
   {
    "duration": 6,
    "start_time": "2022-12-08T12:59:59.615Z"
   },
   {
    "duration": 12,
    "start_time": "2022-12-08T12:59:59.623Z"
   },
   {
    "duration": 13,
    "start_time": "2022-12-08T12:59:59.637Z"
   },
   {
    "duration": 10,
    "start_time": "2022-12-08T12:59:59.651Z"
   },
   {
    "duration": 10,
    "start_time": "2022-12-08T12:59:59.663Z"
   },
   {
    "duration": 26,
    "start_time": "2022-12-08T12:59:59.711Z"
   },
   {
    "duration": 4,
    "start_time": "2022-12-08T12:59:59.739Z"
   },
   {
    "duration": 6,
    "start_time": "2022-12-08T12:59:59.745Z"
   },
   {
    "duration": 7,
    "start_time": "2022-12-08T12:59:59.753Z"
   },
   {
    "duration": 69,
    "start_time": "2022-12-08T12:59:59.761Z"
   },
   {
    "duration": 11,
    "start_time": "2022-12-08T12:59:59.833Z"
   },
   {
    "duration": 9,
    "start_time": "2022-12-08T12:59:59.845Z"
   },
   {
    "duration": 7,
    "start_time": "2022-12-08T12:59:59.856Z"
   },
   {
    "duration": 100,
    "start_time": "2022-12-08T12:59:59.864Z"
   },
   {
    "duration": 51,
    "start_time": "2022-12-08T12:59:59.966Z"
   },
   {
    "duration": 99,
    "start_time": "2022-12-08T13:00:00.019Z"
   },
   {
    "duration": 22,
    "start_time": "2022-12-08T13:00:00.120Z"
   },
   {
    "duration": 68,
    "start_time": "2022-12-08T13:00:00.146Z"
   },
   {
    "duration": 97,
    "start_time": "2022-12-08T13:00:00.216Z"
   },
   {
    "duration": 20,
    "start_time": "2022-12-08T13:00:00.315Z"
   },
   {
    "duration": 25,
    "start_time": "2022-12-08T13:00:00.337Z"
   },
   {
    "duration": 26,
    "start_time": "2022-12-08T13:00:00.364Z"
   },
   {
    "duration": 23,
    "start_time": "2022-12-08T13:00:00.392Z"
   },
   {
    "duration": 15,
    "start_time": "2022-12-08T13:00:00.417Z"
   },
   {
    "duration": 42,
    "start_time": "2022-12-08T13:00:00.433Z"
   },
   {
    "duration": 43,
    "start_time": "2022-12-08T13:00:00.477Z"
   },
   {
    "duration": 93,
    "start_time": "2022-12-08T13:00:00.522Z"
   },
   {
    "duration": 23,
    "start_time": "2022-12-08T13:00:00.617Z"
   },
   {
    "duration": 20,
    "start_time": "2022-12-08T13:00:00.642Z"
   },
   {
    "duration": 24,
    "start_time": "2022-12-08T13:00:00.664Z"
   },
   {
    "duration": 25,
    "start_time": "2022-12-08T13:00:00.690Z"
   },
   {
    "duration": 0,
    "start_time": "2022-12-08T13:00:00.717Z"
   },
   {
    "duration": 0,
    "start_time": "2022-12-08T13:00:00.719Z"
   },
   {
    "duration": 0,
    "start_time": "2022-12-08T13:00:00.720Z"
   },
   {
    "duration": 0,
    "start_time": "2022-12-08T13:00:00.721Z"
   },
   {
    "duration": 0,
    "start_time": "2022-12-08T13:00:00.722Z"
   },
   {
    "duration": 0,
    "start_time": "2022-12-08T13:00:00.723Z"
   },
   {
    "duration": 0,
    "start_time": "2022-12-08T13:00:00.724Z"
   },
   {
    "duration": 18,
    "start_time": "2022-12-08T13:00:24.311Z"
   },
   {
    "duration": 16,
    "start_time": "2022-12-08T13:00:57.139Z"
   },
   {
    "duration": 15,
    "start_time": "2022-12-08T13:02:33.973Z"
   },
   {
    "duration": 50,
    "start_time": "2022-12-08T13:03:36.699Z"
   },
   {
    "duration": 15,
    "start_time": "2022-12-08T13:03:54.668Z"
   },
   {
    "duration": 15,
    "start_time": "2022-12-08T13:07:17.798Z"
   },
   {
    "duration": 15,
    "start_time": "2022-12-08T13:13:44.811Z"
   },
   {
    "duration": 13,
    "start_time": "2022-12-08T13:20:32.622Z"
   },
   {
    "duration": 4,
    "start_time": "2022-12-08T13:29:02.072Z"
   },
   {
    "duration": 4,
    "start_time": "2022-12-08T13:29:04.085Z"
   },
   {
    "duration": 5,
    "start_time": "2022-12-08T13:29:12.396Z"
   },
   {
    "duration": 5,
    "start_time": "2022-12-08T13:29:17.934Z"
   },
   {
    "duration": 4,
    "start_time": "2022-12-08T13:29:49.582Z"
   },
   {
    "duration": 4,
    "start_time": "2022-12-08T13:39:10.681Z"
   },
   {
    "duration": 4,
    "start_time": "2022-12-08T13:39:22.251Z"
   },
   {
    "duration": 4,
    "start_time": "2022-12-08T13:39:31.023Z"
   },
   {
    "duration": 57,
    "start_time": "2022-12-08T13:55:23.568Z"
   },
   {
    "duration": 1906,
    "start_time": "2022-12-09T12:59:01.542Z"
   },
   {
    "duration": 1931,
    "start_time": "2022-12-09T12:59:03.451Z"
   },
   {
    "duration": 21,
    "start_time": "2022-12-09T12:59:05.385Z"
   },
   {
    "duration": 35,
    "start_time": "2022-12-09T12:59:05.409Z"
   },
   {
    "duration": 40,
    "start_time": "2022-12-09T12:59:05.446Z"
   },
   {
    "duration": 43,
    "start_time": "2022-12-09T12:59:05.489Z"
   },
   {
    "duration": 16,
    "start_time": "2022-12-09T12:59:05.534Z"
   },
   {
    "duration": 63,
    "start_time": "2022-12-09T12:59:05.552Z"
   },
   {
    "duration": 71,
    "start_time": "2022-12-09T12:59:05.617Z"
   },
   {
    "duration": 49,
    "start_time": "2022-12-09T12:59:05.691Z"
   },
   {
    "duration": 70,
    "start_time": "2022-12-09T12:59:05.742Z"
   },
   {
    "duration": 7,
    "start_time": "2022-12-09T12:59:05.814Z"
   },
   {
    "duration": 43,
    "start_time": "2022-12-09T12:59:05.822Z"
   },
   {
    "duration": 17,
    "start_time": "2022-12-09T12:59:05.868Z"
   },
   {
    "duration": 14,
    "start_time": "2022-12-09T12:59:05.887Z"
   },
   {
    "duration": 10,
    "start_time": "2022-12-09T12:59:05.903Z"
   },
   {
    "duration": 60,
    "start_time": "2022-12-09T12:59:05.915Z"
   },
   {
    "duration": 4,
    "start_time": "2022-12-09T12:59:05.977Z"
   },
   {
    "duration": 10,
    "start_time": "2022-12-09T12:59:05.982Z"
   },
   {
    "duration": 11,
    "start_time": "2022-12-09T12:59:05.993Z"
   },
   {
    "duration": 88,
    "start_time": "2022-12-09T12:59:06.006Z"
   },
   {
    "duration": 14,
    "start_time": "2022-12-09T12:59:06.096Z"
   },
   {
    "duration": 10,
    "start_time": "2022-12-09T12:59:06.112Z"
   },
   {
    "duration": 6,
    "start_time": "2022-12-09T12:59:06.124Z"
   },
   {
    "duration": 110,
    "start_time": "2022-12-09T12:59:06.132Z"
   },
   {
    "duration": 108,
    "start_time": "2022-12-09T12:59:06.244Z"
   },
   {
    "duration": 117,
    "start_time": "2022-12-09T12:59:06.359Z"
   },
   {
    "duration": 8,
    "start_time": "2022-12-09T12:59:06.480Z"
   },
   {
    "duration": 8,
    "start_time": "2022-12-09T12:59:06.489Z"
   },
   {
    "duration": 63,
    "start_time": "2022-12-09T12:59:06.499Z"
   },
   {
    "duration": 9,
    "start_time": "2022-12-09T12:59:06.566Z"
   },
   {
    "duration": 98,
    "start_time": "2022-12-09T12:59:06.578Z"
   },
   {
    "duration": 7,
    "start_time": "2022-12-09T12:59:06.678Z"
   },
   {
    "duration": 7,
    "start_time": "2022-12-09T12:59:06.687Z"
   },
   {
    "duration": 15,
    "start_time": "2022-12-09T12:59:06.696Z"
   },
   {
    "duration": 8,
    "start_time": "2022-12-09T12:59:06.712Z"
   },
   {
    "duration": 56,
    "start_time": "2022-12-09T12:59:06.722Z"
   },
   {
    "duration": 9,
    "start_time": "2022-12-09T12:59:06.854Z"
   },
   {
    "duration": 110,
    "start_time": "2022-12-09T12:59:06.865Z"
   },
   {
    "duration": 5,
    "start_time": "2022-12-09T12:59:06.977Z"
   },
   {
    "duration": 5,
    "start_time": "2022-12-09T12:59:06.983Z"
   },
   {
    "duration": 5,
    "start_time": "2022-12-09T12:59:06.990Z"
   },
   {
    "duration": 9,
    "start_time": "2022-12-09T12:59:06.996Z"
   },
   {
    "duration": 6,
    "start_time": "2022-12-09T12:59:07.007Z"
   },
   {
    "duration": 21,
    "start_time": "2022-12-09T12:59:07.015Z"
   },
   {
    "duration": 13,
    "start_time": "2022-12-09T12:59:07.038Z"
   },
   {
    "duration": 145,
    "start_time": "2022-12-09T12:59:07.054Z"
   },
   {
    "duration": 0,
    "start_time": "2022-12-09T12:59:07.201Z"
   },
   {
    "duration": 0,
    "start_time": "2022-12-09T12:59:07.202Z"
   },
   {
    "duration": 0,
    "start_time": "2022-12-09T12:59:07.203Z"
   },
   {
    "duration": 14,
    "start_time": "2022-12-09T13:06:35.364Z"
   },
   {
    "duration": 13,
    "start_time": "2022-12-09T13:06:43.827Z"
   },
   {
    "duration": 43,
    "start_time": "2022-12-09T13:06:53.942Z"
   },
   {
    "duration": 47,
    "start_time": "2022-12-10T07:51:27.576Z"
   },
   {
    "duration": 1466,
    "start_time": "2022-12-10T07:51:30.848Z"
   },
   {
    "duration": 781,
    "start_time": "2022-12-10T07:51:32.316Z"
   },
   {
    "duration": 15,
    "start_time": "2022-12-10T07:51:33.099Z"
   },
   {
    "duration": 15,
    "start_time": "2022-12-10T07:51:33.116Z"
   },
   {
    "duration": 18,
    "start_time": "2022-12-10T07:51:33.134Z"
   },
   {
    "duration": 17,
    "start_time": "2022-12-10T07:51:33.153Z"
   },
   {
    "duration": 8,
    "start_time": "2022-12-10T07:51:33.171Z"
   },
   {
    "duration": 14,
    "start_time": "2022-12-10T07:51:33.180Z"
   },
   {
    "duration": 67,
    "start_time": "2022-12-10T07:51:33.196Z"
   },
   {
    "duration": 38,
    "start_time": "2022-12-10T07:51:33.264Z"
   },
   {
    "duration": 30,
    "start_time": "2022-12-10T07:51:33.303Z"
   },
   {
    "duration": 13,
    "start_time": "2022-12-10T07:51:33.334Z"
   },
   {
    "duration": 11,
    "start_time": "2022-12-10T07:51:33.349Z"
   },
   {
    "duration": 12,
    "start_time": "2022-12-10T07:51:33.364Z"
   },
   {
    "duration": 9,
    "start_time": "2022-12-10T07:51:33.377Z"
   },
   {
    "duration": 32,
    "start_time": "2022-12-10T07:51:33.389Z"
   },
   {
    "duration": 33,
    "start_time": "2022-12-10T07:51:33.424Z"
   },
   {
    "duration": 4,
    "start_time": "2022-12-10T07:51:33.459Z"
   },
   {
    "duration": 6,
    "start_time": "2022-12-10T07:51:33.465Z"
   },
   {
    "duration": 5,
    "start_time": "2022-12-10T07:51:33.473Z"
   },
   {
    "duration": 84,
    "start_time": "2022-12-10T07:51:33.480Z"
   },
   {
    "duration": 12,
    "start_time": "2022-12-10T07:51:33.565Z"
   },
   {
    "duration": 14,
    "start_time": "2022-12-10T07:51:33.578Z"
   },
   {
    "duration": 6,
    "start_time": "2022-12-10T07:51:33.593Z"
   },
   {
    "duration": 85,
    "start_time": "2022-12-10T07:51:33.600Z"
   },
   {
    "duration": 148,
    "start_time": "2022-12-10T07:51:33.686Z"
   },
   {
    "duration": 4,
    "start_time": "2022-12-10T07:51:33.917Z"
   },
   {
    "duration": 14,
    "start_time": "2022-12-10T07:51:33.923Z"
   },
   {
    "duration": 10,
    "start_time": "2022-12-10T07:51:33.938Z"
   },
   {
    "duration": 166,
    "start_time": "2022-12-10T07:51:33.950Z"
   },
   {
    "duration": 3,
    "start_time": "2022-12-10T07:51:34.117Z"
   },
   {
    "duration": 8,
    "start_time": "2022-12-10T07:51:34.122Z"
   },
   {
    "duration": 6,
    "start_time": "2022-12-10T07:51:34.132Z"
   },
   {
    "duration": 8,
    "start_time": "2022-12-10T07:51:34.139Z"
   },
   {
    "duration": 6,
    "start_time": "2022-12-10T07:51:34.148Z"
   },
   {
    "duration": 7,
    "start_time": "2022-12-10T07:51:34.155Z"
   },
   {
    "duration": 54,
    "start_time": "2022-12-10T07:51:34.163Z"
   },
   {
    "duration": 5,
    "start_time": "2022-12-10T07:51:34.219Z"
   },
   {
    "duration": 109,
    "start_time": "2022-12-10T07:51:34.226Z"
   },
   {
    "duration": 8,
    "start_time": "2022-12-10T07:51:34.337Z"
   },
   {
    "duration": 4,
    "start_time": "2022-12-10T07:51:34.348Z"
   },
   {
    "duration": 5,
    "start_time": "2022-12-10T07:51:34.353Z"
   },
   {
    "duration": 6,
    "start_time": "2022-12-10T07:51:34.359Z"
   },
   {
    "duration": 6,
    "start_time": "2022-12-10T07:51:34.367Z"
   },
   {
    "duration": 14,
    "start_time": "2022-12-10T07:51:34.374Z"
   },
   {
    "duration": 3,
    "start_time": "2022-12-10T07:51:34.389Z"
   },
   {
    "duration": 89,
    "start_time": "2022-12-10T07:51:34.393Z"
   },
   {
    "duration": 0,
    "start_time": "2022-12-10T07:51:34.484Z"
   },
   {
    "duration": 0,
    "start_time": "2022-12-10T07:51:34.485Z"
   },
   {
    "duration": 0,
    "start_time": "2022-12-10T07:51:34.487Z"
   },
   {
    "duration": 3,
    "start_time": "2022-12-10T07:51:56.247Z"
   },
   {
    "duration": 5,
    "start_time": "2022-12-10T07:51:56.881Z"
   },
   {
    "duration": 5,
    "start_time": "2022-12-10T08:00:37.436Z"
   },
   {
    "duration": 2,
    "start_time": "2022-12-10T08:00:39.706Z"
   },
   {
    "duration": 4,
    "start_time": "2022-12-10T08:00:40.147Z"
   },
   {
    "duration": 13,
    "start_time": "2022-12-10T08:11:03.796Z"
   },
   {
    "duration": 3,
    "start_time": "2022-12-10T08:12:20.787Z"
   },
   {
    "duration": 6,
    "start_time": "2022-12-10T08:12:28.561Z"
   },
   {
    "duration": 5,
    "start_time": "2022-12-10T08:13:27.380Z"
   },
   {
    "duration": 6,
    "start_time": "2022-12-10T08:13:28.157Z"
   },
   {
    "duration": 4,
    "start_time": "2022-12-10T08:13:33.112Z"
   },
   {
    "duration": 7,
    "start_time": "2022-12-10T08:13:33.704Z"
   },
   {
    "duration": 3,
    "start_time": "2022-12-10T08:13:55.767Z"
   },
   {
    "duration": 8,
    "start_time": "2022-12-10T08:13:56.326Z"
   },
   {
    "duration": 4,
    "start_time": "2022-12-10T08:14:05.475Z"
   },
   {
    "duration": 7,
    "start_time": "2022-12-10T08:14:06.052Z"
   },
   {
    "duration": 4,
    "start_time": "2022-12-10T08:15:13.199Z"
   },
   {
    "duration": 7,
    "start_time": "2022-12-10T08:15:14.416Z"
   },
   {
    "duration": 4,
    "start_time": "2022-12-10T08:15:48.274Z"
   },
   {
    "duration": 6,
    "start_time": "2022-12-10T08:15:50.634Z"
   },
   {
    "duration": 5,
    "start_time": "2022-12-10T08:16:27.532Z"
   },
   {
    "duration": 7,
    "start_time": "2022-12-10T08:16:28.413Z"
   },
   {
    "duration": 6,
    "start_time": "2022-12-10T08:17:12.533Z"
   },
   {
    "duration": 10,
    "start_time": "2022-12-10T08:17:14.251Z"
   },
   {
    "duration": 8,
    "start_time": "2022-12-10T08:21:08.733Z"
   },
   {
    "duration": 10,
    "start_time": "2022-12-10T08:21:15.216Z"
   },
   {
    "duration": 6,
    "start_time": "2022-12-10T08:22:12.668Z"
   },
   {
    "duration": 9,
    "start_time": "2022-12-10T08:22:14.815Z"
   },
   {
    "duration": 7,
    "start_time": "2022-12-10T08:25:52.704Z"
   },
   {
    "duration": 13,
    "start_time": "2022-12-10T08:25:54.228Z"
   },
   {
    "duration": 6,
    "start_time": "2022-12-10T08:27:00.457Z"
   },
   {
    "duration": 9,
    "start_time": "2022-12-10T08:27:01.728Z"
   },
   {
    "duration": 6,
    "start_time": "2022-12-10T08:28:15.514Z"
   },
   {
    "duration": 11,
    "start_time": "2022-12-10T08:28:16.963Z"
   },
   {
    "duration": 6,
    "start_time": "2022-12-10T08:32:50.315Z"
   },
   {
    "duration": 8,
    "start_time": "2022-12-10T08:32:51.036Z"
   },
   {
    "duration": 2,
    "start_time": "2022-12-10T08:33:09.260Z"
   },
   {
    "duration": 7,
    "start_time": "2022-12-10T08:33:12.641Z"
   },
   {
    "duration": 3,
    "start_time": "2022-12-10T08:33:14.939Z"
   },
   {
    "duration": 6,
    "start_time": "2022-12-10T08:33:22.746Z"
   },
   {
    "duration": 11,
    "start_time": "2022-12-10T08:33:23.308Z"
   },
   {
    "duration": 3,
    "start_time": "2022-12-10T08:36:56.157Z"
   },
   {
    "duration": 11,
    "start_time": "2022-12-10T08:36:56.733Z"
   },
   {
    "duration": 3,
    "start_time": "2022-12-10T08:36:57.338Z"
   },
   {
    "duration": 8,
    "start_time": "2022-12-10T09:19:26.359Z"
   },
   {
    "duration": 10,
    "start_time": "2022-12-10T09:19:26.958Z"
   },
   {
    "duration": 45,
    "start_time": "2022-12-10T09:21:27.336Z"
   },
   {
    "duration": 42,
    "start_time": "2022-12-10T09:21:36.259Z"
   },
   {
    "duration": 51,
    "start_time": "2022-12-10T09:22:20.936Z"
   },
   {
    "duration": 11,
    "start_time": "2022-12-10T09:22:22.492Z"
   },
   {
    "duration": 5,
    "start_time": "2022-12-10T09:26:44.621Z"
   },
   {
    "duration": 6,
    "start_time": "2022-12-10T09:26:54.913Z"
   },
   {
    "duration": 4,
    "start_time": "2022-12-10T09:27:48.472Z"
   },
   {
    "duration": 5,
    "start_time": "2022-12-10T09:31:21.923Z"
   },
   {
    "duration": 11,
    "start_time": "2022-12-10T09:31:22.908Z"
   },
   {
    "duration": 4,
    "start_time": "2022-12-10T09:31:45.268Z"
   },
   {
    "duration": 4,
    "start_time": "2022-12-10T09:34:31.489Z"
   },
   {
    "duration": 5,
    "start_time": "2022-12-10T09:37:06.188Z"
   },
   {
    "duration": 42,
    "start_time": "2022-12-10T09:37:06.699Z"
   },
   {
    "duration": 8,
    "start_time": "2022-12-10T09:37:21.781Z"
   },
   {
    "duration": 14,
    "start_time": "2022-12-10T09:37:22.641Z"
   },
   {
    "duration": 7,
    "start_time": "2022-12-10T09:37:32.096Z"
   },
   {
    "duration": 14,
    "start_time": "2022-12-10T09:37:32.609Z"
   },
   {
    "duration": 7,
    "start_time": "2022-12-10T09:37:58.523Z"
   },
   {
    "duration": 13,
    "start_time": "2022-12-10T09:37:59.574Z"
   },
   {
    "duration": 7,
    "start_time": "2022-12-10T09:40:33.302Z"
   },
   {
    "duration": 12,
    "start_time": "2022-12-10T09:40:33.870Z"
   },
   {
    "duration": 4,
    "start_time": "2022-12-10T09:45:12.431Z"
   },
   {
    "duration": 6,
    "start_time": "2022-12-10T09:45:25.128Z"
   },
   {
    "duration": 437,
    "start_time": "2022-12-10T10:05:46.569Z"
   },
   {
    "duration": 390,
    "start_time": "2022-12-10T10:06:33.317Z"
   },
   {
    "duration": 377,
    "start_time": "2022-12-10T10:06:38.375Z"
   },
   {
    "duration": 360,
    "start_time": "2022-12-10T10:08:08.869Z"
   },
   {
    "duration": 1500,
    "start_time": "2022-12-10T10:08:27.536Z"
   },
   {
    "duration": 1690,
    "start_time": "2022-12-10T10:10:28.228Z"
   },
   {
    "duration": 372,
    "start_time": "2022-12-10T10:10:41.306Z"
   },
   {
    "duration": 436,
    "start_time": "2022-12-10T10:10:51.669Z"
   },
   {
    "duration": 4,
    "start_time": "2022-12-10T10:17:08.756Z"
   },
   {
    "duration": 5,
    "start_time": "2022-12-10T10:17:46.681Z"
   },
   {
    "duration": 4,
    "start_time": "2022-12-10T10:17:49.214Z"
   },
   {
    "duration": 4,
    "start_time": "2022-12-10T10:18:26.542Z"
   },
   {
    "duration": 4,
    "start_time": "2022-12-10T10:18:42.695Z"
   },
   {
    "duration": 4,
    "start_time": "2022-12-10T10:18:56.986Z"
   },
   {
    "duration": 373,
    "start_time": "2022-12-10T10:18:58.080Z"
   },
   {
    "duration": 366,
    "start_time": "2022-12-10T10:19:23.550Z"
   },
   {
    "duration": 385,
    "start_time": "2022-12-10T10:19:27.453Z"
   },
   {
    "duration": 421,
    "start_time": "2022-12-10T10:19:48.933Z"
   },
   {
    "duration": 427,
    "start_time": "2022-12-10T10:19:56.984Z"
   },
   {
    "duration": 373,
    "start_time": "2022-12-10T10:21:16.840Z"
   },
   {
    "duration": 376,
    "start_time": "2022-12-10T10:21:24.176Z"
   },
   {
    "duration": 1137,
    "start_time": "2022-12-10T10:21:48.861Z"
   },
   {
    "duration": 8,
    "start_time": "2022-12-10T10:21:51.006Z"
   },
   {
    "duration": 4,
    "start_time": "2022-12-10T10:25:02.729Z"
   },
   {
    "duration": 4,
    "start_time": "2022-12-10T10:42:31.248Z"
   },
   {
    "duration": 7,
    "start_time": "2022-12-10T10:42:39.132Z"
   },
   {
    "duration": 50,
    "start_time": "2022-12-10T10:47:28.213Z"
   },
   {
    "duration": 48,
    "start_time": "2022-12-10T10:52:27.538Z"
   },
   {
    "duration": 99,
    "start_time": "2022-12-10T10:52:50.876Z"
   },
   {
    "duration": 1170,
    "start_time": "2022-12-10T10:53:08.171Z"
   },
   {
    "duration": 8,
    "start_time": "2022-12-10T10:53:18.466Z"
   },
   {
    "duration": 1198,
    "start_time": "2022-12-10T10:53:35.483Z"
   },
   {
    "duration": 7,
    "start_time": "2022-12-10T10:53:36.975Z"
   },
   {
    "duration": 8,
    "start_time": "2022-12-10T10:55:34.213Z"
   },
   {
    "duration": 16,
    "start_time": "2022-12-10T10:55:34.833Z"
   },
   {
    "duration": 8,
    "start_time": "2022-12-10T10:55:45.537Z"
   },
   {
    "duration": 11,
    "start_time": "2022-12-10T10:55:47.210Z"
   },
   {
    "duration": 1527,
    "start_time": "2022-12-10T10:57:31.539Z"
   },
   {
    "duration": 1423,
    "start_time": "2022-12-10T10:58:34.133Z"
   },
   {
    "duration": 11,
    "start_time": "2022-12-10T11:23:54.934Z"
   },
   {
    "duration": 11,
    "start_time": "2022-12-10T11:24:06.363Z"
   },
   {
    "duration": 12,
    "start_time": "2022-12-10T11:28:55.976Z"
   },
   {
    "duration": 6,
    "start_time": "2022-12-10T11:30:28.068Z"
   },
   {
    "duration": 11,
    "start_time": "2022-12-10T11:30:28.732Z"
   },
   {
    "duration": 4,
    "start_time": "2022-12-10T11:30:54.379Z"
   },
   {
    "duration": 465,
    "start_time": "2022-12-10T11:30:54.385Z"
   },
   {
    "duration": 8,
    "start_time": "2022-12-10T11:30:54.852Z"
   },
   {
    "duration": 18,
    "start_time": "2022-12-10T11:30:54.862Z"
   },
   {
    "duration": 12,
    "start_time": "2022-12-10T11:30:54.882Z"
   },
   {
    "duration": 20,
    "start_time": "2022-12-10T11:30:54.895Z"
   },
   {
    "duration": 7,
    "start_time": "2022-12-10T11:30:54.917Z"
   },
   {
    "duration": 27,
    "start_time": "2022-12-10T11:30:54.926Z"
   },
   {
    "duration": 40,
    "start_time": "2022-12-10T11:30:54.955Z"
   },
   {
    "duration": 48,
    "start_time": "2022-12-10T11:30:54.996Z"
   },
   {
    "duration": 14,
    "start_time": "2022-12-10T11:30:55.045Z"
   },
   {
    "duration": 9,
    "start_time": "2022-12-10T11:30:55.060Z"
   },
   {
    "duration": 19,
    "start_time": "2022-12-10T11:30:55.071Z"
   },
   {
    "duration": 24,
    "start_time": "2022-12-10T11:30:55.092Z"
   },
   {
    "duration": 11,
    "start_time": "2022-12-10T11:30:55.117Z"
   },
   {
    "duration": 19,
    "start_time": "2022-12-10T11:30:55.130Z"
   },
   {
    "duration": 32,
    "start_time": "2022-12-10T11:30:55.151Z"
   },
   {
    "duration": 4,
    "start_time": "2022-12-10T11:30:55.184Z"
   },
   {
    "duration": 28,
    "start_time": "2022-12-10T11:30:55.189Z"
   },
   {
    "duration": 6,
    "start_time": "2022-12-10T11:30:55.219Z"
   },
   {
    "duration": 56,
    "start_time": "2022-12-10T11:30:55.227Z"
   },
   {
    "duration": 11,
    "start_time": "2022-12-10T11:30:55.284Z"
   },
   {
    "duration": 14,
    "start_time": "2022-12-10T11:30:55.296Z"
   },
   {
    "duration": 13,
    "start_time": "2022-12-10T11:30:55.315Z"
   },
   {
    "duration": 100,
    "start_time": "2022-12-10T11:30:55.330Z"
   },
   {
    "duration": 23,
    "start_time": "2022-12-10T11:30:55.432Z"
   },
   {
    "duration": 8,
    "start_time": "2022-12-10T11:30:55.521Z"
   },
   {
    "duration": 10,
    "start_time": "2022-12-10T11:30:55.616Z"
   },
   {
    "duration": 16,
    "start_time": "2022-12-10T11:30:55.628Z"
   },
   {
    "duration": 76,
    "start_time": "2022-12-10T11:30:55.645Z"
   },
   {
    "duration": 112,
    "start_time": "2022-12-10T11:30:55.723Z"
   },
   {
    "duration": 8,
    "start_time": "2022-12-10T11:30:55.837Z"
   },
   {
    "duration": 16,
    "start_time": "2022-12-10T11:30:55.847Z"
   },
   {
    "duration": 8,
    "start_time": "2022-12-10T11:30:55.864Z"
   },
   {
    "duration": 16,
    "start_time": "2022-12-10T11:30:55.874Z"
   },
   {
    "duration": 26,
    "start_time": "2022-12-10T11:30:55.892Z"
   },
   {
    "duration": 202,
    "start_time": "2022-12-10T11:30:55.920Z"
   },
   {
    "duration": 18,
    "start_time": "2022-12-10T11:30:56.124Z"
   },
   {
    "duration": 15,
    "start_time": "2022-12-10T11:30:56.143Z"
   },
   {
    "duration": 12,
    "start_time": "2022-12-10T11:30:56.160Z"
   },
   {
    "duration": 6,
    "start_time": "2022-12-10T11:30:56.173Z"
   },
   {
    "duration": 21,
    "start_time": "2022-12-10T11:30:56.180Z"
   },
   {
    "duration": 9,
    "start_time": "2022-12-10T11:30:56.203Z"
   },
   {
    "duration": 14,
    "start_time": "2022-12-10T11:30:56.214Z"
   },
   {
    "duration": 38,
    "start_time": "2022-12-10T11:30:56.230Z"
   },
   {
    "duration": 19,
    "start_time": "2022-12-10T11:30:56.269Z"
   },
   {
    "duration": 30,
    "start_time": "2022-12-10T11:30:56.289Z"
   },
   {
    "duration": 5,
    "start_time": "2022-12-10T11:30:56.321Z"
   },
   {
    "duration": 1558,
    "start_time": "2022-12-10T11:30:56.328Z"
   },
   {
    "duration": 4,
    "start_time": "2022-12-10T11:30:57.888Z"
   },
   {
    "duration": 1177,
    "start_time": "2022-12-10T11:30:57.894Z"
   },
   {
    "duration": 6,
    "start_time": "2022-12-10T11:30:59.073Z"
   },
   {
    "duration": 11,
    "start_time": "2022-12-10T11:30:59.081Z"
   },
   {
    "duration": 0,
    "start_time": "2022-12-10T11:30:59.093Z"
   },
   {
    "duration": 0,
    "start_time": "2022-12-10T11:30:59.094Z"
   },
   {
    "duration": 5,
    "start_time": "2022-12-10T11:31:45.638Z"
   },
   {
    "duration": 3,
    "start_time": "2022-12-10T11:32:05.419Z"
   },
   {
    "duration": 3,
    "start_time": "2022-12-10T11:32:14.729Z"
   },
   {
    "duration": 4,
    "start_time": "2022-12-10T11:32:16.464Z"
   },
   {
    "duration": 415,
    "start_time": "2022-12-10T11:32:16.471Z"
   },
   {
    "duration": 8,
    "start_time": "2022-12-10T11:32:16.888Z"
   },
   {
    "duration": 27,
    "start_time": "2022-12-10T11:32:16.898Z"
   },
   {
    "duration": 14,
    "start_time": "2022-12-10T11:32:16.929Z"
   },
   {
    "duration": 25,
    "start_time": "2022-12-10T11:32:16.944Z"
   },
   {
    "duration": 23,
    "start_time": "2022-12-10T11:32:16.970Z"
   },
   {
    "duration": 34,
    "start_time": "2022-12-10T11:32:16.995Z"
   },
   {
    "duration": 53,
    "start_time": "2022-12-10T11:32:17.031Z"
   },
   {
    "duration": 37,
    "start_time": "2022-12-10T11:32:17.085Z"
   },
   {
    "duration": 21,
    "start_time": "2022-12-10T11:32:17.124Z"
   },
   {
    "duration": 28,
    "start_time": "2022-12-10T11:32:17.146Z"
   },
   {
    "duration": 12,
    "start_time": "2022-12-10T11:32:17.177Z"
   },
   {
    "duration": 26,
    "start_time": "2022-12-10T11:32:17.190Z"
   },
   {
    "duration": 26,
    "start_time": "2022-12-10T11:32:17.218Z"
   },
   {
    "duration": 12,
    "start_time": "2022-12-10T11:32:17.245Z"
   },
   {
    "duration": 35,
    "start_time": "2022-12-10T11:32:17.259Z"
   },
   {
    "duration": 4,
    "start_time": "2022-12-10T11:32:17.295Z"
   },
   {
    "duration": 33,
    "start_time": "2022-12-10T11:32:17.300Z"
   },
   {
    "duration": 21,
    "start_time": "2022-12-10T11:32:17.335Z"
   },
   {
    "duration": 41,
    "start_time": "2022-12-10T11:32:17.357Z"
   },
   {
    "duration": 10,
    "start_time": "2022-12-10T11:32:17.399Z"
   },
   {
    "duration": 6,
    "start_time": "2022-12-10T11:32:17.410Z"
   },
   {
    "duration": 13,
    "start_time": "2022-12-10T11:32:17.418Z"
   },
   {
    "duration": 78,
    "start_time": "2022-12-10T11:32:17.434Z"
   },
   {
    "duration": 102,
    "start_time": "2022-12-10T11:32:17.513Z"
   },
   {
    "duration": 94,
    "start_time": "2022-12-10T11:32:17.625Z"
   },
   {
    "duration": 7,
    "start_time": "2022-12-10T11:32:17.720Z"
   },
   {
    "duration": 9,
    "start_time": "2022-12-10T11:32:17.729Z"
   },
   {
    "duration": 76,
    "start_time": "2022-12-10T11:32:17.739Z"
   },
   {
    "duration": 9,
    "start_time": "2022-12-10T11:32:17.820Z"
   },
   {
    "duration": 8,
    "start_time": "2022-12-10T11:32:17.916Z"
   },
   {
    "duration": 89,
    "start_time": "2022-12-10T11:32:17.926Z"
   },
   {
    "duration": 6,
    "start_time": "2022-12-10T11:32:18.017Z"
   },
   {
    "duration": 99,
    "start_time": "2022-12-10T11:32:18.026Z"
   },
   {
    "duration": 10,
    "start_time": "2022-12-10T11:32:18.127Z"
   },
   {
    "duration": 11,
    "start_time": "2022-12-10T11:32:18.142Z"
   },
   {
    "duration": 5,
    "start_time": "2022-12-10T11:32:18.155Z"
   },
   {
    "duration": 12,
    "start_time": "2022-12-10T11:32:18.161Z"
   },
   {
    "duration": 14,
    "start_time": "2022-12-10T11:32:18.175Z"
   },
   {
    "duration": 6,
    "start_time": "2022-12-10T11:32:18.191Z"
   },
   {
    "duration": 18,
    "start_time": "2022-12-10T11:32:18.198Z"
   },
   {
    "duration": 4,
    "start_time": "2022-12-10T11:32:18.218Z"
   },
   {
    "duration": 1499,
    "start_time": "2022-12-10T11:32:18.224Z"
   },
   {
    "duration": 4,
    "start_time": "2022-12-10T11:32:19.725Z"
   },
   {
    "duration": 1181,
    "start_time": "2022-12-10T11:32:19.731Z"
   },
   {
    "duration": 11,
    "start_time": "2022-12-10T11:32:20.914Z"
   },
   {
    "duration": 15,
    "start_time": "2022-12-10T11:32:20.927Z"
   },
   {
    "duration": 0,
    "start_time": "2022-12-10T11:32:20.943Z"
   },
   {
    "duration": 0,
    "start_time": "2022-12-10T11:32:20.945Z"
   },
   {
    "duration": 1709,
    "start_time": "2022-12-11T01:48:36.694Z"
   },
   {
    "duration": 860,
    "start_time": "2022-12-11T01:48:38.406Z"
   },
   {
    "duration": 18,
    "start_time": "2022-12-11T01:48:39.268Z"
   },
   {
    "duration": 18,
    "start_time": "2022-12-11T01:48:39.288Z"
   },
   {
    "duration": 12,
    "start_time": "2022-12-11T01:48:39.309Z"
   },
   {
    "duration": 24,
    "start_time": "2022-12-11T01:48:39.323Z"
   },
   {
    "duration": 11,
    "start_time": "2022-12-11T01:48:39.349Z"
   },
   {
    "duration": 28,
    "start_time": "2022-12-11T01:48:39.362Z"
   },
   {
    "duration": 80,
    "start_time": "2022-12-11T01:48:39.392Z"
   },
   {
    "duration": 81,
    "start_time": "2022-12-11T01:48:39.473Z"
   },
   {
    "duration": 21,
    "start_time": "2022-12-11T01:48:39.556Z"
   },
   {
    "duration": 9,
    "start_time": "2022-12-11T01:48:39.579Z"
   },
   {
    "duration": 38,
    "start_time": "2022-12-11T01:48:39.591Z"
   },
   {
    "duration": 18,
    "start_time": "2022-12-11T01:48:39.634Z"
   },
   {
    "duration": 13,
    "start_time": "2022-12-11T01:48:39.654Z"
   },
   {
    "duration": 9,
    "start_time": "2022-12-11T01:48:39.669Z"
   },
   {
    "duration": 68,
    "start_time": "2022-12-11T01:48:39.680Z"
   },
   {
    "duration": 7,
    "start_time": "2022-12-11T01:48:39.749Z"
   },
   {
    "duration": 10,
    "start_time": "2022-12-11T01:48:39.758Z"
   },
   {
    "duration": 17,
    "start_time": "2022-12-11T01:48:39.770Z"
   },
   {
    "duration": 85,
    "start_time": "2022-12-11T01:48:39.789Z"
   },
   {
    "duration": 15,
    "start_time": "2022-12-11T01:48:39.876Z"
   },
   {
    "duration": 10,
    "start_time": "2022-12-11T01:48:39.893Z"
   },
   {
    "duration": 4,
    "start_time": "2022-12-11T01:48:39.915Z"
   },
   {
    "duration": 79,
    "start_time": "2022-12-11T01:48:39.921Z"
   },
   {
    "duration": 208,
    "start_time": "2022-12-11T01:48:40.016Z"
   },
   {
    "duration": 15,
    "start_time": "2022-12-11T01:48:40.226Z"
   },
   {
    "duration": 173,
    "start_time": "2022-12-11T01:48:40.245Z"
   },
   {
    "duration": 5,
    "start_time": "2022-12-11T01:48:40.420Z"
   },
   {
    "duration": 205,
    "start_time": "2022-12-11T01:48:40.427Z"
   },
   {
    "duration": 5,
    "start_time": "2022-12-11T01:48:40.716Z"
   },
   {
    "duration": 6,
    "start_time": "2022-12-11T01:48:40.723Z"
   },
   {
    "duration": 5,
    "start_time": "2022-12-11T01:48:40.731Z"
   },
   {
    "duration": 8,
    "start_time": "2022-12-11T01:48:40.739Z"
   },
   {
    "duration": 6,
    "start_time": "2022-12-11T01:48:40.749Z"
   },
   {
    "duration": 59,
    "start_time": "2022-12-11T01:48:40.757Z"
   },
   {
    "duration": 11,
    "start_time": "2022-12-11T01:48:40.818Z"
   },
   {
    "duration": 9,
    "start_time": "2022-12-11T01:48:40.831Z"
   },
   {
    "duration": 19,
    "start_time": "2022-12-11T01:48:40.842Z"
   },
   {
    "duration": 4,
    "start_time": "2022-12-11T01:48:40.864Z"
   },
   {
    "duration": 1997,
    "start_time": "2022-12-11T01:48:40.872Z"
   },
   {
    "duration": 4,
    "start_time": "2022-12-11T01:48:42.871Z"
   },
   {
    "duration": 1472,
    "start_time": "2022-12-11T01:48:42.876Z"
   },
   {
    "duration": 10,
    "start_time": "2022-12-11T01:48:44.350Z"
   },
   {
    "duration": 157,
    "start_time": "2022-12-11T01:48:44.362Z"
   },
   {
    "duration": 0,
    "start_time": "2022-12-11T01:48:44.522Z"
   },
   {
    "duration": 0,
    "start_time": "2022-12-11T01:48:44.523Z"
   },
   {
    "duration": 5,
    "start_time": "2022-12-11T01:52:06.033Z"
   },
   {
    "duration": 12,
    "start_time": "2022-12-11T01:52:07.376Z"
   },
   {
    "duration": 5,
    "start_time": "2022-12-11T01:52:08.342Z"
   },
   {
    "duration": 1929,
    "start_time": "2022-12-11T01:52:16.968Z"
   },
   {
    "duration": 5,
    "start_time": "2022-12-11T01:52:21.490Z"
   },
   {
    "duration": 1205,
    "start_time": "2022-12-11T01:52:22.506Z"
   },
   {
    "duration": 9,
    "start_time": "2022-12-11T01:52:23.714Z"
   },
   {
    "duration": 11,
    "start_time": "2022-12-11T01:58:29.880Z"
   },
   {
    "duration": 5,
    "start_time": "2022-12-11T01:58:36.064Z"
   },
   {
    "duration": 9,
    "start_time": "2022-12-11T01:58:36.894Z"
   },
   {
    "duration": 12,
    "start_time": "2022-12-11T01:58:38.472Z"
   },
   {
    "duration": 4,
    "start_time": "2022-12-11T01:59:07.737Z"
   },
   {
    "duration": 12,
    "start_time": "2022-12-11T01:59:09.348Z"
   },
   {
    "duration": 10,
    "start_time": "2022-12-11T01:59:21.137Z"
   },
   {
    "duration": 14,
    "start_time": "2022-12-11T01:59:31.137Z"
   },
   {
    "duration": 4,
    "start_time": "2022-12-11T01:59:38.638Z"
   },
   {
    "duration": 471,
    "start_time": "2022-12-11T01:59:38.644Z"
   },
   {
    "duration": 12,
    "start_time": "2022-12-11T01:59:39.120Z"
   },
   {
    "duration": 27,
    "start_time": "2022-12-11T01:59:39.135Z"
   },
   {
    "duration": 8,
    "start_time": "2022-12-11T01:59:39.164Z"
   },
   {
    "duration": 18,
    "start_time": "2022-12-11T01:59:39.174Z"
   },
   {
    "duration": 28,
    "start_time": "2022-12-11T01:59:39.194Z"
   },
   {
    "duration": 36,
    "start_time": "2022-12-11T01:59:39.224Z"
   },
   {
    "duration": 46,
    "start_time": "2022-12-11T01:59:39.261Z"
   },
   {
    "duration": 55,
    "start_time": "2022-12-11T01:59:39.312Z"
   },
   {
    "duration": 22,
    "start_time": "2022-12-11T01:59:39.370Z"
   },
   {
    "duration": 25,
    "start_time": "2022-12-11T01:59:39.395Z"
   },
   {
    "duration": 36,
    "start_time": "2022-12-11T01:59:39.422Z"
   },
   {
    "duration": 13,
    "start_time": "2022-12-11T01:59:39.460Z"
   },
   {
    "duration": 11,
    "start_time": "2022-12-11T01:59:39.475Z"
   },
   {
    "duration": 28,
    "start_time": "2022-12-11T01:59:39.488Z"
   },
   {
    "duration": 43,
    "start_time": "2022-12-11T01:59:39.518Z"
   },
   {
    "duration": 5,
    "start_time": "2022-12-11T01:59:39.565Z"
   },
   {
    "duration": 19,
    "start_time": "2022-12-11T01:59:39.572Z"
   },
   {
    "duration": 13,
    "start_time": "2022-12-11T01:59:39.593Z"
   },
   {
    "duration": 93,
    "start_time": "2022-12-11T01:59:39.608Z"
   },
   {
    "duration": 17,
    "start_time": "2022-12-11T01:59:39.705Z"
   },
   {
    "duration": 33,
    "start_time": "2022-12-11T01:59:39.724Z"
   },
   {
    "duration": 10,
    "start_time": "2022-12-11T01:59:39.759Z"
   },
   {
    "duration": 100,
    "start_time": "2022-12-11T01:59:39.772Z"
   },
   {
    "duration": 65,
    "start_time": "2022-12-11T01:59:39.874Z"
   },
   {
    "duration": 74,
    "start_time": "2022-12-11T01:59:39.944Z"
   },
   {
    "duration": 47,
    "start_time": "2022-12-11T01:59:40.028Z"
   },
   {
    "duration": 137,
    "start_time": "2022-12-11T01:59:40.082Z"
   },
   {
    "duration": 44,
    "start_time": "2022-12-11T01:59:40.220Z"
   },
   {
    "duration": 60,
    "start_time": "2022-12-11T01:59:40.268Z"
   },
   {
    "duration": 112,
    "start_time": "2022-12-11T01:59:40.335Z"
   },
   {
    "duration": 5,
    "start_time": "2022-12-11T01:59:40.450Z"
   },
   {
    "duration": 6,
    "start_time": "2022-12-11T01:59:40.458Z"
   },
   {
    "duration": 7,
    "start_time": "2022-12-11T01:59:40.465Z"
   },
   {
    "duration": 10,
    "start_time": "2022-12-11T01:59:40.474Z"
   },
   {
    "duration": 14,
    "start_time": "2022-12-11T01:59:40.486Z"
   },
   {
    "duration": 9,
    "start_time": "2022-12-11T01:59:40.502Z"
   },
   {
    "duration": 27,
    "start_time": "2022-12-11T01:59:40.513Z"
   },
   {
    "duration": 21,
    "start_time": "2022-12-11T01:59:40.542Z"
   },
   {
    "duration": 0,
    "start_time": "2022-12-11T01:59:40.565Z"
   },
   {
    "duration": 0,
    "start_time": "2022-12-11T01:59:40.566Z"
   },
   {
    "duration": 0,
    "start_time": "2022-12-11T01:59:40.567Z"
   },
   {
    "duration": 1,
    "start_time": "2022-12-11T01:59:40.568Z"
   },
   {
    "duration": 0,
    "start_time": "2022-12-11T01:59:40.570Z"
   },
   {
    "duration": 0,
    "start_time": "2022-12-11T01:59:40.571Z"
   },
   {
    "duration": 0,
    "start_time": "2022-12-11T01:59:40.572Z"
   },
   {
    "duration": 0,
    "start_time": "2022-12-11T01:59:40.574Z"
   },
   {
    "duration": 0,
    "start_time": "2022-12-11T01:59:40.575Z"
   },
   {
    "duration": 13,
    "start_time": "2022-12-11T01:59:54.137Z"
   },
   {
    "duration": 6,
    "start_time": "2022-12-11T01:59:55.250Z"
   },
   {
    "duration": 18,
    "start_time": "2022-12-11T02:00:13.714Z"
   },
   {
    "duration": 20,
    "start_time": "2022-12-11T02:00:42.410Z"
   },
   {
    "duration": 10,
    "start_time": "2022-12-11T02:00:54.637Z"
   },
   {
    "duration": 7,
    "start_time": "2022-12-11T02:00:56.294Z"
   },
   {
    "duration": 6,
    "start_time": "2022-12-11T02:01:51.601Z"
   },
   {
    "duration": 7,
    "start_time": "2022-12-11T02:02:29.790Z"
   },
   {
    "duration": 7,
    "start_time": "2022-12-11T02:02:53.609Z"
   },
   {
    "duration": 11,
    "start_time": "2022-12-11T02:03:19.344Z"
   },
   {
    "duration": 6,
    "start_time": "2022-12-11T02:03:23.098Z"
   },
   {
    "duration": 17,
    "start_time": "2022-12-11T02:03:27.433Z"
   },
   {
    "duration": 6,
    "start_time": "2022-12-11T02:03:28.837Z"
   },
   {
    "duration": 7,
    "start_time": "2022-12-11T02:03:51.749Z"
   },
   {
    "duration": 14,
    "start_time": "2022-12-11T02:04:35.356Z"
   },
   {
    "duration": 12,
    "start_time": "2022-12-11T02:04:44.705Z"
   },
   {
    "duration": 8,
    "start_time": "2022-12-11T02:04:51.966Z"
   },
   {
    "duration": 8,
    "start_time": "2022-12-11T02:04:52.700Z"
   },
   {
    "duration": 9,
    "start_time": "2022-12-11T02:05:13.655Z"
   },
   {
    "duration": 8,
    "start_time": "2022-12-11T02:05:14.558Z"
   },
   {
    "duration": 9,
    "start_time": "2022-12-11T02:05:24.262Z"
   },
   {
    "duration": 5,
    "start_time": "2022-12-11T02:05:48.575Z"
   },
   {
    "duration": 6,
    "start_time": "2022-12-11T02:06:35.461Z"
   },
   {
    "duration": 6,
    "start_time": "2022-12-11T02:07:32.129Z"
   },
   {
    "duration": 5,
    "start_time": "2022-12-11T02:07:57.662Z"
   },
   {
    "duration": 8,
    "start_time": "2022-12-11T02:10:57.015Z"
   },
   {
    "duration": 4,
    "start_time": "2022-12-11T02:10:57.565Z"
   },
   {
    "duration": 8,
    "start_time": "2022-12-11T02:11:09.627Z"
   },
   {
    "duration": 5,
    "start_time": "2022-12-11T02:11:10.202Z"
   },
   {
    "duration": 4,
    "start_time": "2022-12-11T02:11:27.729Z"
   },
   {
    "duration": 16,
    "start_time": "2022-12-11T02:11:34.093Z"
   },
   {
    "duration": 5,
    "start_time": "2022-12-11T02:11:34.834Z"
   },
   {
    "duration": 2051,
    "start_time": "2022-12-11T02:11:44.248Z"
   },
   {
    "duration": 6,
    "start_time": "2022-12-11T02:12:04.060Z"
   },
   {
    "duration": 1582,
    "start_time": "2022-12-11T02:12:05.198Z"
   },
   {
    "duration": 7,
    "start_time": "2022-12-11T02:12:06.782Z"
   },
   {
    "duration": 15,
    "start_time": "2022-12-11T02:12:31.625Z"
   },
   {
    "duration": 1519,
    "start_time": "2022-12-11T02:16:58.628Z"
   },
   {
    "duration": 7,
    "start_time": "2022-12-11T02:19:24.699Z"
   },
   {
    "duration": 5,
    "start_time": "2022-12-11T02:19:37.451Z"
   },
   {
    "duration": 3,
    "start_time": "2022-12-11T02:19:56.137Z"
   },
   {
    "duration": 5,
    "start_time": "2022-12-11T02:19:57.224Z"
   },
   {
    "duration": 4,
    "start_time": "2022-12-11T02:20:03.466Z"
   },
   {
    "duration": 12,
    "start_time": "2022-12-11T02:20:04.431Z"
   },
   {
    "duration": 4,
    "start_time": "2022-12-11T02:20:05.240Z"
   },
   {
    "duration": 6,
    "start_time": "2022-12-11T02:20:27.355Z"
   },
   {
    "duration": 8,
    "start_time": "2022-12-11T02:22:34.631Z"
   },
   {
    "duration": 4,
    "start_time": "2022-12-11T02:22:43.191Z"
   },
   {
    "duration": 7,
    "start_time": "2022-12-11T02:22:52.157Z"
   },
   {
    "duration": 1591,
    "start_time": "2022-12-11T04:32:55.442Z"
   },
   {
    "duration": 3,
    "start_time": "2022-12-11T04:33:12.678Z"
   },
   {
    "duration": 1444,
    "start_time": "2022-12-11T04:33:39.956Z"
   },
   {
    "duration": 4,
    "start_time": "2022-12-11T04:33:58.642Z"
   },
   {
    "duration": 1631,
    "start_time": "2022-12-11T04:34:53.795Z"
   },
   {
    "duration": 1570,
    "start_time": "2022-12-11T04:35:25.932Z"
   },
   {
    "duration": 1390,
    "start_time": "2022-12-11T04:35:29.144Z"
   },
   {
    "duration": 4,
    "start_time": "2022-12-11T04:35:44.062Z"
   },
   {
    "duration": 1546,
    "start_time": "2022-12-11T04:35:49.443Z"
   },
   {
    "duration": 4,
    "start_time": "2022-12-11T04:35:53.367Z"
   },
   {
    "duration": 4,
    "start_time": "2022-12-11T04:36:24.056Z"
   },
   {
    "duration": 1523,
    "start_time": "2022-12-11T04:37:25.564Z"
   },
   {
    "duration": 5,
    "start_time": "2022-12-11T04:37:56.148Z"
   },
   {
    "duration": 4,
    "start_time": "2022-12-11T04:38:32.028Z"
   },
   {
    "duration": 1173,
    "start_time": "2022-12-11T04:38:33.092Z"
   },
   {
    "duration": 7,
    "start_time": "2022-12-11T04:38:34.267Z"
   },
   {
    "duration": 73,
    "start_time": "2022-12-11T04:42:24.747Z"
   },
   {
    "duration": 1204,
    "start_time": "2022-12-11T04:42:42.696Z"
   },
   {
    "duration": 4,
    "start_time": "2022-12-11T04:50:16.029Z"
   },
   {
    "duration": 16,
    "start_time": "2022-12-11T04:50:16.778Z"
   },
   {
    "duration": 3,
    "start_time": "2022-12-11T04:50:27.275Z"
   },
   {
    "duration": 18,
    "start_time": "2022-12-11T04:50:27.796Z"
   },
   {
    "duration": 3,
    "start_time": "2022-12-11T04:50:35.510Z"
   },
   {
    "duration": 4,
    "start_time": "2022-12-11T04:50:49.292Z"
   },
   {
    "duration": 6,
    "start_time": "2022-12-11T04:50:50.303Z"
   },
   {
    "duration": 11,
    "start_time": "2022-12-11T04:50:51.004Z"
   },
   {
    "duration": 13,
    "start_time": "2022-12-11T04:51:22.472Z"
   },
   {
    "duration": 4,
    "start_time": "2022-12-11T04:51:24.081Z"
   },
   {
    "duration": 1351,
    "start_time": "2022-12-11T04:51:57.530Z"
   },
   {
    "duration": 1311,
    "start_time": "2022-12-11T04:52:02.489Z"
   },
   {
    "duration": 1348,
    "start_time": "2022-12-11T04:52:13.192Z"
   },
   {
    "duration": 1407,
    "start_time": "2022-12-11T04:52:23.347Z"
   },
   {
    "duration": 1151,
    "start_time": "2022-12-11T04:52:50.733Z"
   },
   {
    "duration": 7,
    "start_time": "2022-12-11T04:52:51.886Z"
   },
   {
    "duration": 4,
    "start_time": "2022-12-11T04:54:27.113Z"
   },
   {
    "duration": 7,
    "start_time": "2022-12-11T05:01:27.001Z"
   },
   {
    "duration": 4,
    "start_time": "2022-12-11T05:01:27.884Z"
   },
   {
    "duration": 5,
    "start_time": "2022-12-11T05:01:44.118Z"
   },
   {
    "duration": 4,
    "start_time": "2022-12-11T05:01:56.572Z"
   },
   {
    "duration": 4,
    "start_time": "2022-12-11T05:02:09.816Z"
   },
   {
    "duration": 4,
    "start_time": "2022-12-11T05:02:24.200Z"
   },
   {
    "duration": 7,
    "start_time": "2022-12-11T05:03:52.713Z"
   },
   {
    "duration": 5,
    "start_time": "2022-12-11T05:03:53.612Z"
   },
   {
    "duration": 7,
    "start_time": "2022-12-11T05:04:03.507Z"
   },
   {
    "duration": 4,
    "start_time": "2022-12-11T05:04:04.136Z"
   },
   {
    "duration": 6,
    "start_time": "2022-12-11T05:04:40.958Z"
   },
   {
    "duration": 5,
    "start_time": "2022-12-11T05:04:56.707Z"
   },
   {
    "duration": 9,
    "start_time": "2022-12-11T05:05:46.381Z"
   },
   {
    "duration": 8,
    "start_time": "2022-12-11T05:06:02.899Z"
   },
   {
    "duration": 7,
    "start_time": "2022-12-11T05:06:11.752Z"
   },
   {
    "duration": 8,
    "start_time": "2022-12-11T05:06:17.748Z"
   },
   {
    "duration": 8,
    "start_time": "2022-12-11T05:06:34.323Z"
   },
   {
    "duration": 9,
    "start_time": "2022-12-11T05:06:40.697Z"
   },
   {
    "duration": 8,
    "start_time": "2022-12-11T05:06:58.633Z"
   },
   {
    "duration": 8,
    "start_time": "2022-12-11T05:07:03.900Z"
   },
   {
    "duration": 9,
    "start_time": "2022-12-11T05:07:09.123Z"
   },
   {
    "duration": 11,
    "start_time": "2022-12-11T05:07:17.402Z"
   },
   {
    "duration": 8,
    "start_time": "2022-12-11T05:07:22.447Z"
   },
   {
    "duration": 8,
    "start_time": "2022-12-11T05:07:26.025Z"
   },
   {
    "duration": 8,
    "start_time": "2022-12-11T05:07:55.021Z"
   },
   {
    "duration": 8,
    "start_time": "2022-12-11T05:08:07.667Z"
   },
   {
    "duration": 9,
    "start_time": "2022-12-11T05:08:16.665Z"
   },
   {
    "duration": 8,
    "start_time": "2022-12-11T05:08:20.434Z"
   },
   {
    "duration": 401,
    "start_time": "2022-12-11T05:08:38.612Z"
   },
   {
    "duration": 8,
    "start_time": "2022-12-11T05:08:42.952Z"
   },
   {
    "duration": 8,
    "start_time": "2022-12-11T05:08:55.562Z"
   },
   {
    "duration": 8,
    "start_time": "2022-12-11T05:09:00.437Z"
   },
   {
    "duration": 3,
    "start_time": "2022-12-11T08:28:45.029Z"
   },
   {
    "duration": 8,
    "start_time": "2022-12-11T08:28:45.636Z"
   },
   {
    "duration": 8,
    "start_time": "2022-12-11T08:28:46.206Z"
   },
   {
    "duration": 4,
    "start_time": "2022-12-11T08:48:43.693Z"
   },
   {
    "duration": 19,
    "start_time": "2022-12-11T08:48:44.432Z"
   },
   {
    "duration": 3,
    "start_time": "2022-12-11T08:49:08.439Z"
   },
   {
    "duration": 8,
    "start_time": "2022-12-11T08:49:09.055Z"
   },
   {
    "duration": 3,
    "start_time": "2022-12-11T08:49:17.506Z"
   },
   {
    "duration": 4,
    "start_time": "2022-12-11T08:49:55.122Z"
   },
   {
    "duration": 8,
    "start_time": "2022-12-11T08:50:01.547Z"
   },
   {
    "duration": 4,
    "start_time": "2022-12-11T08:50:12.950Z"
   },
   {
    "duration": 20,
    "start_time": "2022-12-11T08:50:13.570Z"
   },
   {
    "duration": 8,
    "start_time": "2022-12-11T08:50:44.324Z"
   },
   {
    "duration": 13,
    "start_time": "2022-12-11T08:51:19.209Z"
   },
   {
    "duration": 4,
    "start_time": "2022-12-11T08:51:20.418Z"
   },
   {
    "duration": 3,
    "start_time": "2022-12-11T08:51:21.871Z"
   },
   {
    "duration": 3,
    "start_time": "2022-12-11T08:51:26.481Z"
   },
   {
    "duration": 4,
    "start_time": "2022-12-11T08:52:00.158Z"
   },
   {
    "duration": 14,
    "start_time": "2022-12-11T08:52:00.817Z"
   },
   {
    "duration": 3,
    "start_time": "2022-12-11T08:52:01.438Z"
   },
   {
    "duration": 3,
    "start_time": "2022-12-11T08:52:02.159Z"
   },
   {
    "duration": 3,
    "start_time": "2022-12-11T08:52:44.761Z"
   },
   {
    "duration": 13,
    "start_time": "2022-12-11T08:53:21.388Z"
   },
   {
    "duration": 7,
    "start_time": "2022-12-11T08:53:51.312Z"
   },
   {
    "duration": 4,
    "start_time": "2022-12-11T08:53:52.305Z"
   },
   {
    "duration": 4,
    "start_time": "2022-12-11T08:54:14.758Z"
   },
   {
    "duration": 4,
    "start_time": "2022-12-11T08:54:29.327Z"
   },
   {
    "duration": 4,
    "start_time": "2022-12-11T08:56:59.930Z"
   },
   {
    "duration": 4,
    "start_time": "2022-12-11T08:58:48.950Z"
   },
   {
    "duration": 13,
    "start_time": "2022-12-11T08:58:49.633Z"
   },
   {
    "duration": 19,
    "start_time": "2022-12-11T09:00:48.020Z"
   },
   {
    "duration": 5,
    "start_time": "2022-12-11T09:02:55.710Z"
   },
   {
    "duration": 4,
    "start_time": "2022-12-11T09:05:14.262Z"
   },
   {
    "duration": 12,
    "start_time": "2022-12-11T09:05:14.855Z"
   },
   {
    "duration": 14,
    "start_time": "2022-12-11T09:05:47.917Z"
   },
   {
    "duration": 6,
    "start_time": "2022-12-11T09:08:06.388Z"
   },
   {
    "duration": 8669,
    "start_time": "2022-12-11T09:08:15.929Z"
   },
   {
    "duration": 4,
    "start_time": "2022-12-11T09:08:24.600Z"
   },
   {
    "duration": 4,
    "start_time": "2022-12-11T09:08:26.670Z"
   },
   {
    "duration": 398,
    "start_time": "2022-12-11T09:08:26.676Z"
   },
   {
    "duration": 8,
    "start_time": "2022-12-11T09:08:27.076Z"
   },
   {
    "duration": 18,
    "start_time": "2022-12-11T09:08:27.085Z"
   },
   {
    "duration": 9,
    "start_time": "2022-12-11T09:08:27.116Z"
   },
   {
    "duration": 19,
    "start_time": "2022-12-11T09:08:27.126Z"
   },
   {
    "duration": 8,
    "start_time": "2022-12-11T09:08:27.146Z"
   },
   {
    "duration": 27,
    "start_time": "2022-12-11T09:08:27.155Z"
   },
   {
    "duration": 68,
    "start_time": "2022-12-11T09:08:27.184Z"
   },
   {
    "duration": 37,
    "start_time": "2022-12-11T09:08:27.254Z"
   },
   {
    "duration": 27,
    "start_time": "2022-12-11T09:08:27.292Z"
   },
   {
    "duration": 15,
    "start_time": "2022-12-11T09:08:27.321Z"
   },
   {
    "duration": 15,
    "start_time": "2022-12-11T09:08:27.338Z"
   },
   {
    "duration": 13,
    "start_time": "2022-12-11T09:08:27.355Z"
   },
   {
    "duration": 9,
    "start_time": "2022-12-11T09:08:27.370Z"
   },
   {
    "duration": 35,
    "start_time": "2022-12-11T09:08:27.381Z"
   },
   {
    "duration": 28,
    "start_time": "2022-12-11T09:08:27.418Z"
   },
   {
    "duration": 3,
    "start_time": "2022-12-11T09:08:27.448Z"
   },
   {
    "duration": 7,
    "start_time": "2022-12-11T09:08:27.453Z"
   },
   {
    "duration": 6,
    "start_time": "2022-12-11T09:08:27.461Z"
   },
   {
    "duration": 72,
    "start_time": "2022-12-11T09:08:27.468Z"
   },
   {
    "duration": 12,
    "start_time": "2022-12-11T09:08:27.542Z"
   },
   {
    "duration": 11,
    "start_time": "2022-12-11T09:08:27.555Z"
   },
   {
    "duration": 6,
    "start_time": "2022-12-11T09:08:27.567Z"
   },
   {
    "duration": 93,
    "start_time": "2022-12-11T09:08:27.575Z"
   },
   {
    "duration": 53,
    "start_time": "2022-12-11T09:08:27.670Z"
   },
   {
    "duration": 95,
    "start_time": "2022-12-11T09:08:27.725Z"
   },
   {
    "duration": 97,
    "start_time": "2022-12-11T09:08:27.822Z"
   },
   {
    "duration": 94,
    "start_time": "2022-12-11T09:08:27.922Z"
   },
   {
    "duration": 21,
    "start_time": "2022-12-11T09:08:28.018Z"
   },
   {
    "duration": 89,
    "start_time": "2022-12-11T09:08:28.041Z"
   },
   {
    "duration": 3,
    "start_time": "2022-12-11T09:08:28.219Z"
   },
   {
    "duration": 21,
    "start_time": "2022-12-11T09:08:28.226Z"
   },
   {
    "duration": 11,
    "start_time": "2022-12-11T09:08:28.249Z"
   },
   {
    "duration": 11,
    "start_time": "2022-12-11T09:08:28.261Z"
   },
   {
    "duration": 8,
    "start_time": "2022-12-11T09:08:28.274Z"
   },
   {
    "duration": 16,
    "start_time": "2022-12-11T09:08:28.285Z"
   },
   {
    "duration": 6,
    "start_time": "2022-12-11T09:08:28.303Z"
   },
   {
    "duration": 6,
    "start_time": "2022-12-11T09:08:28.311Z"
   },
   {
    "duration": 18,
    "start_time": "2022-12-11T09:08:28.318Z"
   },
   {
    "duration": 8,
    "start_time": "2022-12-11T09:08:28.338Z"
   },
   {
    "duration": 20,
    "start_time": "2022-12-11T09:08:28.347Z"
   },
   {
    "duration": 0,
    "start_time": "2022-12-11T09:08:28.368Z"
   },
   {
    "duration": 0,
    "start_time": "2022-12-11T09:08:28.370Z"
   },
   {
    "duration": 0,
    "start_time": "2022-12-11T09:08:28.371Z"
   },
   {
    "duration": 0,
    "start_time": "2022-12-11T09:08:28.372Z"
   },
   {
    "duration": 0,
    "start_time": "2022-12-11T09:08:28.373Z"
   },
   {
    "duration": 0,
    "start_time": "2022-12-11T09:08:28.375Z"
   },
   {
    "duration": 0,
    "start_time": "2022-12-11T09:08:28.375Z"
   },
   {
    "duration": 0,
    "start_time": "2022-12-11T09:08:28.377Z"
   },
   {
    "duration": 0,
    "start_time": "2022-12-11T09:08:28.378Z"
   },
   {
    "duration": 0,
    "start_time": "2022-12-11T09:08:28.379Z"
   },
   {
    "duration": 4,
    "start_time": "2022-12-11T09:08:41.102Z"
   },
   {
    "duration": 12,
    "start_time": "2022-12-11T09:08:44.381Z"
   },
   {
    "duration": 0,
    "start_time": "2022-12-11T09:08:44.395Z"
   },
   {
    "duration": 0,
    "start_time": "2022-12-11T09:08:44.396Z"
   },
   {
    "duration": 0,
    "start_time": "2022-12-11T09:08:44.397Z"
   },
   {
    "duration": 0,
    "start_time": "2022-12-11T09:08:44.398Z"
   },
   {
    "duration": 0,
    "start_time": "2022-12-11T09:08:44.399Z"
   },
   {
    "duration": 0,
    "start_time": "2022-12-11T09:08:44.400Z"
   },
   {
    "duration": 0,
    "start_time": "2022-12-11T09:08:44.401Z"
   },
   {
    "duration": 0,
    "start_time": "2022-12-11T09:08:44.403Z"
   },
   {
    "duration": 4,
    "start_time": "2022-12-11T09:09:00.338Z"
   },
   {
    "duration": 33,
    "start_time": "2022-12-11T09:09:00.344Z"
   },
   {
    "duration": 0,
    "start_time": "2022-12-11T09:09:00.379Z"
   },
   {
    "duration": 0,
    "start_time": "2022-12-11T09:09:00.381Z"
   },
   {
    "duration": 0,
    "start_time": "2022-12-11T09:09:00.382Z"
   },
   {
    "duration": 0,
    "start_time": "2022-12-11T09:09:00.383Z"
   },
   {
    "duration": 0,
    "start_time": "2022-12-11T09:09:00.384Z"
   },
   {
    "duration": 0,
    "start_time": "2022-12-11T09:09:00.385Z"
   },
   {
    "duration": 8,
    "start_time": "2022-12-11T09:10:13.063Z"
   },
   {
    "duration": 6,
    "start_time": "2022-12-11T09:10:13.073Z"
   },
   {
    "duration": 8751,
    "start_time": "2022-12-11T09:10:13.080Z"
   },
   {
    "duration": 12,
    "start_time": "2022-12-11T09:10:21.832Z"
   },
   {
    "duration": 0,
    "start_time": "2022-12-11T09:10:21.846Z"
   },
   {
    "duration": 0,
    "start_time": "2022-12-11T09:10:21.847Z"
   },
   {
    "duration": 8,
    "start_time": "2022-12-11T09:10:38.473Z"
   },
   {
    "duration": 4,
    "start_time": "2022-12-11T09:18:09.057Z"
   },
   {
    "duration": 13,
    "start_time": "2022-12-11T09:18:09.673Z"
   },
   {
    "duration": 4,
    "start_time": "2022-12-11T09:18:10.317Z"
   },
   {
    "duration": 6,
    "start_time": "2022-12-11T09:21:52.371Z"
   },
   {
    "duration": 4,
    "start_time": "2022-12-11T09:22:01.295Z"
   },
   {
    "duration": 11,
    "start_time": "2022-12-11T09:26:37.907Z"
   },
   {
    "duration": 5,
    "start_time": "2022-12-11T09:27:32.265Z"
   },
   {
    "duration": 5,
    "start_time": "2022-12-11T09:27:44.705Z"
   },
   {
    "duration": 7,
    "start_time": "2022-12-11T09:28:22.410Z"
   },
   {
    "duration": 4,
    "start_time": "2022-12-11T09:28:27.989Z"
   },
   {
    "duration": 4,
    "start_time": "2022-12-11T09:28:30.556Z"
   },
   {
    "duration": 5,
    "start_time": "2022-12-11T09:29:34.133Z"
   },
   {
    "duration": 3911,
    "start_time": "2022-12-11T09:29:34.716Z"
   },
   {
    "duration": 5,
    "start_time": "2022-12-11T09:29:57.237Z"
   },
   {
    "duration": 4,
    "start_time": "2022-12-11T09:31:13.846Z"
   },
   {
    "duration": 14,
    "start_time": "2022-12-11T09:31:14.472Z"
   },
   {
    "duration": 4,
    "start_time": "2022-12-11T09:31:35.142Z"
   },
   {
    "duration": 3870,
    "start_time": "2022-12-11T09:31:35.856Z"
   },
   {
    "duration": 3,
    "start_time": "2022-12-11T09:34:08.587Z"
   },
   {
    "duration": 14,
    "start_time": "2022-12-11T09:34:09.118Z"
   },
   {
    "duration": 5,
    "start_time": "2022-12-11T09:34:09.648Z"
   },
   {
    "duration": 5,
    "start_time": "2022-12-11T09:34:55.675Z"
   },
   {
    "duration": 3946,
    "start_time": "2022-12-11T09:34:56.344Z"
   },
   {
    "duration": 4,
    "start_time": "2022-12-11T09:35:12.676Z"
   },
   {
    "duration": 4,
    "start_time": "2022-12-11T09:35:18.655Z"
   },
   {
    "duration": 5096,
    "start_time": "2022-12-11T09:35:19.152Z"
   },
   {
    "duration": 4,
    "start_time": "2022-12-11T10:05:20.724Z"
   },
   {
    "duration": 17,
    "start_time": "2022-12-11T10:05:22.664Z"
   },
   {
    "duration": 1565,
    "start_time": "2022-12-11T13:56:31.110Z"
   },
   {
    "duration": 665,
    "start_time": "2022-12-11T13:56:32.677Z"
   },
   {
    "duration": 12,
    "start_time": "2022-12-11T13:56:33.344Z"
   },
   {
    "duration": 22,
    "start_time": "2022-12-11T13:56:33.357Z"
   },
   {
    "duration": 8,
    "start_time": "2022-12-11T13:56:33.381Z"
   },
   {
    "duration": 15,
    "start_time": "2022-12-11T13:56:33.390Z"
   },
   {
    "duration": 9,
    "start_time": "2022-12-11T13:56:33.407Z"
   },
   {
    "duration": 19,
    "start_time": "2022-12-11T13:56:33.418Z"
   },
   {
    "duration": 45,
    "start_time": "2022-12-11T13:56:33.439Z"
   },
   {
    "duration": 65,
    "start_time": "2022-12-11T13:56:33.485Z"
   },
   {
    "duration": 14,
    "start_time": "2022-12-11T13:56:33.551Z"
   },
   {
    "duration": 6,
    "start_time": "2022-12-11T13:56:33.566Z"
   },
   {
    "duration": 12,
    "start_time": "2022-12-11T13:56:33.573Z"
   },
   {
    "duration": 37,
    "start_time": "2022-12-11T13:56:33.589Z"
   },
   {
    "duration": 10,
    "start_time": "2022-12-11T13:56:33.627Z"
   },
   {
    "duration": 11,
    "start_time": "2022-12-11T13:56:33.639Z"
   },
   {
    "duration": 28,
    "start_time": "2022-12-11T13:56:33.652Z"
   },
   {
    "duration": 4,
    "start_time": "2022-12-11T13:56:33.681Z"
   },
   {
    "duration": 9,
    "start_time": "2022-12-11T13:56:33.687Z"
   },
   {
    "duration": 16,
    "start_time": "2022-12-11T13:56:33.716Z"
   },
   {
    "duration": 50,
    "start_time": "2022-12-11T13:56:33.733Z"
   },
   {
    "duration": 12,
    "start_time": "2022-12-11T13:56:33.785Z"
   },
   {
    "duration": 12,
    "start_time": "2022-12-11T13:56:33.798Z"
   },
   {
    "duration": 14,
    "start_time": "2022-12-11T13:56:33.811Z"
   },
   {
    "duration": 99,
    "start_time": "2022-12-11T13:56:33.827Z"
   },
   {
    "duration": 195,
    "start_time": "2022-12-11T13:56:33.927Z"
   },
   {
    "duration": 14,
    "start_time": "2022-12-11T13:56:34.125Z"
   },
   {
    "duration": 87,
    "start_time": "2022-12-11T13:56:34.142Z"
   },
   {
    "duration": 83,
    "start_time": "2022-12-11T13:56:34.233Z"
   },
   {
    "duration": 34,
    "start_time": "2022-12-11T13:56:34.323Z"
   },
   {
    "duration": 178,
    "start_time": "2022-12-11T13:56:34.359Z"
   },
   {
    "duration": 10,
    "start_time": "2022-12-11T13:56:34.539Z"
   },
   {
    "duration": 9,
    "start_time": "2022-12-11T13:56:34.550Z"
   },
   {
    "duration": 8,
    "start_time": "2022-12-11T13:56:34.561Z"
   },
   {
    "duration": 6,
    "start_time": "2022-12-11T13:56:34.571Z"
   },
   {
    "duration": 8,
    "start_time": "2022-12-11T13:56:34.578Z"
   },
   {
    "duration": 19,
    "start_time": "2022-12-11T13:56:34.587Z"
   },
   {
    "duration": 20,
    "start_time": "2022-12-11T13:56:34.608Z"
   },
   {
    "duration": 121,
    "start_time": "2022-12-11T13:56:34.629Z"
   },
   {
    "duration": 0,
    "start_time": "2022-12-11T13:56:34.752Z"
   },
   {
    "duration": 0,
    "start_time": "2022-12-11T13:56:34.753Z"
   },
   {
    "duration": 0,
    "start_time": "2022-12-11T13:56:34.754Z"
   },
   {
    "duration": 0,
    "start_time": "2022-12-11T13:56:34.755Z"
   },
   {
    "duration": 0,
    "start_time": "2022-12-11T13:56:34.756Z"
   },
   {
    "duration": 0,
    "start_time": "2022-12-11T13:56:34.757Z"
   },
   {
    "duration": 0,
    "start_time": "2022-12-11T13:56:34.758Z"
   },
   {
    "duration": 0,
    "start_time": "2022-12-11T13:56:34.760Z"
   },
   {
    "duration": 0,
    "start_time": "2022-12-11T13:56:34.762Z"
   },
   {
    "duration": 0,
    "start_time": "2022-12-11T13:56:34.763Z"
   },
   {
    "duration": 0,
    "start_time": "2022-12-11T13:56:34.764Z"
   },
   {
    "duration": 22,
    "start_time": "2022-12-11T13:57:14.555Z"
   },
   {
    "duration": 4,
    "start_time": "2022-12-11T13:57:15.590Z"
   },
   {
    "duration": 5,
    "start_time": "2022-12-11T13:57:17.727Z"
   },
   {
    "duration": 8,
    "start_time": "2022-12-11T13:57:19.301Z"
   },
   {
    "duration": 8,
    "start_time": "2022-12-11T13:57:27.314Z"
   },
   {
    "duration": 8,
    "start_time": "2022-12-11T13:57:28.874Z"
   },
   {
    "duration": 11728,
    "start_time": "2022-12-11T13:57:30.107Z"
   },
   {
    "duration": 11725,
    "start_time": "2022-12-11T13:58:12.646Z"
   },
   {
    "duration": 4,
    "start_time": "2022-12-11T13:59:03.634Z"
   },
   {
    "duration": 19,
    "start_time": "2022-12-11T13:59:06.353Z"
   },
   {
    "duration": 4,
    "start_time": "2022-12-11T14:09:17.637Z"
   },
   {
    "duration": 4,
    "start_time": "2022-12-11T14:12:38.732Z"
   },
   {
    "duration": 9,
    "start_time": "2022-12-11T14:13:02.205Z"
   },
   {
    "duration": 5,
    "start_time": "2022-12-11T14:13:06.069Z"
   },
   {
    "duration": 10,
    "start_time": "2022-12-11T14:13:06.710Z"
   },
   {
    "duration": 17,
    "start_time": "2022-12-11T14:15:05.710Z"
   },
   {
    "duration": 16,
    "start_time": "2022-12-11T14:15:35.105Z"
   },
   {
    "duration": 5,
    "start_time": "2022-12-11T14:15:47.305Z"
   },
   {
    "duration": 421,
    "start_time": "2022-12-11T14:15:47.312Z"
   },
   {
    "duration": 10,
    "start_time": "2022-12-11T14:15:47.735Z"
   },
   {
    "duration": 21,
    "start_time": "2022-12-11T14:15:47.747Z"
   },
   {
    "duration": 8,
    "start_time": "2022-12-11T14:15:47.771Z"
   },
   {
    "duration": 35,
    "start_time": "2022-12-11T14:15:47.781Z"
   },
   {
    "duration": 14,
    "start_time": "2022-12-11T14:15:47.818Z"
   },
   {
    "duration": 23,
    "start_time": "2022-12-11T14:15:47.834Z"
   },
   {
    "duration": 41,
    "start_time": "2022-12-11T14:15:47.859Z"
   },
   {
    "duration": 49,
    "start_time": "2022-12-11T14:15:47.917Z"
   },
   {
    "duration": 20,
    "start_time": "2022-12-11T14:15:47.967Z"
   },
   {
    "duration": 12,
    "start_time": "2022-12-11T14:15:47.989Z"
   },
   {
    "duration": 17,
    "start_time": "2022-12-11T14:15:48.019Z"
   },
   {
    "duration": 33,
    "start_time": "2022-12-11T14:15:48.037Z"
   },
   {
    "duration": 15,
    "start_time": "2022-12-11T14:15:48.071Z"
   },
   {
    "duration": 11,
    "start_time": "2022-12-11T14:15:48.087Z"
   },
   {
    "duration": 30,
    "start_time": "2022-12-11T14:15:48.099Z"
   },
   {
    "duration": 6,
    "start_time": "2022-12-11T14:15:48.131Z"
   },
   {
    "duration": 7,
    "start_time": "2022-12-11T14:15:48.142Z"
   },
   {
    "duration": 5,
    "start_time": "2022-12-11T14:15:48.151Z"
   },
   {
    "duration": 46,
    "start_time": "2022-12-11T14:15:48.157Z"
   },
   {
    "duration": 15,
    "start_time": "2022-12-11T14:15:48.215Z"
   },
   {
    "duration": 13,
    "start_time": "2022-12-11T14:15:48.232Z"
   },
   {
    "duration": 9,
    "start_time": "2022-12-11T14:15:48.247Z"
   },
   {
    "duration": 86,
    "start_time": "2022-12-11T14:15:48.257Z"
   },
   {
    "duration": 76,
    "start_time": "2022-12-11T14:15:48.345Z"
   },
   {
    "duration": 4,
    "start_time": "2022-12-11T14:15:48.425Z"
   },
   {
    "duration": 34,
    "start_time": "2022-12-11T14:15:48.515Z"
   },
   {
    "duration": 76,
    "start_time": "2022-12-11T14:15:48.551Z"
   },
   {
    "duration": 188,
    "start_time": "2022-12-11T14:15:48.633Z"
   },
   {
    "duration": 7,
    "start_time": "2022-12-11T14:15:48.823Z"
   },
   {
    "duration": 85,
    "start_time": "2022-12-11T14:15:48.835Z"
   },
   {
    "duration": 15,
    "start_time": "2022-12-11T14:15:48.923Z"
   },
   {
    "duration": 7,
    "start_time": "2022-12-11T14:15:48.940Z"
   },
   {
    "duration": 6,
    "start_time": "2022-12-11T14:15:48.948Z"
   },
   {
    "duration": 9,
    "start_time": "2022-12-11T14:15:48.955Z"
   },
   {
    "duration": 10,
    "start_time": "2022-12-11T14:15:48.968Z"
   },
   {
    "duration": 5,
    "start_time": "2022-12-11T14:15:48.980Z"
   },
   {
    "duration": 34,
    "start_time": "2022-12-11T14:15:48.987Z"
   },
   {
    "duration": 11,
    "start_time": "2022-12-11T14:15:49.023Z"
   },
   {
    "duration": 9,
    "start_time": "2022-12-11T14:15:49.036Z"
   },
   {
    "duration": 12234,
    "start_time": "2022-12-11T14:15:49.047Z"
   },
   {
    "duration": 7,
    "start_time": "2022-12-11T14:16:01.282Z"
   },
   {
    "duration": 7,
    "start_time": "2022-12-11T14:16:01.291Z"
   },
   {
    "duration": 28,
    "start_time": "2022-12-11T14:16:01.300Z"
   },
   {
    "duration": 0,
    "start_time": "2022-12-11T14:16:01.331Z"
   },
   {
    "duration": 0,
    "start_time": "2022-12-11T14:16:01.332Z"
   },
   {
    "duration": 0,
    "start_time": "2022-12-11T14:16:01.333Z"
   },
   {
    "duration": 0,
    "start_time": "2022-12-11T14:16:01.335Z"
   },
   {
    "duration": 0,
    "start_time": "2022-12-11T14:16:01.336Z"
   },
   {
    "duration": 4,
    "start_time": "2022-12-11T14:16:13.204Z"
   },
   {
    "duration": 14,
    "start_time": "2022-12-11T14:16:22.857Z"
   },
   {
    "duration": 1500,
    "start_time": "2022-12-12T02:01:55.350Z"
   },
   {
    "duration": 607,
    "start_time": "2022-12-12T02:01:56.852Z"
   },
   {
    "duration": 11,
    "start_time": "2022-12-12T02:01:57.461Z"
   },
   {
    "duration": 16,
    "start_time": "2022-12-12T02:01:57.474Z"
   },
   {
    "duration": 7,
    "start_time": "2022-12-12T02:01:57.493Z"
   },
   {
    "duration": 19,
    "start_time": "2022-12-12T02:01:57.502Z"
   },
   {
    "duration": 8,
    "start_time": "2022-12-12T02:01:57.523Z"
   },
   {
    "duration": 16,
    "start_time": "2022-12-12T02:01:57.532Z"
   },
   {
    "duration": 43,
    "start_time": "2022-12-12T02:01:57.549Z"
   },
   {
    "duration": 60,
    "start_time": "2022-12-12T02:01:57.594Z"
   },
   {
    "duration": 13,
    "start_time": "2022-12-12T02:01:57.655Z"
   },
   {
    "duration": 8,
    "start_time": "2022-12-12T02:01:57.669Z"
   },
   {
    "duration": 11,
    "start_time": "2022-12-12T02:01:57.678Z"
   },
   {
    "duration": 9,
    "start_time": "2022-12-12T02:01:57.715Z"
   },
   {
    "duration": 8,
    "start_time": "2022-12-12T02:01:57.725Z"
   },
   {
    "duration": 8,
    "start_time": "2022-12-12T02:01:57.735Z"
   },
   {
    "duration": 25,
    "start_time": "2022-12-12T02:01:57.745Z"
   },
   {
    "duration": 3,
    "start_time": "2022-12-12T02:01:57.772Z"
   },
   {
    "duration": 9,
    "start_time": "2022-12-12T02:01:57.777Z"
   },
   {
    "duration": 3,
    "start_time": "2022-12-12T02:01:57.815Z"
   },
   {
    "duration": 48,
    "start_time": "2022-12-12T02:01:57.820Z"
   },
   {
    "duration": 11,
    "start_time": "2022-12-12T02:01:57.870Z"
   },
   {
    "duration": 11,
    "start_time": "2022-12-12T02:01:57.883Z"
   },
   {
    "duration": 6,
    "start_time": "2022-12-12T02:01:57.896Z"
   },
   {
    "duration": 94,
    "start_time": "2022-12-12T02:01:57.903Z"
   },
   {
    "duration": 219,
    "start_time": "2022-12-12T02:01:57.998Z"
   },
   {
    "duration": 3,
    "start_time": "2022-12-12T02:01:58.219Z"
   },
   {
    "duration": 93,
    "start_time": "2022-12-12T02:01:58.224Z"
   },
   {
    "duration": 92,
    "start_time": "2022-12-12T02:01:58.324Z"
   },
   {
    "duration": 29,
    "start_time": "2022-12-12T02:01:58.417Z"
   },
   {
    "duration": 99,
    "start_time": "2022-12-12T02:01:58.517Z"
   },
   {
    "duration": 9,
    "start_time": "2022-12-12T02:01:58.617Z"
   },
   {
    "duration": 59,
    "start_time": "2022-12-12T02:01:58.627Z"
   },
   {
    "duration": 8,
    "start_time": "2022-12-12T02:01:58.688Z"
   },
   {
    "duration": 8,
    "start_time": "2022-12-12T02:01:58.698Z"
   },
   {
    "duration": 9,
    "start_time": "2022-12-12T02:01:58.707Z"
   },
   {
    "duration": 15,
    "start_time": "2022-12-12T02:01:58.717Z"
   },
   {
    "duration": 10,
    "start_time": "2022-12-12T02:01:58.733Z"
   },
   {
    "duration": 20,
    "start_time": "2022-12-12T02:01:58.744Z"
   },
   {
    "duration": 3,
    "start_time": "2022-12-12T02:01:58.766Z"
   },
   {
    "duration": 4,
    "start_time": "2022-12-12T02:01:58.773Z"
   },
   {
    "duration": 11209,
    "start_time": "2022-12-12T02:01:58.778Z"
   },
   {
    "duration": 8,
    "start_time": "2022-12-12T02:02:09.988Z"
   },
   {
    "duration": 122,
    "start_time": "2022-12-12T02:02:10.006Z"
   },
   {
    "duration": 0,
    "start_time": "2022-12-12T02:02:10.129Z"
   },
   {
    "duration": 0,
    "start_time": "2022-12-12T02:02:10.131Z"
   },
   {
    "duration": 0,
    "start_time": "2022-12-12T02:02:10.132Z"
   },
   {
    "duration": 0,
    "start_time": "2022-12-12T02:02:10.133Z"
   },
   {
    "duration": 0,
    "start_time": "2022-12-12T02:02:10.134Z"
   },
   {
    "duration": 0,
    "start_time": "2022-12-12T02:02:10.136Z"
   },
   {
    "duration": 0,
    "start_time": "2022-12-12T02:02:10.137Z"
   },
   {
    "duration": 0,
    "start_time": "2022-12-12T02:02:10.138Z"
   },
   {
    "duration": 5,
    "start_time": "2022-12-12T02:03:40.191Z"
   },
   {
    "duration": 13,
    "start_time": "2022-12-12T02:03:41.221Z"
   },
   {
    "duration": 4,
    "start_time": "2022-12-12T02:07:39.460Z"
   },
   {
    "duration": 2276,
    "start_time": "2022-12-12T02:07:40.408Z"
   },
   {
    "duration": 4,
    "start_time": "2022-12-12T02:08:07.770Z"
   },
   {
    "duration": 2217,
    "start_time": "2022-12-12T02:08:09.029Z"
   },
   {
    "duration": 2344,
    "start_time": "2022-12-12T02:08:30.329Z"
   },
   {
    "duration": 7045,
    "start_time": "2022-12-12T02:09:31.074Z"
   },
   {
    "duration": 7,
    "start_time": "2022-12-12T02:09:53.827Z"
   },
   {
    "duration": 42,
    "start_time": "2022-12-12T02:12:33.053Z"
   },
   {
    "duration": 47,
    "start_time": "2022-12-12T02:20:47.082Z"
   },
   {
    "duration": 42,
    "start_time": "2022-12-12T02:21:07.655Z"
   },
   {
    "duration": 45,
    "start_time": "2022-12-12T02:22:39.705Z"
   },
   {
    "duration": 10,
    "start_time": "2022-12-12T02:22:40.469Z"
   },
   {
    "duration": 40,
    "start_time": "2022-12-12T02:24:29.233Z"
   },
   {
    "duration": 66,
    "start_time": "2022-12-12T02:24:46.342Z"
   },
   {
    "duration": 71,
    "start_time": "2022-12-12T02:25:37.372Z"
   },
   {
    "duration": 6,
    "start_time": "2022-12-12T02:25:41.979Z"
   },
   {
    "duration": 61,
    "start_time": "2022-12-12T02:25:57.804Z"
   },
   {
    "duration": 49,
    "start_time": "2022-12-12T02:33:44.146Z"
   },
   {
    "duration": 4,
    "start_time": "2022-12-12T02:37:32.236Z"
   },
   {
    "duration": 51,
    "start_time": "2022-12-12T02:37:33.302Z"
   },
   {
    "duration": 7,
    "start_time": "2022-12-12T02:37:34.604Z"
   },
   {
    "duration": 57,
    "start_time": "2022-12-12T02:39:38.527Z"
   },
   {
    "duration": 7,
    "start_time": "2022-12-12T02:39:39.332Z"
   },
   {
    "duration": 4,
    "start_time": "2022-12-12T02:43:53.060Z"
   },
   {
    "duration": 49,
    "start_time": "2022-12-12T02:43:54.356Z"
   },
   {
    "duration": 7,
    "start_time": "2022-12-12T02:43:55.335Z"
   },
   {
    "duration": 3,
    "start_time": "2022-12-12T02:44:11.220Z"
   },
   {
    "duration": 15,
    "start_time": "2022-12-12T02:44:11.854Z"
   },
   {
    "duration": 4,
    "start_time": "2022-12-12T02:44:12.411Z"
   },
   {
    "duration": 52,
    "start_time": "2022-12-12T02:44:45.485Z"
   },
   {
    "duration": 4,
    "start_time": "2022-12-12T02:45:19.412Z"
   },
   {
    "duration": 3747,
    "start_time": "2022-12-12T02:45:25.675Z"
   },
   {
    "duration": 0,
    "start_time": "2022-12-12T02:45:29.423Z"
   },
   {
    "duration": 6,
    "start_time": "2022-12-12T02:45:34.871Z"
   },
   {
    "duration": 8,
    "start_time": "2022-12-12T02:52:34.747Z"
   },
   {
    "duration": 3779,
    "start_time": "2022-12-12T02:55:25.228Z"
   },
   {
    "duration": 7,
    "start_time": "2022-12-12T02:55:29.009Z"
   },
   {
    "duration": 73,
    "start_time": "2022-12-14T10:57:12.190Z"
   },
   {
    "duration": 1603,
    "start_time": "2022-12-14T10:57:22.982Z"
   },
   {
    "duration": 774,
    "start_time": "2022-12-14T10:57:24.587Z"
   },
   {
    "duration": 14,
    "start_time": "2022-12-14T10:57:25.363Z"
   },
   {
    "duration": 22,
    "start_time": "2022-12-14T10:57:25.379Z"
   },
   {
    "duration": 8,
    "start_time": "2022-12-14T10:57:25.403Z"
   },
   {
    "duration": 28,
    "start_time": "2022-12-14T10:57:25.413Z"
   },
   {
    "duration": 17,
    "start_time": "2022-12-14T10:57:25.446Z"
   },
   {
    "duration": 21,
    "start_time": "2022-12-14T10:57:25.465Z"
   },
   {
    "duration": 54,
    "start_time": "2022-12-14T10:57:25.487Z"
   },
   {
    "duration": 48,
    "start_time": "2022-12-14T10:57:25.553Z"
   },
   {
    "duration": 14,
    "start_time": "2022-12-14T10:57:25.603Z"
   },
   {
    "duration": 13,
    "start_time": "2022-12-14T10:57:25.619Z"
   },
   {
    "duration": 40,
    "start_time": "2022-12-14T10:57:25.633Z"
   },
   {
    "duration": 36,
    "start_time": "2022-12-14T10:57:25.675Z"
   },
   {
    "duration": 18,
    "start_time": "2022-12-14T10:57:25.713Z"
   },
   {
    "duration": 43,
    "start_time": "2022-12-14T10:57:25.733Z"
   },
   {
    "duration": 28,
    "start_time": "2022-12-14T10:57:25.778Z"
   },
   {
    "duration": 4,
    "start_time": "2022-12-14T10:57:25.808Z"
   },
   {
    "duration": 17,
    "start_time": "2022-12-14T10:57:25.814Z"
   },
   {
    "duration": 32,
    "start_time": "2022-12-14T10:57:25.833Z"
   },
   {
    "duration": 63,
    "start_time": "2022-12-14T10:57:25.867Z"
   },
   {
    "duration": 18,
    "start_time": "2022-12-14T10:57:25.932Z"
   },
   {
    "duration": 26,
    "start_time": "2022-12-14T10:57:25.952Z"
   },
   {
    "duration": 10,
    "start_time": "2022-12-14T10:57:25.979Z"
   },
   {
    "duration": 163,
    "start_time": "2022-12-14T10:57:25.991Z"
   },
   {
    "duration": 14,
    "start_time": "2022-12-14T10:57:26.156Z"
   },
   {
    "duration": 99,
    "start_time": "2022-12-14T10:57:26.172Z"
   },
   {
    "duration": 190,
    "start_time": "2022-12-14T10:57:26.275Z"
   },
   {
    "duration": 71,
    "start_time": "2022-12-14T10:57:26.467Z"
   },
   {
    "duration": 127,
    "start_time": "2022-12-14T10:57:26.541Z"
   },
   {
    "duration": 11,
    "start_time": "2022-12-14T10:57:26.670Z"
   },
   {
    "duration": 14,
    "start_time": "2022-12-14T10:57:26.683Z"
   },
   {
    "duration": 15,
    "start_time": "2022-12-14T10:57:26.699Z"
   },
   {
    "duration": 11,
    "start_time": "2022-12-14T10:57:26.715Z"
   },
   {
    "duration": 9,
    "start_time": "2022-12-14T10:57:26.727Z"
   },
   {
    "duration": 48,
    "start_time": "2022-12-14T10:57:26.739Z"
   },
   {
    "duration": 18,
    "start_time": "2022-12-14T10:57:26.788Z"
   },
   {
    "duration": 55,
    "start_time": "2022-12-14T10:57:26.807Z"
   },
   {
    "duration": 21,
    "start_time": "2022-12-14T10:57:26.864Z"
   },
   {
    "duration": 7,
    "start_time": "2022-12-14T10:57:26.887Z"
   },
   {
    "duration": 15,
    "start_time": "2022-12-14T10:57:26.895Z"
   },
   {
    "duration": 4389,
    "start_time": "2022-12-14T10:57:26.911Z"
   },
   {
    "duration": 7,
    "start_time": "2022-12-14T10:57:31.302Z"
   },
   {
    "duration": 6,
    "start_time": "2022-12-14T11:21:36.661Z"
   },
   {
    "duration": 104,
    "start_time": "2022-12-14T11:21:38.290Z"
   },
   {
    "duration": 4,
    "start_time": "2022-12-14T11:22:14.673Z"
   },
   {
    "duration": 4509,
    "start_time": "2022-12-14T11:22:17.059Z"
   },
   {
    "duration": 10,
    "start_time": "2022-12-14T11:22:21.571Z"
   },
   {
    "duration": 5,
    "start_time": "2022-12-14T11:24:47.825Z"
   },
   {
    "duration": 4652,
    "start_time": "2022-12-14T11:24:48.457Z"
   },
   {
    "duration": 7,
    "start_time": "2022-12-14T11:24:53.110Z"
   },
   {
    "duration": 4542,
    "start_time": "2022-12-14T11:25:20.756Z"
   },
   {
    "duration": 8,
    "start_time": "2022-12-14T11:25:25.301Z"
   },
   {
    "duration": 10,
    "start_time": "2022-12-14T11:25:36.562Z"
   },
   {
    "duration": 4421,
    "start_time": "2022-12-14T11:25:46.774Z"
   },
   {
    "duration": 7,
    "start_time": "2022-12-14T11:25:51.197Z"
   },
   {
    "duration": 51,
    "start_time": "2022-12-14T11:26:51.440Z"
   },
   {
    "duration": 29,
    "start_time": "2022-12-14T11:27:53.632Z"
   },
   {
    "duration": 49,
    "start_time": "2022-12-14T11:28:08.411Z"
   },
   {
    "duration": 15,
    "start_time": "2022-12-14T11:28:21.296Z"
   },
   {
    "duration": 35,
    "start_time": "2022-12-14T11:28:31.181Z"
   },
   {
    "duration": 14,
    "start_time": "2022-12-14T11:28:45.803Z"
   },
   {
    "duration": 54,
    "start_time": "2022-12-14T11:30:46.386Z"
   },
   {
    "duration": 3,
    "start_time": "2022-12-14T11:54:00.406Z"
   },
   {
    "duration": 9,
    "start_time": "2022-12-14T11:54:56.954Z"
   },
   {
    "duration": 13,
    "start_time": "2022-12-14T11:55:14.254Z"
   },
   {
    "duration": 3,
    "start_time": "2022-12-14T11:55:22.173Z"
   },
   {
    "duration": 14,
    "start_time": "2022-12-14T11:55:23.704Z"
   },
   {
    "duration": 6,
    "start_time": "2022-12-14T11:55:48.524Z"
   },
   {
    "duration": 7,
    "start_time": "2022-12-14T11:55:57.826Z"
   },
   {
    "duration": 4,
    "start_time": "2022-12-14T12:39:33.074Z"
   },
   {
    "duration": 20,
    "start_time": "2022-12-14T12:39:33.732Z"
   },
   {
    "duration": 4,
    "start_time": "2022-12-14T12:39:54.839Z"
   },
   {
    "duration": 15,
    "start_time": "2022-12-14T12:39:55.466Z"
   },
   {
    "duration": 8,
    "start_time": "2022-12-14T12:59:19.629Z"
   },
   {
    "duration": 4217,
    "start_time": "2022-12-14T12:59:23.615Z"
   },
   {
    "duration": 7,
    "start_time": "2022-12-14T12:59:27.834Z"
   },
   {
    "duration": 3,
    "start_time": "2022-12-14T12:59:41.544Z"
   },
   {
    "duration": 21,
    "start_time": "2022-12-14T12:59:42.346Z"
   },
   {
    "duration": 5,
    "start_time": "2022-12-14T12:59:43.600Z"
   },
   {
    "duration": 4539,
    "start_time": "2022-12-14T12:59:47.202Z"
   },
   {
    "duration": 10,
    "start_time": "2022-12-14T12:59:51.744Z"
   },
   {
    "duration": 5,
    "start_time": "2022-12-14T13:00:16.477Z"
   },
   {
    "duration": 482,
    "start_time": "2022-12-14T13:00:16.485Z"
   },
   {
    "duration": 10,
    "start_time": "2022-12-14T13:00:16.969Z"
   },
   {
    "duration": 47,
    "start_time": "2022-12-14T13:00:16.981Z"
   },
   {
    "duration": 12,
    "start_time": "2022-12-14T13:00:17.031Z"
   },
   {
    "duration": 24,
    "start_time": "2022-12-14T13:00:17.046Z"
   },
   {
    "duration": 12,
    "start_time": "2022-12-14T13:00:17.072Z"
   },
   {
    "duration": 32,
    "start_time": "2022-12-14T13:00:17.086Z"
   },
   {
    "duration": 49,
    "start_time": "2022-12-14T13:00:17.134Z"
   },
   {
    "duration": 76,
    "start_time": "2022-12-14T13:00:17.186Z"
   },
   {
    "duration": 23,
    "start_time": "2022-12-14T13:00:17.264Z"
   },
   {
    "duration": 8,
    "start_time": "2022-12-14T13:00:17.290Z"
   },
   {
    "duration": 40,
    "start_time": "2022-12-14T13:00:17.302Z"
   },
   {
    "duration": 16,
    "start_time": "2022-12-14T13:00:17.344Z"
   },
   {
    "duration": 12,
    "start_time": "2022-12-14T13:00:17.362Z"
   },
   {
    "duration": 23,
    "start_time": "2022-12-14T13:00:17.376Z"
   },
   {
    "duration": 55,
    "start_time": "2022-12-14T13:00:17.401Z"
   },
   {
    "duration": 15,
    "start_time": "2022-12-14T13:00:17.458Z"
   },
   {
    "duration": 38,
    "start_time": "2022-12-14T13:00:17.475Z"
   },
   {
    "duration": 14,
    "start_time": "2022-12-14T13:00:17.536Z"
   },
   {
    "duration": 44,
    "start_time": "2022-12-14T13:00:17.553Z"
   },
   {
    "duration": 43,
    "start_time": "2022-12-14T13:00:17.599Z"
   },
   {
    "duration": 36,
    "start_time": "2022-12-14T13:00:17.644Z"
   },
   {
    "duration": 5,
    "start_time": "2022-12-14T13:00:17.682Z"
   },
   {
    "duration": 18,
    "start_time": "2022-12-14T13:00:17.689Z"
   },
   {
    "duration": 34,
    "start_time": "2022-12-14T13:00:17.709Z"
   },
   {
    "duration": 68,
    "start_time": "2022-12-14T13:00:17.746Z"
   },
   {
    "duration": 13,
    "start_time": "2022-12-14T13:00:17.816Z"
   },
   {
    "duration": 40,
    "start_time": "2022-12-14T13:00:17.832Z"
   },
   {
    "duration": 16,
    "start_time": "2022-12-14T13:00:17.874Z"
   },
   {
    "duration": 144,
    "start_time": "2022-12-14T13:00:17.892Z"
   },
   {
    "duration": 8,
    "start_time": "2022-12-14T13:00:18.040Z"
   },
   {
    "duration": 89,
    "start_time": "2022-12-14T13:00:18.051Z"
   },
   {
    "duration": 92,
    "start_time": "2022-12-14T13:00:18.143Z"
   },
   {
    "duration": 99,
    "start_time": "2022-12-14T13:00:18.238Z"
   },
   {
    "duration": 116,
    "start_time": "2022-12-14T13:00:18.339Z"
   },
   {
    "duration": 17,
    "start_time": "2022-12-14T13:00:18.460Z"
   },
   {
    "duration": 15,
    "start_time": "2022-12-14T13:00:18.480Z"
   },
   {
    "duration": 7,
    "start_time": "2022-12-14T13:00:18.497Z"
   },
   {
    "duration": 25,
    "start_time": "2022-12-14T13:00:18.506Z"
   },
   {
    "duration": 36,
    "start_time": "2022-12-14T13:00:18.534Z"
   },
   {
    "duration": 18,
    "start_time": "2022-12-14T13:00:18.573Z"
   },
   {
    "duration": 13,
    "start_time": "2022-12-14T13:00:18.593Z"
   },
   {
    "duration": 23,
    "start_time": "2022-12-14T13:00:18.608Z"
   },
   {
    "duration": 7,
    "start_time": "2022-12-14T13:00:18.633Z"
   },
   {
    "duration": 32,
    "start_time": "2022-12-14T13:00:18.642Z"
   },
   {
    "duration": 5,
    "start_time": "2022-12-14T13:00:18.676Z"
   },
   {
    "duration": 15,
    "start_time": "2022-12-14T13:00:18.682Z"
   },
   {
    "duration": 18,
    "start_time": "2022-12-14T13:00:18.699Z"
   },
   {
    "duration": 5156,
    "start_time": "2022-12-14T13:00:18.719Z"
   },
   {
    "duration": 8,
    "start_time": "2022-12-14T13:00:23.877Z"
   },
   {
    "duration": 9,
    "start_time": "2022-12-14T13:08:29.192Z"
   },
   {
    "duration": 13,
    "start_time": "2022-12-14T13:44:23.154Z"
   },
   {
    "duration": 5,
    "start_time": "2022-12-14T13:44:26.549Z"
   },
   {
    "duration": 13,
    "start_time": "2022-12-14T13:44:28.869Z"
   },
   {
    "duration": 5,
    "start_time": "2022-12-14T13:44:41.548Z"
   },
   {
    "duration": 28,
    "start_time": "2022-12-14T13:44:50.742Z"
   },
   {
    "duration": 6,
    "start_time": "2022-12-14T13:45:00.034Z"
   },
   {
    "duration": 28,
    "start_time": "2022-12-14T13:45:06.158Z"
   },
   {
    "duration": 6,
    "start_time": "2022-12-14T13:45:21.105Z"
   },
   {
    "duration": 28,
    "start_time": "2022-12-14T13:45:21.663Z"
   },
   {
    "duration": 5,
    "start_time": "2022-12-14T13:46:16.716Z"
   },
   {
    "duration": 28,
    "start_time": "2022-12-14T13:46:17.445Z"
   },
   {
    "duration": 4,
    "start_time": "2022-12-14T13:46:21.968Z"
   },
   {
    "duration": 4,
    "start_time": "2022-12-14T13:46:26.481Z"
   },
   {
    "duration": 8523,
    "start_time": "2022-12-14T13:46:30.591Z"
   },
   {
    "duration": 16,
    "start_time": "2022-12-14T13:46:39.135Z"
   },
   {
    "duration": 71,
    "start_time": "2022-12-14T13:54:42.001Z"
   },
   {
    "duration": 26,
    "start_time": "2022-12-14T13:54:42.495Z"
   },
   {
    "duration": 4,
    "start_time": "2022-12-14T13:54:54.440Z"
   },
   {
    "duration": 426,
    "start_time": "2022-12-14T13:54:54.455Z"
   },
   {
    "duration": 9,
    "start_time": "2022-12-14T13:54:54.883Z"
   },
   {
    "duration": 37,
    "start_time": "2022-12-14T13:54:54.893Z"
   },
   {
    "duration": 22,
    "start_time": "2022-12-14T13:54:54.932Z"
   },
   {
    "duration": 28,
    "start_time": "2022-12-14T13:54:54.956Z"
   },
   {
    "duration": 22,
    "start_time": "2022-12-14T13:54:54.985Z"
   },
   {
    "duration": 41,
    "start_time": "2022-12-14T13:54:55.009Z"
   },
   {
    "duration": 51,
    "start_time": "2022-12-14T13:54:55.052Z"
   },
   {
    "duration": 44,
    "start_time": "2022-12-14T13:54:55.105Z"
   },
   {
    "duration": 17,
    "start_time": "2022-12-14T13:54:55.151Z"
   },
   {
    "duration": 28,
    "start_time": "2022-12-14T13:54:55.170Z"
   },
   {
    "duration": 33,
    "start_time": "2022-12-14T13:54:55.200Z"
   },
   {
    "duration": 33,
    "start_time": "2022-12-14T13:54:55.235Z"
   },
   {
    "duration": 15,
    "start_time": "2022-12-14T13:54:55.271Z"
   },
   {
    "duration": 26,
    "start_time": "2022-12-14T13:54:55.287Z"
   },
   {
    "duration": 44,
    "start_time": "2022-12-14T13:54:55.316Z"
   },
   {
    "duration": 15,
    "start_time": "2022-12-14T13:54:55.362Z"
   },
   {
    "duration": 34,
    "start_time": "2022-12-14T13:54:55.379Z"
   },
   {
    "duration": 30,
    "start_time": "2022-12-14T13:54:55.415Z"
   },
   {
    "duration": 35,
    "start_time": "2022-12-14T13:54:55.447Z"
   },
   {
    "duration": 14,
    "start_time": "2022-12-14T13:54:55.484Z"
   },
   {
    "duration": 56,
    "start_time": "2022-12-14T13:54:55.500Z"
   },
   {
    "duration": 5,
    "start_time": "2022-12-14T13:54:55.557Z"
   },
   {
    "duration": 35,
    "start_time": "2022-12-14T13:54:55.564Z"
   },
   {
    "duration": 13,
    "start_time": "2022-12-14T13:54:55.602Z"
   },
   {
    "duration": 55,
    "start_time": "2022-12-14T13:54:55.617Z"
   },
   {
    "duration": 19,
    "start_time": "2022-12-14T13:54:55.674Z"
   },
   {
    "duration": 22,
    "start_time": "2022-12-14T13:54:55.695Z"
   },
   {
    "duration": 14,
    "start_time": "2022-12-14T13:54:55.719Z"
   },
   {
    "duration": 30,
    "start_time": "2022-12-14T13:54:55.735Z"
   },
   {
    "duration": 103,
    "start_time": "2022-12-14T13:54:55.834Z"
   },
   {
    "duration": 32,
    "start_time": "2022-12-14T13:54:55.939Z"
   },
   {
    "duration": 108,
    "start_time": "2022-12-14T13:54:56.037Z"
   },
   {
    "duration": 34,
    "start_time": "2022-12-14T13:54:56.147Z"
   },
   {
    "duration": 104,
    "start_time": "2022-12-14T13:54:56.237Z"
   },
   {
    "duration": 33,
    "start_time": "2022-12-14T13:54:56.342Z"
   },
   {
    "duration": 11,
    "start_time": "2022-12-14T13:54:56.377Z"
   },
   {
    "duration": 6,
    "start_time": "2022-12-14T13:54:56.390Z"
   },
   {
    "duration": 14,
    "start_time": "2022-12-14T13:54:56.397Z"
   },
   {
    "duration": 10,
    "start_time": "2022-12-14T13:54:56.413Z"
   },
   {
    "duration": 13,
    "start_time": "2022-12-14T13:54:56.426Z"
   },
   {
    "duration": 15,
    "start_time": "2022-12-14T13:54:56.440Z"
   },
   {
    "duration": 20,
    "start_time": "2022-12-14T13:54:56.457Z"
   },
   {
    "duration": 43,
    "start_time": "2022-12-14T13:54:56.479Z"
   },
   {
    "duration": 0,
    "start_time": "2022-12-14T13:54:56.523Z"
   },
   {
    "duration": 0,
    "start_time": "2022-12-14T13:54:56.525Z"
   },
   {
    "duration": 0,
    "start_time": "2022-12-14T13:54:56.526Z"
   },
   {
    "duration": 0,
    "start_time": "2022-12-14T13:54:56.527Z"
   },
   {
    "duration": 0,
    "start_time": "2022-12-14T13:54:56.528Z"
   },
   {
    "duration": 0,
    "start_time": "2022-12-14T13:54:56.530Z"
   },
   {
    "duration": 4,
    "start_time": "2022-12-14T13:55:09.377Z"
   },
   {
    "duration": 17,
    "start_time": "2022-12-14T13:55:10.144Z"
   },
   {
    "duration": 4,
    "start_time": "2022-12-14T13:55:11.907Z"
   },
   {
    "duration": 5,
    "start_time": "2022-12-14T13:55:15.189Z"
   },
   {
    "duration": 4451,
    "start_time": "2022-12-14T13:55:21.292Z"
   },
   {
    "duration": 7,
    "start_time": "2022-12-14T13:55:25.745Z"
   },
   {
    "duration": 9,
    "start_time": "2022-12-14T13:56:59.134Z"
   },
   {
    "duration": 9,
    "start_time": "2022-12-14T13:57:16.438Z"
   },
   {
    "duration": 4,
    "start_time": "2022-12-14T13:58:17.475Z"
   },
   {
    "duration": 4450,
    "start_time": "2022-12-14T13:58:22.115Z"
   },
   {
    "duration": 7,
    "start_time": "2022-12-14T13:58:26.567Z"
   },
   {
    "duration": 4329,
    "start_time": "2022-12-14T14:01:30.471Z"
   },
   {
    "duration": 7,
    "start_time": "2022-12-14T14:01:34.802Z"
   },
   {
    "duration": 4313,
    "start_time": "2022-12-14T14:03:50.095Z"
   },
   {
    "duration": 7,
    "start_time": "2022-12-14T14:03:54.410Z"
   },
   {
    "duration": 4582,
    "start_time": "2022-12-14T14:04:06.572Z"
   },
   {
    "duration": 4,
    "start_time": "2022-12-14T14:04:24.198Z"
   },
   {
    "duration": 11,
    "start_time": "2022-12-14T14:04:28.004Z"
   },
   {
    "duration": 61,
    "start_time": "2022-12-14T14:05:27.036Z"
   },
   {
    "duration": 8,
    "start_time": "2022-12-14T14:05:27.604Z"
   },
   {
    "duration": 4255,
    "start_time": "2022-12-14T14:05:37.467Z"
   },
   {
    "duration": 11,
    "start_time": "2022-12-14T14:05:41.724Z"
   },
   {
    "duration": 4363,
    "start_time": "2022-12-14T14:06:23.607Z"
   },
   {
    "duration": 8,
    "start_time": "2022-12-14T14:06:27.972Z"
   },
   {
    "duration": 4183,
    "start_time": "2022-12-14T14:06:58.210Z"
   },
   {
    "duration": 9,
    "start_time": "2022-12-14T14:07:02.396Z"
   },
   {
    "duration": 1379,
    "start_time": "2022-12-14T14:07:44.185Z"
   },
   {
    "duration": 4471,
    "start_time": "2022-12-14T14:08:10.504Z"
   },
   {
    "duration": 1492,
    "start_time": "2022-12-14T14:08:36.555Z"
   },
   {
    "duration": 1503,
    "start_time": "2022-12-14T14:08:38.049Z"
   },
   {
    "duration": 1462,
    "start_time": "2022-12-14T14:08:39.554Z"
   },
   {
    "duration": 4,
    "start_time": "2022-12-14T14:08:53.361Z"
   },
   {
    "duration": 10,
    "start_time": "2022-12-14T14:08:54.018Z"
   },
   {
    "duration": 5,
    "start_time": "2022-12-14T14:10:44.733Z"
   },
   {
    "duration": 8,
    "start_time": "2022-12-14T14:10:45.968Z"
   },
   {
    "duration": 5,
    "start_time": "2022-12-14T14:12:58.935Z"
   },
   {
    "duration": 7,
    "start_time": "2022-12-14T14:12:59.485Z"
   },
   {
    "duration": 49,
    "start_time": "2022-12-14T14:18:15.366Z"
   },
   {
    "duration": 222,
    "start_time": "2022-12-14T14:19:14.454Z"
   },
   {
    "duration": 13,
    "start_time": "2022-12-14T14:23:02.078Z"
   },
   {
    "duration": 15,
    "start_time": "2022-12-14T14:23:26.953Z"
   },
   {
    "duration": 14,
    "start_time": "2022-12-14T14:23:47.529Z"
   },
   {
    "duration": 4,
    "start_time": "2022-12-14T14:23:51.778Z"
   },
   {
    "duration": 366,
    "start_time": "2022-12-14T14:23:51.804Z"
   },
   {
    "duration": 8,
    "start_time": "2022-12-14T14:23:52.172Z"
   },
   {
    "duration": 29,
    "start_time": "2022-12-14T14:23:52.181Z"
   },
   {
    "duration": 7,
    "start_time": "2022-12-14T14:23:52.212Z"
   },
   {
    "duration": 20,
    "start_time": "2022-12-14T14:23:52.221Z"
   },
   {
    "duration": 7,
    "start_time": "2022-12-14T14:23:52.243Z"
   },
   {
    "duration": 17,
    "start_time": "2022-12-14T14:23:52.251Z"
   },
   {
    "duration": 39,
    "start_time": "2022-12-14T14:23:52.269Z"
   },
   {
    "duration": 55,
    "start_time": "2022-12-14T14:23:52.310Z"
   },
   {
    "duration": 13,
    "start_time": "2022-12-14T14:23:52.366Z"
   },
   {
    "duration": 6,
    "start_time": "2022-12-14T14:23:52.380Z"
   },
   {
    "duration": 16,
    "start_time": "2022-12-14T14:23:52.388Z"
   },
   {
    "duration": 36,
    "start_time": "2022-12-14T14:23:52.406Z"
   },
   {
    "duration": 11,
    "start_time": "2022-12-14T14:23:52.445Z"
   },
   {
    "duration": 21,
    "start_time": "2022-12-14T14:23:52.458Z"
   },
   {
    "duration": 61,
    "start_time": "2022-12-14T14:23:52.481Z"
   },
   {
    "duration": 16,
    "start_time": "2022-12-14T14:23:52.544Z"
   },
   {
    "duration": 44,
    "start_time": "2022-12-14T14:23:52.563Z"
   },
   {
    "duration": 40,
    "start_time": "2022-12-14T14:23:52.609Z"
   },
   {
    "duration": 33,
    "start_time": "2022-12-14T14:23:52.652Z"
   },
   {
    "duration": 12,
    "start_time": "2022-12-14T14:23:52.686Z"
   },
   {
    "duration": 40,
    "start_time": "2022-12-14T14:23:52.699Z"
   },
   {
    "duration": 3,
    "start_time": "2022-12-14T14:23:52.741Z"
   },
   {
    "duration": 14,
    "start_time": "2022-12-14T14:23:52.746Z"
   },
   {
    "duration": 13,
    "start_time": "2022-12-14T14:23:52.761Z"
   },
   {
    "duration": 38,
    "start_time": "2022-12-14T14:23:52.776Z"
   },
   {
    "duration": 23,
    "start_time": "2022-12-14T14:23:52.816Z"
   },
   {
    "duration": 14,
    "start_time": "2022-12-14T14:23:52.841Z"
   },
   {
    "duration": 17,
    "start_time": "2022-12-14T14:23:52.858Z"
   },
   {
    "duration": 27,
    "start_time": "2022-12-14T14:23:52.877Z"
   },
   {
    "duration": 16,
    "start_time": "2022-12-14T14:23:52.905Z"
   },
   {
    "duration": 15,
    "start_time": "2022-12-14T14:23:52.922Z"
   },
   {
    "duration": 19,
    "start_time": "2022-12-14T14:23:52.938Z"
   },
   {
    "duration": 178,
    "start_time": "2022-12-14T14:23:52.959Z"
   },
   {
    "duration": 96,
    "start_time": "2022-12-14T14:23:53.139Z"
   },
   {
    "duration": 96,
    "start_time": "2022-12-14T14:23:53.240Z"
   },
   {
    "duration": 25,
    "start_time": "2022-12-14T14:23:53.337Z"
   },
   {
    "duration": 79,
    "start_time": "2022-12-14T14:23:53.364Z"
   },
   {
    "duration": 98,
    "start_time": "2022-12-14T14:23:53.445Z"
   },
   {
    "duration": 11,
    "start_time": "2022-12-14T14:23:53.545Z"
   },
   {
    "duration": 14,
    "start_time": "2022-12-14T14:23:53.560Z"
   },
   {
    "duration": 17,
    "start_time": "2022-12-14T14:23:53.575Z"
   },
   {
    "duration": 6,
    "start_time": "2022-12-14T14:23:53.594Z"
   },
   {
    "duration": 6,
    "start_time": "2022-12-14T14:23:53.602Z"
   },
   {
    "duration": 9,
    "start_time": "2022-12-14T14:23:53.609Z"
   },
   {
    "duration": 12,
    "start_time": "2022-12-14T14:23:53.619Z"
   },
   {
    "duration": 7,
    "start_time": "2022-12-14T14:23:53.633Z"
   },
   {
    "duration": 22,
    "start_time": "2022-12-14T14:23:53.641Z"
   },
   {
    "duration": 9,
    "start_time": "2022-12-14T14:23:53.665Z"
   },
   {
    "duration": 10,
    "start_time": "2022-12-14T14:23:53.675Z"
   },
   {
    "duration": 1383,
    "start_time": "2022-12-14T14:23:53.686Z"
   },
   {
    "duration": 1445,
    "start_time": "2022-12-14T14:23:55.071Z"
   },
   {
    "duration": 1398,
    "start_time": "2022-12-14T14:23:56.517Z"
   },
   {
    "duration": 7,
    "start_time": "2022-12-14T14:23:57.917Z"
   },
   {
    "duration": 5,
    "start_time": "2022-12-14T14:23:57.934Z"
   },
   {
    "duration": 29,
    "start_time": "2022-12-14T14:23:57.941Z"
   },
   {
    "duration": 47,
    "start_time": "2022-12-14T14:25:29.450Z"
   },
   {
    "duration": 57,
    "start_time": "2022-12-14T14:25:35.799Z"
   },
   {
    "duration": 4,
    "start_time": "2022-12-14T14:25:44.587Z"
   },
   {
    "duration": 383,
    "start_time": "2022-12-14T14:25:44.593Z"
   },
   {
    "duration": 8,
    "start_time": "2022-12-14T14:25:44.977Z"
   },
   {
    "duration": 19,
    "start_time": "2022-12-14T14:25:44.986Z"
   },
   {
    "duration": 38,
    "start_time": "2022-12-14T14:25:45.006Z"
   },
   {
    "duration": 33,
    "start_time": "2022-12-14T14:25:45.046Z"
   },
   {
    "duration": 12,
    "start_time": "2022-12-14T14:25:45.081Z"
   },
   {
    "duration": 35,
    "start_time": "2022-12-14T14:25:45.095Z"
   },
   {
    "duration": 43,
    "start_time": "2022-12-14T14:25:45.132Z"
   },
   {
    "duration": 36,
    "start_time": "2022-12-14T14:25:45.176Z"
   },
   {
    "duration": 32,
    "start_time": "2022-12-14T14:25:45.214Z"
   },
   {
    "duration": 22,
    "start_time": "2022-12-14T14:25:45.248Z"
   },
   {
    "duration": 13,
    "start_time": "2022-12-14T14:25:45.272Z"
   },
   {
    "duration": 20,
    "start_time": "2022-12-14T14:25:45.288Z"
   },
   {
    "duration": 12,
    "start_time": "2022-12-14T14:25:45.309Z"
   },
   {
    "duration": 13,
    "start_time": "2022-12-14T14:25:45.323Z"
   },
   {
    "duration": 35,
    "start_time": "2022-12-14T14:25:45.337Z"
   },
   {
    "duration": 13,
    "start_time": "2022-12-14T14:25:45.374Z"
   },
   {
    "duration": 53,
    "start_time": "2022-12-14T14:25:45.389Z"
   },
   {
    "duration": 13,
    "start_time": "2022-12-14T14:25:45.444Z"
   },
   {
    "duration": 33,
    "start_time": "2022-12-14T14:25:45.459Z"
   },
   {
    "duration": 13,
    "start_time": "2022-12-14T14:25:45.494Z"
   },
   {
    "duration": 48,
    "start_time": "2022-12-14T14:25:45.509Z"
   },
   {
    "duration": 4,
    "start_time": "2022-12-14T14:25:45.558Z"
   },
   {
    "duration": 11,
    "start_time": "2022-12-14T14:25:45.563Z"
   },
   {
    "duration": 8,
    "start_time": "2022-12-14T14:25:45.575Z"
   },
   {
    "duration": 18,
    "start_time": "2022-12-14T14:25:45.584Z"
   },
   {
    "duration": 15,
    "start_time": "2022-12-14T14:25:45.604Z"
   },
   {
    "duration": 24,
    "start_time": "2022-12-14T14:25:45.621Z"
   },
   {
    "duration": 10,
    "start_time": "2022-12-14T14:25:45.647Z"
   },
   {
    "duration": 12,
    "start_time": "2022-12-14T14:25:45.659Z"
   },
   {
    "duration": 8,
    "start_time": "2022-12-14T14:25:45.672Z"
   },
   {
    "duration": 59,
    "start_time": "2022-12-14T14:25:45.681Z"
   },
   {
    "duration": 98,
    "start_time": "2022-12-14T14:25:45.742Z"
   },
   {
    "duration": 29,
    "start_time": "2022-12-14T14:25:45.842Z"
   },
   {
    "duration": 105,
    "start_time": "2022-12-14T14:25:45.937Z"
   },
   {
    "duration": 22,
    "start_time": "2022-12-14T14:25:46.043Z"
   },
   {
    "duration": 79,
    "start_time": "2022-12-14T14:25:46.067Z"
   },
   {
    "duration": 112,
    "start_time": "2022-12-14T14:25:46.148Z"
   },
   {
    "duration": 21,
    "start_time": "2022-12-14T14:25:46.262Z"
   },
   {
    "duration": 15,
    "start_time": "2022-12-14T14:25:46.288Z"
   },
   {
    "duration": 20,
    "start_time": "2022-12-14T14:25:46.305Z"
   },
   {
    "duration": 6,
    "start_time": "2022-12-14T14:25:46.326Z"
   },
   {
    "duration": 11,
    "start_time": "2022-12-14T14:25:46.334Z"
   },
   {
    "duration": 23,
    "start_time": "2022-12-14T14:25:46.347Z"
   },
   {
    "duration": 17,
    "start_time": "2022-12-14T14:25:46.371Z"
   },
   {
    "duration": 10,
    "start_time": "2022-12-14T14:25:46.390Z"
   },
   {
    "duration": 25,
    "start_time": "2022-12-14T14:25:46.402Z"
   },
   {
    "duration": 3,
    "start_time": "2022-12-14T14:25:46.429Z"
   },
   {
    "duration": 11,
    "start_time": "2022-12-14T14:25:46.434Z"
   },
   {
    "duration": 1441,
    "start_time": "2022-12-14T14:25:46.447Z"
   },
   {
    "duration": 1417,
    "start_time": "2022-12-14T14:25:47.890Z"
   },
   {
    "duration": 1467,
    "start_time": "2022-12-14T14:25:49.309Z"
   },
   {
    "duration": 8,
    "start_time": "2022-12-14T14:25:50.777Z"
   },
   {
    "duration": 14,
    "start_time": "2022-12-14T14:25:50.786Z"
   },
   {
    "duration": 68,
    "start_time": "2022-12-14T14:25:50.802Z"
   },
   {
    "duration": 52,
    "start_time": "2022-12-15T05:39:29.589Z"
   },
   {
    "duration": 4,
    "start_time": "2022-12-15T05:39:35.178Z"
   },
   {
    "duration": 6,
    "start_time": "2022-12-15T05:39:36.179Z"
   },
   {
    "duration": 1567,
    "start_time": "2022-12-15T05:39:40.101Z"
   },
   {
    "duration": 1548,
    "start_time": "2022-12-15T05:39:41.670Z"
   },
   {
    "duration": 11,
    "start_time": "2022-12-15T05:39:43.220Z"
   },
   {
    "duration": 22,
    "start_time": "2022-12-15T05:39:43.232Z"
   },
   {
    "duration": 7,
    "start_time": "2022-12-15T05:39:43.256Z"
   },
   {
    "duration": 19,
    "start_time": "2022-12-15T05:39:43.264Z"
   },
   {
    "duration": 7,
    "start_time": "2022-12-15T05:39:43.284Z"
   },
   {
    "duration": 14,
    "start_time": "2022-12-15T05:39:43.293Z"
   },
   {
    "duration": 43,
    "start_time": "2022-12-15T05:39:43.309Z"
   },
   {
    "duration": 56,
    "start_time": "2022-12-15T05:39:43.353Z"
   },
   {
    "duration": 13,
    "start_time": "2022-12-15T05:39:43.410Z"
   },
   {
    "duration": 6,
    "start_time": "2022-12-15T05:39:43.424Z"
   },
   {
    "duration": 11,
    "start_time": "2022-12-15T05:39:43.432Z"
   },
   {
    "duration": 38,
    "start_time": "2022-12-15T05:39:43.445Z"
   },
   {
    "duration": 10,
    "start_time": "2022-12-15T05:39:43.484Z"
   },
   {
    "duration": 11,
    "start_time": "2022-12-15T05:39:43.496Z"
   },
   {
    "duration": 34,
    "start_time": "2022-12-15T05:39:43.508Z"
   },
   {
    "duration": 44,
    "start_time": "2022-12-15T05:39:43.544Z"
   },
   {
    "duration": 31,
    "start_time": "2022-12-15T05:39:43.590Z"
   },
   {
    "duration": 14,
    "start_time": "2022-12-15T05:39:43.622Z"
   },
   {
    "duration": 50,
    "start_time": "2022-12-15T05:39:43.638Z"
   },
   {
    "duration": 13,
    "start_time": "2022-12-15T05:39:43.690Z"
   },
   {
    "duration": 24,
    "start_time": "2022-12-15T05:39:43.704Z"
   },
   {
    "duration": 4,
    "start_time": "2022-12-15T05:39:43.730Z"
   },
   {
    "duration": 6,
    "start_time": "2022-12-15T05:39:43.735Z"
   },
   {
    "duration": 5,
    "start_time": "2022-12-15T05:39:43.743Z"
   },
   {
    "duration": 38,
    "start_time": "2022-12-15T05:39:43.749Z"
   },
   {
    "duration": 11,
    "start_time": "2022-12-15T05:39:43.789Z"
   },
   {
    "duration": 12,
    "start_time": "2022-12-15T05:39:43.802Z"
   },
   {
    "duration": 14,
    "start_time": "2022-12-15T05:39:43.815Z"
   },
   {
    "duration": 8,
    "start_time": "2022-12-15T05:39:43.830Z"
   },
   {
    "duration": 7,
    "start_time": "2022-12-15T05:39:43.839Z"
   },
   {
    "duration": 136,
    "start_time": "2022-12-15T05:39:43.848Z"
   },
   {
    "duration": 92,
    "start_time": "2022-12-15T05:39:43.986Z"
   },
   {
    "duration": 99,
    "start_time": "2022-12-15T05:39:44.080Z"
   },
   {
    "duration": 98,
    "start_time": "2022-12-15T05:39:44.181Z"
   },
   {
    "duration": 98,
    "start_time": "2022-12-15T05:39:44.281Z"
   },
   {
    "duration": 102,
    "start_time": "2022-12-15T05:39:44.381Z"
   },
   {
    "duration": 5,
    "start_time": "2022-12-15T05:39:44.484Z"
   },
   {
    "duration": 9,
    "start_time": "2022-12-15T05:39:44.491Z"
   },
   {
    "duration": 3,
    "start_time": "2022-12-15T05:39:44.504Z"
   },
   {
    "duration": 14,
    "start_time": "2022-12-15T05:39:44.508Z"
   },
   {
    "duration": 7,
    "start_time": "2022-12-15T05:39:44.523Z"
   },
   {
    "duration": 9,
    "start_time": "2022-12-15T05:39:44.531Z"
   },
   {
    "duration": 14,
    "start_time": "2022-12-15T05:39:44.542Z"
   },
   {
    "duration": 10,
    "start_time": "2022-12-15T05:39:44.558Z"
   },
   {
    "duration": 10,
    "start_time": "2022-12-15T05:39:44.570Z"
   },
   {
    "duration": 19,
    "start_time": "2022-12-15T05:39:44.581Z"
   },
   {
    "duration": 7,
    "start_time": "2022-12-15T05:39:44.602Z"
   },
   {
    "duration": 5,
    "start_time": "2022-12-15T05:39:44.610Z"
   },
   {
    "duration": 5,
    "start_time": "2022-12-15T05:39:44.617Z"
   },
   {
    "duration": 1362,
    "start_time": "2022-12-15T05:39:44.624Z"
   },
   {
    "duration": 1262,
    "start_time": "2022-12-15T05:39:45.987Z"
   },
   {
    "duration": 1244,
    "start_time": "2022-12-15T05:39:47.251Z"
   },
   {
    "duration": 7,
    "start_time": "2022-12-15T05:39:48.496Z"
   },
   {
    "duration": 15,
    "start_time": "2022-12-15T05:39:48.504Z"
   },
   {
    "duration": 33,
    "start_time": "2022-12-15T05:39:48.521Z"
   },
   {
    "duration": 3,
    "start_time": "2022-12-15T05:40:06.644Z"
   },
   {
    "duration": 11,
    "start_time": "2022-12-15T05:40:07.537Z"
   },
   {
    "duration": 7,
    "start_time": "2022-12-15T05:40:08.294Z"
   },
   {
    "duration": 4,
    "start_time": "2022-12-15T05:40:09.128Z"
   },
   {
    "duration": 5,
    "start_time": "2022-12-15T05:41:39.109Z"
   },
   {
    "duration": 6,
    "start_time": "2022-12-15T05:41:48.824Z"
   },
   {
    "duration": 4,
    "start_time": "2022-12-15T05:42:00.089Z"
   },
   {
    "duration": 412,
    "start_time": "2022-12-15T05:42:00.096Z"
   },
   {
    "duration": 9,
    "start_time": "2022-12-15T05:42:00.510Z"
   },
   {
    "duration": 47,
    "start_time": "2022-12-15T05:42:00.521Z"
   },
   {
    "duration": 28,
    "start_time": "2022-12-15T05:42:00.570Z"
   },
   {
    "duration": 36,
    "start_time": "2022-12-15T05:42:00.599Z"
   },
   {
    "duration": 33,
    "start_time": "2022-12-15T05:42:00.637Z"
   },
   {
    "duration": 33,
    "start_time": "2022-12-15T05:42:00.672Z"
   },
   {
    "duration": 68,
    "start_time": "2022-12-15T05:42:00.708Z"
   },
   {
    "duration": 42,
    "start_time": "2022-12-15T05:42:00.778Z"
   },
   {
    "duration": 15,
    "start_time": "2022-12-15T05:42:00.821Z"
   },
   {
    "duration": 37,
    "start_time": "2022-12-15T05:42:00.838Z"
   },
   {
    "duration": 35,
    "start_time": "2022-12-15T05:42:00.877Z"
   },
   {
    "duration": 41,
    "start_time": "2022-12-15T05:42:00.914Z"
   },
   {
    "duration": 20,
    "start_time": "2022-12-15T05:42:00.957Z"
   },
   {
    "duration": 25,
    "start_time": "2022-12-15T05:42:00.980Z"
   },
   {
    "duration": 71,
    "start_time": "2022-12-15T05:42:01.007Z"
   },
   {
    "duration": 33,
    "start_time": "2022-12-15T05:42:01.080Z"
   },
   {
    "duration": 64,
    "start_time": "2022-12-15T05:42:01.115Z"
   },
   {
    "duration": 16,
    "start_time": "2022-12-15T05:42:01.181Z"
   },
   {
    "duration": 51,
    "start_time": "2022-12-15T05:42:01.199Z"
   },
   {
    "duration": 15,
    "start_time": "2022-12-15T05:42:01.252Z"
   },
   {
    "duration": 27,
    "start_time": "2022-12-15T05:42:01.278Z"
   },
   {
    "duration": 5,
    "start_time": "2022-12-15T05:42:01.310Z"
   },
   {
    "duration": 26,
    "start_time": "2022-12-15T05:42:01.317Z"
   },
   {
    "duration": 31,
    "start_time": "2022-12-15T05:42:01.345Z"
   },
   {
    "duration": 62,
    "start_time": "2022-12-15T05:42:01.378Z"
   },
   {
    "duration": 27,
    "start_time": "2022-12-15T05:42:01.442Z"
   },
   {
    "duration": 36,
    "start_time": "2022-12-15T05:42:01.471Z"
   },
   {
    "duration": 35,
    "start_time": "2022-12-15T05:42:01.508Z"
   },
   {
    "duration": 33,
    "start_time": "2022-12-15T05:42:01.545Z"
   },
   {
    "duration": 24,
    "start_time": "2022-12-15T05:42:01.580Z"
   },
   {
    "duration": 70,
    "start_time": "2022-12-15T05:42:01.607Z"
   },
   {
    "duration": 105,
    "start_time": "2022-12-15T05:42:01.679Z"
   },
   {
    "duration": 39,
    "start_time": "2022-12-15T05:42:01.786Z"
   },
   {
    "duration": 102,
    "start_time": "2022-12-15T05:42:01.877Z"
   },
   {
    "duration": 46,
    "start_time": "2022-12-15T05:42:01.981Z"
   },
   {
    "duration": 152,
    "start_time": "2022-12-15T05:42:02.028Z"
   },
   {
    "duration": 24,
    "start_time": "2022-12-15T05:42:02.182Z"
   },
   {
    "duration": 15,
    "start_time": "2022-12-15T05:42:02.208Z"
   },
   {
    "duration": 15,
    "start_time": "2022-12-15T05:42:02.225Z"
   },
   {
    "duration": 14,
    "start_time": "2022-12-15T05:42:02.242Z"
   },
   {
    "duration": 20,
    "start_time": "2022-12-15T05:42:02.257Z"
   },
   {
    "duration": 29,
    "start_time": "2022-12-15T05:42:02.279Z"
   },
   {
    "duration": 15,
    "start_time": "2022-12-15T05:42:02.310Z"
   },
   {
    "duration": 27,
    "start_time": "2022-12-15T05:42:02.326Z"
   },
   {
    "duration": 19,
    "start_time": "2022-12-15T05:42:02.355Z"
   },
   {
    "duration": 30,
    "start_time": "2022-12-15T05:42:02.375Z"
   },
   {
    "duration": 21,
    "start_time": "2022-12-15T05:42:02.407Z"
   },
   {
    "duration": 28,
    "start_time": "2022-12-15T05:42:02.430Z"
   },
   {
    "duration": 10,
    "start_time": "2022-12-15T05:42:02.459Z"
   },
   {
    "duration": 18,
    "start_time": "2022-12-15T05:42:02.470Z"
   },
   {
    "duration": 20,
    "start_time": "2022-12-15T05:42:02.490Z"
   },
   {
    "duration": 1365,
    "start_time": "2022-12-15T05:42:02.512Z"
   },
   {
    "duration": 1382,
    "start_time": "2022-12-15T05:42:03.878Z"
   },
   {
    "duration": 1367,
    "start_time": "2022-12-15T05:42:05.262Z"
   },
   {
    "duration": 8,
    "start_time": "2022-12-15T05:42:06.630Z"
   },
   {
    "duration": 19,
    "start_time": "2022-12-15T05:42:06.639Z"
   },
   {
    "duration": 29,
    "start_time": "2022-12-15T05:42:06.660Z"
   },
   {
    "duration": 3,
    "start_time": "2022-12-15T05:44:09.081Z"
   },
   {
    "duration": 2,
    "start_time": "2022-12-15T05:44:10.120Z"
   },
   {
    "duration": 71,
    "start_time": "2022-12-15T05:44:10.589Z"
   },
   {
    "duration": 78,
    "start_time": "2022-12-15T05:44:25.725Z"
   },
   {
    "duration": 12,
    "start_time": "2022-12-15T05:44:56.366Z"
   },
   {
    "duration": 4,
    "start_time": "2022-12-15T05:44:58.501Z"
   },
   {
    "duration": 18,
    "start_time": "2022-12-15T05:45:17.750Z"
   },
   {
    "duration": 4,
    "start_time": "2022-12-15T05:45:18.604Z"
   },
   {
    "duration": 3,
    "start_time": "2022-12-15T05:45:28.003Z"
   },
   {
    "duration": 68,
    "start_time": "2022-12-15T05:45:39.454Z"
   },
   {
    "duration": 3,
    "start_time": "2022-12-15T05:45:42.995Z"
   },
   {
    "duration": 8,
    "start_time": "2022-12-15T05:45:43.678Z"
   },
   {
    "duration": 2,
    "start_time": "2022-12-15T05:45:44.577Z"
   },
   {
    "duration": 15,
    "start_time": "2022-12-15T05:45:45.081Z"
   },
   {
    "duration": 3,
    "start_time": "2022-12-15T05:45:47.229Z"
   },
   {
    "duration": 8,
    "start_time": "2022-12-15T05:45:47.925Z"
   },
   {
    "duration": 3,
    "start_time": "2022-12-15T05:46:02.560Z"
   },
   {
    "duration": 20,
    "start_time": "2022-12-15T05:46:06.310Z"
   },
   {
    "duration": 5,
    "start_time": "2022-12-15T05:47:19.970Z"
   },
   {
    "duration": 3153,
    "start_time": "2022-12-15T05:47:22.634Z"
   },
   {
    "duration": 4,
    "start_time": "2022-12-15T05:47:51.268Z"
   },
   {
    "duration": 3242,
    "start_time": "2022-12-15T05:47:54.105Z"
   },
   {
    "duration": 4,
    "start_time": "2022-12-15T05:48:10.531Z"
   },
   {
    "duration": 4144,
    "start_time": "2022-12-15T05:48:11.897Z"
   },
   {
    "duration": 4,
    "start_time": "2022-12-15T05:48:37.248Z"
   },
   {
    "duration": 4230,
    "start_time": "2022-12-15T05:48:38.758Z"
   },
   {
    "duration": 4,
    "start_time": "2022-12-15T05:48:55.589Z"
   },
   {
    "duration": 4470,
    "start_time": "2022-12-15T05:48:58.308Z"
   },
   {
    "duration": 3,
    "start_time": "2022-12-15T05:49:46.134Z"
   },
   {
    "duration": 20,
    "start_time": "2022-12-15T05:49:48.265Z"
   },
   {
    "duration": 2,
    "start_time": "2022-12-15T05:49:57.802Z"
   },
   {
    "duration": 5,
    "start_time": "2022-12-15T05:49:59.689Z"
   },
   {
    "duration": 5,
    "start_time": "2022-12-15T05:50:02.462Z"
   },
   {
    "duration": 2497,
    "start_time": "2022-12-15T05:50:04.041Z"
   },
   {
    "duration": 2501,
    "start_time": "2022-12-15T05:50:12.339Z"
   },
   {
    "duration": 2499,
    "start_time": "2022-12-15T05:50:14.842Z"
   },
   {
    "duration": 72,
    "start_time": "2022-12-15T05:52:49.362Z"
   },
   {
    "duration": 5,
    "start_time": "2022-12-15T06:00:19.999Z"
   },
   {
    "duration": 2419,
    "start_time": "2022-12-15T06:00:21.611Z"
   },
   {
    "duration": 2490,
    "start_time": "2022-12-15T06:00:53.374Z"
   },
   {
    "duration": 2625,
    "start_time": "2022-12-15T06:02:30.832Z"
   },
   {
    "duration": 91,
    "start_time": "2022-12-15T06:04:53.854Z"
   },
   {
    "duration": 5,
    "start_time": "2022-12-15T06:04:58.774Z"
   },
   {
    "duration": 2450,
    "start_time": "2022-12-15T06:05:04.591Z"
   },
   {
    "duration": 76,
    "start_time": "2022-12-15T06:05:47.527Z"
   },
   {
    "duration": 6,
    "start_time": "2022-12-15T06:05:57.531Z"
   },
   {
    "duration": 2778,
    "start_time": "2022-12-15T06:05:59.532Z"
   },
   {
    "duration": 6,
    "start_time": "2022-12-15T06:06:57.870Z"
   },
   {
    "duration": 2480,
    "start_time": "2022-12-15T06:07:15.216Z"
   },
   {
    "duration": 8,
    "start_time": "2022-12-15T06:08:14.051Z"
   },
   {
    "duration": 2421,
    "start_time": "2022-12-15T06:08:17.412Z"
   },
   {
    "duration": 9,
    "start_time": "2022-12-15T06:08:49.329Z"
   },
   {
    "duration": 2595,
    "start_time": "2022-12-15T06:08:50.751Z"
   },
   {
    "duration": 17,
    "start_time": "2022-12-15T06:11:13.424Z"
   },
   {
    "duration": 8,
    "start_time": "2022-12-15T06:11:25.527Z"
   },
   {
    "duration": 2445,
    "start_time": "2022-12-15T06:11:29.111Z"
   },
   {
    "duration": 8,
    "start_time": "2022-12-15T06:12:10.845Z"
   },
   {
    "duration": 12,
    "start_time": "2022-12-15T06:18:47.695Z"
   },
   {
    "duration": 2539,
    "start_time": "2022-12-15T06:18:50.372Z"
   },
   {
    "duration": 8,
    "start_time": "2022-12-15T06:19:17.487Z"
   },
   {
    "duration": 2390,
    "start_time": "2022-12-15T06:19:19.164Z"
   },
   {
    "duration": 8,
    "start_time": "2022-12-15T06:21:38.792Z"
   },
   {
    "duration": 2374,
    "start_time": "2022-12-15T06:21:39.938Z"
   },
   {
    "duration": 2401,
    "start_time": "2022-12-15T06:22:47.491Z"
   },
   {
    "duration": 2448,
    "start_time": "2022-12-15T06:22:51.890Z"
   },
   {
    "duration": 8,
    "start_time": "2022-12-15T06:23:40.414Z"
   },
   {
    "duration": 2670,
    "start_time": "2022-12-15T06:23:42.973Z"
   },
   {
    "duration": 2716,
    "start_time": "2022-12-15T06:24:15.234Z"
   },
   {
    "duration": 2719,
    "start_time": "2022-12-15T06:24:23.048Z"
   },
   {
    "duration": 73,
    "start_time": "2022-12-15T06:33:43.283Z"
   },
   {
    "duration": 47,
    "start_time": "2022-12-15T06:35:59.995Z"
   },
   {
    "duration": 7,
    "start_time": "2022-12-15T21:05:13.742Z"
   },
   {
    "duration": 335,
    "start_time": "2022-12-15T21:05:13.750Z"
   },
   {
    "duration": 8,
    "start_time": "2022-12-15T21:05:14.087Z"
   },
   {
    "duration": 16,
    "start_time": "2022-12-15T21:05:14.096Z"
   },
   {
    "duration": 17,
    "start_time": "2022-12-15T21:05:14.114Z"
   },
   {
    "duration": 14,
    "start_time": "2022-12-15T21:05:14.132Z"
   },
   {
    "duration": 7,
    "start_time": "2022-12-15T21:05:14.147Z"
   },
   {
    "duration": 17,
    "start_time": "2022-12-15T21:05:14.155Z"
   },
   {
    "duration": 36,
    "start_time": "2022-12-15T21:05:14.173Z"
   },
   {
    "duration": 50,
    "start_time": "2022-12-15T21:05:14.210Z"
   },
   {
    "duration": 12,
    "start_time": "2022-12-15T21:05:14.261Z"
   },
   {
    "duration": 7,
    "start_time": "2022-12-15T21:05:14.275Z"
   },
   {
    "duration": 12,
    "start_time": "2022-12-15T21:05:14.283Z"
   },
   {
    "duration": 37,
    "start_time": "2022-12-15T21:05:14.296Z"
   },
   {
    "duration": 13,
    "start_time": "2022-12-15T21:05:14.335Z"
   },
   {
    "duration": 9,
    "start_time": "2022-12-15T21:05:14.349Z"
   },
   {
    "duration": 32,
    "start_time": "2022-12-15T21:05:14.359Z"
   },
   {
    "duration": 33,
    "start_time": "2022-12-15T21:05:14.393Z"
   },
   {
    "duration": 34,
    "start_time": "2022-12-15T21:05:14.428Z"
   },
   {
    "duration": 13,
    "start_time": "2022-12-15T21:05:14.463Z"
   },
   {
    "duration": 49,
    "start_time": "2022-12-15T21:05:14.478Z"
   },
   {
    "duration": 13,
    "start_time": "2022-12-15T21:05:14.529Z"
   },
   {
    "duration": 22,
    "start_time": "2022-12-15T21:05:14.544Z"
   },
   {
    "duration": 3,
    "start_time": "2022-12-15T21:05:14.568Z"
   },
   {
    "duration": 8,
    "start_time": "2022-12-15T21:05:14.573Z"
   },
   {
    "duration": 11,
    "start_time": "2022-12-15T21:05:14.583Z"
   },
   {
    "duration": 32,
    "start_time": "2022-12-15T21:05:14.596Z"
   },
   {
    "duration": 12,
    "start_time": "2022-12-15T21:05:14.629Z"
   },
   {
    "duration": 12,
    "start_time": "2022-12-15T21:05:14.642Z"
   },
   {
    "duration": 9,
    "start_time": "2022-12-15T21:05:14.655Z"
   },
   {
    "duration": 5,
    "start_time": "2022-12-15T21:05:14.666Z"
   },
   {
    "duration": 10,
    "start_time": "2022-12-15T21:05:14.672Z"
   },
   {
    "duration": 52,
    "start_time": "2022-12-15T21:05:14.683Z"
   },
   {
    "duration": 4,
    "start_time": "2022-12-15T21:05:14.737Z"
   },
   {
    "duration": 19,
    "start_time": "2022-12-15T21:05:14.827Z"
   },
   {
    "duration": 85,
    "start_time": "2022-12-15T21:05:14.847Z"
   },
   {
    "duration": 115,
    "start_time": "2022-12-15T21:05:14.936Z"
   },
   {
    "duration": 76,
    "start_time": "2022-12-15T21:05:15.053Z"
   },
   {
    "duration": 96,
    "start_time": "2022-12-15T21:05:15.131Z"
   },
   {
    "duration": 11,
    "start_time": "2022-12-15T21:05:15.229Z"
   },
   {
    "duration": 6,
    "start_time": "2022-12-15T21:05:15.241Z"
   },
   {
    "duration": 12,
    "start_time": "2022-12-15T21:05:15.248Z"
   },
   {
    "duration": 6,
    "start_time": "2022-12-15T21:05:15.262Z"
   },
   {
    "duration": 10,
    "start_time": "2022-12-15T21:05:15.270Z"
   },
   {
    "duration": 13,
    "start_time": "2022-12-15T21:05:15.282Z"
   },
   {
    "duration": 13,
    "start_time": "2022-12-15T21:05:15.296Z"
   },
   {
    "duration": 25,
    "start_time": "2022-12-15T21:05:15.310Z"
   },
   {
    "duration": 48,
    "start_time": "2022-12-15T21:05:15.336Z"
   },
   {
    "duration": 3,
    "start_time": "2022-12-15T21:05:15.386Z"
   },
   {
    "duration": 27,
    "start_time": "2022-12-15T21:05:15.391Z"
   },
   {
    "duration": 40,
    "start_time": "2022-12-15T21:05:15.420Z"
   },
   {
    "duration": 2708,
    "start_time": "2022-12-15T21:05:15.462Z"
   },
   {
    "duration": 2718,
    "start_time": "2022-12-15T21:05:18.172Z"
   },
   {
    "duration": 2671,
    "start_time": "2022-12-15T21:05:20.892Z"
   },
   {
    "duration": 7,
    "start_time": "2022-12-15T21:05:23.565Z"
   },
   {
    "duration": 21,
    "start_time": "2022-12-15T21:05:23.573Z"
   },
   {
    "duration": 15,
    "start_time": "2022-12-15T21:05:23.596Z"
   },
   {
    "duration": 1518,
    "start_time": "2022-12-15T21:12:09.273Z"
   },
   {
    "duration": 365,
    "start_time": "2022-12-15T21:12:10.793Z"
   },
   {
    "duration": 12,
    "start_time": "2022-12-15T21:12:11.162Z"
   },
   {
    "duration": 14,
    "start_time": "2022-12-15T21:12:11.176Z"
   },
   {
    "duration": 7,
    "start_time": "2022-12-15T21:12:11.191Z"
   },
   {
    "duration": 30,
    "start_time": "2022-12-15T21:12:11.199Z"
   },
   {
    "duration": 7,
    "start_time": "2022-12-15T21:12:11.231Z"
   },
   {
    "duration": 15,
    "start_time": "2022-12-15T21:12:11.240Z"
   },
   {
    "duration": 42,
    "start_time": "2022-12-15T21:12:11.258Z"
   },
   {
    "duration": 61,
    "start_time": "2022-12-15T21:12:11.302Z"
   },
   {
    "duration": 12,
    "start_time": "2022-12-15T21:12:11.364Z"
   },
   {
    "duration": 9,
    "start_time": "2022-12-15T21:12:11.377Z"
   },
   {
    "duration": 16,
    "start_time": "2022-12-15T21:12:11.387Z"
   },
   {
    "duration": 27,
    "start_time": "2022-12-15T21:12:11.405Z"
   },
   {
    "duration": 10,
    "start_time": "2022-12-15T21:12:11.433Z"
   },
   {
    "duration": 9,
    "start_time": "2022-12-15T21:12:11.444Z"
   },
   {
    "duration": 33,
    "start_time": "2022-12-15T21:12:11.455Z"
   },
   {
    "duration": 42,
    "start_time": "2022-12-15T21:12:11.490Z"
   },
   {
    "duration": 37,
    "start_time": "2022-12-15T21:12:11.534Z"
   },
   {
    "duration": 14,
    "start_time": "2022-12-15T21:12:11.572Z"
   },
   {
    "duration": 63,
    "start_time": "2022-12-15T21:12:11.588Z"
   },
   {
    "duration": 13,
    "start_time": "2022-12-15T21:12:11.652Z"
   },
   {
    "duration": 24,
    "start_time": "2022-12-15T21:12:11.666Z"
   },
   {
    "duration": 3,
    "start_time": "2022-12-15T21:12:11.692Z"
   },
   {
    "duration": 6,
    "start_time": "2022-12-15T21:12:11.697Z"
   },
   {
    "duration": 22,
    "start_time": "2022-12-15T21:12:11.705Z"
   },
   {
    "duration": 15,
    "start_time": "2022-12-15T21:12:11.731Z"
   },
   {
    "duration": 12,
    "start_time": "2022-12-15T21:12:11.747Z"
   },
   {
    "duration": 11,
    "start_time": "2022-12-15T21:12:11.761Z"
   },
   {
    "duration": 12,
    "start_time": "2022-12-15T21:12:11.773Z"
   },
   {
    "duration": 9,
    "start_time": "2022-12-15T21:12:11.787Z"
   },
   {
    "duration": 29,
    "start_time": "2022-12-15T21:12:11.798Z"
   },
   {
    "duration": 21,
    "start_time": "2022-12-15T21:12:11.829Z"
   },
   {
    "duration": 76,
    "start_time": "2022-12-15T21:12:11.851Z"
   },
   {
    "duration": 107,
    "start_time": "2022-12-15T21:12:11.928Z"
   },
   {
    "duration": 3,
    "start_time": "2022-12-15T21:12:12.037Z"
   },
   {
    "duration": 113,
    "start_time": "2022-12-15T21:12:12.127Z"
   },
   {
    "duration": 4,
    "start_time": "2022-12-15T21:12:12.241Z"
   },
   {
    "duration": 181,
    "start_time": "2022-12-15T21:12:12.246Z"
   },
   {
    "duration": 12,
    "start_time": "2022-12-15T21:12:12.429Z"
   },
   {
    "duration": 4,
    "start_time": "2022-12-15T21:12:12.443Z"
   },
   {
    "duration": 6,
    "start_time": "2022-12-15T21:12:12.449Z"
   },
   {
    "duration": 7,
    "start_time": "2022-12-15T21:12:12.457Z"
   },
   {
    "duration": 5,
    "start_time": "2022-12-15T21:12:12.466Z"
   },
   {
    "duration": 13,
    "start_time": "2022-12-15T21:12:12.473Z"
   },
   {
    "duration": 12,
    "start_time": "2022-12-15T21:12:12.488Z"
   },
   {
    "duration": 4,
    "start_time": "2022-12-15T21:12:12.502Z"
   },
   {
    "duration": 29,
    "start_time": "2022-12-15T21:12:12.508Z"
   },
   {
    "duration": 2,
    "start_time": "2022-12-15T21:12:12.539Z"
   },
   {
    "duration": 7,
    "start_time": "2022-12-15T21:12:12.543Z"
   },
   {
    "duration": 8,
    "start_time": "2022-12-15T21:12:12.552Z"
   },
   {
    "duration": 2513,
    "start_time": "2022-12-15T21:12:12.561Z"
   },
   {
    "duration": 2491,
    "start_time": "2022-12-15T21:12:15.075Z"
   },
   {
    "duration": 2530,
    "start_time": "2022-12-15T21:12:17.568Z"
   },
   {
    "duration": 8,
    "start_time": "2022-12-15T21:12:20.100Z"
   },
   {
    "duration": 18,
    "start_time": "2022-12-15T21:12:20.109Z"
   },
   {
    "duration": 14,
    "start_time": "2022-12-15T21:12:20.128Z"
   },
   {
    "duration": 1482,
    "start_time": "2022-12-15T21:15:52.484Z"
   },
   {
    "duration": 358,
    "start_time": "2022-12-15T21:15:53.968Z"
   },
   {
    "duration": 10,
    "start_time": "2022-12-15T21:15:54.328Z"
   },
   {
    "duration": 13,
    "start_time": "2022-12-15T21:15:54.340Z"
   },
   {
    "duration": 7,
    "start_time": "2022-12-15T21:15:54.355Z"
   },
   {
    "duration": 18,
    "start_time": "2022-12-15T21:15:54.364Z"
   },
   {
    "duration": 8,
    "start_time": "2022-12-15T21:15:54.384Z"
   },
   {
    "duration": 37,
    "start_time": "2022-12-15T21:15:54.393Z"
   },
   {
    "duration": 42,
    "start_time": "2022-12-15T21:15:54.431Z"
   },
   {
    "duration": 52,
    "start_time": "2022-12-15T21:15:54.475Z"
   },
   {
    "duration": 12,
    "start_time": "2022-12-15T21:15:54.529Z"
   },
   {
    "duration": 6,
    "start_time": "2022-12-15T21:15:54.542Z"
   },
   {
    "duration": 12,
    "start_time": "2022-12-15T21:15:54.549Z"
   },
   {
    "duration": 11,
    "start_time": "2022-12-15T21:15:54.564Z"
   },
   {
    "duration": 9,
    "start_time": "2022-12-15T21:15:54.576Z"
   },
   {
    "duration": 40,
    "start_time": "2022-12-15T21:15:54.586Z"
   },
   {
    "duration": 35,
    "start_time": "2022-12-15T21:15:54.628Z"
   },
   {
    "duration": 13,
    "start_time": "2022-12-15T21:15:54.665Z"
   },
   {
    "duration": 49,
    "start_time": "2022-12-15T21:15:54.680Z"
   },
   {
    "duration": 14,
    "start_time": "2022-12-15T21:15:54.732Z"
   },
   {
    "duration": 33,
    "start_time": "2022-12-15T21:15:54.748Z"
   },
   {
    "duration": 13,
    "start_time": "2022-12-15T21:15:54.783Z"
   },
   {
    "duration": 54,
    "start_time": "2022-12-15T21:15:54.798Z"
   },
   {
    "duration": 5,
    "start_time": "2022-12-15T21:15:54.853Z"
   },
   {
    "duration": 7,
    "start_time": "2022-12-15T21:15:54.859Z"
   },
   {
    "duration": 8,
    "start_time": "2022-12-15T21:15:54.868Z"
   },
   {
    "duration": 18,
    "start_time": "2022-12-15T21:15:54.878Z"
   },
   {
    "duration": 40,
    "start_time": "2022-12-15T21:15:54.897Z"
   },
   {
    "duration": 12,
    "start_time": "2022-12-15T21:15:54.938Z"
   },
   {
    "duration": 13,
    "start_time": "2022-12-15T21:15:54.952Z"
   },
   {
    "duration": 6,
    "start_time": "2022-12-15T21:15:54.967Z"
   },
   {
    "duration": 5,
    "start_time": "2022-12-15T21:15:54.974Z"
   },
   {
    "duration": 50,
    "start_time": "2022-12-15T21:15:54.981Z"
   },
   {
    "duration": 94,
    "start_time": "2022-12-15T21:15:55.032Z"
   },
   {
    "duration": 98,
    "start_time": "2022-12-15T21:15:55.128Z"
   },
   {
    "duration": 3,
    "start_time": "2022-12-15T21:15:55.229Z"
   },
   {
    "duration": 113,
    "start_time": "2022-12-15T21:15:55.234Z"
   },
   {
    "duration": 77,
    "start_time": "2022-12-15T21:15:55.349Z"
   },
   {
    "duration": 3,
    "start_time": "2022-12-15T21:15:55.428Z"
   },
   {
    "duration": 102,
    "start_time": "2022-12-15T21:15:55.435Z"
   },
   {
    "duration": 3,
    "start_time": "2022-12-15T21:15:55.540Z"
   },
   {
    "duration": 5,
    "start_time": "2022-12-15T21:15:55.544Z"
   },
   {
    "duration": 7,
    "start_time": "2022-12-15T21:15:55.550Z"
   },
   {
    "duration": 11,
    "start_time": "2022-12-15T21:15:55.559Z"
   },
   {
    "duration": 16,
    "start_time": "2022-12-15T21:15:55.572Z"
   },
   {
    "duration": 24,
    "start_time": "2022-12-15T21:15:55.590Z"
   },
   {
    "duration": 16,
    "start_time": "2022-12-15T21:15:55.616Z"
   },
   {
    "duration": 31,
    "start_time": "2022-12-15T21:15:55.634Z"
   },
   {
    "duration": 3,
    "start_time": "2022-12-15T21:15:55.667Z"
   },
   {
    "duration": 14,
    "start_time": "2022-12-15T21:15:55.672Z"
   },
   {
    "duration": 19,
    "start_time": "2022-12-15T21:15:55.688Z"
   },
   {
    "duration": 2766,
    "start_time": "2022-12-15T21:15:55.709Z"
   },
   {
    "duration": 2689,
    "start_time": "2022-12-15T21:15:58.477Z"
   },
   {
    "duration": 2843,
    "start_time": "2022-12-15T21:16:01.168Z"
   },
   {
    "duration": 16,
    "start_time": "2022-12-15T21:16:04.012Z"
   },
   {
    "duration": 22,
    "start_time": "2022-12-15T21:16:04.029Z"
   },
   {
    "duration": 27,
    "start_time": "2022-12-15T21:16:04.053Z"
   },
   {
    "duration": 15,
    "start_time": "2022-12-16T05:38:17.174Z"
   },
   {
    "duration": 52,
    "start_time": "2022-12-16T05:38:26.061Z"
   },
   {
    "duration": 1500,
    "start_time": "2022-12-16T05:38:32.478Z"
   },
   {
    "duration": 590,
    "start_time": "2022-12-16T05:38:33.981Z"
   },
   {
    "duration": 11,
    "start_time": "2022-12-16T05:38:34.573Z"
   },
   {
    "duration": 16,
    "start_time": "2022-12-16T05:38:34.586Z"
   },
   {
    "duration": 7,
    "start_time": "2022-12-16T05:38:34.604Z"
   },
   {
    "duration": 20,
    "start_time": "2022-12-16T05:38:34.613Z"
   },
   {
    "duration": 7,
    "start_time": "2022-12-16T05:38:34.634Z"
   },
   {
    "duration": 15,
    "start_time": "2022-12-16T05:38:34.642Z"
   },
   {
    "duration": 61,
    "start_time": "2022-12-16T05:38:34.659Z"
   },
   {
    "duration": 42,
    "start_time": "2022-12-16T05:38:34.722Z"
   },
   {
    "duration": 30,
    "start_time": "2022-12-16T05:38:34.766Z"
   },
   {
    "duration": 6,
    "start_time": "2022-12-16T05:38:34.798Z"
   },
   {
    "duration": 11,
    "start_time": "2022-12-16T05:38:34.805Z"
   },
   {
    "duration": 10,
    "start_time": "2022-12-16T05:38:34.818Z"
   },
   {
    "duration": 9,
    "start_time": "2022-12-16T05:38:34.830Z"
   },
   {
    "duration": 9,
    "start_time": "2022-12-16T05:38:34.840Z"
   },
   {
    "duration": 68,
    "start_time": "2022-12-16T05:38:34.851Z"
   },
   {
    "duration": 15,
    "start_time": "2022-12-16T05:38:34.920Z"
   },
   {
    "duration": 36,
    "start_time": "2022-12-16T05:38:34.937Z"
   },
   {
    "duration": 34,
    "start_time": "2022-12-16T05:38:34.975Z"
   },
   {
    "duration": 33,
    "start_time": "2022-12-16T05:38:35.010Z"
   },
   {
    "duration": 14,
    "start_time": "2022-12-16T05:38:35.044Z"
   },
   {
    "duration": 49,
    "start_time": "2022-12-16T05:38:35.059Z"
   },
   {
    "duration": 3,
    "start_time": "2022-12-16T05:38:35.110Z"
   },
   {
    "duration": 7,
    "start_time": "2022-12-16T05:38:35.115Z"
   },
   {
    "duration": 19,
    "start_time": "2022-12-16T05:38:35.124Z"
   },
   {
    "duration": 17,
    "start_time": "2022-12-16T05:38:35.145Z"
   },
   {
    "duration": 12,
    "start_time": "2022-12-16T05:38:35.164Z"
   },
   {
    "duration": 26,
    "start_time": "2022-12-16T05:38:35.178Z"
   },
   {
    "duration": 12,
    "start_time": "2022-12-16T05:38:35.206Z"
   },
   {
    "duration": 6,
    "start_time": "2022-12-16T05:38:35.219Z"
   },
   {
    "duration": 7,
    "start_time": "2022-12-16T05:38:35.227Z"
   },
   {
    "duration": 163,
    "start_time": "2022-12-16T05:38:35.236Z"
   },
   {
    "duration": 4,
    "start_time": "2022-12-16T05:38:35.403Z"
   },
   {
    "duration": 101,
    "start_time": "2022-12-16T05:38:35.409Z"
   },
   {
    "duration": 185,
    "start_time": "2022-12-16T05:38:35.511Z"
   },
   {
    "duration": 99,
    "start_time": "2022-12-16T05:38:35.698Z"
   },
   {
    "duration": 5,
    "start_time": "2022-12-16T05:38:35.799Z"
   },
   {
    "duration": 105,
    "start_time": "2022-12-16T05:38:35.805Z"
   },
   {
    "duration": 33,
    "start_time": "2022-12-16T05:38:35.912Z"
   },
   {
    "duration": 15,
    "start_time": "2022-12-16T05:38:35.951Z"
   },
   {
    "duration": 21,
    "start_time": "2022-12-16T05:38:35.968Z"
   },
   {
    "duration": 15,
    "start_time": "2022-12-16T05:38:35.991Z"
   },
   {
    "duration": 9,
    "start_time": "2022-12-16T05:38:36.008Z"
   },
   {
    "duration": 9,
    "start_time": "2022-12-16T05:38:36.019Z"
   },
   {
    "duration": 18,
    "start_time": "2022-12-16T05:38:36.030Z"
   },
   {
    "duration": 14,
    "start_time": "2022-12-16T05:38:36.050Z"
   },
   {
    "duration": 33,
    "start_time": "2022-12-16T05:38:36.066Z"
   },
   {
    "duration": 6,
    "start_time": "2022-12-16T05:38:36.101Z"
   },
   {
    "duration": 15,
    "start_time": "2022-12-16T05:38:36.109Z"
   },
   {
    "duration": 20,
    "start_time": "2022-12-16T05:38:36.126Z"
   },
   {
    "duration": 2394,
    "start_time": "2022-12-16T05:38:36.148Z"
   },
   {
    "duration": 2268,
    "start_time": "2022-12-16T05:38:38.543Z"
   },
   {
    "duration": 2346,
    "start_time": "2022-12-16T05:38:40.813Z"
   },
   {
    "duration": 8,
    "start_time": "2022-12-16T05:38:43.161Z"
   },
   {
    "duration": 6,
    "start_time": "2022-12-16T05:38:43.171Z"
   },
   {
    "duration": 20,
    "start_time": "2022-12-16T05:38:43.178Z"
   },
   {
    "duration": 67,
    "start_time": "2022-12-16T05:38:58.426Z"
   },
   {
    "duration": 7,
    "start_time": "2022-12-16T05:39:04.168Z"
   },
   {
    "duration": 9,
    "start_time": "2022-12-16T05:39:07.056Z"
   },
   {
    "duration": 9,
    "start_time": "2022-12-16T05:39:19.267Z"
   },
   {
    "duration": 8,
    "start_time": "2022-12-16T05:39:51.913Z"
   },
   {
    "duration": 3867,
    "start_time": "2022-12-16T05:39:56.160Z"
   },
   {
    "duration": 8,
    "start_time": "2022-12-16T05:40:16.409Z"
   },
   {
    "duration": 27,
    "start_time": "2022-12-16T05:40:21.295Z"
   },
   {
    "duration": 9,
    "start_time": "2022-12-16T05:40:40.234Z"
   },
   {
    "duration": 4387,
    "start_time": "2022-12-16T05:40:43.835Z"
   },
   {
    "duration": 8,
    "start_time": "2022-12-16T05:41:45.589Z"
   },
   {
    "duration": 4430,
    "start_time": "2022-12-16T05:41:48.035Z"
   },
   {
    "duration": 8,
    "start_time": "2022-12-16T05:42:37.807Z"
   },
   {
    "duration": 4178,
    "start_time": "2022-12-16T05:42:39.801Z"
   },
   {
    "duration": 10,
    "start_time": "2022-12-16T05:47:36.176Z"
   },
   {
    "duration": 19,
    "start_time": "2022-12-16T05:58:57.570Z"
   },
   {
    "duration": 3,
    "start_time": "2022-12-16T05:59:01.141Z"
   },
   {
    "duration": 24,
    "start_time": "2022-12-16T05:59:01.859Z"
   },
   {
    "duration": 3,
    "start_time": "2022-12-16T05:59:16.680Z"
   },
   {
    "duration": 17,
    "start_time": "2022-12-16T05:59:19.059Z"
   },
   {
    "duration": 3,
    "start_time": "2022-12-16T06:00:42.058Z"
   },
   {
    "duration": 3,
    "start_time": "2022-12-16T06:00:46.374Z"
   },
   {
    "duration": 3,
    "start_time": "2022-12-16T06:00:47.121Z"
   },
   {
    "duration": 5,
    "start_time": "2022-12-16T06:00:48.721Z"
   },
   {
    "duration": 7,
    "start_time": "2022-12-16T06:00:49.279Z"
   },
   {
    "duration": 13,
    "start_time": "2022-12-16T06:00:49.878Z"
   },
   {
    "duration": 1294,
    "start_time": "2022-12-16T06:26:23.253Z"
   },
   {
    "duration": 330,
    "start_time": "2022-12-16T06:26:24.549Z"
   },
   {
    "duration": 20,
    "start_time": "2022-12-16T06:26:24.880Z"
   },
   {
    "duration": 16,
    "start_time": "2022-12-16T06:26:24.903Z"
   },
   {
    "duration": 8,
    "start_time": "2022-12-16T06:26:24.920Z"
   },
   {
    "duration": 18,
    "start_time": "2022-12-16T06:26:24.929Z"
   },
   {
    "duration": 9,
    "start_time": "2022-12-16T06:26:24.949Z"
   },
   {
    "duration": 38,
    "start_time": "2022-12-16T06:26:24.962Z"
   },
   {
    "duration": 44,
    "start_time": "2022-12-16T06:26:25.001Z"
   },
   {
    "duration": 50,
    "start_time": "2022-12-16T06:26:25.048Z"
   },
   {
    "duration": 13,
    "start_time": "2022-12-16T06:26:25.100Z"
   },
   {
    "duration": 8,
    "start_time": "2022-12-16T06:26:25.114Z"
   },
   {
    "duration": 22,
    "start_time": "2022-12-16T06:26:25.125Z"
   },
   {
    "duration": 22,
    "start_time": "2022-12-16T06:26:25.150Z"
   },
   {
    "duration": 32,
    "start_time": "2022-12-16T06:26:25.174Z"
   },
   {
    "duration": 10,
    "start_time": "2022-12-16T06:26:25.208Z"
   },
   {
    "duration": 35,
    "start_time": "2022-12-16T06:26:25.219Z"
   },
   {
    "duration": 14,
    "start_time": "2022-12-16T06:26:25.255Z"
   },
   {
    "duration": 52,
    "start_time": "2022-12-16T06:26:25.271Z"
   },
   {
    "duration": 13,
    "start_time": "2022-12-16T06:26:25.325Z"
   },
   {
    "duration": 32,
    "start_time": "2022-12-16T06:26:25.339Z"
   },
   {
    "duration": 32,
    "start_time": "2022-12-16T06:26:25.373Z"
   },
   {
    "duration": 24,
    "start_time": "2022-12-16T06:26:25.406Z"
   },
   {
    "duration": 4,
    "start_time": "2022-12-16T06:26:25.432Z"
   },
   {
    "duration": 5,
    "start_time": "2022-12-16T06:26:25.437Z"
   },
   {
    "duration": 6,
    "start_time": "2022-12-16T06:26:25.444Z"
   },
   {
    "duration": 49,
    "start_time": "2022-12-16T06:26:25.452Z"
   },
   {
    "duration": 12,
    "start_time": "2022-12-16T06:26:25.505Z"
   },
   {
    "duration": 12,
    "start_time": "2022-12-16T06:26:25.518Z"
   },
   {
    "duration": 12,
    "start_time": "2022-12-16T06:26:25.531Z"
   },
   {
    "duration": 7,
    "start_time": "2022-12-16T06:26:25.545Z"
   },
   {
    "duration": 6,
    "start_time": "2022-12-16T06:26:25.553Z"
   },
   {
    "duration": 40,
    "start_time": "2022-12-16T06:26:25.561Z"
   },
   {
    "duration": 97,
    "start_time": "2022-12-16T06:26:25.602Z"
   },
   {
    "duration": 107,
    "start_time": "2022-12-16T06:26:25.706Z"
   },
   {
    "duration": 4,
    "start_time": "2022-12-16T06:26:25.815Z"
   },
   {
    "duration": 106,
    "start_time": "2022-12-16T06:26:25.897Z"
   },
   {
    "duration": 108,
    "start_time": "2022-12-16T06:26:26.009Z"
   },
   {
    "duration": 17,
    "start_time": "2022-12-16T06:26:26.119Z"
   },
   {
    "duration": 37,
    "start_time": "2022-12-16T06:26:26.138Z"
   },
   {
    "duration": 26,
    "start_time": "2022-12-16T06:26:26.176Z"
   },
   {
    "duration": 35,
    "start_time": "2022-12-16T06:26:26.204Z"
   },
   {
    "duration": 23,
    "start_time": "2022-12-16T06:26:26.241Z"
   },
   {
    "duration": 12,
    "start_time": "2022-12-16T06:26:26.266Z"
   },
   {
    "duration": 9,
    "start_time": "2022-12-16T06:26:26.280Z"
   },
   {
    "duration": 11,
    "start_time": "2022-12-16T06:26:26.291Z"
   },
   {
    "duration": 4,
    "start_time": "2022-12-16T06:26:26.304Z"
   },
   {
    "duration": 18,
    "start_time": "2022-12-16T06:26:26.310Z"
   },
   {
    "duration": 3,
    "start_time": "2022-12-16T06:26:26.329Z"
   },
   {
    "duration": 9,
    "start_time": "2022-12-16T06:26:26.334Z"
   },
   {
    "duration": 9,
    "start_time": "2022-12-16T06:26:26.344Z"
   },
   {
    "duration": 3542,
    "start_time": "2022-12-16T06:26:26.354Z"
   },
   {
    "duration": 3388,
    "start_time": "2022-12-16T06:26:29.898Z"
   },
   {
    "duration": 3487,
    "start_time": "2022-12-16T06:26:33.288Z"
   },
   {
    "duration": 20,
    "start_time": "2022-12-16T06:26:36.776Z"
   },
   {
    "duration": 5,
    "start_time": "2022-12-16T06:26:36.798Z"
   },
   {
    "duration": 14,
    "start_time": "2022-12-16T06:26:36.805Z"
   },
   {
    "duration": 1311,
    "start_time": "2022-12-16T06:28:20.132Z"
   },
   {
    "duration": 365,
    "start_time": "2022-12-16T06:28:21.445Z"
   },
   {
    "duration": 13,
    "start_time": "2022-12-16T06:28:21.812Z"
   },
   {
    "duration": 17,
    "start_time": "2022-12-16T06:28:21.827Z"
   },
   {
    "duration": 11,
    "start_time": "2022-12-16T06:28:21.847Z"
   },
   {
    "duration": 37,
    "start_time": "2022-12-16T06:28:21.860Z"
   },
   {
    "duration": 9,
    "start_time": "2022-12-16T06:28:21.899Z"
   },
   {
    "duration": 27,
    "start_time": "2022-12-16T06:28:21.910Z"
   },
   {
    "duration": 86,
    "start_time": "2022-12-16T06:28:21.939Z"
   },
   {
    "duration": 38,
    "start_time": "2022-12-16T06:28:22.027Z"
   },
   {
    "duration": 29,
    "start_time": "2022-12-16T06:28:22.067Z"
   },
   {
    "duration": 7,
    "start_time": "2022-12-16T06:28:22.099Z"
   },
   {
    "duration": 21,
    "start_time": "2022-12-16T06:28:22.108Z"
   },
   {
    "duration": 17,
    "start_time": "2022-12-16T06:28:22.133Z"
   },
   {
    "duration": 11,
    "start_time": "2022-12-16T06:28:22.152Z"
   },
   {
    "duration": 32,
    "start_time": "2022-12-16T06:28:22.165Z"
   },
   {
    "duration": 40,
    "start_time": "2022-12-16T06:28:22.199Z"
   },
   {
    "duration": 20,
    "start_time": "2022-12-16T06:28:22.241Z"
   },
   {
    "duration": 66,
    "start_time": "2022-12-16T06:28:22.263Z"
   },
   {
    "duration": 16,
    "start_time": "2022-12-16T06:28:22.330Z"
   },
   {
    "duration": 59,
    "start_time": "2022-12-16T06:28:22.349Z"
   },
   {
    "duration": 16,
    "start_time": "2022-12-16T06:28:22.410Z"
   },
   {
    "duration": 25,
    "start_time": "2022-12-16T06:28:22.427Z"
   },
   {
    "duration": 5,
    "start_time": "2022-12-16T06:28:22.454Z"
   },
   {
    "duration": 6,
    "start_time": "2022-12-16T06:28:22.460Z"
   },
   {
    "duration": 35,
    "start_time": "2022-12-16T06:28:22.468Z"
   },
   {
    "duration": 17,
    "start_time": "2022-12-16T06:28:22.505Z"
   },
   {
    "duration": 12,
    "start_time": "2022-12-16T06:28:22.524Z"
   },
   {
    "duration": 14,
    "start_time": "2022-12-16T06:28:22.537Z"
   },
   {
    "duration": 20,
    "start_time": "2022-12-16T06:28:22.553Z"
   },
   {
    "duration": 17,
    "start_time": "2022-12-16T06:28:22.575Z"
   },
   {
    "duration": 8,
    "start_time": "2022-12-16T06:28:22.596Z"
   },
   {
    "duration": 33,
    "start_time": "2022-12-16T06:28:22.605Z"
   },
   {
    "duration": 55,
    "start_time": "2022-12-16T06:28:22.640Z"
   },
   {
    "duration": 112,
    "start_time": "2022-12-16T06:28:22.698Z"
   },
   {
    "duration": 86,
    "start_time": "2022-12-16T06:28:22.813Z"
   },
   {
    "duration": 107,
    "start_time": "2022-12-16T06:28:22.901Z"
   },
   {
    "duration": 92,
    "start_time": "2022-12-16T06:28:23.012Z"
   },
   {
    "duration": 14,
    "start_time": "2022-12-16T06:28:23.195Z"
   },
   {
    "duration": 20,
    "start_time": "2022-12-16T06:28:23.210Z"
   },
   {
    "duration": 11,
    "start_time": "2022-12-16T06:28:23.233Z"
   },
   {
    "duration": 16,
    "start_time": "2022-12-16T06:28:23.246Z"
   },
   {
    "duration": 7,
    "start_time": "2022-12-16T06:28:23.264Z"
   },
   {
    "duration": 6,
    "start_time": "2022-12-16T06:28:23.272Z"
   },
   {
    "duration": 6,
    "start_time": "2022-12-16T06:28:23.279Z"
   },
   {
    "duration": 11,
    "start_time": "2022-12-16T06:28:23.286Z"
   },
   {
    "duration": 7,
    "start_time": "2022-12-16T06:28:23.298Z"
   },
   {
    "duration": 19,
    "start_time": "2022-12-16T06:28:23.306Z"
   },
   {
    "duration": 3,
    "start_time": "2022-12-16T06:28:23.326Z"
   },
   {
    "duration": 6,
    "start_time": "2022-12-16T06:28:23.331Z"
   },
   {
    "duration": 12,
    "start_time": "2022-12-16T06:28:23.339Z"
   },
   {
    "duration": 3653,
    "start_time": "2022-12-16T06:28:23.353Z"
   },
   {
    "duration": 1545,
    "start_time": "2022-12-16T18:45:42.338Z"
   },
   {
    "duration": 1710,
    "start_time": "2022-12-16T18:45:43.885Z"
   },
   {
    "duration": 11,
    "start_time": "2022-12-16T18:45:45.597Z"
   },
   {
    "duration": 16,
    "start_time": "2022-12-16T18:45:45.610Z"
   },
   {
    "duration": 8,
    "start_time": "2022-12-16T18:45:45.628Z"
   },
   {
    "duration": 18,
    "start_time": "2022-12-16T18:45:45.637Z"
   },
   {
    "duration": 8,
    "start_time": "2022-12-16T18:45:45.656Z"
   },
   {
    "duration": 18,
    "start_time": "2022-12-16T18:45:45.679Z"
   },
   {
    "duration": 46,
    "start_time": "2022-12-16T18:45:45.698Z"
   },
   {
    "duration": 60,
    "start_time": "2022-12-16T18:45:45.745Z"
   },
   {
    "duration": 14,
    "start_time": "2022-12-16T18:45:45.806Z"
   },
   {
    "duration": 6,
    "start_time": "2022-12-16T18:45:45.821Z"
   },
   {
    "duration": 11,
    "start_time": "2022-12-16T18:45:45.828Z"
   },
   {
    "duration": 12,
    "start_time": "2022-12-16T18:45:45.842Z"
   },
   {
    "duration": 32,
    "start_time": "2022-12-16T18:45:45.855Z"
   },
   {
    "duration": 9,
    "start_time": "2022-12-16T18:45:45.888Z"
   },
   {
    "duration": 34,
    "start_time": "2022-12-16T18:45:45.898Z"
   },
   {
    "duration": 13,
    "start_time": "2022-12-16T18:45:45.933Z"
   },
   {
    "duration": 61,
    "start_time": "2022-12-16T18:45:45.948Z"
   },
   {
    "duration": 13,
    "start_time": "2022-12-16T18:45:46.011Z"
   },
   {
    "duration": 52,
    "start_time": "2022-12-16T18:45:46.026Z"
   },
   {
    "duration": 14,
    "start_time": "2022-12-16T18:45:46.079Z"
   },
   {
    "duration": 24,
    "start_time": "2022-12-16T18:45:46.095Z"
   },
   {
    "duration": 3,
    "start_time": "2022-12-16T18:45:46.121Z"
   },
   {
    "duration": 8,
    "start_time": "2022-12-16T18:45:46.125Z"
   },
   {
    "duration": 6,
    "start_time": "2022-12-16T18:45:46.134Z"
   },
   {
    "duration": 39,
    "start_time": "2022-12-16T18:45:46.141Z"
   },
   {
    "duration": 13,
    "start_time": "2022-12-16T18:45:46.181Z"
   },
   {
    "duration": 12,
    "start_time": "2022-12-16T18:45:46.196Z"
   },
   {
    "duration": 13,
    "start_time": "2022-12-16T18:45:46.209Z"
   },
   {
    "duration": 7,
    "start_time": "2022-12-16T18:45:46.223Z"
   },
   {
    "duration": 8,
    "start_time": "2022-12-16T18:45:46.232Z"
   },
   {
    "duration": 44,
    "start_time": "2022-12-16T18:45:46.241Z"
   },
   {
    "duration": 96,
    "start_time": "2022-12-16T18:45:46.286Z"
   },
   {
    "duration": 95,
    "start_time": "2022-12-16T18:45:46.384Z"
   },
   {
    "duration": 5,
    "start_time": "2022-12-16T18:45:46.481Z"
   },
   {
    "duration": 104,
    "start_time": "2022-12-16T18:45:46.488Z"
   },
   {
    "duration": 85,
    "start_time": "2022-12-16T18:45:46.594Z"
   },
   {
    "duration": 116,
    "start_time": "2022-12-16T18:45:46.681Z"
   },
   {
    "duration": 14,
    "start_time": "2022-12-16T18:45:46.799Z"
   },
   {
    "duration": 15,
    "start_time": "2022-12-16T18:45:46.816Z"
   },
   {
    "duration": 8,
    "start_time": "2022-12-16T18:45:46.832Z"
   },
   {
    "duration": 23,
    "start_time": "2022-12-16T18:45:46.842Z"
   },
   {
    "duration": 26,
    "start_time": "2022-12-16T18:45:46.866Z"
   },
   {
    "duration": 7,
    "start_time": "2022-12-16T18:45:46.894Z"
   },
   {
    "duration": 31,
    "start_time": "2022-12-16T18:45:46.902Z"
   },
   {
    "duration": 11,
    "start_time": "2022-12-16T18:45:46.935Z"
   },
   {
    "duration": 19,
    "start_time": "2022-12-16T18:45:46.948Z"
   },
   {
    "duration": 2,
    "start_time": "2022-12-16T18:45:46.969Z"
   },
   {
    "duration": 19,
    "start_time": "2022-12-16T18:45:46.972Z"
   },
   {
    "duration": 27,
    "start_time": "2022-12-16T18:45:46.993Z"
   },
   {
    "duration": 3140,
    "start_time": "2022-12-16T18:45:47.022Z"
   },
   {
    "duration": 3122,
    "start_time": "2022-12-16T18:45:50.163Z"
   },
   {
    "duration": 3194,
    "start_time": "2022-12-16T18:45:53.286Z"
   },
   {
    "duration": 8,
    "start_time": "2022-12-16T18:45:56.481Z"
   },
   {
    "duration": 4,
    "start_time": "2022-12-16T18:45:56.491Z"
   },
   {
    "duration": 10,
    "start_time": "2022-12-16T18:45:56.496Z"
   },
   {
    "duration": 1547,
    "start_time": "2022-12-17T02:47:04.085Z"
   },
   {
    "duration": 651,
    "start_time": "2022-12-17T02:47:05.634Z"
   },
   {
    "duration": 13,
    "start_time": "2022-12-17T02:47:06.286Z"
   },
   {
    "duration": 16,
    "start_time": "2022-12-17T02:47:06.301Z"
   },
   {
    "duration": 21,
    "start_time": "2022-12-17T02:47:06.319Z"
   },
   {
    "duration": 27,
    "start_time": "2022-12-17T02:47:06.342Z"
   },
   {
    "duration": 8,
    "start_time": "2022-12-17T02:47:06.371Z"
   },
   {
    "duration": 22,
    "start_time": "2022-12-17T02:47:06.381Z"
   },
   {
    "duration": 67,
    "start_time": "2022-12-17T02:47:06.405Z"
   },
   {
    "duration": 44,
    "start_time": "2022-12-17T02:47:06.474Z"
   },
   {
    "duration": 29,
    "start_time": "2022-12-17T02:47:06.519Z"
   },
   {
    "duration": 25,
    "start_time": "2022-12-17T02:47:06.549Z"
   },
   {
    "duration": 32,
    "start_time": "2022-12-17T02:47:06.576Z"
   },
   {
    "duration": 30,
    "start_time": "2022-12-17T02:47:06.612Z"
   },
   {
    "duration": 15,
    "start_time": "2022-12-17T02:47:06.643Z"
   },
   {
    "duration": 12,
    "start_time": "2022-12-17T02:47:06.661Z"
   },
   {
    "duration": 62,
    "start_time": "2022-12-17T02:47:06.674Z"
   },
   {
    "duration": 20,
    "start_time": "2022-12-17T02:47:06.738Z"
   },
   {
    "duration": 47,
    "start_time": "2022-12-17T02:47:06.761Z"
   },
   {
    "duration": 31,
    "start_time": "2022-12-17T02:47:06.809Z"
   },
   {
    "duration": 35,
    "start_time": "2022-12-17T02:47:06.842Z"
   },
   {
    "duration": 16,
    "start_time": "2022-12-17T02:47:06.879Z"
   },
   {
    "duration": 52,
    "start_time": "2022-12-17T02:47:06.896Z"
   },
   {
    "duration": 3,
    "start_time": "2022-12-17T02:47:06.950Z"
   },
   {
    "duration": 7,
    "start_time": "2022-12-17T02:47:06.955Z"
   },
   {
    "duration": 7,
    "start_time": "2022-12-17T02:47:06.964Z"
   },
   {
    "duration": 18,
    "start_time": "2022-12-17T02:47:06.973Z"
   },
   {
    "duration": 18,
    "start_time": "2022-12-17T02:47:06.992Z"
   },
   {
    "duration": 36,
    "start_time": "2022-12-17T02:47:07.011Z"
   },
   {
    "duration": 14,
    "start_time": "2022-12-17T02:47:07.048Z"
   },
   {
    "duration": 16,
    "start_time": "2022-12-17T02:47:07.064Z"
   },
   {
    "duration": 13,
    "start_time": "2022-12-17T02:47:07.081Z"
   },
   {
    "duration": 150,
    "start_time": "2022-12-17T02:47:07.095Z"
   },
   {
    "duration": 5,
    "start_time": "2022-12-17T02:47:07.336Z"
   },
   {
    "duration": 103,
    "start_time": "2022-12-17T02:47:07.343Z"
   },
   {
    "duration": 89,
    "start_time": "2022-12-17T02:47:07.448Z"
   },
   {
    "duration": 124,
    "start_time": "2022-12-17T02:47:07.540Z"
   },
   {
    "duration": 172,
    "start_time": "2022-12-17T02:47:07.667Z"
   },
   {
    "duration": 9,
    "start_time": "2022-12-17T02:47:07.841Z"
   },
   {
    "duration": 14,
    "start_time": "2022-12-17T02:47:07.852Z"
   },
   {
    "duration": 4,
    "start_time": "2022-12-17T02:47:07.871Z"
   },
   {
    "duration": 12,
    "start_time": "2022-12-17T02:47:07.877Z"
   },
   {
    "duration": 8,
    "start_time": "2022-12-17T02:47:07.890Z"
   },
   {
    "duration": 7,
    "start_time": "2022-12-17T02:47:07.899Z"
   },
   {
    "duration": 7,
    "start_time": "2022-12-17T02:47:07.908Z"
   },
   {
    "duration": 25,
    "start_time": "2022-12-17T02:47:07.917Z"
   },
   {
    "duration": 12,
    "start_time": "2022-12-17T02:47:07.944Z"
   },
   {
    "duration": 32,
    "start_time": "2022-12-17T02:47:07.958Z"
   },
   {
    "duration": 8,
    "start_time": "2022-12-17T02:47:07.991Z"
   },
   {
    "duration": 28,
    "start_time": "2022-12-17T02:47:08.001Z"
   },
   {
    "duration": 18,
    "start_time": "2022-12-17T02:47:08.031Z"
   },
   {
    "duration": 3471,
    "start_time": "2022-12-17T02:47:08.051Z"
   },
   {
    "duration": 3445,
    "start_time": "2022-12-17T02:47:11.524Z"
   },
   {
    "duration": 3543,
    "start_time": "2022-12-17T02:47:14.971Z"
   },
   {
    "duration": 8,
    "start_time": "2022-12-17T02:47:18.516Z"
   },
   {
    "duration": 30,
    "start_time": "2022-12-17T02:47:18.526Z"
   },
   {
    "duration": 20,
    "start_time": "2022-12-17T02:47:18.558Z"
   }
  ],
  "kernelspec": {
   "display_name": "Python 3 (ipykernel)",
   "language": "python",
   "name": "python3"
  },
  "language_info": {
   "codemirror_mode": {
    "name": "ipython",
    "version": 3
   },
   "file_extension": ".py",
   "mimetype": "text/x-python",
   "name": "python",
   "nbconvert_exporter": "python",
   "pygments_lexer": "ipython3",
   "version": "3.9.5"
  },
  "toc": {
   "base_numbering": 1,
   "nav_menu": {},
   "number_sections": true,
   "sideBar": true,
   "skip_h1_title": true,
   "title_cell": "Table of Contents",
   "title_sidebar": "Contents",
   "toc_cell": false,
   "toc_position": {},
   "toc_section_display": true,
   "toc_window_display": false
  }
 },
 "nbformat": 4,
 "nbformat_minor": 2
}