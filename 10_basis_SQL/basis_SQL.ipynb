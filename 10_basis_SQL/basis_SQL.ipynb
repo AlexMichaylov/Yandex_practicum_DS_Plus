{
 "cells": [
  {
   "attachments": {},
   "cell_type": "markdown",
   "metadata": {},
   "source": [
    "1.Посчитайте, сколько компаний закрылось.\n"
   ]
  },
  {
   "cell_type": "code",
   "execution_count": 1,
   "metadata": {},
   "outputs": [
    {
     "ename": "SyntaxError",
     "evalue": "invalid syntax (2363153154.py, line 1)",
     "output_type": "error",
     "traceback": [
      "\u001b[1;36m  Input \u001b[1;32mIn [1]\u001b[1;36m\u001b[0m\n\u001b[1;33m    SELECT COUNT(status)\u001b[0m\n\u001b[1;37m           ^\u001b[0m\n\u001b[1;31mSyntaxError\u001b[0m\u001b[1;31m:\u001b[0m invalid syntax\n"
     ]
    }
   ],
   "source": [
    "SELECT COUNT(status)\n",
    "\n",
    "FROM company\n",
    "WHERE status = 'closed'"
   ]
  },
  {
   "attachments": {},
   "cell_type": "markdown",
   "metadata": {},
   "source": [
    "2.Отобразите количество привлечённых средств для новостных компаний США. Используйте данные из таблицы company. Отсортируйте таблицу по убыванию значений в поле funding_total ."
   ]
  },
  {
   "cell_type": "code",
   "execution_count": null,
   "metadata": {},
   "outputs": [],
   "source": [
    "SELECT funding_total\n",
    "\n",
    "FROM company\n",
    "WHERE category_code = 'news'\n",
    "AND country_code = 'USA'\n",
    "ORDER BY funding_total DESC"
   ]
  },
  {
   "attachments": {},
   "cell_type": "markdown",
   "metadata": {},
   "source": [
    "3.Найдите общую сумму сделок по покупке одних компаний другими в долларах. Отберите сделки, которые осуществлялись только за наличные с 2011 по 2013 год включительно."
   ]
  },
  {
   "cell_type": "code",
   "execution_count": null,
   "metadata": {},
   "outputs": [],
   "source": [
    "SELECT SUM(price_amount)\n",
    "\n",
    "FROM acquisition\n",
    "WHERE term_code = 'cash'\n",
    "AND EXTRACT(YEAR FROM CAST(acquired_at AS date)) BETWEEN 2011 AND 2013"
   ]
  },
  {
   "attachments": {},
   "cell_type": "markdown",
   "metadata": {},
   "source": [
    "4.Отобразите имя, фамилию и названия аккаунтов людей в твиттере, у которых названия аккаунтов начинаются на 'Silver'."
   ]
  },
  {
   "cell_type": "code",
   "execution_count": null,
   "metadata": {},
   "outputs": [],
   "source": [
    "SELECT first_name,\n",
    "       last_name,\n",
    "       twitter_username\n",
    "       \n",
    "FROM people\n",
    "WHERE twitter_username LIKE 'Silver%'"
   ]
  },
  {
   "attachments": {},
   "cell_type": "markdown",
   "metadata": {},
   "source": [
    "5. Выведите на экран всю информацию о людях, у которых названия аккаунтов в твиттере содержат подстроку 'money', а фамилия начинается на 'K'."
   ]
  },
  {
   "cell_type": "code",
   "execution_count": null,
   "metadata": {},
   "outputs": [],
   "source": [
    "SELECT *\n",
    "       \n",
    "FROM people\n",
    "WHERE twitter_username LIKE '%money%'\n",
    "AND last_name LIKE 'K%'"
   ]
  },
  {
   "attachments": {},
   "cell_type": "markdown",
   "metadata": {},
   "source": [
    "6. Для каждой страны отобразите общую сумму привлечённых инвестиций, которые получили компании, зарегистрированные в этой стране. Страну, в которой зарегистрирована компания, можно определить по коду страны. Отсортируйте данные по убыванию суммы."
   ]
  },
  {
   "cell_type": "code",
   "execution_count": null,
   "metadata": {},
   "outputs": [],
   "source": [
    "SELECT country_code,\n",
    "       SUM(funding_total)\n",
    "       \n",
    "FROM company\n",
    "GROUP BY country_code\n",
    "ORDER BY SUM(funding_total) DESC"
   ]
  },
  {
   "attachments": {},
   "cell_type": "markdown",
   "metadata": {},
   "source": [
    "7. Составьте таблицу, в которую войдёт дата проведения раунда, а также минимальное и максимальное значения суммы инвестиций, привлечённых в эту дату.\n",
    "Оставьте в итоговой таблице только те записи, в которых минимальное значение суммы инвестиций не равно нулю и не равно максимальному значению."
   ]
  },
  {
   "cell_type": "code",
   "execution_count": null,
   "metadata": {},
   "outputs": [],
   "source": [
    "SELECT funded_at AS date_of_round, --DATE_TRUNC('day', CAST(fr.funded_at AS timestamp)) AS date_of_round,\n",
    "       MIN(raised_amount) AS min_amount_of_investment,\n",
    "       MAX(raised_amount) AS max_amount_of_investment\n",
    "       \n",
    "       \n",
    "FROM funding_round AS fr\n",
    "--FULL JOIN company AS c ON fr.company_id = c.id\n",
    "\n",
    "GROUP BY date_of_round\n",
    "HAVING MIN(raised_amount) != 0 AND  MIN(raised_amount) != MAX(raised_amount)"
   ]
  },
  {
   "attachments": {},
   "cell_type": "markdown",
   "metadata": {},
   "source": [
    "8.Создайте поле с категориями:\n",
    "Для фондов, которые инвестируют в 100 и более компаний, назначьте категорию high_activity.\n",
    "Для фондов, которые инвестируют в 20 и более компаний до 100, назначьте категорию middle_activity.\n",
    "Если количество инвестируемых компаний фонда не достигает 20, назначьте категорию low_activity.\n",
    "Отобразите все поля таблицы fund и новое поле с категориями."
   ]
  },
  {
   "cell_type": "code",
   "execution_count": null,
   "metadata": {},
   "outputs": [],
   "source": [
    "SELECT *,\n",
    "\n",
    "\n",
    "    CASE \n",
    "        WHEN invested_companies >= 100 THEN 'high_activity'\n",
    "        WHEN invested_companies >= 20 AND invested_companies <= 99 THEN 'middle_activity'\n",
    "        WHEN invested_companies < 20 THEN 'low_activity'\n",
    "    END\n",
    "\n",
    "FROM fund"
   ]
  },
  {
   "attachments": {},
   "cell_type": "markdown",
   "metadata": {},
   "source": [
    "9. Для каждой из категорий, назначенных в предыдущем задании, посчитайте округлённое до ближайшего целого числа среднее количество инвестиционных раундов, в которых фонд принимал участие. Выведите на экран категории и среднее число инвестиционных раундов. Отсортируйте таблицу по возрастанию среднего."
   ]
  },
  {
   "cell_type": "code",
   "execution_count": null,
   "metadata": {},
   "outputs": [],
   "source": [
    "with\n",
    "    ds as (\n",
    "            SELECT *,\n",
    "                    CASE\n",
    "                        WHEN invested_companies>=100 THEN 'high_activity'\n",
    "                        WHEN invested_companies>=20 THEN 'middle_activity'\n",
    "                        ELSE 'low_activity'\n",
    "                    END AS activity\n",
    "            FROM fund)\n",
    "\n",
    "\n",
    "SELECT activity, \n",
    "       round(avg(investment_rounds)) from ds\n",
    "group by activity\n",
    "order by round"
   ]
  },
  {
   "attachments": {},
   "cell_type": "markdown",
   "metadata": {},
   "source": [
    "10. Проанализируйте, в каких странах находятся фонды, которые чаще всего инвестируют в стартапы. \n",
    "Для каждой страны посчитайте минимальное, максимальное и среднее число компаний, в которые инвестировали фонды этой страны, основанные с 2010 по 2012 год включительно. Исключите страны с фондами, у которых минимальное число компаний, получивших инвестиции, равно нулю. Выгрузите десять самых активных стран-инвесторов.\n",
    "Отсортируйте таблицу по среднему количеству компаний от большего к меньшему, а затем по коду страны в лексикографическом порядке."
   ]
  },
  {
   "cell_type": "code",
   "execution_count": null,
   "metadata": {},
   "outputs": [],
   "source": [
    "SELECT country_code,\n",
    "       MIN(invested_companies),\n",
    "       MAX(invested_companies),\n",
    "       AVG(invested_companies)\n",
    "       \n",
    "FROM fund\n",
    "WHERE EXTRACT(YEAR FROM founded_at) BETWEEN 2010 AND 2012\n",
    "GROUP BY country_code\n",
    "HAVING MIN(invested_companies)!= 0\n",
    "ORDER BY AVG(invested_companies) DESC, country_code\n",
    "\n",
    "\n",
    "LIMIT 10"
   ]
  },
  {
   "attachments": {},
   "cell_type": "markdown",
   "metadata": {},
   "source": [
    "11. Отобразите имя и фамилию всех сотрудников стартапов. Добавьте поле с названием учебного заведения, которое окончил сотрудник, если эта информация известна."
   ]
  },
  {
   "cell_type": "code",
   "execution_count": null,
   "metadata": {},
   "outputs": [],
   "source": [
    "SELECT p.first_name,\n",
    "       p.last_name,\n",
    "       e.instituition\n",
    "       \n",
    "FROM people AS p\n",
    "LEFT JOIN education AS e ON p.id = e.person_id"
   ]
  },
  {
   "attachments": {},
   "cell_type": "markdown",
   "metadata": {},
   "source": [
    "12. Для каждой компании найдите количество учебных заведений, которые окончили её сотрудники. Выведите название компании и число уникальных названий учебных заведений. Составьте топ-5 компаний по количеству университетов."
   ]
  },
  {
   "attachments": {},
   "cell_type": "markdown",
   "metadata": {},
   "source": [
    "SELECT c.name,\n",
    "       COUNT(DISTINCT e.instituition) AS instituition\n",
    "       \n",
    "FROM company AS c\n",
    "JOIN people AS p ON c.id = p.company_id\n",
    "JOIN education AS e ON p.id = e.person_id\n",
    "\n",
    "GROUP BY c.name\n",
    "ORDER BY COUNT(DISTINCT e.instituition) DESC\n",
    "LIMIT 5"
   ]
  },
  {
   "attachments": {},
   "cell_type": "markdown",
   "metadata": {},
   "source": [
    "13. Составьте список с уникальными названиями закрытых компаний, для которых первый раунд финансирования оказался последним."
   ]
  },
  {
   "cell_type": "code",
   "execution_count": null,
   "metadata": {},
   "outputs": [],
   "source": [
    "SELECT DISTINCT c.name\n",
    "\n",
    "FROM company AS c\n",
    "LEFT JOIN funding_round AS fr ON c.id = fr.company_id\n",
    "WHERE c.status = 'closed' \n",
    "AND is_first_round = 1\n",
    "AND is_last_round = 1;"
   ]
  },
  {
   "attachments": {},
   "cell_type": "markdown",
   "metadata": {},
   "source": [
    "14. Составьте список уникальных номеров сотрудников, которые работают в компаниях, отобранных в предыдущем задании."
   ]
  },
  {
   "cell_type": "code",
   "execution_count": null,
   "metadata": {},
   "outputs": [],
   "source": [
    "\n",
    "SELECT p.id\n",
    "FROM company AS c\n",
    "INNER JOIN funding_round AS fr ON c.id = fr.company_id\n",
    "INNER JOIN people AS p ON p.company_id = c.id\n",
    "WHERE c.status = 'closed' \n",
    "                   AND is_first_round = 1\n",
    "                   AND is_last_round = 1\n",
    "GROUP BY c.name,p.id"
   ]
  },
  {
   "attachments": {},
   "cell_type": "markdown",
   "metadata": {},
   "source": [
    "15. Составьте таблицу, куда войдут уникальные пары с номерами сотрудников из предыдущей задачи и учебным заведением, которое окончил сотрудник."
   ]
  },
  {
   "cell_type": "code",
   "execution_count": null,
   "metadata": {},
   "outputs": [],
   "source": [
    "SELECT p.id,\n",
    "       e.instituition \n",
    "FROM company AS c\n",
    "INNER JOIN funding_round AS fr ON c.id = fr.company_id\n",
    "INNER JOIN people AS p ON p.company_id = c.id\n",
    "INNER JOIN education AS e ON p.id = e.person_id\n",
    "WHERE c.status = 'closed' \n",
    "                   AND is_first_round = 1\n",
    "                   AND is_last_round = 1\n",
    "GROUP BY c.name,p.id, e.instituition"
   ]
  },
  {
   "attachments": {},
   "cell_type": "markdown",
   "metadata": {},
   "source": [
    "16. Посчитайте количество учебных заведений для каждого сотрудника из предыдущего задания. При подсчёте учитывайте, что некоторые сотрудники могли окончить одно и то же заведение дважды."
   ]
  },
  {
   "cell_type": "code",
   "execution_count": null,
   "metadata": {},
   "outputs": [],
   "source": [
    "SELECT DISTINCT p.id,\n",
    "       COUNT(e.instituition) AS education\n",
    "FROM education AS e\n",
    "INNER JOIN people AS p ON p.id = e.person_id\n",
    "WHERE p.id IN (SELECT p.id\n",
    "                      \n",
    "                FROM company AS c\n",
    "\n",
    "                INNER JOIN funding_round AS fr ON c.id = fr.company_id\n",
    "                INNER JOIN people AS p ON p.company_id = c.id\n",
    "               \n",
    "                WHERE c.status = 'closed' \n",
    "                AND is_first_round = 1\n",
    "                AND is_last_round = 1\n",
    "                GROUP BY c.name, p.id)\n",
    "\n",
    "\n",
    "GROUP BY p.id\n",
    "ORDER BY education DESC"
   ]
  },
  {
   "attachments": {},
   "cell_type": "markdown",
   "metadata": {},
   "source": [
    "17. Дополните предыдущий запрос и выведите среднее число учебных заведений (всех, не только уникальных), которые окончили сотрудники разных компаний. Нужно вывести только одну запись, группировка здесь не понадобится."
   ]
  },
  {
   "cell_type": "code",
   "execution_count": null,
   "metadata": {},
   "outputs": [],
   "source": [
    "SELECT AVG(education)\n",
    "\n",
    "FROM \n",
    "    (SELECT DISTINCT p.id,\n",
    "            COUNT(e.instituition) AS education\n",
    "            FROM education AS e\n",
    "            INNER JOIN people AS p ON p.id = e.person_id\n",
    "            WHERE p.id IN (SELECT p.id\n",
    "                      \n",
    "                           FROM company AS c\n",
    "\n",
    "                            INNER JOIN funding_round AS fr ON c.id = fr.company_id\n",
    "                            INNER JOIN people AS p ON p.company_id = c.id\n",
    "               \n",
    "                            WHERE c.status = 'closed' \n",
    "                            AND is_first_round = 1\n",
    "                            AND is_last_round = 1\n",
    "                            GROUP BY c.name, p.id)\n",
    "\n",
    "\n",
    "        GROUP BY p.id\n",
    "        ORDER BY education DESC) AS number_education;"
   ]
  },
  {
   "attachments": {},
   "cell_type": "markdown",
   "metadata": {},
   "source": [
    "18. Напишите похожий запрос: выведите среднее число учебных заведений (всех, не только уникальных), которые окончили сотрудники Facebook*.\n",
    "*(сервис, запрещённый на территории РФ)"
   ]
  },
  {
   "cell_type": "code",
   "execution_count": null,
   "metadata": {},
   "outputs": [],
   "source": [
    "SELECT AVG(dsa.education)\n",
    "\n",
    "FROM\n",
    "    (SELECT p.id,\n",
    "            COUNT(e.instituition) AS education\n",
    "            FROM company AS c\n",
    "           \n",
    "            INNER JOIN people AS p ON p.company_id = c.id\n",
    "            INNER JOIN education AS e ON p.id = e.person_id\n",
    "            WHERE c.name = 'Facebook' \n",
    "                  \n",
    "            GROUP BY p.id) AS dsa;"
   ]
  },
  {
   "attachments": {},
   "cell_type": "markdown",
   "metadata": {},
   "source": [
    "19. Составьте таблицу из полей:\n",
    "name_of_fund — название фонда;\n",
    "name_of_company — название компании;\n",
    "amount — сумма инвестиций, которую привлекла компания в раунде.\n",
    "В таблицу войдут данные о компаниях, в истории которых было больше шести важных этапов, а раунды финансирования проходили с 2012 по 2013 год включительно."
   ]
  },
  {
   "cell_type": "code",
   "execution_count": null,
   "metadata": {},
   "outputs": [],
   "source": [
    "SELECT f.name AS name_of_fund,\n",
    "       c.name AS name_of_company,\n",
    "       fr.raised_amount AS amount \n",
    "\n",
    "FROM investment AS i\n",
    "\n",
    "INNER JOIN company AS c ON i.company_id = c.id\n",
    "INNER JOIN fund AS f ON i.fund_id = f.id\n",
    "INNER JOIN funding_round AS fr ON i.funding_round_id = fr.id\n",
    "\n",
    "WHERE c.milestones > 6\n",
    "AND EXTRACT(YEAR FROM funded_at)  BETWEEN 2012 AND 2013"
   ]
  },
  {
   "attachments": {},
   "cell_type": "markdown",
   "metadata": {},
   "source": [
    "20. Выгрузите таблицу, в которой будут такие поля:\n",
    "название компании-покупателя;\n",
    "сумма сделки;\n",
    "название компании, которую купили;\n",
    "сумма инвестиций, вложенных в купленную компанию;\n",
    "доля, которая отображает, во сколько раз сумма покупки превысила сумму вложенных в компанию инвестиций, округлённая до ближайшего целого числа.\n",
    "Не учитывайте те сделки, в которых сумма покупки равна нулю. Если сумма инвестиций в компанию равна нулю, исключите такую компанию из таблицы. \n",
    "Отсортируйте таблицу по сумме сделки от большей к меньшей, а затем по названию купленной компании в лексикографическом порядке. Ограничьте таблицу первыми десятью записями."
   ]
  },
  {
   "cell_type": "code",
   "execution_count": null,
   "metadata": {},
   "outputs": [],
   "source": [
    "with\n",
    "t1 AS (SELECT c.name as buyer_company,\n",
    "              a.price_amount as purchase_sum,\n",
    "              a.id AS key\n",
    "      FROM company AS c\n",
    "      right join acquisition AS a ON a.acquiring_company_id = c.id\n",
    "      WHERE price_amount > 0\n",
    "           \n",
    "      ),\n",
    "\n",
    "t2 AS (SELECT c.name AS bought_company,\n",
    "       a.id AS key,\n",
    "       c.funding_total as invested_sum\n",
    "       \n",
    "       FROM company AS c\n",
    "       Right JOIN acquisition AS a ON c.id = a.acquired_company_id\n",
    "       WHERE funding_total > 0)\n",
    "\n",
    "\n",
    "SELECT t1.buyer_company,\n",
    "       t1.purchase_sum,\n",
    "       t2.bought_company,\n",
    "       t2.invested_sum,\n",
    "       round(purchase_sum / invested_sum) AS rate\n",
    "FROM t1 inner join t2 ON t1.key = t2.key\n",
    "ORDER BY purchase_sum DESC, bought_company ASC\n",
    "LIMIT 10\n",
    "       "
   ]
  },
  {
   "attachments": {},
   "cell_type": "markdown",
   "metadata": {},
   "source": [
    "21. Выгрузите таблицу, в которую войдут названия компаний из категории social, получившие финансирование с 2010 по 2013 год включительно. Проверьте, что сумма инвестиций не равна нулю. Выведите также номер месяца, в котором проходил раунд финансирования."
   ]
  },
  {
   "cell_type": "code",
   "execution_count": null,
   "metadata": {},
   "outputs": [],
   "source": [
    "SELECT c.name AS name_of_company,\n",
    "       EXTRACT(MONTH FROM CAST(funded_at AS timestamp)) AS found_month\n",
    "\n",
    "FROM company AS c\n",
    "INNER JOIN funding_round AS fr ON c.id = fr.company_id\n",
    "WHERE EXTRACT(YEAR FROM CAST (funded_at AS timestamp)) IN (2010, 2011, 2012, 2013)\n",
    "AND fr.raised_amount > 0\n",
    "AND c.category_code = 'social'"
   ]
  },
  {
   "attachments": {},
   "cell_type": "markdown",
   "metadata": {},
   "source": [
    "22. Отберите данные по месяцам с 2010 по 2013 год, когда проходили инвестиционные раунды. Сгруппируйте данные по номеру месяца и получите таблицу, в которой будут поля:\n",
    "номер месяца, в котором проходили раунды;\n",
    "количество уникальных названий фондов из США, которые инвестировали в этом месяце;\n",
    "количество компаний, купленных за этот месяц;\n",
    "общая сумма сделок по покупкам в этом месяце."
   ]
  },
  {
   "cell_type": "code",
   "execution_count": null,
   "metadata": {},
   "outputs": [],
   "source": [
    "WITH\n",
    "t1 AS(SELECT EXTRACT(MONTH FROM CAST(fr.funded_at AS DATE)) AS number_of_month,\n",
    "             COUNT(DISTINCT f.name) AS name_of_fund\n",
    "      FROM funding_round AS fr\n",
    "      INNER JOIN investment AS i ON fr.id = i.funding_round_id\n",
    "      INNER JOIN fund AS f ON i.fund_id = f.id\n",
    "      WHERE EXTRACT(YEAR FROM CAST(fr.funded_at AS DATE)) BETWEEN 2010 AND 2013\n",
    "      AND f.country_code = 'USA'\n",
    "      GROUP BY number_of_month),\n",
    "      \n",
    "t2 AS(SELECT EXTRACT(MONTH FROM CAST(acquired_at AS DATE)) AS  number_of_month,\n",
    "             COUNT(acquired_company_id) AS bought_company,\n",
    "             SUM(price_amount) AS total_bought\n",
    "      FROM acquisition\n",
    "      WHERE EXTRACT(YEAR FROM CAST(acquired_at AS DATE)) BETWEEN 2010 AND 2013\n",
    "      GROUP BY number_of_month)\n",
    "      \n",
    "SELECT t1.number_of_month,\n",
    "       t1.name_of_fund,\n",
    "       t2.bought_company,\n",
    "       t2.total_bought\n",
    "       \n",
    "FROM t1 INNER JOIN t2 ON t1.number_of_month = t2.number_of_month\n"
   ]
  },
  {
   "attachments": {},
   "cell_type": "markdown",
   "metadata": {},
   "source": [
    "23. Составьте сводную таблицу и выведите среднюю сумму инвестиций для стран, в которых есть стартапы, зарегистрированные в 2011, 2012 и 2013 годах. Данные за каждый год должны быть в отдельном поле. Отсортируйте таблицу по среднему значению инвестиций за 2011 год от большего к меньшему."
   ]
  },
  {
   "cell_type": "code",
   "execution_count": null,
   "metadata": {},
   "outputs": [],
   "source": [
    "WITH\n",
    "y_2011 AS(SELECT country_code AS country,\n",
    "          AVG(funding_total) AS invested_avg\n",
    "          FROM company\n",
    "          WHERE EXTRACT(YEAR FROM CAST(founded_at AS DATE)) = 2011\n",
    "          GROUP BY country), \n",
    "          \n",
    "y_2012 AS(SELECT country_code AS country,\n",
    "          AVG(funding_total) AS invested_avg\n",
    "          FROM company\n",
    "          WHERE EXTRACT(YEAR FROM CAST(founded_at AS DATE)) = 2012\n",
    "          GROUP BY country), \n",
    "          \n",
    "y_2013 AS(SELECT country_code AS country,\n",
    "          AVG(funding_total) AS invested_avg\n",
    "          FROM company\n",
    "          WHERE EXTRACT(YEAR FROM CAST(founded_at AS DATE)) = 2013\n",
    "          GROUP BY country)\n",
    "          \n",
    "SELECT y_2011.country,\n",
    "       y_2011.invested_avg as invested_2011,\n",
    "       y_2012.invested_avg as invested_2012,\n",
    "       y_2013.invested_avg as invested_2013\n",
    "          \n",
    "FROM y_2011 INNER JOIN y_2012 ON y_2011.country = y_2012.country\n",
    "INNER JOIN y_2013 ON  y_2012.country = y_2013.country\n",
    "\n",
    "--GROUP BY country\n",
    "ORDER BY invested_2011 DESC"
   ]
  }
 ],
 "metadata": {
  "kernelspec": {
   "display_name": "base",
   "language": "python",
   "name": "python3"
  },
  "language_info": {
   "codemirror_mode": {
    "name": "ipython",
    "version": 3
   },
   "file_extension": ".py",
   "mimetype": "text/x-python",
   "name": "python",
   "nbconvert_exporter": "python",
   "pygments_lexer": "ipython3",
   "version": "3.9.12"
  },
  "orig_nbformat": 4,
  "vscode": {
   "interpreter": {
    "hash": "6f5583cf1d9466b5c27e75c89cc6b383bed5736d6b16c51c8074d8690011a952"
   }
  }
 },
 "nbformat": 4,
 "nbformat_minor": 2
}
