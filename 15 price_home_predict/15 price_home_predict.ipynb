{
 "cells": [
  {
   "cell_type": "markdown",
   "id": "GEqQaHzsZ_bA",
   "metadata": {
    "id": "GEqQaHzsZ_bA",
    "pycharm": {
     "name": "#%% md\n"
    }
   },
   "source": [
    "## Предсказание стоимости жилья\n",
    "\n",
    "В проекте нам нужно обучить модель линейной регрессии на данных о жилье в Калифорнии в 1990 году. На основе данных нужно предсказать медианную стоимость дома в жилом массиве. Обучите модель и сделайте предсказания на тестовой выборке. Для оценки качества модели будем использовать метрики RMSE, MAE и R2."
   ]
  },
  {
   "cell_type": "markdown",
   "id": "ec4baed9",
   "metadata": {
    "pycharm": {
     "name": "#%% md\n"
    }
   },
   "source": [
    "***Цель: обучить модель линейной регрессии на данных о жилье в Калифорнии в 1990 году. На основе данных нужно предсказать медианную стоимость дома в жилом массиве — median_house_value.***"
   ]
  },
  {
   "cell_type": "markdown",
   "id": "53871372",
   "metadata": {
    "id": "53871372",
    "pycharm": {
     "name": "#%% md\n"
    }
   },
   "source": [
    "# Подготовка данных"
   ]
  },
  {
   "cell_type": "markdown",
   "id": "7e4cd853",
   "metadata": {
    "pycharm": {
     "name": "#%% md\n"
    }
   },
   "source": [
    "импортируем необходимые библиотеки, запускаем Spark, инициализируем сессию, загружаем датасет и читаем данные из файла. Изучаем основную информацию по датасету."
   ]
  },
  {
   "cell_type": "code",
   "execution_count": 73,
   "id": "df92e3ec",
   "metadata": {
    "id": "df92e3ec",
    "pycharm": {
     "name": "#%%\n"
    }
   },
   "outputs": [],
   "source": [
    "import pandas as pd \n",
    "import numpy as np\n",
    "import matplotlib.pyplot as plt\n",
    "import seaborn as sns\n",
    "import pyspark\n",
    "import pyspark.sql.functions as F\n",
    "\n",
    "from pyspark.sql import SparkSession\n",
    "from pyspark.sql.types import *\n",
    "from pyspark.ml.feature import StringIndexer, VectorAssembler, StandardScaler\n",
    "from pyspark.ml.regression import LinearRegression\n",
    "from pyspark.ml.evaluation import RegressionEvaluator\n",
    "from pyspark.ml.evaluation import BinaryClassificationEvaluator, MulticlassClassificationEvaluator\n",
    "from pyspark.ml.stat import Correlation\n",
    "from pyspark.mllib.evaluation import RegressionMetrics\n",
    "from pyspark.ml import Pipeline\n",
    "pyspark_version = pyspark.__version__\n",
    "if int(pyspark_version[:1]) == 3:\n",
    "    from pyspark.ml.feature import OneHotEncoder    \n",
    "elif int(pyspark_version[:1]) == 2:\n",
    "    from pyspark.ml.feature import OneHotEncodeEstimator\n",
    "        \n",
    "RANDOM_SEED = 2022\n",
    "\n"
   ]
  },
  {
   "cell_type": "code",
   "execution_count": 74,
   "id": "a938b926",
   "metadata": {
    "pycharm": {
     "name": "#%%\n"
    }
   },
   "outputs": [
    {
     "name": "stdout",
     "output_type": "stream",
     "text": [
      "root\n",
      " |-- longitude: double (nullable = true)\n",
      " |-- latitude: double (nullable = true)\n",
      " |-- housing_median_age: double (nullable = true)\n",
      " |-- total_rooms: double (nullable = true)\n",
      " |-- total_bedrooms: double (nullable = true)\n",
      " |-- population: double (nullable = true)\n",
      " |-- households: double (nullable = true)\n",
      " |-- median_income: double (nullable = true)\n",
      " |-- median_house_value: double (nullable = true)\n",
      " |-- ocean_proximity: string (nullable = true)\n",
      "\n",
      "+---------+--------+------------------+-----------+--------------+----------+----------+-------------+------------------+---------------+\n",
      "|longitude|latitude|housing_median_age|total_rooms|total_bedrooms|population|households|median_income|median_house_value|ocean_proximity|\n",
      "+---------+--------+------------------+-----------+--------------+----------+----------+-------------+------------------+---------------+\n",
      "|  -122.23|   37.88|              41.0|      880.0|         129.0|     322.0|     126.0|       8.3252|          452600.0|       NEAR BAY|\n",
      "|  -122.22|   37.86|              21.0|     7099.0|        1106.0|    2401.0|    1138.0|       8.3014|          358500.0|       NEAR BAY|\n",
      "|  -122.24|   37.85|              52.0|     1467.0|         190.0|     496.0|     177.0|       7.2574|          352100.0|       NEAR BAY|\n",
      "|  -122.25|   37.85|              52.0|     1274.0|         235.0|     558.0|     219.0|       5.6431|          341300.0|       NEAR BAY|\n",
      "|  -122.25|   37.85|              52.0|     1627.0|         280.0|     565.0|     259.0|       3.8462|          342200.0|       NEAR BAY|\n",
      "|  -122.25|   37.85|              52.0|      919.0|         213.0|     413.0|     193.0|       4.0368|          269700.0|       NEAR BAY|\n",
      "|  -122.25|   37.84|              52.0|     2535.0|         489.0|    1094.0|     514.0|       3.6591|          299200.0|       NEAR BAY|\n",
      "|  -122.25|   37.84|              52.0|     3104.0|         687.0|    1157.0|     647.0|         3.12|          241400.0|       NEAR BAY|\n",
      "|  -122.26|   37.84|              42.0|     2555.0|         665.0|    1206.0|     595.0|       2.0804|          226700.0|       NEAR BAY|\n",
      "|  -122.25|   37.84|              52.0|     3549.0|         707.0|    1551.0|     714.0|       3.6912|          261100.0|       NEAR BAY|\n",
      "+---------+--------+------------------+-----------+--------------+----------+----------+-------------+------------------+---------------+\n",
      "only showing top 10 rows\n",
      "\n"
     ]
    }
   ],
   "source": [
    "spark = SparkSession.builder \\\n",
    "                    .master(\"local\") \\\n",
    "                    .appName(\"Housing - Logistic regression\") \\\n",
    "                    .getOrCreate()\n",
    "\n",
    "df = spark.read.option('header', 'true').csv('/datasets/housing.csv', inferSchema = True)\n",
    "df.printSchema()\n",
    "df.show(10)"
   ]
  },
  {
   "cell_type": "markdown",
   "id": "e24c1a5b",
   "metadata": {
    "pycharm": {
     "name": "#%% md\n"
    }
   },
   "source": [
    "выведем названия колонок и тип данных"
   ]
  },
  {
   "cell_type": "code",
   "execution_count": 75,
   "id": "087f1991",
   "metadata": {
    "pycharm": {
     "name": "#%%\n"
    }
   },
   "outputs": [
    {
     "name": "stdout",
     "output_type": "stream",
     "text": [
      "               column    type\n",
      "0           longitude  double\n",
      "1            latitude  double\n",
      "2  housing_median_age  double\n",
      "3         total_rooms  double\n",
      "4      total_bedrooms  double\n",
      "5          population  double\n",
      "6          households  double\n",
      "7       median_income  double\n",
      "8  median_house_value  double\n",
      "9     ocean_proximity  string\n"
     ]
    }
   ],
   "source": [
    "\n",
    "print(pd.DataFrame(df.dtypes, columns=['column', 'type']).head(10))"
   ]
  },
  {
   "cell_type": "markdown",
   "id": "5fa8ad51",
   "metadata": {
    "pycharm": {
     "name": "#%% md\n"
    }
   },
   "source": [
    "изучим кол-во пропусков в датасете: выведем кол-во пропущенных значений для каждого столбца"
   ]
  },
  {
   "cell_type": "code",
   "execution_count": 76,
   "id": "15d40db9",
   "metadata": {
    "scrolled": true,
    "pycharm": {
     "name": "#%%\n"
    }
   },
   "outputs": [
    {
     "name": "stdout",
     "output_type": "stream",
     "text": [
      "longitude 0\n",
      "latitude 0\n",
      "housing_median_age 0\n",
      "total_rooms 0\n",
      "total_bedrooms 207\n",
      "population 0\n",
      "households 0\n",
      "median_income 0\n",
      "median_house_value 0\n",
      "ocean_proximity 0\n"
     ]
    }
   ],
   "source": [
    "columns = df.columns\n",
    "\n",
    "for column in columns:\n",
    "    check_col = F.col(column).cast(FloatType())\n",
    "    print(column, df.filter(F.isnan(column) | F.col(column).isNull()).count())"
   ]
  },
  {
   "cell_type": "markdown",
   "id": "74c0fd64",
   "metadata": {
    "pycharm": {
     "name": "#%% md\n"
    }
   },
   "source": [
    "аналогичное действие можно выполнить через трансформацию датасета в Pandas"
   ]
  },
  {
   "cell_type": "markdown",
   "id": "b7c5284b",
   "metadata": {
    "pycharm": {
     "name": "#%% md\n"
    }
   },
   "source": [
    "по признаку total_bedrooms мы видим 207 пропусков, по остальным полям пропусков нет. Заполним пропуски медианными значениями. Для начала, сгруппируем данные по признаку количество ванных - близость от океана и попробуем изучить полученные пропуски на предмет закономерности."
   ]
  },
  {
   "cell_type": "code",
   "execution_count": 78,
   "id": "964d5f02",
   "metadata": {
    "pycharm": {
     "name": "#%%\n"
    }
   },
   "outputs": [
    {
     "name": "stderr",
     "output_type": "stream",
     "text": [
      "                                                                                \r"
     ]
    },
    {
     "data": {
      "text/html": [
       "<div>\n",
       "<style scoped>\n",
       "    .dataframe tbody tr th:only-of-type {\n",
       "        vertical-align: middle;\n",
       "    }\n",
       "\n",
       "    .dataframe tbody tr th {\n",
       "        vertical-align: top;\n",
       "    }\n",
       "\n",
       "    .dataframe thead th {\n",
       "        text-align: right;\n",
       "    }\n",
       "</style>\n",
       "<table border=\"1\" class=\"dataframe\">\n",
       "  <thead>\n",
       "    <tr style=\"text-align: right;\">\n",
       "      <th></th>\n",
       "      <th>ocean_proximity</th>\n",
       "      <th>count</th>\n",
       "    </tr>\n",
       "  </thead>\n",
       "  <tbody>\n",
       "    <tr>\n",
       "      <th>0</th>\n",
       "      <td>NEAR OCEAN</td>\n",
       "      <td>30</td>\n",
       "    </tr>\n",
       "    <tr>\n",
       "      <th>1</th>\n",
       "      <td>NEAR BAY</td>\n",
       "      <td>20</td>\n",
       "    </tr>\n",
       "    <tr>\n",
       "      <th>2</th>\n",
       "      <td>&lt;1H OCEAN</td>\n",
       "      <td>102</td>\n",
       "    </tr>\n",
       "    <tr>\n",
       "      <th>3</th>\n",
       "      <td>INLAND</td>\n",
       "      <td>55</td>\n",
       "    </tr>\n",
       "  </tbody>\n",
       "</table>\n",
       "</div>"
      ],
      "text/plain": [
       "  ocean_proximity  count\n",
       "0      NEAR OCEAN     30\n",
       "1        NEAR BAY     20\n",
       "2       <1H OCEAN    102\n",
       "3          INLAND     55"
      ]
     },
     "execution_count": 78,
     "metadata": {},
     "output_type": "execute_result"
    }
   ],
   "source": [
    "df.filter('total_bedrooms is NULL').groupBy('ocean_proximity').count().toPandas()"
   ]
  },
  {
   "cell_type": "markdown",
   "id": "975d0263",
   "metadata": {
    "pycharm": {
     "name": "#%% md\n"
    }
   },
   "source": [
    "расчитаем описательные статистики и квантили в имеющихся данных, по интересующим нас признакам."
   ]
  },
  {
   "cell_type": "code",
   "execution_count": 79,
   "id": "ef973a82",
   "metadata": {
    "pycharm": {
     "name": "#%%\n"
    }
   },
   "outputs": [
    {
     "name": "stderr",
     "output_type": "stream",
     "text": [
      "                                                                                \r"
     ]
    },
    {
     "data": {
      "text/html": [
       "<div>\n",
       "<style scoped>\n",
       "    .dataframe tbody tr th:only-of-type {\n",
       "        vertical-align: middle;\n",
       "    }\n",
       "\n",
       "    .dataframe tbody tr th {\n",
       "        vertical-align: top;\n",
       "    }\n",
       "\n",
       "    .dataframe thead th {\n",
       "        text-align: right;\n",
       "    }\n",
       "</style>\n",
       "<table border=\"1\" class=\"dataframe\">\n",
       "  <thead>\n",
       "    <tr style=\"text-align: right;\">\n",
       "      <th></th>\n",
       "      <th>count</th>\n",
       "      <th>mean</th>\n",
       "      <th>stddev</th>\n",
       "      <th>min</th>\n",
       "      <th>quantile_25</th>\n",
       "      <th>quantile_50</th>\n",
       "      <th>quantile_75</th>\n",
       "      <th>max</th>\n",
       "    </tr>\n",
       "  </thead>\n",
       "  <tbody>\n",
       "    <tr>\n",
       "      <th>longitude</th>\n",
       "      <td>20640</td>\n",
       "      <td>-119.56970445736148</td>\n",
       "      <td>2.003531723502584</td>\n",
       "      <td>-124.35</td>\n",
       "      <td>-121.8000</td>\n",
       "      <td>-118.4900</td>\n",
       "      <td>-118.0100</td>\n",
       "      <td>-114.31</td>\n",
       "    </tr>\n",
       "    <tr>\n",
       "      <th>latitude</th>\n",
       "      <td>20640</td>\n",
       "      <td>35.6318614341087</td>\n",
       "      <td>2.135952397457101</td>\n",
       "      <td>32.54</td>\n",
       "      <td>33.9300</td>\n",
       "      <td>34.2600</td>\n",
       "      <td>37.7100</td>\n",
       "      <td>41.95</td>\n",
       "    </tr>\n",
       "    <tr>\n",
       "      <th>housing_median_age</th>\n",
       "      <td>20640</td>\n",
       "      <td>28.639486434108527</td>\n",
       "      <td>12.58555761211163</td>\n",
       "      <td>1.0</td>\n",
       "      <td>18.0000</td>\n",
       "      <td>29.0000</td>\n",
       "      <td>37.0000</td>\n",
       "      <td>52.0</td>\n",
       "    </tr>\n",
       "    <tr>\n",
       "      <th>total_rooms</th>\n",
       "      <td>20640</td>\n",
       "      <td>2635.7630813953488</td>\n",
       "      <td>2181.6152515827944</td>\n",
       "      <td>2.0</td>\n",
       "      <td>1447.0000</td>\n",
       "      <td>2127.0000</td>\n",
       "      <td>3148.0000</td>\n",
       "      <td>39320.0</td>\n",
       "    </tr>\n",
       "    <tr>\n",
       "      <th>total_bedrooms</th>\n",
       "      <td>20433</td>\n",
       "      <td>537.8705525375618</td>\n",
       "      <td>421.38507007403115</td>\n",
       "      <td>1.0</td>\n",
       "      <td>296.0000</td>\n",
       "      <td>435.0000</td>\n",
       "      <td>647.0000</td>\n",
       "      <td>6445.0</td>\n",
       "    </tr>\n",
       "    <tr>\n",
       "      <th>population</th>\n",
       "      <td>20640</td>\n",
       "      <td>1425.4767441860465</td>\n",
       "      <td>1132.46212176534</td>\n",
       "      <td>3.0</td>\n",
       "      <td>787.0000</td>\n",
       "      <td>1166.0000</td>\n",
       "      <td>1725.0000</td>\n",
       "      <td>35682.0</td>\n",
       "    </tr>\n",
       "    <tr>\n",
       "      <th>households</th>\n",
       "      <td>20640</td>\n",
       "      <td>499.5396802325581</td>\n",
       "      <td>382.3297528316098</td>\n",
       "      <td>1.0</td>\n",
       "      <td>280.0000</td>\n",
       "      <td>409.0000</td>\n",
       "      <td>605.0000</td>\n",
       "      <td>6082.0</td>\n",
       "    </tr>\n",
       "    <tr>\n",
       "      <th>median_income</th>\n",
       "      <td>20640</td>\n",
       "      <td>3.8706710029070246</td>\n",
       "      <td>1.899821717945263</td>\n",
       "      <td>0.4999</td>\n",
       "      <td>2.5625</td>\n",
       "      <td>3.5347</td>\n",
       "      <td>4.7431</td>\n",
       "      <td>15.0001</td>\n",
       "    </tr>\n",
       "    <tr>\n",
       "      <th>median_house_value</th>\n",
       "      <td>20640</td>\n",
       "      <td>206855.81690891474</td>\n",
       "      <td>115395.61587441359</td>\n",
       "      <td>14999.0</td>\n",
       "      <td>119600.0000</td>\n",
       "      <td>179700.0000</td>\n",
       "      <td>264700.0000</td>\n",
       "      <td>500001.0</td>\n",
       "    </tr>\n",
       "  </tbody>\n",
       "</table>\n",
       "</div>"
      ],
      "text/plain": [
       "                    count                 mean              stddev      min  \\\n",
       "longitude           20640  -119.56970445736148   2.003531723502584  -124.35   \n",
       "latitude            20640     35.6318614341087   2.135952397457101    32.54   \n",
       "housing_median_age  20640   28.639486434108527   12.58555761211163      1.0   \n",
       "total_rooms         20640   2635.7630813953488  2181.6152515827944      2.0   \n",
       "total_bedrooms      20433    537.8705525375618  421.38507007403115      1.0   \n",
       "population          20640   1425.4767441860465    1132.46212176534      3.0   \n",
       "households          20640    499.5396802325581   382.3297528316098      1.0   \n",
       "median_income       20640   3.8706710029070246   1.899821717945263   0.4999   \n",
       "median_house_value  20640   206855.81690891474  115395.61587441359  14999.0   \n",
       "\n",
       "                    quantile_25  quantile_50  quantile_75       max  \n",
       "longitude             -121.8000    -118.4900    -118.0100   -114.31  \n",
       "latitude                33.9300      34.2600      37.7100     41.95  \n",
       "housing_median_age      18.0000      29.0000      37.0000      52.0  \n",
       "total_rooms           1447.0000    2127.0000    3148.0000   39320.0  \n",
       "total_bedrooms         296.0000     435.0000     647.0000    6445.0  \n",
       "population             787.0000    1166.0000    1725.0000   35682.0  \n",
       "households             280.0000     409.0000     605.0000    6082.0  \n",
       "median_income            2.5625       3.5347       4.7431   15.0001  \n",
       "median_house_value  119600.0000  179700.0000  264700.0000  500001.0  "
      ]
     },
     "metadata": {},
     "output_type": "display_data"
    }
   ],
   "source": [
    "num_columns = [c for c in df.columns if c != 'ocean_proximity']\n",
    "quantile_lst = df.approxQuantile(num_columns, [0.25, 0.5, 0.75], 0)\n",
    "\n",
    "quantile_df = pd.DataFrame(quantile_lst, columns=['quantile_25', 'quantile_50', 'quantile_75'])\n",
    "quantile_df.index = num_columns\n",
    "\n",
    "df_describe = df.select(*num_columns).describe().toPandas().set_index('summary').T.join(quantile_df)\n",
    "columns_order_to_describe = ['count', 'mean', 'stddev','min', 'quantile_25', 'quantile_50', 'quantile_75', 'max']\n",
    "\n",
    "display(df_describe[columns_order_to_describe])"
   ]
  },
  {
   "cell_type": "code",
   "execution_count": 80,
   "id": "03dac2dc",
   "metadata": {
    "pycharm": {
     "name": "#%%\n"
    }
   },
   "outputs": [
    {
     "data": {
      "text/html": [
       "<div>\n",
       "<style scoped>\n",
       "    .dataframe tbody tr th:only-of-type {\n",
       "        vertical-align: middle;\n",
       "    }\n",
       "\n",
       "    .dataframe tbody tr th {\n",
       "        vertical-align: top;\n",
       "    }\n",
       "\n",
       "    .dataframe thead th {\n",
       "        text-align: right;\n",
       "    }\n",
       "</style>\n",
       "<table border=\"1\" class=\"dataframe\">\n",
       "  <thead>\n",
       "    <tr style=\"text-align: right;\">\n",
       "      <th></th>\n",
       "      <th>count</th>\n",
       "      <th>mean</th>\n",
       "      <th>stddev</th>\n",
       "      <th>min</th>\n",
       "      <th>quantile_25</th>\n",
       "      <th>quantile_50</th>\n",
       "      <th>quantile_75</th>\n",
       "      <th>max</th>\n",
       "    </tr>\n",
       "  </thead>\n",
       "  <tbody>\n",
       "    <tr>\n",
       "      <th>longitude</th>\n",
       "      <td>207</td>\n",
       "      <td>-119.47256038647346</td>\n",
       "      <td>2.001423938482286</td>\n",
       "      <td>-124.13</td>\n",
       "      <td>-121.8500</td>\n",
       "      <td>-118.4900</td>\n",
       "      <td>-117.9800</td>\n",
       "      <td>-114.59</td>\n",
       "    </tr>\n",
       "    <tr>\n",
       "      <th>latitude</th>\n",
       "      <td>207</td>\n",
       "      <td>35.49763285024152</td>\n",
       "      <td>2.097297776100012</td>\n",
       "      <td>32.66</td>\n",
       "      <td>33.9600</td>\n",
       "      <td>34.2000</td>\n",
       "      <td>37.5100</td>\n",
       "      <td>40.92</td>\n",
       "    </tr>\n",
       "    <tr>\n",
       "      <th>housing_median_age</th>\n",
       "      <td>207</td>\n",
       "      <td>29.270531400966185</td>\n",
       "      <td>11.964926543525893</td>\n",
       "      <td>4.0</td>\n",
       "      <td>19.0000</td>\n",
       "      <td>30.0000</td>\n",
       "      <td>38.0000</td>\n",
       "      <td>52.0</td>\n",
       "    </tr>\n",
       "    <tr>\n",
       "      <th>total_rooms</th>\n",
       "      <td>207</td>\n",
       "      <td>2562.6038647342993</td>\n",
       "      <td>1787.269788987037</td>\n",
       "      <td>154.0</td>\n",
       "      <td>1307.0000</td>\n",
       "      <td>2155.0000</td>\n",
       "      <td>3473.0000</td>\n",
       "      <td>11709.0</td>\n",
       "    </tr>\n",
       "    <tr>\n",
       "      <th>total_bedrooms</th>\n",
       "      <td>0</td>\n",
       "      <td>None</td>\n",
       "      <td>None</td>\n",
       "      <td>None</td>\n",
       "      <td>NaN</td>\n",
       "      <td>NaN</td>\n",
       "      <td>NaN</td>\n",
       "      <td>None</td>\n",
       "    </tr>\n",
       "    <tr>\n",
       "      <th>population</th>\n",
       "      <td>207</td>\n",
       "      <td>1477.7729468599034</td>\n",
       "      <td>1057.4482115173646</td>\n",
       "      <td>37.0</td>\n",
       "      <td>781.0000</td>\n",
       "      <td>1217.0000</td>\n",
       "      <td>1891.0000</td>\n",
       "      <td>7604.0</td>\n",
       "    </tr>\n",
       "    <tr>\n",
       "      <th>households</th>\n",
       "      <td>207</td>\n",
       "      <td>510.02415458937196</td>\n",
       "      <td>386.1207044990592</td>\n",
       "      <td>16.0</td>\n",
       "      <td>257.0000</td>\n",
       "      <td>427.0000</td>\n",
       "      <td>629.0000</td>\n",
       "      <td>3589.0</td>\n",
       "    </tr>\n",
       "    <tr>\n",
       "      <th>median_income</th>\n",
       "      <td>207</td>\n",
       "      <td>3.8222439613526573</td>\n",
       "      <td>1.9555946874300458</td>\n",
       "      <td>0.8527</td>\n",
       "      <td>2.5625</td>\n",
       "      <td>3.4115</td>\n",
       "      <td>4.6328</td>\n",
       "      <td>15.0001</td>\n",
       "    </tr>\n",
       "    <tr>\n",
       "      <th>median_house_value</th>\n",
       "      <td>207</td>\n",
       "      <td>206007.28019323671</td>\n",
       "      <td>111638.21454491059</td>\n",
       "      <td>45800.0</td>\n",
       "      <td>128100.0000</td>\n",
       "      <td>175000.0000</td>\n",
       "      <td>269300.0000</td>\n",
       "      <td>500001.0</td>\n",
       "    </tr>\n",
       "  </tbody>\n",
       "</table>\n",
       "</div>"
      ],
      "text/plain": [
       "                   count                 mean              stddev      min  \\\n",
       "longitude            207  -119.47256038647346   2.001423938482286  -124.13   \n",
       "latitude             207    35.49763285024152   2.097297776100012    32.66   \n",
       "housing_median_age   207   29.270531400966185  11.964926543525893      4.0   \n",
       "total_rooms          207   2562.6038647342993   1787.269788987037    154.0   \n",
       "total_bedrooms         0                 None                None     None   \n",
       "population           207   1477.7729468599034  1057.4482115173646     37.0   \n",
       "households           207   510.02415458937196   386.1207044990592     16.0   \n",
       "median_income        207   3.8222439613526573  1.9555946874300458   0.8527   \n",
       "median_house_value   207   206007.28019323671  111638.21454491059  45800.0   \n",
       "\n",
       "                    quantile_25  quantile_50  quantile_75       max  \n",
       "longitude             -121.8500    -118.4900    -117.9800   -114.59  \n",
       "latitude                33.9600      34.2000      37.5100     40.92  \n",
       "housing_median_age      19.0000      30.0000      38.0000      52.0  \n",
       "total_rooms           1307.0000    2155.0000    3473.0000   11709.0  \n",
       "total_bedrooms              NaN          NaN          NaN      None  \n",
       "population             781.0000    1217.0000    1891.0000    7604.0  \n",
       "households             257.0000     427.0000     629.0000    3589.0  \n",
       "median_income            2.5625       3.4115       4.6328   15.0001  \n",
       "median_house_value  128100.0000  175000.0000  269300.0000  500001.0  "
      ]
     },
     "metadata": {},
     "output_type": "display_data"
    }
   ],
   "source": [
    "quantile_lst = df.filter('total_bedrooms is NULL').approxQuantile(num_columns, [0.25, 0.5, 0.75], 0)\n",
    "quantile_df = pd.DataFrame(quantile_lst, columns=['quantile_25', 'quantile_50', 'quantile_75'])\n",
    "quantile_df.index = num_columns\n",
    "\n",
    "df_describe_nans = df.filter('total_bedrooms is NULL').select(*num_columns).describe().toPandas().set_index('summary').T.join(quantile_df)\n",
    "\n",
    "display(df_describe_nans[columns_order_to_describe])"
   ]
  },
  {
   "cell_type": "markdown",
   "id": "443f2ab0",
   "metadata": {
    "pycharm": {
     "name": "#%% md\n"
    }
   },
   "source": [
    "Закономерности в пропусках выявить не удалось. Так как пропусков всего один процент, то заполним такие значения медианным значением признака.\n",
    "\n",
    "Получим медианное значение и выведем его на экран."
   ]
  },
  {
   "cell_type": "code",
   "execution_count": 81,
   "id": "339e2f3d",
   "metadata": {
    "pycharm": {
     "name": "#%%\n"
    }
   },
   "outputs": [
    {
     "data": {
      "text/plain": [
       "435.0"
      ]
     },
     "execution_count": 81,
     "metadata": {},
     "output_type": "execute_result"
    }
   ],
   "source": [
    "total_bedrooms_median = df.approxQuantile('total_bedrooms', [0.5], 0)[0]\n",
    "\n",
    "total_bedrooms_median"
   ]
  },
  {
   "cell_type": "markdown",
   "id": "00a423e2",
   "metadata": {
    "pycharm": {
     "name": "#%% md\n"
    }
   },
   "source": [
    "заполним пропуски медианными значениями и выполним повторную проверку"
   ]
  },
  {
   "cell_type": "code",
   "execution_count": 82,
   "id": "0783f422",
   "metadata": {
    "pycharm": {
     "name": "#%%\n"
    }
   },
   "outputs": [
    {
     "data": {
      "text/html": [
       "<style  type=\"text/css\" >\n",
       "#T_3be3e_row0_col0,#T_3be3e_row1_col0,#T_3be3e_row2_col0,#T_3be3e_row3_col0,#T_3be3e_row4_col0,#T_3be3e_row5_col0,#T_3be3e_row6_col0,#T_3be3e_row7_col0,#T_3be3e_row8_col0,#T_3be3e_row9_col0{\n",
       "            background-color:  #3b4cc0;\n",
       "            color:  #f1f1f1;\n",
       "        }</style><table id=\"T_3be3e_\" ><thead>    <tr>        <th class=\"blank level0\" ></th>        <th class=\"col_heading level0 col0\" >0</th>    </tr></thead><tbody>\n",
       "                <tr>\n",
       "                        <th id=\"T_3be3e_level0_row0\" class=\"row_heading level0 row0\" >longitude</th>\n",
       "                        <td id=\"T_3be3e_row0_col0\" class=\"data row0 col0\" >0.00</td>\n",
       "            </tr>\n",
       "            <tr>\n",
       "                        <th id=\"T_3be3e_level0_row1\" class=\"row_heading level0 row1\" >latitude</th>\n",
       "                        <td id=\"T_3be3e_row1_col0\" class=\"data row1 col0\" >0.00</td>\n",
       "            </tr>\n",
       "            <tr>\n",
       "                        <th id=\"T_3be3e_level0_row2\" class=\"row_heading level0 row2\" >housing_median_age</th>\n",
       "                        <td id=\"T_3be3e_row2_col0\" class=\"data row2 col0\" >0.00</td>\n",
       "            </tr>\n",
       "            <tr>\n",
       "                        <th id=\"T_3be3e_level0_row3\" class=\"row_heading level0 row3\" >total_rooms</th>\n",
       "                        <td id=\"T_3be3e_row3_col0\" class=\"data row3 col0\" >0.00</td>\n",
       "            </tr>\n",
       "            <tr>\n",
       "                        <th id=\"T_3be3e_level0_row4\" class=\"row_heading level0 row4\" >total_bedrooms</th>\n",
       "                        <td id=\"T_3be3e_row4_col0\" class=\"data row4 col0\" >0.00</td>\n",
       "            </tr>\n",
       "            <tr>\n",
       "                        <th id=\"T_3be3e_level0_row5\" class=\"row_heading level0 row5\" >population</th>\n",
       "                        <td id=\"T_3be3e_row5_col0\" class=\"data row5 col0\" >0.00</td>\n",
       "            </tr>\n",
       "            <tr>\n",
       "                        <th id=\"T_3be3e_level0_row6\" class=\"row_heading level0 row6\" >households</th>\n",
       "                        <td id=\"T_3be3e_row6_col0\" class=\"data row6 col0\" >0.00</td>\n",
       "            </tr>\n",
       "            <tr>\n",
       "                        <th id=\"T_3be3e_level0_row7\" class=\"row_heading level0 row7\" >median_income</th>\n",
       "                        <td id=\"T_3be3e_row7_col0\" class=\"data row7 col0\" >0.00</td>\n",
       "            </tr>\n",
       "            <tr>\n",
       "                        <th id=\"T_3be3e_level0_row8\" class=\"row_heading level0 row8\" >median_house_value</th>\n",
       "                        <td id=\"T_3be3e_row8_col0\" class=\"data row8 col0\" >0.00</td>\n",
       "            </tr>\n",
       "            <tr>\n",
       "                        <th id=\"T_3be3e_level0_row9\" class=\"row_heading level0 row9\" >ocean_proximity</th>\n",
       "                        <td id=\"T_3be3e_row9_col0\" class=\"data row9 col0\" >0.00</td>\n",
       "            </tr>\n",
       "    </tbody></table>"
      ],
      "text/plain": [
       "<pandas.io.formats.style.Styler at 0x7f6835a562b0>"
      ]
     },
     "execution_count": 82,
     "metadata": {},
     "output_type": "execute_result"
    }
   ],
   "source": [
    "df = df.fillna(total_bedrooms_median, subset=['total_bedrooms'])\n",
    "pd.DataFrame(round(df.toPandas().isna().sum(),)).style.background_gradient('coolwarm').format(\"{:.2f}\")\n"
   ]
  },
  {
   "cell_type": "markdown",
   "id": "e82fc94c",
   "metadata": {
    "pycharm": {
     "name": "#%% md\n"
    }
   },
   "source": [
    "Рассмотрим также корреляцию признаков, исключив целевой и категориальный признаки.\n",
    "\n",
    "Для этого будем использовать функцию корреляции в пакете pyspark.ml.stat. Между тем, требуется требуется перевести типы данных в столбцах в Vector, для конвертации данных будем использовать VectorAssembler, а затем применим корреляцию."
   ]
  },
  {
   "cell_type": "code",
   "execution_count": 83,
   "id": "1996793f",
   "metadata": {
    "pycharm": {
     "name": "#%%\n"
    }
   },
   "outputs": [
    {
     "data": {
      "image/png": "[encoded data removed]",
      "text/plain": [
       "<Figure size 432x288 with 2 Axes>"
      ]
     },
     "metadata": {
      "needs_background": "light"
     },
     "output_type": "display_data"
    }
   ],
   "source": [
    "corr_columns = [c for c in num_columns if c != 'median_house_value']\n",
    "\n",
    "vector_col = 'corr_features'\n",
    "assembler = VectorAssembler(inputCols=corr_columns, outputCol=vector_col)\n",
    "df_vector = assembler.setHandleInvalid(\"skip\").transform(df[corr_columns]).select(vector_col)\n",
    "\n",
    "#создаем матрицу\n",
    "matrix = Correlation.corr(df_vector, vector_col)\n",
    "cor_np = matrix.collect()[0][matrix.columns[0]].toArray()\n",
    "\n",
    "matrix_df = pd.DataFrame(cor_np, columns=corr_columns)\n",
    "matrix_df.index = corr_columns\n",
    "\n",
    "matrix_mask = np.triu(matrix_df)\n",
    "sns.heatmap(matrix_df,\n",
    "           annot=True,\n",
    "     mask=matrix_mask,\n",
    "              vmin=-1,\n",
    "               vmax=1,\n",
    "      cmap='coolwarm')\n",
    "plt.show()"
   ]
  },
  {
   "cell_type": "markdown",
   "id": "74a07932",
   "metadata": {
    "pycharm": {
     "name": "#%% md\n"
    }
   },
   "source": [
    "Найдём жилые массивы, в которых живут самые обеспеченные люди. "
   ]
  },
  {
   "cell_type": "code",
   "execution_count": 84,
   "id": "3eceb109",
   "metadata": {
    "pycharm": {
     "name": "#%%\n"
    }
   },
   "outputs": [
    {
     "name": "stderr",
     "output_type": "stream",
     "text": [
      "                                                                                \r"
     ]
    },
    {
     "data": {
      "image/png": "[encoded data removed]",
      "text/plain": [
       "<Figure size 432x288 with 1 Axes>"
      ]
     },
     "metadata": {
      "needs_background": "light"
     },
     "output_type": "display_data"
    }
   ],
   "source": [
    "df_wealthy = df.groupBy('ocean_proximity').agg(F.avg('median_income').alias('avg_median_income')).toPandas()\n",
    "df_wealthy\n",
    "bar = sns.barplot(data = df_wealthy, x='ocean_proximity', y='avg_median_income')\n",
    "bar.set_title('Среднее значение медианного дохода в жилом массиве по удаленности от океана')\n",
    "plt.show()"
   ]
  },
  {
   "cell_type": "markdown",
   "id": "a384fdc5",
   "metadata": {
    "pycharm": {
     "name": "#%% md\n"
    }
   },
   "source": [
    "Сгруппируем данные по столбцу с категориями удалённости от океана и посчитаем среднее значение медианного дохода в жилом массиве:"
   ]
  },
  {
   "cell_type": "code",
   "execution_count": 85,
   "id": "c6477f27",
   "metadata": {
    "pycharm": {
     "name": "#%%\n"
    }
   },
   "outputs": [
    {
     "name": "stderr",
     "output_type": "stream",
     "text": [
      "                                                                                \r"
     ]
    },
    {
     "data": {
      "text/html": [
       "<div>\n",
       "<style scoped>\n",
       "    .dataframe tbody tr th:only-of-type {\n",
       "        vertical-align: middle;\n",
       "    }\n",
       "\n",
       "    .dataframe tbody tr th {\n",
       "        vertical-align: top;\n",
       "    }\n",
       "\n",
       "    .dataframe thead th {\n",
       "        text-align: right;\n",
       "    }\n",
       "</style>\n",
       "<table border=\"1\" class=\"dataframe\">\n",
       "  <thead>\n",
       "    <tr style=\"text-align: right;\">\n",
       "      <th></th>\n",
       "      <th>ocean_proximity</th>\n",
       "      <th>avg_median_income</th>\n",
       "    </tr>\n",
       "  </thead>\n",
       "  <tbody>\n",
       "    <tr>\n",
       "      <th>0</th>\n",
       "      <td>ISLAND</td>\n",
       "      <td>2.744420</td>\n",
       "    </tr>\n",
       "    <tr>\n",
       "      <th>1</th>\n",
       "      <td>NEAR OCEAN</td>\n",
       "      <td>4.005785</td>\n",
       "    </tr>\n",
       "    <tr>\n",
       "      <th>2</th>\n",
       "      <td>NEAR BAY</td>\n",
       "      <td>4.172885</td>\n",
       "    </tr>\n",
       "    <tr>\n",
       "      <th>3</th>\n",
       "      <td>&lt;1H OCEAN</td>\n",
       "      <td>4.230682</td>\n",
       "    </tr>\n",
       "    <tr>\n",
       "      <th>4</th>\n",
       "      <td>INLAND</td>\n",
       "      <td>3.208996</td>\n",
       "    </tr>\n",
       "  </tbody>\n",
       "</table>\n",
       "</div>"
      ],
      "text/plain": [
       "  ocean_proximity  avg_median_income\n",
       "0          ISLAND           2.744420\n",
       "1      NEAR OCEAN           4.005785\n",
       "2        NEAR BAY           4.172885\n",
       "3       <1H OCEAN           4.230682\n",
       "4          INLAND           3.208996"
      ]
     },
     "execution_count": 85,
     "metadata": {},
     "output_type": "execute_result"
    }
   ],
   "source": [
    "df_wealthy = df.groupBy('ocean_proximity').agg(F.avg('median_income').alias('avg_median_income')).toPandas()\n",
    "df_wealthy"
   ]
  },
  {
   "cell_type": "markdown",
   "id": "3a51835c",
   "metadata": {
    "pycharm": {
     "name": "#%% md\n"
    }
   },
   "source": [
    "Таким образом, мы видим, что люди с высоким доходом предпочитают селиться в жилых массивах, которые находятся не более чем в часе езды до океана или около залива."
   ]
  },
  {
   "cell_type": "markdown",
   "id": "7a7ae282",
   "metadata": {
    "pycharm": {
     "name": "#%% md\n"
    }
   },
   "source": [
    " Исследуем зависимость возраста жителей от удалённости жилого массива от океана."
   ]
  },
  {
   "cell_type": "code",
   "execution_count": 86,
   "id": "9f53b30e",
   "metadata": {
    "pycharm": {
     "name": "#%%\n"
    }
   },
   "outputs": [
    {
     "name": "stderr",
     "output_type": "stream",
     "text": [
      "                                                                                \r"
     ]
    },
    {
     "data": {
      "text/html": [
       "<div>\n",
       "<style scoped>\n",
       "    .dataframe tbody tr th:only-of-type {\n",
       "        vertical-align: middle;\n",
       "    }\n",
       "\n",
       "    .dataframe tbody tr th {\n",
       "        vertical-align: top;\n",
       "    }\n",
       "\n",
       "    .dataframe thead th {\n",
       "        text-align: right;\n",
       "    }\n",
       "</style>\n",
       "<table border=\"1\" class=\"dataframe\">\n",
       "  <thead>\n",
       "    <tr style=\"text-align: right;\">\n",
       "      <th></th>\n",
       "      <th>housing_median_age</th>\n",
       "      <th>ocean_proximity</th>\n",
       "      <th>count_households</th>\n",
       "    </tr>\n",
       "  </thead>\n",
       "  <tbody>\n",
       "    <tr>\n",
       "      <th>0</th>\n",
       "      <td>23.0</td>\n",
       "      <td>&lt;1H OCEAN</td>\n",
       "      <td>195</td>\n",
       "    </tr>\n",
       "    <tr>\n",
       "      <th>1</th>\n",
       "      <td>31.0</td>\n",
       "      <td>NEAR BAY</td>\n",
       "      <td>41</td>\n",
       "    </tr>\n",
       "    <tr>\n",
       "      <th>2</th>\n",
       "      <td>11.0</td>\n",
       "      <td>&lt;1H OCEAN</td>\n",
       "      <td>83</td>\n",
       "    </tr>\n",
       "    <tr>\n",
       "      <th>3</th>\n",
       "      <td>36.0</td>\n",
       "      <td>&lt;1H OCEAN</td>\n",
       "      <td>477</td>\n",
       "    </tr>\n",
       "    <tr>\n",
       "      <th>4</th>\n",
       "      <td>10.0</td>\n",
       "      <td>INLAND</td>\n",
       "      <td>151</td>\n",
       "    </tr>\n",
       "  </tbody>\n",
       "</table>\n",
       "</div>"
      ],
      "text/plain": [
       "   housing_median_age ocean_proximity  count_households\n",
       "0                23.0       <1H OCEAN               195\n",
       "1                31.0        NEAR BAY                41\n",
       "2                11.0       <1H OCEAN                83\n",
       "3                36.0       <1H OCEAN               477\n",
       "4                10.0          INLAND               151"
      ]
     },
     "execution_count": 86,
     "metadata": {},
     "output_type": "execute_result"
    }
   ],
   "source": [
    "df_ages = df.groupBy('housing_median_age', 'ocean_proximity').agg({'housing_median_age':'count'}).toPandas()\n",
    "df_ages = df_ages.rename({'count(housing_median_age)':'count_households'},axis=1)\n",
    "df_ages.head()"
   ]
  },
  {
   "cell_type": "code",
   "execution_count": 87,
   "id": "bb36acfd",
   "metadata": {
    "pycharm": {
     "name": "#%%\n"
    }
   },
   "outputs": [
    {
     "name": "stderr",
     "output_type": "stream",
     "text": [
      "                                                                                \r"
     ]
    },
    {
     "data": {
      "text/plain": [
       "<AxesSubplot:xlabel='housing_median_age', ylabel='count(housing_median_age)'>"
      ]
     },
     "execution_count": 87,
     "metadata": {},
     "output_type": "execute_result"
    },
    {
     "data": {
      "image/png": "[encoded data removed]",
      "text/plain": [
       "<Figure size 432x288 with 1 Axes>"
      ]
     },
     "metadata": {
      "needs_background": "light"
     },
     "output_type": "display_data"
    }
   ],
   "source": [
    "df_ages = df.groupBy(['ocean_proximity', 'housing_median_age']).agg(F.count('housing_median_age')).toPandas()\n",
    "\n",
    "sns.lineplot(data=df_ages, \n",
    "    x='housing_median_age', \n",
    "    y='count(housing_median_age)', \n",
    "    hue='ocean_proximity'\n",
    "            )"
   ]
  },
  {
   "cell_type": "markdown",
   "id": "e567ab5c",
   "metadata": {
    "pycharm": {
     "name": "#%% md\n"
    }
   },
   "source": [
    "По графику можно предположить, что люди до 20 лет чаще живут в материковой части Калифорнии (INLAND) и в радиусе часа езды до океана. Старшие поколения предпочитают селиться в радиусе часа езды до океана и около залива.\n",
    "\n"
   ]
  },
  {
   "cell_type": "markdown",
   "id": "4e3316a7",
   "metadata": {
    "pycharm": {
     "name": "#%% md\n"
    }
   },
   "source": [
    "***Выводы:***\n",
    "\n",
    "\n",
    "- В столбце total_bedrooms есть пропуски, которые были заполнены медианным значением;\n",
    "- В данных есть выбросы. Если при обучении модели наличие выбросов будет серьезно искажать результаты, то от них стоит избавиться.\n",
    "- Высокой корреляцией между собой: количество домовладений в массиве и количество спален, наряду с количеством комнат и количество человек, которые проживают в жилом массиве. "
   ]
  },
  {
   "cell_type": "markdown",
   "id": "46bf7a8c",
   "metadata": {
    "pycharm": {
     "name": "#%% md\n"
    }
   },
   "source": [
    "Итак, мы создали новые признаки для модели машинного обучения. Начинаем подготовку к обучению моделей. Разделим колонки на два типа: числовые и текстовые, которые представляют категориальные данные."
   ]
  },
  {
   "cell_type": "markdown",
   "id": "d9faa463",
   "metadata": {
    "pycharm": {
     "name": "#%% md\n"
    }
   },
   "source": [
    "### Трансформация признаков"
   ]
  },
  {
   "cell_type": "code",
   "execution_count": 88,
   "id": "28c4a10b",
   "metadata": {
    "pycharm": {
     "name": "#%%\n"
    }
   },
   "outputs": [],
   "source": [
    "stages = []\n",
    "\n",
    "categoricalColumns = ['ocean_proximity']\n",
    "for categoricalCol in categoricalColumns:\n",
    "    stringIndexer = StringIndexer(inputCol = categoricalCol,\n",
    "                                  outputCol = categoricalCol + 'Index',\n",
    "                                  handleInvalid = 'keep')\n",
    "    encoder = OneHotEncoder(inputCol=stringIndexer.getOutputCol(),\n",
    "                            outputCol=categoricalCol + \"classVec\")\n",
    "    stages += [stringIndexer, encoder]\n",
    "\n",
    "numericCols = ['longitude', 'latitude', 'housing_median_age', 'total_rooms', 'total_bedrooms', 'population', 'households', 'median_income']\n",
    "\n",
    "assemblerInputs = [c + \"classVec\" for c in categoricalColumns] + numericCols\n",
    "assembler_all = VectorAssembler(inputCols=assemblerInputs, outputCol='features')\n",
    "\n",
    "stages += [assembler_all]"
   ]
  },
  {
   "cell_type": "markdown",
   "id": "d1e199cc",
   "metadata": {
    "pycharm": {
     "name": "#%% md\n"
    }
   },
   "source": [
    "Обучение модели на данных с сохранением категориальных данных"
   ]
  },
  {
   "cell_type": "code",
   "execution_count": 89,
   "id": "8b272937",
   "metadata": {
    "pycharm": {
     "name": "#%%\n"
    }
   },
   "outputs": [
    {
     "name": "stdout",
     "output_type": "stream",
     "text": [
      "Обучающая выборка содержит: 16431 строк, 10 столбцов Тестовая выборка содержит: 4209 строк, 10 столбцов\n"
     ]
    }
   ],
   "source": [
    "target = 'median_house_value'\n",
    "\n",
    "train, test = df.randomSplit([.8,.2], seed=12345)\n",
    "print(f'Обучающая выборка содержит: {train.count()} строк, {len(train.columns)} столбцов',\n",
    "      f'Тестовая выборка содержит: {test.count()} строк, {len(test.columns)} столбцов')"
   ]
  },
  {
   "cell_type": "markdown",
   "id": "c8bf1d6d",
   "metadata": {
    "pycharm": {
     "name": "#%% md\n"
    }
   },
   "source": [
    "Финальный шаг преобразований — это объединение признаков в один вектор, с которым ML-алгоритм умеет работать."
   ]
  },
  {
   "cell_type": "markdown",
   "id": "7ccf7c53",
   "metadata": {
    "pycharm": {
     "name": "#%% md\n"
    }
   },
   "source": [
    "На этапе обучения моделей нам предстоит построить две модели линейной регрессии на разных наборах данных:\n",
    "\n",
    "- используя все данные из файла;\n",
    "- используя только числовые переменные, исключив категориальные."
   ]
  },
  {
   "cell_type": "markdown",
   "id": "38eadfab",
   "metadata": {
    "pycharm": {
     "name": "#%% md\n"
    }
   },
   "source": [
    "необходимо подготовить дополнительный датасет, из которого исключены категориальные признаки"
   ]
  },
  {
   "cell_type": "markdown",
   "id": "609084f9",
   "metadata": {
    "pycharm": {
     "name": "#%% md\n"
    }
   },
   "source": [
    "В процессе загрузки датасетов, пребобработки данных и трансформации признаков было выявлено:\n",
    "\n",
    "- Проверены пропуски (найдено 207 пропусков в столбец total_bedrooms), строки, в которых есть пропущенные значения были заменены на медианные значения.\n",
    "- Найдены жилые массивы, в которых живут самые обеспеченные люди, сгруппированы данные по столбцу с категориями удалённости от океана и посчитано среднее значение медианного дохода в жилом массиве. На основе полученных данных можно сделать вывод, что люди с высоким доходом предпочитают селиться в жилых массивах, которые находятся не более чем в часе езды до океана или около залива.\n",
    "- Исследована зависимость возраста жителей от удалённости жилого массива от океана и сгруппированы данные по двум столбцам: медианный возраст жителей и удалённость от океана, а потом было посчитано, сколько раз встречается то или иное медианное значение возраста в зависимости от удалённости от океана. Построен график, по которому можно предположить, что люди до 20 лет чаще живут в материковой части Калифорнии (INLAND) и в радиусе часа езды до океана. Старшие поколения предпочитают селиться в радиусе часа езды до океана и около залива.\n",
    "- Созданы несколько новых столбцов с признаками:\n",
    "- Отношение количества комнат total_rooms к количеству домовладений households. Столбец rooms_per_household.\n",
    "- Отношение количества жителей population к количеству домовладений households. Столбец population_in_household.\n",
    "- Отношение количества спален total_bedrooms к общему количеству комнат total_rooms. Столбец bedroom_index"
   ]
  },
  {
   "cell_type": "markdown",
   "id": "9f0a82f3",
   "metadata": {
    "id": "9f0a82f3",
    "pycharm": {
     "name": "#%% md\n"
    }
   },
   "source": [
    "# Обучение моделей"
   ]
  },
  {
   "cell_type": "markdown",
   "id": "f5db29ec",
   "metadata": {
    "pycharm": {
     "name": "#%% md\n"
    }
   },
   "source": [
    "**Обучаем модель на всех данных**"
   ]
  },
  {
   "cell_type": "code",
   "execution_count": 90,
   "id": "0cc20c58",
   "metadata": {
    "pycharm": {
     "name": "#%%\n"
    }
   },
   "outputs": [],
   "source": [
    "lr_all = LinearRegression(labelCol='median_house_value', featuresCol='features')\n",
    "stages += [lr_all]"
   ]
  },
  {
   "cell_type": "code",
   "execution_count": 91,
   "id": "44287ff6",
   "metadata": {
    "pycharm": {
     "name": "#%%\n"
    }
   },
   "outputs": [],
   "source": [
    "pipeline_all = Pipeline(stages=stages)"
   ]
  },
  {
   "cell_type": "code",
   "execution_count": 92,
   "id": "9d449087",
   "metadata": {
    "pycharm": {
     "name": "#%%\n"
    }
   },
   "outputs": [
    {
     "name": "stderr",
     "output_type": "stream",
     "text": [
      "23/03/22 13:45:16 WARN Instrumentation: [d7e17e7e] regParam is zero, which might cause numerical instability and overfitting.\n",
      "23/03/22 13:45:16 WARN Instrumentation: [d7e17e7e] Cholesky solver failed due to singular covariance matrix. Retrying with Quasi-Newton solver.\n"
     ]
    }
   ],
   "source": [
    "model_all = pipeline_all.fit(train)"
   ]
  },
  {
   "cell_type": "code",
   "execution_count": 93,
   "id": "21ba6ea4",
   "metadata": {
    "pycharm": {
     "name": "#%%\n"
    }
   },
   "outputs": [
    {
     "name": "stdout",
     "output_type": "stream",
     "text": [
      "+------------------+------------------+\n",
      "|median_house_value|        prediction|\n",
      "+------------------+------------------+\n",
      "|          106700.0|216239.41686426103|\n",
      "|          128900.0|207043.64720275532|\n",
      "|          116100.0| 233374.9593785298|\n",
      "|           70500.0|162953.64382442273|\n",
      "|           85600.0|187631.63073280314|\n",
      "+------------------+------------------+\n",
      "only showing top 5 rows\n",
      "\n"
     ]
    }
   ],
   "source": [
    "predictions_all = model_all.transform(test)\n",
    "predictedLabes_all = predictions_all.select('median_house_value', 'prediction')\n",
    "predictedLabes_all.show(5) "
   ]
  },
  {
   "cell_type": "markdown",
   "id": "527904b0",
   "metadata": {
    "pycharm": {
     "name": "#%% md\n"
    }
   },
   "source": [
    "**Чтобы убедиться в этом - проверим модель на тестовых данных.**"
   ]
  },
  {
   "cell_type": "markdown",
   "id": "ea61d58c",
   "metadata": {
    "pycharm": {
     "name": "#%% md\n"
    }
   },
   "source": [
    "**Обучаем модель на числовых данных**"
   ]
  },
  {
   "cell_type": "code",
   "execution_count": 94,
   "id": "5681afd8",
   "metadata": {
    "pycharm": {
     "name": "#%%\n"
    }
   },
   "outputs": [],
   "source": [
    "assemblerInputs_num = numericCols\n",
    "assembler_num = VectorAssembler(inputCols=assemblerInputs_num, outputCol='features')\n",
    "stages[2] = assembler_num"
   ]
  },
  {
   "cell_type": "code",
   "execution_count": 95,
   "id": "75595e1a",
   "metadata": {
    "pycharm": {
     "name": "#%%\n"
    }
   },
   "outputs": [],
   "source": [
    "pipeline_num = Pipeline(stages=stages)"
   ]
  },
  {
   "cell_type": "code",
   "execution_count": 96,
   "id": "102ae66c",
   "metadata": {
    "pycharm": {
     "name": "#%%\n"
    }
   },
   "outputs": [
    {
     "name": "stderr",
     "output_type": "stream",
     "text": [
      "23/03/22 13:45:18 WARN Instrumentation: [699d93d2] regParam is zero, which might cause numerical instability and overfitting.\n"
     ]
    }
   ],
   "source": [
    "model = pipeline_num.fit(train)"
   ]
  },
  {
   "cell_type": "code",
   "execution_count": 97,
   "id": "4d6b943b",
   "metadata": {
    "pycharm": {
     "name": "#%%\n"
    }
   },
   "outputs": [
    {
     "name": "stdout",
     "output_type": "stream",
     "text": [
      "+------------------+------------------+\n",
      "|median_house_value|        prediction|\n",
      "+------------------+------------------+\n",
      "|          106700.0|189494.01957265427|\n",
      "|          128900.0| 174156.0727373734|\n",
      "|          116100.0|200522.64080975205|\n",
      "|           70500.0|130308.13793004258|\n",
      "|           85600.0| 155216.9923943635|\n",
      "+------------------+------------------+\n",
      "only showing top 5 rows\n",
      "\n"
     ]
    }
   ],
   "source": [
    "predictions_num = model.transform(test)\n",
    "predictedLabes_num = predictions_num.select('median_house_value', 'prediction')\n",
    "predictedLabes_num.show(5)"
   ]
  },
  {
   "cell_type": "markdown",
   "id": "f6bcc156",
   "metadata": {
    "pycharm": {
     "name": "#%% md\n"
    }
   },
   "source": [
    "Сопоставив полученные метрики модели, обученной на полном наборе данных и модели, обученной исключтельно на числовых признаках, приходим к следующим выводам:\n",
    "- r2: 0.63 говорит нам о том, что кол-во отклонений на нашей модели, зависящих от набора данных составляет 0.01 (0.63 vs 0.64);\n",
    "- модель, основанная на числовых признаках, предсказывает цены на жильё до 69847, против 68788 в модели, основанной на всем наборе признаков."
   ]
  },
  {
   "cell_type": "markdown",
   "id": "757fd103",
   "metadata": {
    "id": "757fd103",
    "pycharm": {
     "name": "#%% md\n"
    }
   },
   "source": [
    "# Анализ результатов"
   ]
  },
  {
   "cell_type": "code",
   "execution_count": 98,
   "id": "14683ae8",
   "metadata": {
    "pycharm": {
     "name": "#%%\n"
    }
   },
   "outputs": [],
   "source": [
    "results = []"
   ]
  },
  {
   "cell_type": "code",
   "execution_count": 99,
   "id": "b0c04bc7",
   "metadata": {
    "pycharm": {
     "name": "#%%\n"
    }
   },
   "outputs": [],
   "source": [
    "def all_metrics(pred_data, model_name):\n",
    "    rmse = RegressionEvaluator(predictionCol=\"prediction\", labelCol=\"median_house_value\", metricName='rmse').evaluate(pred_data)\n",
    "    mae = RegressionEvaluator(predictionCol=\"prediction\", labelCol=\"median_house_value\", metricName='mae').evaluate(pred_data)\n",
    "    r2 = RegressionEvaluator(predictionCol=\"prediction\", labelCol=\"median_house_value\", metricName='r2').evaluate(pred_data)\n",
    "    return model_name, rmse, mae, r2"
   ]
  },
  {
   "cell_type": "code",
   "execution_count": 100,
   "id": "28daf9ab",
   "metadata": {
    "pycharm": {
     "name": "#%%\n"
    }
   },
   "outputs": [],
   "source": [
    "results.append(all_metrics(predictedLabes_all,'features'))\n",
    "results.append(all_metrics(predictedLabes_num, 'numerical_features'))"
   ]
  },
  {
   "cell_type": "code",
   "execution_count": 101,
   "id": "b5504a0a",
   "metadata": {
    "scrolled": true,
    "pycharm": {
     "name": "#%%\n"
    }
   },
   "outputs": [
    {
     "data": {
      "text/html": [
       "<style  type=\"text/css\" >\n",
       "#T_f7b7f_row0_col1,#T_f7b7f_row0_col2,#T_f7b7f_row1_col3{\n",
       "            background-color:  yellow;\n",
       "        }</style><table id=\"T_f7b7f_\" ><thead>    <tr>        <th class=\"blank level0\" ></th>        <th class=\"col_heading level0 col0\" >Model</th>        <th class=\"col_heading level0 col1\" >RMSE</th>        <th class=\"col_heading level0 col2\" >MAE</th>        <th class=\"col_heading level0 col3\" >R2</th>    </tr></thead><tbody>\n",
       "                <tr>\n",
       "                        <th id=\"T_f7b7f_level0_row0\" class=\"row_heading level0 row0\" >0</th>\n",
       "                        <td id=\"T_f7b7f_row0_col0\" class=\"data row0 col0\" >features</td>\n",
       "                        <td id=\"T_f7b7f_row0_col1\" class=\"data row0 col1\" >67710.875001</td>\n",
       "                        <td id=\"T_f7b7f_row0_col2\" class=\"data row0 col2\" >49104.504959</td>\n",
       "                        <td id=\"T_f7b7f_row0_col3\" class=\"data row0 col3\" >0.658834</td>\n",
       "            </tr>\n",
       "            <tr>\n",
       "                        <th id=\"T_f7b7f_level0_row1\" class=\"row_heading level0 row1\" >1</th>\n",
       "                        <td id=\"T_f7b7f_row1_col0\" class=\"data row1 col0\" >numerical_features</td>\n",
       "                        <td id=\"T_f7b7f_row1_col1\" class=\"data row1 col1\" >68813.706770</td>\n",
       "                        <td id=\"T_f7b7f_row1_col2\" class=\"data row1 col2\" >50311.017851</td>\n",
       "                        <td id=\"T_f7b7f_row1_col3\" class=\"data row1 col3\" >0.647630</td>\n",
       "            </tr>\n",
       "    </tbody></table>"
      ],
      "text/plain": [
       "<pandas.io.formats.style.Styler at 0x7f6835b25940>"
      ]
     },
     "execution_count": 101,
     "metadata": {},
     "output_type": "execute_result"
    }
   ],
   "source": [
    "results = pd.DataFrame(results, columns=['Model', 'RMSE', 'MAE', 'R2'])\n",
    "results.style.highlight_min(axis = 0)"
   ]
  },
  {
   "cell_type": "code",
   "execution_count": null,
   "id": "d3f3c514",
   "metadata": {
    "pycharm": {
     "name": "#%%\n"
    }
   },
   "outputs": [],
   "source": [
    "spark.stop()"
   ]
  },
  {
   "cell_type": "markdown",
   "id": "37a58483",
   "metadata": {
    "pycharm": {
     "name": "#%% md\n"
    }
   },
   "source": [
    "Нами проведено обучение 2-х моделей, с использованием 2-х наборов признаков:\n",
    "- всех признаков датасета (all_features);\n",
    "- только числовых признаков датасета (numerical_features_scaled).\n",
    "\n",
    "По итогам обучения можно сделать вывод, что отличия моделей потенциально не значимы и обе модели практически одинаково предсказывают целевой признак."
   ]
  }
 ],
 "metadata": {
  "ExecuteTimeLog": [
   {
    "duration": 16107,
    "start_time": "2023-03-16T00:56:57.215Z"
   },
   {
    "duration": 8911,
    "start_time": "2023-03-16T00:57:38.790Z"
   },
   {
    "duration": 1222,
    "start_time": "2023-03-16T02:01:54.868Z"
   },
   {
    "duration": 428,
    "start_time": "2023-03-16T02:18:26.775Z"
   },
   {
    "duration": 887,
    "start_time": "2023-03-16T02:19:04.104Z"
   },
   {
    "duration": 679,
    "start_time": "2023-03-16T02:19:28.177Z"
   },
   {
    "duration": 797,
    "start_time": "2023-03-16T02:25:40.605Z"
   },
   {
    "duration": 507,
    "start_time": "2023-03-16T02:25:56.181Z"
   },
   {
    "duration": 587,
    "start_time": "2023-03-16T02:26:35.695Z"
   },
   {
    "duration": 843,
    "start_time": "2023-03-16T02:27:14.809Z"
   },
   {
    "duration": 466,
    "start_time": "2023-03-16T02:27:35.311Z"
   },
   {
    "duration": 235,
    "start_time": "2023-03-16T02:37:05.759Z"
   },
   {
    "duration": 49,
    "start_time": "2023-03-16T02:37:26.271Z"
   },
   {
    "duration": 304,
    "start_time": "2023-03-16T02:39:31.844Z"
   },
   {
    "duration": 50,
    "start_time": "2023-03-16T02:40:00.454Z"
   },
   {
    "duration": 49,
    "start_time": "2023-03-16T02:40:19.411Z"
   },
   {
    "duration": 502,
    "start_time": "2023-03-16T02:42:01.189Z"
   },
   {
    "duration": 19,
    "start_time": "2023-03-16T02:50:01.078Z"
   },
   {
    "duration": 1079,
    "start_time": "2023-03-16T02:51:24.503Z"
   },
   {
    "duration": 879,
    "start_time": "2023-03-16T02:52:20.013Z"
   },
   {
    "duration": 10,
    "start_time": "2023-03-16T02:56:52.646Z"
   },
   {
    "duration": 16,
    "start_time": "2023-03-16T03:00:09.968Z"
   },
   {
    "duration": 78,
    "start_time": "2023-03-16T03:00:27.371Z"
   },
   {
    "duration": 19,
    "start_time": "2023-03-16T03:02:28.792Z"
   },
   {
    "duration": 4505,
    "start_time": "2023-03-16T03:02:37.103Z"
   },
   {
    "duration": 761,
    "start_time": "2023-03-16T03:07:28.258Z"
   },
   {
    "duration": 676,
    "start_time": "2023-03-16T03:08:05.108Z"
   },
   {
    "duration": 949,
    "start_time": "2023-03-16T03:08:10.800Z"
   },
   {
    "duration": 563,
    "start_time": "2023-03-16T03:09:36.778Z"
   },
   {
    "duration": 1426,
    "start_time": "2023-03-16T03:09:41.039Z"
   },
   {
    "duration": 1398,
    "start_time": "2023-03-16T03:10:01.978Z"
   },
   {
    "duration": 1527,
    "start_time": "2023-03-16T03:12:02.212Z"
   },
   {
    "duration": 80,
    "start_time": "2023-03-16T03:12:23.828Z"
   },
   {
    "duration": 1534,
    "start_time": "2023-03-16T03:13:06.478Z"
   },
   {
    "duration": 1232,
    "start_time": "2023-03-16T03:13:18.067Z"
   },
   {
    "duration": 1382,
    "start_time": "2023-03-16T03:14:29.972Z"
   },
   {
    "duration": 1352,
    "start_time": "2023-03-16T03:14:46.439Z"
   },
   {
    "duration": 850,
    "start_time": "2023-03-16T03:16:44.600Z"
   },
   {
    "duration": 1807,
    "start_time": "2023-03-16T03:16:50.228Z"
   },
   {
    "duration": 1670,
    "start_time": "2023-03-16T03:17:23.358Z"
   },
   {
    "duration": 2782,
    "start_time": "2023-03-16T03:18:14.448Z"
   },
   {
    "duration": 1736,
    "start_time": "2023-03-16T03:18:45.629Z"
   },
   {
    "duration": 4478,
    "start_time": "2023-03-16T03:20:06.605Z"
   },
   {
    "duration": 3577,
    "start_time": "2023-03-16T03:21:48.143Z"
   },
   {
    "duration": 17,
    "start_time": "2023-03-16T03:28:16.757Z"
   },
   {
    "duration": 10,
    "start_time": "2023-03-16T03:28:30.549Z"
   },
   {
    "duration": 6,
    "start_time": "2023-03-16T03:28:43.010Z"
   },
   {
    "duration": 588,
    "start_time": "2023-03-16T03:28:59.158Z"
   },
   {
    "duration": 432,
    "start_time": "2023-03-16T03:29:09.394Z"
   },
   {
    "duration": 7,
    "start_time": "2023-03-16T03:29:09.829Z"
   },
   {
    "duration": 1895,
    "start_time": "2023-03-16T03:29:09.837Z"
   },
   {
    "duration": 400,
    "start_time": "2023-03-16T03:29:11.734Z"
   },
   {
    "duration": 9,
    "start_time": "2023-03-16T03:29:12.136Z"
   },
   {
    "duration": 426,
    "start_time": "2023-03-16T03:29:12.147Z"
   },
   {
    "duration": 1445,
    "start_time": "2023-03-16T03:29:12.584Z"
   },
   {
    "duration": 0,
    "start_time": "2023-03-16T03:29:14.030Z"
   },
   {
    "duration": 0,
    "start_time": "2023-03-16T03:29:14.032Z"
   },
   {
    "duration": 2432,
    "start_time": "2023-03-16T03:30:21.115Z"
   },
   {
    "duration": 2546,
    "start_time": "2023-03-16T03:30:26.141Z"
   },
   {
    "duration": 7,
    "start_time": "2023-03-16T03:36:42.550Z"
   },
   {
    "duration": 4,
    "start_time": "2023-03-16T03:38:46.372Z"
   },
   {
    "duration": 1728,
    "start_time": "2023-03-16T03:39:53.524Z"
   },
   {
    "duration": 124,
    "start_time": "2023-03-16T03:43:43.294Z"
   },
   {
    "duration": 238,
    "start_time": "2023-03-16T03:44:54.476Z"
   },
   {
    "duration": 116,
    "start_time": "2023-03-16T03:45:01.352Z"
   },
   {
    "duration": 481,
    "start_time": "2023-03-16T03:45:08.739Z"
   },
   {
    "duration": 7,
    "start_time": "2023-03-16T03:45:09.222Z"
   },
   {
    "duration": 2488,
    "start_time": "2023-03-16T03:45:09.231Z"
   },
   {
    "duration": 765,
    "start_time": "2023-03-16T03:45:11.721Z"
   },
   {
    "duration": 9,
    "start_time": "2023-03-16T03:45:12.488Z"
   },
   {
    "duration": 348,
    "start_time": "2023-03-16T03:45:12.499Z"
   },
   {
    "duration": 1588,
    "start_time": "2023-03-16T03:45:12.849Z"
   },
   {
    "duration": 0,
    "start_time": "2023-03-16T03:45:14.439Z"
   },
   {
    "duration": 0,
    "start_time": "2023-03-16T03:45:14.440Z"
   },
   {
    "duration": 0,
    "start_time": "2023-03-16T03:45:14.441Z"
   },
   {
    "duration": 0,
    "start_time": "2023-03-16T03:45:14.442Z"
   },
   {
    "duration": 0,
    "start_time": "2023-03-16T03:45:14.443Z"
   },
   {
    "duration": 2107,
    "start_time": "2023-03-16T03:45:18.508Z"
   },
   {
    "duration": 3524,
    "start_time": "2023-03-16T03:45:22.173Z"
   },
   {
    "duration": 3,
    "start_time": "2023-03-16T03:45:25.699Z"
   },
   {
    "duration": 711,
    "start_time": "2023-03-16T03:45:25.704Z"
   },
   {
    "duration": 64,
    "start_time": "2023-03-16T03:45:26.418Z"
   },
   {
    "duration": 120,
    "start_time": "2023-03-16T03:46:34.502Z"
   },
   {
    "duration": 114,
    "start_time": "2023-03-16T03:47:29.702Z"
   },
   {
    "duration": 8,
    "start_time": "2023-03-16T03:48:07.420Z"
   },
   {
    "duration": 462,
    "start_time": "2023-03-16T03:49:45.145Z"
   },
   {
    "duration": 29,
    "start_time": "2023-03-16T03:50:31.210Z"
   },
   {
    "duration": 429,
    "start_time": "2023-03-16T03:50:53.175Z"
   },
   {
    "duration": 3172,
    "start_time": "2023-03-16T03:53:26.136Z"
   },
   {
    "duration": 182,
    "start_time": "2023-03-16T03:54:22.611Z"
   },
   {
    "duration": 145,
    "start_time": "2023-03-16T03:54:43.468Z"
   },
   {
    "duration": 906,
    "start_time": "2023-03-16T04:07:44.917Z"
   },
   {
    "duration": 81,
    "start_time": "2023-03-16T04:07:45.905Z"
   },
   {
    "duration": 2901,
    "start_time": "2023-03-16T04:07:45.994Z"
   },
   {
    "duration": 0,
    "start_time": "2023-03-16T04:07:48.899Z"
   },
   {
    "duration": 0,
    "start_time": "2023-03-16T04:07:48.901Z"
   },
   {
    "duration": 0,
    "start_time": "2023-03-16T04:07:48.905Z"
   },
   {
    "duration": 0,
    "start_time": "2023-03-16T04:07:48.906Z"
   },
   {
    "duration": 0,
    "start_time": "2023-03-16T04:07:48.909Z"
   },
   {
    "duration": 0,
    "start_time": "2023-03-16T04:07:48.910Z"
   },
   {
    "duration": 0,
    "start_time": "2023-03-16T04:07:48.913Z"
   },
   {
    "duration": 0,
    "start_time": "2023-03-16T04:07:48.914Z"
   },
   {
    "duration": 0,
    "start_time": "2023-03-16T04:07:48.916Z"
   },
   {
    "duration": 1,
    "start_time": "2023-03-16T04:07:48.917Z"
   },
   {
    "duration": 0,
    "start_time": "2023-03-16T04:07:48.919Z"
   },
   {
    "duration": 0,
    "start_time": "2023-03-16T04:07:48.920Z"
   },
   {
    "duration": 0,
    "start_time": "2023-03-16T04:07:48.922Z"
   },
   {
    "duration": 0,
    "start_time": "2023-03-16T04:07:48.923Z"
   },
   {
    "duration": 600,
    "start_time": "2023-03-16T04:08:23.599Z"
   },
   {
    "duration": 304,
    "start_time": "2023-03-16T04:08:33.839Z"
   },
   {
    "duration": 0,
    "start_time": "2023-03-16T04:08:34.145Z"
   },
   {
    "duration": 0,
    "start_time": "2023-03-16T04:08:34.147Z"
   },
   {
    "duration": 0,
    "start_time": "2023-03-16T04:08:34.148Z"
   },
   {
    "duration": 0,
    "start_time": "2023-03-16T04:08:34.149Z"
   },
   {
    "duration": 0,
    "start_time": "2023-03-16T04:08:34.150Z"
   },
   {
    "duration": 0,
    "start_time": "2023-03-16T04:08:34.151Z"
   },
   {
    "duration": 0,
    "start_time": "2023-03-16T04:08:34.152Z"
   },
   {
    "duration": 0,
    "start_time": "2023-03-16T04:08:34.153Z"
   },
   {
    "duration": 0,
    "start_time": "2023-03-16T04:08:34.154Z"
   },
   {
    "duration": 0,
    "start_time": "2023-03-16T04:08:34.155Z"
   },
   {
    "duration": 0,
    "start_time": "2023-03-16T04:08:34.156Z"
   },
   {
    "duration": 0,
    "start_time": "2023-03-16T04:08:34.156Z"
   },
   {
    "duration": 0,
    "start_time": "2023-03-16T04:08:34.160Z"
   },
   {
    "duration": 28254,
    "start_time": "2023-03-16T04:09:00.540Z"
   },
   {
    "duration": 96,
    "start_time": "2023-03-16T04:09:28.797Z"
   },
   {
    "duration": 6696,
    "start_time": "2023-03-16T04:09:28.895Z"
   },
   {
    "duration": 1208,
    "start_time": "2023-03-16T04:09:35.593Z"
   },
   {
    "duration": 78,
    "start_time": "2023-03-16T04:09:36.803Z"
   },
   {
    "duration": 1424,
    "start_time": "2023-03-16T04:09:36.883Z"
   },
   {
    "duration": 6124,
    "start_time": "2023-03-16T04:09:38.309Z"
   },
   {
    "duration": 4827,
    "start_time": "2023-03-16T04:09:44.435Z"
   },
   {
    "duration": 3,
    "start_time": "2023-03-16T04:09:49.264Z"
   },
   {
    "duration": 2000,
    "start_time": "2023-03-16T04:09:49.281Z"
   },
   {
    "duration": 727,
    "start_time": "2023-03-16T04:09:51.284Z"
   },
   {
    "duration": 172,
    "start_time": "2023-03-16T04:09:52.013Z"
   },
   {
    "duration": 35,
    "start_time": "2023-03-16T04:09:52.187Z"
   },
   {
    "duration": 61,
    "start_time": "2023-03-16T04:09:52.225Z"
   },
   {
    "duration": 695,
    "start_time": "2023-03-16T04:09:52.288Z"
   },
   {
    "duration": 3403,
    "start_time": "2023-03-16T04:09:52.986Z"
   },
   {
    "duration": 1405,
    "start_time": "2023-03-16T04:21:59.331Z"
   },
   {
    "duration": 0,
    "start_time": "2023-03-16T04:22:00.739Z"
   },
   {
    "duration": 0,
    "start_time": "2023-03-16T04:22:00.740Z"
   },
   {
    "duration": 0,
    "start_time": "2023-03-16T04:22:00.741Z"
   },
   {
    "duration": 0,
    "start_time": "2023-03-16T04:22:00.742Z"
   },
   {
    "duration": 0,
    "start_time": "2023-03-16T04:22:00.743Z"
   },
   {
    "duration": 0,
    "start_time": "2023-03-16T04:22:00.745Z"
   },
   {
    "duration": 0,
    "start_time": "2023-03-16T04:22:00.746Z"
   },
   {
    "duration": 0,
    "start_time": "2023-03-16T04:22:00.747Z"
   },
   {
    "duration": 0,
    "start_time": "2023-03-16T04:22:00.748Z"
   },
   {
    "duration": 0,
    "start_time": "2023-03-16T04:22:00.748Z"
   },
   {
    "duration": 0,
    "start_time": "2023-03-16T04:22:00.750Z"
   },
   {
    "duration": 0,
    "start_time": "2023-03-16T04:22:00.751Z"
   },
   {
    "duration": 0,
    "start_time": "2023-03-16T04:22:00.752Z"
   },
   {
    "duration": 0,
    "start_time": "2023-03-16T04:22:00.754Z"
   },
   {
    "duration": 0,
    "start_time": "2023-03-16T04:22:00.781Z"
   },
   {
    "duration": 0,
    "start_time": "2023-03-16T04:22:00.783Z"
   },
   {
    "duration": 25335,
    "start_time": "2023-03-16T04:24:04.571Z"
   },
   {
    "duration": 1306,
    "start_time": "2023-03-16T04:25:12.674Z"
   },
   {
    "duration": 33,
    "start_time": "2023-03-16T04:25:13.983Z"
   },
   {
    "duration": 5634,
    "start_time": "2023-03-16T04:25:14.080Z"
   },
   {
    "duration": 1043,
    "start_time": "2023-03-16T04:25:19.782Z"
   },
   {
    "duration": 19,
    "start_time": "2023-03-16T04:25:20.880Z"
   },
   {
    "duration": 1063,
    "start_time": "2023-03-16T04:25:20.901Z"
   },
   {
    "duration": 6093,
    "start_time": "2023-03-16T04:25:21.966Z"
   },
   {
    "duration": 4646,
    "start_time": "2023-03-16T04:25:28.061Z"
   },
   {
    "duration": 3,
    "start_time": "2023-03-16T04:25:32.709Z"
   },
   {
    "duration": 1884,
    "start_time": "2023-03-16T04:25:32.713Z"
   },
   {
    "duration": 707,
    "start_time": "2023-03-16T04:25:34.599Z"
   },
   {
    "duration": 108,
    "start_time": "2023-03-16T04:25:35.308Z"
   },
   {
    "duration": 163,
    "start_time": "2023-03-16T04:25:35.418Z"
   },
   {
    "duration": 4,
    "start_time": "2023-03-16T04:25:35.584Z"
   },
   {
    "duration": 610,
    "start_time": "2023-03-16T04:25:35.590Z"
   },
   {
    "duration": 3100,
    "start_time": "2023-03-16T04:25:36.202Z"
   },
   {
    "duration": 87,
    "start_time": "2023-03-16T04:25:39.303Z"
   },
   {
    "duration": 708,
    "start_time": "2023-03-16T04:28:58.579Z"
   },
   {
    "duration": 4053,
    "start_time": "2023-03-16T04:29:37.661Z"
   },
   {
    "duration": 10,
    "start_time": "2023-03-16T04:30:03.585Z"
   },
   {
    "duration": 20,
    "start_time": "2023-03-16T04:30:12.645Z"
   },
   {
    "duration": 788,
    "start_time": "2023-03-16T04:30:32.218Z"
   },
   {
    "duration": 22,
    "start_time": "2023-03-16T04:30:43.693Z"
   },
   {
    "duration": 843,
    "start_time": "2023-03-16T04:35:28.373Z"
   },
   {
    "duration": 7,
    "start_time": "2023-03-16T05:11:55.790Z"
   },
   {
    "duration": 52,
    "start_time": "2023-03-17T03:02:28.158Z"
   },
   {
    "duration": 28284,
    "start_time": "2023-03-17T03:02:32.619Z"
   },
   {
    "duration": 41,
    "start_time": "2023-03-17T03:03:00.974Z"
   },
   {
    "duration": 6636,
    "start_time": "2023-03-17T03:03:01.073Z"
   },
   {
    "duration": 1207,
    "start_time": "2023-03-17T03:03:07.711Z"
   },
   {
    "duration": 6031,
    "start_time": "2023-03-17T03:03:08.975Z"
   },
   {
    "duration": 86,
    "start_time": "2023-03-17T03:03:15.008Z"
   },
   {
    "duration": 852,
    "start_time": "2023-03-17T03:03:15.096Z"
   },
   {
    "duration": 1950,
    "start_time": "2023-03-17T03:03:15.949Z"
   },
   {
    "duration": 0,
    "start_time": "2023-03-17T03:03:17.992Z"
   },
   {
    "duration": 0,
    "start_time": "2023-03-17T03:03:17.993Z"
   },
   {
    "duration": 0,
    "start_time": "2023-03-17T03:03:17.995Z"
   },
   {
    "duration": 0,
    "start_time": "2023-03-17T03:03:17.997Z"
   },
   {
    "duration": 0,
    "start_time": "2023-03-17T03:03:17.998Z"
   },
   {
    "duration": 0,
    "start_time": "2023-03-17T03:03:18.000Z"
   },
   {
    "duration": 0,
    "start_time": "2023-03-17T03:03:18.001Z"
   },
   {
    "duration": 0,
    "start_time": "2023-03-17T03:03:18.074Z"
   },
   {
    "duration": 0,
    "start_time": "2023-03-17T03:03:18.075Z"
   },
   {
    "duration": 0,
    "start_time": "2023-03-17T03:03:18.077Z"
   },
   {
    "duration": 0,
    "start_time": "2023-03-17T03:03:18.079Z"
   },
   {
    "duration": 0,
    "start_time": "2023-03-17T03:03:18.083Z"
   },
   {
    "duration": 1107,
    "start_time": "2023-03-17T03:03:31.428Z"
   },
   {
    "duration": 8,
    "start_time": "2023-03-17T03:03:32.538Z"
   },
   {
    "duration": 2824,
    "start_time": "2023-03-17T03:03:32.548Z"
   },
   {
    "duration": 440,
    "start_time": "2023-03-17T03:03:35.375Z"
   },
   {
    "duration": 2274,
    "start_time": "2023-03-17T03:03:35.816Z"
   },
   {
    "duration": 10,
    "start_time": "2023-03-17T03:03:38.092Z"
   },
   {
    "duration": 0,
    "start_time": "2023-03-17T03:03:38.105Z"
   },
   {
    "duration": 0,
    "start_time": "2023-03-17T03:03:38.106Z"
   },
   {
    "duration": 0,
    "start_time": "2023-03-17T03:03:38.107Z"
   },
   {
    "duration": 0,
    "start_time": "2023-03-17T03:03:38.109Z"
   },
   {
    "duration": 0,
    "start_time": "2023-03-17T03:03:38.111Z"
   },
   {
    "duration": 0,
    "start_time": "2023-03-17T03:03:38.112Z"
   },
   {
    "duration": 0,
    "start_time": "2023-03-17T03:03:38.113Z"
   },
   {
    "duration": 0,
    "start_time": "2023-03-17T03:03:38.115Z"
   },
   {
    "duration": 0,
    "start_time": "2023-03-17T03:03:38.116Z"
   },
   {
    "duration": 0,
    "start_time": "2023-03-17T03:03:38.173Z"
   },
   {
    "duration": 0,
    "start_time": "2023-03-17T03:03:38.175Z"
   },
   {
    "duration": 0,
    "start_time": "2023-03-17T03:03:38.176Z"
   },
   {
    "duration": 0,
    "start_time": "2023-03-17T03:03:38.177Z"
   },
   {
    "duration": 0,
    "start_time": "2023-03-17T03:03:38.180Z"
   },
   {
    "duration": 0,
    "start_time": "2023-03-17T03:03:38.181Z"
   },
   {
    "duration": 3454,
    "start_time": "2023-03-17T03:05:11.648Z"
   },
   {
    "duration": 1248,
    "start_time": "2023-03-17T03:06:37.480Z"
   },
   {
    "duration": 228,
    "start_time": "2023-03-17T03:09:27.046Z"
   },
   {
    "duration": 35,
    "start_time": "2023-03-17T03:10:49.584Z"
   },
   {
    "duration": 1002,
    "start_time": "2023-03-17T03:11:00.506Z"
   },
   {
    "duration": 789,
    "start_time": "2023-03-17T03:11:11.687Z"
   },
   {
    "duration": 1703,
    "start_time": "2023-03-17T03:11:34.903Z"
   },
   {
    "duration": 552,
    "start_time": "2023-03-17T03:11:47.899Z"
   },
   {
    "duration": 31,
    "start_time": "2023-03-17T03:13:01.655Z"
   },
   {
    "duration": 398,
    "start_time": "2023-03-17T03:13:14.498Z"
   },
   {
    "duration": 442,
    "start_time": "2023-03-17T03:14:17.694Z"
   },
   {
    "duration": 3631,
    "start_time": "2023-03-17T03:14:25.188Z"
   },
   {
    "duration": 10,
    "start_time": "2023-03-17T03:16:04.675Z"
   },
   {
    "duration": 3130,
    "start_time": "2023-03-17T03:16:15.361Z"
   },
   {
    "duration": 2232,
    "start_time": "2023-03-17T03:18:48.632Z"
   },
   {
    "duration": 3187,
    "start_time": "2023-03-17T03:19:59.725Z"
   },
   {
    "duration": 2347,
    "start_time": "2023-03-17T03:20:42.938Z"
   },
   {
    "duration": 32,
    "start_time": "2023-03-17T03:22:13.235Z"
   },
   {
    "duration": 37,
    "start_time": "2023-03-17T03:23:28.597Z"
   },
   {
    "duration": 33,
    "start_time": "2023-03-17T03:23:44.638Z"
   },
   {
    "duration": 3,
    "start_time": "2023-03-17T03:25:19.797Z"
   },
   {
    "duration": 1892,
    "start_time": "2023-03-17T03:30:32.107Z"
   },
   {
    "duration": 340,
    "start_time": "2023-03-17T03:30:35.134Z"
   },
   {
    "duration": 25,
    "start_time": "2023-03-17T03:30:48.103Z"
   },
   {
    "duration": 122,
    "start_time": "2023-03-17T03:31:06.063Z"
   },
   {
    "duration": 608,
    "start_time": "2023-03-17T03:31:20.820Z"
   },
   {
    "duration": 6,
    "start_time": "2023-03-17T03:31:21.431Z"
   },
   {
    "duration": 2204,
    "start_time": "2023-03-17T03:31:21.439Z"
   },
   {
    "duration": 762,
    "start_time": "2023-03-17T03:31:23.645Z"
   },
   {
    "duration": 1709,
    "start_time": "2023-03-17T03:31:24.409Z"
   },
   {
    "duration": 1994,
    "start_time": "2023-03-17T03:31:26.121Z"
   },
   {
    "duration": 903,
    "start_time": "2023-03-17T03:31:28.117Z"
   },
   {
    "duration": 283,
    "start_time": "2023-03-17T03:31:29.022Z"
   },
   {
    "duration": 685,
    "start_time": "2023-03-17T03:31:29.308Z"
   },
   {
    "duration": 2064,
    "start_time": "2023-03-17T03:31:29.995Z"
   },
   {
    "duration": 3127,
    "start_time": "2023-03-17T03:31:32.060Z"
   },
   {
    "duration": 2823,
    "start_time": "2023-03-17T03:31:35.190Z"
   },
   {
    "duration": 3681,
    "start_time": "2023-03-17T03:31:38.017Z"
   },
   {
    "duration": 3561,
    "start_time": "2023-03-17T03:31:41.702Z"
   },
   {
    "duration": 43,
    "start_time": "2023-03-17T03:31:45.265Z"
   },
   {
    "duration": 4,
    "start_time": "2023-03-17T03:31:45.310Z"
   },
   {
    "duration": 694,
    "start_time": "2023-03-17T03:31:45.316Z"
   },
   {
    "duration": 211,
    "start_time": "2023-03-17T03:31:46.011Z"
   },
   {
    "duration": 29,
    "start_time": "2023-03-17T03:31:46.274Z"
   },
   {
    "duration": 93,
    "start_time": "2023-03-17T03:31:46.305Z"
   },
   {
    "duration": 82,
    "start_time": "2023-03-17T03:31:46.400Z"
   },
   {
    "duration": 405,
    "start_time": "2023-03-17T03:31:46.484Z"
   },
   {
    "duration": 2921,
    "start_time": "2023-03-17T03:31:46.892Z"
   },
   {
    "duration": 4370,
    "start_time": "2023-03-17T03:31:49.815Z"
   },
   {
    "duration": 1295,
    "start_time": "2023-03-17T03:31:54.188Z"
   },
   {
    "duration": 11,
    "start_time": "2023-03-17T03:31:55.485Z"
   },
   {
    "duration": 314,
    "start_time": "2023-03-17T03:32:54.879Z"
   },
   {
    "duration": 114,
    "start_time": "2023-03-17T03:33:44.547Z"
   },
   {
    "duration": 643,
    "start_time": "2023-03-17T03:34:07.277Z"
   },
   {
    "duration": 9,
    "start_time": "2023-03-17T03:34:07.972Z"
   },
   {
    "duration": 3099,
    "start_time": "2023-03-17T03:34:07.984Z"
   },
   {
    "duration": 625,
    "start_time": "2023-03-17T03:34:11.086Z"
   },
   {
    "duration": 2184,
    "start_time": "2023-03-17T03:34:11.714Z"
   },
   {
    "duration": 1790,
    "start_time": "2023-03-17T03:34:13.900Z"
   },
   {
    "duration": 986,
    "start_time": "2023-03-17T03:34:15.691Z"
   },
   {
    "duration": 323,
    "start_time": "2023-03-17T03:34:16.678Z"
   },
   {
    "duration": 542,
    "start_time": "2023-03-17T03:34:17.003Z"
   },
   {
    "duration": 1219,
    "start_time": "2023-03-17T03:34:17.546Z"
   },
   {
    "duration": 2574,
    "start_time": "2023-03-17T03:34:18.767Z"
   },
   {
    "duration": 1789,
    "start_time": "2023-03-17T03:34:21.343Z"
   },
   {
    "duration": 1846,
    "start_time": "2023-03-17T03:34:23.174Z"
   },
   {
    "duration": 2016,
    "start_time": "2023-03-17T03:34:25.022Z"
   },
   {
    "duration": 52,
    "start_time": "2023-03-17T03:34:27.040Z"
   },
   {
    "duration": 3,
    "start_time": "2023-03-17T03:34:27.094Z"
   },
   {
    "duration": 547,
    "start_time": "2023-03-17T03:34:27.099Z"
   },
   {
    "duration": 265,
    "start_time": "2023-03-17T03:34:27.648Z"
   },
   {
    "duration": 17,
    "start_time": "2023-03-17T03:34:27.915Z"
   },
   {
    "duration": 205,
    "start_time": "2023-03-17T03:34:27.941Z"
   },
   {
    "duration": 0,
    "start_time": "2023-03-17T03:34:28.173Z"
   },
   {
    "duration": 0,
    "start_time": "2023-03-17T03:34:28.181Z"
   },
   {
    "duration": 0,
    "start_time": "2023-03-17T03:34:28.182Z"
   },
   {
    "duration": 0,
    "start_time": "2023-03-17T03:34:28.184Z"
   },
   {
    "duration": 0,
    "start_time": "2023-03-17T03:34:28.186Z"
   },
   {
    "duration": 0,
    "start_time": "2023-03-17T03:34:28.188Z"
   },
   {
    "duration": 0,
    "start_time": "2023-03-17T03:34:28.189Z"
   },
   {
    "duration": 1,
    "start_time": "2023-03-17T03:34:28.190Z"
   },
   {
    "duration": 143,
    "start_time": "2023-03-17T03:34:50.533Z"
   },
   {
    "duration": 22,
    "start_time": "2023-03-17T03:35:07.370Z"
   },
   {
    "duration": 128,
    "start_time": "2023-03-17T03:35:08.240Z"
   },
   {
    "duration": 786,
    "start_time": "2023-03-17T03:35:15.891Z"
   },
   {
    "duration": 509,
    "start_time": "2023-03-17T03:35:23.079Z"
   },
   {
    "duration": 5,
    "start_time": "2023-03-17T03:35:24.806Z"
   },
   {
    "duration": 185,
    "start_time": "2023-03-17T03:35:45.292Z"
   },
   {
    "duration": 5,
    "start_time": "2023-03-17T03:37:30.172Z"
   },
   {
    "duration": 120,
    "start_time": "2023-03-17T03:37:33.322Z"
   },
   {
    "duration": 818,
    "start_time": "2023-03-17T03:37:38.355Z"
   },
   {
    "duration": 7,
    "start_time": "2023-03-17T03:37:39.175Z"
   },
   {
    "duration": 2096,
    "start_time": "2023-03-17T03:37:39.184Z"
   },
   {
    "duration": 406,
    "start_time": "2023-03-17T03:37:41.282Z"
   },
   {
    "duration": 2205,
    "start_time": "2023-03-17T03:37:41.689Z"
   },
   {
    "duration": 1419,
    "start_time": "2023-03-17T03:37:43.896Z"
   },
   {
    "duration": 704,
    "start_time": "2023-03-17T03:37:45.317Z"
   },
   {
    "duration": 209,
    "start_time": "2023-03-17T03:37:46.023Z"
   },
   {
    "duration": 394,
    "start_time": "2023-03-17T03:37:46.233Z"
   },
   {
    "duration": 1284,
    "start_time": "2023-03-17T03:37:46.631Z"
   },
   {
    "duration": 1561,
    "start_time": "2023-03-17T03:37:47.917Z"
   },
   {
    "duration": 1722,
    "start_time": "2023-03-17T03:37:49.480Z"
   },
   {
    "duration": 1680,
    "start_time": "2023-03-17T03:37:51.204Z"
   },
   {
    "duration": 2461,
    "start_time": "2023-03-17T03:37:52.887Z"
   },
   {
    "duration": 43,
    "start_time": "2023-03-17T03:37:55.350Z"
   },
   {
    "duration": 4,
    "start_time": "2023-03-17T03:37:55.396Z"
   },
   {
    "duration": 531,
    "start_time": "2023-03-17T03:37:55.402Z"
   },
   {
    "duration": 191,
    "start_time": "2023-03-17T03:37:55.936Z"
   },
   {
    "duration": 19,
    "start_time": "2023-03-17T03:37:56.128Z"
   },
   {
    "duration": 183,
    "start_time": "2023-03-17T03:37:56.148Z"
   },
   {
    "duration": 23,
    "start_time": "2023-03-17T03:37:56.332Z"
   },
   {
    "duration": 616,
    "start_time": "2023-03-17T03:37:56.357Z"
   },
   {
    "duration": 6,
    "start_time": "2023-03-17T03:37:56.975Z"
   },
   {
    "duration": 339,
    "start_time": "2023-03-17T03:37:56.982Z"
   },
   {
    "duration": 2021,
    "start_time": "2023-03-17T03:37:57.323Z"
   },
   {
    "duration": 3148,
    "start_time": "2023-03-17T03:37:59.345Z"
   },
   {
    "duration": 1096,
    "start_time": "2023-03-17T03:38:02.496Z"
   },
   {
    "duration": 6,
    "start_time": "2023-03-17T03:38:03.596Z"
   },
   {
    "duration": 6,
    "start_time": "2023-03-17T03:38:58.248Z"
   },
   {
    "duration": 195,
    "start_time": "2023-03-17T03:42:16.839Z"
   },
   {
    "duration": 155,
    "start_time": "2023-03-17T03:42:41.431Z"
   },
   {
    "duration": 331,
    "start_time": "2023-03-17T03:42:48.709Z"
   },
   {
    "duration": 7,
    "start_time": "2023-03-17T03:42:49.043Z"
   },
   {
    "duration": 1668,
    "start_time": "2023-03-17T03:42:49.051Z"
   },
   {
    "duration": 328,
    "start_time": "2023-03-17T03:42:50.721Z"
   },
   {
    "duration": 1085,
    "start_time": "2023-03-17T03:42:51.051Z"
   },
   {
    "duration": 1294,
    "start_time": "2023-03-17T03:42:52.138Z"
   },
   {
    "duration": 675,
    "start_time": "2023-03-17T03:42:53.434Z"
   },
   {
    "duration": 213,
    "start_time": "2023-03-17T03:42:54.111Z"
   },
   {
    "duration": 460,
    "start_time": "2023-03-17T03:42:54.325Z"
   },
   {
    "duration": 1161,
    "start_time": "2023-03-17T03:42:54.789Z"
   },
   {
    "duration": 1751,
    "start_time": "2023-03-17T03:42:55.952Z"
   },
   {
    "duration": 2211,
    "start_time": "2023-03-17T03:42:57.705Z"
   },
   {
    "duration": 2285,
    "start_time": "2023-03-17T03:42:59.918Z"
   },
   {
    "duration": 2481,
    "start_time": "2023-03-17T03:43:02.205Z"
   },
   {
    "duration": 25,
    "start_time": "2023-03-17T03:43:04.688Z"
   },
   {
    "duration": 4,
    "start_time": "2023-03-17T03:43:04.715Z"
   },
   {
    "duration": 402,
    "start_time": "2023-03-17T03:43:04.720Z"
   },
   {
    "duration": 195,
    "start_time": "2023-03-17T03:43:05.124Z"
   },
   {
    "duration": 17,
    "start_time": "2023-03-17T03:43:05.321Z"
   },
   {
    "duration": 124,
    "start_time": "2023-03-17T03:43:05.374Z"
   },
   {
    "duration": 20,
    "start_time": "2023-03-17T03:43:05.500Z"
   },
   {
    "duration": 596,
    "start_time": "2023-03-17T03:43:05.522Z"
   },
   {
    "duration": 4,
    "start_time": "2023-03-17T03:43:06.120Z"
   },
   {
    "duration": 235,
    "start_time": "2023-03-17T03:43:06.126Z"
   },
   {
    "duration": 6,
    "start_time": "2023-03-17T03:43:06.363Z"
   },
   {
    "duration": 1234,
    "start_time": "2023-03-17T03:43:06.371Z"
   },
   {
    "duration": 135,
    "start_time": "2023-03-17T03:43:07.607Z"
   },
   {
    "duration": 0,
    "start_time": "2023-03-17T03:43:07.743Z"
   },
   {
    "duration": 0,
    "start_time": "2023-03-17T03:43:07.745Z"
   },
   {
    "duration": 1853,
    "start_time": "2023-03-17T03:44:20.040Z"
   },
   {
    "duration": 190,
    "start_time": "2023-03-17T03:48:31.787Z"
   },
   {
    "duration": 133,
    "start_time": "2023-03-17T03:48:57.916Z"
   },
   {
    "duration": 1573,
    "start_time": "2023-03-17T03:51:01.925Z"
   },
   {
    "duration": 24,
    "start_time": "2023-03-17T03:51:42.127Z"
   },
   {
    "duration": 17,
    "start_time": "2023-03-17T03:52:10.981Z"
   },
   {
    "duration": 148,
    "start_time": "2023-03-17T03:52:27.664Z"
   },
   {
    "duration": 225,
    "start_time": "2023-03-17T03:52:31.350Z"
   },
   {
    "duration": 207,
    "start_time": "2023-03-17T03:52:37.915Z"
   },
   {
    "duration": 954,
    "start_time": "2023-03-17T03:53:05.701Z"
   },
   {
    "duration": 1039,
    "start_time": "2023-03-17T03:53:34.672Z"
   },
   {
    "duration": 860,
    "start_time": "2023-03-17T03:54:11.852Z"
   },
   {
    "duration": 2277,
    "start_time": "2023-03-17T03:54:59.845Z"
   },
   {
    "duration": 681,
    "start_time": "2023-03-17T03:55:21.817Z"
   },
   {
    "duration": 10,
    "start_time": "2023-03-17T03:55:29.560Z"
   },
   {
    "duration": 8,
    "start_time": "2023-03-17T03:56:26.197Z"
   },
   {
    "duration": 1267,
    "start_time": "2023-03-17T03:59:12.712Z"
   },
   {
    "duration": 4,
    "start_time": "2023-03-17T03:59:32.873Z"
   },
   {
    "duration": 5,
    "start_time": "2023-03-17T03:59:38.434Z"
   },
   {
    "duration": 11,
    "start_time": "2023-03-17T04:00:18.723Z"
   },
   {
    "duration": 1478,
    "start_time": "2023-03-17T04:01:09.948Z"
   },
   {
    "duration": 6,
    "start_time": "2023-03-17T04:01:14.922Z"
   },
   {
    "duration": 16,
    "start_time": "2023-03-17T04:05:25.973Z"
   },
   {
    "duration": 983,
    "start_time": "2023-03-17T04:05:33.336Z"
   },
   {
    "duration": 8,
    "start_time": "2023-03-17T04:05:37.287Z"
   },
   {
    "duration": 1648,
    "start_time": "2023-03-17T04:09:05.952Z"
   },
   {
    "duration": 6,
    "start_time": "2023-03-17T04:09:09.801Z"
   },
   {
    "duration": 2532,
    "start_time": "2023-03-17T04:09:28.452Z"
   },
   {
    "duration": 6,
    "start_time": "2023-03-17T04:09:32.927Z"
   },
   {
    "duration": 113,
    "start_time": "2023-03-17T04:12:51.997Z"
   },
   {
    "duration": 107,
    "start_time": "2023-03-17T04:13:21.732Z"
   },
   {
    "duration": 918,
    "start_time": "2023-03-17T04:13:59.942Z"
   },
   {
    "duration": 1486,
    "start_time": "2023-03-17T04:14:26.801Z"
   },
   {
    "duration": 6,
    "start_time": "2023-03-17T04:14:32.508Z"
   },
   {
    "duration": 29109,
    "start_time": "2023-03-18T01:33:28.683Z"
   },
   {
    "duration": 110,
    "start_time": "2023-03-18T01:33:57.795Z"
   },
   {
    "duration": 6818,
    "start_time": "2023-03-18T01:33:57.974Z"
   },
   {
    "duration": 1109,
    "start_time": "2023-03-18T01:34:04.795Z"
   },
   {
    "duration": 5677,
    "start_time": "2023-03-18T01:34:05.907Z"
   },
   {
    "duration": 4507,
    "start_time": "2023-03-18T01:34:11.586Z"
   },
   {
    "duration": 1678,
    "start_time": "2023-03-18T01:34:16.096Z"
   },
   {
    "duration": 342,
    "start_time": "2023-03-18T01:34:17.776Z"
   },
   {
    "duration": 998,
    "start_time": "2023-03-18T01:34:18.120Z"
   },
   {
    "duration": 4300,
    "start_time": "2023-03-18T01:34:19.120Z"
   },
   {
    "duration": 4205,
    "start_time": "2023-03-18T01:34:23.422Z"
   },
   {
    "duration": 3190,
    "start_time": "2023-03-18T01:34:27.629Z"
   },
   {
    "duration": 3664,
    "start_time": "2023-03-18T01:34:30.821Z"
   },
   {
    "duration": 3237,
    "start_time": "2023-03-18T01:34:34.489Z"
   },
   {
    "duration": 69,
    "start_time": "2023-03-18T01:34:37.729Z"
   },
   {
    "duration": 5,
    "start_time": "2023-03-18T01:34:37.801Z"
   },
   {
    "duration": 1900,
    "start_time": "2023-03-18T01:34:37.809Z"
   },
   {
    "duration": 682,
    "start_time": "2023-03-18T01:34:39.714Z"
   },
   {
    "duration": 91,
    "start_time": "2023-03-18T01:34:40.399Z"
   },
   {
    "duration": 487,
    "start_time": "2023-03-18T01:34:40.493Z"
   },
   {
    "duration": 100,
    "start_time": "2023-03-18T01:34:40.982Z"
   },
   {
    "duration": 1288,
    "start_time": "2023-03-18T01:34:41.084Z"
   },
   {
    "duration": 8,
    "start_time": "2023-03-18T01:34:42.375Z"
   },
   {
    "duration": 526,
    "start_time": "2023-03-18T01:34:42.385Z"
   },
   {
    "duration": 9,
    "start_time": "2023-03-18T01:34:42.914Z"
   },
   {
    "duration": 450,
    "start_time": "2023-03-18T01:34:42.926Z"
   },
   {
    "duration": 243,
    "start_time": "2023-03-18T01:34:43.379Z"
   },
   {
    "duration": 3014,
    "start_time": "2023-03-18T01:34:43.674Z"
   },
   {
    "duration": 1702,
    "start_time": "2023-03-18T01:34:46.691Z"
   },
   {
    "duration": 3407,
    "start_time": "2023-03-18T01:34:48.396Z"
   },
   {
    "duration": 9,
    "start_time": "2023-03-18T01:34:51.805Z"
   },
   {
    "duration": 283,
    "start_time": "2023-03-18T01:34:51.817Z"
   },
   {
    "duration": 0,
    "start_time": "2023-03-18T01:34:52.104Z"
   },
   {
    "duration": 0,
    "start_time": "2023-03-18T01:34:52.105Z"
   },
   {
    "duration": 3,
    "start_time": "2023-03-18T01:36:23.673Z"
   },
   {
    "duration": 130,
    "start_time": "2023-03-18T01:37:23.936Z"
   },
   {
    "duration": 711,
    "start_time": "2023-03-18T01:37:36.264Z"
   },
   {
    "duration": 7,
    "start_time": "2023-03-18T01:37:36.978Z"
   },
   {
    "duration": 2118,
    "start_time": "2023-03-18T01:37:36.987Z"
   },
   {
    "duration": 596,
    "start_time": "2023-03-18T01:37:39.107Z"
   },
   {
    "duration": 2201,
    "start_time": "2023-03-18T01:37:39.705Z"
   },
   {
    "duration": 1607,
    "start_time": "2023-03-18T01:37:41.907Z"
   },
   {
    "duration": 868,
    "start_time": "2023-03-18T01:37:43.516Z"
   },
   {
    "duration": 203,
    "start_time": "2023-03-18T01:37:44.385Z"
   },
   {
    "duration": 423,
    "start_time": "2023-03-18T01:37:44.590Z"
   },
   {
    "duration": 1399,
    "start_time": "2023-03-18T01:37:45.016Z"
   },
   {
    "duration": 2163,
    "start_time": "2023-03-18T01:37:46.418Z"
   },
   {
    "duration": 2002,
    "start_time": "2023-03-18T01:37:48.583Z"
   },
   {
    "duration": 2205,
    "start_time": "2023-03-18T01:37:50.588Z"
   },
   {
    "duration": 2655,
    "start_time": "2023-03-18T01:37:52.795Z"
   },
   {
    "duration": 34,
    "start_time": "2023-03-18T01:37:55.452Z"
   },
   {
    "duration": 3,
    "start_time": "2023-03-18T01:37:55.488Z"
   },
   {
    "duration": 611,
    "start_time": "2023-03-18T01:37:55.493Z"
   },
   {
    "duration": 211,
    "start_time": "2023-03-18T01:37:56.106Z"
   },
   {
    "duration": 59,
    "start_time": "2023-03-18T01:37:56.319Z"
   },
   {
    "duration": 225,
    "start_time": "2023-03-18T01:37:56.380Z"
   },
   {
    "duration": 22,
    "start_time": "2023-03-18T01:37:56.607Z"
   },
   {
    "duration": 574,
    "start_time": "2023-03-18T01:37:56.631Z"
   },
   {
    "duration": 66,
    "start_time": "2023-03-18T01:37:57.207Z"
   },
   {
    "duration": 303,
    "start_time": "2023-03-18T01:37:57.275Z"
   },
   {
    "duration": 8,
    "start_time": "2023-03-18T01:37:57.580Z"
   },
   {
    "duration": 288,
    "start_time": "2023-03-18T01:37:57.590Z"
   },
   {
    "duration": 254,
    "start_time": "2023-03-18T01:37:57.880Z"
   },
   {
    "duration": 1152,
    "start_time": "2023-03-18T01:37:58.139Z"
   },
   {
    "duration": 739,
    "start_time": "2023-03-18T01:37:59.294Z"
   },
   {
    "duration": 1840,
    "start_time": "2023-03-18T01:38:00.034Z"
   },
   {
    "duration": 6,
    "start_time": "2023-03-18T01:38:01.876Z"
   },
   {
    "duration": 158,
    "start_time": "2023-03-18T01:38:01.884Z"
   },
   {
    "duration": 0,
    "start_time": "2023-03-18T01:38:02.044Z"
   },
   {
    "duration": 0,
    "start_time": "2023-03-18T01:38:02.046Z"
   },
   {
    "duration": 9,
    "start_time": "2023-03-18T01:44:52.497Z"
   },
   {
    "duration": 350,
    "start_time": "2023-03-18T01:45:41.433Z"
   },
   {
    "duration": 654,
    "start_time": "2023-03-18T01:46:16.263Z"
   },
   {
    "duration": 11,
    "start_time": "2023-03-18T01:50:47.139Z"
   },
   {
    "duration": 543,
    "start_time": "2023-03-18T01:52:10.506Z"
   },
   {
    "duration": 1591,
    "start_time": "2023-03-18T01:52:23.208Z"
   },
   {
    "duration": 519,
    "start_time": "2023-03-18T01:53:04.660Z"
   },
   {
    "duration": 2463,
    "start_time": "2023-03-18T01:53:16.457Z"
   },
   {
    "duration": 1400,
    "start_time": "2023-03-18T01:55:44.491Z"
   },
   {
    "duration": 5,
    "start_time": "2023-03-18T01:56:13.668Z"
   },
   {
    "duration": 442,
    "start_time": "2023-03-18T01:57:56.050Z"
   },
   {
    "duration": 83,
    "start_time": "2023-03-18T02:03:39.710Z"
   },
   {
    "duration": 122,
    "start_time": "2023-03-18T02:06:45.924Z"
   },
   {
    "duration": 107,
    "start_time": "2023-03-18T02:09:01.615Z"
   },
   {
    "duration": 1065,
    "start_time": "2023-03-18T02:10:36.412Z"
   },
   {
    "duration": 1006,
    "start_time": "2023-03-18T02:11:22.317Z"
   },
   {
    "duration": 452,
    "start_time": "2023-03-18T02:12:29.866Z"
   },
   {
    "duration": 858,
    "start_time": "2023-03-18T02:12:40.040Z"
   },
   {
    "duration": 1476,
    "start_time": "2023-03-18T02:14:29.723Z"
   },
   {
    "duration": 1662,
    "start_time": "2023-03-18T02:14:44.814Z"
   },
   {
    "duration": 99,
    "start_time": "2023-03-18T02:17:09.787Z"
   },
   {
    "duration": 18,
    "start_time": "2023-03-18T02:17:16.757Z"
   },
   {
    "duration": 11,
    "start_time": "2023-03-18T02:18:58.546Z"
   },
   {
    "duration": 144,
    "start_time": "2023-03-18T02:19:04.182Z"
   },
   {
    "duration": 117,
    "start_time": "2023-03-18T02:21:46.156Z"
   },
   {
    "duration": 9,
    "start_time": "2023-03-18T02:23:56.131Z"
   },
   {
    "duration": 174,
    "start_time": "2023-03-18T02:24:02.525Z"
   },
   {
    "duration": 134,
    "start_time": "2023-03-18T02:25:31.994Z"
   },
   {
    "duration": 415,
    "start_time": "2023-03-18T02:25:34.512Z"
   },
   {
    "duration": 7,
    "start_time": "2023-03-18T02:25:34.929Z"
   },
   {
    "duration": 1577,
    "start_time": "2023-03-18T02:25:34.937Z"
   },
   {
    "duration": 489,
    "start_time": "2023-03-18T02:25:36.517Z"
   },
   {
    "duration": 2378,
    "start_time": "2023-03-18T02:25:37.008Z"
   },
   {
    "duration": 2121,
    "start_time": "2023-03-18T02:25:39.389Z"
   },
   {
    "duration": 1267,
    "start_time": "2023-03-18T02:25:41.512Z"
   },
   {
    "duration": 319,
    "start_time": "2023-03-18T02:25:42.782Z"
   },
   {
    "duration": 715,
    "start_time": "2023-03-18T02:25:43.103Z"
   },
   {
    "duration": 1509,
    "start_time": "2023-03-18T02:25:43.821Z"
   },
   {
    "duration": 2959,
    "start_time": "2023-03-18T02:25:45.332Z"
   },
   {
    "duration": 1999,
    "start_time": "2023-03-18T02:25:48.294Z"
   },
   {
    "duration": 2794,
    "start_time": "2023-03-18T02:25:50.295Z"
   },
   {
    "duration": 2832,
    "start_time": "2023-03-18T02:25:53.091Z"
   },
   {
    "duration": 59,
    "start_time": "2023-03-18T02:25:55.925Z"
   },
   {
    "duration": 4,
    "start_time": "2023-03-18T02:25:55.987Z"
   },
   {
    "duration": 566,
    "start_time": "2023-03-18T02:25:55.993Z"
   },
   {
    "duration": 265,
    "start_time": "2023-03-18T02:25:56.561Z"
   },
   {
    "duration": 66,
    "start_time": "2023-03-18T02:25:56.828Z"
   },
   {
    "duration": 218,
    "start_time": "2023-03-18T02:25:56.896Z"
   },
   {
    "duration": 81,
    "start_time": "2023-03-18T02:25:57.116Z"
   },
   {
    "duration": 474,
    "start_time": "2023-03-18T02:25:57.199Z"
   },
   {
    "duration": 9,
    "start_time": "2023-03-18T02:25:57.676Z"
   },
   {
    "duration": 192,
    "start_time": "2023-03-18T02:25:57.687Z"
   },
   {
    "duration": 12,
    "start_time": "2023-03-18T02:25:57.881Z"
   },
   {
    "duration": 148,
    "start_time": "2023-03-18T02:25:57.895Z"
   },
   {
    "duration": 99,
    "start_time": "2023-03-18T02:25:58.045Z"
   },
   {
    "duration": 908,
    "start_time": "2023-03-18T02:25:58.148Z"
   },
   {
    "duration": 551,
    "start_time": "2023-03-18T02:25:59.072Z"
   },
   {
    "duration": 1523,
    "start_time": "2023-03-18T02:25:59.625Z"
   },
   {
    "duration": 5,
    "start_time": "2023-03-18T02:26:01.150Z"
   },
   {
    "duration": 538,
    "start_time": "2023-03-18T02:26:01.157Z"
   },
   {
    "duration": 2202,
    "start_time": "2023-03-18T02:26:01.697Z"
   },
   {
    "duration": 1119,
    "start_time": "2023-03-18T02:26:03.901Z"
   },
   {
    "duration": 8,
    "start_time": "2023-03-18T02:26:05.021Z"
   },
   {
    "duration": 658,
    "start_time": "2023-03-18T02:26:05.031Z"
   },
   {
    "duration": 1824,
    "start_time": "2023-03-18T02:26:05.691Z"
   },
   {
    "duration": 881,
    "start_time": "2023-03-18T02:26:07.517Z"
   },
   {
    "duration": 1815,
    "start_time": "2023-03-18T02:26:08.400Z"
   },
   {
    "duration": 2703,
    "start_time": "2023-03-18T02:26:10.217Z"
   },
   {
    "duration": 507,
    "start_time": "2023-03-18T02:27:55.473Z"
   },
   {
    "duration": 6429,
    "start_time": "2023-03-18T02:28:02.165Z"
   },
   {
    "duration": 11,
    "start_time": "2023-03-18T02:28:26.932Z"
   },
   {
    "duration": 19,
    "start_time": "2023-03-18T02:33:14.421Z"
   },
   {
    "duration": 91,
    "start_time": "2023-03-20T03:04:03.171Z"
   },
   {
    "duration": 80,
    "start_time": "2023-03-20T03:04:16.972Z"
   },
   {
    "duration": 80,
    "start_time": "2023-03-20T03:04:37.206Z"
   },
   {
    "duration": 79,
    "start_time": "2023-03-20T03:05:18.689Z"
   },
   {
    "duration": 52,
    "start_time": "2023-03-20T03:06:17.880Z"
   },
   {
    "duration": 1527,
    "start_time": "2023-03-20T03:06:20.330Z"
   },
   {
    "duration": 27362,
    "start_time": "2023-03-20T03:06:24.646Z"
   },
   {
    "duration": 3,
    "start_time": "2023-03-20T03:08:44.017Z"
   },
   {
    "duration": 216,
    "start_time": "2023-03-20T03:10:29.572Z"
   },
   {
    "duration": 8,
    "start_time": "2023-03-20T03:26:13.768Z"
   },
   {
    "duration": 2002,
    "start_time": "2023-03-20T03:26:13.788Z"
   },
   {
    "duration": 94,
    "start_time": "2023-03-20T03:26:15.792Z"
   },
   {
    "duration": 6408,
    "start_time": "2023-03-20T03:26:15.890Z"
   },
   {
    "duration": 3,
    "start_time": "2023-03-20T03:26:22.300Z"
   },
   {
    "duration": 6194,
    "start_time": "2023-03-20T03:26:22.305Z"
   },
   {
    "duration": 4782,
    "start_time": "2023-03-20T03:26:28.501Z"
   },
   {
    "duration": 1700,
    "start_time": "2023-03-20T03:26:33.285Z"
   },
   {
    "duration": 329,
    "start_time": "2023-03-20T03:26:34.989Z"
   },
   {
    "duration": 1327,
    "start_time": "2023-03-20T03:26:35.320Z"
   },
   {
    "duration": 3752,
    "start_time": "2023-03-20T03:26:36.649Z"
   },
   {
    "duration": 0,
    "start_time": "2023-03-20T03:26:40.405Z"
   },
   {
    "duration": 0,
    "start_time": "2023-03-20T03:26:40.409Z"
   },
   {
    "duration": 0,
    "start_time": "2023-03-20T03:26:40.411Z"
   },
   {
    "duration": 0,
    "start_time": "2023-03-20T03:26:40.413Z"
   },
   {
    "duration": 0,
    "start_time": "2023-03-20T03:26:40.415Z"
   },
   {
    "duration": 0,
    "start_time": "2023-03-20T03:26:40.417Z"
   },
   {
    "duration": 0,
    "start_time": "2023-03-20T03:26:40.419Z"
   },
   {
    "duration": 0,
    "start_time": "2023-03-20T03:26:40.420Z"
   },
   {
    "duration": 0,
    "start_time": "2023-03-20T03:26:40.422Z"
   },
   {
    "duration": 0,
    "start_time": "2023-03-20T03:26:40.424Z"
   },
   {
    "duration": 0,
    "start_time": "2023-03-20T03:26:40.425Z"
   },
   {
    "duration": 0,
    "start_time": "2023-03-20T03:26:40.427Z"
   },
   {
    "duration": 0,
    "start_time": "2023-03-20T03:26:40.428Z"
   },
   {
    "duration": 0,
    "start_time": "2023-03-20T03:26:40.430Z"
   },
   {
    "duration": 0,
    "start_time": "2023-03-20T03:26:40.431Z"
   },
   {
    "duration": 0,
    "start_time": "2023-03-20T03:26:40.476Z"
   },
   {
    "duration": 0,
    "start_time": "2023-03-20T03:26:40.477Z"
   },
   {
    "duration": 0,
    "start_time": "2023-03-20T03:26:40.477Z"
   },
   {
    "duration": 0,
    "start_time": "2023-03-20T03:26:40.478Z"
   },
   {
    "duration": 0,
    "start_time": "2023-03-20T03:26:40.479Z"
   },
   {
    "duration": 0,
    "start_time": "2023-03-20T03:26:40.479Z"
   },
   {
    "duration": 0,
    "start_time": "2023-03-20T03:26:40.480Z"
   },
   {
    "duration": 0,
    "start_time": "2023-03-20T03:26:40.481Z"
   },
   {
    "duration": 0,
    "start_time": "2023-03-20T03:26:40.482Z"
   },
   {
    "duration": 0,
    "start_time": "2023-03-20T03:26:40.483Z"
   },
   {
    "duration": 0,
    "start_time": "2023-03-20T03:26:40.484Z"
   },
   {
    "duration": 0,
    "start_time": "2023-03-20T03:26:40.484Z"
   },
   {
    "duration": 0,
    "start_time": "2023-03-20T03:26:40.485Z"
   },
   {
    "duration": 0,
    "start_time": "2023-03-20T03:26:40.486Z"
   },
   {
    "duration": 0,
    "start_time": "2023-03-20T03:26:40.489Z"
   },
   {
    "duration": 0,
    "start_time": "2023-03-20T03:26:40.490Z"
   },
   {
    "duration": 998,
    "start_time": "2023-03-20T05:54:12.041Z"
   },
   {
    "duration": 4,
    "start_time": "2023-03-20T05:54:45.638Z"
   },
   {
    "duration": 978,
    "start_time": "2023-03-20T05:54:45.644Z"
   },
   {
    "duration": 9,
    "start_time": "2023-03-20T05:54:46.624Z"
   },
   {
    "duration": 2737,
    "start_time": "2023-03-20T05:54:46.636Z"
   },
   {
    "duration": 3,
    "start_time": "2023-03-20T05:54:49.381Z"
   },
   {
    "duration": 2808,
    "start_time": "2023-03-20T05:54:49.386Z"
   },
   {
    "duration": 1886,
    "start_time": "2023-03-20T05:54:52.196Z"
   },
   {
    "duration": 1033,
    "start_time": "2023-03-20T05:54:54.083Z"
   },
   {
    "duration": 215,
    "start_time": "2023-03-20T05:54:55.118Z"
   },
   {
    "duration": 694,
    "start_time": "2023-03-20T05:54:55.335Z"
   },
   {
    "duration": 1175,
    "start_time": "2023-03-20T05:54:56.031Z"
   },
   {
    "duration": 0,
    "start_time": "2023-03-20T05:54:57.209Z"
   },
   {
    "duration": 0,
    "start_time": "2023-03-20T05:54:57.212Z"
   },
   {
    "duration": 0,
    "start_time": "2023-03-20T05:54:57.213Z"
   },
   {
    "duration": 0,
    "start_time": "2023-03-20T05:54:57.214Z"
   },
   {
    "duration": 0,
    "start_time": "2023-03-20T05:54:57.273Z"
   },
   {
    "duration": 0,
    "start_time": "2023-03-20T05:54:57.274Z"
   },
   {
    "duration": 0,
    "start_time": "2023-03-20T05:54:57.276Z"
   },
   {
    "duration": 0,
    "start_time": "2023-03-20T05:54:57.277Z"
   },
   {
    "duration": 0,
    "start_time": "2023-03-20T05:54:57.277Z"
   },
   {
    "duration": 0,
    "start_time": "2023-03-20T05:54:57.278Z"
   },
   {
    "duration": 0,
    "start_time": "2023-03-20T05:54:57.279Z"
   },
   {
    "duration": 0,
    "start_time": "2023-03-20T05:54:57.281Z"
   },
   {
    "duration": 0,
    "start_time": "2023-03-20T05:54:57.282Z"
   },
   {
    "duration": 0,
    "start_time": "2023-03-20T05:54:57.284Z"
   },
   {
    "duration": 0,
    "start_time": "2023-03-20T05:54:57.285Z"
   },
   {
    "duration": 0,
    "start_time": "2023-03-20T05:54:57.286Z"
   },
   {
    "duration": 0,
    "start_time": "2023-03-20T05:54:57.287Z"
   },
   {
    "duration": 0,
    "start_time": "2023-03-20T05:54:57.289Z"
   },
   {
    "duration": 0,
    "start_time": "2023-03-20T05:54:57.290Z"
   },
   {
    "duration": 0,
    "start_time": "2023-03-20T05:54:57.291Z"
   },
   {
    "duration": 0,
    "start_time": "2023-03-20T05:54:57.292Z"
   },
   {
    "duration": 0,
    "start_time": "2023-03-20T05:54:57.293Z"
   },
   {
    "duration": 0,
    "start_time": "2023-03-20T05:54:57.294Z"
   },
   {
    "duration": 0,
    "start_time": "2023-03-20T05:54:57.295Z"
   },
   {
    "duration": 0,
    "start_time": "2023-03-20T05:54:57.296Z"
   },
   {
    "duration": 0,
    "start_time": "2023-03-20T05:54:57.297Z"
   },
   {
    "duration": 0,
    "start_time": "2023-03-20T05:54:57.298Z"
   },
   {
    "duration": 0,
    "start_time": "2023-03-20T05:54:57.300Z"
   },
   {
    "duration": 0,
    "start_time": "2023-03-20T05:54:57.300Z"
   },
   {
    "duration": 0,
    "start_time": "2023-03-20T05:54:57.302Z"
   },
   {
    "duration": 0,
    "start_time": "2023-03-20T05:54:57.303Z"
   },
   {
    "duration": 0,
    "start_time": "2023-03-20T05:54:57.304Z"
   },
   {
    "duration": 3422,
    "start_time": "2023-03-20T05:55:09.388Z"
   },
   {
    "duration": 2233,
    "start_time": "2023-03-20T05:55:16.065Z"
   },
   {
    "duration": 2688,
    "start_time": "2023-03-20T05:55:18.300Z"
   },
   {
    "duration": 3394,
    "start_time": "2023-03-20T05:55:20.990Z"
   },
   {
    "duration": 107,
    "start_time": "2023-03-20T05:55:24.387Z"
   },
   {
    "duration": 4,
    "start_time": "2023-03-20T05:55:24.496Z"
   },
   {
    "duration": 1584,
    "start_time": "2023-03-20T05:55:24.501Z"
   },
   {
    "duration": 427,
    "start_time": "2023-03-20T05:55:26.087Z"
   },
   {
    "duration": 91,
    "start_time": "2023-03-20T05:55:26.516Z"
   },
   {
    "duration": 300,
    "start_time": "2023-03-20T05:55:26.609Z"
   },
   {
    "duration": 28,
    "start_time": "2023-03-20T05:55:26.972Z"
   },
   {
    "duration": 972,
    "start_time": "2023-03-20T05:55:27.001Z"
   },
   {
    "duration": 8,
    "start_time": "2023-03-20T05:55:27.975Z"
   },
   {
    "duration": 336,
    "start_time": "2023-03-20T05:55:27.985Z"
   },
   {
    "duration": 7,
    "start_time": "2023-03-20T05:55:28.373Z"
   },
   {
    "duration": 391,
    "start_time": "2023-03-20T05:55:28.382Z"
   },
   {
    "duration": 237,
    "start_time": "2023-03-20T05:55:28.775Z"
   },
   {
    "duration": 3091,
    "start_time": "2023-03-20T05:55:29.015Z"
   },
   {
    "duration": 1405,
    "start_time": "2023-03-20T05:55:32.108Z"
   },
   {
    "duration": 3935,
    "start_time": "2023-03-20T05:55:33.572Z"
   },
   {
    "duration": 68,
    "start_time": "2023-03-20T05:55:37.509Z"
   },
   {
    "duration": 1094,
    "start_time": "2023-03-20T05:55:37.579Z"
   },
   {
    "duration": 3558,
    "start_time": "2023-03-20T05:55:38.675Z"
   },
   {
    "duration": 1726,
    "start_time": "2023-03-20T05:55:42.273Z"
   },
   {
    "duration": 6,
    "start_time": "2023-03-20T05:55:44.001Z"
   },
   {
    "duration": 523,
    "start_time": "2023-03-20T05:55:44.009Z"
   },
   {
    "duration": 2649,
    "start_time": "2023-03-20T05:55:44.534Z"
   },
   {
    "duration": 1888,
    "start_time": "2023-03-20T05:55:47.185Z"
   },
   {
    "duration": 8100,
    "start_time": "2023-03-20T05:55:49.076Z"
   },
   {
    "duration": 14,
    "start_time": "2023-03-20T05:55:57.179Z"
   },
   {
    "duration": 678,
    "start_time": "2023-03-20T05:55:57.195Z"
   },
   {
    "duration": 306,
    "start_time": "2023-03-20T05:55:57.875Z"
   },
   {
    "duration": 14,
    "start_time": "2023-03-20T05:57:19.021Z"
   },
   {
    "duration": 11,
    "start_time": "2023-03-20T05:57:38.943Z"
   },
   {
    "duration": 1009,
    "start_time": "2023-03-20T05:57:50.818Z"
   },
   {
    "duration": 33,
    "start_time": "2023-03-20T05:58:01.267Z"
   },
   {
    "duration": 734,
    "start_time": "2023-03-20T06:06:23.111Z"
   },
   {
    "duration": 489,
    "start_time": "2023-03-20T06:06:36.536Z"
   },
   {
    "duration": 464,
    "start_time": "2023-03-20T06:06:45.744Z"
   },
   {
    "duration": 28,
    "start_time": "2023-03-20T06:06:49.325Z"
   },
   {
    "duration": 561,
    "start_time": "2023-03-20T06:06:51.368Z"
   },
   {
    "duration": 148,
    "start_time": "2023-03-20T12:26:45.866Z"
   },
   {
    "duration": 182,
    "start_time": "2023-03-20T12:27:24.136Z"
   },
   {
    "duration": 6,
    "start_time": "2023-03-20T12:27:36.719Z"
   },
   {
    "duration": 647,
    "start_time": "2023-03-20T12:27:36.727Z"
   },
   {
    "duration": 7,
    "start_time": "2023-03-20T12:27:37.376Z"
   },
   {
    "duration": 1862,
    "start_time": "2023-03-20T12:27:37.385Z"
   },
   {
    "duration": 3,
    "start_time": "2023-03-20T12:27:39.249Z"
   },
   {
    "duration": 2039,
    "start_time": "2023-03-20T12:27:39.272Z"
   },
   {
    "duration": 1590,
    "start_time": "2023-03-20T12:27:41.313Z"
   },
   {
    "duration": 991,
    "start_time": "2023-03-20T12:27:42.906Z"
   },
   {
    "duration": 289,
    "start_time": "2023-03-20T12:27:43.901Z"
   },
   {
    "duration": 609,
    "start_time": "2023-03-20T12:27:44.192Z"
   },
   {
    "duration": 1109,
    "start_time": "2023-03-20T12:27:44.803Z"
   },
   {
    "duration": 0,
    "start_time": "2023-03-20T12:27:45.915Z"
   },
   {
    "duration": 0,
    "start_time": "2023-03-20T12:27:45.975Z"
   },
   {
    "duration": 0,
    "start_time": "2023-03-20T12:27:45.976Z"
   },
   {
    "duration": 0,
    "start_time": "2023-03-20T12:27:45.978Z"
   },
   {
    "duration": 0,
    "start_time": "2023-03-20T12:27:45.979Z"
   },
   {
    "duration": 0,
    "start_time": "2023-03-20T12:27:45.980Z"
   },
   {
    "duration": 0,
    "start_time": "2023-03-20T12:27:45.982Z"
   },
   {
    "duration": 0,
    "start_time": "2023-03-20T12:27:45.984Z"
   },
   {
    "duration": 0,
    "start_time": "2023-03-20T12:27:45.985Z"
   },
   {
    "duration": 0,
    "start_time": "2023-03-20T12:27:45.986Z"
   },
   {
    "duration": 0,
    "start_time": "2023-03-20T12:27:45.987Z"
   },
   {
    "duration": 0,
    "start_time": "2023-03-20T12:27:45.989Z"
   },
   {
    "duration": 0,
    "start_time": "2023-03-20T12:27:45.991Z"
   },
   {
    "duration": 0,
    "start_time": "2023-03-20T12:27:45.992Z"
   },
   {
    "duration": 0,
    "start_time": "2023-03-20T12:27:45.995Z"
   },
   {
    "duration": 0,
    "start_time": "2023-03-20T12:27:45.996Z"
   },
   {
    "duration": 0,
    "start_time": "2023-03-20T12:27:45.997Z"
   },
   {
    "duration": 0,
    "start_time": "2023-03-20T12:27:45.998Z"
   },
   {
    "duration": 0,
    "start_time": "2023-03-20T12:27:46.000Z"
   },
   {
    "duration": 0,
    "start_time": "2023-03-20T12:27:46.001Z"
   },
   {
    "duration": 0,
    "start_time": "2023-03-20T12:27:46.073Z"
   },
   {
    "duration": 0,
    "start_time": "2023-03-20T12:27:46.075Z"
   },
   {
    "duration": 0,
    "start_time": "2023-03-20T12:27:46.076Z"
   },
   {
    "duration": 0,
    "start_time": "2023-03-20T12:27:46.078Z"
   },
   {
    "duration": 0,
    "start_time": "2023-03-20T12:27:46.079Z"
   },
   {
    "duration": 0,
    "start_time": "2023-03-20T12:27:46.081Z"
   },
   {
    "duration": 0,
    "start_time": "2023-03-20T12:27:46.082Z"
   },
   {
    "duration": 0,
    "start_time": "2023-03-20T12:27:46.084Z"
   },
   {
    "duration": 0,
    "start_time": "2023-03-20T12:27:46.090Z"
   },
   {
    "duration": 0,
    "start_time": "2023-03-20T12:27:46.092Z"
   },
   {
    "duration": 0,
    "start_time": "2023-03-20T12:27:46.094Z"
   },
   {
    "duration": 0,
    "start_time": "2023-03-20T12:27:46.096Z"
   },
   {
    "duration": 0,
    "start_time": "2023-03-20T12:27:46.097Z"
   },
   {
    "duration": 0,
    "start_time": "2023-03-20T12:27:46.099Z"
   },
   {
    "duration": 0,
    "start_time": "2023-03-20T12:27:46.173Z"
   },
   {
    "duration": 0,
    "start_time": "2023-03-20T12:27:46.174Z"
   },
   {
    "duration": 563,
    "start_time": "2023-03-20T12:27:59.669Z"
   },
   {
    "duration": 2917,
    "start_time": "2023-03-20T12:28:05.256Z"
   },
   {
    "duration": 2322,
    "start_time": "2023-03-20T12:28:08.176Z"
   },
   {
    "duration": 2708,
    "start_time": "2023-03-20T12:28:10.501Z"
   },
   {
    "duration": 2970,
    "start_time": "2023-03-20T12:28:13.272Z"
   },
   {
    "duration": 42,
    "start_time": "2023-03-20T12:28:16.244Z"
   },
   {
    "duration": 3,
    "start_time": "2023-03-20T12:28:16.288Z"
   },
   {
    "duration": 791,
    "start_time": "2023-03-20T12:28:16.294Z"
   },
   {
    "duration": 456,
    "start_time": "2023-03-20T12:28:17.087Z"
   },
   {
    "duration": 21,
    "start_time": "2023-03-20T12:28:17.574Z"
   },
   {
    "duration": 207,
    "start_time": "2023-03-20T12:28:17.599Z"
   },
   {
    "duration": 80,
    "start_time": "2023-03-20T12:28:17.808Z"
   },
   {
    "duration": 499,
    "start_time": "2023-03-20T12:28:17.891Z"
   },
   {
    "duration": 6,
    "start_time": "2023-03-20T12:28:18.392Z"
   },
   {
    "duration": 277,
    "start_time": "2023-03-20T12:28:18.400Z"
   },
   {
    "duration": 10,
    "start_time": "2023-03-20T12:28:18.679Z"
   },
   {
    "duration": 253,
    "start_time": "2023-03-20T12:28:18.691Z"
   },
   {
    "duration": 165,
    "start_time": "2023-03-20T12:28:18.946Z"
   },
   {
    "duration": 1068,
    "start_time": "2023-03-20T12:28:19.113Z"
   },
   {
    "duration": 844,
    "start_time": "2023-03-20T12:28:20.184Z"
   },
   {
    "duration": 1953,
    "start_time": "2023-03-20T12:28:21.030Z"
   },
   {
    "duration": 7,
    "start_time": "2023-03-20T12:28:22.985Z"
   },
   {
    "duration": 703,
    "start_time": "2023-03-20T12:28:22.994Z"
   },
   {
    "duration": 2475,
    "start_time": "2023-03-20T12:28:23.700Z"
   },
   {
    "duration": 1187,
    "start_time": "2023-03-20T12:28:26.177Z"
   },
   {
    "duration": 6,
    "start_time": "2023-03-20T12:28:27.374Z"
   },
   {
    "duration": 391,
    "start_time": "2023-03-20T12:28:27.382Z"
   },
   {
    "duration": 1652,
    "start_time": "2023-03-20T12:28:27.775Z"
   },
   {
    "duration": 895,
    "start_time": "2023-03-20T12:28:29.431Z"
   },
   {
    "duration": 5691,
    "start_time": "2023-03-20T12:28:30.328Z"
   },
   {
    "duration": 56,
    "start_time": "2023-03-20T12:28:36.020Z"
   },
   {
    "duration": 463,
    "start_time": "2023-03-20T12:28:36.077Z"
   },
   {
    "duration": 43,
    "start_time": "2023-03-20T12:28:36.542Z"
   },
   {
    "duration": 1002,
    "start_time": "2023-03-20T12:28:36.587Z"
   },
   {
    "duration": 178,
    "start_time": "2023-03-20T12:28:37.591Z"
   },
   {
    "duration": 0,
    "start_time": "2023-03-20T12:28:37.771Z"
   },
   {
    "duration": 0,
    "start_time": "2023-03-20T12:28:37.773Z"
   },
   {
    "duration": 443,
    "start_time": "2023-03-20T12:32:23.631Z"
   },
   {
    "duration": 24,
    "start_time": "2023-03-20T12:32:40.916Z"
   },
   {
    "duration": 236,
    "start_time": "2023-03-20T12:40:09.970Z"
   },
   {
    "duration": 304,
    "start_time": "2023-03-20T12:40:36.437Z"
   },
   {
    "duration": 800,
    "start_time": "2023-03-20T12:41:06.505Z"
   },
   {
    "duration": 3,
    "start_time": "2023-03-20T12:41:54.402Z"
   },
   {
    "duration": 3,
    "start_time": "2023-03-20T12:42:20.357Z"
   },
   {
    "duration": 30,
    "start_time": "2023-03-20T12:43:37.472Z"
   },
   {
    "duration": 1302,
    "start_time": "2023-03-20T12:44:04.513Z"
   },
   {
    "duration": 96,
    "start_time": "2023-03-20T12:45:16.288Z"
   },
   {
    "duration": 788,
    "start_time": "2023-03-20T12:45:57.708Z"
   },
   {
    "duration": 18,
    "start_time": "2023-03-20T12:47:39.364Z"
   },
   {
    "duration": 1657,
    "start_time": "2023-03-20T12:47:56.488Z"
   },
   {
    "duration": 1462,
    "start_time": "2023-03-21T13:54:55.722Z"
   },
   {
    "duration": 26998,
    "start_time": "2023-03-21T13:54:57.186Z"
   },
   {
    "duration": 35,
    "start_time": "2023-03-21T13:55:24.185Z"
   },
   {
    "duration": 5995,
    "start_time": "2023-03-21T13:55:24.278Z"
   },
   {
    "duration": 8,
    "start_time": "2023-03-21T13:55:30.275Z"
   },
   {
    "duration": 6126,
    "start_time": "2023-03-21T13:55:30.291Z"
   },
   {
    "duration": 4078,
    "start_time": "2023-03-21T13:55:36.418Z"
   },
   {
    "duration": 1609,
    "start_time": "2023-03-21T13:55:40.500Z"
   },
   {
    "duration": 392,
    "start_time": "2023-03-21T13:55:42.111Z"
   },
   {
    "duration": 1156,
    "start_time": "2023-03-21T13:55:42.505Z"
   },
   {
    "duration": 3907,
    "start_time": "2023-03-21T13:55:43.662Z"
   },
   {
    "duration": 3468,
    "start_time": "2023-03-21T13:55:47.571Z"
   },
   {
    "duration": 2454,
    "start_time": "2023-03-21T13:55:51.041Z"
   },
   {
    "duration": 2637,
    "start_time": "2023-03-21T13:55:53.499Z"
   },
   {
    "duration": 2813,
    "start_time": "2023-03-21T13:55:56.174Z"
   },
   {
    "duration": 38,
    "start_time": "2023-03-21T13:55:58.994Z"
   },
   {
    "duration": 3,
    "start_time": "2023-03-21T13:55:59.034Z"
   },
   {
    "duration": 1730,
    "start_time": "2023-03-21T13:55:59.074Z"
   },
   {
    "duration": 390,
    "start_time": "2023-03-21T13:56:00.806Z"
   },
   {
    "duration": 23,
    "start_time": "2023-03-21T13:56:01.197Z"
   },
   {
    "duration": 458,
    "start_time": "2023-03-21T13:56:01.221Z"
   },
   {
    "duration": 25,
    "start_time": "2023-03-21T13:56:01.689Z"
   },
   {
    "duration": 1075,
    "start_time": "2023-03-21T13:56:01.716Z"
   },
   {
    "duration": 10,
    "start_time": "2023-03-21T13:56:02.799Z"
   },
   {
    "duration": 514,
    "start_time": "2023-03-21T13:56:02.811Z"
   },
   {
    "duration": 6,
    "start_time": "2023-03-21T13:56:03.327Z"
   },
   {
    "duration": 369,
    "start_time": "2023-03-21T13:56:03.334Z"
   },
   {
    "duration": 310,
    "start_time": "2023-03-21T13:56:03.708Z"
   },
   {
    "duration": 2890,
    "start_time": "2023-03-21T13:56:04.019Z"
   },
   {
    "duration": 1294,
    "start_time": "2023-03-21T13:56:06.911Z"
   },
   {
    "duration": 3084,
    "start_time": "2023-03-21T13:56:08.207Z"
   },
   {
    "duration": 14,
    "start_time": "2023-03-21T13:56:11.293Z"
   },
   {
    "duration": 871,
    "start_time": "2023-03-21T13:56:11.308Z"
   },
   {
    "duration": 4402,
    "start_time": "2023-03-21T13:56:12.180Z"
   },
   {
    "duration": 2502,
    "start_time": "2023-03-21T13:56:16.583Z"
   },
   {
    "duration": 11,
    "start_time": "2023-03-21T13:56:19.089Z"
   },
   {
    "duration": 613,
    "start_time": "2023-03-21T13:56:19.104Z"
   },
   {
    "duration": 2272,
    "start_time": "2023-03-21T13:56:19.718Z"
   },
   {
    "duration": 1436,
    "start_time": "2023-03-21T13:56:21.992Z"
   },
   {
    "duration": 8154,
    "start_time": "2023-03-21T13:56:23.431Z"
   },
   {
    "duration": 12,
    "start_time": "2023-03-21T13:56:31.594Z"
   },
   {
    "duration": 673,
    "start_time": "2023-03-21T13:56:31.608Z"
   },
   {
    "duration": 30,
    "start_time": "2023-03-21T13:56:32.283Z"
   },
   {
    "duration": 68,
    "start_time": "2023-03-21T13:56:32.315Z"
   },
   {
    "duration": 531,
    "start_time": "2023-03-21T13:56:32.385Z"
   },
   {
    "duration": 1062,
    "start_time": "2023-03-21T13:56:32.917Z"
   },
   {
    "duration": 4,
    "start_time": "2023-03-21T13:56:33.981Z"
   },
   {
    "duration": 61,
    "start_time": "2023-03-21T13:56:33.986Z"
   },
   {
    "duration": 1998,
    "start_time": "2023-03-21T13:56:34.049Z"
   },
   {
    "duration": 168,
    "start_time": "2023-03-21T13:56:36.049Z"
   },
   {
    "duration": 23,
    "start_time": "2023-03-21T13:56:36.219Z"
   },
   {
    "duration": 2165,
    "start_time": "2023-03-21T13:56:36.244Z"
   },
   {
    "duration": 977,
    "start_time": "2023-03-21T13:56:38.411Z"
   },
   {
    "duration": 128,
    "start_time": "2023-03-21T13:56:39.389Z"
   },
   {
    "duration": 0,
    "start_time": "2023-03-21T13:56:39.519Z"
   },
   {
    "duration": 0,
    "start_time": "2023-03-21T13:56:39.520Z"
   },
   {
    "duration": 3,
    "start_time": "2023-03-21T14:03:04.828Z"
   },
   {
    "duration": 134,
    "start_time": "2023-03-21T14:06:28.922Z"
   },
   {
    "duration": 172,
    "start_time": "2023-03-21T14:08:58.630Z"
   },
   {
    "duration": 363,
    "start_time": "2023-03-21T14:09:20.549Z"
   },
   {
    "duration": 28,
    "start_time": "2023-03-21T14:09:25.147Z"
   },
   {
    "duration": 696,
    "start_time": "2023-03-21T14:09:28.428Z"
   },
   {
    "duration": 9,
    "start_time": "2023-03-21T14:09:36.359Z"
   },
   {
    "duration": 9,
    "start_time": "2023-03-21T14:10:01.888Z"
   },
   {
    "duration": 9,
    "start_time": "2023-03-21T14:10:06.857Z"
   },
   {
    "duration": 10,
    "start_time": "2023-03-21T14:10:30.222Z"
   },
   {
    "duration": 3,
    "start_time": "2023-03-21T14:10:46.230Z"
   },
   {
    "duration": 4,
    "start_time": "2023-03-21T14:10:51.979Z"
   },
   {
    "duration": 562,
    "start_time": "2023-03-21T14:11:25.722Z"
   },
   {
    "duration": 687,
    "start_time": "2023-03-21T14:11:43.322Z"
   },
   {
    "duration": 499,
    "start_time": "2023-03-21T14:14:28.928Z"
   },
   {
    "duration": 228,
    "start_time": "2023-03-21T14:15:38.884Z"
   },
   {
    "duration": 1024,
    "start_time": "2023-03-21T14:15:47.178Z"
   },
   {
    "duration": 4,
    "start_time": "2023-03-21T14:15:55.874Z"
   },
   {
    "duration": 4,
    "start_time": "2023-03-21T14:15:57.897Z"
   },
   {
    "duration": 522,
    "start_time": "2023-03-21T14:16:02.290Z"
   },
   {
    "duration": 633,
    "start_time": "2023-03-21T14:16:07.262Z"
   },
   {
    "duration": 3,
    "start_time": "2023-03-21T14:19:58.432Z"
   },
   {
    "duration": 11,
    "start_time": "2023-03-21T14:20:24.933Z"
   },
   {
    "duration": 24,
    "start_time": "2023-03-21T14:24:34.291Z"
   },
   {
    "duration": 1543,
    "start_time": "2023-03-22T12:43:49.236Z"
   },
   {
    "duration": 25114,
    "start_time": "2023-03-22T12:43:50.782Z"
   },
   {
    "duration": 90,
    "start_time": "2023-03-22T12:44:15.898Z"
   },
   {
    "duration": 5323,
    "start_time": "2023-03-22T12:44:15.990Z"
   },
   {
    "duration": 3,
    "start_time": "2023-03-22T12:44:21.315Z"
   },
   {
    "duration": 5099,
    "start_time": "2023-03-22T12:44:21.320Z"
   },
   {
    "duration": 3978,
    "start_time": "2023-03-22T12:44:26.421Z"
   },
   {
    "duration": 1703,
    "start_time": "2023-03-22T12:44:30.401Z"
   },
   {
    "duration": 384,
    "start_time": "2023-03-22T12:44:32.106Z"
   },
   {
    "duration": 940,
    "start_time": "2023-03-22T12:44:32.492Z"
   },
   {
    "duration": 4928,
    "start_time": "2023-03-22T12:44:33.489Z"
   },
   {
    "duration": 3574,
    "start_time": "2023-03-22T12:44:38.419Z"
   },
   {
    "duration": 2305,
    "start_time": "2023-03-22T12:44:41.994Z"
   },
   {
    "duration": 2797,
    "start_time": "2023-03-22T12:44:44.301Z"
   },
   {
    "duration": 3106,
    "start_time": "2023-03-22T12:44:47.100Z"
   },
   {
    "duration": 32,
    "start_time": "2023-03-22T12:44:50.208Z"
   },
   {
    "duration": 3,
    "start_time": "2023-03-22T12:44:50.291Z"
   },
   {
    "duration": 1839,
    "start_time": "2023-03-22T12:44:50.295Z"
   },
   {
    "duration": 467,
    "start_time": "2023-03-22T12:44:52.136Z"
   },
   {
    "duration": 88,
    "start_time": "2023-03-22T12:44:52.605Z"
   },
   {
    "duration": 328,
    "start_time": "2023-03-22T12:44:52.695Z"
   },
   {
    "duration": 83,
    "start_time": "2023-03-22T12:44:53.025Z"
   },
   {
    "duration": 997,
    "start_time": "2023-03-22T12:44:53.110Z"
   },
   {
    "duration": 9,
    "start_time": "2023-03-22T12:44:54.110Z"
   },
   {
    "duration": 406,
    "start_time": "2023-03-22T12:44:54.188Z"
   },
   {
    "duration": 6,
    "start_time": "2023-03-22T12:44:54.596Z"
   },
   {
    "duration": 392,
    "start_time": "2023-03-22T12:44:54.605Z"
   },
   {
    "duration": 290,
    "start_time": "2023-03-22T12:44:54.999Z"
   },
   {
    "duration": 2225,
    "start_time": "2023-03-22T12:44:55.291Z"
   },
   {
    "duration": 998,
    "start_time": "2023-03-22T12:44:57.518Z"
   },
   {
    "duration": 2819,
    "start_time": "2023-03-22T12:44:58.518Z"
   },
   {
    "duration": 6,
    "start_time": "2023-03-22T12:45:01.339Z"
   },
   {
    "duration": 712,
    "start_time": "2023-03-22T12:45:01.390Z"
   },
   {
    "duration": 3679,
    "start_time": "2023-03-22T12:45:02.109Z"
   },
   {
    "duration": 1402,
    "start_time": "2023-03-22T12:45:05.789Z"
   },
   {
    "duration": 4,
    "start_time": "2023-03-22T12:45:07.193Z"
   },
   {
    "duration": 410,
    "start_time": "2023-03-22T12:45:07.199Z"
   },
   {
    "duration": 2105,
    "start_time": "2023-03-22T12:45:07.611Z"
   },
   {
    "duration": 1206,
    "start_time": "2023-03-22T12:45:09.718Z"
   },
   {
    "duration": 6773,
    "start_time": "2023-03-22T12:45:10.927Z"
   },
   {
    "duration": 10,
    "start_time": "2023-03-22T12:45:17.704Z"
   },
   {
    "duration": 708,
    "start_time": "2023-03-22T12:45:17.716Z"
   },
   {
    "duration": 362,
    "start_time": "2023-03-22T12:45:18.426Z"
   },
   {
    "duration": 33,
    "start_time": "2023-03-22T12:45:18.790Z"
   },
   {
    "duration": 936,
    "start_time": "2023-03-22T12:45:18.825Z"
   },
   {
    "duration": 5,
    "start_time": "2023-03-22T12:45:19.787Z"
   },
   {
    "duration": 6,
    "start_time": "2023-03-22T12:45:19.794Z"
   },
   {
    "duration": 928,
    "start_time": "2023-03-22T12:45:19.802Z"
   },
   {
    "duration": 864,
    "start_time": "2023-03-22T12:45:20.732Z"
   },
   {
    "duration": 146,
    "start_time": "2023-03-22T12:45:21.597Z"
   },
   {
    "duration": 0,
    "start_time": "2023-03-22T12:45:21.745Z"
   },
   {
    "duration": 0,
    "start_time": "2023-03-22T12:45:21.747Z"
   },
   {
    "duration": 0,
    "start_time": "2023-03-22T12:45:21.748Z"
   },
   {
    "duration": 23,
    "start_time": "2023-03-22T13:14:07.137Z"
   },
   {
    "duration": 16,
    "start_time": "2023-03-22T13:22:55.997Z"
   },
   {
    "duration": 2039,
    "start_time": "2023-03-22T13:26:02.556Z"
   },
   {
    "duration": 9,
    "start_time": "2023-03-22T13:26:11.317Z"
   },
   {
    "duration": 11,
    "start_time": "2023-03-22T13:26:13.405Z"
   },
   {
    "duration": 11,
    "start_time": "2023-03-22T13:28:04.933Z"
   },
   {
    "duration": 3,
    "start_time": "2023-03-22T13:28:33.059Z"
   },
   {
    "duration": 3680,
    "start_time": "2023-03-22T13:29:31.414Z"
   },
   {
    "duration": 863,
    "start_time": "2023-03-22T13:29:48.325Z"
   },
   {
    "duration": 8,
    "start_time": "2023-03-22T13:36:53.825Z"
   },
   {
    "duration": 3,
    "start_time": "2023-03-22T13:36:55.715Z"
   },
   {
    "duration": 3399,
    "start_time": "2023-03-22T13:36:57.019Z"
   },
   {
    "duration": 690,
    "start_time": "2023-03-22T13:37:02.019Z"
   },
   {
    "duration": 16,
    "start_time": "2023-03-22T13:39:35.983Z"
   },
   {
    "duration": 3,
    "start_time": "2023-03-22T13:39:36.793Z"
   },
   {
    "duration": 2579,
    "start_time": "2023-03-22T13:39:37.395Z"
   },
   {
    "duration": 0,
    "start_time": "2023-03-22T13:39:39.976Z"
   },
   {
    "duration": 609,
    "start_time": "2023-03-22T13:39:51.279Z"
   },
   {
    "duration": 3,
    "start_time": "2023-03-22T13:41:32.054Z"
   },
   {
    "duration": 3,
    "start_time": "2023-03-22T13:42:48.330Z"
   },
   {
    "duration": 4,
    "start_time": "2023-03-22T13:42:49.444Z"
   },
   {
    "duration": 3114,
    "start_time": "2023-03-22T13:42:50.826Z"
   },
   {
    "duration": 11,
    "start_time": "2023-03-22T13:42:54.981Z"
   },
   {
    "duration": 5,
    "start_time": "2023-03-22T13:44:56.250Z"
   },
   {
    "duration": 463,
    "start_time": "2023-03-22T13:44:56.257Z"
   },
   {
    "duration": 8,
    "start_time": "2023-03-22T13:44:56.721Z"
   },
   {
    "duration": 1780,
    "start_time": "2023-03-22T13:44:56.732Z"
   },
   {
    "duration": 3,
    "start_time": "2023-03-22T13:44:58.514Z"
   },
   {
    "duration": 1869,
    "start_time": "2023-03-22T13:44:58.519Z"
   },
   {
    "duration": 1607,
    "start_time": "2023-03-22T13:45:00.390Z"
   },
   {
    "duration": 951,
    "start_time": "2023-03-22T13:45:01.998Z"
   },
   {
    "duration": 163,
    "start_time": "2023-03-22T13:45:02.951Z"
   },
   {
    "duration": 438,
    "start_time": "2023-03-22T13:45:03.115Z"
   },
   {
    "duration": 1368,
    "start_time": "2023-03-22T13:45:03.554Z"
   },
   {
    "duration": 1845,
    "start_time": "2023-03-22T13:45:04.924Z"
   },
   {
    "duration": 2218,
    "start_time": "2023-03-22T13:45:06.770Z"
   },
   {
    "duration": 2101,
    "start_time": "2023-03-22T13:45:08.990Z"
   },
   {
    "duration": 3227,
    "start_time": "2023-03-22T13:45:11.093Z"
   },
   {
    "duration": 80,
    "start_time": "2023-03-22T13:45:14.322Z"
   },
   {
    "duration": 1021,
    "start_time": "2023-03-22T13:45:14.404Z"
   },
   {
    "duration": 7,
    "start_time": "2023-03-22T13:45:15.427Z"
   },
   {
    "duration": 5,
    "start_time": "2023-03-22T13:45:15.436Z"
   },
   {
    "duration": 2066,
    "start_time": "2023-03-22T13:45:15.442Z"
   },
   {
    "duration": 444,
    "start_time": "2023-03-22T13:45:17.509Z"
   },
   {
    "duration": 7,
    "start_time": "2023-03-22T13:45:17.955Z"
   },
   {
    "duration": 3,
    "start_time": "2023-03-22T13:45:17.964Z"
   },
   {
    "duration": 2135,
    "start_time": "2023-03-22T13:45:17.969Z"
   },
   {
    "duration": 523,
    "start_time": "2023-03-22T13:45:20.106Z"
   },
   {
    "duration": 3,
    "start_time": "2023-03-22T13:45:20.631Z"
   },
   {
    "duration": 5,
    "start_time": "2023-03-22T13:45:20.688Z"
   },
   {
    "duration": 2903,
    "start_time": "2023-03-22T13:45:20.695Z"
   },
   {
    "duration": 18,
    "start_time": "2023-03-22T13:45:23.600Z"
   },
   {
    "duration": 69,
    "start_time": "2023-03-22T13:45:23.620Z"
   },
   {
    "duration": 1,
    "start_time": "2023-03-22T13:45:23.691Z"
   }
  ],
  "colab": {
   "name": "PySparkSprint.ipynb",
   "provenance": []
  },
  "kernelspec": {
   "display_name": "Python 3 (ipykernel)",
   "language": "python",
   "name": "python3"
  },
  "language_info": {
   "codemirror_mode": {
    "name": "ipython",
    "version": 3
   },
   "file_extension": ".py",
   "mimetype": "text/x-python",
   "name": "python",
   "nbconvert_exporter": "python",
   "pygments_lexer": "ipython3",
   "version": "3.9.5"
  },
  "toc": {
   "base_numbering": 1,
   "nav_menu": {},
   "number_sections": true,
   "sideBar": true,
   "skip_h1_title": true,
   "title_cell": "Table of Contents",
   "title_sidebar": "Contents",
   "toc_cell": false,
   "toc_position": {},
   "toc_section_display": true,
   "toc_window_display": false
  }
 },
 "nbformat": 4,
 "nbformat_minor": 5
}